{
 "cells": [
  {
   "cell_type": "code",
   "execution_count": 16,
   "metadata": {},
   "outputs": [],
   "source": [
    "import sys\n",
    "import pandas as pd\n",
    "import collections \n",
    "import os\n",
    "import numpy as np\n",
    "from itertools import chain\n",
    "from itertools import combinations\n",
    "sys.path.append('/home/jkuettel/NLP_spark/src')\n",
    "sys.path.append('/home/jkuettel/NLP_spark')\n",
    "from src.experiment_utils.helper_classes import token, span, repository\n",
    "from definitions import ROOT_DIR\n",
    "from pyannote.core import Segment\n",
    "\n",
    "\n",
    "dataframe_dir = os.path.join(ROOT_DIR,'data/02_processed_to_dataframe', 'preprocessed_dataframe.pkl')\n",
    "stat_df = pd.read_pickle(dataframe_dir)\n",
    "\n",
    "#%%\n",
    "test_tags = stat_df.loc['EU_32008R1099_Title_0_Chapter_0_Section_0_Article_09']\n",
    "test_tags2 = stat_df.loc['EU_32006L0032_Title_0_Chapter_1_Section_0_Article_03']\n",
    "\n",
    "from pygamma_agreement import Continuum\n",
    "from pygamma_agreement import CombinedCategoricalDissimilarity\n",
    "annotators = ['Alisha', 'Onerva']\n"
   ]
  },
  {
   "cell_type": "code",
   "execution_count": 4,
   "metadata": {},
   "outputs": [],
   "source": [
    "    \n",
    "dataframe_dir = os.path.join(ROOT_DIR,'data/02_processed_to_dataframe', 'preprocessed_dataframe.pkl')\n",
    "#dataframe_dir = \"/home/jkuettel/NLP_spark/data/02_processed_to_dataframe/preprocessed_dataframe.pkl\"\n",
    "\n",
    "stat_df = pd.read_pickle(dataframe_dir)"
   ]
  },
  {
   "cell_type": "code",
   "execution_count": 3,
   "metadata": {},
   "outputs": [
    {
     "ename": "SyntaxError",
     "evalue": "unexpected EOF while parsing (<ipython-input-3-a7167850a3a1>, line 1)",
     "output_type": "error",
     "traceback": [
      "\u001b[0;36m  File \u001b[0;32m\"<ipython-input-3-a7167850a3a1>\"\u001b[0;36m, line \u001b[0;32m1\u001b[0m\n\u001b[0;31m    stat_df.head(\u001b[0m\n\u001b[0m                 ^\u001b[0m\n\u001b[0;31mSyntaxError\u001b[0m\u001b[0;31m:\u001b[0m unexpected EOF while parsing\n"
     ]
    }
   ],
   "source": []
  },
  {
   "cell_type": "code",
   "execution_count": null,
   "metadata": {},
   "outputs": [],
   "source": [
    "gold_tags = test_tags['Fride']\n",
    "prediciton_tags = test_tags['Onerva']\n",
    "gold_tokens = list(chain.from_iterable([x.tokens for x in gold_tags]))\n",
    "prediciton_tokens = list(chain.from_iterable([x.tokens for x in prediciton_tags]))\n",
    "common = collections.Counter(gold_tokens) & collections.Counter(prediciton_tokens)\n",
    "num_same = sum(common.values())\n",
    "\n"
   ]
  },
  {
   "cell_type": "code",
   "execution_count": null,
   "metadata": {},
   "outputs": [],
   "source": []
  },
  {
   "cell_type": "code",
   "execution_count": null,
   "metadata": {},
   "outputs": [],
   "source": [
    "print(num_same)\n",
    "print(len(prediciton_tokens))\n",
    "print(len(gold_tokens))"
   ]
  },
  {
   "cell_type": "code",
   "execution_count": null,
   "metadata": {},
   "outputs": [],
   "source": [
    "precision = 1.0 * num_same / len(prediciton_tokens)\n",
    "recall = 1.0 * num_same / len(gold_tokens)\n",
    "f1 = (2*precision * recall) / (precision + recall)\n",
    "print(precision)\n",
    "print(recall)\n",
    "print(f1)\n"
   ]
  },
  {
   "cell_type": "markdown",
   "metadata": {},
   "source": [
    "## Implementation of F1 score based on Gamma Algiment"
   ]
  },
  {
   "cell_type": "code",
   "execution_count": 18,
   "metadata": {},
   "outputs": [],
   "source": [
    "continuum = Continuum()"
   ]
  },
  {
   "cell_type": "code",
   "execution_count": 19,
   "metadata": {},
   "outputs": [],
   "source": [
    "continuum = Continuum()\n",
    "\n",
    "continuum.add('X', Segment(1,3), 'a')\n",
    "continuum.add('X', Segment(4,6), 'a')\n",
    "\n",
    "#continuum.add('Y', Segment(1,6), 'a')"
   ]
  },
  {
   "cell_type": "code",
   "execution_count": 20,
   "metadata": {},
   "outputs": [
    {
     "data": {
      "image/png": "[encoded data removed]",
      "text/plain": [
       "<pygamma_agreement.continuum.Continuum at 0x7f4c6322ebd0>"
      ]
     },
     "execution_count": 20,
     "metadata": {},
     "output_type": "execute_result"
    }
   ],
   "source": [
    "\n",
    "continuum"
   ]
  },
  {
   "cell_type": "code",
   "execution_count": 21,
   "metadata": {},
   "outputs": [
    {
     "ename": "AssertionError",
     "evalue": "",
     "output_type": "error",
     "traceback": [
      "\u001b[0;31m---------------------------------------------------------------------------\u001b[0m",
      "\u001b[0;31mAssertionError\u001b[0m                            Traceback (most recent call last)",
      "\u001b[0;32m<ipython-input-21-72b85f1de050>\u001b[0m in \u001b[0;36m<module>\u001b[0;34m\u001b[0m\n\u001b[1;32m      1\u001b[0m \u001b[0mdissimilarity\u001b[0m \u001b[0;34m=\u001b[0m \u001b[0mCombinedCategoricalDissimilarity\u001b[0m\u001b[0;34m(\u001b[0m\u001b[0mcontinuum\u001b[0m\u001b[0;34m.\u001b[0m\u001b[0mcategories\u001b[0m\u001b[0;34m)\u001b[0m\u001b[0;34m\u001b[0m\u001b[0;34m\u001b[0m\u001b[0m\n\u001b[0;32m----> 2\u001b[0;31m \u001b[0mbest_alignment\u001b[0m \u001b[0;34m=\u001b[0m \u001b[0mcontinuum\u001b[0m\u001b[0;34m.\u001b[0m\u001b[0mget_best_alignment\u001b[0m\u001b[0;34m(\u001b[0m\u001b[0mdissimilarity\u001b[0m\u001b[0;34m)\u001b[0m\u001b[0;34m\u001b[0m\u001b[0;34m\u001b[0m\u001b[0m\n\u001b[0m\u001b[1;32m      3\u001b[0m \u001b[0mbest_alignment\u001b[0m\u001b[0;34m\u001b[0m\u001b[0;34m\u001b[0m\u001b[0m\n",
      "\u001b[0;32m~/miniconda3/envs/nlp_spark/lib/python3.7/site-packages/pygamma_agreement/continuum.py\u001b[0m in \u001b[0;36mget_best_alignment\u001b[0;34m(self, dissimilarity)\u001b[0m\n\u001b[1;32m    544\u001b[0m         \u001b[0;32mif\u001b[0m \u001b[0mself\u001b[0m\u001b[0;34m.\u001b[0m\u001b[0m_chosen_alignments\u001b[0m \u001b[0;32mis\u001b[0m \u001b[0;32mNone\u001b[0m \u001b[0;32mor\u001b[0m \u001b[0mself\u001b[0m\u001b[0;34m.\u001b[0m\u001b[0m_alignments_disorders\u001b[0m \u001b[0;32mis\u001b[0m \u001b[0;32mNone\u001b[0m\u001b[0;34m:\u001b[0m\u001b[0;34m\u001b[0m\u001b[0;34m\u001b[0m\u001b[0m\n\u001b[1;32m    545\u001b[0m             \u001b[0;32mif\u001b[0m \u001b[0mdissimilarity\u001b[0m \u001b[0;32mis\u001b[0m \u001b[0;32mnot\u001b[0m \u001b[0;32mNone\u001b[0m\u001b[0;34m:\u001b[0m\u001b[0;34m\u001b[0m\u001b[0;34m\u001b[0m\u001b[0m\n\u001b[0;32m--> 546\u001b[0;31m                 \u001b[0mself\u001b[0m\u001b[0;34m.\u001b[0m\u001b[0mcompute_disorders\u001b[0m\u001b[0;34m(\u001b[0m\u001b[0mdissimilarity\u001b[0m\u001b[0;34m)\u001b[0m\u001b[0;34m\u001b[0m\u001b[0;34m\u001b[0m\u001b[0m\n\u001b[0m\u001b[1;32m    547\u001b[0m             \u001b[0;32melse\u001b[0m\u001b[0;34m:\u001b[0m\u001b[0;34m\u001b[0m\u001b[0;34m\u001b[0m\u001b[0m\n\u001b[1;32m    548\u001b[0m                 raise ValueError(\"Best alignment disorder hasn't been computed, \"\n",
      "\u001b[0;32m~/miniconda3/envs/nlp_spark/lib/python3.7/site-packages/pygamma_agreement/continuum.py\u001b[0m in \u001b[0;36mcompute_disorders\u001b[0;34m(self, dissimilarity)\u001b[0m\n\u001b[1;32m    492\u001b[0m     \u001b[0;32mdef\u001b[0m \u001b[0mcompute_disorders\u001b[0m\u001b[0;34m(\u001b[0m\u001b[0mself\u001b[0m\u001b[0;34m,\u001b[0m \u001b[0mdissimilarity\u001b[0m\u001b[0;34m:\u001b[0m \u001b[0mAbstractDissimilarity\u001b[0m\u001b[0;34m)\u001b[0m\u001b[0;34m:\u001b[0m\u001b[0;34m\u001b[0m\u001b[0;34m\u001b[0m\u001b[0m\n\u001b[1;32m    493\u001b[0m         \u001b[0;32massert\u001b[0m \u001b[0misinstance\u001b[0m\u001b[0;34m(\u001b[0m\u001b[0mdissimilarity\u001b[0m\u001b[0;34m,\u001b[0m \u001b[0mAbstractDissimilarity\u001b[0m\u001b[0;34m)\u001b[0m\u001b[0;34m\u001b[0m\u001b[0;34m\u001b[0m\u001b[0m\n\u001b[0;32m--> 494\u001b[0;31m         \u001b[0;32massert\u001b[0m \u001b[0mlen\u001b[0m\u001b[0;34m(\u001b[0m\u001b[0mself\u001b[0m\u001b[0;34m.\u001b[0m\u001b[0mannotators\u001b[0m\u001b[0;34m)\u001b[0m \u001b[0;34m>=\u001b[0m \u001b[0;36m2\u001b[0m\u001b[0;34m\u001b[0m\u001b[0;34m\u001b[0m\u001b[0m\n\u001b[0m\u001b[1;32m    495\u001b[0m \u001b[0;34m\u001b[0m\u001b[0m\n\u001b[1;32m    496\u001b[0m         \u001b[0mdisorder_args\u001b[0m \u001b[0;34m=\u001b[0m \u001b[0mdissimilarity\u001b[0m\u001b[0;34m.\u001b[0m\u001b[0mbuild_args\u001b[0m\u001b[0;34m(\u001b[0m\u001b[0mself\u001b[0m\u001b[0;34m)\u001b[0m\u001b[0;34m\u001b[0m\u001b[0;34m\u001b[0m\u001b[0m\n",
      "\u001b[0;31mAssertionError\u001b[0m: "
     ]
    }
   ],
   "source": [
    "dissimilarity = CombinedCategoricalDissimilarity(continuum.categories)\n",
    "best_alignment = continuum.get_best_alignment(dissimilarity)\n",
    "best_alignment\n"
   ]
  },
  {
   "cell_type": "code",
   "execution_count": 5,
   "metadata": {},
   "outputs": [],
   "source": [
    "from pygamma_agreement import Continuum, CombinedCategoricalDissimilarity\n",
    "continuum = Continuum()\n",
    "\n",
    "continuum.add('X', Segment(1,3), 'a')\n",
    "continuum.add('X', Segment(2,6), 'b')\n",
    "continuum.add('X', Segment(1,10), 'c')\n",
    "\n",
    "continuum.add('Y', Segment(2,4), 'a')\n",
    "continuum.add('Y', Segment(3,7), 'b')\n",
    "continuum.add('Y', Segment(3,14), 'c')\n",
    "continuum.add('Y', Segment(15,16), 'd')\n"
   ]
  },
  {
   "cell_type": "code",
   "execution_count": 6,
   "metadata": {},
   "outputs": [
    {
     "data": {
      "image/png": "[encoded data removed]",
      "text/plain": [
       "<pygamma_agreement.continuum.Continuum at 0x7f363c77d050>"
      ]
     },
     "execution_count": 6,
     "metadata": {},
     "output_type": "execute_result"
    }
   ],
   "source": [
    "continuum"
   ]
  },
  {
   "cell_type": "code",
   "execution_count": 7,
   "metadata": {},
   "outputs": [
    {
     "data": {
      "image/png": "[encoded data removed]",
      "text/plain": [
       "<pygamma_agreement.alignment.Alignment at 0x7f347cb7a550>"
      ]
     },
     "execution_count": 7,
     "metadata": {},
     "output_type": "execute_result"
    }
   ],
   "source": [
    "dissimilarity = CombinedCategoricalDissimilarity(continuum.categories)\n",
    "best_alignment = continuum.get_best_alignment(dissimilarity)\n",
    "best_alignment"
   ]
  },
  {
   "cell_type": "markdown",
   "metadata": {},
   "source": [
    "### Function to create tuples"
   ]
  },
  {
   "cell_type": "code",
   "execution_count": 2,
   "metadata": {},
   "outputs": [],
   "source": [
    "from pygamma_agreement import Continuum, CombinedCategoricalDissimilarity\n",
    "\n",
    "def create_tuples_gamma(tag_list, category_list, alpha, beta,  cat_dissimilarity_matrix):\n",
    "    continuum = Continuum()\n",
    "    for taglist_tag in tag_list:\n",
    "        continuum.add(taglist_tag.annotator, Segment(taglist_tag.start, taglist_tag.stop), taglist_tag.tag_)\n",
    "    dissim = CombinedCategoricalDissimilarity(category_list, alpha=alpha,   beta=beta, cat_dissimilarity_matrix = cat_dissimilarity_matrix)\n",
    "    best_alignment = continuum.get_best_alignment(dissim)\n",
    "    \n",
    "    #now retrieve tagtuples\n",
    "    total_tuples = []\n",
    "\n",
    "    for un in best_alignment.unitary_alignments: #loop over all the unitarya aligments \n",
    "        list_tuple = []\n",
    "        for n_tuple in un._n_tuple: #loop over all the units in unitary aligment          \n",
    "            if n_tuple[1] == None: #in case the unit is a epty unit, create a None-tag\n",
    "                tuple_tag = tag(annotator = n_tuple[0])\n",
    "                \n",
    "            else: #in case the unit is not empty, find the tag in taglist that corresponds to this unit\n",
    "                matches = [tag_ for tag_ in tag_list if tag_.annotator == n_tuple[0] and tag_.tag_ == n_tuple[1].annotation and tag_.start == n_tuple[1].segment.start and tag_.stop == n_tuple[1].segment.end]\n",
    "                if len(matches) != 1:\n",
    "                    raise ValueError('fuck')\n",
    "                    \n",
    "                tuple_tag = matches[0] #list 'matches' only contains one element\n",
    "            list_tuple.append(tuple_tag)\n",
    "        total_tuples.append((tuple(list_tuple))) #create tuple out of taglist and append to total tuples\n",
    "    return total_tuples"
   ]
  },
  {
   "cell_type": "code",
   "execution_count": 3,
   "metadata": {},
   "outputs": [],
   "source": [
    "from tag_matching import matching_methods\n",
    "from scoring_functions import scoring_metrics\n",
    "\n",
    "def get_score(tag_list, tuple_algo, scoring_metric, **optional_tuple_properties):\n",
    "    \"\"\"\n",
    "    Calculates scoring metric based on tuple algo of taglist. Optional tuple properties related to tuple matching, e.g gamma\n",
    "\n",
    "    \"\"\"\n",
    "    if not isinstance(scoring_metric, str):\n",
    "        raise ValueError('scoring metric must be a string')\n",
    "\n",
    "    if scoring_metric == 'pygamma-score':\n",
    "        score = unified_gamma(tag_list, **optional_tuple_properties)\n",
    "        return score\n",
    "\n",
    "    #create tuples:\n",
    "    else:\n",
    "        if scoring_metric not in scoring_metrics:\n",
    "            raise ValueError('This metric does not exist')\n",
    "\n",
    "        annotators = set([tag.annotator for tag in tag_list])\n",
    "        print(annotators)\n",
    "        score = 0\n",
    "\n",
    "        for annotator_pair in combinations(annotators,2):\n",
    "            tag_list_annotator_pair = [tag for tag in tag_list if tag.annotator in annotator_pair]\n",
    "            tag_tuples = matching_methods[tuple_algo](tag_list_annotator_pair, **optional_tuple_properties)\n",
    "            score += scoring_metrics[scoring_metric] (tag_tuples)\n",
    "            print(scoring_metrics[scoring_metric] (tag_tuples))\n",
    "        print('len: ', len(list(combinations(annotators,2))))\n",
    "        return score/len(list(combinations(annotators,2)))\n"
   ]
  },
  {
   "cell_type": "code",
   "execution_count": 15,
   "metadata": {},
   "outputs": [],
   "source": []
  },
  {
   "cell_type": "code",
   "execution_count": 4,
   "metadata": {},
   "outputs": [
    {
     "name": "stdout",
     "output_type": "stream",
     "text": [
      "(1, 2)\n",
      "(1, 3)\n",
      "(2, 3)\n"
     ]
    }
   ],
   "source": [
    "test_set = set([1,2,3])\n",
    "for ls in combinations(test_set,2):\n",
    "    print(ls)"
   ]
  },
  {
   "cell_type": "markdown",
   "metadata": {},
   "source": [
    "### testing the function"
   ]
  },
  {
   "cell_type": "code",
   "execution_count": 5,
   "metadata": {
    "tags": []
   },
   "outputs": [],
   "source": [
    "from src.d03_inter_annotator_agreement.scoring_functions import create_scoring_matrix\n",
    "from src.d03_inter_annotator_agreement.inter_annotator_agremment import keep_valid_anotations\n",
    "df_annotation_marker = 4\n",
    "category_list, cat_dissimilarity_matrix = create_scoring_matrix('/home/jkuettel/NLP_spark/src/experiment_utils/tag_set.json',  soft_layer_dissimilarity = True)\n",
    "annotations = test_tags[df_annotation_marker:]\n",
    "valid_annotations = keep_valid_anotations(annotations)\n",
    "\n",
    "\n",
    "valid_annotations_flat = list(chain.from_iterable(valid_annotations))\n",
    "\n",
    "\n",
    "alpha = 1\n",
    "beta = 1\n",
    "\n",
    "\n"
   ]
  },
  {
   "cell_type": "code",
   "execution_count": 6,
   "metadata": {},
   "outputs": [
    {
     "data": {
      "text/plain": [
       "Policy                                                     NaN\n",
       "Text         article 9\\r\\nrenewable energy statistics and f...\n",
       "Tokens       [start:0 stop:7 text:article tag_count:0, star...\n",
       "Curation     [annotator:curation layer:Instrumenttypes type...\n",
       "Onerva       [annotator:Onerva layer:Policydesigncharacteri...\n",
       "Fride        [annotator:Fride layer:Policydesigncharacteris...\n",
       "Lynn                                                       NaN\n",
       "Fabian                                                     NaN\n",
       "Sebastian                                                  NaN\n",
       "Alisha       [annotator:Alisha layer:Instrumenttypes type:I...\n",
       "Name: EU_32008R1099_Title_0_Chapter_0_Section_0_Article_09, dtype: object"
      ]
     },
     "execution_count": 6,
     "metadata": {},
     "output_type": "execute_result"
    }
   ],
   "source": [
    "test_tags"
   ]
  },
  {
   "cell_type": "code",
   "execution_count": 7,
   "metadata": {},
   "outputs": [
    {
     "name": "stdout",
     "output_type": "stream",
     "text": [
      "{'Onerva', 'Alisha', 'Fride'}\n",
      "0\n",
      "0.15789473684210525\n",
      "0.06557377049180328\n",
      "len:  3\n"
     ]
    },
    {
     "data": {
      "text/plain": [
       "0.07448950244463619"
      ]
     },
     "execution_count": 7,
     "metadata": {},
     "output_type": "execute_result"
    }
   ],
   "source": [
    "from src.d03_inter_annotator_agreement.scoring_functions import unified_gamma, create_scoring_matrix, check_symmetric \n",
    "category_list, cat_dissimilarity_matrix = create_scoring_matrix('/home/jkuettel/NLP_spark/src/experiment_utils/tag_set.json',  soft_layer_dissimilarity = True)\n",
    "alpha = 1\n",
    "beta = 1  \n",
    "get_score(valid_annotations_flat, tuple_algo = 'pygamma', scoring_metric='f1_exact', alpha = alpha, beta = beta, category_list = category_list, cat_dissimilarity_matrix = cat_dissimilarity_matrix)"
   ]
  },
  {
   "cell_type": "code",
   "execution_count": 8,
   "metadata": {},
   "outputs": [
    {
     "name": "stdout",
     "output_type": "stream",
     "text": [
      "{'Onerva', 'Alisha', 'Fride'}\n",
      "0\n",
      "0.15789473684210525\n",
      "0.06557377049180328\n",
      "len:  3\n",
      "0.07448950244463619\n"
     ]
    }
   ],
   "source": [
    "print(get_score(valid_annotations_flat, tuple_algo = 'pygamma', scoring_metric='f1_exact'))"
   ]
  },
  {
   "cell_type": "code",
   "execution_count": 10,
   "metadata": {},
   "outputs": [
    {
     "data": {
      "text/plain": [
       "0.0594384806536945"
      ]
     },
     "execution_count": 10,
     "metadata": {},
     "output_type": "execute_result"
    }
   ],
   "source": [
    "get_score(valid_annotations_flat, tuple_algo = 'pygamma', scoring_metric='pygamma-score')"
   ]
  },
  {
   "cell_type": "code",
   "execution_count": 9,
   "metadata": {},
   "outputs": [
    {
     "name": "stdout",
     "output_type": "stream",
     "text": [
      "yes\n"
     ]
    }
   ],
   "source": [
    "if 'hello' in test_dict:\n",
    "    print('yes')"
   ]
  },
  {
   "cell_type": "code",
   "execution_count": null,
   "metadata": {},
   "outputs": [],
   "source": []
  },
  {
   "cell_type": "code",
   "execution_count": null,
   "metadata": {},
   "outputs": [],
   "source": []
  },
  {
   "cell_type": "code",
   "execution_count": null,
   "metadata": {},
   "outputs": [],
   "source": []
  },
  {
   "cell_type": "code",
   "execution_count": null,
   "metadata": {},
   "outputs": [],
   "source": []
  },
  {
   "cell_type": "code",
   "execution_count": 16,
   "metadata": {},
   "outputs": [],
   "source": [
    "def weird_print(a,b):\n",
    "    print(a)\n",
    "    print(b)\n",
    "    return a*b\n",
    "def better_print(a,b):\n",
    "    print('this is a: ', a)\n",
    "    print('this is b: ', b)\n",
    "    return a*b"
   ]
  },
  {
   "cell_type": "code",
   "execution_count": 20,
   "metadata": {},
   "outputs": [],
   "source": [
    "disatch = {\n",
    "    'basic': weird_print,\n",
    "    'better': better_print,\n",
    "\n",
    "    \n",
    "}"
   ]
  },
  {
   "cell_type": "code",
   "execution_count": 22,
   "metadata": {},
   "outputs": [
    {
     "name": "stdout",
     "output_type": "stream",
     "text": [
      "this is a:  2\n",
      "this is b:  3\n",
      "6\n"
     ]
    }
   ],
   "source": [
    "print(disatch['better'](2,3))\n",
    "\n"
   ]
  },
  {
   "cell_type": "code",
   "execution_count": 21,
   "metadata": {},
   "outputs": [],
   "source": [
    "continuum = Continuum()\n",
    "\n",
    "continuum.add('X', Segment(1,3), 'a')\n",
    "continuum.add('X', Segment(2,6), 'b')\n",
    "continuum.add('X', Segment(1,10), 'c')\n",
    "\n",
    "continuum.add('Y', Segment(2,4), 'a')\n",
    "continuum.add('Y', Segment(3,7), 'b')\n",
    "continuum.add('Y', Segment(3,14), 'c')\n",
    "continuum.add('Y', Segment(15,16), 'd')\n",
    "\n",
    "taglist =[]\n",
    "taglist.append(tag('s', type_, tag_, start, stop, text, tokens, rep)"
   ]
  },
  {
   "cell_type": "code",
   "execution_count": 23,
   "metadata": {},
   "outputs": [
    {
     "data": {
      "image/png": "[encoded data removed]",
      "text/plain": [
       "<pygamma_agreement.continuum.Continuum at 0x7efabebba790>"
      ]
     },
     "execution_count": 23,
     "metadata": {},
     "output_type": "execute_result"
    }
   ],
   "source": [
    "continuum"
   ]
  },
  {
   "cell_type": "code",
   "execution_count": 24,
   "metadata": {},
   "outputs": [
    {
     "data": {
      "image/png": "[encoded data removed]",
      "text/plain": [
       "<pygamma_agreement.alignment.Alignment at 0x7efabb309cd0>"
      ]
     },
     "execution_count": 24,
     "metadata": {},
     "output_type": "execute_result"
    }
   ],
   "source": [
    "dissimilarity = CombinedCategoricalDissimilarity(continuum.categories)\n",
    "best_alignment = continuum.get_best_alignment(dissimilarity)\n",
    "best_alignment"
   ]
  },
  {
   "cell_type": "code",
   "execution_count": 31,
   "metadata": {},
   "outputs": [
    {
     "name": "stdout",
     "output_type": "stream",
     "text": [
      "('X', Unit(segment=<Segment(1, 3)>, annotation='a'))\n",
      "('Y', Unit(segment=<Segment(2, 4)>, annotation='a'))\n",
      "('X', Unit(segment=<Segment(1, 10)>, annotation='c'))\n",
      "('Y', Unit(segment=<Segment(3, 14)>, annotation='c'))\n",
      "('X', Unit(segment=<Segment(2, 6)>, annotation='b'))\n",
      "('Y', Unit(segment=<Segment(3, 7)>, annotation='b'))\n",
      "('X', None)\n",
      "('Y', Unit(segment=<Segment(15, 16)>, annotation='d'))\n"
     ]
    }
   ],
   "source": [
    "dissimilarity = CombinedCategoricalDissimilarity(continuum.categories)\n",
    "best_alignment = continuum.get_best_alignment(dissimilarity)\n",
    "for un in best_alignment.unitary_alignments:\n",
    "    \n",
    "    for tuple in un._n_tuple:\n",
    "        print(tuple)\n",
    "\n"
   ]
  },
  {
   "cell_type": "code",
   "execution_count": null,
   "metadata": {},
   "outputs": [],
   "source": [
    "def F1_score(n_tuple):\n",
    "    \n"
   ]
  },
  {
   "cell_type": "code",
   "execution_count": 64,
   "metadata": {},
   "outputs": [
    {
     "data": {
      "text/plain": [
       "pygamma_agreement.continuum.Unit"
      ]
     },
     "execution_count": 64,
     "metadata": {},
     "output_type": "execute_result"
    }
   ],
   "source": [
    "un._n_tuple[0][1]\n"
   ]
  },
  {
   "cell_type": "code",
   "execution_count": null,
   "metadata": {},
   "outputs": [],
   "source": []
  },
  {
   "cell_type": "code",
   "execution_count": null,
   "metadata": {},
   "outputs": [],
   "source": []
  },
  {
   "cell_type": "code",
   "execution_count": 30,
   "metadata": {},
   "outputs": [
    {
     "data": {
      "text/plain": [
       "1097"
      ]
     },
     "execution_count": 30,
     "metadata": {},
     "output_type": "execute_result"
    }
   ],
   "source": [
    "\n",
    "sum(df_test['Tokens'].apply(len))"
   ]
  },
  {
   "cell_type": "code",
   "execution_count": 6,
   "metadata": {
    "tags": []
   },
   "outputs": [
    {
     "data": {
      "text/html": [
       "<div>\n",
       "<style scoped>\n",
       "    .dataframe tbody tr th:only-of-type {\n",
       "        vertical-align: middle;\n",
       "    }\n",
       "\n",
       "    .dataframe tbody tr th {\n",
       "        vertical-align: top;\n",
       "    }\n",
       "\n",
       "    .dataframe thead th {\n",
       "        text-align: right;\n",
       "    }\n",
       "</style>\n",
       "<table border=\"1\" class=\"dataframe\">\n",
       "  <thead>\n",
       "    <tr style=\"text-align: right;\">\n",
       "      <th></th>\n",
       "      <th>num_legs</th>\n",
       "      <th>num_wings</th>\n",
       "    </tr>\n",
       "  </thead>\n",
       "  <tbody>\n",
       "    <tr>\n",
       "      <th>fox</th>\n",
       "      <td>4</td>\n",
       "      <td>0</td>\n",
       "    </tr>\n",
       "    <tr>\n",
       "      <th>eagle</th>\n",
       "      <td>2</td>\n",
       "      <td>2</td>\n",
       "    </tr>\n",
       "  </tbody>\n",
       "</table>\n",
       "</div>"
      ],
      "text/plain": [
       "       num_legs  num_wings\n",
       "fox           4          0\n",
       "eagle         2          2"
      ]
     },
     "execution_count": 6,
     "metadata": {},
     "output_type": "execute_result"
    }
   ],
   "source": [
    "df = pd.DataFrame({'num_legs': [4, 2], 'num_wings': [0, 2]},\n",
    "                  index=['fox', 'eagle'])\n",
    "df"
   ]
  },
  {
   "cell_type": "code",
   "execution_count": 23,
   "metadata": {},
   "outputs": [
    {
     "name": "stdout",
     "output_type": "stream",
     "text": [
      "Pandas(Index='fox', num_legs=4, num_wings=0)\n",
      "Pandas(Index='eagle', num_legs=2, num_wings=2)\n"
     ]
    }
   ],
   "source": [
    "for row in df.itertuples():\n",
    "    print(row)"
   ]
  },
  {
   "cell_type": "code",
   "execution_count": 21,
   "metadata": {},
   "outputs": [],
   "source": [
    "\n",
    "\n",
    "continuum = Continuum()\n",
    "for annotator in annotators:\n",
    "    for tag in test_tags[annotator]:\n",
    "        continuum.add(annotator, Segment(tag.start, tag.stop), tag.tag_)"
   ]
  },
  {
   "cell_type": "code",
   "execution_count": 22,
   "metadata": {},
   "outputs": [
    {
     "data": {
      "image/png": "[encoded data removed]",
      "text/plain": [
       "<pygamma_agreement.continuum.Continuum at 0x7fdd07dbe590>"
      ]
     },
     "execution_count": 22,
     "metadata": {},
     "output_type": "execute_result"
    }
   ],
   "source": [
    "continuum"
   ]
  },
  {
   "cell_type": "code",
   "execution_count": 15,
   "metadata": {},
   "outputs": [
    {
     "name": "stdout",
     "output_type": "stream",
     "text": [
      "The gamma for that annotation is f0.21032585944345994\n"
     ]
    }
   ],
   "source": [
    "\n",
    "from pygamma_agreement import CombinedCategoricalDissimilarity\n",
    "\n",
    "dissim = CombinedCategoricalDissimilarity(list(continuum.categories))\n",
    "gamma_results = continuum.compute_gamma(dissim)\n",
    "print(f\"The gamma for that annotation is f{gamma_results.gamma}\")"
   ]
  },
  {
   "cell_type": "code",
   "execution_count": 7,
   "metadata": {},
   "outputs": [],
   "source": [
    "list_Fride = sorted(test_tags['Fride'], key=lambda x: x.start )\n",
    "list_Onerva = sorted(test_tags['Onerva'], key=lambda x: x.start)"
   ]
  },
  {
   "cell_type": "code",
   "execution_count": 8,
   "metadata": {},
   "outputs": [
    {
     "data": {
      "text/plain": [
       "[layer:Policydesigncharacteristics type:Compliance tag:Form_sanctioning start:12 stop:21 text:penalties,\n",
       " layer:Policydesigncharacteristics type:Actor tag:Authority_default start:23 stop:36 text:member states,\n",
       " layer:Instrumenttypes type:InstrumentType tag:RegulatoryInstr start:52 stop:57 text:rules,\n",
       " layer:Policydesigncharacteristics type:Compliance tag:Form_sanctioning start:61 stop:70 text:penalties,\n",
       " layer:Instrumenttypes type:InstrumentType tag:Unspecified start:186 stop:194 text:measures,\n",
       " layer:Policydesigncharacteristics type:Compliance tag:Form_sanctioning start:236 stop:245 text:penalties,\n",
       " layer:Policydesigncharacteristics type:Actor tag:Addressee_monitored start:308 stop:321 text:member states,\n",
       " layer:Policydesigncharacteristics type:Compliance tag:Form_monitoring start:328 stop:334 text:notify,\n",
       " layer:Policydesigncharacteristics type:Actor tag:Authority_monitoring start:357 stop:367 text:commission,\n",
       " layer:Policydesigncharacteristics type:Time tag:Time_Compliance start:371 stop:388 text:26 september 2008,\n",
       " layer:Policydesigncharacteristics type:Compliance tag:Form_monitoring start:399 stop:405 text:inform]"
      ]
     },
     "execution_count": 8,
     "metadata": {},
     "output_type": "execute_result"
    }
   ],
   "source": [
    "list_Onerva"
   ]
  },
  {
   "cell_type": "code",
   "execution_count": 9,
   "metadata": {},
   "outputs": [
    {
     "data": {
      "text/plain": [
       "[layer:Instrumenttypes type:InstrumentType tag:Unspecified start:12 stop:21 text:penalties,\n",
       " layer:Policydesigncharacteristics type:Compliance tag:Form_sanctioning start:12 stop:21 text:penalties,\n",
       " layer:Policydesigncharacteristics type:Actor tag:Authority_default start:23 stop:36 text:member states,\n",
       " layer:Instrumenttypes type:InstrumentType tag:RegulatoryInstr start:52 stop:57 text:rules,\n",
       " layer:Instrumenttypes type:InstrumentType tag:Unspecified start:61 stop:70 text:penalties,\n",
       " layer:Policydesigncharacteristics type:Compliance tag:Form_sanctioning start:61 stop:70 text:penalties,\n",
       " layer:Instrumenttypes type:InstrumentType tag:Unspecified start:111 stop:121 text:provisions,\n",
       " layer:Instrumenttypes type:InstrumentType tag:Unspecified start:186 stop:194 text:measures,\n",
       " layer:Instrumenttypes type:InstrumentType tag:Unspecified start:236 stop:245 text:penalties,\n",
       " layer:Policydesigncharacteristics type:Compliance tag:Form_sanctioning start:236 stop:245 text:penalties,\n",
       " layer:Policydesigncharacteristics type:Actor tag:Addressee_monitored start:308 stop:321 text:member states,\n",
       " layer:Policydesigncharacteristics type:Compliance tag:Form_monitoring start:328 stop:334 text:notify,\n",
       " layer:Instrumenttypes type:InstrumentType tag:Unspecified start:341 stop:349 text:measures,\n",
       " layer:Policydesigncharacteristics type:Actor tag:Authority_monitoring start:357 stop:367 text:commission,\n",
       " layer:Policydesigncharacteristics type:Time tag:Time_Monitoring start:371 stop:388 text:26 september 2008,\n",
       " layer:Policydesigncharacteristics type:Compliance tag:Form_monitoring start:399 stop:405 text:inform]"
      ]
     },
     "execution_count": 9,
     "metadata": {},
     "output_type": "execute_result"
    }
   ],
   "source": [
    "list_Fride"
   ]
  },
  {
   "cell_type": "code",
   "execution_count": 10,
   "metadata": {},
   "outputs": [],
   "source": [
    "continuum = Continuum()\n",
    "for tag in list_Fride:\n",
    "    continuum.add('Fride', Segment(tag.start, tag.stop), tag.tag_)\n",
    "for tag in list_Onerva:\n",
    "    continuum.add('Onerva', Segment(tag.start, tag.stop), tag.tag_)"
   ]
  },
  {
   "cell_type": "code",
   "execution_count": 11,
   "metadata": {},
   "outputs": [
    {
     "name": "stdout",
     "output_type": "stream",
     "text": [
      "The gamma for that annotation is f-1.0\n"
     ]
    }
   ],
   "source": [
    "\n",
    "from pygamma_agreement import CombinedCategoricalDissimilarity\n",
    "\n",
    "dissim = CombinedCategoricalDissimilarity(list(continuum.categories), alpha=0, beta=1)\n",
    "gamma_results = continuum.compute_gamma(dissim)\n",
    "print(f\"The gamma for that annotation is f{gamma_results.gamma}\")"
   ]
  },
  {
   "cell_type": "code",
   "execution_count": 12,
   "metadata": {},
   "outputs": [
    {
     "data": {
      "image/png": "[encoded data removed]",
      "text/plain": [
       "<pygamma_agreement.continuum.Continuum at 0x7ff0ef663c10>"
      ]
     },
     "execution_count": 12,
     "metadata": {},
     "output_type": "execute_result"
    }
   ],
   "source": [
    "continuum"
   ]
  },
  {
   "cell_type": "code",
   "execution_count": 13,
   "metadata": {},
   "outputs": [
    {
     "data": {
      "text/plain": [
       "0"
      ]
     },
     "execution_count": 13,
     "metadata": {},
     "output_type": "execute_result"
    }
   ],
   "source": [
    "len(test_tags['Alisha'])"
   ]
  },
  {
   "cell_type": "code",
   "execution_count": 19,
   "metadata": {},
   "outputs": [
    {
     "data": {
      "text/plain": [
       "list"
      ]
     },
     "execution_count": 19,
     "metadata": {},
     "output_type": "execute_result"
    }
   ],
   "source": [
    "annotations = test_tags[4:]\n",
    "type(annotations[0])"
   ]
  },
  {
   "cell_type": "code",
   "execution_count": 76,
   "metadata": {},
   "outputs": [],
   "source": [
    "from pygamma_agreement import Continuum\n",
    "from pyannote.core import Segment"
   ]
  },
  {
   "cell_type": "code",
   "execution_count": 77,
   "metadata": {},
   "outputs": [
    {
     "ename": "AttributeError",
     "evalue": "'itertools.chain' object has no attribute 'layer'",
     "output_type": "error",
     "traceback": [
      "\u001b[0;31m---------------------------------------------------------------------------\u001b[0m",
      "\u001b[0;31mAttributeError\u001b[0m                            Traceback (most recent call last)",
      "\u001b[0;32m<ipython-input-77-af7e77b3b5fc>\u001b[0m in \u001b[0;36m<module>\u001b[0;34m\u001b[0m\n\u001b[1;32m      4\u001b[0m \u001b[0;34m\u001b[0m\u001b[0m\n\u001b[1;32m      5\u001b[0m \u001b[0;32mfor\u001b[0m \u001b[0mtag\u001b[0m \u001b[0;32min\u001b[0m \u001b[0mhello\u001b[0m\u001b[0;34m:\u001b[0m\u001b[0;34m\u001b[0m\u001b[0;34m\u001b[0m\u001b[0m\n\u001b[0;32m----> 6\u001b[0;31m     \u001b[0mprint\u001b[0m\u001b[0;34m(\u001b[0m\u001b[0mhello\u001b[0m\u001b[0;34m.\u001b[0m\u001b[0mlayer\u001b[0m\u001b[0;34m)\u001b[0m\u001b[0;34m\u001b[0m\u001b[0;34m\u001b[0m\u001b[0m\n\u001b[0m",
      "\u001b[0;31mAttributeError\u001b[0m: 'itertools.chain' object has no attribute 'layer'"
     ]
    }
   ],
   "source": [
    "hello = chain.from_iterable([x for x in annotations if len(x) > 0])\n",
    "\n",
    "continuum = Continuum()\n",
    "\n",
    "for tag in hello:\n",
    "    print(hello.layer)"
   ]
  },
  {
   "cell_type": "code",
   "execution_count": 63,
   "metadata": {},
   "outputs": [
    {
     "data": {
      "text/plain": [
       "6"
      ]
     },
     "execution_count": 63,
     "metadata": {},
     "output_type": "execute_result"
    }
   ],
   "source": [
    "ls = [0,0,3,6,9]\n",
    "np.quantile(ls, 2/3, interpolation='nearest')"
   ]
  },
  {
   "cell_type": "code",
   "execution_count": 20,
   "metadata": {},
   "outputs": [
    {
     "ename": "TypeError",
     "evalue": "cannot concatenate object of type '<class 'str'>'; only Series and DataFrame objs are valid",
     "output_type": "error",
     "traceback": [
      "\u001b[0;31m---------------------------------------------------------------------------\u001b[0m",
      "\u001b[0;31mTypeError\u001b[0m                                 Traceback (most recent call last)",
      "\u001b[0;32m<ipython-input-20-806a27d032ab>\u001b[0m in \u001b[0;36m<module>\u001b[0;34m\u001b[0m\n\u001b[0;32m----> 1\u001b[0;31m \u001b[0mannotations\u001b[0m\u001b[0;34m.\u001b[0m\u001b[0mappend\u001b[0m\u001b[0;34m(\u001b[0m\u001b[0;34m'hello'\u001b[0m\u001b[0;34m,\u001b[0m \u001b[0;34m[\u001b[0m\u001b[0;34m'peter'\u001b[0m\u001b[0;34m]\u001b[0m\u001b[0;34m)\u001b[0m\u001b[0;34m\u001b[0m\u001b[0;34m\u001b[0m\u001b[0m\n\u001b[0m",
      "\u001b[0;32m~/miniconda3/envs/nlp_spark/lib/python3.7/site-packages/pandas/core/series.py\u001b[0m in \u001b[0;36mappend\u001b[0;34m(self, to_append, ignore_index, verify_integrity)\u001b[0m\n\u001b[1;32m   2693\u001b[0m             \u001b[0;32mraise\u001b[0m \u001b[0mTypeError\u001b[0m\u001b[0;34m(\u001b[0m\u001b[0mmsg\u001b[0m\u001b[0;34m)\u001b[0m\u001b[0;34m\u001b[0m\u001b[0;34m\u001b[0m\u001b[0m\n\u001b[1;32m   2694\u001b[0m         return concat(\n\u001b[0;32m-> 2695\u001b[0;31m             \u001b[0mto_concat\u001b[0m\u001b[0;34m,\u001b[0m \u001b[0mignore_index\u001b[0m\u001b[0;34m=\u001b[0m\u001b[0mignore_index\u001b[0m\u001b[0;34m,\u001b[0m \u001b[0mverify_integrity\u001b[0m\u001b[0;34m=\u001b[0m\u001b[0mverify_integrity\u001b[0m\u001b[0;34m\u001b[0m\u001b[0;34m\u001b[0m\u001b[0m\n\u001b[0m\u001b[1;32m   2696\u001b[0m         )\n\u001b[1;32m   2697\u001b[0m \u001b[0;34m\u001b[0m\u001b[0m\n",
      "\u001b[0;32m~/miniconda3/envs/nlp_spark/lib/python3.7/site-packages/pandas/core/reshape/concat.py\u001b[0m in \u001b[0;36mconcat\u001b[0;34m(objs, axis, join, ignore_index, keys, levels, names, verify_integrity, sort, copy)\u001b[0m\n\u001b[1;32m    293\u001b[0m         \u001b[0mverify_integrity\u001b[0m\u001b[0;34m=\u001b[0m\u001b[0mverify_integrity\u001b[0m\u001b[0;34m,\u001b[0m\u001b[0;34m\u001b[0m\u001b[0;34m\u001b[0m\u001b[0m\n\u001b[1;32m    294\u001b[0m         \u001b[0mcopy\u001b[0m\u001b[0;34m=\u001b[0m\u001b[0mcopy\u001b[0m\u001b[0;34m,\u001b[0m\u001b[0;34m\u001b[0m\u001b[0;34m\u001b[0m\u001b[0m\n\u001b[0;32m--> 295\u001b[0;31m         \u001b[0msort\u001b[0m\u001b[0;34m=\u001b[0m\u001b[0msort\u001b[0m\u001b[0;34m,\u001b[0m\u001b[0;34m\u001b[0m\u001b[0;34m\u001b[0m\u001b[0m\n\u001b[0m\u001b[1;32m    296\u001b[0m     )\n\u001b[1;32m    297\u001b[0m \u001b[0;34m\u001b[0m\u001b[0m\n",
      "\u001b[0;32m~/miniconda3/envs/nlp_spark/lib/python3.7/site-packages/pandas/core/reshape/concat.py\u001b[0m in \u001b[0;36m__init__\u001b[0;34m(self, objs, axis, join, keys, levels, names, ignore_index, verify_integrity, copy, sort)\u001b[0m\n\u001b[1;32m    368\u001b[0m                     \u001b[0;34m\"only Series and DataFrame objs are valid\"\u001b[0m\u001b[0;34m\u001b[0m\u001b[0;34m\u001b[0m\u001b[0m\n\u001b[1;32m    369\u001b[0m                 )\n\u001b[0;32m--> 370\u001b[0;31m                 \u001b[0;32mraise\u001b[0m \u001b[0mTypeError\u001b[0m\u001b[0;34m(\u001b[0m\u001b[0mmsg\u001b[0m\u001b[0;34m)\u001b[0m\u001b[0;34m\u001b[0m\u001b[0;34m\u001b[0m\u001b[0m\n\u001b[0m\u001b[1;32m    371\u001b[0m \u001b[0;34m\u001b[0m\u001b[0m\n\u001b[1;32m    372\u001b[0m             \u001b[0;31m# consolidate\u001b[0m\u001b[0;34m\u001b[0m\u001b[0;34m\u001b[0m\u001b[0;34m\u001b[0m\u001b[0m\n",
      "\u001b[0;31mTypeError\u001b[0m: cannot concatenate object of type '<class 'str'>'; only Series and DataFrame objs are valid"
     ]
    }
   ],
   "source": [
    "annotations.append('hello', ['peter'])"
   ]
  },
  {
   "cell_type": "code",
   "execution_count": 21,
   "metadata": {},
   "outputs": [
    {
     "data": {
      "text/plain": [
       "pandas.core.series.Series"
      ]
     },
     "execution_count": 21,
     "metadata": {},
     "output_type": "execute_result"
    }
   ],
   "source": [
    "annotations_not_null = annotations[annotations.notnull()]\n",
    "type(annotations_not_null)"
   ]
  },
  {
   "cell_type": "code",
   "execution_count": 58,
   "metadata": {},
   "outputs": [
    {
     "data": {
      "text/plain": [
       "4.5"
      ]
     },
     "execution_count": 58,
     "metadata": {},
     "output_type": "execute_result"
    }
   ],
   "source": [
    "np.mean([len(x) for x in annotations_not_null])"
   ]
  },
  {
   "cell_type": "code",
   "execution_count": 23,
   "metadata": {
    "tags": []
   },
   "outputs": [
    {
     "ename": "IndexingError",
     "evalue": "Unalignable boolean Series provided as indexer (index of the boolean Series and of the indexed object do not match).",
     "output_type": "error",
     "traceback": [
      "\u001b[0;31m---------------------------------------------------------------------------\u001b[0m",
      "\u001b[0;31mIndexingError\u001b[0m                             Traceback (most recent call last)",
      "\u001b[0;32m<ipython-input-23-35da6d6b7d09>\u001b[0m in \u001b[0;36m<module>\u001b[0;34m\u001b[0m\n\u001b[1;32m      1\u001b[0m \u001b[0;32mfor\u001b[0m \u001b[0mindex\u001b[0m\u001b[0;34m,\u001b[0m \u001b[0mrow\u001b[0m \u001b[0;32min\u001b[0m \u001b[0mstat_df\u001b[0m\u001b[0;34m.\u001b[0m\u001b[0miterrows\u001b[0m\u001b[0;34m(\u001b[0m\u001b[0;34m)\u001b[0m\u001b[0;34m:\u001b[0m\u001b[0;34m\u001b[0m\u001b[0;34m\u001b[0m\u001b[0m\n\u001b[0;32m----> 2\u001b[0;31m     \u001b[0mprint\u001b[0m\u001b[0;34m(\u001b[0m\u001b[0mrow\u001b[0m\u001b[0;34m[\u001b[0m\u001b[0mrow\u001b[0m\u001b[0;34m.\u001b[0m\u001b[0mnotnull\u001b[0m\u001b[0;34m(\u001b[0m\u001b[0;34m)\u001b[0m\u001b[0;34m[\u001b[0m\u001b[0;36m4\u001b[0m\u001b[0;34m:\u001b[0m\u001b[0;34m]\u001b[0m\u001b[0;34m]\u001b[0m\u001b[0;34m)\u001b[0m\u001b[0;34m\u001b[0m\u001b[0;34m\u001b[0m\u001b[0m\n\u001b[0m\u001b[1;32m      3\u001b[0m     \u001b[0mprint\u001b[0m\u001b[0;34m(\u001b[0m\u001b[0;34m\"\"\u001b[0m\u001b[0;34m)\u001b[0m\u001b[0;34m\u001b[0m\u001b[0;34m\u001b[0m\u001b[0m\n",
      "\u001b[0;32m~/miniconda3/envs/nlp_spark/lib/python3.7/site-packages/pandas/core/series.py\u001b[0m in \u001b[0;36m__getitem__\u001b[0;34m(self, key)\u001b[0m\n\u001b[1;32m    871\u001b[0m \u001b[0;34m\u001b[0m\u001b[0m\n\u001b[1;32m    872\u001b[0m         \u001b[0;32mif\u001b[0m \u001b[0mcom\u001b[0m\u001b[0;34m.\u001b[0m\u001b[0mis_bool_indexer\u001b[0m\u001b[0;34m(\u001b[0m\u001b[0mkey\u001b[0m\u001b[0;34m)\u001b[0m\u001b[0;34m:\u001b[0m\u001b[0;34m\u001b[0m\u001b[0;34m\u001b[0m\u001b[0m\n\u001b[0;32m--> 873\u001b[0;31m             \u001b[0mkey\u001b[0m \u001b[0;34m=\u001b[0m \u001b[0mcheck_bool_indexer\u001b[0m\u001b[0;34m(\u001b[0m\u001b[0mself\u001b[0m\u001b[0;34m.\u001b[0m\u001b[0mindex\u001b[0m\u001b[0;34m,\u001b[0m \u001b[0mkey\u001b[0m\u001b[0;34m)\u001b[0m\u001b[0;34m\u001b[0m\u001b[0;34m\u001b[0m\u001b[0m\n\u001b[0m\u001b[1;32m    874\u001b[0m             \u001b[0mkey\u001b[0m \u001b[0;34m=\u001b[0m \u001b[0mnp\u001b[0m\u001b[0;34m.\u001b[0m\u001b[0masarray\u001b[0m\u001b[0;34m(\u001b[0m\u001b[0mkey\u001b[0m\u001b[0;34m,\u001b[0m \u001b[0mdtype\u001b[0m\u001b[0;34m=\u001b[0m\u001b[0mbool\u001b[0m\u001b[0;34m)\u001b[0m\u001b[0;34m\u001b[0m\u001b[0;34m\u001b[0m\u001b[0m\n\u001b[1;32m    875\u001b[0m             \u001b[0;32mreturn\u001b[0m \u001b[0mself\u001b[0m\u001b[0;34m.\u001b[0m\u001b[0m_get_values\u001b[0m\u001b[0;34m(\u001b[0m\u001b[0mkey\u001b[0m\u001b[0;34m)\u001b[0m\u001b[0;34m\u001b[0m\u001b[0;34m\u001b[0m\u001b[0m\n",
      "\u001b[0;32m~/miniconda3/envs/nlp_spark/lib/python3.7/site-packages/pandas/core/indexing.py\u001b[0m in \u001b[0;36mcheck_bool_indexer\u001b[0;34m(index, key)\u001b[0m\n\u001b[1;32m   2268\u001b[0m         \u001b[0;32mif\u001b[0m \u001b[0mmask\u001b[0m\u001b[0;34m.\u001b[0m\u001b[0many\u001b[0m\u001b[0;34m(\u001b[0m\u001b[0;34m)\u001b[0m\u001b[0;34m:\u001b[0m\u001b[0;34m\u001b[0m\u001b[0;34m\u001b[0m\u001b[0m\n\u001b[1;32m   2269\u001b[0m             raise IndexingError(\n\u001b[0;32m-> 2270\u001b[0;31m                 \u001b[0;34m\"Unalignable boolean Series provided as \"\u001b[0m\u001b[0;34m\u001b[0m\u001b[0;34m\u001b[0m\u001b[0m\n\u001b[0m\u001b[1;32m   2271\u001b[0m                 \u001b[0;34m\"indexer (index of the boolean Series and of \"\u001b[0m\u001b[0;34m\u001b[0m\u001b[0;34m\u001b[0m\u001b[0m\n\u001b[1;32m   2272\u001b[0m                 \u001b[0;34m\"the indexed object do not match).\"\u001b[0m\u001b[0;34m\u001b[0m\u001b[0;34m\u001b[0m\u001b[0m\n",
      "\u001b[0;31mIndexingError\u001b[0m: Unalignable boolean Series provided as indexer (index of the boolean Series and of the indexed object do not match)."
     ]
    }
   ],
   "source": [
    "for index, row in stat_df.iterrows():\n",
    "    print(row[row.notnull()[4:]])\n",
    "    print(\"\")"
   ]
  },
  {
   "cell_type": "code",
   "execution_count": 24,
   "metadata": {},
   "outputs": [
    {
     "ename": "NameError",
     "evalue": "name 'keep_valid_anotations' is not defined",
     "output_type": "error",
     "traceback": [
      "\u001b[0;31m---------------------------------------------------------------------------\u001b[0m",
      "\u001b[0;31mNameError\u001b[0m                                 Traceback (most recent call last)",
      "\u001b[0;32m<ipython-input-24-5eaa27c65e86>\u001b[0m in \u001b[0;36m<module>\u001b[0;34m\u001b[0m\n\u001b[0;32m----> 1\u001b[0;31m \u001b[0mkeep_valid_anotations\u001b[0m\u001b[0;34m\u001b[0m\u001b[0;34m\u001b[0m\u001b[0m\n\u001b[0m",
      "\u001b[0;31mNameError\u001b[0m: name 'keep_valid_anotations' is not defined"
     ]
    }
   ],
   "source": [
    "keep_valid_anotations"
   ]
  },
  {
   "cell_type": "code",
   "execution_count": null,
   "metadata": {},
   "outputs": [],
   "source": []
  },
  {
   "cell_type": "code",
   "execution_count": null,
   "metadata": {},
   "outputs": [],
   "source": []
  }
 ],
 "metadata": {
  "interpreter": {
   "hash": "113cc48781539f6155542b62e12454776852042e38eda75313d2252b838e3593"
  },
  "kernelspec": {
   "display_name": "Python 3",
   "language": "python",
   "name": "python3"
  },
  "language_info": {
   "codemirror_mode": {
    "name": "ipython",
    "version": 3
   },
   "file_extension": ".py",
   "mimetype": "text/x-python",
   "name": "python",
   "nbconvert_exporter": "python",
   "pygments_lexer": "ipython3",
   "version": "3.7.10"
  },
  "metadata": {
   "interpreter": {
    "hash": "113cc48781539f6155542b62e12454776852042e38eda75313d2252b838e3593"
   }
  }
 },
 "nbformat": 4,
 "nbformat_minor": 4
}
