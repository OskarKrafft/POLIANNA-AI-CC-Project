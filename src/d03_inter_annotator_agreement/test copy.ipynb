{
 "metadata": {
  "language_info": {
   "codemirror_mode": {
    "name": "ipython",
    "version": 3
   },
   "file_extension": ".py",
   "mimetype": "text/x-python",
   "name": "python",
   "nbconvert_exporter": "python",
   "pygments_lexer": "ipython3",
   "version": "3.7.10"
  },
  "orig_nbformat": 2,
  "kernelspec": {
   "name": "python3",
   "display_name": "Python 3.7.10 64-bit ('nlp_spark': conda)"
  },
  "metadata": {
   "interpreter": {
    "hash": "113cc48781539f6155542b62e12454776852042e38eda75313d2252b838e3593"
   }
  },
  "interpreter": {
   "hash": "113cc48781539f6155542b62e12454776852042e38eda75313d2252b838e3593"
  }
 },
 "nbformat": 4,
 "nbformat_minor": 2,
 "cells": [
  {
   "cell_type": "code",
   "execution_count": 9,
   "metadata": {},
   "outputs": [],
   "source": [
    "import pandas as pd\n",
    "import numpy as np\n",
    "import sys\n",
    "from itertools import chain\n",
    "\n",
    "sys.path.append('/home/jkuettel/NLP_spark')\n",
    "from src.experiment_utils.helper_classes import token, tag, repository\n",
    "#from src.d03_inter_annotator_agreement.inter_annotator_agremment import Inter_Annotator_Agreement\n",
    "from src.d02_corpus_statistics.corpus import Corpus\n",
    "from src.d03_inter_annotator_agreement.inter_annotator_agremment import Inter_Annotator_Agreement\n",
    "from definitions import ROOT_DIR"
   ]
  },
  {
   "source": [
    "## Test Corpus Stats ##"
   ],
   "cell_type": "markdown",
   "metadata": {}
  },
  {
   "cell_type": "code",
   "execution_count": 10,
   "metadata": {},
   "outputs": [],
   "source": [
    "dataframe_dir = os.path.join(ROOT_DIR,'data/02_processed_to_dataframe', 'preprocessed_dataframe.pkl')\n",
    "stat_df = pd.read_pickle(dataframe_dir)"
   ]
  },
  {
   "cell_type": "code",
   "execution_count": 11,
   "metadata": {},
   "outputs": [
    {
     "output_type": "execute_result",
     "data": {
      "text/plain": [
       "                                                   Policy  \\\n",
       "EU_32006L0032_Title_0_Chapter_1_Section_0_Artic...          \n",
       "EU_32006L0066_Title_0_Chapter_0_Section_0_Artic...          \n",
       "EU_32009L0028_Title_0_Chapter_0_Section_0_Artic...          \n",
       "EU_32019L0944_Title_0_Chapter_6_Section_3_Artic...          \n",
       "EU_32019R0631_Title_0_Chapter_0_Section_0_Artic...          \n",
       "\n",
       "                                                                                                 Text  \\\n",
       "EU_32006L0032_Title_0_Chapter_1_Section_0_Artic...  article 3\\r\\ndefinitions\\r\\nfor the purposes o...   \n",
       "EU_32006L0066_Title_0_Chapter_0_Section_0_Artic...  article 25\\r\\npenalties\\r\\nmember states shall...   \n",
       "EU_32009L0028_Title_0_Chapter_0_Section_0_Artic...  article 7\\r\\njoint projects between member sta...   \n",
       "EU_32019L0944_Title_0_Chapter_6_Section_3_Artic...  article 47\\r\\nindependence of the transmission...   \n",
       "EU_32019R0631_Title_0_Chapter_0_Section_0_Artic...  article 14\\r\\nadjustment of m0 and tm0 values\\...   \n",
       "\n",
       "                                                                                               Tokens  \\\n",
       "EU_32006L0032_Title_0_Chapter_1_Section_0_Artic...  [start:0 stop:7 text:article tag_count:0, star...   \n",
       "EU_32006L0066_Title_0_Chapter_0_Section_0_Artic...  [start:0 stop:7 text:article tag_count:0, star...   \n",
       "EU_32009L0028_Title_0_Chapter_0_Section_0_Artic...  [start:0 stop:7 text:article tag_count:0, star...   \n",
       "EU_32019L0944_Title_0_Chapter_6_Section_3_Artic...  [start:0 stop:7 text:article tag_count:0, star...   \n",
       "EU_32019R0631_Title_0_Chapter_0_Section_0_Artic...  [start:0 stop:7 text:article tag_count:0, star...   \n",
       "\n",
       "                                                                                             Curation  \\\n",
       "EU_32006L0032_Title_0_Chapter_1_Section_0_Artic...  [annotator:curation layer:Instrumenttypes type...   \n",
       "EU_32006L0066_Title_0_Chapter_0_Section_0_Artic...                                                      \n",
       "EU_32009L0028_Title_0_Chapter_0_Section_0_Artic...  [annotator:curation layer:Policydesigncharacte...   \n",
       "EU_32019L0944_Title_0_Chapter_6_Section_3_Artic...  [annotator:curation layer:Instrumenttypes type...   \n",
       "EU_32019R0631_Title_0_Chapter_0_Section_0_Artic...  [annotator:curation layer:Instrumenttypes type...   \n",
       "\n",
       "                                                                                               Onerva  \\\n",
       "EU_32006L0032_Title_0_Chapter_1_Section_0_Artic...  [annotator:Onerva layer:Instrumenttypes type:I...   \n",
       "EU_32006L0066_Title_0_Chapter_0_Section_0_Artic...  [annotator:Onerva layer:Instrumenttypes type:I...   \n",
       "EU_32009L0028_Title_0_Chapter_0_Section_0_Artic...                                                 []   \n",
       "EU_32019L0944_Title_0_Chapter_6_Section_3_Artic...  [annotator:Onerva layer:Instrumenttypes type:I...   \n",
       "EU_32019R0631_Title_0_Chapter_0_Section_0_Artic...  [annotator:Onerva layer:Instrumenttypes type:I...   \n",
       "\n",
       "                                                                                                Fride  \\\n",
       "EU_32006L0032_Title_0_Chapter_1_Section_0_Artic...  [annotator:Fride layer:Instrumenttypes type:In...   \n",
       "EU_32006L0066_Title_0_Chapter_0_Section_0_Artic...  [annotator:Fride layer:Instrumenttypes type:In...   \n",
       "EU_32009L0028_Title_0_Chapter_0_Section_0_Artic...                                                      \n",
       "EU_32019L0944_Title_0_Chapter_6_Section_3_Artic...                                                      \n",
       "EU_32019R0631_Title_0_Chapter_0_Section_0_Artic...                                                      \n",
       "\n",
       "                                                   Lynn  \\\n",
       "EU_32006L0032_Title_0_Chapter_1_Section_0_Artic...        \n",
       "EU_32006L0066_Title_0_Chapter_0_Section_0_Artic...   []   \n",
       "EU_32009L0028_Title_0_Chapter_0_Section_0_Artic...        \n",
       "EU_32019L0944_Title_0_Chapter_6_Section_3_Artic...        \n",
       "EU_32019R0631_Title_0_Chapter_0_Section_0_Artic...        \n",
       "\n",
       "                                                                                               Fabian  \\\n",
       "EU_32006L0032_Title_0_Chapter_1_Section_0_Artic...                                                      \n",
       "EU_32006L0066_Title_0_Chapter_0_Section_0_Artic...                                                      \n",
       "EU_32009L0028_Title_0_Chapter_0_Section_0_Artic...  [annotator:Fabian layer:Policydesigncharacteri...   \n",
       "EU_32019L0944_Title_0_Chapter_6_Section_3_Artic...                                                      \n",
       "EU_32019R0631_Title_0_Chapter_0_Section_0_Artic...  [annotator:Fabian layer:Policydesigncharacteri...   \n",
       "\n",
       "                                                   Sebastian  \\\n",
       "EU_32006L0032_Title_0_Chapter_1_Section_0_Artic...             \n",
       "EU_32006L0066_Title_0_Chapter_0_Section_0_Artic...             \n",
       "EU_32009L0028_Title_0_Chapter_0_Section_0_Artic...        []   \n",
       "EU_32019L0944_Title_0_Chapter_6_Section_3_Artic...             \n",
       "EU_32019R0631_Title_0_Chapter_0_Section_0_Artic...             \n",
       "\n",
       "                                                                                               Alisha  \n",
       "EU_32006L0032_Title_0_Chapter_1_Section_0_Artic...                                                     \n",
       "EU_32006L0066_Title_0_Chapter_0_Section_0_Artic...                                                     \n",
       "EU_32009L0028_Title_0_Chapter_0_Section_0_Artic...  [annotator:Alisha layer:Policydesigncharacteri...  \n",
       "EU_32019L0944_Title_0_Chapter_6_Section_3_Artic...  [annotator:Alisha layer:Instrumenttypes type:I...  \n",
       "EU_32019R0631_Title_0_Chapter_0_Section_0_Artic...                                                     "
      ],
      "text/html": "<div>\n<style scoped>\n    .dataframe tbody tr th:only-of-type {\n        vertical-align: middle;\n    }\n\n    .dataframe tbody tr th {\n        vertical-align: top;\n    }\n\n    .dataframe thead th {\n        text-align: right;\n    }\n</style>\n<table border=\"1\" class=\"dataframe\">\n  <thead>\n    <tr style=\"text-align: right;\">\n      <th></th>\n      <th>Policy</th>\n      <th>Text</th>\n      <th>Tokens</th>\n      <th>Curation</th>\n      <th>Onerva</th>\n      <th>Fride</th>\n      <th>Lynn</th>\n      <th>Fabian</th>\n      <th>Sebastian</th>\n      <th>Alisha</th>\n    </tr>\n  </thead>\n  <tbody>\n    <tr>\n      <th>EU_32006L0032_Title_0_Chapter_1_Section_0_Article_03</th>\n      <td></td>\n      <td>article 3\\r\\ndefinitions\\r\\nfor the purposes o...</td>\n      <td>[start:0 stop:7 text:article tag_count:0, star...</td>\n      <td>[annotator:curation layer:Instrumenttypes type...</td>\n      <td>[annotator:Onerva layer:Instrumenttypes type:I...</td>\n      <td>[annotator:Fride layer:Instrumenttypes type:In...</td>\n      <td></td>\n      <td></td>\n      <td></td>\n      <td></td>\n    </tr>\n    <tr>\n      <th>EU_32006L0066_Title_0_Chapter_0_Section_0_Article_25</th>\n      <td></td>\n      <td>article 25\\r\\npenalties\\r\\nmember states shall...</td>\n      <td>[start:0 stop:7 text:article tag_count:0, star...</td>\n      <td></td>\n      <td>[annotator:Onerva layer:Instrumenttypes type:I...</td>\n      <td>[annotator:Fride layer:Instrumenttypes type:In...</td>\n      <td>[]</td>\n      <td></td>\n      <td></td>\n      <td></td>\n    </tr>\n    <tr>\n      <th>EU_32009L0028_Title_0_Chapter_0_Section_0_Article_07</th>\n      <td></td>\n      <td>article 7\\r\\njoint projects between member sta...</td>\n      <td>[start:0 stop:7 text:article tag_count:0, star...</td>\n      <td>[annotator:curation layer:Policydesigncharacte...</td>\n      <td>[]</td>\n      <td></td>\n      <td></td>\n      <td>[annotator:Fabian layer:Policydesigncharacteri...</td>\n      <td>[]</td>\n      <td>[annotator:Alisha layer:Policydesigncharacteri...</td>\n    </tr>\n    <tr>\n      <th>EU_32019L0944_Title_0_Chapter_6_Section_3_Article_47</th>\n      <td></td>\n      <td>article 47\\r\\nindependence of the transmission...</td>\n      <td>[start:0 stop:7 text:article tag_count:0, star...</td>\n      <td>[annotator:curation layer:Instrumenttypes type...</td>\n      <td>[annotator:Onerva layer:Instrumenttypes type:I...</td>\n      <td></td>\n      <td></td>\n      <td></td>\n      <td></td>\n      <td>[annotator:Alisha layer:Instrumenttypes type:I...</td>\n    </tr>\n    <tr>\n      <th>EU_32019R0631_Title_0_Chapter_0_Section_0_Article_14</th>\n      <td></td>\n      <td>article 14\\r\\nadjustment of m0 and tm0 values\\...</td>\n      <td>[start:0 stop:7 text:article tag_count:0, star...</td>\n      <td>[annotator:curation layer:Instrumenttypes type...</td>\n      <td>[annotator:Onerva layer:Instrumenttypes type:I...</td>\n      <td></td>\n      <td></td>\n      <td>[annotator:Fabian layer:Policydesigncharacteri...</td>\n      <td></td>\n      <td></td>\n    </tr>\n  </tbody>\n</table>\n</div>"
     },
     "metadata": {},
     "execution_count": 11
    }
   ],
   "source": [
    "stat_df.head()"
   ]
  },
  {
   "cell_type": "code",
   "execution_count": 12,
   "metadata": {},
   "outputs": [
    {
     "output_type": "stream",
     "name": "stdout",
     "text": [
      "INFO: Pandarallel will run on 48 workers.\nINFO: Pandarallel will use Memory file system to transfer data between the main process and workers.\n"
     ]
    }
   ],
   "source": [
    "test_evaluator = Inter_Annotator_Agreement(stat_df)\n",
    "tuple_algos= ['pygamma']\n",
    "scoring_metrics = ['f1_exact', 'f1_partial', 'f1_tokenwise']\n",
    "\n",
    "test_evaluator.calculate_total_score(scoring_metrics, tuple_algos, append_to_df = True, weight_by_tokens = True)\n",
    "\n"
   ]
  },
  {
   "cell_type": "code",
   "execution_count": 13,
   "metadata": {},
   "outputs": [
    {
     "output_type": "execute_result",
     "data": {
      "text/plain": [
       "                                                   Policy  \\\n",
       "EU_32006L0032_Title_0_Chapter_1_Section_0_Artic...          \n",
       "EU_32006L0066_Title_0_Chapter_0_Section_0_Artic...          \n",
       "EU_32009L0028_Title_0_Chapter_0_Section_0_Artic...          \n",
       "EU_32019L0944_Title_0_Chapter_6_Section_3_Artic...          \n",
       "EU_32019R0631_Title_0_Chapter_0_Section_0_Artic...          \n",
       "\n",
       "                                                                                                 Text  \\\n",
       "EU_32006L0032_Title_0_Chapter_1_Section_0_Artic...  article 3\\r\\ndefinitions\\r\\nfor the purposes o...   \n",
       "EU_32006L0066_Title_0_Chapter_0_Section_0_Artic...  article 25\\r\\npenalties\\r\\nmember states shall...   \n",
       "EU_32009L0028_Title_0_Chapter_0_Section_0_Artic...  article 7\\r\\njoint projects between member sta...   \n",
       "EU_32019L0944_Title_0_Chapter_6_Section_3_Artic...  article 47\\r\\nindependence of the transmission...   \n",
       "EU_32019R0631_Title_0_Chapter_0_Section_0_Artic...  article 14\\r\\nadjustment of m0 and tm0 values\\...   \n",
       "\n",
       "                                                                                               Tokens  \\\n",
       "EU_32006L0032_Title_0_Chapter_1_Section_0_Artic...  [start:0 stop:7 text:article tag_count:0, star...   \n",
       "EU_32006L0066_Title_0_Chapter_0_Section_0_Artic...  [start:0 stop:7 text:article tag_count:0, star...   \n",
       "EU_32009L0028_Title_0_Chapter_0_Section_0_Artic...  [start:0 stop:7 text:article tag_count:0, star...   \n",
       "EU_32019L0944_Title_0_Chapter_6_Section_3_Artic...  [start:0 stop:7 text:article tag_count:0, star...   \n",
       "EU_32019R0631_Title_0_Chapter_0_Section_0_Artic...  [start:0 stop:7 text:article tag_count:0, star...   \n",
       "\n",
       "                                                                                             Curation  \\\n",
       "EU_32006L0032_Title_0_Chapter_1_Section_0_Artic...  [annotator:curation layer:Instrumenttypes type...   \n",
       "EU_32006L0066_Title_0_Chapter_0_Section_0_Artic...                                                      \n",
       "EU_32009L0028_Title_0_Chapter_0_Section_0_Artic...  [annotator:curation layer:Policydesigncharacte...   \n",
       "EU_32019L0944_Title_0_Chapter_6_Section_3_Artic...  [annotator:curation layer:Instrumenttypes type...   \n",
       "EU_32019R0631_Title_0_Chapter_0_Section_0_Artic...  [annotator:curation layer:Instrumenttypes type...   \n",
       "\n",
       "                                                                                               Onerva  \\\n",
       "EU_32006L0032_Title_0_Chapter_1_Section_0_Artic...  [annotator:Onerva layer:Instrumenttypes type:I...   \n",
       "EU_32006L0066_Title_0_Chapter_0_Section_0_Artic...  [annotator:Onerva layer:Instrumenttypes type:I...   \n",
       "EU_32009L0028_Title_0_Chapter_0_Section_0_Artic...                                                 []   \n",
       "EU_32019L0944_Title_0_Chapter_6_Section_3_Artic...  [annotator:Onerva layer:Instrumenttypes type:I...   \n",
       "EU_32019R0631_Title_0_Chapter_0_Section_0_Artic...  [annotator:Onerva layer:Instrumenttypes type:I...   \n",
       "\n",
       "                                                                                                Fride  \\\n",
       "EU_32006L0032_Title_0_Chapter_1_Section_0_Artic...  [annotator:Fride layer:Instrumenttypes type:In...   \n",
       "EU_32006L0066_Title_0_Chapter_0_Section_0_Artic...  [annotator:Fride layer:Instrumenttypes type:In...   \n",
       "EU_32009L0028_Title_0_Chapter_0_Section_0_Artic...                                                      \n",
       "EU_32019L0944_Title_0_Chapter_6_Section_3_Artic...                                                      \n",
       "EU_32019R0631_Title_0_Chapter_0_Section_0_Artic...                                                      \n",
       "\n",
       "                                                   Lynn  \\\n",
       "EU_32006L0032_Title_0_Chapter_1_Section_0_Artic...        \n",
       "EU_32006L0066_Title_0_Chapter_0_Section_0_Artic...   []   \n",
       "EU_32009L0028_Title_0_Chapter_0_Section_0_Artic...        \n",
       "EU_32019L0944_Title_0_Chapter_6_Section_3_Artic...        \n",
       "EU_32019R0631_Title_0_Chapter_0_Section_0_Artic...        \n",
       "\n",
       "                                                                                               Fabian  \\\n",
       "EU_32006L0032_Title_0_Chapter_1_Section_0_Artic...                                                      \n",
       "EU_32006L0066_Title_0_Chapter_0_Section_0_Artic...                                                      \n",
       "EU_32009L0028_Title_0_Chapter_0_Section_0_Artic...  [annotator:Fabian layer:Policydesigncharacteri...   \n",
       "EU_32019L0944_Title_0_Chapter_6_Section_3_Artic...                                                      \n",
       "EU_32019R0631_Title_0_Chapter_0_Section_0_Artic...  [annotator:Fabian layer:Policydesigncharacteri...   \n",
       "\n",
       "                                                   Sebastian  \\\n",
       "EU_32006L0032_Title_0_Chapter_1_Section_0_Artic...             \n",
       "EU_32006L0066_Title_0_Chapter_0_Section_0_Artic...             \n",
       "EU_32009L0028_Title_0_Chapter_0_Section_0_Artic...        []   \n",
       "EU_32019L0944_Title_0_Chapter_6_Section_3_Artic...             \n",
       "EU_32019R0631_Title_0_Chapter_0_Section_0_Artic...             \n",
       "\n",
       "                                                                                               Alisha  \\\n",
       "EU_32006L0032_Title_0_Chapter_1_Section_0_Artic...                                                      \n",
       "EU_32006L0066_Title_0_Chapter_0_Section_0_Artic...                                                      \n",
       "EU_32009L0028_Title_0_Chapter_0_Section_0_Artic...  [annotator:Alisha layer:Policydesigncharacteri...   \n",
       "EU_32019L0944_Title_0_Chapter_6_Section_3_Artic...  [annotator:Alisha layer:Instrumenttypes type:I...   \n",
       "EU_32019R0631_Title_0_Chapter_0_Section_0_Artic...                                                      \n",
       "\n",
       "                                                    pygamma_matching_f1_exact_score  \\\n",
       "EU_32006L0032_Title_0_Chapter_1_Section_0_Artic...                         0.373418   \n",
       "EU_32006L0066_Title_0_Chapter_0_Section_0_Artic...                         0.740741   \n",
       "EU_32009L0028_Title_0_Chapter_0_Section_0_Artic...                         0.382979   \n",
       "EU_32019L0944_Title_0_Chapter_6_Section_3_Artic...                         0.191304   \n",
       "EU_32019R0631_Title_0_Chapter_0_Section_0_Artic...                         0.000000   \n",
       "\n",
       "                                                    pygamma_matching_f1_partial_score  \\\n",
       "EU_32006L0032_Title_0_Chapter_1_Section_0_Artic...                           0.544304   \n",
       "EU_32006L0066_Title_0_Chapter_0_Section_0_Artic...                           0.740741   \n",
       "EU_32009L0028_Title_0_Chapter_0_Section_0_Artic...                           0.425532   \n",
       "EU_32019L0944_Title_0_Chapter_6_Section_3_Artic...                           0.226087   \n",
       "EU_32019R0631_Title_0_Chapter_0_Section_0_Artic...                           0.451613   \n",
       "\n",
       "                                                    pygamma_matching_f1_tokenwise_score  \n",
       "EU_32006L0032_Title_0_Chapter_1_Section_0_Artic...                             0.415289  \n",
       "EU_32006L0066_Title_0_Chapter_0_Section_0_Artic...                             0.625000  \n",
       "EU_32009L0028_Title_0_Chapter_0_Section_0_Artic...                             0.345238  \n",
       "EU_32019L0944_Title_0_Chapter_6_Section_3_Artic...                             0.176783  \n",
       "EU_32019R0631_Title_0_Chapter_0_Section_0_Artic...                             0.344725  "
      ],
      "text/html": "<div>\n<style scoped>\n    .dataframe tbody tr th:only-of-type {\n        vertical-align: middle;\n    }\n\n    .dataframe tbody tr th {\n        vertical-align: top;\n    }\n\n    .dataframe thead th {\n        text-align: right;\n    }\n</style>\n<table border=\"1\" class=\"dataframe\">\n  <thead>\n    <tr style=\"text-align: right;\">\n      <th></th>\n      <th>Policy</th>\n      <th>Text</th>\n      <th>Tokens</th>\n      <th>Curation</th>\n      <th>Onerva</th>\n      <th>Fride</th>\n      <th>Lynn</th>\n      <th>Fabian</th>\n      <th>Sebastian</th>\n      <th>Alisha</th>\n      <th>pygamma_matching_f1_exact_score</th>\n      <th>pygamma_matching_f1_partial_score</th>\n      <th>pygamma_matching_f1_tokenwise_score</th>\n    </tr>\n  </thead>\n  <tbody>\n    <tr>\n      <th>EU_32006L0032_Title_0_Chapter_1_Section_0_Article_03</th>\n      <td></td>\n      <td>article 3\\r\\ndefinitions\\r\\nfor the purposes o...</td>\n      <td>[start:0 stop:7 text:article tag_count:0, star...</td>\n      <td>[annotator:curation layer:Instrumenttypes type...</td>\n      <td>[annotator:Onerva layer:Instrumenttypes type:I...</td>\n      <td>[annotator:Fride layer:Instrumenttypes type:In...</td>\n      <td></td>\n      <td></td>\n      <td></td>\n      <td></td>\n      <td>0.373418</td>\n      <td>0.544304</td>\n      <td>0.415289</td>\n    </tr>\n    <tr>\n      <th>EU_32006L0066_Title_0_Chapter_0_Section_0_Article_25</th>\n      <td></td>\n      <td>article 25\\r\\npenalties\\r\\nmember states shall...</td>\n      <td>[start:0 stop:7 text:article tag_count:0, star...</td>\n      <td></td>\n      <td>[annotator:Onerva layer:Instrumenttypes type:I...</td>\n      <td>[annotator:Fride layer:Instrumenttypes type:In...</td>\n      <td>[]</td>\n      <td></td>\n      <td></td>\n      <td></td>\n      <td>0.740741</td>\n      <td>0.740741</td>\n      <td>0.625000</td>\n    </tr>\n    <tr>\n      <th>EU_32009L0028_Title_0_Chapter_0_Section_0_Article_07</th>\n      <td></td>\n      <td>article 7\\r\\njoint projects between member sta...</td>\n      <td>[start:0 stop:7 text:article tag_count:0, star...</td>\n      <td>[annotator:curation layer:Policydesigncharacte...</td>\n      <td>[]</td>\n      <td></td>\n      <td></td>\n      <td>[annotator:Fabian layer:Policydesigncharacteri...</td>\n      <td>[]</td>\n      <td>[annotator:Alisha layer:Policydesigncharacteri...</td>\n      <td>0.382979</td>\n      <td>0.425532</td>\n      <td>0.345238</td>\n    </tr>\n    <tr>\n      <th>EU_32019L0944_Title_0_Chapter_6_Section_3_Article_47</th>\n      <td></td>\n      <td>article 47\\r\\nindependence of the transmission...</td>\n      <td>[start:0 stop:7 text:article tag_count:0, star...</td>\n      <td>[annotator:curation layer:Instrumenttypes type...</td>\n      <td>[annotator:Onerva layer:Instrumenttypes type:I...</td>\n      <td></td>\n      <td></td>\n      <td></td>\n      <td></td>\n      <td>[annotator:Alisha layer:Instrumenttypes type:I...</td>\n      <td>0.191304</td>\n      <td>0.226087</td>\n      <td>0.176783</td>\n    </tr>\n    <tr>\n      <th>EU_32019R0631_Title_0_Chapter_0_Section_0_Article_14</th>\n      <td></td>\n      <td>article 14\\r\\nadjustment of m0 and tm0 values\\...</td>\n      <td>[start:0 stop:7 text:article tag_count:0, star...</td>\n      <td>[annotator:curation layer:Instrumenttypes type...</td>\n      <td>[annotator:Onerva layer:Instrumenttypes type:I...</td>\n      <td></td>\n      <td></td>\n      <td>[annotator:Fabian layer:Policydesigncharacteri...</td>\n      <td></td>\n      <td></td>\n      <td>0.000000</td>\n      <td>0.451613</td>\n      <td>0.344725</td>\n    </tr>\n  </tbody>\n</table>\n</div>"
     },
     "metadata": {},
     "execution_count": 13
    }
   ],
   "source": [
    "test_evaluator.df.head()"
   ]
  },
  {
   "cell_type": "code",
   "execution_count": null,
   "metadata": {},
   "outputs": [],
   "source": []
  }
 ]
}