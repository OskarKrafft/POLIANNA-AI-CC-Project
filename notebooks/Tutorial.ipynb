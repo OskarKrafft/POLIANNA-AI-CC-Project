{
 "cells": [
  {
   "cell_type": "markdown",
   "metadata": {},
   "source": [
    "# Tutorial on the dataset and basic functions"
   ]
  },
  {
   "cell_type": "markdown",
   "metadata": {},
   "source": [
    "### Import the libraries"
   ]
  },
  {
   "cell_type": "code",
   "execution_count": 1,
   "metadata": {},
   "outputs": [],
   "source": [
    "import json\n",
    "import sys\n",
    "import pandas as pd\n",
    "import collections \n",
    "import os\n",
    "import numpy as np\n",
    "from itertools import chain\n",
    "from itertools import combinations\n",
    "#sys.path.insert(0, '..')\n",
    "sys.path.append('/Users/l.kaack/Documents/Policy_coding/Temporary/NLP_Spark/')\n",
    "from src.experiment_utils.helper_classes import token, span, repository\n",
    "from src.d02_corpus_statistics.corpus import Corpus\n",
    "from definitions import ROOT_DIR\n",
    "from pyannote.core import Segment"
   ]
  },
  {
   "cell_type": "markdown",
   "metadata": {},
   "source": [
    "## Small Tutorial\n",
    "\n"
   ]
  },
  {
   "cell_type": "markdown",
   "metadata": {},
   "source": [
    "### Classes and Dataframe"
   ]
  },
  {
   "cell_type": "markdown",
   "metadata": {},
   "source": [
    "All the information is now stored in a dataframe called \"stat_df\" containing the string of the directory path, the raw text, and all the annotations (in form of list of spans) starting with the Curation:"
   ]
  },
  {
   "cell_type": "code",
   "execution_count": 2,
   "metadata": {},
   "outputs": [
    {
     "data": {
      "text/html": [
       "<div>\n",
       "<style scoped>\n",
       "    .dataframe tbody tr th:only-of-type {\n",
       "        vertical-align: middle;\n",
       "    }\n",
       "\n",
       "    .dataframe tbody tr th {\n",
       "        vertical-align: top;\n",
       "    }\n",
       "\n",
       "    .dataframe thead th {\n",
       "        text-align: right;\n",
       "    }\n",
       "</style>\n",
       "<table border=\"1\" class=\"dataframe\">\n",
       "  <thead>\n",
       "    <tr style=\"text-align: right;\">\n",
       "      <th></th>\n",
       "      <th>Policy</th>\n",
       "      <th>Text</th>\n",
       "      <th>Tokens</th>\n",
       "      <th>Article_State</th>\n",
       "      <th>Finished_Annotators</th>\n",
       "      <th>Curation</th>\n",
       "      <th>Alisha</th>\n",
       "      <th>Fride</th>\n",
       "      <th>Onerva</th>\n",
       "      <th>Fabian</th>\n",
       "      <th>Sebastian</th>\n",
       "      <th>Lynn</th>\n",
       "      <th>Joel</th>\n",
       "    </tr>\n",
       "  </thead>\n",
       "  <tbody>\n",
       "    <tr>\n",
       "      <th>EU_32018R1999_Title_0_Chapter_3_Section_0_Article_15</th>\n",
       "      <td></td>\n",
       "      <td>article 15\\r\\nlong-term strategies\\r\\n1.   by ...</td>\n",
       "      <td>[start:0 stop:7 text:article tag_count:0, star...</td>\n",
       "      <td>CURATION_FINISHED</td>\n",
       "      <td>[Alisha, Fride]</td>\n",
       "      <td>[span id:CUR0 annotator:Curation layer:Instrum...</td>\n",
       "      <td>[span id:A1 annotator:Alisha layer:Instrumentt...</td>\n",
       "      <td>[span id:B1 annotator:Fride layer:Instrumentty...</td>\n",
       "      <td></td>\n",
       "      <td></td>\n",
       "      <td></td>\n",
       "      <td></td>\n",
       "      <td></td>\n",
       "    </tr>\n",
       "    <tr>\n",
       "      <th>EU_32009L0028_Title_0_Chapter_0_Section_0_Article_19</th>\n",
       "      <td></td>\n",
       "      <td>article 19\\r\\ncalculation of the greenhouse ga...</td>\n",
       "      <td>[start:0 stop:7 text:article tag_count:0, star...</td>\n",
       "      <td>CURATION_FINISHED</td>\n",
       "      <td>[Alisha, Fabian]</td>\n",
       "      <td>[span id:CUR89 annotator:Curation layer:Instru...</td>\n",
       "      <td>[span id:A82 annotator:Alisha layer:Instrument...</td>\n",
       "      <td></td>\n",
       "      <td>[]</td>\n",
       "      <td>[span id:D1 annotator:Fabian layer:Instrumentt...</td>\n",
       "      <td></td>\n",
       "      <td></td>\n",
       "      <td></td>\n",
       "    </tr>\n",
       "    <tr>\n",
       "      <th>EU_32009L0028_Title_0_Chapter_0_Section_0_Article_25</th>\n",
       "      <td></td>\n",
       "      <td>article 25\\r\\ncommittees\\r\\n1.   except in the...</td>\n",
       "      <td>[start:0 stop:7 text:article tag_count:0, star...</td>\n",
       "      <td>CURATION_FINISHED</td>\n",
       "      <td>[Alisha, Fabian]</td>\n",
       "      <td>[span id:CUR147 annotator:Curation layer:Polic...</td>\n",
       "      <td>[span id:A133 annotator:Alisha layer:Policydes...</td>\n",
       "      <td></td>\n",
       "      <td>[]</td>\n",
       "      <td>[span id:D47 annotator:Fabian layer:Policydesi...</td>\n",
       "      <td></td>\n",
       "      <td></td>\n",
       "      <td></td>\n",
       "    </tr>\n",
       "    <tr>\n",
       "      <th>EU_32019L0944_Title_0_Chapter_2_Section_0_Article_09</th>\n",
       "      <td></td>\n",
       "      <td>article 9\\r\\npublic service obligations\\r\\n1. ...</td>\n",
       "      <td>[start:0 stop:7 text:article tag_count:0, star...</td>\n",
       "      <td>CURATION_FINISHED</td>\n",
       "      <td>[Alisha, Fabian]</td>\n",
       "      <td>[span id:CUR159 annotator:Curation layer:Instr...</td>\n",
       "      <td>[span id:A147 annotator:Alisha layer:Instrumen...</td>\n",
       "      <td></td>\n",
       "      <td>[]</td>\n",
       "      <td>[span id:D55 annotator:Fabian layer:Instrument...</td>\n",
       "      <td></td>\n",
       "      <td></td>\n",
       "      <td></td>\n",
       "    </tr>\n",
       "    <tr>\n",
       "      <th>EU_32019L0944_Title_0_Chapter_2_Section_0_Article_08</th>\n",
       "      <td></td>\n",
       "      <td>article 8\\r\\nauthorisation procedure for new c...</td>\n",
       "      <td>[start:0 stop:7 text:article tag_count:0, star...</td>\n",
       "      <td>CURATION_FINISHED</td>\n",
       "      <td>[Alisha, Fabian]</td>\n",
       "      <td>[span id:CUR218 annotator:Curation layer:Instr...</td>\n",
       "      <td>[span id:A178 annotator:Alisha layer:Instrumen...</td>\n",
       "      <td></td>\n",
       "      <td>[]</td>\n",
       "      <td>[span id:D79 annotator:Fabian layer:Instrument...</td>\n",
       "      <td></td>\n",
       "      <td></td>\n",
       "      <td></td>\n",
       "    </tr>\n",
       "  </tbody>\n",
       "</table>\n",
       "</div>"
      ],
      "text/plain": [
       "                                                   Policy  \\\n",
       "EU_32018R1999_Title_0_Chapter_3_Section_0_Artic...          \n",
       "EU_32009L0028_Title_0_Chapter_0_Section_0_Artic...          \n",
       "EU_32009L0028_Title_0_Chapter_0_Section_0_Artic...          \n",
       "EU_32019L0944_Title_0_Chapter_2_Section_0_Artic...          \n",
       "EU_32019L0944_Title_0_Chapter_2_Section_0_Artic...          \n",
       "\n",
       "                                                                                                 Text  \\\n",
       "EU_32018R1999_Title_0_Chapter_3_Section_0_Artic...  article 15\\r\\nlong-term strategies\\r\\n1.   by ...   \n",
       "EU_32009L0028_Title_0_Chapter_0_Section_0_Artic...  article 19\\r\\ncalculation of the greenhouse ga...   \n",
       "EU_32009L0028_Title_0_Chapter_0_Section_0_Artic...  article 25\\r\\ncommittees\\r\\n1.   except in the...   \n",
       "EU_32019L0944_Title_0_Chapter_2_Section_0_Artic...  article 9\\r\\npublic service obligations\\r\\n1. ...   \n",
       "EU_32019L0944_Title_0_Chapter_2_Section_0_Artic...  article 8\\r\\nauthorisation procedure for new c...   \n",
       "\n",
       "                                                                                               Tokens  \\\n",
       "EU_32018R1999_Title_0_Chapter_3_Section_0_Artic...  [start:0 stop:7 text:article tag_count:0, star...   \n",
       "EU_32009L0028_Title_0_Chapter_0_Section_0_Artic...  [start:0 stop:7 text:article tag_count:0, star...   \n",
       "EU_32009L0028_Title_0_Chapter_0_Section_0_Artic...  [start:0 stop:7 text:article tag_count:0, star...   \n",
       "EU_32019L0944_Title_0_Chapter_2_Section_0_Artic...  [start:0 stop:7 text:article tag_count:0, star...   \n",
       "EU_32019L0944_Title_0_Chapter_2_Section_0_Artic...  [start:0 stop:7 text:article tag_count:0, star...   \n",
       "\n",
       "                                                        Article_State  \\\n",
       "EU_32018R1999_Title_0_Chapter_3_Section_0_Artic...  CURATION_FINISHED   \n",
       "EU_32009L0028_Title_0_Chapter_0_Section_0_Artic...  CURATION_FINISHED   \n",
       "EU_32009L0028_Title_0_Chapter_0_Section_0_Artic...  CURATION_FINISHED   \n",
       "EU_32019L0944_Title_0_Chapter_2_Section_0_Artic...  CURATION_FINISHED   \n",
       "EU_32019L0944_Title_0_Chapter_2_Section_0_Artic...  CURATION_FINISHED   \n",
       "\n",
       "                                                   Finished_Annotators  \\\n",
       "EU_32018R1999_Title_0_Chapter_3_Section_0_Artic...     [Alisha, Fride]   \n",
       "EU_32009L0028_Title_0_Chapter_0_Section_0_Artic...    [Alisha, Fabian]   \n",
       "EU_32009L0028_Title_0_Chapter_0_Section_0_Artic...    [Alisha, Fabian]   \n",
       "EU_32019L0944_Title_0_Chapter_2_Section_0_Artic...    [Alisha, Fabian]   \n",
       "EU_32019L0944_Title_0_Chapter_2_Section_0_Artic...    [Alisha, Fabian]   \n",
       "\n",
       "                                                                                             Curation  \\\n",
       "EU_32018R1999_Title_0_Chapter_3_Section_0_Artic...  [span id:CUR0 annotator:Curation layer:Instrum...   \n",
       "EU_32009L0028_Title_0_Chapter_0_Section_0_Artic...  [span id:CUR89 annotator:Curation layer:Instru...   \n",
       "EU_32009L0028_Title_0_Chapter_0_Section_0_Artic...  [span id:CUR147 annotator:Curation layer:Polic...   \n",
       "EU_32019L0944_Title_0_Chapter_2_Section_0_Artic...  [span id:CUR159 annotator:Curation layer:Instr...   \n",
       "EU_32019L0944_Title_0_Chapter_2_Section_0_Artic...  [span id:CUR218 annotator:Curation layer:Instr...   \n",
       "\n",
       "                                                                                               Alisha  \\\n",
       "EU_32018R1999_Title_0_Chapter_3_Section_0_Artic...  [span id:A1 annotator:Alisha layer:Instrumentt...   \n",
       "EU_32009L0028_Title_0_Chapter_0_Section_0_Artic...  [span id:A82 annotator:Alisha layer:Instrument...   \n",
       "EU_32009L0028_Title_0_Chapter_0_Section_0_Artic...  [span id:A133 annotator:Alisha layer:Policydes...   \n",
       "EU_32019L0944_Title_0_Chapter_2_Section_0_Artic...  [span id:A147 annotator:Alisha layer:Instrumen...   \n",
       "EU_32019L0944_Title_0_Chapter_2_Section_0_Artic...  [span id:A178 annotator:Alisha layer:Instrumen...   \n",
       "\n",
       "                                                                                                Fride  \\\n",
       "EU_32018R1999_Title_0_Chapter_3_Section_0_Artic...  [span id:B1 annotator:Fride layer:Instrumentty...   \n",
       "EU_32009L0028_Title_0_Chapter_0_Section_0_Artic...                                                      \n",
       "EU_32009L0028_Title_0_Chapter_0_Section_0_Artic...                                                      \n",
       "EU_32019L0944_Title_0_Chapter_2_Section_0_Artic...                                                      \n",
       "EU_32019L0944_Title_0_Chapter_2_Section_0_Artic...                                                      \n",
       "\n",
       "                                                   Onerva  \\\n",
       "EU_32018R1999_Title_0_Chapter_3_Section_0_Artic...          \n",
       "EU_32009L0028_Title_0_Chapter_0_Section_0_Artic...     []   \n",
       "EU_32009L0028_Title_0_Chapter_0_Section_0_Artic...     []   \n",
       "EU_32019L0944_Title_0_Chapter_2_Section_0_Artic...     []   \n",
       "EU_32019L0944_Title_0_Chapter_2_Section_0_Artic...     []   \n",
       "\n",
       "                                                                                               Fabian  \\\n",
       "EU_32018R1999_Title_0_Chapter_3_Section_0_Artic...                                                      \n",
       "EU_32009L0028_Title_0_Chapter_0_Section_0_Artic...  [span id:D1 annotator:Fabian layer:Instrumentt...   \n",
       "EU_32009L0028_Title_0_Chapter_0_Section_0_Artic...  [span id:D47 annotator:Fabian layer:Policydesi...   \n",
       "EU_32019L0944_Title_0_Chapter_2_Section_0_Artic...  [span id:D55 annotator:Fabian layer:Instrument...   \n",
       "EU_32019L0944_Title_0_Chapter_2_Section_0_Artic...  [span id:D79 annotator:Fabian layer:Instrument...   \n",
       "\n",
       "                                                   Sebastian Lynn Joel  \n",
       "EU_32018R1999_Title_0_Chapter_3_Section_0_Artic...                      \n",
       "EU_32009L0028_Title_0_Chapter_0_Section_0_Artic...                      \n",
       "EU_32009L0028_Title_0_Chapter_0_Section_0_Artic...                      \n",
       "EU_32019L0944_Title_0_Chapter_2_Section_0_Artic...                      \n",
       "EU_32019L0944_Title_0_Chapter_2_Section_0_Artic...                      "
      ]
     },
     "execution_count": 2,
     "metadata": {},
     "output_type": "execute_result"
    }
   ],
   "source": [
    "    \n",
    "dataframe_dir = os.path.join(ROOT_DIR,'data/02_processed_to_dataframe', 'preprocessed_dataframe.pkl')\n",
    "stat_df = pd.read_pickle(dataframe_dir)\n",
    "stat_df.head()"
   ]
  },
  {
   "cell_type": "code",
   "execution_count": 3,
   "metadata": {},
   "outputs": [
    {
     "data": {
      "text/plain": [
       "(448, 13)"
      ]
     },
     "execution_count": 3,
     "metadata": {},
     "output_type": "execute_result"
    }
   ],
   "source": [
    "stat_df.shape"
   ]
  },
  {
   "cell_type": "markdown",
   "metadata": {},
   "source": [
    "The spans of each paragraph are stored in list:"
   ]
  },
  {
   "cell_type": "code",
   "execution_count": 4,
   "metadata": {},
   "outputs": [
    {
     "data": {
      "text/plain": [
       "[span id:CUR147 annotator:Curation layer:Policydesigncharacteristics type:Actor tag:Addressee_default start:12 stop:22 text:committees,\n",
       " span id:CUR148 annotator:Curation layer:Policydesigncharacteristics type:Actor tag:Authority_default start:81 stop:91 text:commission,\n",
       " span id:CUR149 annotator:Curation layer:Policydesigncharacteristics type:Actor tag:Addressee_default start:117 stop:154 text:committee on renewable energy sources,\n",
       " span id:CUR150 annotator:Curation layer:Policydesigncharacteristics type:Actor tag:Authority_default start:237 stop:247 text:commission,\n",
       " span id:CUR151 annotator:Curation layer:Policydesigncharacteristics type:Actor tag:Addressee_default start:273 stop:331 text:committee on the sustainability of biofuels and bioliquids,\n",
       " span id:CUR152 annotator:Curation layer:Policydesigncharacteristics type:Reference tag:Ref_OtherPolicy start:402 stop:422 text:decision 1999/468/ec,\n",
       " span id:CUR153 annotator:Curation layer:Policydesigncharacteristics type:Reference tag:Ref_OtherPolicy start:577 stop:597 text:decision 1999/468/ec,\n",
       " span id:CUR154 annotator:Curation layer:Technologyandapplicationspecificity type:EnergySpecificity tag:Energy_LowCarbon start:130 stop:154 text:renewable energy sources,\n",
       " span id:CUR155 annotator:Curation layer:Technologyandapplicationspecificity type:EnergySpecificity tag:Energy_LowCarbon start:208 stop:216 text:biofuels,\n",
       " span id:CUR156 annotator:Curation layer:Technologyandapplicationspecificity type:EnergySpecificity tag:Energy_LowCarbon start:221 stop:231 text:bioliquids,\n",
       " span id:CUR157 annotator:Curation layer:Technologyandapplicationspecificity type:EnergySpecificity tag:Energy_LowCarbon start:308 stop:316 text:biofuels,\n",
       " span id:CUR158 annotator:Curation layer:Technologyandapplicationspecificity type:EnergySpecificity tag:Energy_LowCarbon start:321 stop:331 text:bioliquids]"
      ]
     },
     "execution_count": 4,
     "metadata": {},
     "output_type": "execute_result"
    }
   ],
   "source": [
    "stat_df['Curation'][2]"
   ]
  },
  {
   "cell_type": "markdown",
   "metadata": {},
   "source": [
    "Each span has a layer, type, tag, start, stop, and the annotatet text (raw)"
   ]
  },
  {
   "cell_type": "code",
   "execution_count": 5,
   "metadata": {},
   "outputs": [
    {
     "data": {
      "text/plain": [
       "span id:CUR149 annotator:Curation layer:Policydesigncharacteristics type:Actor tag:Addressee_default start:117 stop:154 text:committee on renewable energy sources"
      ]
     },
     "execution_count": 5,
     "metadata": {},
     "output_type": "execute_result"
    }
   ],
   "source": [
    "stat_df['Curation'][2][2]"
   ]
  },
  {
   "cell_type": "markdown",
   "metadata": {},
   "source": [
    "Each tag further has a repository, list of all the tokens and an annotator\n",
    "\n"
   ]
  },
  {
   "cell_type": "code",
   "execution_count": 6,
   "metadata": {},
   "outputs": [
    {
     "data": {
      "text/plain": [
       "policy:EU_32009L0028 title:Title_0 chapter:Chapter_0 section:Section_0 article:Article_25"
      ]
     },
     "execution_count": 6,
     "metadata": {},
     "output_type": "execute_result"
    }
   ],
   "source": [
    "stat_df['Curation'][2][2].rep"
   ]
  },
  {
   "cell_type": "code",
   "execution_count": 7,
   "metadata": {},
   "outputs": [
    {
     "data": {
      "text/plain": [
       "[start:117 stop:126 text:committee tag_count:1,\n",
       " start:127 stop:129 text:on tag_count:1,\n",
       " start:130 stop:139 text:renewable tag_count:2,\n",
       " start:140 stop:146 text:energy tag_count:2,\n",
       " start:147 stop:154 text:sources tag_count:2]"
      ]
     },
     "execution_count": 7,
     "metadata": {},
     "output_type": "execute_result"
    }
   ],
   "source": [
    "stat_df['Curation'][2][2].tokens"
   ]
  },
  {
   "cell_type": "code",
   "execution_count": 8,
   "metadata": {},
   "outputs": [
    {
     "data": {
      "text/plain": [
       "'Curation'"
      ]
     },
     "execution_count": 8,
     "metadata": {},
     "output_type": "execute_result"
    }
   ],
   "source": [
    "stat_df['Curation'][2][2].annotator"
   ]
  },
  {
   "cell_type": "markdown",
   "metadata": {},
   "source": [
    "It is important to note that the token objects reside in the separate column tokens, the list of tokens for each tag is just a pointer to those objects residing in the token column.\n",
    "\n",
    "Each Token has a start, stop, text and a tag_count. The tag_count counts how many times this specific token has been labeled."
   ]
  },
  {
   "cell_type": "code",
   "execution_count": 11,
   "metadata": {},
   "outputs": [
    {
     "data": {
      "text/plain": [
       "start:257 stop:265 text:assisted tag_count:0"
      ]
     },
     "execution_count": 11,
     "metadata": {},
     "output_type": "execute_result"
    }
   ],
   "source": [
    "stat_df['Tokens'][2][49]"
   ]
  },
  {
   "cell_type": "markdown",
   "metadata": {},
   "source": [
    "Repository's can be created trought the normal constructor **init**(self, policy, title, chapter, section, article) , or trough the classmethod **from_repository_name**(cls, rep_str), taking only a big string of the repository name. "
   ]
  },
  {
   "cell_type": "markdown",
   "metadata": {},
   "source": [
    "### Conditional Repository"
   ]
  },
  {
   "cell_type": "markdown",
   "metadata": {},
   "source": [
    "The repository class can be used to create conditional repositorys, which are usefull to search in all the paragraphs matching a certain condition. Let's go on and create a test repository:"
   ]
  },
  {
   "cell_type": "code",
   "execution_count": 12,
   "metadata": {},
   "outputs": [
    {
     "data": {
      "text/plain": [
       "policy:EU_32008R1099 title:Title_0 chapter:Chapter_0 section:Section_0 article:Article_03"
      ]
     },
     "execution_count": 12,
     "metadata": {},
     "output_type": "execute_result"
    }
   ],
   "source": [
    "test_dir = repository.from_repository_name(\"EU_32008R1099_Title_0_Chapter_0_Section_0_Article_03\")\n",
    "test_dir"
   ]
  },
  {
   "cell_type": "markdown",
   "metadata": {},
   "source": [
    "Let's now create a conditional repository. On each hirarchy, I can either match a certain name or I can match all the names by inserting 'None'. Simply speaking, we match all repositorys with the attributes given other than 'None. Let's assume I want to match all the tags in 'EU_32008R1099' I would create a repository like this:"
   ]
  },
  {
   "cell_type": "code",
   "execution_count": 13,
   "metadata": {},
   "outputs": [
    {
     "data": {
      "text/plain": [
       "policy:EU_32008R1099 title:None chapter:None section:None article:None"
      ]
     },
     "execution_count": 13,
     "metadata": {},
     "output_type": "execute_result"
    }
   ],
   "source": [
    "test_dir = repository(policy = 'EU_32008R1099', title = None, chapter = None, section = None, article = None)\n",
    "test_dir"
   ]
  },
  {
   "cell_type": "markdown",
   "metadata": {},
   "source": [
    "or simply"
   ]
  },
  {
   "cell_type": "code",
   "execution_count": 14,
   "metadata": {},
   "outputs": [
    {
     "data": {
      "text/plain": [
       "policy:EU_32008R1099 title:None chapter:None section:None article:None"
      ]
     },
     "execution_count": 14,
     "metadata": {},
     "output_type": "execute_result"
    }
   ],
   "source": [
    "test_dir = repository(policy = 'EU_32008R1099')\n",
    "test_dir"
   ]
  },
  {
   "cell_type": "markdown",
   "metadata": {},
   "source": [
    "If I want to match all the tags that are stored in the first article in all the policy's, titles, chapters and sections"
   ]
  },
  {
   "cell_type": "code",
   "execution_count": 15,
   "metadata": {},
   "outputs": [
    {
     "data": {
      "text/plain": [
       "policy:None title:None chapter:None section:None article:Article_01"
      ]
     },
     "execution_count": 15,
     "metadata": {},
     "output_type": "execute_result"
    }
   ],
   "source": [
    "test_dir = repository( article = 'Article_01')\n",
    "test_dir"
   ]
  },
  {
   "cell_type": "markdown",
   "metadata": {},
   "source": [
    "## Class Evaluator and evaluation functions"
   ]
  },
  {
   "cell_type": "markdown",
   "metadata": {},
   "source": [
    "All the functions calculating statistics are contained the class \"Corpus\", it's only class member is the dataframe. The only constructor argument is a dataframe created by the load data script (NLP_spark/src/d01_data/load_data.py). To start the evaluation process, a new object of the class \"Corpus\" must be created."
   ]
  },
  {
   "cell_type": "code",
   "execution_count": 16,
   "metadata": {},
   "outputs": [],
   "source": [
    "test_corpus = Corpus(stat_df)"
   ]
  },
  {
   "cell_type": "code",
   "execution_count": 17,
   "metadata": {},
   "outputs": [
    {
     "data": {
      "text/plain": [
       "(412, 13)"
      ]
     },
     "execution_count": 17,
     "metadata": {},
     "output_type": "execute_result"
    }
   ],
   "source": [
    "test_corpus.df.shape"
   ]
  },
  {
   "cell_type": "markdown",
   "metadata": {},
   "source": [
    "By default, \"Whereas\" (recital) and \"Front\" articles are excluded. In case they should be included, initizialize the the test_corpus by setting front_and_whereas = True:"
   ]
  },
  {
   "cell_type": "code",
   "execution_count": 18,
   "metadata": {},
   "outputs": [],
   "source": [
    "test_corpus_front_and_whereas = Corpus(stat_df, front_and_whereas = True)"
   ]
  },
  {
   "cell_type": "code",
   "execution_count": 19,
   "metadata": {},
   "outputs": [
    {
     "data": {
      "text/plain": [
       "(448, 13)"
      ]
     },
     "execution_count": 19,
     "metadata": {},
     "output_type": "execute_result"
    }
   ],
   "source": [
    "test_corpus_front_and_whereas.df.shape"
   ]
  },
  {
   "cell_type": "markdown",
   "metadata": {},
   "source": [
    "### Drop Articles"
   ]
  },
  {
   "cell_type": "markdown",
   "metadata": {},
   "source": [
    "The Corpus class allows to drop certain articles based on matching, e.g all the articles that **contain** the given string are droped. The string can be either passed as a single string or a list of strings."
   ]
  },
  {
   "cell_type": "code",
   "execution_count": 20,
   "metadata": {},
   "outputs": [],
   "source": [
    "matching_strings = ['front', 'Whereas']\n",
    "test_corpus_front_and_whereas.drop_articles_based_on_string(matching_strings)"
   ]
  },
  {
   "cell_type": "code",
   "execution_count": 21,
   "metadata": {},
   "outputs": [
    {
     "data": {
      "text/plain": [
       "(412, 13)"
      ]
     },
     "execution_count": 21,
     "metadata": {},
     "output_type": "execute_result"
    }
   ],
   "source": [
    "test_corpus_front_and_whereas.df.shape"
   ]
  },
  {
   "cell_type": "markdown",
   "metadata": {},
   "source": [
    "## Statistics"
   ]
  },
  {
   "cell_type": "markdown",
   "metadata": {},
   "source": [
    "The most important function is the member function get_span_list(self, conditional_rep, columns, item, value). This functions takes a conditional repository (explained before), a item which can be either 'class, 'type' or 'tag' and a value. E.g item = 'layer' and value = 'Policydesigncharacteristics' or item = 'type and value ='Compliance' and item = 'tag' and value = 'Form_monitoring'. \n",
    "\n",
    "The function returns a list of all the tags in all the paragraphs matching the conditional repository and matching the item and value given. E.g I want to match all the tags of type 'Policydesigncharacteristics' in the policy 'EU_32008R1099':"
   ]
  },
  {
   "cell_type": "code",
   "execution_count": 22,
   "metadata": {},
   "outputs": [
    {
     "data": {
      "text/plain": [
       "[span id:A1652 annotator:Alisha layer:Instrumenttypes type:InstrumentType tag:RegulatoryInstr start:1343 stop:1363 text:regulatory procedure,\n",
       " span id:A1653 annotator:Alisha layer:Instrumenttypes type:InstrumentType tag:RegulatoryInstr start:1525 stop:1545 text:regulatory procedure,\n",
       " span id:A1654 annotator:Alisha layer:Policydesigncharacteristics type:Compliance tag:Form_monitoring start:21 stop:38 text:energy statistics,\n",
       " span id:A1655 annotator:Alisha layer:Policydesigncharacteristics type:Compliance tag:Form_monitoring start:56 stop:78 text:consumption statistics,\n",
       " span id:A1656 annotator:Alisha layer:Policydesigncharacteristics type:Objective tag:Objective_QualIntention_noCCM start:100 stop:181 text:improving the quality of renewable energy and final energy consumption statistics,\n",
       " span id:A1657 annotator:Alisha layer:Policydesigncharacteristics type:Compliance tag:Form_monitoring start:125 stop:181 text:renewable energy and final energy consumption statistics,\n",
       " span id:A1658 annotator:Alisha layer:Policydesigncharacteristics type:Actor tag:Authority_monitoring start:187 stop:197 text:commission,\n",
       " span id:A1659 annotator:Alisha layer:Policydesigncharacteristics type:Actor tag:Authority_monitoring start:199 stop:207 text:eurostat,\n",
       " span id:A1660 annotator:Alisha layer:Policydesigncharacteristics type:Actor tag:Addressee_monitored start:236 stop:249 text:member states,\n",
       " span id:A1661 annotator:Alisha layer:Policydesigncharacteristics type:Compliance tag:Form_monitoring start:293 stop:303 text:comparable,\n",
       " span id:A1662 annotator:Alisha layer:Policydesigncharacteristics type:Compliance tag:Form_monitoring start:305 stop:316 text:transparent,\n",
       " span id:A1663 annotator:Alisha layer:Policydesigncharacteristics type:Compliance tag:Form_monitoring start:318 stop:326 text:detailed,\n",
       " span id:A1664 annotator:Alisha layer:Policydesigncharacteristics type:Compliance tag:Form_monitoring start:331 stop:339 text:flexible,\n",
       " span id:A1665 annotator:Alisha layer:Policydesigncharacteristics type:Compliance tag:Form_monitoring start:403 stop:420 text:energy statistics,\n",
       " span id:A1666 annotator:Alisha layer:Policydesigncharacteristics type:Objective tag:Objective_QualIntention start:433 stop:563 text:make available additional, pertinent, detailed statistics on each renewable energy source, annually and in a cost-effective manner,\n",
       " span id:A1667 annotator:Alisha layer:Policydesigncharacteristics type:Actor tag:Authority_monitoring start:569 stop:579 text:commission,\n",
       " span id:A1668 annotator:Alisha layer:Policydesigncharacteristics type:Actor tag:Authority_monitoring start:581 stop:589 text:eurostat,\n",
       " span id:A1669 annotator:Alisha layer:Policydesigncharacteristics type:Compliance tag:Form_monitoring start:792 stop:814 text:consumption statistics,\n",
       " span id:A1670 annotator:Alisha layer:Policydesigncharacteristics type:Compliance tag:Form_monitoring start:990 stop:1000 text:evaluating,\n",
       " span id:A1671 annotator:Alisha layer:Policydesigncharacteristics type:Compliance tag:Form_monitoring start:1286 stop:1303 text:energy statistics,\n",
       " span id:A1672 annotator:Alisha layer:Policydesigncharacteristics type:Compliance tag:Form_monitoring start:1438 stop:1460 text:consumption statistics,\n",
       " span id:A1673 annotator:Alisha layer:Technologyandapplicationspecificity type:EnergySpecificity tag:Energy_Other start:21 stop:27 text:energy,\n",
       " span id:A1674 annotator:Alisha layer:Technologyandapplicationspecificity type:ApplicationSpecificity tag:App_Other start:49 stop:67 text:energy consumption,\n",
       " span id:A1675 annotator:Alisha layer:Technologyandapplicationspecificity type:EnergySpecificity tag:Energy_Other start:49 stop:55 text:energy,\n",
       " span id:A1676 annotator:Alisha layer:Technologyandapplicationspecificity type:ApplicationSpecificity tag:App_Other start:152 stop:170 text:energy consumption,\n",
       " span id:A1677 annotator:Alisha layer:Technologyandapplicationspecificity type:EnergySpecificity tag:Energy_Other start:152 stop:158 text:energy,\n",
       " span id:A1678 annotator:Alisha layer:Technologyandapplicationspecificity type:EnergySpecificity tag:Energy_Other start:393 stop:409 text:renewable energy,\n",
       " span id:A1679 annotator:Alisha layer:Technologyandapplicationspecificity type:EnergySpecificity tag:Energy_Other start:499 stop:515 text:renewable energy,\n",
       " span id:A1680 annotator:Alisha layer:Technologyandapplicationspecificity type:ApplicationSpecificity tag:App_Other start:785 stop:803 text:energy consumption,\n",
       " span id:A1681 annotator:Alisha layer:Technologyandapplicationspecificity type:EnergySpecificity tag:Energy_Other start:785 stop:791 text:energy,\n",
       " span id:A1682 annotator:Alisha layer:Technologyandapplicationspecificity type:EnergySpecificity tag:Energy_Other start:1114 stop:1122 text:energies,\n",
       " span id:A1683 annotator:Alisha layer:Technologyandapplicationspecificity type:EnergySpecificity tag:Energy_Other start:1142 stop:1148 text:energy,\n",
       " span id:A1684 annotator:Alisha layer:Technologyandapplicationspecificity type:EnergySpecificity tag:Energy_LowCarbon start:1276 stop:1292 text:renewable energy,\n",
       " span id:A1685 annotator:Alisha layer:Technologyandapplicationspecificity type:ApplicationSpecificity tag:App_Other start:1431 stop:1449 text:energy consumption,\n",
       " span id:A1686 annotator:Alisha layer:Technologyandapplicationspecificity type:EnergySpecificity tag:Energy_Other start:1431 stop:1437 text:energy,\n",
       " span id:B830 annotator:Fride layer:Policydesigncharacteristics type:Resource tag:Resource_Other start:11 stop:38 text:renewable energy statistics,\n",
       " span id:B831 annotator:Fride layer:Policydesigncharacteristics type:Resource tag:Resource_Other start:43 stop:78 text:final energy consumption statistics,\n",
       " span id:B832 annotator:Fride layer:Policydesigncharacteristics type:Objective tag:Objective_QualIntention_noCCM start:100 stop:181 text:improving the quality of renewable energy and final energy consumption statistics,\n",
       " span id:B833 annotator:Fride layer:Policydesigncharacteristics type:Resource tag:Resource_Other start:125 stop:181 text:renewable energy and final energy consumption statistics,\n",
       " span id:B834 annotator:Fride layer:Policydesigncharacteristics type:Actor tag:Authority_default start:187 stop:208 text:commission (eurostat),\n",
       " span id:B835 annotator:Fride layer:Policydesigncharacteristics type:Objective tag:Objective_QualIntention_noCCM start:278 stop:339 text:statistics are comparable, transparent, detailed and flexible,\n",
       " span id:B836 annotator:Fride layer:Policydesigncharacteristics type:Resource tag:Resource_Other start:278 stop:288 text:statistics,\n",
       " span id:B837 annotator:Fride layer:Policydesigncharacteristics type:Resource tag:Resource_Other start:393 stop:420 text:renewable energy statistics,\n",
       " span id:B838 annotator:Fride layer:Policydesigncharacteristics type:Resource tag:Resource_Other start:480 stop:490 text:statistics,\n",
       " span id:B839 annotator:Fride layer:Policydesigncharacteristics type:Time tag:Time_Resources start:524 stop:532 text:annually,\n",
       " span id:B840 annotator:Fride layer:Policydesigncharacteristics type:Actor tag:Authority_monitoring start:569 stop:590 text:commission (eurostat),\n",
       " span id:B841 annotator:Fride layer:Policydesigncharacteristics type:Resource tag:Resource_Other start:625 stop:635 text:statistics,\n",
       " span id:B842 annotator:Fride layer:Policydesigncharacteristics type:Compliance tag:Form_monitoring start:688 stop:697 text:reviewing,\n",
       " span id:B843 annotator:Fride layer:Policydesigncharacteristics type:Resource tag:Resource_Other start:779 stop:814 text:final energy consumption statistics,\n",
       " span id:B844 annotator:Fride layer:Policydesigncharacteristics type:Compliance tag:Form_monitoring start:884 stop:900 text:existing studies,\n",
       " span id:B845 annotator:Fride layer:Policydesigncharacteristics type:Compliance tag:Form_monitoring start:905 stop:930 text:feasibility pilot studies,\n",
       " span id:B846 annotator:Fride layer:Policydesigncharacteristics type:Compliance tag:Form_monitoring start:943 stop:964 text:cost-benefit analyses,\n",
       " span id:B847 annotator:Fride layer:Policydesigncharacteristics type:Compliance tag:Form_monitoring start:1021 stop:1034 text:pilot studies,\n",
       " span id:B848 annotator:Fride layer:Policydesigncharacteristics type:Compliance tag:Form_monitoring start:1039 stop:1060 text:cost-benefit analyses,\n",
       " span id:B849 annotator:Fride layer:Policydesigncharacteristics type:Resource tag:Resource_Other start:1212 stop:1222 text:statistics,\n",
       " span id:B850 annotator:Fride layer:Policydesigncharacteristics type:Resource tag:Resource_Other start:1276 stop:1303 text:renewable energy statistics,\n",
       " span id:B851 annotator:Fride layer:Policydesigncharacteristics type:Resource tag:Resource_Other start:1425 stop:1460 text:final energy consumption statistics,\n",
       " span id:B852 annotator:Fride layer:Technologyandapplicationspecificity type:EnergySpecificity tag:Energy_LowCarbon start:499 stop:522 text:renewable energy source,\n",
       " span id:B853 annotator:Fride layer:Technologyandapplicationspecificity type:EnergySpecificity tag:Energy_Other start:1108 stop:1122 text:final energies,\n",
       " span id:B854 annotator:Fride layer:Technologyandapplicationspecificity type:EnergySpecificity tag:Energy_Other start:1142 stop:1148 text:energy,\n",
       " span id:B855 annotator:Fride layer:Technologyandapplicationspecificity type:ApplicationSpecificity tag:App_Other start:1149 stop:1153 text:uses,\n",
       " span id:C669 annotator:Onerva layer:Policydesigncharacteristics type:Objective tag:Objective_QualIntention start:100 stop:181 text:improving the quality of renewable energy and final energy consumption statistics,\n",
       " span id:C670 annotator:Onerva layer:Policydesigncharacteristics type:Actor tag:Authority_default start:187 stop:208 text:commission (eurostat),\n",
       " span id:C671 annotator:Onerva layer:Policydesigncharacteristics type:Actor tag:Authority_default start:236 stop:249 text:member states,\n",
       " span id:C672 annotator:Onerva layer:Policydesigncharacteristics type:Compliance tag:Form_monitoring start:350 stop:359 text:reviewing,\n",
       " span id:C673 annotator:Onerva layer:Policydesigncharacteristics type:Actor tag:Authority_default start:569 stop:590 text:commission (eurostat),\n",
       " span id:C674 annotator:Onerva layer:Policydesigncharacteristics type:Compliance tag:Form_monitoring start:688 stop:697 text:reviewing,\n",
       " span id:C675 annotator:Onerva layer:Policydesigncharacteristics type:Resource tag:Resource_Other start:1276 stop:1303 text:renewable energy statistics,\n",
       " span id:C676 annotator:Onerva layer:Policydesigncharacteristics type:Resource tag:Resource_Other start:1431 stop:1460 text:energy consumption statistics,\n",
       " span id:C677 annotator:Onerva layer:Technologyandapplicationspecificity type:TechnologySpecificity tag:Tech_LowCarbon start:125 stop:141 text:renewable energy,\n",
       " span id:C678 annotator:Onerva layer:Technologyandapplicationspecificity type:TechnologySpecificity tag:Tech_LowCarbon start:393 stop:409 text:renewable energy,\n",
       " span id:C679 annotator:Onerva layer:Technologyandapplicationspecificity type:TechnologySpecificity tag:Tech_LowCarbon start:499 stop:515 text:renewable energy,\n",
       " span id:C680 annotator:Onerva layer:Technologyandapplicationspecificity type:TechnologySpecificity tag:Tech_LowCarbon start:1276 stop:1292 text:renewable energy,\n",
       " span id:A1749 annotator:Alisha layer:Instrumenttypes type:InstrumentType tag:RegulatoryInstr start:574 stop:594 text:regulatory procedure,\n",
       " span id:A1750 annotator:Alisha layer:Policydesigncharacteristics type:Time tag:Time_Monitoring start:11 stop:17 text:annual,\n",
       " span id:A1751 annotator:Alisha layer:Policydesigncharacteristics type:Compliance tag:Form_monitoring start:18 stop:36 text:nuclear statistics,\n",
       " span id:A1752 annotator:Alisha layer:Policydesigncharacteristics type:Actor tag:Authority_monitoring start:42 stop:52 text:commission,\n",
       " span id:A1753 annotator:Alisha layer:Policydesigncharacteristics type:Actor tag:Authority_monitoring start:54 stop:62 text:eurostat,\n",
       " span id:A1754 annotator:Alisha layer:Policydesigncharacteristics type:Actor tag:Addressee_sector start:95 stop:116 text:nuclear energy sector,\n",
       " span id:A1755 annotator:Alisha layer:Policydesigncharacteristics type:Time tag:Time_Monitoring start:144 stop:150 text:annual,\n",
       " span id:A1756 annotator:Alisha layer:Policydesigncharacteristics type:Compliance tag:Form_monitoring start:151 stop:169 text:nuclear statistics,\n",
       " span id:A1757 annotator:Alisha layer:Policydesigncharacteristics type:Compliance tag:Form_monitoring start:185 stop:193 text:reported,\n",
       " span id:A1758 annotator:Alisha layer:Policydesigncharacteristics type:Time tag:Time_Monitoring start:216 stop:220 text:2009,\n",
       " span id:A1759 annotator:Alisha layer:Policydesigncharacteristics type:Time tag:Time_Monitoring start:484 stop:490 text:annual,\n",
       " span id:A1760 annotator:Alisha layer:Policydesigncharacteristics type:Compliance tag:Form_monitoring start:491 stop:509 text:nuclear statistics,\n",
       " span id:A1761 annotator:Alisha layer:Technologyandapplicationspecificity type:EnergySpecificity tag:Energy_LowCarbon start:18 stop:25 text:nuclear,\n",
       " span id:A1762 annotator:Alisha layer:Technologyandapplicationspecificity type:EnergySpecificity tag:Energy_LowCarbon start:95 stop:109 text:nuclear energy,\n",
       " span id:A1763 annotator:Alisha layer:Technologyandapplicationspecificity type:EnergySpecificity tag:Energy_LowCarbon start:151 stop:158 text:nuclear,\n",
       " span id:A1764 annotator:Alisha layer:Technologyandapplicationspecificity type:EnergySpecificity tag:Energy_LowCarbon start:491 stop:498 text:nuclear,\n",
       " span id:B856 annotator:Fride layer:Policydesigncharacteristics type:Resource tag:Resource_Other start:11 stop:36 text:annual nuclear statistics,\n",
       " span id:B857 annotator:Fride layer:Policydesigncharacteristics type:Actor tag:Authority_default start:38 stop:63 text:the commission (eurostat),\n",
       " span id:B858 annotator:Fride layer:Policydesigncharacteristics type:Resource tag:Resource_Other start:144 stop:169 text:annual nuclear statistics,\n",
       " span id:B859 annotator:Fride layer:Policydesigncharacteristics type:Time tag:Time_Resources start:211 stop:228 text:from 2009 onwards,\n",
       " span id:B860 annotator:Fride layer:Policydesigncharacteristics type:Resource tag:Resource_Other start:484 stop:509 text:annual nuclear statistics,\n",
       " span id:C681 annotator:Onerva layer:Policydesigncharacteristics type:Resource tag:Resource_Other start:11 stop:36 text:annual nuclear statistics,\n",
       " span id:C682 annotator:Onerva layer:Policydesigncharacteristics type:Actor tag:Authority_default start:38 stop:63 text:the commission (eurostat),\n",
       " span id:C683 annotator:Onerva layer:Policydesigncharacteristics type:Actor tag:Addressee_sector start:95 stop:126 text:nuclear energy sector in the eu,\n",
       " span id:C684 annotator:Onerva layer:Policydesigncharacteristics type:Resource tag:Resource_Other start:144 stop:169 text:annual nuclear statistics,\n",
       " span id:C685 annotator:Onerva layer:Policydesigncharacteristics type:Compliance tag:Form_monitoring start:185 stop:193 text:reported,\n",
       " span id:C686 annotator:Onerva layer:Policydesigncharacteristics type:Compliance tag:Form_monitoring start:256 stop:264 text:reported,\n",
       " span id:C687 annotator:Onerva layer:Policydesigncharacteristics type:Resource tag:Resource_MonSpending start:414 stop:430 text:production costs,\n",
       " span id:C688 annotator:Onerva layer:Policydesigncharacteristics type:Compliance tag:Form_monitoring start:443 stop:452 text:reporting,\n",
       " span id:C689 annotator:Onerva layer:Policydesigncharacteristics type:Resource tag:Resource_Other start:484 stop:509 text:annual nuclear statistics,\n",
       " span id:C690 annotator:Onerva layer:Technologyandapplicationspecificity type:TechnologySpecificity tag:Tech_LowCarbon start:18 stop:25 text:nuclear,\n",
       " span id:C691 annotator:Onerva layer:Technologyandapplicationspecificity type:TechnologySpecificity tag:Tech_LowCarbon start:95 stop:109 text:nuclear energy,\n",
       " span id:C692 annotator:Onerva layer:Technologyandapplicationspecificity type:TechnologySpecificity tag:Tech_LowCarbon start:151 stop:158 text:nuclear,\n",
       " span id:A6149 annotator:Alisha layer:Instrumenttypes type:InstrumentType tag:RegulatoryInstr start:425 stop:445 text:regulatory procedure,\n",
       " span id:A6150 annotator:Alisha layer:Instrumenttypes type:InstrumentType tag:RegulatoryInstr start:635 stop:655 text:regulatory procedure,\n",
       " span id:A6151 annotator:Alisha layer:Policydesigncharacteristics type:Actor tag:Addressee_monitored start:48 stop:61 text:member states,\n",
       " span id:A6152 annotator:Alisha layer:Policydesigncharacteristics type:Actor tag:Authority_monitoring start:84 stop:94 text:commission,\n",
       " span id:A6153 annotator:Alisha layer:Policydesigncharacteristics type:Actor tag:Authority_monitoring start:96 stop:104 text:eurostat,\n",
       " span id:A6154 annotator:Alisha layer:Policydesigncharacteristics type:Compliance tag:Form_monitoring start:110 stop:129 text:national statistics,\n",
       " span id:A6155 annotator:Alisha layer:Policydesigncharacteristics type:Compliance tag:Form_monitoring start:366 stop:385 text:national statistics,\n",
       " span id:A6156 annotator:Alisha layer:Policydesigncharacteristics type:Actor tag:Addressee_monitored start:528 stop:540 text:member state,\n",
       " span id:A6157 annotator:Alisha layer:Policydesigncharacteristics type:Reversibility tag:Reversibility_policy start:553 stop:578 text:exemptions or derogations,\n",
       " span id:A6158 annotator:Alisha layer:Policydesigncharacteristics type:Actor tag:Authority_monitoring start:601 stop:611 text:commission,\n",
       " span id:A6159 annotator:Alisha layer:Policydesigncharacteristics type:Compliance tag:Form_monitoring start:709 stop:728 text:national statistics,\n",
       " span id:A6160 annotator:Alisha layer:Policydesigncharacteristics type:Reversibility tag:Reversibility_policy start:771 stop:802 text:excessive burden on respondents,\n",
       " span id:A6161 annotator:Alisha layer:Policydesigncharacteristics type:Actor tag:Authority_monitoring start:814 stop:824 text:commission,\n",
       " span id:A6162 annotator:Alisha layer:Policydesigncharacteristics type:Actor tag:Authority_monitoring start:826 stop:834 text:eurostat,\n",
       " span id:A6163 annotator:Alisha layer:Policydesigncharacteristics type:Time tag:Time_Monitoring start:854 stop:860 text:yearly,\n",
       " span id:A6164 annotator:Alisha layer:Policydesigncharacteristics type:Compliance tag:Form_monitoring start:861 stop:878 text:energy statistics,\n",
       " span id:A6165 annotator:Alisha layer:Policydesigncharacteristics type:Time tag:Time_Monitoring start:882 stop:892 text:31 january,\n",
       " span id:A6166 annotator:Alisha layer:Technologyandapplicationspecificity type:EnergySpecificity tag:Energy_Other start:861 stop:867 text:energy,\n",
       " span id:B9617 annotator:Fride layer:Instrumenttypes type:InstrumentType tag:RegulatoryInstr start:241 stop:252 text:derogations,\n",
       " span id:B9618 annotator:Fride layer:Instrumenttypes type:InstrumentType tag:RegulatoryInstr start:257 stop:267 text:exemptions,\n",
       " span id:B9619 annotator:Fride layer:Instrumenttypes type:InstrumentType tag:RegulatoryInstr start:553 stop:563 text:exemptions,\n",
       " span id:B9620 annotator:Fride layer:Instrumenttypes type:InstrumentType tag:RegulatoryInstr start:567 stop:578 text:derogations,\n",
       " span id:B9621 annotator:Fride layer:Policydesigncharacteristics type:Actor tag:Addressee_default start:48 stop:61 text:member states,\n",
       " span id:B9622 annotator:Fride layer:Policydesigncharacteristics type:Actor tag:Addressee_resource start:84 stop:105 text:commission (eurostat),\n",
       " span id:B9623 annotator:Fride layer:Policydesigncharacteristics type:Resource tag:Resource_Other start:110 stop:129 text:national statistics,\n",
       " span id:B9624 annotator:Fride layer:Policydesigncharacteristics type:Time tag:Time_Resources start:228 stop:239 text:time limits,\n",
       " span id:B9625 annotator:Fride layer:Policydesigncharacteristics type:Resource tag:Resource_Other start:366 stop:385 text:national statistics,\n",
       " span id:B9626 annotator:Fride layer:Policydesigncharacteristics type:Actor tag:Addressee_default start:528 stop:540 text:member state,\n",
       " span id:B9627 annotator:Fride layer:Policydesigncharacteristics type:Actor tag:Authority_default start:601 stop:611 text:commission,\n",
       " span id:B9628 annotator:Fride layer:Policydesigncharacteristics type:Resource tag:Resource_Other start:709 stop:728 text:national statistics,\n",
       " span id:B9629 annotator:Fride layer:Policydesigncharacteristics type:Actor tag:Addressee_default start:814 stop:835 text:commission (eurostat),\n",
       " span id:B9630 annotator:Fride layer:Policydesigncharacteristics type:Resource tag:Resource_Other start:861 stop:878 text:energy statistics,\n",
       " span id:B9631 annotator:Fride layer:Policydesigncharacteristics type:Time tag:Time_Compliance start:882 stop:941 text:31 january of the second year following the reported period,\n",
       " span id:C6620 annotator:Onerva layer:Policydesigncharacteristics type:Actor tag:Authority_default start:48 stop:61 text:member states,\n",
       " span id:C6621 annotator:Onerva layer:Policydesigncharacteristics type:Actor tag:Addressee_default start:84 stop:105 text:commission (eurostat),\n",
       " span id:C6622 annotator:Onerva layer:Policydesigncharacteristics type:Resource tag:Resource_Other start:110 stop:129 text:national statistics,\n",
       " span id:C6623 annotator:Onerva layer:Policydesigncharacteristics type:Resource tag:Resource_Other start:366 stop:385 text:national statistics,\n",
       " span id:C6624 annotator:Onerva layer:Policydesigncharacteristics type:Actor tag:Authority_default start:528 stop:540 text:member state,\n",
       " span id:C6625 annotator:Onerva layer:Policydesigncharacteristics type:Actor tag:Authority_default start:601 stop:611 text:commission,\n",
       " span id:C6626 annotator:Onerva layer:Policydesigncharacteristics type:Resource tag:Resource_Other start:709 stop:728 text:national statistics,\n",
       " span id:C6627 annotator:Onerva layer:Policydesigncharacteristics type:Actor tag:Authority_default start:814 stop:835 text:commission (eurostat),\n",
       " span id:C6628 annotator:Onerva layer:Policydesigncharacteristics type:Resource tag:Resource_Other start:861 stop:878 text:energy statistics,\n",
       " span id:C6629 annotator:Onerva layer:Policydesigncharacteristics type:Time tag:Time_Resources start:882 stop:941 text:31 january of the second year following the reported period,\n",
       " span id:C6630 annotator:Onerva layer:Policydesigncharacteristics type:Compliance tag:Form_monitoring start:926 stop:934 text:reported,\n",
       " span id:A6167 annotator:Alisha layer:Policydesigncharacteristics type:Actor tag:Authority_default start:32 stop:42 text:commission,\n",
       " span id:A6168 annotator:Alisha layer:Policydesigncharacteristics type:Actor tag:Authority_monitoring start:68 stop:99 text:statistical programme committee,\n",
       " span id:A6169 annotator:Alisha layer:Policydesigncharacteristics type:Reference tag:Ref_OtherPolicy start:188 stop:208 text:decision 1999/468/ec,\n",
       " span id:A6170 annotator:Alisha layer:Policydesigncharacteristics type:Reference tag:Ref_OtherPolicy start:344 stop:364 text:decision 1999/468/ec,\n",
       " span id:A6171 annotator:Alisha layer:Policydesigncharacteristics type:Reference tag:Ref_OtherPolicy start:476 stop:496 text:decision 1999/468/ec,\n",
       " span id:A6172 annotator:Alisha layer:Policydesigncharacteristics type:Time tag:Time_Compliance start:506 stop:518 text:three months,\n",
       " span id:B9632 annotator:Fride layer:Instrumenttypes type:InstrumentType tag:Unspecified start:243 stop:253 text:provisions,\n",
       " span id:B9633 annotator:Fride layer:Instrumenttypes type:InstrumentType tag:Unspecified start:399 stop:409 text:provisions,\n",
       " span id:B9634 annotator:Fride layer:Policydesigncharacteristics type:Actor tag:Authority_default start:12 stop:21 text:committee,\n",
       " span id:B9635 annotator:Fride layer:Policydesigncharacteristics type:Actor tag:Authority_default start:32 stop:42 text:commission,\n",
       " span id:B9636 annotator:Fride layer:Policydesigncharacteristics type:Reference tag:Ref_OtherPolicy start:188 stop:208 text:decision 1999/468/ec,\n",
       " span id:B9637 annotator:Fride layer:Policydesigncharacteristics type:Reference tag:Ref_OtherPolicy start:344 stop:364 text:decision 1999/468/ec,\n",
       " span id:B9638 annotator:Fride layer:Policydesigncharacteristics type:Reference tag:Ref_OtherPolicy start:476 stop:496 text:decision 1999/468/ec,\n",
       " span id:C6631 annotator:Onerva layer:Policydesigncharacteristics type:Actor tag:Authority_default start:32 stop:42 text:commission,\n",
       " span id:C6632 annotator:Onerva layer:Policydesigncharacteristics type:Actor tag:Addressee_default start:68 stop:99 text:statistical programme committee,\n",
       " span id:C6633 annotator:Onerva layer:Policydesigncharacteristics type:Reference tag:Ref_OtherPolicy start:188 stop:208 text:decision 1999/468/ec,\n",
       " span id:C6634 annotator:Onerva layer:Policydesigncharacteristics type:Reference tag:Ref_OtherPolicy start:344 stop:364 text:decision 1999/468/ec,\n",
       " span id:C6635 annotator:Onerva layer:Policydesigncharacteristics type:Reference tag:Ref_OtherPolicy start:476 stop:496 text:decision 1999/468/ec,\n",
       " span id:A6333 annotator:Alisha layer:Instrumenttypes type:InstrumentType tag:RegulatoryInstr start:246 stop:266 text:regulatory procedure,\n",
       " span id:A6334 annotator:Alisha layer:Instrumenttypes type:InstrumentType tag:RegulatoryInstr start:918 stop:938 text:regulatory procedure,\n",
       " span id:A6335 annotator:Alisha layer:Policydesigncharacteristics type:Compliance tag:Form_monitoring start:402 stop:421 text:national statistics,\n",
       " span id:A6336 annotator:Alisha layer:Policydesigncharacteristics type:Time tag:Time_Monitoring start:607 stop:613 text:annual,\n",
       " span id:A6337 annotator:Alisha layer:Policydesigncharacteristics type:Compliance tag:Form_monitoring start:614 stop:632 text:nuclear statistics,\n",
       " span id:A6338 annotator:Alisha layer:Policydesigncharacteristics type:Compliance tag:Form_monitoring start:686 stop:703 text:energy statistics,\n",
       " span id:A6339 annotator:Alisha layer:Policydesigncharacteristics type:Compliance tag:Form_monitoring start:781 stop:803 text:consumption statistics,\n",
       " span id:A6340 annotator:Alisha layer:Policydesigncharacteristics type:Compliance tag:Form_monitoring start:1051 stop:1060 text:reporting,\n",
       " span id:A6341 annotator:Alisha layer:Technologyandapplicationspecificity type:EnergySpecificity tag:Energy_LowCarbon start:614 stop:621 text:nuclear,\n",
       " span id:A6342 annotator:Alisha layer:Technologyandapplicationspecificity type:EnergySpecificity tag:Energy_LowCarbon start:676 stop:692 text:renewable energy,\n",
       " span id:A6343 annotator:Alisha layer:Technologyandapplicationspecificity type:ApplicationSpecificity tag:App_Other start:774 stop:792 text:energy consumption,\n",
       " span id:A6344 annotator:Alisha layer:Technologyandapplicationspecificity type:EnergySpecificity tag:Energy_Other start:774 stop:780 text:energy,\n",
       " span id:B9780 annotator:Fride layer:Instrumenttypes type:InstrumentType tag:Unspecified start:12 stop:33 text:implementing measures,\n",
       " span id:B9781 annotator:Fride layer:Instrumenttypes type:InstrumentType tag:Unspecified start:54 stop:62 text:measures,\n",
       " span id:B9782 annotator:Fride layer:Instrumenttypes type:InstrumentType tag:RegulatoryInstr start:837 stop:847 text:exemptions,\n",
       " span id:B9783 annotator:Fride layer:Instrumenttypes type:InstrumentType tag:RegulatoryInstr start:851 stop:862 text:derogations,\n",
       " span id:B9784 annotator:Fride layer:Policydesigncharacteristics type:Resource tag:Resource_Other start:402 stop:421 text:national statistics,\n",
       " span id:B9785 annotator:Fride layer:Policydesigncharacteristics type:Time tag:Time_Resources start:607 stop:613 text:annual,\n",
       " span id:B9786 annotator:Fride layer:Policydesigncharacteristics type:Resource tag:Resource_Other start:614 stop:632 text:nuclear statistics,\n",
       " span id:B9787 annotator:Fride layer:Policydesigncharacteristics type:Resource tag:Resource_Other start:676 stop:703 text:renewable energy statistics,\n",
       " span id:B9788 annotator:Fride layer:Policydesigncharacteristics type:Resource tag:Resource_Other start:768 stop:803 text:final energy consumption statistics,\n",
       " span id:C6945 annotator:Onerva layer:Policydesigncharacteristics type:Resource tag:Resource_Other start:1026 stop:1042 text:additional costs,\n",
       " span id:C6946 annotator:Onerva layer:Policydesigncharacteristics type:Compliance tag:Form_monitoring start:1051 stop:1060 text:reporting,\n",
       " span id:C6947 annotator:Onerva layer:Technologyandapplicationspecificity type:TechnologySpecificity tag:Tech_LowCarbon start:614 stop:621 text:nuclear,\n",
       " span id:A6345 annotator:Alisha layer:Instrumenttypes type:InstrumentType tag:RegulatoryInstr start:687 stop:707 text:regulatory procedure,\n",
       " span id:A6346 annotator:Alisha layer:Policydesigncharacteristics type:Compliance tag:Form_monitoring start:73 stop:92 text:national statistics,\n",
       " span id:A6347 annotator:Alisha layer:Policydesigncharacteristics type:Compliance tag:Form_monitoring start:103 stop:122 text:national statistics,\n",
       " span id:A6348 annotator:Alisha layer:Policydesigncharacteristics type:Compliance tag:Form_monitoring start:129 stop:137 text:reported,\n",
       " span id:A6349 annotator:Alisha layer:Policydesigncharacteristics type:Time tag:Time_Monitoring start:238 stop:244 text:annual,\n",
       " span id:A6350 annotator:Alisha layer:Policydesigncharacteristics type:Compliance tag:Form_monitoring start:254 stop:271 text:energy statistics,\n",
       " span id:A6351 annotator:Alisha layer:Policydesigncharacteristics type:Time tag:Time_Monitoring start:290 stop:297 text:monthly,\n",
       " span id:A6352 annotator:Alisha layer:Policydesigncharacteristics type:Compliance tag:Form_monitoring start:307 stop:324 text:energy statistics,\n",
       " span id:A6353 annotator:Alisha layer:Policydesigncharacteristics type:Time tag:Time_Monitoring start:343 stop:361 text:short-term monthly,\n",
       " span id:A6354 annotator:Alisha layer:Policydesigncharacteristics type:Compliance tag:Form_monitoring start:371 stop:388 text:energy statistics,\n",
       " span id:A6355 annotator:Alisha layer:Technologyandapplicationspecificity type:EnergySpecificity tag:Energy_Other start:23 stop:38 text:energy products,\n",
       " span id:A6356 annotator:Alisha layer:Technologyandapplicationspecificity type:EnergySpecificity tag:Energy_Other start:254 stop:260 text:energy,\n",
       " span id:A6357 annotator:Alisha layer:Technologyandapplicationspecificity type:EnergySpecificity tag:Energy_Other start:307 stop:313 text:energy,\n",
       " span id:A6358 annotator:Alisha layer:Technologyandapplicationspecificity type:EnergySpecificity tag:Energy_Other start:371 stop:377 text:energy,\n",
       " span id:B9789 annotator:Fride layer:Policydesigncharacteristics type:Resource tag:Resource_Other start:73 stop:92 text:national statistics,\n",
       " span id:B9790 annotator:Fride layer:Policydesigncharacteristics type:Resource tag:Resource_Other start:103 stop:122 text:national statistics,\n",
       " span id:B9791 annotator:Fride layer:Policydesigncharacteristics type:Time tag:Time_Resources start:238 stop:244 text:annual,\n",
       " span id:B9792 annotator:Fride layer:Policydesigncharacteristics type:Resource tag:Resource_Other start:254 stop:271 text:energy statistics,\n",
       " span id:B9793 annotator:Fride layer:Policydesigncharacteristics type:Time tag:Time_Resources start:290 stop:297 text:monthly,\n",
       " span id:B9794 annotator:Fride layer:Policydesigncharacteristics type:Resource tag:Resource_Other start:307 stop:324 text:energy statistics,\n",
       " span id:B9795 annotator:Fride layer:Policydesigncharacteristics type:Time tag:Time_Resources start:343 stop:361 text:short-term monthly,\n",
       " span id:B9796 annotator:Fride layer:Policydesigncharacteristics type:Resource tag:Resource_Other start:371 stop:388 text:energy statistics,\n",
       " span id:B9797 annotator:Fride layer:Policydesigncharacteristics type:Resource tag:Resource_Other start:578 stop:582 text:data,\n",
       " span id:B9798 annotator:Fride layer:Technologyandapplicationspecificity type:EnergySpecificity tag:Energy_Other start:23 stop:38 text:energy products,\n",
       " span id:C6948 annotator:Onerva layer:Policydesigncharacteristics type:Compliance tag:Form_monitoring start:129 stop:137 text:reported,\n",
       " span id:A6907 annotator:Alisha layer:Policydesigncharacteristics type:Time tag:Time_InEffect start:76 stop:110 text:20th day following its publication,\n",
       " span id:A6908 annotator:Alisha layer:Policydesigncharacteristics type:Actor tag:Addressee_default start:239 stop:252 text:member states,\n",
       " span id:B10274 annotator:Fride layer:Policydesigncharacteristics type:Time tag:Time_InEffect start:76 stop:134 text:20th day following its publication in the official journal,\n",
       " span id:B10275 annotator:Fride layer:Policydesigncharacteristics type:Actor tag:Addressee_default start:239 stop:252 text:member states,\n",
       " span id:C7929 annotator:Onerva layer:Policydesigncharacteristics type:Time tag:Time_InEffect start:52 stop:156 text:enter into force on the 20th day following its publication in the official journal of the european union,\n",
       " span id:C7930 annotator:Onerva layer:Policydesigncharacteristics type:Actor tag:Addressee_default start:239 stop:252 text:member states,\n",
       " span id:A6925 annotator:Alisha layer:Policydesigncharacteristics type:Compliance tag:Form_monitoring start:11 stop:29 text:quality assessment,\n",
       " span id:A6926 annotator:Alisha layer:Policydesigncharacteristics type:Compliance tag:Form_monitoring start:34 stop:41 text:reports,\n",
       " span id:A6927 annotator:Alisha layer:Policydesigncharacteristics type:Actor tag:Addressee_monitored start:48 stop:61 text:member states,\n",
       " span id:A6928 annotator:Alisha layer:Policydesigncharacteristics type:Reference tag:Ref_OtherPolicy start:286 stop:306 text:decision 2005/166/ec,\n",
       " span id:A6929 annotator:Alisha layer:Policydesigncharacteristics type:Reference tag:Ref_OtherPolicy start:366 stop:389 text:decision no 280/2004/ec,\n",
       " span id:A6930 annotator:Alisha layer:Policydesigncharacteristics type:Reference tag:Ref_Strategy_Agreement start:534 stop:548 text:kyoto protocol,\n",
       " span id:A6931 annotator:Alisha layer:Policydesigncharacteristics type:Compliance tag:Form_monitoring start:692 stop:701 text:relevance,\n",
       " span id:A6932 annotator:Alisha layer:Policydesigncharacteristics type:Compliance tag:Form_monitoring start:803 stop:811 text:accuracy,\n",
       " span id:A6933 annotator:Alisha layer:Policydesigncharacteristics type:Compliance tag:Form_monitoring start:890 stop:900 text:timeliness,\n",
       " span id:A6934 annotator:Alisha layer:Policydesigncharacteristics type:Compliance tag:Form_monitoring start:1020 stop:1031 text:punctuality,\n",
       " span id:A6935 annotator:Alisha layer:Policydesigncharacteristics type:Compliance tag:Form_monitoring start:1165 stop:1178 text:accessibility,\n",
       " span id:A6936 annotator:Alisha layer:Policydesigncharacteristics type:Compliance tag:Form_monitoring start:1185 stop:1192 text:clarity,\n",
       " span id:A6937 annotator:Alisha layer:Policydesigncharacteristics type:Compliance tag:Form_monitoring start:1297 stop:1310 text:comparability,\n",
       " span id:A6938 annotator:Alisha layer:Policydesigncharacteristics type:Compliance tag:Form_monitoring start:1537 stop:1546 text:coherence,\n",
       " span id:A6939 annotator:Alisha layer:Policydesigncharacteristics type:Time tag:Time_Monitoring start:1658 stop:1674 text:every five years,\n",
       " span id:A6940 annotator:Alisha layer:Policydesigncharacteristics type:Actor tag:Addressee_monitored start:1676 stop:1689 text:member states,\n",
       " span id:A6941 annotator:Alisha layer:Policydesigncharacteristics type:Actor tag:Authority_monitoring start:1708 stop:1718 text:commission,\n",
       " span id:A6942 annotator:Alisha layer:Policydesigncharacteristics type:Actor tag:Authority_monitoring start:1720 stop:1728 text:eurostat,\n",
       " span id:A6943 annotator:Alisha layer:Policydesigncharacteristics type:Compliance tag:Form_monitoring start:1737 stop:1743 text:report,\n",
       " span id:A6944 annotator:Alisha layer:Policydesigncharacteristics type:Time tag:Time_Compliance start:1851 stop:1868 text:within six months,\n",
       " span id:A6945 annotator:Alisha layer:Policydesigncharacteristics type:Actor tag:Authority_monitoring start:1902 stop:1912 text:commission,\n",
       " span id:A6946 annotator:Alisha layer:Policydesigncharacteristics type:Actor tag:Authority_monitoring start:1914 stop:1922 text:eurostat,\n",
       " span id:A6947 annotator:Alisha layer:Policydesigncharacteristics type:Actor tag:Addressee_monitored start:1997 stop:2010 text:member states,\n",
       " span id:A6948 annotator:Alisha layer:Policydesigncharacteristics type:Actor tag:Authority_monitoring start:2029 stop:2039 text:commission,\n",
       " span id:A6949 annotator:Alisha layer:Policydesigncharacteristics type:Actor tag:Authority_monitoring start:2041 stop:2049 text:eurostat,\n",
       " span id:A6950 annotator:Alisha layer:Policydesigncharacteristics type:Compliance tag:Form_monitoring start:2053 stop:2059 text:report,\n",
       " span id:A6951 annotator:Alisha layer:Technologyandapplicationspecificity type:EnergySpecificity tag:Energy_Other start:190 stop:196 text:energy,\n",
       " span id:B10276 annotator:Fride layer:Instrumenttypes type:InstrumentType tag:RegulatoryInstr start:343 stop:348 text:rules,\n",
       " span id:B10277 annotator:Fride layer:Policydesigncharacteristics type:Compliance tag:Form_monitoring start:11 stop:29 text:quality assessment,\n",
       " span id:B10278 annotator:Fride layer:Policydesigncharacteristics type:Compliance tag:Form_monitoring start:34 stop:41 text:reports,\n",
       " span id:B10279 annotator:Fride layer:Policydesigncharacteristics type:Actor tag:Addressee_default start:48 stop:61 text:member states,\n",
       " span id:B10280 annotator:Fride layer:Policydesigncharacteristics type:Resource tag:Resource_Other start:94 stop:98 text:data,\n",
       " span id:B10281 annotator:Fride layer:Policydesigncharacteristics type:Resource tag:Resource_Other start:190 stop:201 text:energy data,\n",
       " span id:B10282 annotator:Fride layer:Policydesigncharacteristics type:Reference tag:Ref_OtherPolicy start:275 stop:306 text:commission decision 2005/166/ec,\n",
       " span id:B10283 annotator:Fride layer:Policydesigncharacteristics type:Reference tag:Ref_OtherPolicy start:366 stop:389 text:decision no 280/2004/ec,\n",
       " span id:B10284 annotator:Fride layer:Policydesigncharacteristics type:Actor tag:Authority_legislative start:397 stop:416 text:european parliament,\n",
       " span id:B10285 annotator:Fride layer:Policydesigncharacteristics type:Actor tag:Authority_legislative start:428 stop:435 text:council,\n",
       " span id:B10286 annotator:Fride layer:Policydesigncharacteristics type:Compliance tag:Form_monitoring start:463 stop:473 text:monitoring,\n",
       " span id:B10287 annotator:Fride layer:Policydesigncharacteristics type:Reference tag:Ref_Strategy_Agreement start:534 stop:548 text:kyoto protocol,\n",
       " span id:B10288 annotator:Fride layer:Policydesigncharacteristics type:Resource tag:Resource_Other start:661 stop:665 text:data,\n",
       " span id:B10289 annotator:Fride layer:Policydesigncharacteristics type:Compliance tag:Form_monitoring start:672 stop:683 text:transmitted,\n",
       " span id:B10290 annotator:Fride layer:Policydesigncharacteristics type:Resource tag:Resource_Other start:738 stop:748 text:statistics,\n",
       " span id:B10291 annotator:Fride layer:Policydesigncharacteristics type:Actor tag:Addressee_resource start:789 stop:794 text:users,\n",
       " span id:B10292 annotator:Fride layer:Policydesigncharacteristics type:Resource tag:Resource_Other start:959 stop:970 text:information,\n",
       " span id:B10293 annotator:Fride layer:Policydesigncharacteristics type:Resource tag:Resource_Other start:1097 stop:1101 text:data,\n",
       " span id:B10294 annotator:Fride layer:Policydesigncharacteristics type:Actor tag:Addressee_resource start:1248 stop:1253 text:users,\n",
       " span id:B10295 annotator:Fride layer:Policydesigncharacteristics type:Resource tag:Resource_Other start:1284 stop:1288 text:data,\n",
       " span id:B10296 annotator:Fride layer:Policydesigncharacteristics type:Resource tag:Resource_Other start:1447 stop:1457 text:statistics,\n",
       " span id:B10297 annotator:Fride layer:Policydesigncharacteristics type:Resource tag:Resource_Other start:1583 stop:1587 text:data,\n",
       " span id:B10298 annotator:Fride layer:Policydesigncharacteristics type:Time tag:Time_Monitoring start:1658 stop:1674 text:every five years,\n",
       " span id:B10299 annotator:Fride layer:Policydesigncharacteristics type:Actor tag:Addressee_monitored start:1676 stop:1689 text:member states,\n",
       " span id:B10300 annotator:Fride layer:Policydesigncharacteristics type:Actor tag:Authority_monitoring start:1708 stop:1729 text:commission (eurostat),\n",
       " span id:B10301 annotator:Fride layer:Policydesigncharacteristics type:Compliance tag:Form_monitoring start:1737 stop:1743 text:report,\n",
       " span id:B10302 annotator:Fride layer:Policydesigncharacteristics type:Resource tag:Resource_Other start:1766 stop:1770 text:data,\n",
       " span id:B10303 annotator:Fride layer:Policydesigncharacteristics type:Time tag:Time_Monitoring start:1851 stop:1923 text:within six months of receipt of a request from the commission (eurostat),\n",
       " span id:B10304 annotator:Fride layer:Policydesigncharacteristics type:Actor tag:Authority_monitoring start:1902 stop:1923 text:commission (eurostat),\n",
       " span id:B10305 annotator:Fride layer:Policydesigncharacteristics type:Compliance tag:Form_monitoring start:1953 stop:1959 text:assess,\n",
       " span id:B10306 annotator:Fride layer:Policydesigncharacteristics type:Resource tag:Resource_Other start:1979 stop:1983 text:data,\n",
       " span id:B10307 annotator:Fride layer:Policydesigncharacteristics type:Actor tag:Addressee_monitored start:1997 stop:2010 text:member states,\n",
       " span id:B10308 annotator:Fride layer:Policydesigncharacteristics type:Actor tag:Authority_monitoring start:2029 stop:2050 text:commission (eurostat),\n",
       " span id:B10309 annotator:Fride layer:Policydesigncharacteristics type:Compliance tag:Form_monitoring start:2053 stop:2059 text:report,\n",
       " span id:C7931 annotator:Onerva layer:Instrumenttypes type:InstrumentType tag:RegulatoryInstr start:343 stop:348 text:rules,\n",
       " span id:C7932 annotator:Onerva layer:Policydesigncharacteristics type:Compliance tag:Form_monitoring start:11 stop:29 text:quality assessment,\n",
       " span id:C7933 annotator:Onerva layer:Policydesigncharacteristics type:Compliance tag:Form_monitoring start:34 stop:41 text:reports,\n",
       " span id:C7934 annotator:Onerva layer:Policydesigncharacteristics type:Actor tag:Authority_default start:48 stop:61 text:member states,\n",
       " span id:C7935 annotator:Onerva layer:Policydesigncharacteristics type:Resource tag:Resource_Other start:94 stop:98 text:data,\n",
       " span id:C7936 annotator:Onerva layer:Policydesigncharacteristics type:Reference tag:Ref_OtherPolicy start:275 stop:306 text:commission decision 2005/166/ec,\n",
       " span id:C7937 annotator:Onerva layer:Policydesigncharacteristics type:Reference tag:Ref_OtherPolicy start:366 stop:389 text:decision no 280/2004/ec,\n",
       " span id:C7938 annotator:Onerva layer:Policydesigncharacteristics type:Reference tag:Ref_OtherPolicy start:534 stop:548 text:kyoto protocol,\n",
       " span id:C7939 annotator:Onerva layer:Policydesigncharacteristics type:Compliance tag:Form_monitoring start:612 stop:630 text:quality assessment,\n",
       " span id:C7940 annotator:Onerva layer:Policydesigncharacteristics type:Actor tag:Addressee_default start:1248 stop:1253 text:users,\n",
       " span id:C7941 annotator:Onerva layer:Policydesigncharacteristics type:Actor tag:Addressee_monitored start:1676 stop:1689 text:member states,\n",
       " span id:C7942 annotator:Onerva layer:Policydesigncharacteristics type:Actor tag:Authority_monitoring start:1708 stop:1729 text:commission (eurostat),\n",
       " span id:C7943 annotator:Onerva layer:Policydesigncharacteristics type:Compliance tag:Form_monitoring start:1737 stop:1743 text:report,\n",
       " span id:C7944 annotator:Onerva layer:Policydesigncharacteristics type:Resource tag:Resource_Other start:1766 stop:1770 text:data,\n",
       " span id:C7945 annotator:Onerva layer:Policydesigncharacteristics type:Time tag:Time_Monitoring start:1851 stop:1923 text:within six months of receipt of a request from the commission (eurostat),\n",
       " span id:C7946 annotator:Onerva layer:Policydesigncharacteristics type:Actor tag:Authority_monitoring start:1902 stop:1923 text:commission (eurostat),\n",
       " span id:C7947 annotator:Onerva layer:Policydesigncharacteristics type:Resource tag:Resource_Other start:1979 stop:1983 text:data,\n",
       " span id:C7948 annotator:Onerva layer:Policydesigncharacteristics type:Actor tag:Addressee_monitored start:1997 stop:2010 text:member states,\n",
       " span id:C7949 annotator:Onerva layer:Policydesigncharacteristics type:Actor tag:Authority_legislative start:2029 stop:2050 text:commission (eurostat),\n",
       " span id:C7950 annotator:Onerva layer:Policydesigncharacteristics type:Compliance tag:Form_monitoring start:2053 stop:2059 text:report,\n",
       " span id:A7026 annotator:Alisha layer:Policydesigncharacteristics type:Actor tag:Addressee_monitored start:41 stop:54 text:member states,\n",
       " span id:A7027 annotator:Alisha layer:Policydesigncharacteristics type:Time tag:Time_InEffect start:116 stop:146 text:beginning of the calendar year,\n",
       " span id:B10364 annotator:Fride layer:Policydesigncharacteristics type:Actor tag:Addressee_monitored start:41 stop:54 text:member states,\n",
       " span id:B10365 annotator:Fride layer:Policydesigncharacteristics type:Resource tag:Resource_Other start:73 stop:77 text:data,\n",
       " span id:B10366 annotator:Fride layer:Policydesigncharacteristics type:Time tag:Time_Resources start:112 stop:188 text:the beginning of the calendar year following the adoption of this regulation,\n",
       " span id:B10367 annotator:Fride layer:Policydesigncharacteristics type:Time tag:Time_Resources start:241 stop:275 text:frequencies laid down in article 4,\n",
       " span id:C8149 annotator:Onerva layer:Policydesigncharacteristics type:Actor tag:Authority_default start:41 stop:54 text:member states,\n",
       " span id:C8150 annotator:Onerva layer:Policydesigncharacteristics type:Resource tag:Resource_Other start:73 stop:77 text:data,\n",
       " span id:C8151 annotator:Onerva layer:Policydesigncharacteristics type:Time tag:Time_Resources start:107 stop:188 text:from the beginning of the calendar year following the adoption of this regulation,\n",
       " span id:A7433 annotator:Alisha layer:Policydesigncharacteristics type:Actor tag:Addressee_default start:95 stop:106 text:respondents,\n",
       " span id:A7434 annotator:Alisha layer:Policydesigncharacteristics type:Actor tag:Authority_monitoring start:145 stop:158 text:member states,\n",
       " span id:A7435 annotator:Alisha layer:Policydesigncharacteristics type:Compliance tag:Form_monitoring start:165 stop:177 text:compile data,\n",
       " span id:A7436 annotator:Alisha layer:Policydesigncharacteristics type:Actor tag:Addressee_sector start:233 stop:242 text:community,\n",
       " span id:A7437 annotator:Alisha layer:Policydesigncharacteristics type:Compliance tag:Form_monitoring start:286 stop:305 text:statistical surveys,\n",
       " span id:A7438 annotator:Alisha layer:Policydesigncharacteristics type:Actor tag:Addressee_sector start:347 stop:375 text:energy producers and traders,\n",
       " span id:A7439 annotator:Alisha layer:Policydesigncharacteristics type:Actor tag:Addressee_sector start:377 stop:406 text:distributors and transporters,\n",
       " span id:A7440 annotator:Alisha layer:Policydesigncharacteristics type:Actor tag:Addressee_sector start:408 stop:450 text:importers and exporters of energy products,\n",
       " span id:A7441 annotator:Alisha layer:Policydesigncharacteristics type:Compliance tag:Form_monitoring start:464 stop:483 text:statistical surveys,\n",
       " span id:A7442 annotator:Alisha layer:Policydesigncharacteristics type:Actor tag:Addressee_sector start:497 stop:515 text:final energy users,\n",
       " span id:A7443 annotator:Alisha layer:Policydesigncharacteristics type:Actor tag:Addressee_sector start:534 stop:556 text:manufacturing industry,\n",
       " span id:A7444 annotator:Alisha layer:Policydesigncharacteristics type:Actor tag:Addressee_sector start:558 stop:567 text:transport,\n",
       " span id:A7445 annotator:Alisha layer:Policydesigncharacteristics type:Actor tag:Addressee_sector start:598 stop:608 text:households,\n",
       " span id:A7446 annotator:Alisha layer:Policydesigncharacteristics type:Compliance tag:Form_monitoring start:622 stop:644 text:statistical estimation,\n",
       " span id:A7447 annotator:Alisha layer:Policydesigncharacteristics type:Actor tag:Addressee_sector start:716 stop:761 text:regulators of the electricity and gas markets,\n",
       " span id:A7448 annotator:Alisha layer:Policydesigncharacteristics type:Actor tag:Addressee_default start:769 stop:782 text:member states,\n",
       " span id:A7449 annotator:Alisha layer:Policydesigncharacteristics type:Compliance tag:Form_monitoring start:832 stop:841 text:reporting,\n",
       " span id:A7450 annotator:Alisha layer:Policydesigncharacteristics type:Compliance tag:Form_monitoring start:869 stop:888 text:national statistics,\n",
       " span id:A7451 annotator:Alisha layer:Technologyandapplicationspecificity type:EnergySpecificity tag:Energy_Other start:189 stop:204 text:energy products,\n",
       " span id:A7452 annotator:Alisha layer:Technologyandapplicationspecificity type:EnergySpecificity tag:Energy_Other start:347 stop:353 text:energy,\n",
       " span id:A7453 annotator:Alisha layer:Technologyandapplicationspecificity type:ApplicationSpecificity tag:App_Other start:377 stop:450 text:distributors and transporters, importers and exporters of energy products,\n",
       " span id:A7454 annotator:Alisha layer:Technologyandapplicationspecificity type:EnergySpecificity tag:Energy_Other start:435 stop:450 text:energy products,\n",
       " span id:A7455 annotator:Alisha layer:Technologyandapplicationspecificity type:ApplicationSpecificity tag:App_Other start:497 stop:608 text:final energy users in the sectors of manufacturing industry, transport, and other sectors, including households,\n",
       " span id:A7456 annotator:Alisha layer:Technologyandapplicationspecificity type:EnergySpecificity tag:Energy_Other start:503 stop:509 text:energy,\n",
       " span id:A7457 annotator:Alisha layer:Technologyandapplicationspecificity type:EnergySpecificity tag:Energy_Other start:734 stop:745 text:electricity,\n",
       " span id:A7458 annotator:Alisha layer:Technologyandapplicationspecificity type:EnergySpecificity tag:Energy_Other start:750 stop:753 text:gas,\n",
       " span id:B10541 annotator:Fride layer:Instrumenttypes type:InstrumentType tag:RegulatoryInstr start:811 stop:816 text:rules,\n",
       " span id:B10542 annotator:Fride layer:Policydesigncharacteristics type:Actor tag:Addressee_default start:145 stop:158 text:member states,\n",
       " span id:B10543 annotator:Fride layer:Policydesigncharacteristics type:Resource tag:Resource_Other start:173 stop:177 text:data,\n",
       " span id:B10544 annotator:Fride layer:Policydesigncharacteristics type:Actor tag:Addressee_default start:354 stop:363 text:producers,\n",
       " span id:B10545 annotator:Fride layer:Policydesigncharacteristics type:Actor tag:Addressee_default start:368 stop:375 text:traders,\n",
       " span id:B10546 annotator:Fride layer:Policydesigncharacteristics type:Actor tag:Addressee_default start:377 stop:389 text:distributors,\n",
       " span id:B10547 annotator:Fride layer:Policydesigncharacteristics type:Actor tag:Addressee_default start:394 stop:406 text:transporters,\n",
       " span id:B10548 annotator:Fride layer:Policydesigncharacteristics type:Actor tag:Addressee_default start:408 stop:417 text:importers,\n",
       " span id:B10549 annotator:Fride layer:Policydesigncharacteristics type:Actor tag:Addressee_default start:422 stop:431 text:exporters,\n",
       " span id:B10550 annotator:Fride layer:Policydesigncharacteristics type:Actor tag:Addressee_default start:497 stop:515 text:final energy users,\n",
       " span id:B10551 annotator:Fride layer:Policydesigncharacteristics type:Actor tag:Addressee_sector start:534 stop:556 text:manufacturing industry,\n",
       " span id:B10552 annotator:Fride layer:Policydesigncharacteristics type:Actor tag:Addressee_sector start:558 stop:567 text:transport,\n",
       " span id:B10553 annotator:Fride layer:Policydesigncharacteristics type:Actor tag:Addressee_sector start:573 stop:586 text:other sectors,\n",
       " span id:B10554 annotator:Fride layer:Policydesigncharacteristics type:Actor tag:Addressee_sector start:598 stop:608 text:households,\n",
       " span id:B10555 annotator:Fride layer:Policydesigncharacteristics type:Actor tag:Addressee_default start:716 stop:726 text:regulators,\n",
       " span id:B10556 annotator:Fride layer:Policydesigncharacteristics type:Actor tag:Authority_default start:769 stop:782 text:member states,\n",
       " span id:B10557 annotator:Fride layer:Policydesigncharacteristics type:Compliance tag:Form_monitoring start:832 stop:841 text:reporting,\n",
       " span id:B10558 annotator:Fride layer:Policydesigncharacteristics type:Resource tag:Resource_Other start:849 stop:853 text:data,\n",
       " span id:B10559 annotator:Fride layer:Policydesigncharacteristics type:Resource tag:Resource_Other start:869 stop:888 text:national statistics,\n",
       " span id:B10560 annotator:Fride layer:Policydesigncharacteristics type:Resource tag:Resource_Other start:968 stop:972 text:data,\n",
       " span id:B10561 annotator:Fride layer:Technologyandapplicationspecificity type:EnergySpecificity tag:Energy_Other start:189 stop:204 text:energy products,\n",
       " span id:B10562 annotator:Fride layer:Technologyandapplicationspecificity type:EnergySpecificity tag:Energy_Other start:323 stop:353 text:primary and transformed energy,\n",
       " span id:B10563 annotator:Fride layer:Technologyandapplicationspecificity type:EnergySpecificity tag:Energy_Other start:435 stop:450 text:energy products,\n",
       " span id:B10564 annotator:Fride layer:Technologyandapplicationspecificity type:EnergySpecificity tag:Energy_LowCarbon start:734 stop:745 text:electricity,\n",
       " span id:B10565 annotator:Fride layer:Technologyandapplicationspecificity type:EnergySpecificity tag:Energy_Other start:750 stop:753 text:gas,\n",
       " span id:C8462 annotator:Onerva layer:Instrumenttypes type:InstrumentType tag:RegulatoryInstr start:811 stop:816 text:rules,\n",
       " span id:C8463 annotator:Onerva layer:Policydesigncharacteristics type:Actor tag:Authority_default start:145 stop:158 text:member states,\n",
       " span id:C8464 annotator:Onerva layer:Policydesigncharacteristics type:Resource tag:Resource_Other start:173 stop:177 text:data,\n",
       " span id:C8465 annotator:Onerva layer:Policydesigncharacteristics type:Resource tag:Resource_Other start:277 stop:305 text:specific statistical surveys,\n",
       " span id:C8466 annotator:Onerva layer:Policydesigncharacteristics type:Actor tag:Addressee_sector start:323 stop:450 text:primary and transformed energy producers and traders, distributors and transporters, importers and exporters of energy products,\n",
       " span id:C8467 annotator:Onerva layer:Policydesigncharacteristics type:Resource tag:Resource_Other start:458 stop:483 text:other statistical surveys,\n",
       " span id:C8468 annotator:Onerva layer:Policydesigncharacteristics type:Actor tag:Addressee_sector start:497 stop:515 text:final energy users,\n",
       " span id:C8469 annotator:Onerva layer:Policydesigncharacteristics type:Actor tag:Addressee_sector start:534 stop:608 text:manufacturing industry, transport, and other sectors, including households,\n",
       " span id:C8470 annotator:Onerva layer:Policydesigncharacteristics type:Resource tag:Resource_Other start:622 stop:672 text:statistical estimation procedures or other sources,\n",
       " span id:C8471 annotator:Onerva layer:Policydesigncharacteristics type:Actor tag:Addressee_default start:716 stop:761 text:regulators of the electricity and gas markets,\n",
       " span id:C8472 annotator:Onerva layer:Policydesigncharacteristics type:Actor tag:Authority_default start:769 stop:782 text:member states,\n",
       " span id:C8473 annotator:Onerva layer:Policydesigncharacteristics type:Compliance tag:Form_monitoring start:832 stop:841 text:reporting,\n",
       " span id:C8474 annotator:Onerva layer:Technologyandapplicationspecificity type:TechnologySpecificity tag:Tech_LowCarbon start:189 stop:225 text:energy products and their aggregates,\n",
       " span id:A7569 annotator:Alisha layer:Policydesigncharacteristics type:Reference tag:Ref_OtherPolicy start:201 stop:226 text:regulation (ec) no 322/97,\n",
       " span id:A7570 annotator:Alisha layer:Policydesigncharacteristics type:Compliance tag:Form_monitoring start:235 stop:259 text:production of statistics,\n",
       " span id:A7571 annotator:Alisha layer:Policydesigncharacteristics type:Compliance tag:Form_monitoring start:267 stop:291 text:production of statistics,\n",
       " span id:A7572 annotator:Alisha layer:Policydesigncharacteristics type:Reference tag:Ref_OtherPolicy start:340 stop:365 text:regulation (ec) no 322/97,\n",
       " span id:A7573 annotator:Alisha layer:Policydesigncharacteristics type:Actor tag:Authority_default start:374 stop:384 text:commission,\n",
       " span id:A7574 annotator:Alisha layer:Policydesigncharacteristics type:Actor tag:Authority_default start:386 stop:394 text:eurostat,\n",
       " span id:A7575 annotator:Alisha layer:Policydesigncharacteristics type:Actor tag:Authority_default start:407 stop:426 text:community authority,\n",
       " span id:A7576 annotator:Alisha layer:Policydesigncharacteristics type:Reference tag:Ref_OtherPolicy start:475 stop:500 text:regulation (ec) no 322/97,\n",
       " span id:A7577 annotator:Alisha layer:Policydesigncharacteristics type:Compliance tag:Form_monitoring start:640 stop:930 text:data aggregated at national level on the treatment or use of energy products, namely production, trade, stocks, transformation, consumption, and structural characteristics of the energy system such as installed capacities for electricity generation or production capacities for oil products,\n",
       " span id:A7578 annotator:Alisha layer:Policydesigncharacteristics type:Compliance tag:Form_monitoring start:987 stop:1125 text:statistical quality: relevance, accuracy, timeliness and punctuality, accessibility and clarity, comparability, coherence and completeness,\n",
       " span id:A7579 annotator:Alisha layer:Technologyandapplicationspecificity type:EnergySpecificity tag:Energy_Other start:509 stop:524 text:energy products,\n",
       " span id:A7580 annotator:Alisha layer:Technologyandapplicationspecificity type:EnergySpecificity tag:Energy_Other start:531 stop:548 text:combustible fuels,\n",
       " span id:A7581 annotator:Alisha layer:Technologyandapplicationspecificity type:EnergySpecificity tag:Energy_Other start:550 stop:554 text:heat,\n",
       " span id:A7582 annotator:Alisha layer:Technologyandapplicationspecificity type:EnergySpecificity tag:Energy_LowCarbon start:556 stop:572 text:renewable energy,\n",
       " span id:A7583 annotator:Alisha layer:Technologyandapplicationspecificity type:EnergySpecificity tag:Energy_Other start:574 stop:585 text:electricity,\n",
       " span id:A7584 annotator:Alisha layer:Technologyandapplicationspecificity type:EnergySpecificity tag:Energy_Other start:590 stop:614 text:any other form of energy,\n",
       " span id:A7585 annotator:Alisha layer:Technologyandapplicationspecificity type:ApplicationSpecificity tag:App_Other start:681 stop:779 text:treatment or use of energy products, namely production, trade, stocks, transformation, consumption,\n",
       " span id:A7586 annotator:Alisha layer:Technologyandapplicationspecificity type:EnergySpecificity tag:Energy_Other start:701 stop:716 text:energy products,\n",
       " span id:A7587 annotator:Alisha layer:Technologyandapplicationspecificity type:TechnologySpecificity tag:Tech_Other start:819 stop:832 text:energy system,\n",
       " span id:A7588 annotator:Alisha layer:Technologyandapplicationspecificity type:EnergySpecificity tag:Energy_Other start:819 stop:825 text:energy,\n",
       " span id:A7589 annotator:Alisha layer:Technologyandapplicationspecificity type:TechnologySpecificity tag:Tech_Other start:851 stop:888 text:capacities for electricity generation,\n",
       " span id:A7590 annotator:Alisha layer:Technologyandapplicationspecificity type:EnergySpecificity tag:Energy_Other start:866 stop:877 text:electricity,\n",
       " span id:A7591 annotator:Alisha layer:Technologyandapplicationspecificity type:ApplicationSpecificity tag:App_LowCarbon start:892 stop:930 text:production capacities for oil products,\n",
       " span id:A7592 annotator:Alisha layer:Technologyandapplicationspecificity type:TechnologySpecificity tag:Tech_Other start:903 stop:930 text:capacities for oil products,\n",
       " span id:A7593 annotator:Alisha layer:Technologyandapplicationspecificity type:EnergySpecificity tag:Energy_Other start:918 stop:930 text:oil products,\n",
       " span id:B10656 annotator:Fride layer:Policydesigncharacteristics type:Resource tag:Resource_Other start:106 stop:126 text:community statistics,\n",
       " span id:B10657 annotator:Fride layer:Policydesigncharacteristics type:Resource tag:Resource_Other start:133 stop:153 text:community statistics,\n",
       " span id:B10658 annotator:Fride layer:Policydesigncharacteristics type:Reference tag:Ref_OtherPolicy start:201 stop:226 text:regulation (ec) no 322/97,\n",
       " span id:B10659 annotator:Fride layer:Policydesigncharacteristics type:Resource tag:Resource_Other start:249 stop:259 text:statistics,\n",
       " span id:B10660 annotator:Fride layer:Policydesigncharacteristics type:Resource tag:Resource_Other start:281 stop:291 text:statistics,\n",
       " span id:B10661 annotator:Fride layer:Policydesigncharacteristics type:Reference tag:Ref_OtherPolicy start:340 stop:365 text:regulation (ec) no 322/97,\n",
       " span id:B10662 annotator:Fride layer:Policydesigncharacteristics type:Actor tag:Authority_default start:374 stop:395 text:commission (eurostat),\n",
       " span id:B10663 annotator:Fride layer:Policydesigncharacteristics type:Actor tag:Authority_default start:407 stop:426 text:community authority,\n",
       " span id:B10664 annotator:Fride layer:Policydesigncharacteristics type:Reference tag:Ref_OtherPolicy start:475 stop:500 text:regulation (ec) no 322/97,\n",
       " span id:B10665 annotator:Fride layer:Policydesigncharacteristics type:Resource tag:Resource_Other start:640 stop:644 text:data,\n",
       " span id:B10666 annotator:Fride layer:Policydesigncharacteristics type:Resource tag:Resource_Other start:950 stop:954 text:data,\n",
       " span id:B10667 annotator:Fride layer:Technologyandapplicationspecificity type:EnergySpecificity tag:Energy_Other start:509 stop:524 text:energy products,\n",
       " span id:B10668 annotator:Fride layer:Technologyandapplicationspecificity type:EnergySpecificity tag:Energy_Other start:531 stop:548 text:combustible fuels,\n",
       " span id:B10669 annotator:Fride layer:Technologyandapplicationspecificity type:EnergySpecificity tag:Energy_Other start:550 stop:554 text:heat,\n",
       " span id:B10670 annotator:Fride layer:Technologyandapplicationspecificity type:EnergySpecificity tag:Energy_LowCarbon start:556 stop:572 text:renewable energy,\n",
       " span id:B10671 annotator:Fride layer:Technologyandapplicationspecificity type:EnergySpecificity tag:Energy_LowCarbon start:574 stop:585 text:electricity,\n",
       " span id:B10672 annotator:Fride layer:Technologyandapplicationspecificity type:EnergySpecificity tag:Energy_Other start:594 stop:614 text:other form of energy,\n",
       " span id:B10673 annotator:Fride layer:Technologyandapplicationspecificity type:EnergySpecificity tag:Energy_Other start:701 stop:716 text:energy products,\n",
       " span id:B10674 annotator:Fride layer:Technologyandapplicationspecificity type:TechnologySpecificity tag:Tech_Other start:725 stop:735 text:production,\n",
       " span id:B10675 annotator:Fride layer:Technologyandapplicationspecificity type:ApplicationSpecificity tag:App_Other start:737 stop:742 text:trade,\n",
       " span id:B10676 annotator:Fride layer:Technologyandapplicationspecificity type:ApplicationSpecificity tag:App_Other start:744 stop:750 text:stocks,\n",
       " span id:B10677 annotator:Fride layer:Technologyandapplicationspecificity type:TechnologySpecificity tag:Tech_Other start:752 stop:766 text:transformation,\n",
       " span id:B10678 annotator:Fride layer:Technologyandapplicationspecificity type:ApplicationSpecificity tag:App_Other start:768 stop:779 text:consumption,\n",
       " span id:B10679 annotator:Fride layer:Technologyandapplicationspecificity type:TechnologySpecificity tag:Tech_Other start:819 stop:832 text:energy system,\n",
       " span id:B10680 annotator:Fride layer:Technologyandapplicationspecificity type:TechnologySpecificity tag:Tech_Other start:841 stop:861 text:installed capacities,\n",
       " span id:B10681 annotator:Fride layer:Technologyandapplicationspecificity type:TechnologySpecificity tag:Tech_LowCarbon start:866 stop:888 text:electricity generation,\n",
       " span id:B10682 annotator:Fride layer:Technologyandapplicationspecificity type:EnergySpecificity tag:Energy_LowCarbon start:866 stop:877 text:electricity,\n",
       " span id:B10683 annotator:Fride layer:Technologyandapplicationspecificity type:TechnologySpecificity tag:Tech_Other start:892 stop:930 text:production capacities for oil products,\n",
       " span id:B10684 annotator:Fride layer:Technologyandapplicationspecificity type:EnergySpecificity tag:Energy_Other start:918 stop:930 text:oil products,\n",
       " span id:C8652 annotator:Onerva layer:Policydesigncharacteristics type:Reference tag:Ref_OtherPolicy start:201 stop:226 text:regulation (ec) no 322/97,\n",
       " span id:C8653 annotator:Onerva layer:Policydesigncharacteristics type:Reference tag:Ref_OtherPolicy start:340 stop:365 text:regulation (ec) no 322/97,\n",
       " span id:C8654 annotator:Onerva layer:Policydesigncharacteristics type:Actor tag:Authority_default start:374 stop:395 text:commission (eurostat),\n",
       " span id:C8655 annotator:Onerva layer:Policydesigncharacteristics type:Actor tag:Authority_default start:407 stop:426 text:community authority,\n",
       " span id:C8656 annotator:Onerva layer:Policydesigncharacteristics type:Reference tag:Ref_OtherPolicy start:475 stop:500 text:regulation (ec) no 322/97,\n",
       " span id:C8657 annotator:Onerva layer:Technologyandapplicationspecificity type:TechnologySpecificity tag:Tech_Other start:509 stop:524 text:energy products,\n",
       " span id:C8658 annotator:Onerva layer:Technologyandapplicationspecificity type:EnergySpecificity tag:Energy_Other start:531 stop:548 text:combustible fuels,\n",
       " span id:C8659 annotator:Onerva layer:Technologyandapplicationspecificity type:EnergySpecificity tag:Energy_Other start:550 stop:554 text:heat,\n",
       " span id:C8660 annotator:Onerva layer:Technologyandapplicationspecificity type:EnergySpecificity tag:Energy_LowCarbon start:556 stop:572 text:renewable energy,\n",
       " span id:C8661 annotator:Onerva layer:Technologyandapplicationspecificity type:EnergySpecificity tag:Energy_Other start:574 stop:585 text:electricity,\n",
       " span id:C8662 annotator:Onerva layer:Technologyandapplicationspecificity type:EnergySpecificity tag:Energy_Other start:590 stop:614 text:any other form of energy,\n",
       " span id:C8663 annotator:Onerva layer:Technologyandapplicationspecificity type:TechnologySpecificity tag:Tech_LowCarbon start:701 stop:716 text:energy products,\n",
       " span id:C8664 annotator:Onerva layer:Technologyandapplicationspecificity type:EnergySpecificity tag:Energy_Other start:918 stop:921 text:oil,\n",
       " span id:A8332 annotator:Alisha layer:Instrumenttypes type:InstrumentType tag:FrameworkPolicy start:79 stop:88 text:framework,\n",
       " span id:A8333 annotator:Alisha layer:Policydesigncharacteristics type:Objective tag:Objective_QualIntention_noCCM start:97 stop:183 text:production, transmission, evaluation and dissemination of comparable energy statistics,\n",
       " span id:A8334 annotator:Alisha layer:Policydesigncharacteristics type:Compliance tag:Form_monitoring start:97 stop:183 text:production, transmission, evaluation and dissemination of comparable energy statistics,\n",
       " span id:A8335 annotator:Alisha layer:Policydesigncharacteristics type:Actor tag:Addressee_sector start:191 stop:200 text:community,\n",
       " span id:A8336 annotator:Alisha layer:Policydesigncharacteristics type:Actor tag:Addressee_sector start:311 stop:320 text:community,\n",
       " span id:A8337 annotator:Alisha layer:Technologyandapplicationspecificity type:EnergySpecificity tag:Energy_Other start:166 stop:172 text:energy,\n",
       " span id:A8338 annotator:Alisha layer:Technologyandapplicationspecificity type:EnergySpecificity tag:Energy_Other start:267 stop:282 text:energy products,\n",
       " span id:A8339 annotator:Alisha layer:Technologyandapplicationspecificity type:EnergySpecificity tag:Energy_Other start:267 stop:273 text:energy,\n",
       " span id:B11329 annotator:Fride layer:Instrumenttypes type:InstrumentType tag:FrameworkPolicy start:72 stop:88 text:common framework,\n",
       " span id:B11330 annotator:Fride layer:Policydesigncharacteristics type:Objective tag:Objective_QualIntention_noCCM start:155 stop:200 text:comparable energy statistics in the community,\n",
       " span id:B11331 annotator:Fride layer:Policydesigncharacteristics type:Resource tag:Resource_Other start:166 stop:183 text:energy statistics,\n",
       " span id:B11332 annotator:Fride layer:Policydesigncharacteristics type:Resource tag:Resource_Other start:239 stop:255 text:statistical data,\n",
       " span id:B11333 annotator:Fride layer:Technologyandapplicationspecificity type:EnergySpecificity tag:Energy_Other start:267 stop:282 text:energy products,\n",
       " span id:C9428 annotator:Onerva layer:Instrumenttypes type:InstrumentType tag:FrameworkPolicy start:79 stop:88 text:framework,\n",
       " span id:C9429 annotator:Onerva layer:Policydesigncharacteristics type:Resource tag:Resource_Other start:166 stop:183 text:energy statistics,\n",
       " span id:C9430 annotator:Onerva layer:Policydesigncharacteristics type:Actor tag:Addressee_default start:191 stop:200 text:community,\n",
       " span id:C9431 annotator:Onerva layer:Policydesigncharacteristics type:Actor tag:Addressee_default start:311 stop:320 text:community,\n",
       " span id:C9432 annotator:Onerva layer:Technologyandapplicationspecificity type:TechnologySpecificity tag:Tech_Other start:267 stop:282 text:energy products]"
      ]
     },
     "execution_count": 22,
     "metadata": {},
     "output_type": "execute_result"
    }
   ],
   "source": [
    "test_dir = repository('EU_32008R1099')\n",
    "test_corpus.get_span_list(conditional_rep = test_dir, annotators = 'annotators')\n"
   ]
  },
  {
   "cell_type": "markdown",
   "metadata": {},
   "source": [
    "If one doesn't want to specify the item and the value, and instead wants to match all the tags that match the conditional repository, one can put 'None':"
   ]
  },
  {
   "cell_type": "code",
   "execution_count": 23,
   "metadata": {},
   "outputs": [
    {
     "data": {
      "text/plain": [
       "[span id:CUR2405 annotator:Curation layer:Policydesigncharacteristics type:Compliance tag:Form_monitoring start:21 stop:38 text:energy statistics,\n",
       " span id:CUR2406 annotator:Curation layer:Policydesigncharacteristics type:Compliance tag:Form_monitoring start:43 stop:78 text:final energy consumption statistics,\n",
       " span id:CUR2407 annotator:Curation layer:Policydesigncharacteristics type:Objective tag:Objective_QualIntention_noCCM start:100 stop:181 text:improving the quality of renewable energy and final energy consumption statistics,\n",
       " span id:CUR2408 annotator:Curation layer:Policydesigncharacteristics type:Actor tag:Authority_monitoring start:187 stop:208 text:commission (eurostat),\n",
       " span id:CUR2409 annotator:Curation layer:Policydesigncharacteristics type:Actor tag:Addressee_default start:187 stop:208 text:commission (eurostat),\n",
       " span id:CUR2410 annotator:Curation layer:Policydesigncharacteristics type:Actor tag:Authority_monitoring start:187 stop:197 text:commission,\n",
       " span id:CUR2411 annotator:Curation layer:Policydesigncharacteristics type:Actor tag:Addressee_default start:187 stop:197 text:commission,\n",
       " span id:CUR2412 annotator:Curation layer:Policydesigncharacteristics type:Actor tag:Authority_monitoring start:199 stop:207 text:eurostat,\n",
       " span id:CUR2413 annotator:Curation layer:Policydesigncharacteristics type:Actor tag:Addressee_default start:199 stop:207 text:eurostat,\n",
       " span id:CUR2414 annotator:Curation layer:Policydesigncharacteristics type:Actor tag:Authority_monitoring start:236 stop:249 text:member states,\n",
       " span id:CUR2415 annotator:Curation layer:Policydesigncharacteristics type:Actor tag:Addressee_default start:236 stop:249 text:member states,\n",
       " span id:CUR2416 annotator:Curation layer:Policydesigncharacteristics type:Resource tag:Resource_Other start:278 stop:288 text:statistics,\n",
       " span id:CUR2417 annotator:Curation layer:Policydesigncharacteristics type:Compliance tag:Form_monitoring start:278 stop:288 text:statistics,\n",
       " span id:CUR2418 annotator:Curation layer:Policydesigncharacteristics type:Compliance tag:Form_monitoring start:393 stop:420 text:renewable energy statistics,\n",
       " span id:CUR2419 annotator:Curation layer:Policydesigncharacteristics type:Resource tag:Resource_Other start:393 stop:420 text:renewable energy statistics,\n",
       " span id:CUR2420 annotator:Curation layer:Policydesigncharacteristics type:Resource tag:Resource_Other start:480 stop:490 text:statistics,\n",
       " span id:CUR2421 annotator:Curation layer:Policydesigncharacteristics type:Compliance tag:Form_monitoring start:480 stop:490 text:statistics,\n",
       " span id:CUR2422 annotator:Curation layer:Policydesigncharacteristics type:Time tag:Time_Monitoring start:524 stop:532 text:annually,\n",
       " span id:CUR2423 annotator:Curation layer:Policydesigncharacteristics type:Actor tag:Authority_monitoring start:569 stop:590 text:commission (eurostat),\n",
       " span id:CUR2424 annotator:Curation layer:Policydesigncharacteristics type:Actor tag:Authority_monitoring start:569 stop:579 text:commission,\n",
       " span id:CUR2425 annotator:Curation layer:Policydesigncharacteristics type:Actor tag:Authority_monitoring start:581 stop:589 text:eurostat,\n",
       " span id:CUR2426 annotator:Curation layer:Policydesigncharacteristics type:Resource tag:Resource_Other start:625 stop:635 text:statistics,\n",
       " span id:CUR2427 annotator:Curation layer:Policydesigncharacteristics type:Resource tag:Resource_Other start:779 stop:814 text:final energy consumption statistics,\n",
       " span id:CUR2428 annotator:Curation layer:Policydesigncharacteristics type:Compliance tag:Form_monitoring start:779 stop:814 text:final energy consumption statistics,\n",
       " span id:CUR2429 annotator:Curation layer:Policydesigncharacteristics type:Compliance tag:Form_monitoring start:884 stop:900 text:existing studies,\n",
       " span id:CUR2430 annotator:Curation layer:Policydesigncharacteristics type:Compliance tag:Form_monitoring start:905 stop:930 text:feasibility pilot studies,\n",
       " span id:CUR2431 annotator:Curation layer:Policydesigncharacteristics type:Compliance tag:Form_monitoring start:943 stop:964 text:cost-benefit analyses,\n",
       " span id:CUR2432 annotator:Curation layer:Policydesigncharacteristics type:Compliance tag:Form_monitoring start:990 stop:1000 text:evaluating,\n",
       " span id:CUR2433 annotator:Curation layer:Policydesigncharacteristics type:Compliance tag:Form_monitoring start:1021 stop:1034 text:pilot studies,\n",
       " span id:CUR2434 annotator:Curation layer:Policydesigncharacteristics type:Compliance tag:Form_monitoring start:1039 stop:1060 text:cost-benefit analyses,\n",
       " span id:CUR2435 annotator:Curation layer:Policydesigncharacteristics type:Resource tag:Resource_Other start:1212 stop:1222 text:statistics,\n",
       " span id:CUR2436 annotator:Curation layer:Policydesigncharacteristics type:Resource tag:Resource_Other start:1276 stop:1303 text:renewable energy statistics,\n",
       " span id:CUR2437 annotator:Curation layer:Policydesigncharacteristics type:Resource tag:Resource_Other start:1425 stop:1460 text:final energy consumption statistics,\n",
       " span id:CUR2502 annotator:Curation layer:Policydesigncharacteristics type:Time tag:Time_Monitoring start:11 stop:17 text:annual,\n",
       " span id:CUR2503 annotator:Curation layer:Policydesigncharacteristics type:Compliance tag:Form_monitoring start:18 stop:36 text:nuclear statistics,\n",
       " span id:CUR2504 annotator:Curation layer:Policydesigncharacteristics type:Actor tag:Authority_monitoring start:42 stop:52 text:commission,\n",
       " span id:CUR2505 annotator:Curation layer:Policydesigncharacteristics type:Actor tag:Authority_monitoring start:54 stop:62 text:eurostat,\n",
       " span id:CUR2506 annotator:Curation layer:Policydesigncharacteristics type:Actor tag:Addressee_sector start:95 stop:116 text:nuclear energy sector,\n",
       " span id:CUR2507 annotator:Curation layer:Policydesigncharacteristics type:Time tag:Time_Monitoring start:144 stop:150 text:annual,\n",
       " span id:CUR2508 annotator:Curation layer:Policydesigncharacteristics type:Compliance tag:Form_monitoring start:151 stop:169 text:nuclear statistics,\n",
       " span id:CUR2509 annotator:Curation layer:Policydesigncharacteristics type:Compliance tag:Form_monitoring start:185 stop:193 text:reported,\n",
       " span id:CUR2510 annotator:Curation layer:Policydesigncharacteristics type:Time tag:Time_Monitoring start:211 stop:228 text:from 2009 onwards,\n",
       " span id:CUR2511 annotator:Curation layer:Policydesigncharacteristics type:Time tag:Time_Monitoring start:216 stop:220 text:2009,\n",
       " span id:CUR2512 annotator:Curation layer:Policydesigncharacteristics type:Time tag:Time_Monitoring start:256 stop:271 text:reported period,\n",
       " span id:CUR2513 annotator:Curation layer:Policydesigncharacteristics type:Time tag:Time_Monitoring start:484 stop:490 text:annual,\n",
       " span id:CUR2514 annotator:Curation layer:Policydesigncharacteristics type:Compliance tag:Form_monitoring start:491 stop:509 text:nuclear statistics,\n",
       " span id:CUR15258 annotator:Curation layer:Policydesigncharacteristics type:Actor tag:Addressee_monitored start:48 stop:61 text:member states,\n",
       " span id:CUR15259 annotator:Curation layer:Policydesigncharacteristics type:Actor tag:Addressee_default start:48 stop:61 text:member states,\n",
       " span id:CUR15260 annotator:Curation layer:Policydesigncharacteristics type:Actor tag:Authority_monitoring start:84 stop:94 text:commission,\n",
       " span id:CUR15261 annotator:Curation layer:Policydesigncharacteristics type:Actor tag:Authority_monitoring start:96 stop:104 text:eurostat,\n",
       " span id:CUR15262 annotator:Curation layer:Policydesigncharacteristics type:Compliance tag:Form_monitoring start:110 stop:129 text:national statistics,\n",
       " span id:CUR15263 annotator:Curation layer:Policydesigncharacteristics type:Resource tag:Resource_Other start:110 stop:129 text:national statistics,\n",
       " span id:CUR15264 annotator:Curation layer:Policydesigncharacteristics type:Time tag:Time_Monitoring start:228 stop:239 text:time limits,\n",
       " span id:CUR15265 annotator:Curation layer:Policydesigncharacteristics type:Compliance tag:Form_monitoring start:366 stop:385 text:national statistics,\n",
       " span id:CUR15266 annotator:Curation layer:Policydesigncharacteristics type:Resource tag:Resource_Other start:366 stop:385 text:national statistics,\n",
       " span id:CUR15267 annotator:Curation layer:Policydesigncharacteristics type:Actor tag:Addressee_monitored start:528 stop:540 text:member state,\n",
       " span id:CUR15268 annotator:Curation layer:Policydesigncharacteristics type:Actor tag:Authority_monitoring start:601 stop:611 text:commission,\n",
       " span id:CUR15269 annotator:Curation layer:Policydesigncharacteristics type:Actor tag:Authority_default start:601 stop:611 text:commission,\n",
       " span id:CUR15270 annotator:Curation layer:Policydesigncharacteristics type:Resource tag:Resource_Other start:709 stop:728 text:national statistics,\n",
       " span id:CUR15271 annotator:Curation layer:Policydesigncharacteristics type:Compliance tag:Form_monitoring start:709 stop:728 text:national statistics,\n",
       " span id:CUR15272 annotator:Curation layer:Policydesigncharacteristics type:Actor tag:Addressee_default start:814 stop:835 text:commission (eurostat),\n",
       " span id:CUR15273 annotator:Curation layer:Policydesigncharacteristics type:Actor tag:Authority_monitoring start:814 stop:824 text:commission,\n",
       " span id:CUR15274 annotator:Curation layer:Policydesigncharacteristics type:Actor tag:Authority_monitoring start:826 stop:834 text:eurostat,\n",
       " span id:CUR15275 annotator:Curation layer:Policydesigncharacteristics type:Time tag:Time_Monitoring start:854 stop:860 text:yearly,\n",
       " span id:CUR15276 annotator:Curation layer:Policydesigncharacteristics type:Compliance tag:Form_monitoring start:861 stop:878 text:energy statistics,\n",
       " span id:CUR15277 annotator:Curation layer:Policydesigncharacteristics type:Resource tag:Resource_Other start:861 stop:878 text:energy statistics,\n",
       " span id:CUR15278 annotator:Curation layer:Policydesigncharacteristics type:Time tag:Time_Compliance start:882 stop:941 text:31 january of the second year following the reported period,\n",
       " span id:CUR15281 annotator:Curation layer:Policydesigncharacteristics type:Actor tag:Authority_default start:12 stop:21 text:committee,\n",
       " span id:CUR15282 annotator:Curation layer:Policydesigncharacteristics type:Actor tag:Authority_default start:32 stop:42 text:commission,\n",
       " span id:CUR15283 annotator:Curation layer:Policydesigncharacteristics type:Actor tag:Authority_monitoring start:68 stop:99 text:statistical programme committee,\n",
       " span id:CUR15284 annotator:Curation layer:Policydesigncharacteristics type:Reference tag:Ref_OtherPolicy start:188 stop:208 text:decision 1999/468/ec,\n",
       " span id:CUR15285 annotator:Curation layer:Policydesigncharacteristics type:Reference tag:Ref_OtherPolicy start:344 stop:364 text:decision 1999/468/ec,\n",
       " span id:CUR15286 annotator:Curation layer:Policydesigncharacteristics type:Reference tag:Ref_OtherPolicy start:476 stop:496 text:decision 1999/468/ec,\n",
       " span id:CUR15287 annotator:Curation layer:Policydesigncharacteristics type:Time tag:Time_Compliance start:506 stop:518 text:three months,\n",
       " span id:CUR15792 annotator:Curation layer:Policydesigncharacteristics type:Compliance tag:Form_monitoring start:402 stop:421 text:national statistics,\n",
       " span id:CUR15793 annotator:Curation layer:Policydesigncharacteristics type:Resource tag:Resource_Other start:402 stop:421 text:national statistics,\n",
       " span id:CUR15794 annotator:Curation layer:Policydesigncharacteristics type:Time tag:Time_Monitoring start:607 stop:613 text:annual,\n",
       " span id:CUR15795 annotator:Curation layer:Policydesigncharacteristics type:Compliance tag:Form_monitoring start:614 stop:632 text:nuclear statistics,\n",
       " span id:CUR15796 annotator:Curation layer:Policydesigncharacteristics type:Resource tag:Resource_Other start:614 stop:632 text:nuclear statistics,\n",
       " span id:CUR15797 annotator:Curation layer:Policydesigncharacteristics type:Resource tag:Resource_Other start:676 stop:703 text:renewable energy statistics,\n",
       " span id:CUR15798 annotator:Curation layer:Policydesigncharacteristics type:Compliance tag:Form_monitoring start:676 stop:703 text:renewable energy statistics,\n",
       " span id:CUR15799 annotator:Curation layer:Policydesigncharacteristics type:Resource tag:Resource_Other start:768 stop:803 text:final energy consumption statistics,\n",
       " span id:CUR15800 annotator:Curation layer:Policydesigncharacteristics type:Compliance tag:Form_monitoring start:768 stop:803 text:final energy consumption statistics,\n",
       " span id:CUR15801 annotator:Curation layer:Policydesigncharacteristics type:Compliance tag:Form_monitoring start:1051 stop:1060 text:reporting,\n",
       " span id:CUR15803 annotator:Curation layer:Policydesigncharacteristics type:Compliance tag:Form_monitoring start:73 stop:92 text:national statistics,\n",
       " span id:CUR15804 annotator:Curation layer:Policydesigncharacteristics type:Resource tag:Resource_Other start:73 stop:92 text:national statistics,\n",
       " span id:CUR15805 annotator:Curation layer:Policydesigncharacteristics type:Compliance tag:Form_monitoring start:103 stop:122 text:national statistics,\n",
       " span id:CUR15806 annotator:Curation layer:Policydesigncharacteristics type:Resource tag:Resource_Other start:103 stop:122 text:national statistics,\n",
       " span id:CUR15807 annotator:Curation layer:Policydesigncharacteristics type:Compliance tag:Form_monitoring start:129 stop:137 text:reported,\n",
       " span id:CUR15808 annotator:Curation layer:Policydesigncharacteristics type:Time tag:Time_Monitoring start:238 stop:244 text:annual,\n",
       " span id:CUR15809 annotator:Curation layer:Policydesigncharacteristics type:Time tag:Time_Resources start:238 stop:244 text:annual,\n",
       " span id:CUR15810 annotator:Curation layer:Policydesigncharacteristics type:Compliance tag:Form_monitoring start:254 stop:271 text:energy statistics,\n",
       " span id:CUR15811 annotator:Curation layer:Policydesigncharacteristics type:Resource tag:Resource_Other start:254 stop:271 text:energy statistics,\n",
       " span id:CUR15812 annotator:Curation layer:Policydesigncharacteristics type:Time tag:Time_Monitoring start:290 stop:297 text:monthly,\n",
       " span id:CUR15813 annotator:Curation layer:Policydesigncharacteristics type:Time tag:Time_Resources start:290 stop:297 text:monthly,\n",
       " span id:CUR15814 annotator:Curation layer:Policydesigncharacteristics type:Compliance tag:Form_monitoring start:307 stop:324 text:energy statistics,\n",
       " span id:CUR15815 annotator:Curation layer:Policydesigncharacteristics type:Resource tag:Resource_Other start:307 stop:324 text:energy statistics,\n",
       " span id:CUR15816 annotator:Curation layer:Policydesigncharacteristics type:Time tag:Time_Monitoring start:343 stop:361 text:short-term monthly,\n",
       " span id:CUR15817 annotator:Curation layer:Policydesigncharacteristics type:Time tag:Time_Resources start:343 stop:361 text:short-term monthly,\n",
       " span id:CUR15818 annotator:Curation layer:Policydesigncharacteristics type:Compliance tag:Form_monitoring start:371 stop:388 text:energy statistics,\n",
       " span id:CUR15819 annotator:Curation layer:Policydesigncharacteristics type:Resource tag:Resource_Other start:371 stop:388 text:energy statistics,\n",
       " span id:CUR17444 annotator:Curation layer:Policydesigncharacteristics type:Time tag:Time_InEffect start:76 stop:134 text:20th day following its publication in the official journal,\n",
       " span id:CUR17445 annotator:Curation layer:Policydesigncharacteristics type:Time tag:Time_InEffect start:76 stop:110 text:20th day following its publication,\n",
       " span id:CUR17446 annotator:Curation layer:Policydesigncharacteristics type:Actor tag:Addressee_default start:239 stop:252 text:member states,\n",
       " span id:CUR17466 annotator:Curation layer:Policydesigncharacteristics type:Compliance tag:Form_monitoring start:11 stop:29 text:quality assessment,\n",
       " span id:CUR17467 annotator:Curation layer:Policydesigncharacteristics type:Compliance tag:Form_monitoring start:34 stop:41 text:reports,\n",
       " span id:CUR17468 annotator:Curation layer:Policydesigncharacteristics type:Actor tag:Addressee_monitored start:48 stop:61 text:member states,\n",
       " span id:CUR17469 annotator:Curation layer:Policydesigncharacteristics type:Reference tag:Ref_OtherPolicy start:275 stop:306 text:commission decision 2005/166/ec,\n",
       " span id:CUR17470 annotator:Curation layer:Policydesigncharacteristics type:Reference tag:Ref_OtherPolicy start:286 stop:306 text:decision 2005/166/ec,\n",
       " span id:CUR17471 annotator:Curation layer:Policydesigncharacteristics type:Reference tag:Ref_OtherPolicy start:366 stop:389 text:decision no 280/2004/ec,\n",
       " span id:CUR17472 annotator:Curation layer:Policydesigncharacteristics type:Actor tag:Authority_legislative start:397 stop:416 text:european parliament,\n",
       " span id:CUR17473 annotator:Curation layer:Policydesigncharacteristics type:Actor tag:Authority_legislative start:428 stop:435 text:council,\n",
       " span id:CUR17474 annotator:Curation layer:Policydesigncharacteristics type:Objective tag:Objective_QualIntention start:449 stop:548 text:mechanism for monitoring community greenhouse gas emissions and for implementing the kyoto protocol,\n",
       " span id:CUR17475 annotator:Curation layer:Policydesigncharacteristics type:Compliance tag:Form_monitoring start:449 stop:473 text:mechanism for monitoring,\n",
       " span id:CUR17476 annotator:Curation layer:Policydesigncharacteristics type:Compliance tag:Form_monitoring start:463 stop:473 text:monitoring,\n",
       " span id:CUR17477 annotator:Curation layer:Policydesigncharacteristics type:Reference tag:Ref_Strategy_Agreement start:534 stop:548 text:kyoto protocol,\n",
       " span id:CUR17478 annotator:Curation layer:Policydesigncharacteristics type:Resource tag:Resource_Other start:661 stop:665 text:data,\n",
       " span id:CUR17479 annotator:Curation layer:Policydesigncharacteristics type:Compliance tag:Form_monitoring start:672 stop:683 text:transmitted,\n",
       " span id:CUR17480 annotator:Curation layer:Policydesigncharacteristics type:Resource tag:Resource_Other start:738 stop:748 text:statistics,\n",
       " span id:CUR17481 annotator:Curation layer:Policydesigncharacteristics type:Compliance tag:Form_monitoring start:738 stop:748 text:statistics,\n",
       " span id:CUR17482 annotator:Curation layer:Policydesigncharacteristics type:Actor tag:Addressee_resource start:789 stop:794 text:users,\n",
       " span id:CUR17483 annotator:Curation layer:Policydesigncharacteristics type:Resource tag:Resource_Other start:959 stop:970 text:information,\n",
       " span id:CUR17484 annotator:Curation layer:Policydesigncharacteristics type:Compliance tag:Form_monitoring start:959 stop:970 text:information,\n",
       " span id:CUR17485 annotator:Curation layer:Policydesigncharacteristics type:Time tag:Time_Monitoring start:1070 stop:1101 text:date of the release of the data,\n",
       " span id:CUR17486 annotator:Curation layer:Policydesigncharacteristics type:Resource tag:Resource_Other start:1097 stop:1101 text:data,\n",
       " span id:CUR17487 annotator:Curation layer:Policydesigncharacteristics type:Time tag:Time_Compliance start:1110 stop:1121 text:target date,\n",
       " span id:CUR17488 annotator:Curation layer:Policydesigncharacteristics type:Actor tag:Addressee_resource start:1248 stop:1253 text:users,\n",
       " span id:CUR17489 annotator:Curation layer:Policydesigncharacteristics type:Resource tag:Resource_Other start:1284 stop:1288 text:data,\n",
       " span id:CUR17490 annotator:Curation layer:Policydesigncharacteristics type:Resource tag:Resource_Other start:1447 stop:1457 text:statistics,\n",
       " span id:CUR17491 annotator:Curation layer:Policydesigncharacteristics type:Resource tag:Resource_Other start:1583 stop:1587 text:data,\n",
       " span id:CUR17492 annotator:Curation layer:Policydesigncharacteristics type:Time tag:Time_Monitoring start:1658 stop:1674 text:every five years,\n",
       " span id:CUR17493 annotator:Curation layer:Policydesigncharacteristics type:Actor tag:Addressee_monitored start:1676 stop:1689 text:member states,\n",
       " span id:CUR17494 annotator:Curation layer:Policydesigncharacteristics type:Actor tag:Authority_monitoring start:1708 stop:1729 text:commission (eurostat),\n",
       " span id:CUR17495 annotator:Curation layer:Policydesigncharacteristics type:Actor tag:Authority_monitoring start:1708 stop:1718 text:commission,\n",
       " span id:CUR17496 annotator:Curation layer:Policydesigncharacteristics type:Actor tag:Authority_monitoring start:1720 stop:1728 text:eurostat,\n",
       " span id:CUR17497 annotator:Curation layer:Policydesigncharacteristics type:Compliance tag:Form_monitoring start:1737 stop:1743 text:report,\n",
       " span id:CUR17498 annotator:Curation layer:Policydesigncharacteristics type:Resource tag:Resource_Other start:1766 stop:1770 text:data,\n",
       " span id:CUR17499 annotator:Curation layer:Policydesigncharacteristics type:Time tag:Time_Monitoring start:1851 stop:1923 text:within six months of receipt of a request from the commission (eurostat),\n",
       " span id:CUR17500 annotator:Curation layer:Policydesigncharacteristics type:Time tag:Time_Compliance start:1851 stop:1868 text:within six months,\n",
       " span id:CUR17501 annotator:Curation layer:Policydesigncharacteristics type:Actor tag:Authority_monitoring start:1902 stop:1923 text:commission (eurostat),\n",
       " span id:CUR17502 annotator:Curation layer:Policydesigncharacteristics type:Actor tag:Authority_monitoring start:1902 stop:1912 text:commission,\n",
       " span id:CUR17503 annotator:Curation layer:Policydesigncharacteristics type:Actor tag:Authority_monitoring start:1914 stop:1922 text:eurostat,\n",
       " span id:CUR17504 annotator:Curation layer:Policydesigncharacteristics type:Compliance tag:Form_monitoring start:1953 stop:1959 text:assess,\n",
       " span id:CUR17505 annotator:Curation layer:Policydesigncharacteristics type:Resource tag:Resource_Other start:1979 stop:1983 text:data,\n",
       " span id:CUR17506 annotator:Curation layer:Policydesigncharacteristics type:Actor tag:Addressee_monitored start:1997 stop:2010 text:member states,\n",
       " span id:CUR17507 annotator:Curation layer:Policydesigncharacteristics type:Actor tag:Authority_monitoring start:2029 stop:2050 text:commission (eurostat),\n",
       " span id:CUR17508 annotator:Curation layer:Policydesigncharacteristics type:Actor tag:Authority_monitoring start:2029 stop:2039 text:commission,\n",
       " span id:CUR17509 annotator:Curation layer:Policydesigncharacteristics type:Actor tag:Authority_monitoring start:2041 stop:2049 text:eurostat,\n",
       " span id:CUR17510 annotator:Curation layer:Policydesigncharacteristics type:Compliance tag:Form_monitoring start:2053 stop:2059 text:report,\n",
       " span id:CUR17832 annotator:Curation layer:Policydesigncharacteristics type:Time tag:Time_Monitoring start:11 stop:39 text:time reference and frequency,\n",
       " span id:CUR17833 annotator:Curation layer:Policydesigncharacteristics type:Actor tag:Addressee_monitored start:41 stop:54 text:member states,\n",
       " span id:CUR17834 annotator:Curation layer:Policydesigncharacteristics type:Time tag:Time_InEffect start:112 stop:188 text:the beginning of the calendar year following the adoption of this regulation,\n",
       " span id:CUR17835 annotator:Curation layer:Policydesigncharacteristics type:Time tag:Time_InEffect start:116 stop:146 text:beginning of the calendar year,\n",
       " span id:CUR17836 annotator:Curation layer:Policydesigncharacteristics type:Time tag:Time_Monitoring start:241 stop:252 text:frequencies,\n",
       " span id:CUR18542 annotator:Curation layer:Policydesigncharacteristics type:Actor tag:Addressee_default start:95 stop:106 text:respondents,\n",
       " span id:CUR18543 annotator:Curation layer:Policydesigncharacteristics type:Actor tag:Addressee_monitored start:145 stop:158 text:member states,\n",
       " span id:CUR18544 annotator:Curation layer:Policydesigncharacteristics type:Compliance tag:Form_monitoring start:165 stop:177 text:compile data,\n",
       " span id:CUR18545 annotator:Curation layer:Policydesigncharacteristics type:Actor tag:Addressee_monitored start:233 stop:242 text:community,\n",
       " span id:CUR18546 annotator:Curation layer:Policydesigncharacteristics type:Compliance tag:Form_monitoring start:286 stop:305 text:statistical surveys,\n",
       " span id:CUR18547 annotator:Curation layer:Policydesigncharacteristics type:Actor tag:Addressee_sector start:323 stop:431 text:primary and transformed energy producers and traders, distributors and transporters, importers and exporters,\n",
       " span id:CUR18548 annotator:Curation layer:Policydesigncharacteristics type:Actor tag:Addressee_sector start:347 stop:375 text:energy producers and traders,\n",
       " span id:CUR18549 annotator:Curation layer:Policydesigncharacteristics type:Actor tag:Addressee_sector start:354 stop:363 text:producers,\n",
       " span id:CUR18550 annotator:Curation layer:Policydesigncharacteristics type:Actor tag:Addressee_sector start:368 stop:375 text:traders,\n",
       " span id:CUR18551 annotator:Curation layer:Policydesigncharacteristics type:Actor tag:Addressee_sector start:377 stop:406 text:distributors and transporters,\n",
       " span id:CUR18552 annotator:Curation layer:Policydesigncharacteristics type:Actor tag:Addressee_sector start:377 stop:389 text:distributors,\n",
       " span id:CUR18553 annotator:Curation layer:Policydesigncharacteristics type:Actor tag:Addressee_sector start:394 stop:406 text:transporters,\n",
       " span id:CUR18554 annotator:Curation layer:Policydesigncharacteristics type:Actor tag:Addressee_sector start:408 stop:450 text:importers and exporters of energy products,\n",
       " span id:CUR18555 annotator:Curation layer:Policydesigncharacteristics type:Actor tag:Addressee_sector start:408 stop:417 text:importers,\n",
       " span id:CUR18556 annotator:Curation layer:Policydesigncharacteristics type:Actor tag:Addressee_sector start:422 stop:431 text:exporters,\n",
       " span id:CUR18557 annotator:Curation layer:Policydesigncharacteristics type:Actor tag:Addressee_sector start:534 stop:556 text:manufacturing industry,\n",
       " span id:CUR18558 annotator:Curation layer:Policydesigncharacteristics type:Actor tag:Addressee_sector start:558 stop:567 text:transport,\n",
       " span id:CUR18559 annotator:Curation layer:Policydesigncharacteristics type:Actor tag:Addressee_sector start:573 stop:586 text:other sectors,\n",
       " span id:CUR18560 annotator:Curation layer:Policydesigncharacteristics type:Actor tag:Addressee_sector start:598 stop:608 text:households,\n",
       " span id:CUR18561 annotator:Curation layer:Policydesigncharacteristics type:Compliance tag:Form_monitoring start:622 stop:655 text:statistical estimation procedures,\n",
       " span id:CUR18562 annotator:Curation layer:Policydesigncharacteristics type:Compliance tag:Form_monitoring start:622 stop:644 text:statistical estimation,\n",
       " span id:CUR18563 annotator:Curation layer:Policydesigncharacteristics type:Actor tag:Addressee_default start:716 stop:761 text:regulators of the electricity and gas markets,\n",
       " span id:CUR18564 annotator:Curation layer:Policydesigncharacteristics type:Actor tag:Addressee_sector start:734 stop:761 text:electricity and gas markets,\n",
       " span id:CUR18565 annotator:Curation layer:Policydesigncharacteristics type:Actor tag:Addressee_default start:769 stop:782 text:member states,\n",
       " span id:CUR18566 annotator:Curation layer:Policydesigncharacteristics type:Compliance tag:Form_monitoring start:832 stop:841 text:reporting,\n",
       " span id:CUR18567 annotator:Curation layer:Policydesigncharacteristics type:Compliance tag:Form_monitoring start:869 stop:888 text:national statistics,\n",
       " span id:CUR18568 annotator:Curation layer:Policydesigncharacteristics type:Resource tag:Resource_Other start:869 stop:888 text:national statistics,\n",
       " span id:CUR18941 annotator:Curation layer:Policydesigncharacteristics type:Resource tag:Resource_Other start:106 stop:126 text:community statistics,\n",
       " span id:CUR18942 annotator:Curation layer:Policydesigncharacteristics type:Resource tag:Resource_Other start:133 stop:153 text:community statistics,\n",
       " span id:CUR18943 annotator:Curation layer:Policydesigncharacteristics type:Reference tag:Ref_OtherPolicy start:201 stop:226 text:regulation (ec) no 322/97,\n",
       " span id:CUR18944 annotator:Curation layer:Policydesigncharacteristics type:Resource tag:Resource_Other start:249 stop:259 text:statistics,\n",
       " span id:CUR18945 annotator:Curation layer:Policydesigncharacteristics type:Resource tag:Resource_Other start:281 stop:291 text:statistics,\n",
       " span id:CUR18946 annotator:Curation layer:Policydesigncharacteristics type:Reference tag:Ref_OtherPolicy start:340 stop:365 text:regulation (ec) no 322/97,\n",
       " span id:CUR18947 annotator:Curation layer:Policydesigncharacteristics type:Actor tag:Authority_default start:374 stop:395 text:commission (eurostat),\n",
       " span id:CUR18948 annotator:Curation layer:Policydesigncharacteristics type:Actor tag:Authority_default start:374 stop:384 text:commission,\n",
       " span id:CUR18949 annotator:Curation layer:Policydesigncharacteristics type:Actor tag:Authority_default start:386 stop:394 text:eurostat,\n",
       " span id:CUR18950 annotator:Curation layer:Policydesigncharacteristics type:Actor tag:Authority_default start:407 stop:426 text:community authority,\n",
       " span id:CUR18951 annotator:Curation layer:Policydesigncharacteristics type:Reference tag:Ref_OtherPolicy start:475 stop:500 text:regulation (ec) no 322/97,\n",
       " span id:CUR20553 annotator:Curation layer:Policydesigncharacteristics type:Objective tag:Objective_QualIntention_noCCM start:97 stop:183 text:production, transmission, evaluation and dissemination of comparable energy statistics,\n",
       " span id:CUR20554 annotator:Curation layer:Policydesigncharacteristics type:Objective tag:Objective_QualIntention_noCCM start:155 stop:200 text:comparable energy statistics in the community,\n",
       " span id:CUR20555 annotator:Curation layer:Policydesigncharacteristics type:Resource tag:Resource_Other start:166 stop:183 text:energy statistics,\n",
       " span id:CUR20556 annotator:Curation layer:Policydesigncharacteristics type:Actor tag:Addressee_sector start:191 stop:200 text:community,\n",
       " span id:CUR20557 annotator:Curation layer:Policydesigncharacteristics type:Actor tag:Addressee_default start:191 stop:200 text:community,\n",
       " span id:CUR20558 annotator:Curation layer:Policydesigncharacteristics type:Actor tag:Addressee_sector start:311 stop:320 text:community,\n",
       " span id:CUR20559 annotator:Curation layer:Policydesigncharacteristics type:Actor tag:Addressee_default start:311 stop:320 text:community]"
      ]
     },
     "execution_count": 23,
     "metadata": {},
     "output_type": "execute_result"
    }
   ],
   "source": [
    "test_corpus.get_span_list(conditional_rep = test_dir, item = 'layer', value = 'Policydesigncharacteristics')"
   ]
  },
  {
   "cell_type": "markdown",
   "metadata": {},
   "source": [
    "All the other member functions are based on the Corpus.get_tag_list member function, and they take the same inputs. \n",
    "\n",
    "get_span_distro(self, conditional_rep, item, value, return_format) returns the distribution of spans of a tag_list either in dict{span:count} or list format. The lenght of the span can be calculated on character or token level:"
   ]
  },
  {
   "cell_type": "code",
   "execution_count": 24,
   "metadata": {},
   "outputs": [
    {
     "data": {
      "text/plain": [
       "{10: 32,\n",
       " 19: 17,\n",
       " 20: 16,\n",
       " 8: 14,\n",
       " 13: 14,\n",
       " 9: 14,\n",
       " 17: 13,\n",
       " 21: 12,\n",
       " 11: 11,\n",
       " 6: 10,\n",
       " 18: 8,\n",
       " 4: 8,\n",
       " 15: 7,\n",
       " 35: 6,\n",
       " 27: 6,\n",
       " 12: 6,\n",
       " 7: 5,\n",
       " 16: 4,\n",
       " 25: 4,\n",
       " 5: 4,\n",
       " 31: 3,\n",
       " 22: 3,\n",
       " 23: 2,\n",
       " 14: 2,\n",
       " 24: 2,\n",
       " 28: 2,\n",
       " 45: 2,\n",
       " 36: 2,\n",
       " 81: 1,\n",
       " 59: 1,\n",
       " 58: 1,\n",
       " 34: 1,\n",
       " 99: 1,\n",
       " 72: 1,\n",
       " 76: 1,\n",
       " 30: 1,\n",
       " 108: 1,\n",
       " 29: 1,\n",
       " 42: 1,\n",
       " 33: 1,\n",
       " 86: 1}"
      ]
     },
     "execution_count": 24,
     "metadata": {},
     "output_type": "execute_result"
    }
   ],
   "source": [
    "test_corpus.get_span_distro(conditional_rep = test_dir, return_format = 'dict', level = 'character')"
   ]
  },
  {
   "cell_type": "code",
   "execution_count": 25,
   "metadata": {},
   "outputs": [
    {
     "data": {
      "text/plain": [
       "[0,\n",
       " 0,\n",
       " 0,\n",
       " 8,\n",
       " 4,\n",
       " 10,\n",
       " 5,\n",
       " 14,\n",
       " 14,\n",
       " 32,\n",
       " 11,\n",
       " 6,\n",
       " 14,\n",
       " 2,\n",
       " 7,\n",
       " 4,\n",
       " 13,\n",
       " 8,\n",
       " 17,\n",
       " 16,\n",
       " 12,\n",
       " 3,\n",
       " 2,\n",
       " 2,\n",
       " 4,\n",
       " 0,\n",
       " 6,\n",
       " 2,\n",
       " 1,\n",
       " 1,\n",
       " 3,\n",
       " 0,\n",
       " 1,\n",
       " 1,\n",
       " 6,\n",
       " 2,\n",
       " 0,\n",
       " 0,\n",
       " 0,\n",
       " 0,\n",
       " 0,\n",
       " 1,\n",
       " 0,\n",
       " 0,\n",
       " 2,\n",
       " 0,\n",
       " 0,\n",
       " 0,\n",
       " 0,\n",
       " 0,\n",
       " 0,\n",
       " 0,\n",
       " 0,\n",
       " 0,\n",
       " 0,\n",
       " 0,\n",
       " 0,\n",
       " 1,\n",
       " 1,\n",
       " 0,\n",
       " 0,\n",
       " 0,\n",
       " 0,\n",
       " 0,\n",
       " 0,\n",
       " 0,\n",
       " 0,\n",
       " 0,\n",
       " 0,\n",
       " 0,\n",
       " 0,\n",
       " 1,\n",
       " 0,\n",
       " 0,\n",
       " 0,\n",
       " 1,\n",
       " 0,\n",
       " 0,\n",
       " 0,\n",
       " 0,\n",
       " 1,\n",
       " 0,\n",
       " 0,\n",
       " 0,\n",
       " 0,\n",
       " 1,\n",
       " 0,\n",
       " 0,\n",
       " 0,\n",
       " 0,\n",
       " 0,\n",
       " 0,\n",
       " 0,\n",
       " 0,\n",
       " 0,\n",
       " 0,\n",
       " 0,\n",
       " 0,\n",
       " 1,\n",
       " 0,\n",
       " 0,\n",
       " 0,\n",
       " 0,\n",
       " 0,\n",
       " 0,\n",
       " 0,\n",
       " 0,\n",
       " 1]"
      ]
     },
     "execution_count": 25,
     "metadata": {},
     "output_type": "execute_result"
    }
   ],
   "source": [
    "test_corpus.get_span_distro(conditional_rep = test_dir, return_format = 'list')"
   ]
  },
  {
   "cell_type": "code",
   "execution_count": 26,
   "metadata": {},
   "outputs": [
    {
     "data": {
      "text/plain": [
       "{1: 98,\n",
       " 2: 84,\n",
       " 4: 18,\n",
       " 3: 16,\n",
       " 6: 6,\n",
       " 5: 5,\n",
       " 9: 4,\n",
       " 7: 3,\n",
       " 11: 2,\n",
       " 10: 1,\n",
       " 8: 1,\n",
       " 13: 1,\n",
       " 14: 1,\n",
       " 12: 1,\n",
       " 15: 1}"
      ]
     },
     "execution_count": 26,
     "metadata": {},
     "output_type": "execute_result"
    }
   ],
   "source": [
    "test_corpus.get_span_distro(conditional_rep = test_dir, return_format = 'dict', level = 'token')"
   ]
  },
  {
   "cell_type": "markdown",
   "metadata": {},
   "source": [
    "This span distribution can also be plottet:"
   ]
  },
  {
   "cell_type": "code",
   "execution_count": 30,
   "metadata": {},
   "outputs": [
    {
     "data": {
      "image/png": "[encoded data removed]",
      "text/plain": [
       "<Figure size 432x288 with 1 Axes>"
      ]
     },
     "metadata": {
      "needs_background": "light"
     },
     "output_type": "display_data"
    }
   ],
   "source": [
    "import matplotlib.pyplot as plt\n",
    "plt.plot(test_corpus.get_span_distro(conditional_rep = test_dir, return_format = 'list', level = 'token'))\n",
    "plt.show()"
   ]
  },
  {
   "cell_type": "markdown",
   "metadata": {},
   "source": [
    "The function get_span_count(self, article, item, value) returns the number of tags in the tag_list. This can be used to retrieve the amount of tags matching a certain condition, e.g. all the tags in the layer 'Policydesigncharacteristics' in the policy 'EU_32008R1099':\n",
    "\n",
    "<div class=\"alert alert-block alert-info\">\n",
    "<b>To do:</b> If a span or token is labeled twice is this is also counted twice?\n",
    "</div>"
   ]
  },
  {
   "cell_type": "code",
   "execution_count": 31,
   "metadata": {},
   "outputs": [
    {
     "data": {
      "text/plain": [
       "199"
      ]
     },
     "execution_count": 31,
     "metadata": {},
     "output_type": "execute_result"
    }
   ],
   "source": [
    "test_corpus.get_span_count(item = 'layer', value = 'Policydesigncharacteristics', conditional_rep = test_dir)"
   ]
  },
  {
   "cell_type": "markdown",
   "metadata": {},
   "source": [
    "The function get_tokens_from_span_list(self, conditional_rep, item, value) returns a list of all the tokens in a taglist:"
   ]
  },
  {
   "cell_type": "code",
   "execution_count": 32,
   "metadata": {},
   "outputs": [
    {
     "data": {
      "text/plain": [
       "[start:1090 stop:1092 text:of tag_count:1,\n",
       " start:793 stop:803 text:statistics tag_count:2,\n",
       " start:485 stop:489 text:1999 tag_count:1,\n",
       " start:354 stop:363 text:producers tag_count:3,\n",
       " start:32 stop:42 text:commission tag_count:1,\n",
       " start:868 stop:878 text:statistics tag_count:2,\n",
       " start:1082 stop:1089 text:release tag_count:1,\n",
       " start:374 stop:384 text:commission tag_count:2,\n",
       " start:173 stop:177 text:data tag_count:1,\n",
       " start:142 stop:145 text:and tag_count:1,\n",
       " start:323 stop:330 text:primary tag_count:1,\n",
       " start:354 stop:355 text:) tag_count:1,\n",
       " start:428 stop:435 text:council tag_count:1,\n",
       " start:524 stop:532 text:annually tag_count:1,\n",
       " start:48 stop:54 text:states tag_count:1,\n",
       " start:491 stop:498 text:nuclear tag_count:1,\n",
       " start:558 stop:567 text:transport tag_count:1,\n",
       " start:216 stop:220 text:2009 tag_count:2,\n",
       " start:295 stop:299 text:2005 tag_count:2,\n",
       " start:356 stop:358 text:no tag_count:1,\n",
       " start:110 stop:113 text:the tag_count:1,\n",
       " start:152 stop:158 text:energy tag_count:1,\n",
       " start:386 stop:387 text:/ tag_count:1,\n",
       " start:411 stop:421 text:statistics tag_count:2,\n",
       " start:103 stop:109 text:energy tag_count:1,\n",
       " start:375 stop:385 text:statistics tag_count:2,\n",
       " start:385 stop:386 text:( tag_count:1,\n",
       " start:233 stop:242 text:community tag_count:1,\n",
       " start:362 stop:363 text:/ tag_count:1,\n",
       " start:861 stop:867 text:energy tag_count:2,\n",
       " start:368 stop:375 text:traders tag_count:3,\n",
       " start:1021 stop:1026 text:pilot tag_count:1,\n",
       " start:213 stop:215 text:ec tag_count:1,\n",
       " start:672 stop:683 text:transmitted tag_count:1,\n",
       " start:26 stop:29 text:and tag_count:1,\n",
       " start:307 stop:313 text:energy tag_count:2,\n",
       " start:281 stop:291 text:statistics tag_count:1,\n",
       " start:1720 stop:1728 text:eurostat tag_count:2,\n",
       " start:486 stop:487 text:( tag_count:1,\n",
       " start:489 stop:490 text:/ tag_count:1,\n",
       " start:1583 stop:1587 text:data tag_count:1,\n",
       " start:335 stop:346 text:transformed tag_count:1,\n",
       " start:19 stop:29 text:assessment tag_count:1,\n",
       " start:129 stop:137 text:reported tag_count:1,\n",
       " start:785 stop:791 text:energy tag_count:2,\n",
       " start:290 stop:297 text:monthly tag_count:2,\n",
       " start:607 stop:613 text:annual tag_count:1,\n",
       " start:495 stop:498 text:gas tag_count:1,\n",
       " start:1953 stop:1959 text:assess tag_count:1,\n",
       " start:366 stop:374 text:decision tag_count:1,\n",
       " start:493 stop:494 text:/ tag_count:1,\n",
       " start:893 stop:900 text:studies tag_count:1,\n",
       " start:55 stop:61 text:states tag_count:1,\n",
       " start:1979 stop:1983 text:data tag_count:1,\n",
       " start:110 stop:116 text:sector tag_count:1,\n",
       " start:625 stop:635 text:statistics tag_count:1,\n",
       " start:407 stop:416 text:community tag_count:1,\n",
       " start:513 stop:516 text:for tag_count:1,\n",
       " start:106 stop:115 text:community tag_count:1,\n",
       " start:499 stop:509 text:statistics tag_count:1,\n",
       " start:540 stop:548 text:protocol tag_count:2,\n",
       " start:1110 stop:1116 text:target tag_count:1,\n",
       " start:103 stop:111 text:national tag_count:2,\n",
       " start:96 stop:104 text:eurostat tag_count:1,\n",
       " start:188 stop:196 text:decision tag_count:1,\n",
       " start:387 stop:389 text:ec tag_count:1,\n",
       " start:727 stop:729 text:of tag_count:1,\n",
       " start:832 stop:841 text:reporting tag_count:1,\n",
       " start:601 stop:611 text:commission tag_count:2,\n",
       " start:1902 stop:1912 text:commission tag_count:3,\n",
       " start:361 stop:362 text:/ tag_count:1,\n",
       " start:2040 stop:2041 text:( tag_count:1,\n",
       " start:199 stop:207 text:eurostat tag_count:4,\n",
       " start:489 stop:490 text:) tag_count:1,\n",
       " start:187 stop:197 text:commission tag_count:4,\n",
       " start:135 stop:141 text:energy tag_count:1,\n",
       " start:397 stop:405 text:european tag_count:1,\n",
       " start:804 stop:814 text:statistics tag_count:2,\n",
       " start:709 stop:717 text:national tag_count:2,\n",
       " start:474 stop:483 text:community tag_count:1,\n",
       " start:125 stop:134 text:renewable tag_count:1,\n",
       " start:220 stop:223 text:322 tag_count:1,\n",
       " start:498 stop:500 text:97 tag_count:1,\n",
       " start:530 stop:533 text:the tag_count:1,\n",
       " start:781 stop:792 text:consumption tag_count:2,\n",
       " start:159 stop:169 text:statistics tag_count:1,\n",
       " start:512 stop:518 text:months tag_count:1,\n",
       " start:357 stop:358 text:/ tag_count:1,\n",
       " start:449 stop:458 text:mechanism tag_count:3,\n",
       " start:239 stop:245 text:member tag_count:1,\n",
       " start:900 stop:906 text:second tag_count:1,\n",
       " start:779 stop:784 text:final tag_count:2,\n",
       " start:56 stop:67 text:consumption tag_count:1,\n",
       " start:133 stop:141 text:calendar tag_count:2,\n",
       " start:730 stop:733 text:the tag_count:1,\n",
       " start:418 stop:421 text:and tag_count:2,\n",
       " start:362 stop:364 text:ec tag_count:1,\n",
       " start:76 stop:80 text:20th tag_count:2,\n",
       " start:201 stop:211 text:regulation tag_count:1,\n",
       " start:393 stop:402 text:renewable tag_count:2,\n",
       " start:97 stop:107 text:production tag_count:1,\n",
       " start:173 stop:183 text:statistics tag_count:3,\n",
       " start:119 stop:129 text:statistics tag_count:2,\n",
       " start:304 stop:306 text:ec tag_count:2,\n",
       " start:2004 stop:2010 text:states tag_count:1,\n",
       " start:410 stop:420 text:statistics tag_count:2,\n",
       " start:1276 stop:1285 text:renewable tag_count:1,\n",
       " start:1078 stop:1081 text:the tag_count:1,\n",
       " start:1737 stop:1743 text:report tag_count:1,\n",
       " start:95 stop:106 text:respondents tag_count:1,\n",
       " start:171 stop:181 text:statistics tag_count:1,\n",
       " start:581 stop:589 text:eurostat tag_count:2,\n",
       " start:534 stop:547 text:manufacturing tag_count:1,\n",
       " start:403 stop:409 text:energy tag_count:2,\n",
       " start:254 stop:260 text:energy tag_count:2,\n",
       " start:378 stop:381 text:280 tag_count:1,\n",
       " start:2029 stop:2039 text:commission tag_count:2,\n",
       " start:151 stop:158 text:nuclear tag_count:1,\n",
       " start:202 stop:205 text:468 tag_count:1,\n",
       " start:219 stop:220 text:  tag_count:1,\n",
       " start:417 stop:426 text:authority tag_count:1,\n",
       " start:1117 stop:1121 text:date tag_count:1,\n",
       " start:138 stop:151 text:dissemination tag_count:1,\n",
       " start:286 stop:297 text:statistical tag_count:1,\n",
       " start:1858 stop:1861 text:six tag_count:2,\n",
       " start:442 stop:450 text:products tag_count:2,\n",
       " start:885 stop:892 text:january tag_count:1,\n",
       " start:528 stop:534 text:member tag_count:1,\n",
       " start:1284 stop:1288 text:data tag_count:1,\n",
       " start:256 stop:264 text:reported tag_count:1,\n",
       " start:145 stop:151 text:member tag_count:1,\n",
       " start:375 stop:377 text:no tag_count:1,\n",
       " start:956 stop:964 text:analyses tag_count:1,\n",
       " start:12 stop:21 text:committee tag_count:1,\n",
       " start:598 stop:608 text:households tag_count:1,\n",
       " start:217 stop:219 text:no tag_count:1,\n",
       " start:344 stop:352 text:decision tag_count:1,\n",
       " start:129 stop:132 text:the tag_count:2,\n",
       " start:509 stop:512 text:and tag_count:1,\n",
       " start:1039 stop:1051 text:cost-benefit tag_count:1,\n",
       " start:490 stop:493 text:468 tag_count:1,\n",
       " start:144 stop:150 text:annual tag_count:1,\n",
       " start:123 stop:133 text:evaluation tag_count:1,\n",
       " start:459 stop:462 text:for tag_count:2,\n",
       " start:912 stop:921 text:following tag_count:1,\n",
       " start:80 stop:89 text:programme tag_count:1,\n",
       " start:382 stop:386 text:2004 tag_count:1,\n",
       " start:435 stop:441 text:energy tag_count:2,\n",
       " start:589 stop:590 text:) tag_count:1,\n",
       " start:212 stop:213 text:( tag_count:1,\n",
       " start:173 stop:177 text:this tag_count:1,\n",
       " start:718 stop:728 text:statistics tag_count:2,\n",
       " start:55 stop:61 text:states tag_count:2,\n",
       " start:2049 stop:2050 text:) tag_count:1,\n",
       " start:943 stop:955 text:cost-benefit tag_count:1,\n",
       " start:534 stop:539 text:kyoto tag_count:2,\n",
       " start:201 stop:202 text:/ tag_count:1,\n",
       " start:243 stop:249 text:states tag_count:2,\n",
       " start:95 stop:98 text:its tag_count:2,\n",
       " start:112 stop:115 text:the tag_count:1,\n",
       " start:1728 stop:1729 text:) tag_count:1,\n",
       " start:1883 stop:1884 text:a tag_count:1,\n",
       " start:147 stop:156 text:following tag_count:1,\n",
       " start:394 stop:395 text:) tag_count:1,\n",
       " start:1093 stop:1096 text:the tag_count:1,\n",
       " start:228 stop:232 text:time tag_count:1,\n",
       " start:2053 stop:2059 text:report tag_count:1,\n",
       " start:1885 stop:1892 text:request tag_count:1,\n",
       " start:99 stop:110 text:publication tag_count:2,\n",
       " start:432 stop:434 text:of tag_count:1,\n",
       " start:185 stop:193 text:reported tag_count:1,\n",
       " start:223 stop:224 text:/ tag_count:1,\n",
       " start:1438 stop:1449 text:consumption tag_count:1,\n",
       " start:377 stop:389 text:distributors tag_count:3,\n",
       " start:484 stop:490 text:annual tag_count:1,\n",
       " start:90 stop:99 text:committee tag_count:1,\n",
       " start:331 stop:334 text:and tag_count:1,\n",
       " start:364 stop:367 text:and tag_count:2,\n",
       " start:768 stop:773 text:final tag_count:2,\n",
       " start:634 stop:644 text:estimation tag_count:2,\n",
       " start:352 stop:354 text:ec tag_count:1,\n",
       " start:1862 stop:1868 text:months tag_count:2,\n",
       " start:359 stop:362 text:322 tag_count:1,\n",
       " start:143 stop:153 text:statistics tag_count:1,\n",
       " start:923 stop:930 text:studies tag_count:1,\n",
       " start:487 stop:489 text:ec tag_count:1,\n",
       " start:1898 stop:1901 text:the tag_count:1,\n",
       " start:11 stop:15 text:time tag_count:1,\n",
       " start:68 stop:78 text:statistics tag_count:1,\n",
       " start:896 stop:899 text:the tag_count:1,\n",
       " start:155 stop:165 text:comparable tag_count:2,\n",
       " start:1212 stop:1222 text:statistics tag_count:1,\n",
       " start:792 stop:803 text:consumption tag_count:2,\n",
       " start:573 stop:578 text:other tag_count:1,\n",
       " start:1676 stop:1682 text:member tag_count:1,\n",
       " start:68 stop:79 text:statistical tag_count:1,\n",
       " start:166 stop:172 text:energy tag_count:3,\n",
       " start:854 stop:860 text:yearly tag_count:1,\n",
       " start:386 stop:394 text:eurostat tag_count:2,\n",
       " start:990 stop:1000 text:evaluating tag_count:1,\n",
       " start:882 stop:884 text:31 tag_count:1,\n",
       " start:54 stop:62 text:eurostat tag_count:1,\n",
       " start:406 stop:407 text:, tag_count:1,\n",
       " start:738 stop:748 text:statistics tag_count:2,\n",
       " start:354 stop:361 text:monthly tag_count:2,\n",
       " start:107 stop:108 text:, tag_count:1,\n",
       " start:187 stop:190 text:the tag_count:1,\n",
       " start:249 stop:259 text:statistics tag_count:1,\n",
       " start:825 stop:826 text:( tag_count:1,\n",
       " start:499 stop:508 text:emissions tag_count:1,\n",
       " start:1248 stop:1253 text:users tag_count:1,\n",
       " start:1997 stop:2003 text:member tag_count:1,\n",
       " start:82 stop:92 text:statistics tag_count:2,\n",
       " start:402 stop:410 text:national tag_count:2,\n",
       " start:184 stop:186 text:in tag_count:1,\n",
       " start:1070 stop:1074 text:date tag_count:1,\n",
       " start:907 stop:911 text:year tag_count:1,\n",
       " start:1869 stop:1871 text:of tag_count:1,\n",
       " start:1447 stop:1457 text:statistics tag_count:1,\n",
       " start:246 stop:252 text:states tag_count:1,\n",
       " start:161 stop:169 text:adoption tag_count:1,\n",
       " start:34 stop:41 text:reports tag_count:1,\n",
       " start:1851 stop:1857 text:within tag_count:2,\n",
       " start:1425 stop:1430 text:final tag_count:1,\n",
       " start:114 stop:121 text:quality tag_count:1,\n",
       " start:42 stop:52 text:commission tag_count:1,\n",
       " start:1293 stop:1303 text:statistics tag_count:1,\n",
       " start:878 stop:888 text:statistics tag_count:2,\n",
       " start:1880 stop:1882 text:of tag_count:1,\n",
       " start:178 stop:188 text:regulation tag_count:1,\n",
       " start:81 stop:84 text:day tag_count:2,\n",
       " start:1708 stop:1718 text:commission tag_count:2,\n",
       " start:191 stop:200 text:community tag_count:3,\n",
       " start:826 stop:834 text:eurostat tag_count:2,\n",
       " start:28 stop:38 text:statistics tag_count:1,\n",
       " start:221 stop:228 text:onwards tag_count:1,\n",
       " start:1450 stop:1460 text:statistics tag_count:1,\n",
       " start:236 stop:242 text:member tag_count:2,\n",
       " start:303 stop:304 text:/ tag_count:2,\n",
       " start:206 stop:208 text:ec tag_count:1,\n",
       " start:343 stop:353 text:short-term tag_count:2,\n",
       " start:133 stop:142 text:community tag_count:1,\n",
       " start:463 stop:473 text:monitoring tag_count:3,\n",
       " start:661 stop:665 text:data tag_count:1,\n",
       " start:1051 stop:1060 text:reporting tag_count:1,\n",
       " start:517 stop:529 text:implementing tag_count:1,\n",
       " start:152 stop:154 text:of tag_count:1,\n",
       " start:579 stop:586 text:sectors tag_count:1,\n",
       " start:734 stop:745 text:electricity tag_count:2,\n",
       " start:497 stop:498 text:/ tag_count:1,\n",
       " start:893 stop:895 text:of tag_count:1,\n",
       " start:85 stop:94 text:following tag_count:2,\n",
       " start:41 stop:47 text:member tag_count:1,\n",
       " start:922 stop:925 text:the tag_count:1,\n",
       " start:358 stop:361 text:468 tag_count:1,\n",
       " start:278 stop:288 text:statistics tag_count:2,\n",
       " start:1719 stop:1720 text:( tag_count:1,\n",
       " start:622 stop:632 text:statistics tag_count:2,\n",
       " start:159 stop:170 text:consumption tag_count:1,\n",
       " start:548 stop:556 text:industry tag_count:1,\n",
       " start:622 stop:633 text:statistical tag_count:2,\n",
       " start:494 stop:496 text:ec tag_count:1,\n",
       " start:95 stop:102 text:nuclear tag_count:1,\n",
       " start:112 stop:122 text:statistics tag_count:2,\n",
       " start:959 stop:970 text:information tag_count:2,\n",
       " start:569 stop:579 text:commission tag_count:2,\n",
       " start:299 stop:300 text:/ tag_count:2,\n",
       " start:1664 stop:1668 text:five tag_count:1,\n",
       " start:165 stop:172 text:compile tag_count:1,\n",
       " start:111 stop:113 text:in tag_count:1,\n",
       " start:311 stop:320 text:community tag_count:2,\n",
       " start:716 stop:726 text:regulators tag_count:1,\n",
       " start:121 stop:122 text:, tag_count:1,\n",
       " start:26 stop:36 text:statistics tag_count:1,\n",
       " start:371 stop:377 text:energy tag_count:2,\n",
       " start:484 stop:494 text:greenhouse tag_count:1,\n",
       " start:491 stop:493 text:no tag_count:1,\n",
       " start:261 stop:271 text:statistics tag_count:2,\n",
       " start:351 stop:352 text:( tag_count:1,\n",
       " start:142 stop:146 text:year tag_count:2,\n",
       " start:814 stop:824 text:commission tag_count:2,\n",
       " start:917 stop:922 text:pilot tag_count:1,\n",
       " start:110 stop:118 text:national tag_count:2,\n",
       " start:347 stop:353 text:energy tag_count:2,\n",
       " start:286 stop:294 text:decision tag_count:2,\n",
       " start:363 stop:365 text:97 tag_count:1,\n",
       " start:408 stop:417 text:importers tag_count:3,\n",
       " start:614 stop:621 text:nuclear tag_count:2,\n",
       " start:100 stop:109 text:improving tag_count:1,\n",
       " start:122 stop:124 text:of tag_count:1,\n",
       " start:378 stop:388 text:statistics tag_count:2,\n",
       " start:406 stop:416 text:parliament tag_count:1,\n",
       " start:1914 stop:1922 text:eurostat tag_count:3,\n",
       " start:238 stop:244 text:annual tag_count:2,\n",
       " start:1097 stop:1101 text:data tag_count:2,\n",
       " start:49 stop:55 text:energy tag_count:1,\n",
       " start:215 stop:216 text:) tag_count:1,\n",
       " start:377 stop:378 text:  tag_count:1,\n",
       " start:11 stop:17 text:annual tag_count:1,\n",
       " start:224 stop:226 text:97 tag_count:1,\n",
       " start:2041 stop:2049 text:eurostat tag_count:2,\n",
       " start:506 stop:511 text:three tag_count:1,\n",
       " start:84 stop:94 text:commission tag_count:1,\n",
       " start:241 stop:252 text:frequencies tag_count:1,\n",
       " start:298 stop:305 text:surveys tag_count:1,\n",
       " start:198 stop:199 text:( tag_count:2,\n",
       " start:1052 stop:1060 text:analyses tag_count:1,\n",
       " start:109 stop:121 text:transmission tag_count:1,\n",
       " start:134 stop:137 text:and tag_count:1,\n",
       " start:390 stop:393 text:and tag_count:2,\n",
       " start:869 stop:877 text:national tag_count:2,\n",
       " start:126 stop:128 text:of tag_count:2,\n",
       " start:926 stop:934 text:reported tag_count:1,\n",
       " start:789 stop:794 text:users tag_count:1,\n",
       " start:394 stop:406 text:transporters tag_count:3,\n",
       " start:73 stop:81 text:national tag_count:2,\n",
       " start:746 stop:749 text:and tag_count:2,\n",
       " start:1766 stop:1770 text:data tag_count:1,\n",
       " start:750 stop:753 text:gas tag_count:2,\n",
       " start:754 stop:761 text:markets tag_count:2,\n",
       " start:693 stop:703 text:statistics tag_count:2,\n",
       " start:1027 stop:1034 text:studies tag_count:1,\n",
       " start:275 stop:285 text:commission tag_count:1,\n",
       " start:358 stop:359 text:  tag_count:1,\n",
       " start:170 stop:172 text:of tag_count:1,\n",
       " start:207 stop:208 text:) tag_count:2,\n",
       " start:381 stop:382 text:/ tag_count:1,\n",
       " start:580 stop:581 text:( tag_count:1,\n",
       " start:314 stop:324 text:statistics tag_count:2,\n",
       " start:774 stop:780 text:energy tag_count:2,\n",
       " start:116 stop:126 text:statistics tag_count:1,\n",
       " start:43 stop:48 text:final tag_count:1,\n",
       " start:48 stop:54 text:member tag_count:1,\n",
       " start:1286 stop:1292 text:energy tag_count:1,\n",
       " start:884 stop:892 text:existing tag_count:1,\n",
       " start:211 stop:215 text:from tag_count:1,\n",
       " start:475 stop:485 text:regulation tag_count:1,\n",
       " start:375 stop:376 text:, tag_count:1,\n",
       " start:1893 stop:1897 text:from tag_count:1,\n",
       " start:205 stop:206 text:/ tag_count:1,\n",
       " start:300 stop:303 text:166 tag_count:2,\n",
       " start:494 stop:497 text:322 tag_count:1,\n",
       " start:905 stop:916 text:feasibility tag_count:1,\n",
       " start:127 stop:134 text:journal tag_count:1,\n",
       " start:48 stop:54 text:member tag_count:2,\n",
       " start:233 stop:239 text:limits tag_count:1,\n",
       " start:21 stop:27 text:energy tag_count:1,\n",
       " start:1872 stop:1879 text:receipt tag_count:1,\n",
       " start:535 stop:540 text:state tag_count:1,\n",
       " start:935 stop:941 text:period tag_count:1,\n",
       " start:476 stop:484 text:decision tag_count:1,\n",
       " start:1683 stop:1689 text:states tag_count:1,\n",
       " start:353 stop:357 text:1999 tag_count:1,\n",
       " start:1913 stop:1914 text:( tag_count:2,\n",
       " start:18 stop:25 text:nuclear tag_count:1,\n",
       " start:366 stop:374 text:national tag_count:2,\n",
       " start:30 stop:39 text:frequency tag_count:1,\n",
       " start:157 stop:160 text:the tag_count:1,\n",
       " start:116 stop:125 text:beginning tag_count:2,\n",
       " start:1075 stop:1077 text:of tag_count:1,\n",
       " start:11 stop:18 text:quality tag_count:1,\n",
       " start:676 stop:685 text:renewable tag_count:2,\n",
       " start:645 stop:655 text:procedures tag_count:1,\n",
       " start:1431 stop:1437 text:energy tag_count:1,\n",
       " start:1669 stop:1674 text:years tag_count:1,\n",
       " start:265 stop:271 text:period tag_count:1,\n",
       " start:480 stop:490 text:statistics tag_count:2,\n",
       " start:16 stop:25 text:reference tag_count:1,\n",
       " start:686 stop:692 text:energy tag_count:2,\n",
       " start:1922 stop:1923 text:) tag_count:2,\n",
       " start:340 stop:350 text:regulation tag_count:1,\n",
       " start:152 stop:158 text:states tag_count:1,\n",
       " start:776 stop:782 text:states tag_count:1,\n",
       " start:197 stop:201 text:1999 tag_count:1,\n",
       " start:146 stop:151 text:final tag_count:1,\n",
       " start:493 stop:494 text:  tag_count:1,\n",
       " start:769 stop:775 text:member tag_count:1,\n",
       " start:1658 stop:1663 text:every tag_count:1,\n",
       " start:834 stop:835 text:) tag_count:1,\n",
       " start:114 stop:117 text:the tag_count:1,\n",
       " start:422 stop:431 text:exporters tag_count:3,\n",
       " start:118 stop:126 text:official tag_count:1]"
      ]
     },
     "execution_count": 32,
     "metadata": {},
     "output_type": "execute_result"
    }
   ],
   "source": [
    "test_corpus.get_tokens_from_span_list(item = 'layer', value = 'Policydesigncharacteristics', conditional_rep = test_dir)"
   ]
  },
  {
   "cell_type": "markdown",
   "metadata": {},
   "source": [
    "The function get_token_count_from_span_list returns the amount of tokens in the tag_list:"
   ]
  },
  {
   "cell_type": "code",
   "execution_count": 33,
   "metadata": {},
   "outputs": [
    {
     "data": {
      "text/plain": [
       "382"
      ]
     },
     "execution_count": 33,
     "metadata": {},
     "output_type": "execute_result"
    }
   ],
   "source": [
    "test_corpus.get_token_count_from_span_list(item = 'layer', value = 'Policydesigncharacteristics', conditional_rep = test_dir)"
   ]
  },
  {
   "cell_type": "markdown",
   "metadata": {},
   "source": [
    "The function most_frequent_labeled_tokens(self, conditional_rep, item, value) returns a dict of all the most frequent tokens of a span_list:"
   ]
  },
  {
   "cell_type": "code",
   "execution_count": 34,
   "metadata": {},
   "outputs": [
    {
     "data": {
      "text/plain": [
       "{'statistics': 56,\n",
       " 'energy': 29,\n",
       " 'commission': 23,\n",
       " 'eurostat': 19,\n",
       " '/': 15,\n",
       " 'the': 14,\n",
       " 'national': 14,\n",
       " 'and': 13,\n",
       " 'of': 12,\n",
       " '(': 12,\n",
       " ')': 12,\n",
       " 'member': 12,\n",
       " 'states': 11,\n",
       " 'community': 10,\n",
       " 'ec': 9,\n",
       " 'data': 8,\n",
       " 'final': 7,\n",
       " 'consumption': 7,\n",
       " 'renewable': 6,\n",
       " 'annual': 6,\n",
       " 'nuclear': 6,\n",
       " 'decision': 6,\n",
       " 'reported': 4,\n",
       " 'following': 4,\n",
       " 'statistical': 4,\n",
       " 'monthly': 4,\n",
       " 'no': 4,\n",
       " '\\xa0': 4,\n",
       " 'regulation': 4,\n",
       " ',': 4,\n",
       " 'studies': 3,\n",
       " 'year': 3,\n",
       " '1999': 3,\n",
       " '468': 3,\n",
       " 'months': 3,\n",
       " 'for': 3,\n",
       " 'monitoring': 3,\n",
       " 'gas': 3,\n",
       " 'producers': 3,\n",
       " 'traders': 3,\n",
       " 'distributors': 3,\n",
       " 'transporters': 3,\n",
       " 'importers': 3,\n",
       " 'exporters': 3,\n",
       " '322': 3,\n",
       " '97': 3,\n",
       " 'quality': 2,\n",
       " 'pilot': 2,\n",
       " 'cost-benefit': 2,\n",
       " 'analyses': 2,\n",
       " 'from': 2,\n",
       " '2009': 2,\n",
       " 'period': 2,\n",
       " 'time': 2,\n",
       " 'committee': 2,\n",
       " 'reporting': 2,\n",
       " 'short-term': 2,\n",
       " '20th': 2,\n",
       " 'day': 2,\n",
       " 'its': 2,\n",
       " 'publication': 2,\n",
       " 'in': 2,\n",
       " '2005': 2,\n",
       " '166': 2,\n",
       " 'mechanism': 2,\n",
       " 'kyoto': 2,\n",
       " 'protocol': 2,\n",
       " 'users': 2,\n",
       " 'information': 2,\n",
       " 'date': 2,\n",
       " 'report': 2,\n",
       " 'within': 2,\n",
       " 'six': 2,\n",
       " 'beginning': 2,\n",
       " 'calendar': 2,\n",
       " 'estimation': 2,\n",
       " 'electricity': 2,\n",
       " 'markets': 2,\n",
       " 'comparable': 2,\n",
       " 'improving': 1,\n",
       " 'annually': 1,\n",
       " 'existing': 1,\n",
       " 'feasibility': 1,\n",
       " 'evaluating': 1,\n",
       " 'sector': 1,\n",
       " 'onwards': 1,\n",
       " 'limits': 1,\n",
       " 'state': 1,\n",
       " 'yearly': 1,\n",
       " '31': 1,\n",
       " 'january': 1,\n",
       " 'second': 1,\n",
       " 'programme': 1,\n",
       " 'three': 1,\n",
       " 'official': 1,\n",
       " 'journal': 1,\n",
       " 'assessment': 1,\n",
       " 'reports': 1,\n",
       " '280': 1,\n",
       " '2004': 1,\n",
       " 'european': 1,\n",
       " 'parliament': 1,\n",
       " 'council': 1,\n",
       " 'greenhouse': 1,\n",
       " 'emissions': 1,\n",
       " 'implementing': 1,\n",
       " 'transmitted': 1,\n",
       " 'release': 1,\n",
       " 'target': 1,\n",
       " 'every': 1,\n",
       " 'five': 1,\n",
       " 'years': 1,\n",
       " 'receipt': 1,\n",
       " 'a': 1,\n",
       " 'request': 1,\n",
       " 'assess': 1,\n",
       " 'reference': 1,\n",
       " 'frequency': 1,\n",
       " 'adoption': 1,\n",
       " 'this': 1,\n",
       " 'frequencies': 1,\n",
       " 'respondents': 1,\n",
       " 'compile': 1,\n",
       " 'surveys': 1,\n",
       " 'primary': 1,\n",
       " 'transformed': 1,\n",
       " 'products': 1,\n",
       " 'manufacturing': 1,\n",
       " 'industry': 1,\n",
       " 'transport': 1,\n",
       " 'other': 1,\n",
       " 'sectors': 1,\n",
       " 'households': 1,\n",
       " 'procedures': 1,\n",
       " 'regulators': 1,\n",
       " 'authority': 1,\n",
       " 'production': 1,\n",
       " 'transmission': 1,\n",
       " 'evaluation': 1,\n",
       " 'dissemination': 1}"
      ]
     },
     "execution_count": 34,
     "metadata": {},
     "output_type": "execute_result"
    }
   ],
   "source": [
    "test_corpus.most_frequent_labeled_tokens(item = 'layer', value = 'Policydesigncharacteristics', conditional_rep = test_dir)"
   ]
  },
  {
   "cell_type": "markdown",
   "metadata": {},
   "source": [
    "The function get_label_count_per_token_distro(self, conditional_rep, return_format) returns a distribution of the tag_count for all the tokens in a conditional repository. This can be used to evaluate how many tokens have been labeled once, twice and so on. The distribution is returned in either list or dict."
   ]
  },
  {
   "cell_type": "code",
   "execution_count": 35,
   "metadata": {},
   "outputs": [
    {
     "data": {
      "text/plain": [
       "{0: 1586, 1: 329, 2: 111, 3: 13, 4: 2}"
      ]
     },
     "execution_count": 35,
     "metadata": {},
     "output_type": "execute_result"
    }
   ],
   "source": [
    "test_corpus.get_label_count_per_token_distro(conditional_rep = test_dir, return_format = 'dict')"
   ]
  },
  {
   "cell_type": "code",
   "execution_count": 36,
   "metadata": {},
   "outputs": [
    {
     "data": {
      "text/plain": [
       "[1586, 329, 111, 13, 2]"
      ]
     },
     "execution_count": 36,
     "metadata": {},
     "output_type": "execute_result"
    }
   ],
   "source": [
    "test_corpus.get_label_count_per_token_distro(conditional_rep = test_dir, return_format = 'list')"
   ]
  },
  {
   "cell_type": "code",
   "execution_count": 37,
   "metadata": {},
   "outputs": [
    {
     "data": {
      "image/png": "[encoded data removed]",
      "text/plain": [
       "<Figure size 432x288 with 1 Axes>"
      ]
     },
     "metadata": {
      "needs_background": "light"
     },
     "output_type": "display_data"
    }
   ],
   "source": [
    "plt.plot(test_corpus.get_label_count_per_token_distro(conditional_rep = test_dir, return_format = 'list'))\n",
    "plt.show()"
   ]
  },
  {
   "cell_type": "code",
   "execution_count": null,
   "metadata": {},
   "outputs": [],
   "source": []
  }
 ],
 "metadata": {
  "interpreter": {
   "hash": "f1357e5d6940800ae93a3fd23162ea93a77a6c89f02c68504dcfa719d1ffeee2"
  },
  "kernelspec": {
   "display_name": "policycoding",
   "language": "python",
   "name": "policycoding"
  },
  "language_info": {
   "codemirror_mode": {
    "name": "ipython",
    "version": 3
   },
   "file_extension": ".py",
   "mimetype": "text/x-python",
   "name": "python",
   "nbconvert_exporter": "python",
   "pygments_lexer": "ipython3",
   "version": "3.9.7"
  }
 },
 "nbformat": 4,
 "nbformat_minor": 4
}
