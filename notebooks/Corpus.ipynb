{
 "cells": [
  {
   "cell_type": "markdown",
   "metadata": {},
   "source": [
    "# Notebook to calculate Statistics"
   ]
  },
  {
   "cell_type": "markdown",
   "metadata": {},
   "source": [
    "### Import the libraries"
   ]
  },
  {
   "cell_type": "code",
   "execution_count": 58,
   "metadata": {},
   "outputs": [],
   "source": [
    "import json\n",
    "import sys\n",
    "import pandas as pd\n",
    "import collections \n",
    "import os\n",
    "import numpy as np\n",
    "from itertools import chain\n",
    "from itertools import combinations\n",
    "sys.path.insert(0, '..')\n",
    "from src.experiment_utils.helper_classes import token, span, repository\n",
    "from src.d02_corpus_statistics.corpus import Corpus\n",
    "from definitions import ROOT_DIR\n",
    "from pyannote.core import Segment"
   ]
  },
  {
   "cell_type": "markdown",
   "metadata": {},
   "source": [
    "## Small Tutorial\n",
    "\n"
   ]
  },
  {
   "cell_type": "markdown",
   "metadata": {},
   "source": [
    "### Classes and Dataframe"
   ]
  },
  {
   "cell_type": "markdown",
   "metadata": {},
   "source": [
    "All the information is now stored in a dataframe called \"stat_df\" containing the string of the directory path, the raw text, and all the annotations (in form of list of spans) starting with the Curation:"
   ]
  },
  {
   "cell_type": "code",
   "execution_count": 59,
   "metadata": {},
   "outputs": [
    {
     "data": {
      "text/html": [
       "<div>\n",
       "<style scoped>\n",
       "    .dataframe tbody tr th:only-of-type {\n",
       "        vertical-align: middle;\n",
       "    }\n",
       "\n",
       "    .dataframe tbody tr th {\n",
       "        vertical-align: top;\n",
       "    }\n",
       "\n",
       "    .dataframe thead th {\n",
       "        text-align: right;\n",
       "    }\n",
       "</style>\n",
       "<table border=\"1\" class=\"dataframe\">\n",
       "  <thead>\n",
       "    <tr style=\"text-align: right;\">\n",
       "      <th></th>\n",
       "      <th>Policy</th>\n",
       "      <th>Text</th>\n",
       "      <th>Tokens</th>\n",
       "      <th>Article_State</th>\n",
       "      <th>Finished_Annotators</th>\n",
       "      <th>Curation</th>\n",
       "      <th>Alisha</th>\n",
       "      <th>Fride</th>\n",
       "      <th>Onerva</th>\n",
       "      <th>Fabian</th>\n",
       "      <th>Lynn</th>\n",
       "      <th>Sebastian</th>\n",
       "      <th>Joel</th>\n",
       "    </tr>\n",
       "  </thead>\n",
       "  <tbody>\n",
       "    <tr>\n",
       "      <th>EU_32018R1999_Title_0_Chapter_7_Section_3_Article_43</th>\n",
       "      <td></td>\n",
       "      <td>article 43\\r\\nexercise of the delegation\\r\\n1....</td>\n",
       "      <td>[start:0 stop:7 text:article tag_count:0, star...</td>\n",
       "      <td>CURATION_FINISHED</td>\n",
       "      <td>[Alisha, Fride]</td>\n",
       "      <td>[annotator:Curation layer:Instrumenttypes type...</td>\n",
       "      <td>[annotator:Alisha layer:Instrumenttypes type:I...</td>\n",
       "      <td>[annotator:Fride layer:Policydesigncharacteris...</td>\n",
       "      <td></td>\n",
       "      <td></td>\n",
       "      <td></td>\n",
       "      <td></td>\n",
       "      <td></td>\n",
       "    </tr>\n",
       "    <tr>\n",
       "      <th>EU_32019R0631_Title_0_Chapter_0_Section_0_Article_12</th>\n",
       "      <td></td>\n",
       "      <td>article 12\\r\\nreal-world co2 emissions and fue...</td>\n",
       "      <td>[start:0 stop:7 text:article tag_count:0, star...</td>\n",
       "      <td>CURATION_FINISHED</td>\n",
       "      <td>[Onerva, Fabian]</td>\n",
       "      <td>[annotator:Curation layer:Instrumenttypes type...</td>\n",
       "      <td></td>\n",
       "      <td></td>\n",
       "      <td>[annotator:Onerva layer:Instrumenttypes type:I...</td>\n",
       "      <td>[annotator:Fabian layer:Policydesigncharacteri...</td>\n",
       "      <td></td>\n",
       "      <td></td>\n",
       "      <td></td>\n",
       "    </tr>\n",
       "    <tr>\n",
       "      <th>EU_32018L2001_Title_0_Chapter_0_Section_0_Article_11</th>\n",
       "      <td></td>\n",
       "      <td>article 11\\r\\njoint projects between member st...</td>\n",
       "      <td>[start:0 stop:7 text:article tag_count:0, star...</td>\n",
       "      <td>CURATION_FINISHED</td>\n",
       "      <td>[Fride, Onerva]</td>\n",
       "      <td>[annotator:Curation layer:Instrumenttypes type...</td>\n",
       "      <td></td>\n",
       "      <td>[annotator:Fride layer:Instrumenttypes type:In...</td>\n",
       "      <td>[annotator:Onerva layer:Instrumenttypes type:I...</td>\n",
       "      <td></td>\n",
       "      <td></td>\n",
       "      <td></td>\n",
       "      <td></td>\n",
       "    </tr>\n",
       "    <tr>\n",
       "      <th>EU_32018R1999_Title_0_Chapter_7_Section_3_Article_56</th>\n",
       "      <td></td>\n",
       "      <td>article 56\\r\\namendments to directive (eu) 201...</td>\n",
       "      <td>[start:0 stop:7 text:article tag_count:0, star...</td>\n",
       "      <td>CURATION_FINISHED</td>\n",
       "      <td>[Alisha, Fride]</td>\n",
       "      <td>[annotator:Curation layer:Policydesigncharacte...</td>\n",
       "      <td>[annotator:Alisha layer:Policydesigncharacteri...</td>\n",
       "      <td>[annotator:Fride layer:Policydesigncharacteris...</td>\n",
       "      <td></td>\n",
       "      <td></td>\n",
       "      <td></td>\n",
       "      <td></td>\n",
       "      <td></td>\n",
       "    </tr>\n",
       "    <tr>\n",
       "      <th>EU_32018L2001_Title_0_Chapter_0_Section_0_Article_03</th>\n",
       "      <td></td>\n",
       "      <td>article 3\\r\\nbinding overall union target for ...</td>\n",
       "      <td>[start:0 stop:7 text:article tag_count:0, star...</td>\n",
       "      <td>CURATION_FINISHED</td>\n",
       "      <td>[Fride, Onerva, Fabian]</td>\n",
       "      <td>[annotator:Curation layer:Instrumenttypes type...</td>\n",
       "      <td></td>\n",
       "      <td>[annotator:Fride layer:Instrumenttypes type:In...</td>\n",
       "      <td>[annotator:Onerva layer:Instrumenttypes type:I...</td>\n",
       "      <td>[annotator:Fabian layer:Instrumenttypes type:I...</td>\n",
       "      <td></td>\n",
       "      <td></td>\n",
       "      <td></td>\n",
       "    </tr>\n",
       "  </tbody>\n",
       "</table>\n",
       "</div>"
      ],
      "text/plain": [
       "                                                   Policy  \\\n",
       "EU_32018R1999_Title_0_Chapter_7_Section_3_Artic...          \n",
       "EU_32019R0631_Title_0_Chapter_0_Section_0_Artic...          \n",
       "EU_32018L2001_Title_0_Chapter_0_Section_0_Artic...          \n",
       "EU_32018R1999_Title_0_Chapter_7_Section_3_Artic...          \n",
       "EU_32018L2001_Title_0_Chapter_0_Section_0_Artic...          \n",
       "\n",
       "                                                                                                 Text  \\\n",
       "EU_32018R1999_Title_0_Chapter_7_Section_3_Artic...  article 43\\r\\nexercise of the delegation\\r\\n1....   \n",
       "EU_32019R0631_Title_0_Chapter_0_Section_0_Artic...  article 12\\r\\nreal-world co2 emissions and fue...   \n",
       "EU_32018L2001_Title_0_Chapter_0_Section_0_Artic...  article 11\\r\\njoint projects between member st...   \n",
       "EU_32018R1999_Title_0_Chapter_7_Section_3_Artic...  article 56\\r\\namendments to directive (eu) 201...   \n",
       "EU_32018L2001_Title_0_Chapter_0_Section_0_Artic...  article 3\\r\\nbinding overall union target for ...   \n",
       "\n",
       "                                                                                               Tokens  \\\n",
       "EU_32018R1999_Title_0_Chapter_7_Section_3_Artic...  [start:0 stop:7 text:article tag_count:0, star...   \n",
       "EU_32019R0631_Title_0_Chapter_0_Section_0_Artic...  [start:0 stop:7 text:article tag_count:0, star...   \n",
       "EU_32018L2001_Title_0_Chapter_0_Section_0_Artic...  [start:0 stop:7 text:article tag_count:0, star...   \n",
       "EU_32018R1999_Title_0_Chapter_7_Section_3_Artic...  [start:0 stop:7 text:article tag_count:0, star...   \n",
       "EU_32018L2001_Title_0_Chapter_0_Section_0_Artic...  [start:0 stop:7 text:article tag_count:0, star...   \n",
       "\n",
       "                                                        Article_State  \\\n",
       "EU_32018R1999_Title_0_Chapter_7_Section_3_Artic...  CURATION_FINISHED   \n",
       "EU_32019R0631_Title_0_Chapter_0_Section_0_Artic...  CURATION_FINISHED   \n",
       "EU_32018L2001_Title_0_Chapter_0_Section_0_Artic...  CURATION_FINISHED   \n",
       "EU_32018R1999_Title_0_Chapter_7_Section_3_Artic...  CURATION_FINISHED   \n",
       "EU_32018L2001_Title_0_Chapter_0_Section_0_Artic...  CURATION_FINISHED   \n",
       "\n",
       "                                                        Finished_Annotators  \\\n",
       "EU_32018R1999_Title_0_Chapter_7_Section_3_Artic...          [Alisha, Fride]   \n",
       "EU_32019R0631_Title_0_Chapter_0_Section_0_Artic...         [Onerva, Fabian]   \n",
       "EU_32018L2001_Title_0_Chapter_0_Section_0_Artic...          [Fride, Onerva]   \n",
       "EU_32018R1999_Title_0_Chapter_7_Section_3_Artic...          [Alisha, Fride]   \n",
       "EU_32018L2001_Title_0_Chapter_0_Section_0_Artic...  [Fride, Onerva, Fabian]   \n",
       "\n",
       "                                                                                             Curation  \\\n",
       "EU_32018R1999_Title_0_Chapter_7_Section_3_Artic...  [annotator:Curation layer:Instrumenttypes type...   \n",
       "EU_32019R0631_Title_0_Chapter_0_Section_0_Artic...  [annotator:Curation layer:Instrumenttypes type...   \n",
       "EU_32018L2001_Title_0_Chapter_0_Section_0_Artic...  [annotator:Curation layer:Instrumenttypes type...   \n",
       "EU_32018R1999_Title_0_Chapter_7_Section_3_Artic...  [annotator:Curation layer:Policydesigncharacte...   \n",
       "EU_32018L2001_Title_0_Chapter_0_Section_0_Artic...  [annotator:Curation layer:Instrumenttypes type...   \n",
       "\n",
       "                                                                                               Alisha  \\\n",
       "EU_32018R1999_Title_0_Chapter_7_Section_3_Artic...  [annotator:Alisha layer:Instrumenttypes type:I...   \n",
       "EU_32019R0631_Title_0_Chapter_0_Section_0_Artic...                                                      \n",
       "EU_32018L2001_Title_0_Chapter_0_Section_0_Artic...                                                      \n",
       "EU_32018R1999_Title_0_Chapter_7_Section_3_Artic...  [annotator:Alisha layer:Policydesigncharacteri...   \n",
       "EU_32018L2001_Title_0_Chapter_0_Section_0_Artic...                                                      \n",
       "\n",
       "                                                                                                Fride  \\\n",
       "EU_32018R1999_Title_0_Chapter_7_Section_3_Artic...  [annotator:Fride layer:Policydesigncharacteris...   \n",
       "EU_32019R0631_Title_0_Chapter_0_Section_0_Artic...                                                      \n",
       "EU_32018L2001_Title_0_Chapter_0_Section_0_Artic...  [annotator:Fride layer:Instrumenttypes type:In...   \n",
       "EU_32018R1999_Title_0_Chapter_7_Section_3_Artic...  [annotator:Fride layer:Policydesigncharacteris...   \n",
       "EU_32018L2001_Title_0_Chapter_0_Section_0_Artic...  [annotator:Fride layer:Instrumenttypes type:In...   \n",
       "\n",
       "                                                                                               Onerva  \\\n",
       "EU_32018R1999_Title_0_Chapter_7_Section_3_Artic...                                                      \n",
       "EU_32019R0631_Title_0_Chapter_0_Section_0_Artic...  [annotator:Onerva layer:Instrumenttypes type:I...   \n",
       "EU_32018L2001_Title_0_Chapter_0_Section_0_Artic...  [annotator:Onerva layer:Instrumenttypes type:I...   \n",
       "EU_32018R1999_Title_0_Chapter_7_Section_3_Artic...                                                      \n",
       "EU_32018L2001_Title_0_Chapter_0_Section_0_Artic...  [annotator:Onerva layer:Instrumenttypes type:I...   \n",
       "\n",
       "                                                                                               Fabian  \\\n",
       "EU_32018R1999_Title_0_Chapter_7_Section_3_Artic...                                                      \n",
       "EU_32019R0631_Title_0_Chapter_0_Section_0_Artic...  [annotator:Fabian layer:Policydesigncharacteri...   \n",
       "EU_32018L2001_Title_0_Chapter_0_Section_0_Artic...                                                      \n",
       "EU_32018R1999_Title_0_Chapter_7_Section_3_Artic...                                                      \n",
       "EU_32018L2001_Title_0_Chapter_0_Section_0_Artic...  [annotator:Fabian layer:Instrumenttypes type:I...   \n",
       "\n",
       "                                                   Lynn Sebastian Joel  \n",
       "EU_32018R1999_Title_0_Chapter_7_Section_3_Artic...                      \n",
       "EU_32019R0631_Title_0_Chapter_0_Section_0_Artic...                      \n",
       "EU_32018L2001_Title_0_Chapter_0_Section_0_Artic...                      \n",
       "EU_32018R1999_Title_0_Chapter_7_Section_3_Artic...                      \n",
       "EU_32018L2001_Title_0_Chapter_0_Section_0_Artic...                      "
      ]
     },
     "execution_count": 59,
     "metadata": {},
     "output_type": "execute_result"
    }
   ],
   "source": [
    "    \n",
    "dataframe_dir = os.path.join(ROOT_DIR,'data/02_processed_to_dataframe', 'preprocessed_dataframe.pkl')\n",
    "stat_df = pd.read_pickle(dataframe_dir)\n",
    "stat_df.head()"
   ]
  },
  {
   "cell_type": "code",
   "execution_count": 60,
   "metadata": {},
   "outputs": [
    {
     "data": {
      "text/plain": [
       "(448, 13)"
      ]
     },
     "execution_count": 60,
     "metadata": {},
     "output_type": "execute_result"
    }
   ],
   "source": [
    "stat_df.shape"
   ]
  },
  {
   "cell_type": "markdown",
   "metadata": {},
   "source": [
    "The spans of each paragraph are stored in list:"
   ]
  },
  {
   "cell_type": "code",
   "execution_count": 61,
   "metadata": {},
   "outputs": [
    {
     "data": {
      "text/plain": [
       "[annotator:Curation layer:Instrumenttypes type:InstrumentType tag:Unspecified start:1662 stop:1676 text:support scheme,\n",
       " annotator:Curation layer:Instrumenttypes type:InstrumentType tag:Subsidies_Incentives start:1707 stop:1721 text:investment aid,\n",
       " annotator:Curation layer:Instrumenttypes type:InstrumentType tag:Unspecified start:5044 stop:5059 text:joint agreement,\n",
       " annotator:Curation layer:Instrumenttypes type:InstrumentType tag:Unspecified start:5371 stop:5379 text:measures,\n",
       " annotator:Curation layer:Policydesigncharacteristics type:Actor tag:Addressee_default start:35 stop:48 text:member states,\n",
       " annotator:Curation layer:Policydesigncharacteristics type:Actor tag:Addressee_default start:87 stop:100 text:member states,\n",
       " annotator:Curation layer:Policydesigncharacteristics type:Actor tag:Addressee_sector start:277 stop:294 text:private operators,\n",
       " annotator:Curation layer:Policydesigncharacteristics type:Reference tag:Ref_OtherPolicy start:335 stop:352 text:international law,\n",
       " annotator:Curation layer:Policydesigncharacteristics type:Actor tag:Addressee_default start:518 stop:531 text:member states,\n",
       " annotator:Curation layer:Policydesigncharacteristics type:Actor tag:Addressee_sector start:808 stop:849 text:responsible transmission system operators,\n",
       " annotator:Curation layer:Policydesigncharacteristics type:Actor tag:Addressee_sector start:1089 stop:1129 text:responsible transmission system operator,\n",
       " annotator:Curation layer:Policydesigncharacteristics type:Reference tag:Ref_OtherPolicy start:1814 stop:1831 text:international law,\n",
       " annotator:Curation layer:Policydesigncharacteristics type:Reference tag:Ref_Strategy_Agreement start:1879 stop:1967 text:council of europe convention for the protection of human rights and fundamental freedoms,\n",
       " annotator:Curation layer:Policydesigncharacteristics type:Reference tag:Ref_Strategy_Agreement start:1978 stop:2031 text:international conventions or treaties on human rights,\n",
       " annotator:Curation layer:Policydesigncharacteristics type:Actor tag:Addressee_default start:2072 stop:2085 text:member states,\n",
       " annotator:Curation layer:Policydesigncharacteristics type:Actor tag:Authority_default start:2103 stop:2113 text:commission,\n",
       " annotator:Curation layer:Policydesigncharacteristics type:Actor tag:Addressee_default start:2311 stop:2323 text:member state,\n",
       " annotator:Curation layer:Policydesigncharacteristics type:Actor tag:Addressee_monitored start:3336 stop:3349 text:member states,\n",
       " annotator:Curation layer:Policydesigncharacteristics type:Compliance tag:Form_monitoring start:3395 stop:3403 text:notified,\n",
       " annotator:Curation layer:Policydesigncharacteristics type:Actor tag:Authority_monitoring start:3411 stop:3421 text:commission,\n",
       " annotator:Curation layer:Policydesigncharacteristics type:Actor tag:Addressee_monitored start:3442 stop:3454 text:member state,\n",
       " annotator:Curation layer:Policydesigncharacteristics type:Actor tag:Addressee_resource start:3494 stop:3507 text:member states,\n",
       " annotator:Curation layer:Policydesigncharacteristics type:Compliance tag:Form_monitoring start:3546 stop:3554 text:notified,\n",
       " annotator:Curation layer:Policydesigncharacteristics type:Actor tag:Authority_monitoring start:3562 stop:3572 text:commission,\n",
       " annotator:Curation layer:Policydesigncharacteristics type:Compliance tag:Form_monitoring start:3848 stop:3860 text:notification,\n",
       " annotator:Curation layer:Policydesigncharacteristics type:Actor tag:Addressee_monitored start:3883 stop:3895 text:member state,\n",
       " annotator:Curation layer:Policydesigncharacteristics type:Objective tag:Objective_QualIntention start:3918 stop:3933 text:national target,\n",
       " annotator:Curation layer:Policydesigncharacteristics type:Compliance tag:Form_monitoring start:3997 stop:4009 text:notification,\n",
       " annotator:Curation layer:Policydesigncharacteristics type:Actor tag:Addressee_default start:4288 stop:4300 text:member state,\n",
       " annotator:Curation layer:Policydesigncharacteristics type:Actor tag:Addressee_default start:4548 stop:4560 text:member state,\n",
       " annotator:Curation layer:Policydesigncharacteristics type:Actor tag:Addressee_default start:4635 stop:4648 text:third country,\n",
       " annotator:Curation layer:Policydesigncharacteristics type:Actor tag:Addressee_default start:4840 stop:4853 text:third country,\n",
       " annotator:Curation layer:Policydesigncharacteristics type:Time tag:Time_PolDuration start:4942 stop:4946 text:2030,\n",
       " annotator:Curation layer:Policydesigncharacteristics type:Compliance tag:Form_monitoring start:4956 stop:4968 text:notification,\n",
       " annotator:Curation layer:Policydesigncharacteristics type:Actor tag:Addressee_default start:5072 stop:5084 text:member state,\n",
       " annotator:Curation layer:Policydesigncharacteristics type:Compliance tag:Form_monitoring start:5096 stop:5108 text:notification,\n",
       " annotator:Curation layer:Policydesigncharacteristics type:Actor tag:Addressee_default start:5117 stop:5130 text:third country,\n",
       " annotator:Curation layer:Policydesigncharacteristics type:Actor tag:Addressee_default start:5222 stop:5235 text:member states,\n",
       " annotator:Curation layer:Policydesigncharacteristics type:Actor tag:Addressee_default start:5244 stop:5249 text:union,\n",
       " annotator:Curation layer:Policydesigncharacteristics type:Actor tag:Authority_default start:5270 stop:5309 text:relevant bodies of the energy community,\n",
       " annotator:Curation layer:Policydesigncharacteristics type:Reference tag:Ref_Strategy_Agreement start:5342 stop:5365 text:energy community treaty,\n",
       " annotator:Curation layer:Policydesigncharacteristics type:Actor tag:Addressee_default start:5403 stop:5422 text:contracting parties,\n",
       " annotator:Curation layer:Policydesigncharacteristics type:Actor tag:Addressee_default start:5470 stop:5483 text:member states,\n",
       " annotator:Curation layer:Technologyandapplicationspecificity type:TechnologySpecificity tag:Tech_LowCarbon start:198 stop:246 text:production of electricity from renewable sources,\n",
       " annotator:Curation layer:Technologyandapplicationspecificity type:EnergySpecificity tag:Energy_LowCarbon start:212 stop:246 text:electricity from renewable sources,\n",
       " annotator:Curation layer:Technologyandapplicationspecificity type:EnergySpecificity tag:Energy_LowCarbon start:360 stop:394 text:electricity from renewable sources,\n",
       " annotator:Curation layer:Technologyandapplicationspecificity type:EnergySpecificity tag:Energy_LowCarbon start:487 stop:503 text:renewable energy,\n",
       " annotator:Curation layer:Technologyandapplicationspecificity type:EnergySpecificity tag:Energy_LowCarbon start:587 stop:598 text:electricity,\n",
       " annotator:Curation layer:Technologyandapplicationspecificity type:EnergySpecificity tag:Energy_Other start:688 stop:699 text:electricity,\n",
       " annotator:Curation layer:Technologyandapplicationspecificity type:EnergySpecificity tag:Energy_Other start:707 stop:718 text:electricity,\n",
       " annotator:Curation layer:Technologyandapplicationspecificity type:TechnologySpecificity tag:Tech_Other start:776 stop:800 text:interconnection capacity,\n",
       " annotator:Curation layer:Technologyandapplicationspecificity type:EnergySpecificity tag:Energy_Other start:983 stop:994 text:electricity,\n",
       " annotator:Curation layer:Technologyandapplicationspecificity type:EnergySpecificity tag:Energy_Other start:1002 stop:1013 text:electricity,\n",
       " annotator:Curation layer:Technologyandapplicationspecificity type:TechnologySpecificity tag:Tech_Other start:1154 stop:1168 text:interconnector,\n",
       " annotator:Curation layer:Technologyandapplicationspecificity type:TechnologySpecificity tag:Tech_LowCarbon start:1213 stop:1281 text:production of electricity from renewable sources by the installation,\n",
       " annotator:Curation layer:Technologyandapplicationspecificity type:EnergySpecificity tag:Energy_LowCarbon start:1227 stop:1261 text:electricity from renewable sources,\n",
       " annotator:Curation layer:Technologyandapplicationspecificity type:TechnologySpecificity tag:Tech_LowCarbon start:1351 stop:1393 text:electricity is produced by an installation,\n",
       " annotator:Curation layer:Technologyandapplicationspecificity type:EnergySpecificity tag:Energy_LowCarbon start:1351 stop:1362 text:electricity,\n",
       " annotator:Curation layer:Technologyandapplicationspecificity type:TechnologySpecificity tag:Tech_LowCarbon start:1472 stop:1484 text:installation,\n",
       " annotator:Curation layer:Technologyandapplicationspecificity type:EnergySpecificity tag:Energy_LowCarbon start:1596 stop:1607 text:electricity,\n",
       " annotator:Curation layer:Technologyandapplicationspecificity type:TechnologySpecificity tag:Tech_LowCarbon start:1737 stop:1749 text:installation,\n",
       " annotator:Curation layer:Technologyandapplicationspecificity type:EnergySpecificity tag:Energy_LowCarbon start:1765 stop:1776 text:electricity,\n",
       " annotator:Curation layer:Technologyandapplicationspecificity type:EnergySpecificity tag:Energy_LowCarbon start:2141 stop:2175 text:electricity from renewable sources,\n",
       " annotator:Curation layer:Technologyandapplicationspecificity type:TechnologySpecificity tag:Tech_Other start:2240 stop:2273 text:construction of an interconnector,\n",
       " annotator:Curation layer:Technologyandapplicationspecificity type:TechnologySpecificity tag:Tech_Other start:2390 stop:2424 text:construction of the interconnector,\n",
       " annotator:Curation layer:Technologyandapplicationspecificity type:TechnologySpecificity tag:Tech_Other start:2487 stop:2501 text:interconnector,\n",
       " annotator:Curation layer:Technologyandapplicationspecificity type:TechnologySpecificity tag:Tech_Other start:2574 stop:2588 text:interconnector,\n",
       " annotator:Curation layer:Technologyandapplicationspecificity type:TechnologySpecificity tag:Tech_Other start:2672 stop:2686 text:interconnector,\n",
       " annotator:Curation layer:Technologyandapplicationspecificity type:EnergySpecificity tag:Energy_LowCarbon start:2764 stop:2798 text:electricity from renewable sources,\n",
       " annotator:Curation layer:Technologyandapplicationspecificity type:TechnologySpecificity tag:Tech_Other start:2942 stop:2956 text:interconnector,\n",
       " annotator:Curation layer:Technologyandapplicationspecificity type:EnergySpecificity tag:Energy_LowCarbon start:3008 stop:3019 text:electricity,\n",
       " annotator:Curation layer:Technologyandapplicationspecificity type:TechnologySpecificity tag:Tech_Other start:3102 stop:3116 text:interconnector,\n",
       " annotator:Curation layer:Technologyandapplicationspecificity type:TechnologySpecificity tag:Tech_LowCarbon start:3172 stop:3212 text:electricity produced by any installation,\n",
       " annotator:Curation layer:Technologyandapplicationspecificity type:EnergySpecificity tag:Energy_LowCarbon start:3172 stop:3183 text:electricity,\n",
       " annotator:Curation layer:Technologyandapplicationspecificity type:EnergySpecificity tag:Energy_LowCarbon start:3298 stop:3314 text:renewable energy,\n",
       " annotator:Curation layer:Technologyandapplicationspecificity type:EnergySpecificity tag:Energy_LowCarbon start:3962 stop:3973 text:electricity,\n",
       " annotator:Curation layer:Technologyandapplicationspecificity type:TechnologySpecificity tag:Tech_LowCarbon start:4072 stop:4084 text:installation,\n",
       " annotator:Curation layer:Technologyandapplicationspecificity type:TechnologySpecificity tag:Tech_LowCarbon start:4101 stop:4125 text:refurbished installation,\n",
       " annotator:Curation layer:Technologyandapplicationspecificity type:TechnologySpecificity tag:Tech_LowCarbon start:4169 stop:4211 text:electricity produced from the installation,\n",
       " annotator:Curation layer:Technologyandapplicationspecificity type:EnergySpecificity tag:Energy_LowCarbon start:4169 stop:4180 text:electricity,\n",
       " annotator:Curation layer:Technologyandapplicationspecificity type:EnergySpecificity tag:Energy_LowCarbon start:4260 stop:4276 text:renewable energy,\n",
       " annotator:Curation layer:Technologyandapplicationspecificity type:EnergySpecificity tag:Energy_LowCarbon start:4464 stop:4475 text:electricity,\n",
       " annotator:Curation layer:Technologyandapplicationspecificity type:EnergySpecificity tag:Energy_LowCarbon start:4518 stop:4534 text:renewable energy,\n",
       " annotator:Curation layer:Technologyandapplicationspecificity type:TechnologySpecificity tag:Tech_LowCarbon start:4672 stop:4684 text:installation,\n",
       " annotator:Curation layer:Technologyandapplicationspecificity type:TechnologySpecificity tag:Tech_LowCarbon start:4759 stop:4799 text:electricity produced by the installation,\n",
       " annotator:Curation layer:Technologyandapplicationspecificity type:EnergySpecificity tag:Energy_LowCarbon start:4759 stop:4770 text:electricity]"
      ]
     },
     "execution_count": 61,
     "metadata": {},
     "output_type": "execute_result"
    }
   ],
   "source": [
    "stat_df['Curation'][2]"
   ]
  },
  {
   "cell_type": "markdown",
   "metadata": {},
   "source": [
    "Each span has a layer, type, tag, start, stop, and the annotatet text (raw)"
   ]
  },
  {
   "cell_type": "code",
   "execution_count": 62,
   "metadata": {},
   "outputs": [
    {
     "data": {
      "text/plain": [
       "annotator:Curation layer:Instrumenttypes type:InstrumentType tag:Unspecified start:5044 stop:5059 text:joint agreement"
      ]
     },
     "execution_count": 62,
     "metadata": {},
     "output_type": "execute_result"
    }
   ],
   "source": [
    "stat_df['Curation'][2][2]"
   ]
  },
  {
   "cell_type": "markdown",
   "metadata": {},
   "source": [
    "Each tag further has a repository, list of all the tokens and an annotator\n",
    "\n"
   ]
  },
  {
   "cell_type": "code",
   "execution_count": 63,
   "metadata": {},
   "outputs": [
    {
     "data": {
      "text/plain": [
       "policy:EU_32018L2001 title:Title_0 chapter:Chapter_0 section:Section_0 article:Article_11"
      ]
     },
     "execution_count": 63,
     "metadata": {},
     "output_type": "execute_result"
    }
   ],
   "source": [
    "stat_df['Curation'][2][2].rep"
   ]
  },
  {
   "cell_type": "code",
   "execution_count": 64,
   "metadata": {},
   "outputs": [
    {
     "data": {
      "text/plain": [
       "[start:5044 stop:5049 text:joint tag_count:1,\n",
       " start:5050 stop:5059 text:agreement tag_count:1]"
      ]
     },
     "execution_count": 64,
     "metadata": {},
     "output_type": "execute_result"
    }
   ],
   "source": [
    "stat_df['Curation'][2][2].tokens"
   ]
  },
  {
   "cell_type": "code",
   "execution_count": 65,
   "metadata": {},
   "outputs": [
    {
     "data": {
      "text/plain": [
       "'Curation'"
      ]
     },
     "execution_count": 65,
     "metadata": {},
     "output_type": "execute_result"
    }
   ],
   "source": [
    "stat_df['Curation'][2][2].annotator"
   ]
  },
  {
   "cell_type": "markdown",
   "metadata": {},
   "source": [
    "It is important to note that the token objects reside in the separate column tokens, the list of tokens for each tag is just a pointer to those objects residing in the token column.\n",
    "\n",
    "Each Token has a start, stop, text and a tag_count. The tag_count counts how many times this specific tokens has been labeled."
   ]
  },
  {
   "cell_type": "code",
   "execution_count": 66,
   "metadata": {},
   "outputs": [
    {
     "data": {
      "text/plain": [
       "start:269 stop:276 text:involve tag_count:0"
      ]
     },
     "execution_count": 66,
     "metadata": {},
     "output_type": "execute_result"
    }
   ],
   "source": [
    "stat_df['Tokens'][2][49]"
   ]
  },
  {
   "cell_type": "markdown",
   "metadata": {},
   "source": [
    "Repository's can be created trought the normal constructor **init**(self, policy, title, chapter, section, article) , or trough the classmethod **from_repository_name**(cls, rep_str), taking only a big string of the repository name. "
   ]
  },
  {
   "cell_type": "markdown",
   "metadata": {},
   "source": [
    "### Conditional Repository"
   ]
  },
  {
   "cell_type": "markdown",
   "metadata": {},
   "source": [
    "The repository class can be used to create conditional repositorys, which are usefull to search in all the paragraphs matching a certain condition. Let's go on and create a test repository:"
   ]
  },
  {
   "cell_type": "code",
   "execution_count": 67,
   "metadata": {},
   "outputs": [
    {
     "data": {
      "text/plain": [
       "policy:EU_32008R1099 title:Title_0 chapter:Chapter_0 section:Section_0 article:Article_03"
      ]
     },
     "execution_count": 67,
     "metadata": {},
     "output_type": "execute_result"
    }
   ],
   "source": [
    "test_dir = repository.from_repository_name(\"EU_32008R1099_Title_0_Chapter_0_Section_0_Article_03\")\n",
    "test_dir"
   ]
  },
  {
   "cell_type": "markdown",
   "metadata": {},
   "source": [
    "Let's now create a conditional repository. On each hirarchy, I can either match a certain name or I can match all the names by inserting 'None'. Simply speaking, we match all repositorys with the attributes given other than 'None. Let's assume I want to match all the tags in 'EU_32008R1099' I would create a repository like this:"
   ]
  },
  {
   "cell_type": "code",
   "execution_count": 68,
   "metadata": {},
   "outputs": [
    {
     "data": {
      "text/plain": [
       "policy:EU_32008R1099 title:None chapter:None section:None article:None"
      ]
     },
     "execution_count": 68,
     "metadata": {},
     "output_type": "execute_result"
    }
   ],
   "source": [
    "test_dir = repository(policy = 'EU_32008R1099', title = None, chapter = None, section = None, article = None)\n",
    "test_dir"
   ]
  },
  {
   "cell_type": "markdown",
   "metadata": {},
   "source": [
    "or simply"
   ]
  },
  {
   "cell_type": "code",
   "execution_count": 69,
   "metadata": {},
   "outputs": [
    {
     "data": {
      "text/plain": [
       "policy:EU_32008R1099 title:None chapter:None section:None article:None"
      ]
     },
     "execution_count": 69,
     "metadata": {},
     "output_type": "execute_result"
    }
   ],
   "source": [
    "test_dir = repository(policy = 'EU_32008R1099')\n",
    "test_dir"
   ]
  },
  {
   "cell_type": "markdown",
   "metadata": {},
   "source": [
    "If I want to match all the tags that are stored in the first article in all the policy's, titles, chapters and sections"
   ]
  },
  {
   "cell_type": "code",
   "execution_count": 70,
   "metadata": {},
   "outputs": [
    {
     "data": {
      "text/plain": [
       "policy:None title:None chapter:None section:None article:Article_01"
      ]
     },
     "execution_count": 70,
     "metadata": {},
     "output_type": "execute_result"
    }
   ],
   "source": [
    "test_dir = repository( article = 'Article_01')\n",
    "test_dir"
   ]
  },
  {
   "cell_type": "markdown",
   "metadata": {},
   "source": [
    "## Class Evaluator and evaluation functions"
   ]
  },
  {
   "cell_type": "markdown",
   "metadata": {},
   "source": [
    "All the functions calculating statistics are contained the class \"Corpus\", it's only class member is the dataframe. The only constructor argument is a dataframe created by the load data script (NLP_spark/src/d01_data/load_data.py). To start the evaluation process, a new object of the class \"Corpus\" must be created"
   ]
  },
  {
   "cell_type": "code",
   "execution_count": 71,
   "metadata": {},
   "outputs": [],
   "source": [
    "test_corpus = Corpus(stat_df)"
   ]
  },
  {
   "cell_type": "code",
   "execution_count": 72,
   "metadata": {},
   "outputs": [
    {
     "data": {
      "text/plain": [
       "(412, 13)"
      ]
     },
     "execution_count": 72,
     "metadata": {},
     "output_type": "execute_result"
    }
   ],
   "source": [
    "test_corpus.df.shape"
   ]
  },
  {
   "cell_type": "markdown",
   "metadata": {},
   "source": [
    "By default, \"Whereas\" and \"Front\" articles are excluded. In case they should be included, initizialize the the test_corpus by setting front_and_whereas = True:"
   ]
  },
  {
   "cell_type": "code",
   "execution_count": 73,
   "metadata": {},
   "outputs": [],
   "source": [
    "test_corpus_front_and_whereas = Corpus(stat_df, front_and_whereas = True)"
   ]
  },
  {
   "cell_type": "code",
   "execution_count": 74,
   "metadata": {},
   "outputs": [
    {
     "data": {
      "text/plain": [
       "(448, 13)"
      ]
     },
     "execution_count": 74,
     "metadata": {},
     "output_type": "execute_result"
    }
   ],
   "source": [
    "test_corpus_front_and_whereas.df.shape"
   ]
  },
  {
   "cell_type": "markdown",
   "metadata": {},
   "source": [
    "### Drop Articles"
   ]
  },
  {
   "cell_type": "markdown",
   "metadata": {},
   "source": [
    "The Corpus class allows to drop certain articles based on matching, e.g all the articles that **contain** the given string are droped. The string can be either passed as a single string or a list of strings."
   ]
  },
  {
   "cell_type": "code",
   "execution_count": 75,
   "metadata": {},
   "outputs": [],
   "source": [
    "matching_strings = ['front', 'Whereas']\n",
    "test_corpus_front_and_whereas.drop_articles_based_on_string(matching_strings)\n"
   ]
  },
  {
   "cell_type": "code",
   "execution_count": 76,
   "metadata": {},
   "outputs": [
    {
     "data": {
      "text/plain": [
       "(412, 13)"
      ]
     },
     "execution_count": 76,
     "metadata": {},
     "output_type": "execute_result"
    }
   ],
   "source": [
    "test_corpus_front_and_whereas.df.shape"
   ]
  },
  {
   "cell_type": "markdown",
   "metadata": {},
   "source": [
    "## Statistics"
   ]
  },
  {
   "cell_type": "markdown",
   "metadata": {},
   "source": [
    "The most important function is the member function get_span_list(self, conditional_rep, columns, item, value). This functions takes a conditional repository (explained before), a item which can be either 'class, 'type' or 'tag' and a value. E.g item = 'layer' and value = 'Policydesigncharacteristics' or item = 'type and value ='Compliance' and item = 'tag' and value = 'Form_monitoring'. \n",
    "\n",
    "The function returns a list of all the tags in all the paragraphs matching the conditional repository and matching the item and value given. E.g I want to match all the tags of type 'Policydesigncharacteristics' in the policy 'EU_32008R1099':"
   ]
  },
  {
   "cell_type": "code",
   "execution_count": 77,
   "metadata": {},
   "outputs": [
    {
     "data": {
      "text/plain": [
       "[annotator:Alisha layer:Policydesigncharacteristics type:Time tag:Time_InEffect start:76 stop:110 text:20th day following its publication,\n",
       " annotator:Alisha layer:Policydesigncharacteristics type:Actor tag:Addressee_default start:239 stop:252 text:member states,\n",
       " annotator:Fride layer:Policydesigncharacteristics type:Time tag:Time_InEffect start:76 stop:134 text:20th day following its publication in the official journal,\n",
       " annotator:Fride layer:Policydesigncharacteristics type:Actor tag:Addressee_default start:239 stop:252 text:member states,\n",
       " annotator:Onerva layer:Policydesigncharacteristics type:Time tag:Time_InEffect start:52 stop:156 text:enter into force on the 20th day following its publication in the official journal of the european union,\n",
       " annotator:Onerva layer:Policydesigncharacteristics type:Actor tag:Addressee_default start:239 stop:252 text:member states,\n",
       " annotator:Alisha layer:Instrumenttypes type:InstrumentType tag:RegulatoryInstr start:574 stop:594 text:regulatory procedure,\n",
       " annotator:Alisha layer:Policydesigncharacteristics type:Time tag:Time_Monitoring start:11 stop:17 text:annual,\n",
       " annotator:Alisha layer:Policydesigncharacteristics type:Compliance tag:Form_monitoring start:18 stop:36 text:nuclear statistics,\n",
       " annotator:Alisha layer:Policydesigncharacteristics type:Actor tag:Authority_monitoring start:42 stop:52 text:commission,\n",
       " annotator:Alisha layer:Policydesigncharacteristics type:Actor tag:Authority_monitoring start:54 stop:62 text:eurostat,\n",
       " annotator:Alisha layer:Policydesigncharacteristics type:Actor tag:Addressee_sector start:95 stop:116 text:nuclear energy sector,\n",
       " annotator:Alisha layer:Policydesigncharacteristics type:Time tag:Time_Monitoring start:144 stop:150 text:annual,\n",
       " annotator:Alisha layer:Policydesigncharacteristics type:Compliance tag:Form_monitoring start:151 stop:169 text:nuclear statistics,\n",
       " annotator:Alisha layer:Policydesigncharacteristics type:Compliance tag:Form_monitoring start:185 stop:193 text:reported,\n",
       " annotator:Alisha layer:Policydesigncharacteristics type:Time tag:Time_Monitoring start:216 stop:220 text:2009,\n",
       " annotator:Alisha layer:Policydesigncharacteristics type:Time tag:Time_Monitoring start:484 stop:490 text:annual,\n",
       " annotator:Alisha layer:Policydesigncharacteristics type:Compliance tag:Form_monitoring start:491 stop:509 text:nuclear statistics,\n",
       " annotator:Alisha layer:Technologyandapplicationspecificity type:EnergySpecificity tag:Energy_LowCarbon start:18 stop:25 text:nuclear,\n",
       " annotator:Alisha layer:Technologyandapplicationspecificity type:EnergySpecificity tag:Energy_LowCarbon start:95 stop:109 text:nuclear energy,\n",
       " annotator:Alisha layer:Technologyandapplicationspecificity type:EnergySpecificity tag:Energy_LowCarbon start:151 stop:158 text:nuclear,\n",
       " annotator:Alisha layer:Technologyandapplicationspecificity type:EnergySpecificity tag:Energy_LowCarbon start:491 stop:498 text:nuclear,\n",
       " annotator:Fride layer:Policydesigncharacteristics type:Resource tag:Resource_Other start:11 stop:36 text:annual nuclear statistics,\n",
       " annotator:Fride layer:Policydesigncharacteristics type:Actor tag:Authority_default start:38 stop:63 text:the commission (eurostat),\n",
       " annotator:Fride layer:Policydesigncharacteristics type:Resource tag:Resource_Other start:144 stop:169 text:annual nuclear statistics,\n",
       " annotator:Fride layer:Policydesigncharacteristics type:Time tag:Time_Resources start:211 stop:228 text:from 2009 onwards,\n",
       " annotator:Fride layer:Policydesigncharacteristics type:Resource tag:Resource_Other start:484 stop:509 text:annual nuclear statistics,\n",
       " annotator:Onerva layer:Policydesigncharacteristics type:Resource tag:Resource_Other start:11 stop:36 text:annual nuclear statistics,\n",
       " annotator:Onerva layer:Policydesigncharacteristics type:Actor tag:Authority_default start:38 stop:63 text:the commission (eurostat),\n",
       " annotator:Onerva layer:Policydesigncharacteristics type:Actor tag:Addressee_sector start:95 stop:126 text:nuclear energy sector in the eu,\n",
       " annotator:Onerva layer:Policydesigncharacteristics type:Resource tag:Resource_Other start:144 stop:169 text:annual nuclear statistics,\n",
       " annotator:Onerva layer:Policydesigncharacteristics type:Compliance tag:Form_monitoring start:185 stop:193 text:reported,\n",
       " annotator:Onerva layer:Policydesigncharacteristics type:Compliance tag:Form_monitoring start:256 stop:264 text:reported,\n",
       " annotator:Onerva layer:Policydesigncharacteristics type:Resource tag:Resource_MonSpending start:414 stop:430 text:production costs,\n",
       " annotator:Onerva layer:Policydesigncharacteristics type:Compliance tag:Form_monitoring start:443 stop:452 text:reporting,\n",
       " annotator:Onerva layer:Policydesigncharacteristics type:Resource tag:Resource_Other start:484 stop:509 text:annual nuclear statistics,\n",
       " annotator:Onerva layer:Technologyandapplicationspecificity type:TechnologySpecificity tag:Tech_LowCarbon start:18 stop:25 text:nuclear,\n",
       " annotator:Onerva layer:Technologyandapplicationspecificity type:TechnologySpecificity tag:Tech_LowCarbon start:95 stop:109 text:nuclear energy,\n",
       " annotator:Onerva layer:Technologyandapplicationspecificity type:TechnologySpecificity tag:Tech_LowCarbon start:151 stop:158 text:nuclear,\n",
       " annotator:Alisha layer:Instrumenttypes type:InstrumentType tag:RegulatoryInstr start:1343 stop:1363 text:regulatory procedure,\n",
       " annotator:Alisha layer:Instrumenttypes type:InstrumentType tag:RegulatoryInstr start:1525 stop:1545 text:regulatory procedure,\n",
       " annotator:Alisha layer:Policydesigncharacteristics type:Compliance tag:Form_monitoring start:21 stop:38 text:energy statistics,\n",
       " annotator:Alisha layer:Policydesigncharacteristics type:Compliance tag:Form_monitoring start:56 stop:78 text:consumption statistics,\n",
       " annotator:Alisha layer:Policydesigncharacteristics type:Objective tag:Objective_QualIntention_noCCM start:100 stop:181 text:improving the quality of renewable energy and final energy consumption statistics,\n",
       " annotator:Alisha layer:Policydesigncharacteristics type:Compliance tag:Form_monitoring start:125 stop:181 text:renewable energy and final energy consumption statistics,\n",
       " annotator:Alisha layer:Policydesigncharacteristics type:Actor tag:Authority_monitoring start:187 stop:197 text:commission,\n",
       " annotator:Alisha layer:Policydesigncharacteristics type:Actor tag:Authority_monitoring start:199 stop:207 text:eurostat,\n",
       " annotator:Alisha layer:Policydesigncharacteristics type:Actor tag:Addressee_monitored start:236 stop:249 text:member states,\n",
       " annotator:Alisha layer:Policydesigncharacteristics type:Compliance tag:Form_monitoring start:293 stop:303 text:comparable,\n",
       " annotator:Alisha layer:Policydesigncharacteristics type:Compliance tag:Form_monitoring start:305 stop:316 text:transparent,\n",
       " annotator:Alisha layer:Policydesigncharacteristics type:Compliance tag:Form_monitoring start:318 stop:326 text:detailed,\n",
       " annotator:Alisha layer:Policydesigncharacteristics type:Compliance tag:Form_monitoring start:331 stop:339 text:flexible,\n",
       " annotator:Alisha layer:Policydesigncharacteristics type:Compliance tag:Form_monitoring start:403 stop:420 text:energy statistics,\n",
       " annotator:Alisha layer:Policydesigncharacteristics type:Objective tag:Objective_QualIntention start:433 stop:563 text:make available additional, pertinent, detailed statistics on each renewable energy source, annually and in a cost-effective manner,\n",
       " annotator:Alisha layer:Policydesigncharacteristics type:Actor tag:Authority_monitoring start:569 stop:579 text:commission,\n",
       " annotator:Alisha layer:Policydesigncharacteristics type:Actor tag:Authority_monitoring start:581 stop:589 text:eurostat,\n",
       " annotator:Alisha layer:Policydesigncharacteristics type:Compliance tag:Form_monitoring start:792 stop:814 text:consumption statistics,\n",
       " annotator:Alisha layer:Policydesigncharacteristics type:Compliance tag:Form_monitoring start:990 stop:1000 text:evaluating,\n",
       " annotator:Alisha layer:Policydesigncharacteristics type:Compliance tag:Form_monitoring start:1286 stop:1303 text:energy statistics,\n",
       " annotator:Alisha layer:Policydesigncharacteristics type:Compliance tag:Form_monitoring start:1438 stop:1460 text:consumption statistics,\n",
       " annotator:Alisha layer:Technologyandapplicationspecificity type:EnergySpecificity tag:Energy_Other start:21 stop:27 text:energy,\n",
       " annotator:Alisha layer:Technologyandapplicationspecificity type:ApplicationSpecificity tag:App_Other start:49 stop:67 text:energy consumption,\n",
       " annotator:Alisha layer:Technologyandapplicationspecificity type:EnergySpecificity tag:Energy_Other start:49 stop:55 text:energy,\n",
       " annotator:Alisha layer:Technologyandapplicationspecificity type:ApplicationSpecificity tag:App_Other start:152 stop:170 text:energy consumption,\n",
       " annotator:Alisha layer:Technologyandapplicationspecificity type:EnergySpecificity tag:Energy_Other start:152 stop:158 text:energy,\n",
       " annotator:Alisha layer:Technologyandapplicationspecificity type:EnergySpecificity tag:Energy_Other start:393 stop:409 text:renewable energy,\n",
       " annotator:Alisha layer:Technologyandapplicationspecificity type:EnergySpecificity tag:Energy_Other start:499 stop:515 text:renewable energy,\n",
       " annotator:Alisha layer:Technologyandapplicationspecificity type:ApplicationSpecificity tag:App_Other start:785 stop:803 text:energy consumption,\n",
       " annotator:Alisha layer:Technologyandapplicationspecificity type:EnergySpecificity tag:Energy_Other start:785 stop:791 text:energy,\n",
       " annotator:Alisha layer:Technologyandapplicationspecificity type:EnergySpecificity tag:Energy_Other start:1114 stop:1122 text:energies,\n",
       " annotator:Alisha layer:Technologyandapplicationspecificity type:EnergySpecificity tag:Energy_Other start:1142 stop:1148 text:energy,\n",
       " annotator:Alisha layer:Technologyandapplicationspecificity type:EnergySpecificity tag:Energy_LowCarbon start:1276 stop:1292 text:renewable energy,\n",
       " annotator:Alisha layer:Technologyandapplicationspecificity type:ApplicationSpecificity tag:App_Other start:1431 stop:1449 text:energy consumption,\n",
       " annotator:Alisha layer:Technologyandapplicationspecificity type:EnergySpecificity tag:Energy_Other start:1431 stop:1437 text:energy,\n",
       " annotator:Fride layer:Policydesigncharacteristics type:Resource tag:Resource_Other start:11 stop:38 text:renewable energy statistics,\n",
       " annotator:Fride layer:Policydesigncharacteristics type:Resource tag:Resource_Other start:43 stop:78 text:final energy consumption statistics,\n",
       " annotator:Fride layer:Policydesigncharacteristics type:Objective tag:Objective_QualIntention_noCCM start:100 stop:181 text:improving the quality of renewable energy and final energy consumption statistics,\n",
       " annotator:Fride layer:Policydesigncharacteristics type:Resource tag:Resource_Other start:125 stop:181 text:renewable energy and final energy consumption statistics,\n",
       " annotator:Fride layer:Policydesigncharacteristics type:Actor tag:Authority_default start:187 stop:208 text:commission (eurostat),\n",
       " annotator:Fride layer:Policydesigncharacteristics type:Objective tag:Objective_QualIntention_noCCM start:278 stop:339 text:statistics are comparable, transparent, detailed and flexible,\n",
       " annotator:Fride layer:Policydesigncharacteristics type:Resource tag:Resource_Other start:278 stop:288 text:statistics,\n",
       " annotator:Fride layer:Policydesigncharacteristics type:Resource tag:Resource_Other start:393 stop:420 text:renewable energy statistics,\n",
       " annotator:Fride layer:Policydesigncharacteristics type:Resource tag:Resource_Other start:480 stop:490 text:statistics,\n",
       " annotator:Fride layer:Policydesigncharacteristics type:Time tag:Time_Resources start:524 stop:532 text:annually,\n",
       " annotator:Fride layer:Policydesigncharacteristics type:Actor tag:Authority_monitoring start:569 stop:590 text:commission (eurostat),\n",
       " annotator:Fride layer:Policydesigncharacteristics type:Resource tag:Resource_Other start:625 stop:635 text:statistics,\n",
       " annotator:Fride layer:Policydesigncharacteristics type:Compliance tag:Form_monitoring start:688 stop:697 text:reviewing,\n",
       " annotator:Fride layer:Policydesigncharacteristics type:Resource tag:Resource_Other start:779 stop:814 text:final energy consumption statistics,\n",
       " annotator:Fride layer:Policydesigncharacteristics type:Compliance tag:Form_monitoring start:884 stop:900 text:existing studies,\n",
       " annotator:Fride layer:Policydesigncharacteristics type:Compliance tag:Form_monitoring start:905 stop:930 text:feasibility pilot studies,\n",
       " annotator:Fride layer:Policydesigncharacteristics type:Compliance tag:Form_monitoring start:943 stop:964 text:cost-benefit analyses,\n",
       " annotator:Fride layer:Policydesigncharacteristics type:Compliance tag:Form_monitoring start:1021 stop:1034 text:pilot studies,\n",
       " annotator:Fride layer:Policydesigncharacteristics type:Compliance tag:Form_monitoring start:1039 stop:1060 text:cost-benefit analyses,\n",
       " annotator:Fride layer:Policydesigncharacteristics type:Resource tag:Resource_Other start:1212 stop:1222 text:statistics,\n",
       " annotator:Fride layer:Policydesigncharacteristics type:Resource tag:Resource_Other start:1276 stop:1303 text:renewable energy statistics,\n",
       " annotator:Fride layer:Policydesigncharacteristics type:Resource tag:Resource_Other start:1425 stop:1460 text:final energy consumption statistics,\n",
       " annotator:Fride layer:Technologyandapplicationspecificity type:EnergySpecificity tag:Energy_LowCarbon start:499 stop:522 text:renewable energy source,\n",
       " annotator:Fride layer:Technologyandapplicationspecificity type:EnergySpecificity tag:Energy_Other start:1108 stop:1122 text:final energies,\n",
       " annotator:Fride layer:Technologyandapplicationspecificity type:EnergySpecificity tag:Energy_Other start:1142 stop:1148 text:energy,\n",
       " annotator:Fride layer:Technologyandapplicationspecificity type:ApplicationSpecificity tag:App_Other start:1149 stop:1153 text:uses,\n",
       " annotator:Onerva layer:Policydesigncharacteristics type:Objective tag:Objective_QualIntention start:100 stop:181 text:improving the quality of renewable energy and final energy consumption statistics,\n",
       " annotator:Onerva layer:Policydesigncharacteristics type:Actor tag:Authority_default start:187 stop:208 text:commission (eurostat),\n",
       " annotator:Onerva layer:Policydesigncharacteristics type:Actor tag:Authority_default start:236 stop:249 text:member states,\n",
       " annotator:Onerva layer:Policydesigncharacteristics type:Compliance tag:Form_monitoring start:350 stop:359 text:reviewing,\n",
       " annotator:Onerva layer:Policydesigncharacteristics type:Actor tag:Authority_default start:569 stop:590 text:commission (eurostat),\n",
       " annotator:Onerva layer:Policydesigncharacteristics type:Compliance tag:Form_monitoring start:688 stop:697 text:reviewing,\n",
       " annotator:Onerva layer:Policydesigncharacteristics type:Resource tag:Resource_Other start:1276 stop:1303 text:renewable energy statistics,\n",
       " annotator:Onerva layer:Policydesigncharacteristics type:Resource tag:Resource_Other start:1431 stop:1460 text:energy consumption statistics,\n",
       " annotator:Onerva layer:Technologyandapplicationspecificity type:TechnologySpecificity tag:Tech_LowCarbon start:125 stop:141 text:renewable energy,\n",
       " annotator:Onerva layer:Technologyandapplicationspecificity type:TechnologySpecificity tag:Tech_LowCarbon start:393 stop:409 text:renewable energy,\n",
       " annotator:Onerva layer:Technologyandapplicationspecificity type:TechnologySpecificity tag:Tech_LowCarbon start:499 stop:515 text:renewable energy,\n",
       " annotator:Onerva layer:Technologyandapplicationspecificity type:TechnologySpecificity tag:Tech_LowCarbon start:1276 stop:1292 text:renewable energy,\n",
       " annotator:Alisha layer:Instrumenttypes type:InstrumentType tag:RegulatoryInstr start:246 stop:266 text:regulatory procedure,\n",
       " annotator:Alisha layer:Instrumenttypes type:InstrumentType tag:RegulatoryInstr start:918 stop:938 text:regulatory procedure,\n",
       " annotator:Alisha layer:Policydesigncharacteristics type:Compliance tag:Form_monitoring start:402 stop:421 text:national statistics,\n",
       " annotator:Alisha layer:Policydesigncharacteristics type:Time tag:Time_Monitoring start:607 stop:613 text:annual,\n",
       " annotator:Alisha layer:Policydesigncharacteristics type:Compliance tag:Form_monitoring start:614 stop:632 text:nuclear statistics,\n",
       " annotator:Alisha layer:Policydesigncharacteristics type:Compliance tag:Form_monitoring start:686 stop:703 text:energy statistics,\n",
       " annotator:Alisha layer:Policydesigncharacteristics type:Compliance tag:Form_monitoring start:781 stop:803 text:consumption statistics,\n",
       " annotator:Alisha layer:Policydesigncharacteristics type:Compliance tag:Form_monitoring start:1051 stop:1060 text:reporting,\n",
       " annotator:Alisha layer:Technologyandapplicationspecificity type:EnergySpecificity tag:Energy_LowCarbon start:614 stop:621 text:nuclear,\n",
       " annotator:Alisha layer:Technologyandapplicationspecificity type:EnergySpecificity tag:Energy_LowCarbon start:676 stop:692 text:renewable energy,\n",
       " annotator:Alisha layer:Technologyandapplicationspecificity type:ApplicationSpecificity tag:App_Other start:774 stop:792 text:energy consumption,\n",
       " annotator:Alisha layer:Technologyandapplicationspecificity type:EnergySpecificity tag:Energy_Other start:774 stop:780 text:energy,\n",
       " annotator:Fride layer:Instrumenttypes type:InstrumentType tag:Unspecified start:12 stop:33 text:implementing measures,\n",
       " annotator:Fride layer:Instrumenttypes type:InstrumentType tag:Unspecified start:54 stop:62 text:measures,\n",
       " annotator:Fride layer:Instrumenttypes type:InstrumentType tag:RegulatoryInstr start:837 stop:847 text:exemptions,\n",
       " annotator:Fride layer:Instrumenttypes type:InstrumentType tag:RegulatoryInstr start:851 stop:862 text:derogations,\n",
       " annotator:Fride layer:Policydesigncharacteristics type:Resource tag:Resource_Other start:402 stop:421 text:national statistics,\n",
       " annotator:Fride layer:Policydesigncharacteristics type:Time tag:Time_Resources start:607 stop:613 text:annual,\n",
       " annotator:Fride layer:Policydesigncharacteristics type:Resource tag:Resource_Other start:614 stop:632 text:nuclear statistics,\n",
       " annotator:Fride layer:Policydesigncharacteristics type:Resource tag:Resource_Other start:676 stop:703 text:renewable energy statistics,\n",
       " annotator:Fride layer:Policydesigncharacteristics type:Resource tag:Resource_Other start:768 stop:803 text:final energy consumption statistics,\n",
       " annotator:Onerva layer:Policydesigncharacteristics type:Resource tag:Resource_Other start:1026 stop:1042 text:additional costs,\n",
       " annotator:Onerva layer:Policydesigncharacteristics type:Compliance tag:Form_monitoring start:1051 stop:1060 text:reporting,\n",
       " annotator:Onerva layer:Technologyandapplicationspecificity type:TechnologySpecificity tag:Tech_LowCarbon start:614 stop:621 text:nuclear,\n",
       " annotator:Alisha layer:Policydesigncharacteristics type:Compliance tag:Form_monitoring start:11 stop:29 text:quality assessment,\n",
       " annotator:Alisha layer:Policydesigncharacteristics type:Compliance tag:Form_monitoring start:34 stop:41 text:reports,\n",
       " annotator:Alisha layer:Policydesigncharacteristics type:Actor tag:Addressee_monitored start:48 stop:61 text:member states,\n",
       " annotator:Alisha layer:Policydesigncharacteristics type:Reference tag:Ref_OtherPolicy start:286 stop:306 text:decision 2005/166/ec,\n",
       " annotator:Alisha layer:Policydesigncharacteristics type:Reference tag:Ref_OtherPolicy start:366 stop:389 text:decision no 280/2004/ec,\n",
       " annotator:Alisha layer:Policydesigncharacteristics type:Reference tag:Ref_Strategy_Agreement start:534 stop:548 text:kyoto protocol,\n",
       " annotator:Alisha layer:Policydesigncharacteristics type:Compliance tag:Form_monitoring start:692 stop:701 text:relevance,\n",
       " annotator:Alisha layer:Policydesigncharacteristics type:Compliance tag:Form_monitoring start:803 stop:811 text:accuracy,\n",
       " annotator:Alisha layer:Policydesigncharacteristics type:Compliance tag:Form_monitoring start:890 stop:900 text:timeliness,\n",
       " annotator:Alisha layer:Policydesigncharacteristics type:Compliance tag:Form_monitoring start:1020 stop:1031 text:punctuality,\n",
       " annotator:Alisha layer:Policydesigncharacteristics type:Compliance tag:Form_monitoring start:1165 stop:1178 text:accessibility,\n",
       " annotator:Alisha layer:Policydesigncharacteristics type:Compliance tag:Form_monitoring start:1185 stop:1192 text:clarity,\n",
       " annotator:Alisha layer:Policydesigncharacteristics type:Compliance tag:Form_monitoring start:1297 stop:1310 text:comparability,\n",
       " annotator:Alisha layer:Policydesigncharacteristics type:Compliance tag:Form_monitoring start:1537 stop:1546 text:coherence,\n",
       " annotator:Alisha layer:Policydesigncharacteristics type:Time tag:Time_Monitoring start:1658 stop:1674 text:every five years,\n",
       " annotator:Alisha layer:Policydesigncharacteristics type:Actor tag:Addressee_monitored start:1676 stop:1689 text:member states,\n",
       " annotator:Alisha layer:Policydesigncharacteristics type:Actor tag:Authority_monitoring start:1708 stop:1718 text:commission,\n",
       " annotator:Alisha layer:Policydesigncharacteristics type:Actor tag:Authority_monitoring start:1720 stop:1728 text:eurostat,\n",
       " annotator:Alisha layer:Policydesigncharacteristics type:Compliance tag:Form_monitoring start:1737 stop:1743 text:report,\n",
       " annotator:Alisha layer:Policydesigncharacteristics type:Time tag:Time_Compliance start:1851 stop:1868 text:within six months,\n",
       " annotator:Alisha layer:Policydesigncharacteristics type:Actor tag:Authority_monitoring start:1902 stop:1912 text:commission,\n",
       " annotator:Alisha layer:Policydesigncharacteristics type:Actor tag:Authority_monitoring start:1914 stop:1922 text:eurostat,\n",
       " annotator:Alisha layer:Policydesigncharacteristics type:Actor tag:Addressee_monitored start:1997 stop:2010 text:member states,\n",
       " annotator:Alisha layer:Policydesigncharacteristics type:Actor tag:Authority_monitoring start:2029 stop:2039 text:commission,\n",
       " annotator:Alisha layer:Policydesigncharacteristics type:Actor tag:Authority_monitoring start:2041 stop:2049 text:eurostat,\n",
       " annotator:Alisha layer:Policydesigncharacteristics type:Compliance tag:Form_monitoring start:2053 stop:2059 text:report,\n",
       " annotator:Alisha layer:Technologyandapplicationspecificity type:EnergySpecificity tag:Energy_Other start:190 stop:196 text:energy,\n",
       " annotator:Fride layer:Instrumenttypes type:InstrumentType tag:RegulatoryInstr start:343 stop:348 text:rules,\n",
       " annotator:Fride layer:Policydesigncharacteristics type:Compliance tag:Form_monitoring start:11 stop:29 text:quality assessment,\n",
       " annotator:Fride layer:Policydesigncharacteristics type:Compliance tag:Form_monitoring start:34 stop:41 text:reports,\n",
       " annotator:Fride layer:Policydesigncharacteristics type:Actor tag:Addressee_default start:48 stop:61 text:member states,\n",
       " annotator:Fride layer:Policydesigncharacteristics type:Resource tag:Resource_Other start:94 stop:98 text:data,\n",
       " annotator:Fride layer:Policydesigncharacteristics type:Resource tag:Resource_Other start:190 stop:201 text:energy data,\n",
       " annotator:Fride layer:Policydesigncharacteristics type:Reference tag:Ref_OtherPolicy start:275 stop:306 text:commission decision 2005/166/ec,\n",
       " annotator:Fride layer:Policydesigncharacteristics type:Reference tag:Ref_OtherPolicy start:366 stop:389 text:decision no 280/2004/ec,\n",
       " annotator:Fride layer:Policydesigncharacteristics type:Actor tag:Authority_legislative start:397 stop:416 text:european parliament,\n",
       " annotator:Fride layer:Policydesigncharacteristics type:Actor tag:Authority_legislative start:428 stop:435 text:council,\n",
       " annotator:Fride layer:Policydesigncharacteristics type:Compliance tag:Form_monitoring start:463 stop:473 text:monitoring,\n",
       " annotator:Fride layer:Policydesigncharacteristics type:Reference tag:Ref_Strategy_Agreement start:534 stop:548 text:kyoto protocol,\n",
       " annotator:Fride layer:Policydesigncharacteristics type:Resource tag:Resource_Other start:661 stop:665 text:data,\n",
       " annotator:Fride layer:Policydesigncharacteristics type:Compliance tag:Form_monitoring start:672 stop:683 text:transmitted,\n",
       " annotator:Fride layer:Policydesigncharacteristics type:Resource tag:Resource_Other start:738 stop:748 text:statistics,\n",
       " annotator:Fride layer:Policydesigncharacteristics type:Actor tag:Addressee_resource start:789 stop:794 text:users,\n",
       " annotator:Fride layer:Policydesigncharacteristics type:Resource tag:Resource_Other start:959 stop:970 text:information,\n",
       " annotator:Fride layer:Policydesigncharacteristics type:Resource tag:Resource_Other start:1097 stop:1101 text:data,\n",
       " annotator:Fride layer:Policydesigncharacteristics type:Actor tag:Addressee_resource start:1248 stop:1253 text:users,\n",
       " annotator:Fride layer:Policydesigncharacteristics type:Resource tag:Resource_Other start:1284 stop:1288 text:data,\n",
       " annotator:Fride layer:Policydesigncharacteristics type:Resource tag:Resource_Other start:1447 stop:1457 text:statistics,\n",
       " annotator:Fride layer:Policydesigncharacteristics type:Resource tag:Resource_Other start:1583 stop:1587 text:data,\n",
       " annotator:Fride layer:Policydesigncharacteristics type:Time tag:Time_Monitoring start:1658 stop:1674 text:every five years,\n",
       " annotator:Fride layer:Policydesigncharacteristics type:Actor tag:Addressee_monitored start:1676 stop:1689 text:member states,\n",
       " annotator:Fride layer:Policydesigncharacteristics type:Actor tag:Authority_monitoring start:1708 stop:1729 text:commission (eurostat),\n",
       " annotator:Fride layer:Policydesigncharacteristics type:Compliance tag:Form_monitoring start:1737 stop:1743 text:report,\n",
       " annotator:Fride layer:Policydesigncharacteristics type:Resource tag:Resource_Other start:1766 stop:1770 text:data,\n",
       " annotator:Fride layer:Policydesigncharacteristics type:Time tag:Time_Monitoring start:1851 stop:1923 text:within six months of receipt of a request from the commission (eurostat),\n",
       " annotator:Fride layer:Policydesigncharacteristics type:Actor tag:Authority_monitoring start:1902 stop:1923 text:commission (eurostat),\n",
       " annotator:Fride layer:Policydesigncharacteristics type:Compliance tag:Form_monitoring start:1953 stop:1959 text:assess,\n",
       " annotator:Fride layer:Policydesigncharacteristics type:Resource tag:Resource_Other start:1979 stop:1983 text:data,\n",
       " annotator:Fride layer:Policydesigncharacteristics type:Actor tag:Addressee_monitored start:1997 stop:2010 text:member states,\n",
       " annotator:Fride layer:Policydesigncharacteristics type:Actor tag:Authority_monitoring start:2029 stop:2050 text:commission (eurostat),\n",
       " annotator:Fride layer:Policydesigncharacteristics type:Compliance tag:Form_monitoring start:2053 stop:2059 text:report,\n",
       " annotator:Onerva layer:Instrumenttypes type:InstrumentType tag:RegulatoryInstr start:343 stop:348 text:rules,\n",
       " annotator:Onerva layer:Policydesigncharacteristics type:Compliance tag:Form_monitoring start:11 stop:29 text:quality assessment,\n",
       " annotator:Onerva layer:Policydesigncharacteristics type:Compliance tag:Form_monitoring start:34 stop:41 text:reports,\n",
       " annotator:Onerva layer:Policydesigncharacteristics type:Actor tag:Authority_default start:48 stop:61 text:member states,\n",
       " annotator:Onerva layer:Policydesigncharacteristics type:Resource tag:Resource_Other start:94 stop:98 text:data,\n",
       " annotator:Onerva layer:Policydesigncharacteristics type:Reference tag:Ref_OtherPolicy start:275 stop:306 text:commission decision 2005/166/ec,\n",
       " annotator:Onerva layer:Policydesigncharacteristics type:Reference tag:Ref_OtherPolicy start:366 stop:389 text:decision no 280/2004/ec,\n",
       " annotator:Onerva layer:Policydesigncharacteristics type:Reference tag:Ref_OtherPolicy start:534 stop:548 text:kyoto protocol,\n",
       " annotator:Onerva layer:Policydesigncharacteristics type:Compliance tag:Form_monitoring start:612 stop:630 text:quality assessment,\n",
       " annotator:Onerva layer:Policydesigncharacteristics type:Actor tag:Addressee_default start:1248 stop:1253 text:users,\n",
       " annotator:Onerva layer:Policydesigncharacteristics type:Actor tag:Addressee_monitored start:1676 stop:1689 text:member states,\n",
       " annotator:Onerva layer:Policydesigncharacteristics type:Actor tag:Authority_monitoring start:1708 stop:1729 text:commission (eurostat),\n",
       " annotator:Onerva layer:Policydesigncharacteristics type:Compliance tag:Form_monitoring start:1737 stop:1743 text:report,\n",
       " annotator:Onerva layer:Policydesigncharacteristics type:Resource tag:Resource_Other start:1766 stop:1770 text:data,\n",
       " annotator:Onerva layer:Policydesigncharacteristics type:Time tag:Time_Monitoring start:1851 stop:1923 text:within six months of receipt of a request from the commission (eurostat),\n",
       " annotator:Onerva layer:Policydesigncharacteristics type:Actor tag:Authority_monitoring start:1902 stop:1923 text:commission (eurostat),\n",
       " annotator:Onerva layer:Policydesigncharacteristics type:Resource tag:Resource_Other start:1979 stop:1983 text:data,\n",
       " annotator:Onerva layer:Policydesigncharacteristics type:Actor tag:Addressee_monitored start:1997 stop:2010 text:member states,\n",
       " annotator:Onerva layer:Policydesigncharacteristics type:Actor tag:Authority_legislative start:2029 stop:2050 text:commission (eurostat),\n",
       " annotator:Onerva layer:Policydesigncharacteristics type:Compliance tag:Form_monitoring start:2053 stop:2059 text:report,\n",
       " annotator:Alisha layer:Instrumenttypes type:InstrumentType tag:RegulatoryInstr start:425 stop:445 text:regulatory procedure,\n",
       " annotator:Alisha layer:Instrumenttypes type:InstrumentType tag:RegulatoryInstr start:635 stop:655 text:regulatory procedure,\n",
       " annotator:Alisha layer:Policydesigncharacteristics type:Actor tag:Addressee_monitored start:48 stop:61 text:member states,\n",
       " annotator:Alisha layer:Policydesigncharacteristics type:Actor tag:Authority_monitoring start:84 stop:94 text:commission,\n",
       " annotator:Alisha layer:Policydesigncharacteristics type:Actor tag:Authority_monitoring start:96 stop:104 text:eurostat,\n",
       " annotator:Alisha layer:Policydesigncharacteristics type:Compliance tag:Form_monitoring start:110 stop:129 text:national statistics,\n",
       " annotator:Alisha layer:Policydesigncharacteristics type:Compliance tag:Form_monitoring start:366 stop:385 text:national statistics,\n",
       " annotator:Alisha layer:Policydesigncharacteristics type:Actor tag:Addressee_monitored start:528 stop:540 text:member state,\n",
       " annotator:Alisha layer:Policydesigncharacteristics type:Reversibility tag:Reversibility_policy start:553 stop:578 text:exemptions or derogations,\n",
       " annotator:Alisha layer:Policydesigncharacteristics type:Actor tag:Authority_monitoring start:601 stop:611 text:commission,\n",
       " annotator:Alisha layer:Policydesigncharacteristics type:Compliance tag:Form_monitoring start:709 stop:728 text:national statistics,\n",
       " annotator:Alisha layer:Policydesigncharacteristics type:Reversibility tag:Reversibility_policy start:771 stop:802 text:excessive burden on respondents,\n",
       " annotator:Alisha layer:Policydesigncharacteristics type:Actor tag:Authority_monitoring start:814 stop:824 text:commission,\n",
       " annotator:Alisha layer:Policydesigncharacteristics type:Actor tag:Authority_monitoring start:826 stop:834 text:eurostat,\n",
       " annotator:Alisha layer:Policydesigncharacteristics type:Time tag:Time_Monitoring start:854 stop:860 text:yearly,\n",
       " annotator:Alisha layer:Policydesigncharacteristics type:Compliance tag:Form_monitoring start:861 stop:878 text:energy statistics,\n",
       " annotator:Alisha layer:Policydesigncharacteristics type:Time tag:Time_Monitoring start:882 stop:892 text:31 january,\n",
       " annotator:Alisha layer:Technologyandapplicationspecificity type:EnergySpecificity tag:Energy_Other start:861 stop:867 text:energy,\n",
       " annotator:Fride layer:Instrumenttypes type:InstrumentType tag:RegulatoryInstr start:241 stop:252 text:derogations,\n",
       " annotator:Fride layer:Instrumenttypes type:InstrumentType tag:RegulatoryInstr start:257 stop:267 text:exemptions,\n",
       " annotator:Fride layer:Instrumenttypes type:InstrumentType tag:RegulatoryInstr start:553 stop:563 text:exemptions,\n",
       " annotator:Fride layer:Instrumenttypes type:InstrumentType tag:RegulatoryInstr start:567 stop:578 text:derogations,\n",
       " annotator:Fride layer:Policydesigncharacteristics type:Actor tag:Addressee_default start:48 stop:61 text:member states,\n",
       " annotator:Fride layer:Policydesigncharacteristics type:Actor tag:Addressee_resource start:84 stop:105 text:commission (eurostat),\n",
       " annotator:Fride layer:Policydesigncharacteristics type:Resource tag:Resource_Other start:110 stop:129 text:national statistics,\n",
       " annotator:Fride layer:Policydesigncharacteristics type:Time tag:Time_Resources start:228 stop:239 text:time limits,\n",
       " annotator:Fride layer:Policydesigncharacteristics type:Resource tag:Resource_Other start:366 stop:385 text:national statistics,\n",
       " annotator:Fride layer:Policydesigncharacteristics type:Actor tag:Addressee_default start:528 stop:540 text:member state,\n",
       " annotator:Fride layer:Policydesigncharacteristics type:Actor tag:Authority_default start:601 stop:611 text:commission,\n",
       " annotator:Fride layer:Policydesigncharacteristics type:Resource tag:Resource_Other start:709 stop:728 text:national statistics,\n",
       " annotator:Fride layer:Policydesigncharacteristics type:Actor tag:Addressee_default start:814 stop:835 text:commission (eurostat),\n",
       " annotator:Fride layer:Policydesigncharacteristics type:Resource tag:Resource_Other start:861 stop:878 text:energy statistics,\n",
       " annotator:Fride layer:Policydesigncharacteristics type:Time tag:Time_Compliance start:882 stop:941 text:31 january of the second year following the reported period,\n",
       " annotator:Onerva layer:Policydesigncharacteristics type:Actor tag:Authority_default start:48 stop:61 text:member states,\n",
       " annotator:Onerva layer:Policydesigncharacteristics type:Actor tag:Addressee_default start:84 stop:105 text:commission (eurostat),\n",
       " annotator:Onerva layer:Policydesigncharacteristics type:Resource tag:Resource_Other start:110 stop:129 text:national statistics,\n",
       " annotator:Onerva layer:Policydesigncharacteristics type:Resource tag:Resource_Other start:366 stop:385 text:national statistics,\n",
       " annotator:Onerva layer:Policydesigncharacteristics type:Actor tag:Authority_default start:528 stop:540 text:member state,\n",
       " annotator:Onerva layer:Policydesigncharacteristics type:Actor tag:Authority_default start:601 stop:611 text:commission,\n",
       " annotator:Onerva layer:Policydesigncharacteristics type:Resource tag:Resource_Other start:709 stop:728 text:national statistics,\n",
       " annotator:Onerva layer:Policydesigncharacteristics type:Actor tag:Authority_default start:814 stop:835 text:commission (eurostat),\n",
       " annotator:Onerva layer:Policydesigncharacteristics type:Resource tag:Resource_Other start:861 stop:878 text:energy statistics,\n",
       " annotator:Onerva layer:Policydesigncharacteristics type:Time tag:Time_Resources start:882 stop:941 text:31 january of the second year following the reported period,\n",
       " annotator:Onerva layer:Policydesigncharacteristics type:Compliance tag:Form_monitoring start:926 stop:934 text:reported,\n",
       " annotator:Alisha layer:Instrumenttypes type:InstrumentType tag:FrameworkPolicy start:79 stop:88 text:framework,\n",
       " annotator:Alisha layer:Policydesigncharacteristics type:Objective tag:Objective_QualIntention_noCCM start:97 stop:183 text:production, transmission, evaluation and dissemination of comparable energy statistics,\n",
       " annotator:Alisha layer:Policydesigncharacteristics type:Compliance tag:Form_monitoring start:97 stop:183 text:production, transmission, evaluation and dissemination of comparable energy statistics,\n",
       " annotator:Alisha layer:Policydesigncharacteristics type:Actor tag:Addressee_sector start:191 stop:200 text:community,\n",
       " annotator:Alisha layer:Policydesigncharacteristics type:Actor tag:Addressee_sector start:311 stop:320 text:community,\n",
       " annotator:Alisha layer:Technologyandapplicationspecificity type:EnergySpecificity tag:Energy_Other start:166 stop:172 text:energy,\n",
       " annotator:Alisha layer:Technologyandapplicationspecificity type:EnergySpecificity tag:Energy_Other start:267 stop:282 text:energy products,\n",
       " annotator:Alisha layer:Technologyandapplicationspecificity type:EnergySpecificity tag:Energy_Other start:267 stop:273 text:energy,\n",
       " annotator:Fride layer:Instrumenttypes type:InstrumentType tag:FrameworkPolicy start:72 stop:88 text:common framework,\n",
       " annotator:Fride layer:Policydesigncharacteristics type:Objective tag:Objective_QualIntention_noCCM start:155 stop:200 text:comparable energy statistics in the community,\n",
       " annotator:Fride layer:Policydesigncharacteristics type:Resource tag:Resource_Other start:166 stop:183 text:energy statistics,\n",
       " annotator:Fride layer:Policydesigncharacteristics type:Resource tag:Resource_Other start:239 stop:255 text:statistical data,\n",
       " annotator:Fride layer:Technologyandapplicationspecificity type:EnergySpecificity tag:Energy_Other start:267 stop:282 text:energy products,\n",
       " annotator:Onerva layer:Instrumenttypes type:InstrumentType tag:FrameworkPolicy start:79 stop:88 text:framework,\n",
       " annotator:Onerva layer:Policydesigncharacteristics type:Resource tag:Resource_Other start:166 stop:183 text:energy statistics,\n",
       " annotator:Onerva layer:Policydesigncharacteristics type:Actor tag:Addressee_default start:191 stop:200 text:community,\n",
       " annotator:Onerva layer:Policydesigncharacteristics type:Actor tag:Addressee_default start:311 stop:320 text:community,\n",
       " annotator:Onerva layer:Technologyandapplicationspecificity type:TechnologySpecificity tag:Tech_Other start:267 stop:282 text:energy products,\n",
       " annotator:Alisha layer:Policydesigncharacteristics type:Actor tag:Authority_default start:32 stop:42 text:commission,\n",
       " annotator:Alisha layer:Policydesigncharacteristics type:Actor tag:Authority_monitoring start:68 stop:99 text:statistical programme committee,\n",
       " annotator:Alisha layer:Policydesigncharacteristics type:Reference tag:Ref_OtherPolicy start:188 stop:208 text:decision 1999/468/ec,\n",
       " annotator:Alisha layer:Policydesigncharacteristics type:Reference tag:Ref_OtherPolicy start:344 stop:364 text:decision 1999/468/ec,\n",
       " annotator:Alisha layer:Policydesigncharacteristics type:Reference tag:Ref_OtherPolicy start:476 stop:496 text:decision 1999/468/ec,\n",
       " annotator:Alisha layer:Policydesigncharacteristics type:Time tag:Time_Compliance start:506 stop:518 text:three months,\n",
       " annotator:Fride layer:Instrumenttypes type:InstrumentType tag:Unspecified start:243 stop:253 text:provisions,\n",
       " annotator:Fride layer:Instrumenttypes type:InstrumentType tag:Unspecified start:399 stop:409 text:provisions,\n",
       " annotator:Fride layer:Policydesigncharacteristics type:Actor tag:Authority_default start:12 stop:21 text:committee,\n",
       " annotator:Fride layer:Policydesigncharacteristics type:Actor tag:Authority_default start:32 stop:42 text:commission,\n",
       " annotator:Fride layer:Policydesigncharacteristics type:Reference tag:Ref_OtherPolicy start:188 stop:208 text:decision 1999/468/ec,\n",
       " annotator:Fride layer:Policydesigncharacteristics type:Reference tag:Ref_OtherPolicy start:344 stop:364 text:decision 1999/468/ec,\n",
       " annotator:Fride layer:Policydesigncharacteristics type:Reference tag:Ref_OtherPolicy start:476 stop:496 text:decision 1999/468/ec,\n",
       " annotator:Onerva layer:Policydesigncharacteristics type:Actor tag:Authority_default start:32 stop:42 text:commission,\n",
       " annotator:Onerva layer:Policydesigncharacteristics type:Actor tag:Addressee_default start:68 stop:99 text:statistical programme committee,\n",
       " annotator:Onerva layer:Policydesigncharacteristics type:Reference tag:Ref_OtherPolicy start:188 stop:208 text:decision 1999/468/ec,\n",
       " annotator:Onerva layer:Policydesigncharacteristics type:Reference tag:Ref_OtherPolicy start:344 stop:364 text:decision 1999/468/ec,\n",
       " annotator:Onerva layer:Policydesigncharacteristics type:Reference tag:Ref_OtherPolicy start:476 stop:496 text:decision 1999/468/ec,\n",
       " annotator:Alisha layer:Policydesigncharacteristics type:Actor tag:Addressee_monitored start:41 stop:54 text:member states,\n",
       " annotator:Alisha layer:Policydesigncharacteristics type:Time tag:Time_InEffect start:116 stop:146 text:beginning of the calendar year,\n",
       " annotator:Fride layer:Policydesigncharacteristics type:Actor tag:Addressee_monitored start:41 stop:54 text:member states,\n",
       " annotator:Fride layer:Policydesigncharacteristics type:Resource tag:Resource_Other start:73 stop:77 text:data,\n",
       " annotator:Fride layer:Policydesigncharacteristics type:Time tag:Time_Resources start:112 stop:188 text:the beginning of the calendar year following the adoption of this regulation,\n",
       " annotator:Fride layer:Policydesigncharacteristics type:Time tag:Time_Resources start:241 stop:275 text:frequencies laid down in article 4,\n",
       " annotator:Onerva layer:Policydesigncharacteristics type:Actor tag:Authority_default start:41 stop:54 text:member states,\n",
       " annotator:Onerva layer:Policydesigncharacteristics type:Resource tag:Resource_Other start:73 stop:77 text:data,\n",
       " annotator:Onerva layer:Policydesigncharacteristics type:Time tag:Time_Resources start:107 stop:188 text:from the beginning of the calendar year following the adoption of this regulation,\n",
       " annotator:Alisha layer:Policydesigncharacteristics type:Actor tag:Addressee_default start:95 stop:106 text:respondents,\n",
       " annotator:Alisha layer:Policydesigncharacteristics type:Actor tag:Authority_monitoring start:145 stop:158 text:member states,\n",
       " annotator:Alisha layer:Policydesigncharacteristics type:Compliance tag:Form_monitoring start:165 stop:177 text:compile data,\n",
       " annotator:Alisha layer:Policydesigncharacteristics type:Actor tag:Addressee_sector start:233 stop:242 text:community,\n",
       " annotator:Alisha layer:Policydesigncharacteristics type:Compliance tag:Form_monitoring start:286 stop:305 text:statistical surveys,\n",
       " annotator:Alisha layer:Policydesigncharacteristics type:Actor tag:Addressee_sector start:347 stop:375 text:energy producers and traders,\n",
       " annotator:Alisha layer:Policydesigncharacteristics type:Actor tag:Addressee_sector start:377 stop:406 text:distributors and transporters,\n",
       " annotator:Alisha layer:Policydesigncharacteristics type:Actor tag:Addressee_sector start:408 stop:450 text:importers and exporters of energy products,\n",
       " annotator:Alisha layer:Policydesigncharacteristics type:Compliance tag:Form_monitoring start:464 stop:483 text:statistical surveys,\n",
       " annotator:Alisha layer:Policydesigncharacteristics type:Actor tag:Addressee_sector start:497 stop:515 text:final energy users,\n",
       " annotator:Alisha layer:Policydesigncharacteristics type:Actor tag:Addressee_sector start:534 stop:556 text:manufacturing industry,\n",
       " annotator:Alisha layer:Policydesigncharacteristics type:Actor tag:Addressee_sector start:558 stop:567 text:transport,\n",
       " annotator:Alisha layer:Policydesigncharacteristics type:Actor tag:Addressee_sector start:598 stop:608 text:households,\n",
       " annotator:Alisha layer:Policydesigncharacteristics type:Compliance tag:Form_monitoring start:622 stop:644 text:statistical estimation,\n",
       " annotator:Alisha layer:Policydesigncharacteristics type:Actor tag:Addressee_sector start:716 stop:761 text:regulators of the electricity and gas markets,\n",
       " annotator:Alisha layer:Policydesigncharacteristics type:Actor tag:Addressee_default start:769 stop:782 text:member states,\n",
       " annotator:Alisha layer:Policydesigncharacteristics type:Compliance tag:Form_monitoring start:832 stop:841 text:reporting,\n",
       " annotator:Alisha layer:Policydesigncharacteristics type:Compliance tag:Form_monitoring start:869 stop:888 text:national statistics,\n",
       " annotator:Alisha layer:Technologyandapplicationspecificity type:EnergySpecificity tag:Energy_Other start:189 stop:204 text:energy products,\n",
       " annotator:Alisha layer:Technologyandapplicationspecificity type:EnergySpecificity tag:Energy_Other start:347 stop:353 text:energy,\n",
       " annotator:Alisha layer:Technologyandapplicationspecificity type:ApplicationSpecificity tag:App_Other start:377 stop:450 text:distributors and transporters, importers and exporters of energy products,\n",
       " annotator:Alisha layer:Technologyandapplicationspecificity type:EnergySpecificity tag:Energy_Other start:435 stop:450 text:energy products,\n",
       " annotator:Alisha layer:Technologyandapplicationspecificity type:ApplicationSpecificity tag:App_Other start:497 stop:608 text:final energy users in the sectors of manufacturing industry, transport, and other sectors, including households,\n",
       " annotator:Alisha layer:Technologyandapplicationspecificity type:EnergySpecificity tag:Energy_Other start:503 stop:509 text:energy,\n",
       " annotator:Alisha layer:Technologyandapplicationspecificity type:EnergySpecificity tag:Energy_Other start:734 stop:745 text:electricity,\n",
       " annotator:Alisha layer:Technologyandapplicationspecificity type:EnergySpecificity tag:Energy_Other start:750 stop:753 text:gas,\n",
       " annotator:Fride layer:Instrumenttypes type:InstrumentType tag:RegulatoryInstr start:811 stop:816 text:rules,\n",
       " annotator:Fride layer:Policydesigncharacteristics type:Actor tag:Addressee_default start:145 stop:158 text:member states,\n",
       " annotator:Fride layer:Policydesigncharacteristics type:Resource tag:Resource_Other start:173 stop:177 text:data,\n",
       " annotator:Fride layer:Policydesigncharacteristics type:Actor tag:Addressee_default start:354 stop:363 text:producers,\n",
       " annotator:Fride layer:Policydesigncharacteristics type:Actor tag:Addressee_default start:368 stop:375 text:traders,\n",
       " annotator:Fride layer:Policydesigncharacteristics type:Actor tag:Addressee_default start:377 stop:389 text:distributors,\n",
       " annotator:Fride layer:Policydesigncharacteristics type:Actor tag:Addressee_default start:394 stop:406 text:transporters,\n",
       " annotator:Fride layer:Policydesigncharacteristics type:Actor tag:Addressee_default start:408 stop:417 text:importers,\n",
       " annotator:Fride layer:Policydesigncharacteristics type:Actor tag:Addressee_default start:422 stop:431 text:exporters,\n",
       " annotator:Fride layer:Policydesigncharacteristics type:Actor tag:Addressee_default start:497 stop:515 text:final energy users,\n",
       " annotator:Fride layer:Policydesigncharacteristics type:Actor tag:Addressee_sector start:534 stop:556 text:manufacturing industry,\n",
       " annotator:Fride layer:Policydesigncharacteristics type:Actor tag:Addressee_sector start:558 stop:567 text:transport,\n",
       " annotator:Fride layer:Policydesigncharacteristics type:Actor tag:Addressee_sector start:573 stop:586 text:other sectors,\n",
       " annotator:Fride layer:Policydesigncharacteristics type:Actor tag:Addressee_sector start:598 stop:608 text:households,\n",
       " annotator:Fride layer:Policydesigncharacteristics type:Actor tag:Addressee_default start:716 stop:726 text:regulators,\n",
       " annotator:Fride layer:Policydesigncharacteristics type:Actor tag:Authority_default start:769 stop:782 text:member states,\n",
       " annotator:Fride layer:Policydesigncharacteristics type:Compliance tag:Form_monitoring start:832 stop:841 text:reporting,\n",
       " annotator:Fride layer:Policydesigncharacteristics type:Resource tag:Resource_Other start:849 stop:853 text:data,\n",
       " annotator:Fride layer:Policydesigncharacteristics type:Resource tag:Resource_Other start:869 stop:888 text:national statistics,\n",
       " annotator:Fride layer:Policydesigncharacteristics type:Resource tag:Resource_Other start:968 stop:972 text:data,\n",
       " annotator:Fride layer:Technologyandapplicationspecificity type:EnergySpecificity tag:Energy_Other start:189 stop:204 text:energy products,\n",
       " annotator:Fride layer:Technologyandapplicationspecificity type:EnergySpecificity tag:Energy_Other start:323 stop:353 text:primary and transformed energy,\n",
       " annotator:Fride layer:Technologyandapplicationspecificity type:EnergySpecificity tag:Energy_Other start:435 stop:450 text:energy products,\n",
       " annotator:Fride layer:Technologyandapplicationspecificity type:EnergySpecificity tag:Energy_LowCarbon start:734 stop:745 text:electricity,\n",
       " annotator:Fride layer:Technologyandapplicationspecificity type:EnergySpecificity tag:Energy_Other start:750 stop:753 text:gas,\n",
       " annotator:Onerva layer:Instrumenttypes type:InstrumentType tag:RegulatoryInstr start:811 stop:816 text:rules,\n",
       " annotator:Onerva layer:Policydesigncharacteristics type:Actor tag:Authority_default start:145 stop:158 text:member states,\n",
       " annotator:Onerva layer:Policydesigncharacteristics type:Resource tag:Resource_Other start:173 stop:177 text:data,\n",
       " annotator:Onerva layer:Policydesigncharacteristics type:Resource tag:Resource_Other start:277 stop:305 text:specific statistical surveys,\n",
       " annotator:Onerva layer:Policydesigncharacteristics type:Actor tag:Addressee_sector start:323 stop:450 text:primary and transformed energy producers and traders, distributors and transporters, importers and exporters of energy products,\n",
       " annotator:Onerva layer:Policydesigncharacteristics type:Resource tag:Resource_Other start:458 stop:483 text:other statistical surveys,\n",
       " annotator:Onerva layer:Policydesigncharacteristics type:Actor tag:Addressee_sector start:497 stop:515 text:final energy users,\n",
       " annotator:Onerva layer:Policydesigncharacteristics type:Actor tag:Addressee_sector start:534 stop:608 text:manufacturing industry, transport, and other sectors, including households,\n",
       " annotator:Onerva layer:Policydesigncharacteristics type:Resource tag:Resource_Other start:622 stop:672 text:statistical estimation procedures or other sources,\n",
       " annotator:Onerva layer:Policydesigncharacteristics type:Actor tag:Addressee_default start:716 stop:761 text:regulators of the electricity and gas markets,\n",
       " annotator:Onerva layer:Policydesigncharacteristics type:Actor tag:Authority_default start:769 stop:782 text:member states,\n",
       " annotator:Onerva layer:Policydesigncharacteristics type:Compliance tag:Form_monitoring start:832 stop:841 text:reporting,\n",
       " annotator:Onerva layer:Technologyandapplicationspecificity type:TechnologySpecificity tag:Tech_LowCarbon start:189 stop:225 text:energy products and their aggregates,\n",
       " annotator:Alisha layer:Instrumenttypes type:InstrumentType tag:RegulatoryInstr start:687 stop:707 text:regulatory procedure,\n",
       " annotator:Alisha layer:Policydesigncharacteristics type:Compliance tag:Form_monitoring start:73 stop:92 text:national statistics,\n",
       " annotator:Alisha layer:Policydesigncharacteristics type:Compliance tag:Form_monitoring start:103 stop:122 text:national statistics,\n",
       " annotator:Alisha layer:Policydesigncharacteristics type:Compliance tag:Form_monitoring start:129 stop:137 text:reported,\n",
       " annotator:Alisha layer:Policydesigncharacteristics type:Time tag:Time_Monitoring start:238 stop:244 text:annual,\n",
       " annotator:Alisha layer:Policydesigncharacteristics type:Compliance tag:Form_monitoring start:254 stop:271 text:energy statistics,\n",
       " annotator:Alisha layer:Policydesigncharacteristics type:Time tag:Time_Monitoring start:290 stop:297 text:monthly,\n",
       " annotator:Alisha layer:Policydesigncharacteristics type:Compliance tag:Form_monitoring start:307 stop:324 text:energy statistics,\n",
       " annotator:Alisha layer:Policydesigncharacteristics type:Time tag:Time_Monitoring start:343 stop:361 text:short-term monthly,\n",
       " annotator:Alisha layer:Policydesigncharacteristics type:Compliance tag:Form_monitoring start:371 stop:388 text:energy statistics,\n",
       " annotator:Alisha layer:Technologyandapplicationspecificity type:EnergySpecificity tag:Energy_Other start:23 stop:38 text:energy products,\n",
       " annotator:Alisha layer:Technologyandapplicationspecificity type:EnergySpecificity tag:Energy_Other start:254 stop:260 text:energy,\n",
       " annotator:Alisha layer:Technologyandapplicationspecificity type:EnergySpecificity tag:Energy_Other start:307 stop:313 text:energy,\n",
       " annotator:Alisha layer:Technologyandapplicationspecificity type:EnergySpecificity tag:Energy_Other start:371 stop:377 text:energy,\n",
       " annotator:Fride layer:Policydesigncharacteristics type:Resource tag:Resource_Other start:73 stop:92 text:national statistics,\n",
       " annotator:Fride layer:Policydesigncharacteristics type:Resource tag:Resource_Other start:103 stop:122 text:national statistics,\n",
       " annotator:Fride layer:Policydesigncharacteristics type:Time tag:Time_Resources start:238 stop:244 text:annual,\n",
       " annotator:Fride layer:Policydesigncharacteristics type:Resource tag:Resource_Other start:254 stop:271 text:energy statistics,\n",
       " annotator:Fride layer:Policydesigncharacteristics type:Time tag:Time_Resources start:290 stop:297 text:monthly,\n",
       " annotator:Fride layer:Policydesigncharacteristics type:Resource tag:Resource_Other start:307 stop:324 text:energy statistics,\n",
       " annotator:Fride layer:Policydesigncharacteristics type:Time tag:Time_Resources start:343 stop:361 text:short-term monthly,\n",
       " annotator:Fride layer:Policydesigncharacteristics type:Resource tag:Resource_Other start:371 stop:388 text:energy statistics,\n",
       " annotator:Fride layer:Policydesigncharacteristics type:Resource tag:Resource_Other start:578 stop:582 text:data,\n",
       " annotator:Fride layer:Technologyandapplicationspecificity type:EnergySpecificity tag:Energy_Other start:23 stop:38 text:energy products,\n",
       " annotator:Onerva layer:Policydesigncharacteristics type:Compliance tag:Form_monitoring start:129 stop:137 text:reported,\n",
       " annotator:Alisha layer:Policydesigncharacteristics type:Reference tag:Ref_OtherPolicy start:201 stop:226 text:regulation (ec) no 322/97,\n",
       " annotator:Alisha layer:Policydesigncharacteristics type:Compliance tag:Form_monitoring start:235 stop:259 text:production of statistics,\n",
       " annotator:Alisha layer:Policydesigncharacteristics type:Compliance tag:Form_monitoring start:267 stop:291 text:production of statistics,\n",
       " annotator:Alisha layer:Policydesigncharacteristics type:Reference tag:Ref_OtherPolicy start:340 stop:365 text:regulation (ec) no 322/97,\n",
       " annotator:Alisha layer:Policydesigncharacteristics type:Actor tag:Authority_default start:374 stop:384 text:commission,\n",
       " annotator:Alisha layer:Policydesigncharacteristics type:Actor tag:Authority_default start:386 stop:394 text:eurostat,\n",
       " annotator:Alisha layer:Policydesigncharacteristics type:Actor tag:Authority_default start:407 stop:426 text:community authority,\n",
       " annotator:Alisha layer:Policydesigncharacteristics type:Reference tag:Ref_OtherPolicy start:475 stop:500 text:regulation (ec) no 322/97,\n",
       " annotator:Alisha layer:Policydesigncharacteristics type:Compliance tag:Form_monitoring start:640 stop:930 text:data aggregated at national level on the treatment or use of energy products, namely production, trade, stocks, transformation, consumption, and structural characteristics of the energy system such as installed capacities for electricity generation or production capacities for oil products,\n",
       " annotator:Alisha layer:Policydesigncharacteristics type:Compliance tag:Form_monitoring start:987 stop:1125 text:statistical quality: relevance, accuracy, timeliness and punctuality, accessibility and clarity, comparability, coherence and completeness,\n",
       " annotator:Alisha layer:Technologyandapplicationspecificity type:EnergySpecificity tag:Energy_Other start:509 stop:524 text:energy products,\n",
       " annotator:Alisha layer:Technologyandapplicationspecificity type:EnergySpecificity tag:Energy_Other start:531 stop:548 text:combustible fuels,\n",
       " annotator:Alisha layer:Technologyandapplicationspecificity type:EnergySpecificity tag:Energy_Other start:550 stop:554 text:heat,\n",
       " annotator:Alisha layer:Technologyandapplicationspecificity type:EnergySpecificity tag:Energy_LowCarbon start:556 stop:572 text:renewable energy,\n",
       " annotator:Alisha layer:Technologyandapplicationspecificity type:EnergySpecificity tag:Energy_Other start:574 stop:585 text:electricity,\n",
       " annotator:Alisha layer:Technologyandapplicationspecificity type:EnergySpecificity tag:Energy_Other start:590 stop:614 text:any other form of energy,\n",
       " annotator:Alisha layer:Technologyandapplicationspecificity type:ApplicationSpecificity tag:App_Other start:681 stop:779 text:treatment or use of energy products, namely production, trade, stocks, transformation, consumption,\n",
       " annotator:Alisha layer:Technologyandapplicationspecificity type:EnergySpecificity tag:Energy_Other start:701 stop:716 text:energy products,\n",
       " annotator:Alisha layer:Technologyandapplicationspecificity type:TechnologySpecificity tag:Tech_Other start:819 stop:832 text:energy system,\n",
       " annotator:Alisha layer:Technologyandapplicationspecificity type:EnergySpecificity tag:Energy_Other start:819 stop:825 text:energy,\n",
       " annotator:Alisha layer:Technologyandapplicationspecificity type:TechnologySpecificity tag:Tech_Other start:851 stop:888 text:capacities for electricity generation,\n",
       " annotator:Alisha layer:Technologyandapplicationspecificity type:EnergySpecificity tag:Energy_Other start:866 stop:877 text:electricity,\n",
       " annotator:Alisha layer:Technologyandapplicationspecificity type:ApplicationSpecificity tag:App_LowCarbon start:892 stop:930 text:production capacities for oil products,\n",
       " annotator:Alisha layer:Technologyandapplicationspecificity type:TechnologySpecificity tag:Tech_Other start:903 stop:930 text:capacities for oil products,\n",
       " annotator:Alisha layer:Technologyandapplicationspecificity type:EnergySpecificity tag:Energy_Other start:918 stop:930 text:oil products,\n",
       " annotator:Fride layer:Policydesigncharacteristics type:Resource tag:Resource_Other start:106 stop:126 text:community statistics,\n",
       " annotator:Fride layer:Policydesigncharacteristics type:Resource tag:Resource_Other start:133 stop:153 text:community statistics,\n",
       " annotator:Fride layer:Policydesigncharacteristics type:Reference tag:Ref_OtherPolicy start:201 stop:226 text:regulation (ec) no 322/97,\n",
       " annotator:Fride layer:Policydesigncharacteristics type:Resource tag:Resource_Other start:249 stop:259 text:statistics,\n",
       " annotator:Fride layer:Policydesigncharacteristics type:Resource tag:Resource_Other start:281 stop:291 text:statistics,\n",
       " annotator:Fride layer:Policydesigncharacteristics type:Reference tag:Ref_OtherPolicy start:340 stop:365 text:regulation (ec) no 322/97,\n",
       " annotator:Fride layer:Policydesigncharacteristics type:Actor tag:Authority_default start:374 stop:395 text:commission (eurostat),\n",
       " annotator:Fride layer:Policydesigncharacteristics type:Actor tag:Authority_default start:407 stop:426 text:community authority,\n",
       " annotator:Fride layer:Policydesigncharacteristics type:Reference tag:Ref_OtherPolicy start:475 stop:500 text:regulation (ec) no 322/97,\n",
       " annotator:Fride layer:Policydesigncharacteristics type:Resource tag:Resource_Other start:640 stop:644 text:data,\n",
       " annotator:Fride layer:Policydesigncharacteristics type:Resource tag:Resource_Other start:950 stop:954 text:data,\n",
       " annotator:Fride layer:Technologyandapplicationspecificity type:EnergySpecificity tag:Energy_Other start:509 stop:524 text:energy products,\n",
       " annotator:Fride layer:Technologyandapplicationspecificity type:EnergySpecificity tag:Energy_Other start:531 stop:548 text:combustible fuels,\n",
       " annotator:Fride layer:Technologyandapplicationspecificity type:EnergySpecificity tag:Energy_Other start:550 stop:554 text:heat,\n",
       " annotator:Fride layer:Technologyandapplicationspecificity type:EnergySpecificity tag:Energy_LowCarbon start:556 stop:572 text:renewable energy,\n",
       " annotator:Fride layer:Technologyandapplicationspecificity type:EnergySpecificity tag:Energy_LowCarbon start:574 stop:585 text:electricity,\n",
       " annotator:Fride layer:Technologyandapplicationspecificity type:EnergySpecificity tag:Energy_Other start:594 stop:614 text:other form of energy,\n",
       " annotator:Fride layer:Technologyandapplicationspecificity type:EnergySpecificity tag:Energy_Other start:701 stop:716 text:energy products,\n",
       " annotator:Fride layer:Technologyandapplicationspecificity type:TechnologySpecificity tag:Tech_Other start:725 stop:735 text:production,\n",
       " annotator:Fride layer:Technologyandapplicationspecificity type:ApplicationSpecificity tag:App_Other start:737 stop:742 text:trade,\n",
       " annotator:Fride layer:Technologyandapplicationspecificity type:ApplicationSpecificity tag:App_Other start:744 stop:750 text:stocks,\n",
       " annotator:Fride layer:Technologyandapplicationspecificity type:TechnologySpecificity tag:Tech_Other start:752 stop:766 text:transformation,\n",
       " annotator:Fride layer:Technologyandapplicationspecificity type:ApplicationSpecificity tag:App_Other start:768 stop:779 text:consumption,\n",
       " annotator:Fride layer:Technologyandapplicationspecificity type:TechnologySpecificity tag:Tech_Other start:819 stop:832 text:energy system,\n",
       " annotator:Fride layer:Technologyandapplicationspecificity type:TechnologySpecificity tag:Tech_Other start:841 stop:861 text:installed capacities,\n",
       " annotator:Fride layer:Technologyandapplicationspecificity type:TechnologySpecificity tag:Tech_LowCarbon start:866 stop:888 text:electricity generation,\n",
       " annotator:Fride layer:Technologyandapplicationspecificity type:EnergySpecificity tag:Energy_LowCarbon start:866 stop:877 text:electricity,\n",
       " annotator:Fride layer:Technologyandapplicationspecificity type:TechnologySpecificity tag:Tech_Other start:892 stop:930 text:production capacities for oil products,\n",
       " annotator:Fride layer:Technologyandapplicationspecificity type:EnergySpecificity tag:Energy_Other start:918 stop:930 text:oil products,\n",
       " annotator:Onerva layer:Policydesigncharacteristics type:Reference tag:Ref_OtherPolicy start:201 stop:226 text:regulation (ec) no 322/97,\n",
       " annotator:Onerva layer:Policydesigncharacteristics type:Reference tag:Ref_OtherPolicy start:340 stop:365 text:regulation (ec) no 322/97,\n",
       " annotator:Onerva layer:Policydesigncharacteristics type:Actor tag:Authority_default start:374 stop:395 text:commission (eurostat),\n",
       " annotator:Onerva layer:Policydesigncharacteristics type:Actor tag:Authority_default start:407 stop:426 text:community authority,\n",
       " annotator:Onerva layer:Policydesigncharacteristics type:Reference tag:Ref_OtherPolicy start:475 stop:500 text:regulation (ec) no 322/97,\n",
       " annotator:Onerva layer:Technologyandapplicationspecificity type:TechnologySpecificity tag:Tech_Other start:509 stop:524 text:energy products,\n",
       " annotator:Onerva layer:Technologyandapplicationspecificity type:EnergySpecificity tag:Energy_Other start:531 stop:548 text:combustible fuels,\n",
       " annotator:Onerva layer:Technologyandapplicationspecificity type:EnergySpecificity tag:Energy_Other start:550 stop:554 text:heat,\n",
       " annotator:Onerva layer:Technologyandapplicationspecificity type:EnergySpecificity tag:Energy_LowCarbon start:556 stop:572 text:renewable energy,\n",
       " annotator:Onerva layer:Technologyandapplicationspecificity type:EnergySpecificity tag:Energy_Other start:574 stop:585 text:electricity,\n",
       " annotator:Onerva layer:Technologyandapplicationspecificity type:EnergySpecificity tag:Energy_Other start:590 stop:614 text:any other form of energy,\n",
       " annotator:Onerva layer:Technologyandapplicationspecificity type:TechnologySpecificity tag:Tech_LowCarbon start:701 stop:716 text:energy products,\n",
       " annotator:Onerva layer:Technologyandapplicationspecificity type:EnergySpecificity tag:Energy_Other start:918 stop:921 text:oil]"
      ]
     },
     "execution_count": 77,
     "metadata": {},
     "output_type": "execute_result"
    }
   ],
   "source": [
    "test_dir = repository('EU_32008R1099')\n",
    "test_corpus.get_span_list(conditional_rep = test_dir, columns = 'annotators')\n"
   ]
  },
  {
   "cell_type": "markdown",
   "metadata": {},
   "source": [
    "If I don't want to specify the item and the value, so match all the tags that match the conditional repository, I can put 'None':"
   ]
  },
  {
   "cell_type": "code",
   "execution_count": 78,
   "metadata": {},
   "outputs": [
    {
     "data": {
      "text/plain": [
       "[annotator:Curation layer:Policydesigncharacteristics type:Time tag:Time_InEffect start:76 stop:134 text:20th day following its publication in the official journal,\n",
       " annotator:Curation layer:Policydesigncharacteristics type:Time tag:Time_InEffect start:76 stop:110 text:20th day following its publication,\n",
       " annotator:Curation layer:Policydesigncharacteristics type:Actor tag:Addressee_default start:239 stop:252 text:member states,\n",
       " annotator:Curation layer:Policydesigncharacteristics type:Time tag:Time_Monitoring start:11 stop:17 text:annual,\n",
       " annotator:Curation layer:Policydesigncharacteristics type:Compliance tag:Form_monitoring start:18 stop:36 text:nuclear statistics,\n",
       " annotator:Curation layer:Policydesigncharacteristics type:Actor tag:Authority_monitoring start:42 stop:52 text:commission,\n",
       " annotator:Curation layer:Policydesigncharacteristics type:Actor tag:Authority_monitoring start:54 stop:62 text:eurostat,\n",
       " annotator:Curation layer:Policydesigncharacteristics type:Actor tag:Addressee_sector start:95 stop:116 text:nuclear energy sector,\n",
       " annotator:Curation layer:Policydesigncharacteristics type:Time tag:Time_Monitoring start:144 stop:150 text:annual,\n",
       " annotator:Curation layer:Policydesigncharacteristics type:Compliance tag:Form_monitoring start:151 stop:169 text:nuclear statistics,\n",
       " annotator:Curation layer:Policydesigncharacteristics type:Compliance tag:Form_monitoring start:185 stop:193 text:reported,\n",
       " annotator:Curation layer:Policydesigncharacteristics type:Time tag:Time_Monitoring start:211 stop:228 text:from 2009 onwards,\n",
       " annotator:Curation layer:Policydesigncharacteristics type:Time tag:Time_Monitoring start:216 stop:220 text:2009,\n",
       " annotator:Curation layer:Policydesigncharacteristics type:Time tag:Time_Monitoring start:256 stop:271 text:reported period,\n",
       " annotator:Curation layer:Policydesigncharacteristics type:Time tag:Time_Monitoring start:484 stop:490 text:annual,\n",
       " annotator:Curation layer:Policydesigncharacteristics type:Compliance tag:Form_monitoring start:491 stop:509 text:nuclear statistics,\n",
       " annotator:Curation layer:Policydesigncharacteristics type:Compliance tag:Form_monitoring start:21 stop:38 text:energy statistics,\n",
       " annotator:Curation layer:Policydesigncharacteristics type:Compliance tag:Form_monitoring start:43 stop:78 text:final energy consumption statistics,\n",
       " annotator:Curation layer:Policydesigncharacteristics type:Objective tag:Objective_QualIntention_noCCM start:100 stop:181 text:improving the quality of renewable energy and final energy consumption statistics,\n",
       " annotator:Curation layer:Policydesigncharacteristics type:Actor tag:Authority_monitoring start:187 stop:208 text:commission (eurostat),\n",
       " annotator:Curation layer:Policydesigncharacteristics type:Actor tag:Addressee_default start:187 stop:208 text:commission (eurostat),\n",
       " annotator:Curation layer:Policydesigncharacteristics type:Actor tag:Authority_monitoring start:187 stop:197 text:commission,\n",
       " annotator:Curation layer:Policydesigncharacteristics type:Actor tag:Addressee_default start:187 stop:197 text:commission,\n",
       " annotator:Curation layer:Policydesigncharacteristics type:Actor tag:Authority_monitoring start:199 stop:207 text:eurostat,\n",
       " annotator:Curation layer:Policydesigncharacteristics type:Actor tag:Addressee_default start:199 stop:207 text:eurostat,\n",
       " annotator:Curation layer:Policydesigncharacteristics type:Actor tag:Authority_monitoring start:236 stop:249 text:member states,\n",
       " annotator:Curation layer:Policydesigncharacteristics type:Actor tag:Addressee_default start:236 stop:249 text:member states,\n",
       " annotator:Curation layer:Policydesigncharacteristics type:Resource tag:Resource_Other start:278 stop:288 text:statistics,\n",
       " annotator:Curation layer:Policydesigncharacteristics type:Compliance tag:Form_monitoring start:278 stop:288 text:statistics,\n",
       " annotator:Curation layer:Policydesigncharacteristics type:Compliance tag:Form_monitoring start:393 stop:420 text:renewable energy statistics,\n",
       " annotator:Curation layer:Policydesigncharacteristics type:Resource tag:Resource_Other start:393 stop:420 text:renewable energy statistics,\n",
       " annotator:Curation layer:Policydesigncharacteristics type:Resource tag:Resource_Other start:480 stop:490 text:statistics,\n",
       " annotator:Curation layer:Policydesigncharacteristics type:Compliance tag:Form_monitoring start:480 stop:490 text:statistics,\n",
       " annotator:Curation layer:Policydesigncharacteristics type:Time tag:Time_Monitoring start:524 stop:532 text:annually,\n",
       " annotator:Curation layer:Policydesigncharacteristics type:Actor tag:Authority_monitoring start:569 stop:590 text:commission (eurostat),\n",
       " annotator:Curation layer:Policydesigncharacteristics type:Actor tag:Authority_monitoring start:569 stop:579 text:commission,\n",
       " annotator:Curation layer:Policydesigncharacteristics type:Actor tag:Authority_monitoring start:581 stop:589 text:eurostat,\n",
       " annotator:Curation layer:Policydesigncharacteristics type:Resource tag:Resource_Other start:625 stop:635 text:statistics,\n",
       " annotator:Curation layer:Policydesigncharacteristics type:Resource tag:Resource_Other start:779 stop:814 text:final energy consumption statistics,\n",
       " annotator:Curation layer:Policydesigncharacteristics type:Compliance tag:Form_monitoring start:779 stop:814 text:final energy consumption statistics,\n",
       " annotator:Curation layer:Policydesigncharacteristics type:Compliance tag:Form_monitoring start:884 stop:900 text:existing studies,\n",
       " annotator:Curation layer:Policydesigncharacteristics type:Compliance tag:Form_monitoring start:905 stop:930 text:feasibility pilot studies,\n",
       " annotator:Curation layer:Policydesigncharacteristics type:Compliance tag:Form_monitoring start:943 stop:964 text:cost-benefit analyses,\n",
       " annotator:Curation layer:Policydesigncharacteristics type:Compliance tag:Form_monitoring start:990 stop:1000 text:evaluating,\n",
       " annotator:Curation layer:Policydesigncharacteristics type:Compliance tag:Form_monitoring start:1021 stop:1034 text:pilot studies,\n",
       " annotator:Curation layer:Policydesigncharacteristics type:Compliance tag:Form_monitoring start:1039 stop:1060 text:cost-benefit analyses,\n",
       " annotator:Curation layer:Policydesigncharacteristics type:Resource tag:Resource_Other start:1212 stop:1222 text:statistics,\n",
       " annotator:Curation layer:Policydesigncharacteristics type:Resource tag:Resource_Other start:1276 stop:1303 text:renewable energy statistics,\n",
       " annotator:Curation layer:Policydesigncharacteristics type:Resource tag:Resource_Other start:1425 stop:1460 text:final energy consumption statistics,\n",
       " annotator:Curation layer:Policydesigncharacteristics type:Compliance tag:Form_monitoring start:402 stop:421 text:national statistics,\n",
       " annotator:Curation layer:Policydesigncharacteristics type:Resource tag:Resource_Other start:402 stop:421 text:national statistics,\n",
       " annotator:Curation layer:Policydesigncharacteristics type:Time tag:Time_Monitoring start:607 stop:613 text:annual,\n",
       " annotator:Curation layer:Policydesigncharacteristics type:Compliance tag:Form_monitoring start:614 stop:632 text:nuclear statistics,\n",
       " annotator:Curation layer:Policydesigncharacteristics type:Resource tag:Resource_Other start:614 stop:632 text:nuclear statistics,\n",
       " annotator:Curation layer:Policydesigncharacteristics type:Resource tag:Resource_Other start:676 stop:703 text:renewable energy statistics,\n",
       " annotator:Curation layer:Policydesigncharacteristics type:Compliance tag:Form_monitoring start:676 stop:703 text:renewable energy statistics,\n",
       " annotator:Curation layer:Policydesigncharacteristics type:Resource tag:Resource_Other start:768 stop:803 text:final energy consumption statistics,\n",
       " annotator:Curation layer:Policydesigncharacteristics type:Compliance tag:Form_monitoring start:768 stop:803 text:final energy consumption statistics,\n",
       " annotator:Curation layer:Policydesigncharacteristics type:Compliance tag:Form_monitoring start:1051 stop:1060 text:reporting,\n",
       " annotator:Curation layer:Policydesigncharacteristics type:Compliance tag:Form_monitoring start:11 stop:29 text:quality assessment,\n",
       " annotator:Curation layer:Policydesigncharacteristics type:Compliance tag:Form_monitoring start:34 stop:41 text:reports,\n",
       " annotator:Curation layer:Policydesigncharacteristics type:Actor tag:Addressee_monitored start:48 stop:61 text:member states,\n",
       " annotator:Curation layer:Policydesigncharacteristics type:Reference tag:Ref_OtherPolicy start:275 stop:306 text:commission decision 2005/166/ec,\n",
       " annotator:Curation layer:Policydesigncharacteristics type:Reference tag:Ref_OtherPolicy start:286 stop:306 text:decision 2005/166/ec,\n",
       " annotator:Curation layer:Policydesigncharacteristics type:Reference tag:Ref_OtherPolicy start:366 stop:389 text:decision no 280/2004/ec,\n",
       " annotator:Curation layer:Policydesigncharacteristics type:Actor tag:Authority_legislative start:397 stop:416 text:european parliament,\n",
       " annotator:Curation layer:Policydesigncharacteristics type:Actor tag:Authority_legislative start:428 stop:435 text:council,\n",
       " annotator:Curation layer:Policydesigncharacteristics type:Objective tag:Objective_QualIntention start:449 stop:548 text:mechanism for monitoring community greenhouse gas emissions and for implementing the kyoto protocol,\n",
       " annotator:Curation layer:Policydesigncharacteristics type:Compliance tag:Form_monitoring start:449 stop:473 text:mechanism for monitoring,\n",
       " annotator:Curation layer:Policydesigncharacteristics type:Compliance tag:Form_monitoring start:463 stop:473 text:monitoring,\n",
       " annotator:Curation layer:Policydesigncharacteristics type:Reference tag:Ref_Strategy_Agreement start:534 stop:548 text:kyoto protocol,\n",
       " annotator:Curation layer:Policydesigncharacteristics type:Resource tag:Resource_Other start:661 stop:665 text:data,\n",
       " annotator:Curation layer:Policydesigncharacteristics type:Compliance tag:Form_monitoring start:672 stop:683 text:transmitted,\n",
       " annotator:Curation layer:Policydesigncharacteristics type:Resource tag:Resource_Other start:738 stop:748 text:statistics,\n",
       " annotator:Curation layer:Policydesigncharacteristics type:Compliance tag:Form_monitoring start:738 stop:748 text:statistics,\n",
       " annotator:Curation layer:Policydesigncharacteristics type:Actor tag:Addressee_resource start:789 stop:794 text:users,\n",
       " annotator:Curation layer:Policydesigncharacteristics type:Resource tag:Resource_Other start:959 stop:970 text:information,\n",
       " annotator:Curation layer:Policydesigncharacteristics type:Compliance tag:Form_monitoring start:959 stop:970 text:information,\n",
       " annotator:Curation layer:Policydesigncharacteristics type:Time tag:Time_Monitoring start:1070 stop:1101 text:date of the release of the data,\n",
       " annotator:Curation layer:Policydesigncharacteristics type:Resource tag:Resource_Other start:1097 stop:1101 text:data,\n",
       " annotator:Curation layer:Policydesigncharacteristics type:Time tag:Time_Compliance start:1110 stop:1121 text:target date,\n",
       " annotator:Curation layer:Policydesigncharacteristics type:Actor tag:Addressee_resource start:1248 stop:1253 text:users,\n",
       " annotator:Curation layer:Policydesigncharacteristics type:Resource tag:Resource_Other start:1284 stop:1288 text:data,\n",
       " annotator:Curation layer:Policydesigncharacteristics type:Resource tag:Resource_Other start:1447 stop:1457 text:statistics,\n",
       " annotator:Curation layer:Policydesigncharacteristics type:Resource tag:Resource_Other start:1583 stop:1587 text:data,\n",
       " annotator:Curation layer:Policydesigncharacteristics type:Time tag:Time_Monitoring start:1658 stop:1674 text:every five years,\n",
       " annotator:Curation layer:Policydesigncharacteristics type:Actor tag:Addressee_monitored start:1676 stop:1689 text:member states,\n",
       " annotator:Curation layer:Policydesigncharacteristics type:Actor tag:Authority_monitoring start:1708 stop:1729 text:commission (eurostat),\n",
       " annotator:Curation layer:Policydesigncharacteristics type:Actor tag:Authority_monitoring start:1708 stop:1718 text:commission,\n",
       " annotator:Curation layer:Policydesigncharacteristics type:Actor tag:Authority_monitoring start:1720 stop:1728 text:eurostat,\n",
       " annotator:Curation layer:Policydesigncharacteristics type:Compliance tag:Form_monitoring start:1737 stop:1743 text:report,\n",
       " annotator:Curation layer:Policydesigncharacteristics type:Resource tag:Resource_Other start:1766 stop:1770 text:data,\n",
       " annotator:Curation layer:Policydesigncharacteristics type:Time tag:Time_Monitoring start:1851 stop:1923 text:within six months of receipt of a request from the commission (eurostat),\n",
       " annotator:Curation layer:Policydesigncharacteristics type:Time tag:Time_Compliance start:1851 stop:1868 text:within six months,\n",
       " annotator:Curation layer:Policydesigncharacteristics type:Actor tag:Authority_monitoring start:1902 stop:1923 text:commission (eurostat),\n",
       " annotator:Curation layer:Policydesigncharacteristics type:Actor tag:Authority_monitoring start:1902 stop:1912 text:commission,\n",
       " annotator:Curation layer:Policydesigncharacteristics type:Actor tag:Authority_monitoring start:1914 stop:1922 text:eurostat,\n",
       " annotator:Curation layer:Policydesigncharacteristics type:Compliance tag:Form_monitoring start:1953 stop:1959 text:assess,\n",
       " annotator:Curation layer:Policydesigncharacteristics type:Resource tag:Resource_Other start:1979 stop:1983 text:data,\n",
       " annotator:Curation layer:Policydesigncharacteristics type:Actor tag:Addressee_monitored start:1997 stop:2010 text:member states,\n",
       " annotator:Curation layer:Policydesigncharacteristics type:Actor tag:Authority_monitoring start:2029 stop:2050 text:commission (eurostat),\n",
       " annotator:Curation layer:Policydesigncharacteristics type:Actor tag:Authority_monitoring start:2029 stop:2039 text:commission,\n",
       " annotator:Curation layer:Policydesigncharacteristics type:Actor tag:Authority_monitoring start:2041 stop:2049 text:eurostat,\n",
       " annotator:Curation layer:Policydesigncharacteristics type:Compliance tag:Form_monitoring start:2053 stop:2059 text:report,\n",
       " annotator:Curation layer:Policydesigncharacteristics type:Actor tag:Addressee_monitored start:48 stop:61 text:member states,\n",
       " annotator:Curation layer:Policydesigncharacteristics type:Actor tag:Addressee_default start:48 stop:61 text:member states,\n",
       " annotator:Curation layer:Policydesigncharacteristics type:Actor tag:Authority_monitoring start:84 stop:94 text:commission,\n",
       " annotator:Curation layer:Policydesigncharacteristics type:Actor tag:Authority_monitoring start:96 stop:104 text:eurostat,\n",
       " annotator:Curation layer:Policydesigncharacteristics type:Compliance tag:Form_monitoring start:110 stop:129 text:national statistics,\n",
       " annotator:Curation layer:Policydesigncharacteristics type:Resource tag:Resource_Other start:110 stop:129 text:national statistics,\n",
       " annotator:Curation layer:Policydesigncharacteristics type:Time tag:Time_Monitoring start:228 stop:239 text:time limits,\n",
       " annotator:Curation layer:Policydesigncharacteristics type:Compliance tag:Form_monitoring start:366 stop:385 text:national statistics,\n",
       " annotator:Curation layer:Policydesigncharacteristics type:Resource tag:Resource_Other start:366 stop:385 text:national statistics,\n",
       " annotator:Curation layer:Policydesigncharacteristics type:Actor tag:Addressee_monitored start:528 stop:540 text:member state,\n",
       " annotator:Curation layer:Policydesigncharacteristics type:Actor tag:Authority_monitoring start:601 stop:611 text:commission,\n",
       " annotator:Curation layer:Policydesigncharacteristics type:Actor tag:Authority_default start:601 stop:611 text:commission,\n",
       " annotator:Curation layer:Policydesigncharacteristics type:Resource tag:Resource_Other start:709 stop:728 text:national statistics,\n",
       " annotator:Curation layer:Policydesigncharacteristics type:Compliance tag:Form_monitoring start:709 stop:728 text:national statistics,\n",
       " annotator:Curation layer:Policydesigncharacteristics type:Actor tag:Addressee_default start:814 stop:835 text:commission (eurostat),\n",
       " annotator:Curation layer:Policydesigncharacteristics type:Actor tag:Authority_monitoring start:814 stop:824 text:commission,\n",
       " annotator:Curation layer:Policydesigncharacteristics type:Actor tag:Authority_monitoring start:826 stop:834 text:eurostat,\n",
       " annotator:Curation layer:Policydesigncharacteristics type:Time tag:Time_Monitoring start:854 stop:860 text:yearly,\n",
       " annotator:Curation layer:Policydesigncharacteristics type:Compliance tag:Form_monitoring start:861 stop:878 text:energy statistics,\n",
       " annotator:Curation layer:Policydesigncharacteristics type:Resource tag:Resource_Other start:861 stop:878 text:energy statistics,\n",
       " annotator:Curation layer:Policydesigncharacteristics type:Time tag:Time_Compliance start:882 stop:941 text:31 january of the second year following the reported period,\n",
       " annotator:Curation layer:Policydesigncharacteristics type:Objective tag:Objective_QualIntention_noCCM start:97 stop:183 text:production, transmission, evaluation and dissemination of comparable energy statistics,\n",
       " annotator:Curation layer:Policydesigncharacteristics type:Objective tag:Objective_QualIntention_noCCM start:155 stop:200 text:comparable energy statistics in the community,\n",
       " annotator:Curation layer:Policydesigncharacteristics type:Resource tag:Resource_Other start:166 stop:183 text:energy statistics,\n",
       " annotator:Curation layer:Policydesigncharacteristics type:Actor tag:Addressee_sector start:191 stop:200 text:community,\n",
       " annotator:Curation layer:Policydesigncharacteristics type:Actor tag:Addressee_default start:191 stop:200 text:community,\n",
       " annotator:Curation layer:Policydesigncharacteristics type:Actor tag:Addressee_sector start:311 stop:320 text:community,\n",
       " annotator:Curation layer:Policydesigncharacteristics type:Actor tag:Addressee_default start:311 stop:320 text:community,\n",
       " annotator:Curation layer:Policydesigncharacteristics type:Actor tag:Authority_default start:12 stop:21 text:committee,\n",
       " annotator:Curation layer:Policydesigncharacteristics type:Actor tag:Authority_default start:32 stop:42 text:commission,\n",
       " annotator:Curation layer:Policydesigncharacteristics type:Actor tag:Authority_monitoring start:68 stop:99 text:statistical programme committee,\n",
       " annotator:Curation layer:Policydesigncharacteristics type:Reference tag:Ref_OtherPolicy start:188 stop:208 text:decision 1999/468/ec,\n",
       " annotator:Curation layer:Policydesigncharacteristics type:Reference tag:Ref_OtherPolicy start:344 stop:364 text:decision 1999/468/ec,\n",
       " annotator:Curation layer:Policydesigncharacteristics type:Reference tag:Ref_OtherPolicy start:476 stop:496 text:decision 1999/468/ec,\n",
       " annotator:Curation layer:Policydesigncharacteristics type:Time tag:Time_Compliance start:506 stop:518 text:three months,\n",
       " annotator:Curation layer:Policydesigncharacteristics type:Time tag:Time_Monitoring start:11 stop:39 text:time reference and frequency,\n",
       " annotator:Curation layer:Policydesigncharacteristics type:Actor tag:Addressee_monitored start:41 stop:54 text:member states,\n",
       " annotator:Curation layer:Policydesigncharacteristics type:Time tag:Time_InEffect start:112 stop:188 text:the beginning of the calendar year following the adoption of this regulation,\n",
       " annotator:Curation layer:Policydesigncharacteristics type:Time tag:Time_InEffect start:116 stop:146 text:beginning of the calendar year,\n",
       " annotator:Curation layer:Policydesigncharacteristics type:Time tag:Time_Monitoring start:241 stop:252 text:frequencies,\n",
       " annotator:Curation layer:Policydesigncharacteristics type:Actor tag:Addressee_default start:95 stop:106 text:respondents,\n",
       " annotator:Curation layer:Policydesigncharacteristics type:Actor tag:Addressee_monitored start:145 stop:158 text:member states,\n",
       " annotator:Curation layer:Policydesigncharacteristics type:Compliance tag:Form_monitoring start:165 stop:177 text:compile data,\n",
       " annotator:Curation layer:Policydesigncharacteristics type:Actor tag:Addressee_monitored start:233 stop:242 text:community,\n",
       " annotator:Curation layer:Policydesigncharacteristics type:Compliance tag:Form_monitoring start:286 stop:305 text:statistical surveys,\n",
       " annotator:Curation layer:Policydesigncharacteristics type:Actor tag:Addressee_sector start:323 stop:431 text:primary and transformed energy producers and traders, distributors and transporters, importers and exporters,\n",
       " annotator:Curation layer:Policydesigncharacteristics type:Actor tag:Addressee_sector start:347 stop:375 text:energy producers and traders,\n",
       " annotator:Curation layer:Policydesigncharacteristics type:Actor tag:Addressee_sector start:354 stop:363 text:producers,\n",
       " annotator:Curation layer:Policydesigncharacteristics type:Actor tag:Addressee_sector start:368 stop:375 text:traders,\n",
       " annotator:Curation layer:Policydesigncharacteristics type:Actor tag:Addressee_sector start:377 stop:406 text:distributors and transporters,\n",
       " annotator:Curation layer:Policydesigncharacteristics type:Actor tag:Addressee_sector start:377 stop:389 text:distributors,\n",
       " annotator:Curation layer:Policydesigncharacteristics type:Actor tag:Addressee_sector start:394 stop:406 text:transporters,\n",
       " annotator:Curation layer:Policydesigncharacteristics type:Actor tag:Addressee_sector start:408 stop:450 text:importers and exporters of energy products,\n",
       " annotator:Curation layer:Policydesigncharacteristics type:Actor tag:Addressee_sector start:408 stop:417 text:importers,\n",
       " annotator:Curation layer:Policydesigncharacteristics type:Actor tag:Addressee_sector start:422 stop:431 text:exporters,\n",
       " annotator:Curation layer:Policydesigncharacteristics type:Actor tag:Addressee_sector start:534 stop:556 text:manufacturing industry,\n",
       " annotator:Curation layer:Policydesigncharacteristics type:Actor tag:Addressee_sector start:558 stop:567 text:transport,\n",
       " annotator:Curation layer:Policydesigncharacteristics type:Actor tag:Addressee_sector start:573 stop:586 text:other sectors,\n",
       " annotator:Curation layer:Policydesigncharacteristics type:Actor tag:Addressee_sector start:598 stop:608 text:households,\n",
       " annotator:Curation layer:Policydesigncharacteristics type:Compliance tag:Form_monitoring start:622 stop:655 text:statistical estimation procedures,\n",
       " annotator:Curation layer:Policydesigncharacteristics type:Compliance tag:Form_monitoring start:622 stop:644 text:statistical estimation,\n",
       " annotator:Curation layer:Policydesigncharacteristics type:Actor tag:Addressee_default start:716 stop:761 text:regulators of the electricity and gas markets,\n",
       " annotator:Curation layer:Policydesigncharacteristics type:Actor tag:Addressee_sector start:734 stop:761 text:electricity and gas markets,\n",
       " annotator:Curation layer:Policydesigncharacteristics type:Actor tag:Addressee_default start:769 stop:782 text:member states,\n",
       " annotator:Curation layer:Policydesigncharacteristics type:Compliance tag:Form_monitoring start:832 stop:841 text:reporting,\n",
       " annotator:Curation layer:Policydesigncharacteristics type:Compliance tag:Form_monitoring start:869 stop:888 text:national statistics,\n",
       " annotator:Curation layer:Policydesigncharacteristics type:Resource tag:Resource_Other start:869 stop:888 text:national statistics,\n",
       " annotator:Curation layer:Policydesigncharacteristics type:Compliance tag:Form_monitoring start:73 stop:92 text:national statistics,\n",
       " annotator:Curation layer:Policydesigncharacteristics type:Resource tag:Resource_Other start:73 stop:92 text:national statistics,\n",
       " annotator:Curation layer:Policydesigncharacteristics type:Compliance tag:Form_monitoring start:103 stop:122 text:national statistics,\n",
       " annotator:Curation layer:Policydesigncharacteristics type:Resource tag:Resource_Other start:103 stop:122 text:national statistics,\n",
       " annotator:Curation layer:Policydesigncharacteristics type:Compliance tag:Form_monitoring start:129 stop:137 text:reported,\n",
       " annotator:Curation layer:Policydesigncharacteristics type:Time tag:Time_Monitoring start:238 stop:244 text:annual,\n",
       " annotator:Curation layer:Policydesigncharacteristics type:Time tag:Time_Resources start:238 stop:244 text:annual,\n",
       " annotator:Curation layer:Policydesigncharacteristics type:Compliance tag:Form_monitoring start:254 stop:271 text:energy statistics,\n",
       " annotator:Curation layer:Policydesigncharacteristics type:Resource tag:Resource_Other start:254 stop:271 text:energy statistics,\n",
       " annotator:Curation layer:Policydesigncharacteristics type:Time tag:Time_Monitoring start:290 stop:297 text:monthly,\n",
       " annotator:Curation layer:Policydesigncharacteristics type:Time tag:Time_Resources start:290 stop:297 text:monthly,\n",
       " annotator:Curation layer:Policydesigncharacteristics type:Compliance tag:Form_monitoring start:307 stop:324 text:energy statistics,\n",
       " annotator:Curation layer:Policydesigncharacteristics type:Resource tag:Resource_Other start:307 stop:324 text:energy statistics,\n",
       " annotator:Curation layer:Policydesigncharacteristics type:Time tag:Time_Monitoring start:343 stop:361 text:short-term monthly,\n",
       " annotator:Curation layer:Policydesigncharacteristics type:Time tag:Time_Resources start:343 stop:361 text:short-term monthly,\n",
       " annotator:Curation layer:Policydesigncharacteristics type:Compliance tag:Form_monitoring start:371 stop:388 text:energy statistics,\n",
       " annotator:Curation layer:Policydesigncharacteristics type:Resource tag:Resource_Other start:371 stop:388 text:energy statistics,\n",
       " annotator:Curation layer:Policydesigncharacteristics type:Resource tag:Resource_Other start:106 stop:126 text:community statistics,\n",
       " annotator:Curation layer:Policydesigncharacteristics type:Resource tag:Resource_Other start:133 stop:153 text:community statistics,\n",
       " annotator:Curation layer:Policydesigncharacteristics type:Reference tag:Ref_OtherPolicy start:201 stop:226 text:regulation (ec) no 322/97,\n",
       " annotator:Curation layer:Policydesigncharacteristics type:Resource tag:Resource_Other start:249 stop:259 text:statistics,\n",
       " annotator:Curation layer:Policydesigncharacteristics type:Resource tag:Resource_Other start:281 stop:291 text:statistics,\n",
       " annotator:Curation layer:Policydesigncharacteristics type:Reference tag:Ref_OtherPolicy start:340 stop:365 text:regulation (ec) no 322/97,\n",
       " annotator:Curation layer:Policydesigncharacteristics type:Actor tag:Authority_default start:374 stop:395 text:commission (eurostat),\n",
       " annotator:Curation layer:Policydesigncharacteristics type:Actor tag:Authority_default start:374 stop:384 text:commission,\n",
       " annotator:Curation layer:Policydesigncharacteristics type:Actor tag:Authority_default start:386 stop:394 text:eurostat,\n",
       " annotator:Curation layer:Policydesigncharacteristics type:Actor tag:Authority_default start:407 stop:426 text:community authority,\n",
       " annotator:Curation layer:Policydesigncharacteristics type:Reference tag:Ref_OtherPolicy start:475 stop:500 text:regulation (ec) no 322/97]"
      ]
     },
     "execution_count": 78,
     "metadata": {},
     "output_type": "execute_result"
    }
   ],
   "source": [
    "test_corpus.get_span_list(conditional_rep = test_dir, item = 'layer', value = 'Policydesigncharacteristics')"
   ]
  },
  {
   "cell_type": "markdown",
   "metadata": {},
   "source": [
    "All the other member functions are based on the Corpus.get_tag_list member function, they also take the same inputs. \n",
    "\n",
    "get_span_distro(self, conditional_rep, item, value, return_format) returns the distribution of spans of a tag_list either in dict{span:count} or list format. The lenght of the span can be calculated on character or token level:"
   ]
  },
  {
   "cell_type": "code",
   "execution_count": 79,
   "metadata": {},
   "outputs": [
    {
     "data": {
      "text/plain": [
       "{10: 32,\n",
       " 19: 17,\n",
       " 20: 16,\n",
       " 13: 14,\n",
       " 8: 14,\n",
       " 9: 14,\n",
       " 17: 13,\n",
       " 21: 12,\n",
       " 11: 11,\n",
       " 6: 10,\n",
       " 18: 8,\n",
       " 4: 8,\n",
       " 15: 7,\n",
       " 35: 6,\n",
       " 27: 6,\n",
       " 12: 6,\n",
       " 7: 5,\n",
       " 16: 4,\n",
       " 25: 4,\n",
       " 5: 4,\n",
       " 31: 3,\n",
       " 22: 3,\n",
       " 23: 2,\n",
       " 14: 2,\n",
       " 24: 2,\n",
       " 45: 2,\n",
       " 36: 2,\n",
       " 28: 2,\n",
       " 58: 1,\n",
       " 34: 1,\n",
       " 81: 1,\n",
       " 99: 1,\n",
       " 72: 1,\n",
       " 59: 1,\n",
       " 86: 1,\n",
       " 76: 1,\n",
       " 30: 1,\n",
       " 108: 1,\n",
       " 29: 1,\n",
       " 42: 1,\n",
       " 33: 1}"
      ]
     },
     "execution_count": 79,
     "metadata": {},
     "output_type": "execute_result"
    }
   ],
   "source": [
    "test_corpus.get_span_distro(conditional_rep = test_dir, return_format = 'dict', level = 'character')"
   ]
  },
  {
   "cell_type": "code",
   "execution_count": 80,
   "metadata": {},
   "outputs": [
    {
     "data": {
      "text/plain": [
       "[0,\n",
       " 0,\n",
       " 0,\n",
       " 8,\n",
       " 4,\n",
       " 10,\n",
       " 5,\n",
       " 14,\n",
       " 14,\n",
       " 32,\n",
       " 11,\n",
       " 6,\n",
       " 14,\n",
       " 2,\n",
       " 7,\n",
       " 4,\n",
       " 13,\n",
       " 8,\n",
       " 17,\n",
       " 16,\n",
       " 12,\n",
       " 3,\n",
       " 2,\n",
       " 2,\n",
       " 4,\n",
       " 0,\n",
       " 6,\n",
       " 2,\n",
       " 1,\n",
       " 1,\n",
       " 3,\n",
       " 0,\n",
       " 1,\n",
       " 1,\n",
       " 6,\n",
       " 2,\n",
       " 0,\n",
       " 0,\n",
       " 0,\n",
       " 0,\n",
       " 0,\n",
       " 1,\n",
       " 0,\n",
       " 0,\n",
       " 2,\n",
       " 0,\n",
       " 0,\n",
       " 0,\n",
       " 0,\n",
       " 0,\n",
       " 0,\n",
       " 0,\n",
       " 0,\n",
       " 0,\n",
       " 0,\n",
       " 0,\n",
       " 0,\n",
       " 1,\n",
       " 1,\n",
       " 0,\n",
       " 0,\n",
       " 0,\n",
       " 0,\n",
       " 0,\n",
       " 0,\n",
       " 0,\n",
       " 0,\n",
       " 0,\n",
       " 0,\n",
       " 0,\n",
       " 0,\n",
       " 1,\n",
       " 0,\n",
       " 0,\n",
       " 0,\n",
       " 1,\n",
       " 0,\n",
       " 0,\n",
       " 0,\n",
       " 0,\n",
       " 1,\n",
       " 0,\n",
       " 0,\n",
       " 0,\n",
       " 0,\n",
       " 1,\n",
       " 0,\n",
       " 0,\n",
       " 0,\n",
       " 0,\n",
       " 0,\n",
       " 0,\n",
       " 0,\n",
       " 0,\n",
       " 0,\n",
       " 0,\n",
       " 0,\n",
       " 0,\n",
       " 1,\n",
       " 0,\n",
       " 0,\n",
       " 0,\n",
       " 0,\n",
       " 0,\n",
       " 0,\n",
       " 0,\n",
       " 0,\n",
       " 1]"
      ]
     },
     "execution_count": 80,
     "metadata": {},
     "output_type": "execute_result"
    }
   ],
   "source": [
    "test_corpus.get_span_distro(conditional_rep = test_dir, return_format = 'list')"
   ]
  },
  {
   "cell_type": "code",
   "execution_count": 81,
   "metadata": {},
   "outputs": [
    {
     "data": {
      "text/plain": [
       "{1: 98,\n",
       " 2: 84,\n",
       " 4: 18,\n",
       " 3: 16,\n",
       " 6: 6,\n",
       " 5: 5,\n",
       " 9: 4,\n",
       " 7: 3,\n",
       " 11: 2,\n",
       " 8: 1,\n",
       " 13: 1,\n",
       " 14: 1,\n",
       " 10: 1,\n",
       " 12: 1,\n",
       " 15: 1}"
      ]
     },
     "execution_count": 81,
     "metadata": {},
     "output_type": "execute_result"
    }
   ],
   "source": [
    "test_corpus.get_span_distro(conditional_rep = test_dir, return_format = 'dict', level = 'token')"
   ]
  },
  {
   "cell_type": "markdown",
   "metadata": {},
   "source": [
    "This span ditro can also be plottet:"
   ]
  },
  {
   "cell_type": "code",
   "execution_count": 82,
   "metadata": {},
   "outputs": [
    {
     "data": {
      "image/png": "[encoded data removed]",
      "text/plain": [
       "<Figure size 432x288 with 1 Axes>"
      ]
     },
     "metadata": {
      "needs_background": "light"
     },
     "output_type": "display_data"
    }
   ],
   "source": [
    "import matplotlib.pyplot as plt\n",
    "plt.plot(test_corpus.get_span_distro(conditional_rep = test_dir, return_format = 'list', level = 'token'))\n",
    "plt.show()"
   ]
  },
  {
   "cell_type": "markdown",
   "metadata": {},
   "source": [
    "get_span_count(self, article, item, value) returns # of tags in the tag_list. Can be used to retrieve the amount of tags matching a certain condition. E.g all the tags of class 'Policydesigncharacteristics' in the policy 'EU_32008R1099':"
   ]
  },
  {
   "cell_type": "code",
   "execution_count": 83,
   "metadata": {},
   "outputs": [
    {
     "data": {
      "text/plain": [
       "199"
      ]
     },
     "execution_count": 83,
     "metadata": {},
     "output_type": "execute_result"
    }
   ],
   "source": [
    "test_corpus.get_span_count(item = 'layer', value = 'Policydesigncharacteristics', conditional_rep = test_dir)"
   ]
  },
  {
   "cell_type": "markdown",
   "metadata": {},
   "source": [
    "get_tokens_from_span_list(self, conditional_rep, item, value) returns a list of all the tokens in a taglist"
   ]
  },
  {
   "cell_type": "code",
   "execution_count": 84,
   "metadata": {},
   "outputs": [
    {
     "data": {
      "text/plain": [
       "[start:55 stop:61 text:states tag_count:1,\n",
       " start:106 stop:115 text:community tag_count:1,\n",
       " start:116 stop:126 text:statistics tag_count:1,\n",
       " start:239 stop:245 text:member tag_count:1,\n",
       " start:133 stop:142 text:community tag_count:1,\n",
       " start:246 stop:252 text:states tag_count:1,\n",
       " start:143 stop:153 text:statistics tag_count:1,\n",
       " start:48 stop:54 text:member tag_count:2,\n",
       " start:55 stop:61 text:states tag_count:2,\n",
       " start:475 stop:485 text:regulation tag_count:1,\n",
       " start:486 stop:487 text:( tag_count:1,\n",
       " start:487 stop:489 text:ec tag_count:1,\n",
       " start:489 stop:490 text:) tag_count:1,\n",
       " start:491 stop:493 text:no tag_count:1,\n",
       " start:493 stop:494 text:  tag_count:1,\n",
       " start:84 stop:94 text:commission tag_count:1,\n",
       " start:494 stop:497 text:322 tag_count:1,\n",
       " start:497 stop:498 text:/ tag_count:1,\n",
       " start:96 stop:104 text:eurostat tag_count:1,\n",
       " start:498 stop:500 text:97 tag_count:1,\n",
       " start:110 stop:118 text:national tag_count:2,\n",
       " start:201 stop:211 text:regulation tag_count:1,\n",
       " start:119 stop:129 text:statistics tag_count:2,\n",
       " start:1447 stop:1457 text:statistics tag_count:1,\n",
       " start:212 stop:213 text:( tag_count:1,\n",
       " start:213 stop:215 text:ec tag_count:1,\n",
       " start:215 stop:216 text:) tag_count:1,\n",
       " start:217 stop:219 text:no tag_count:1,\n",
       " start:219 stop:220 text:  tag_count:1,\n",
       " start:220 stop:223 text:322 tag_count:1,\n",
       " start:223 stop:224 text:/ tag_count:1,\n",
       " start:224 stop:226 text:97 tag_count:1,\n",
       " start:249 stop:259 text:statistics tag_count:1,\n",
       " start:406 stop:407 text:, tag_count:1,\n",
       " start:408 stop:417 text:importers tag_count:3,\n",
       " start:418 stop:421 text:and tag_count:2,\n",
       " start:422 stop:431 text:exporters tag_count:3,\n",
       " start:432 stop:434 text:of tag_count:1,\n",
       " start:435 stop:441 text:energy tag_count:2,\n",
       " start:442 stop:450 text:products tag_count:2,\n",
       " start:661 stop:665 text:data tag_count:1,\n",
       " start:672 stop:683 text:transmitted tag_count:1,\n",
       " start:11 stop:15 text:time tag_count:1,\n",
       " start:16 stop:25 text:reference tag_count:1,\n",
       " start:26 stop:29 text:and tag_count:1,\n",
       " start:30 stop:39 text:frequency tag_count:1,\n",
       " start:41 stop:47 text:member tag_count:1,\n",
       " start:48 stop:54 text:states tag_count:1,\n",
       " start:1070 stop:1074 text:date tag_count:1,\n",
       " start:1075 stop:1077 text:of tag_count:1,\n",
       " start:1078 stop:1081 text:the tag_count:1,\n",
       " start:1082 stop:1089 text:release tag_count:1,\n",
       " start:1090 stop:1092 text:of tag_count:1,\n",
       " start:534 stop:547 text:manufacturing tag_count:1,\n",
       " start:738 stop:748 text:statistics tag_count:2,\n",
       " start:1093 stop:1096 text:the tag_count:1,\n",
       " start:95 stop:106 text:respondents tag_count:1,\n",
       " start:548 stop:556 text:industry tag_count:1,\n",
       " start:1097 stop:1101 text:data tag_count:2,\n",
       " start:528 stop:534 text:member tag_count:1,\n",
       " start:12 stop:21 text:committee tag_count:1,\n",
       " start:535 stop:540 text:state tag_count:1,\n",
       " start:558 stop:567 text:transport tag_count:1,\n",
       " start:112 stop:115 text:the tag_count:1,\n",
       " start:116 stop:125 text:beginning tag_count:2,\n",
       " start:1110 stop:1116 text:target tag_count:1,\n",
       " start:573 stop:578 text:other tag_count:1,\n",
       " start:126 stop:128 text:of tag_count:2,\n",
       " start:1117 stop:1121 text:date tag_count:1,\n",
       " start:32 stop:42 text:commission tag_count:1,\n",
       " start:145 stop:151 text:member tag_count:1,\n",
       " start:579 stop:586 text:sectors tag_count:1,\n",
       " start:129 stop:132 text:the tag_count:2,\n",
       " start:152 stop:158 text:states tag_count:1,\n",
       " start:133 stop:141 text:calendar tag_count:2,\n",
       " start:789 stop:794 text:users tag_count:1,\n",
       " start:142 stop:146 text:year tag_count:2,\n",
       " start:598 stop:608 text:households tag_count:1,\n",
       " start:165 stop:172 text:compile tag_count:1,\n",
       " start:147 stop:156 text:following tag_count:1,\n",
       " start:173 stop:177 text:data tag_count:1,\n",
       " start:199 stop:207 text:eurostat tag_count:4,\n",
       " start:1883 stop:1884 text:a tag_count:1,\n",
       " start:103 stop:111 text:national tag_count:2,\n",
       " start:1885 stop:1892 text:request tag_count:1,\n",
       " start:207 stop:208 text:) tag_count:2,\n",
       " start:625 stop:635 text:statistics tag_count:1,\n",
       " start:112 stop:122 text:statistics tag_count:2,\n",
       " start:1893 stop:1897 text:from tag_count:1,\n",
       " start:1898 stop:1901 text:the tag_count:1,\n",
       " start:1902 stop:1912 text:commission tag_count:3,\n",
       " start:275 stop:285 text:commission tag_count:1,\n",
       " start:129 stop:137 text:reported tag_count:1,\n",
       " start:1913 stop:1914 text:( tag_count:2,\n",
       " start:286 stop:294 text:decision tag_count:2,\n",
       " start:1914 stop:1922 text:eurostat tag_count:3,\n",
       " start:236 stop:242 text:member tag_count:2,\n",
       " start:295 stop:299 text:2005 tag_count:2,\n",
       " start:1922 stop:1923 text:) tag_count:2,\n",
       " start:243 stop:249 text:states tag_count:2,\n",
       " start:299 stop:300 text:/ tag_count:2,\n",
       " start:300 stop:303 text:166 tag_count:2,\n",
       " start:814 stop:824 text:commission tag_count:2,\n",
       " start:1276 stop:1285 text:renewable tag_count:1,\n",
       " start:676 stop:685 text:renewable tag_count:2,\n",
       " start:303 stop:304 text:/ tag_count:2,\n",
       " start:825 stop:826 text:( tag_count:1,\n",
       " start:1286 stop:1292 text:energy tag_count:1,\n",
       " start:304 stop:306 text:ec tag_count:2,\n",
       " start:826 stop:834 text:eurostat tag_count:2,\n",
       " start:686 stop:692 text:energy tag_count:2,\n",
       " start:1293 stop:1303 text:statistics tag_count:1,\n",
       " start:834 stop:835 text:) tag_count:1,\n",
       " start:693 stop:703 text:statistics tag_count:2,\n",
       " start:1051 stop:1060 text:reporting tag_count:1,\n",
       " start:854 stop:860 text:yearly tag_count:1,\n",
       " start:278 stop:288 text:statistics tag_count:2,\n",
       " start:861 stop:867 text:energy tag_count:2,\n",
       " start:1953 stop:1959 text:assess tag_count:1,\n",
       " start:868 stop:878 text:statistics tag_count:2,\n",
       " start:882 stop:884 text:31 tag_count:1,\n",
       " start:885 stop:892 text:january tag_count:1,\n",
       " start:893 stop:895 text:of tag_count:1,\n",
       " start:1979 stop:1983 text:data tag_count:1,\n",
       " start:896 stop:899 text:the tag_count:1,\n",
       " start:366 stop:374 text:decision tag_count:1,\n",
       " start:900 stop:906 text:second tag_count:1,\n",
       " start:375 stop:377 text:no tag_count:1,\n",
       " start:1997 stop:2003 text:member tag_count:1,\n",
       " start:907 stop:911 text:year tag_count:1,\n",
       " start:377 stop:378 text:  tag_count:1,\n",
       " start:2004 stop:2010 text:states tag_count:1,\n",
       " start:912 stop:921 text:following tag_count:1,\n",
       " start:344 stop:352 text:decision tag_count:1,\n",
       " start:378 stop:381 text:280 tag_count:1,\n",
       " start:922 stop:925 text:the tag_count:1,\n",
       " start:353 stop:357 text:1999 tag_count:1,\n",
       " start:238 stop:244 text:annual tag_count:2,\n",
       " start:779 stop:784 text:final tag_count:2,\n",
       " start:768 stop:773 text:final tag_count:2,\n",
       " start:381 stop:382 text:/ tag_count:1,\n",
       " start:97 stop:107 text:production tag_count:1,\n",
       " start:382 stop:386 text:2004 tag_count:1,\n",
       " start:926 stop:934 text:reported tag_count:1,\n",
       " start:357 stop:358 text:/ tag_count:1,\n",
       " start:785 stop:791 text:energy tag_count:2,\n",
       " start:774 stop:780 text:energy tag_count:2,\n",
       " start:107 stop:108 text:, tag_count:1,\n",
       " start:358 stop:361 text:468 tag_count:1,\n",
       " start:386 stop:387 text:/ tag_count:1,\n",
       " start:935 stop:941 text:period tag_count:1,\n",
       " start:109 stop:121 text:transmission tag_count:1,\n",
       " start:792 stop:803 text:consumption tag_count:2,\n",
       " start:402 stop:410 text:national tag_count:2,\n",
       " start:781 stop:792 text:consumption tag_count:2,\n",
       " start:387 stop:389 text:ec tag_count:1,\n",
       " start:121 stop:122 text:, tag_count:1,\n",
       " start:361 stop:362 text:/ tag_count:1,\n",
       " start:362 stop:364 text:ec tag_count:1,\n",
       " start:804 stop:814 text:statistics tag_count:2,\n",
       " start:411 stop:421 text:statistics tag_count:2,\n",
       " start:793 stop:803 text:statistics tag_count:2,\n",
       " start:123 stop:133 text:evaluation tag_count:1,\n",
       " start:2029 stop:2039 text:commission tag_count:2,\n",
       " start:254 stop:260 text:energy tag_count:2,\n",
       " start:134 stop:137 text:and tag_count:1,\n",
       " start:261 stop:271 text:statistics tag_count:2,\n",
       " start:2040 stop:2041 text:( tag_count:1,\n",
       " start:397 stop:405 text:european tag_count:1,\n",
       " start:2041 stop:2049 text:eurostat tag_count:2,\n",
       " start:138 stop:151 text:dissemination tag_count:1,\n",
       " start:406 stop:416 text:parliament tag_count:1,\n",
       " start:2049 stop:2050 text:) tag_count:1,\n",
       " start:152 stop:154 text:of tag_count:1,\n",
       " start:393 stop:402 text:renewable tag_count:2,\n",
       " start:2053 stop:2059 text:report tag_count:1,\n",
       " start:155 stop:165 text:comparable tag_count:2,\n",
       " start:832 stop:841 text:reporting tag_count:1,\n",
       " start:281 stop:291 text:statistics tag_count:1,\n",
       " start:869 stop:877 text:national tag_count:2,\n",
       " start:1583 stop:1587 text:data tag_count:1,\n",
       " start:76 stop:80 text:20th tag_count:2,\n",
       " start:878 stop:888 text:statistics tag_count:2,\n",
       " start:81 stop:84 text:day tag_count:2,\n",
       " start:85 stop:94 text:following tag_count:2,\n",
       " start:95 stop:98 text:its tag_count:2,\n",
       " start:340 stop:350 text:regulation tag_count:1,\n",
       " start:99 stop:110 text:publication tag_count:2,\n",
       " start:351 stop:352 text:( tag_count:1,\n",
       " start:352 stop:354 text:ec tag_count:1,\n",
       " start:111 stop:113 text:in tag_count:1,\n",
       " start:354 stop:355 text:) tag_count:1,\n",
       " start:114 stop:117 text:the tag_count:1,\n",
       " start:356 stop:358 text:no tag_count:1,\n",
       " start:118 stop:126 text:official tag_count:1,\n",
       " start:358 stop:359 text:  tag_count:1,\n",
       " start:359 stop:362 text:322 tag_count:1,\n",
       " start:127 stop:134 text:journal tag_count:1,\n",
       " start:1248 stop:1253 text:users tag_count:1,\n",
       " start:362 stop:363 text:/ tag_count:1,\n",
       " start:363 stop:365 text:97 tag_count:1,\n",
       " start:374 stop:384 text:commission tag_count:2,\n",
       " start:1658 stop:1663 text:every tag_count:1,\n",
       " start:385 stop:386 text:( tag_count:1,\n",
       " start:386 stop:394 text:eurostat tag_count:2,\n",
       " start:1664 stop:1668 text:five tag_count:1,\n",
       " start:1284 stop:1288 text:data tag_count:1,\n",
       " start:394 stop:395 text:) tag_count:1,\n",
       " start:1669 stop:1674 text:years tag_count:1,\n",
       " start:11 stop:18 text:quality tag_count:1,\n",
       " start:19 stop:29 text:assessment tag_count:1,\n",
       " start:1676 stop:1682 text:member tag_count:1,\n",
       " start:1683 stop:1689 text:states tag_count:1,\n",
       " start:407 stop:416 text:community tag_count:1,\n",
       " start:34 stop:41 text:reports tag_count:1,\n",
       " start:417 stop:426 text:authority tag_count:1,\n",
       " start:48 stop:54 text:member tag_count:1,\n",
       " start:1027 stop:1034 text:studies tag_count:1,\n",
       " start:1039 stop:1051 text:cost-benefit tag_count:1,\n",
       " start:185 stop:193 text:reported tag_count:1,\n",
       " start:1052 stop:1060 text:analyses tag_count:1,\n",
       " start:211 stop:215 text:from tag_count:1,\n",
       " start:216 stop:220 text:2009 tag_count:2,\n",
       " start:221 stop:228 text:onwards tag_count:1,\n",
       " start:256 stop:264 text:reported tag_count:1,\n",
       " start:265 stop:271 text:period tag_count:1,\n",
       " start:1212 stop:1222 text:statistics tag_count:1,\n",
       " start:403 stop:409 text:energy tag_count:2,\n",
       " start:410 stop:420 text:statistics tag_count:2,\n",
       " start:68 stop:79 text:statistical tag_count:1,\n",
       " start:80 stop:89 text:programme tag_count:1,\n",
       " start:1425 stop:1430 text:final tag_count:1,\n",
       " start:228 stop:232 text:time tag_count:1,\n",
       " start:90 stop:99 text:committee tag_count:1,\n",
       " start:1431 stop:1437 text:energy tag_count:1,\n",
       " start:233 stop:239 text:limits tag_count:1,\n",
       " start:1438 stop:1449 text:consumption tag_count:1,\n",
       " start:21 stop:27 text:energy tag_count:1,\n",
       " start:1450 stop:1460 text:statistics tag_count:1,\n",
       " start:11 stop:17 text:annual tag_count:1,\n",
       " start:28 stop:38 text:statistics tag_count:1,\n",
       " start:18 stop:25 text:nuclear tag_count:1,\n",
       " start:26 stop:36 text:statistics tag_count:1,\n",
       " start:43 stop:48 text:final tag_count:1,\n",
       " start:884 stop:892 text:existing tag_count:1,\n",
       " start:233 stop:242 text:community tag_count:1,\n",
       " start:49 stop:55 text:energy tag_count:1,\n",
       " start:893 stop:900 text:studies tag_count:1,\n",
       " start:42 stop:52 text:commission tag_count:1,\n",
       " start:56 stop:67 text:consumption tag_count:1,\n",
       " start:480 stop:490 text:statistics tag_count:2,\n",
       " start:54 stop:62 text:eurostat tag_count:1,\n",
       " start:68 stop:78 text:statistics tag_count:1,\n",
       " start:905 stop:916 text:feasibility tag_count:1,\n",
       " start:917 stop:922 text:pilot tag_count:1,\n",
       " start:923 stop:930 text:studies tag_count:1,\n",
       " start:286 stop:297 text:statistical tag_count:1,\n",
       " start:100 stop:109 text:improving tag_count:1,\n",
       " start:524 stop:532 text:annually tag_count:1,\n",
       " start:298 stop:305 text:surveys tag_count:1,\n",
       " start:943 stop:955 text:cost-benefit tag_count:1,\n",
       " start:95 stop:102 text:nuclear tag_count:1,\n",
       " start:110 stop:113 text:the tag_count:1,\n",
       " start:956 stop:964 text:analyses tag_count:1,\n",
       " start:103 stop:109 text:energy tag_count:1,\n",
       " start:114 stop:121 text:quality tag_count:1,\n",
       " start:110 stop:116 text:sector tag_count:1,\n",
       " start:122 stop:124 text:of tag_count:1,\n",
       " start:125 stop:134 text:renewable tag_count:1,\n",
       " start:323 stop:330 text:primary tag_count:1,\n",
       " start:135 stop:141 text:energy tag_count:1,\n",
       " start:331 stop:334 text:and tag_count:1,\n",
       " start:142 stop:145 text:and tag_count:1,\n",
       " start:335 stop:346 text:transformed tag_count:1,\n",
       " start:188 stop:196 text:decision tag_count:1,\n",
       " start:146 stop:151 text:final tag_count:1,\n",
       " start:569 stop:579 text:commission tag_count:2,\n",
       " start:347 stop:353 text:energy tag_count:2,\n",
       " start:197 stop:201 text:1999 tag_count:1,\n",
       " start:354 stop:363 text:producers tag_count:3,\n",
       " start:990 stop:1000 text:evaluating tag_count:1,\n",
       " start:152 stop:158 text:energy tag_count:1,\n",
       " start:580 stop:581 text:( tag_count:1,\n",
       " start:581 stop:589 text:eurostat tag_count:2,\n",
       " start:201 stop:202 text:/ tag_count:1,\n",
       " start:202 stop:205 text:468 tag_count:1,\n",
       " start:364 stop:367 text:and tag_count:2,\n",
       " start:159 stop:170 text:consumption tag_count:1,\n",
       " start:366 stop:374 text:national tag_count:2,\n",
       " start:589 stop:590 text:) tag_count:1,\n",
       " start:73 stop:81 text:national tag_count:2,\n",
       " start:368 stop:375 text:traders tag_count:3,\n",
       " start:171 stop:181 text:statistics tag_count:1,\n",
       " start:607 stop:613 text:annual tag_count:1,\n",
       " start:375 stop:385 text:statistics tag_count:2,\n",
       " start:205 stop:206 text:/ tag_count:1,\n",
       " start:206 stop:208 text:ec tag_count:1,\n",
       " start:82 stop:92 text:statistics tag_count:2,\n",
       " start:144 stop:150 text:annual tag_count:1,\n",
       " start:614 stop:621 text:nuclear tag_count:2,\n",
       " start:375 stop:376 text:, tag_count:1,\n",
       " start:959 stop:970 text:information tag_count:2,\n",
       " start:377 stop:389 text:distributors tag_count:3,\n",
       " start:151 stop:158 text:nuclear tag_count:1,\n",
       " start:622 stop:632 text:statistics tag_count:2,\n",
       " start:187 stop:197 text:commission tag_count:4,\n",
       " start:390 stop:393 text:and tag_count:2,\n",
       " start:1021 stop:1026 text:pilot tag_count:1,\n",
       " start:159 stop:169 text:statistics tag_count:1,\n",
       " start:394 stop:406 text:transporters tag_count:3,\n",
       " start:198 stop:199 text:( tag_count:2,\n",
       " start:157 stop:160 text:the tag_count:1,\n",
       " start:166 stop:172 text:energy tag_count:3,\n",
       " start:161 stop:169 text:adoption tag_count:1,\n",
       " start:173 stop:183 text:statistics tag_count:3,\n",
       " start:170 stop:172 text:of tag_count:1,\n",
       " start:428 stop:435 text:council tag_count:1,\n",
       " start:184 stop:186 text:in tag_count:1,\n",
       " start:290 stop:297 text:monthly tag_count:2,\n",
       " start:173 stop:177 text:this tag_count:1,\n",
       " start:187 stop:190 text:the tag_count:1,\n",
       " start:178 stop:188 text:regulation tag_count:1,\n",
       " start:191 stop:200 text:community tag_count:3,\n",
       " start:449 stop:458 text:mechanism tag_count:3,\n",
       " start:459 stop:462 text:for tag_count:2,\n",
       " start:307 stop:313 text:energy tag_count:2,\n",
       " start:463 stop:473 text:monitoring tag_count:3,\n",
       " start:314 stop:324 text:statistics tag_count:2,\n",
       " start:474 stop:483 text:community tag_count:1,\n",
       " start:484 stop:494 text:greenhouse tag_count:1,\n",
       " start:495 stop:498 text:gas tag_count:1,\n",
       " start:499 stop:508 text:emissions tag_count:1,\n",
       " start:509 stop:512 text:and tag_count:1,\n",
       " start:513 stop:516 text:for tag_count:1,\n",
       " start:343 stop:353 text:short-term tag_count:2,\n",
       " start:517 stop:529 text:implementing tag_count:1,\n",
       " start:354 stop:361 text:monthly tag_count:2,\n",
       " start:241 stop:252 text:frequencies tag_count:1,\n",
       " start:530 stop:533 text:the tag_count:1,\n",
       " start:534 stop:539 text:kyoto tag_count:2,\n",
       " start:540 stop:548 text:protocol tag_count:2,\n",
       " start:476 stop:484 text:decision tag_count:1,\n",
       " start:371 stop:377 text:energy tag_count:2,\n",
       " start:485 stop:489 text:1999 tag_count:1,\n",
       " start:378 stop:388 text:statistics tag_count:2,\n",
       " start:484 stop:490 text:annual tag_count:1,\n",
       " start:489 stop:490 text:/ tag_count:1,\n",
       " start:490 stop:493 text:468 tag_count:1,\n",
       " start:491 stop:498 text:nuclear tag_count:1,\n",
       " start:493 stop:494 text:/ tag_count:1,\n",
       " start:499 stop:509 text:statistics tag_count:1,\n",
       " start:494 stop:496 text:ec tag_count:1,\n",
       " start:311 stop:320 text:community tag_count:2,\n",
       " start:506 stop:511 text:three tag_count:1,\n",
       " start:512 stop:518 text:months tag_count:1,\n",
       " start:1708 stop:1718 text:commission tag_count:2,\n",
       " start:1719 stop:1720 text:( tag_count:1,\n",
       " start:1720 stop:1728 text:eurostat tag_count:2,\n",
       " start:622 stop:633 text:statistical tag_count:2,\n",
       " start:1728 stop:1729 text:) tag_count:1,\n",
       " start:601 stop:611 text:commission tag_count:2,\n",
       " start:634 stop:644 text:estimation tag_count:2,\n",
       " start:645 stop:655 text:procedures tag_count:1,\n",
       " start:1737 stop:1743 text:report tag_count:1,\n",
       " start:1766 stop:1770 text:data tag_count:1,\n",
       " start:716 stop:726 text:regulators tag_count:1,\n",
       " start:727 stop:729 text:of tag_count:1,\n",
       " start:730 stop:733 text:the tag_count:1,\n",
       " start:734 stop:745 text:electricity tag_count:2,\n",
       " start:746 stop:749 text:and tag_count:2,\n",
       " start:750 stop:753 text:gas tag_count:2,\n",
       " start:754 stop:761 text:markets tag_count:2,\n",
       " start:709 stop:717 text:national tag_count:2,\n",
       " start:718 stop:728 text:statistics tag_count:2,\n",
       " start:769 stop:775 text:member tag_count:1,\n",
       " start:776 stop:782 text:states tag_count:1,\n",
       " start:1851 stop:1857 text:within tag_count:2,\n",
       " start:1858 stop:1861 text:six tag_count:2,\n",
       " start:1862 stop:1868 text:months tag_count:2,\n",
       " start:1869 stop:1871 text:of tag_count:1,\n",
       " start:1872 stop:1879 text:receipt tag_count:1,\n",
       " start:1880 stop:1882 text:of tag_count:1]"
      ]
     },
     "execution_count": 84,
     "metadata": {},
     "output_type": "execute_result"
    }
   ],
   "source": [
    "test_corpus.get_tokens_from_span_list(item = 'layer', value = 'Policydesigncharacteristics', conditional_rep = test_dir)"
   ]
  },
  {
   "cell_type": "markdown",
   "metadata": {},
   "source": [
    "get_token_count_from_span_list returns the amount of tokens in the tag_list:"
   ]
  },
  {
   "cell_type": "code",
   "execution_count": 85,
   "metadata": {},
   "outputs": [
    {
     "data": {
      "text/plain": [
       "382"
      ]
     },
     "execution_count": 85,
     "metadata": {},
     "output_type": "execute_result"
    }
   ],
   "source": [
    "test_corpus.get_token_count_from_span_list(item = 'layer', value = 'Policydesigncharacteristics', conditional_rep = test_dir)"
   ]
  },
  {
   "cell_type": "markdown",
   "metadata": {},
   "source": [
    "most_frequent_labeled_tokens(self, conditional_rep, item, value) returns a dict of all the most frequent tokens of a span_list"
   ]
  },
  {
   "cell_type": "code",
   "execution_count": 86,
   "metadata": {},
   "outputs": [
    {
     "data": {
      "text/plain": [
       "{'statistics': 56,\n",
       " 'energy': 29,\n",
       " 'commission': 23,\n",
       " 'eurostat': 19,\n",
       " '/': 15,\n",
       " 'the': 14,\n",
       " 'national': 14,\n",
       " 'and': 13,\n",
       " 'member': 12,\n",
       " 'of': 12,\n",
       " '(': 12,\n",
       " ')': 12,\n",
       " 'states': 11,\n",
       " 'community': 10,\n",
       " 'ec': 9,\n",
       " 'data': 8,\n",
       " 'final': 7,\n",
       " 'consumption': 7,\n",
       " 'annual': 6,\n",
       " 'nuclear': 6,\n",
       " 'renewable': 6,\n",
       " 'decision': 6,\n",
       " 'following': 4,\n",
       " 'reported': 4,\n",
       " 'no': 4,\n",
       " '\\xa0': 4,\n",
       " ',': 4,\n",
       " 'statistical': 4,\n",
       " 'regulation': 4,\n",
       " 'monthly': 4,\n",
       " 'studies': 3,\n",
       " 'for': 3,\n",
       " 'monitoring': 3,\n",
       " 'gas': 3,\n",
       " 'months': 3,\n",
       " 'year': 3,\n",
       " '1999': 3,\n",
       " '468': 3,\n",
       " 'producers': 3,\n",
       " 'traders': 3,\n",
       " 'distributors': 3,\n",
       " 'transporters': 3,\n",
       " 'importers': 3,\n",
       " 'exporters': 3,\n",
       " '322': 3,\n",
       " '97': 3,\n",
       " '20th': 2,\n",
       " 'day': 2,\n",
       " 'its': 2,\n",
       " 'publication': 2,\n",
       " 'in': 2,\n",
       " 'from': 2,\n",
       " '2009': 2,\n",
       " 'period': 2,\n",
       " 'quality': 2,\n",
       " 'pilot': 2,\n",
       " 'cost-benefit': 2,\n",
       " 'analyses': 2,\n",
       " 'reporting': 2,\n",
       " '2005': 2,\n",
       " '166': 2,\n",
       " 'mechanism': 2,\n",
       " 'kyoto': 2,\n",
       " 'protocol': 2,\n",
       " 'users': 2,\n",
       " 'information': 2,\n",
       " 'date': 2,\n",
       " 'report': 2,\n",
       " 'within': 2,\n",
       " 'six': 2,\n",
       " 'time': 2,\n",
       " 'comparable': 2,\n",
       " 'committee': 2,\n",
       " 'beginning': 2,\n",
       " 'calendar': 2,\n",
       " 'estimation': 2,\n",
       " 'electricity': 2,\n",
       " 'markets': 2,\n",
       " 'short-term': 2,\n",
       " 'official': 1,\n",
       " 'journal': 1,\n",
       " 'sector': 1,\n",
       " 'onwards': 1,\n",
       " 'improving': 1,\n",
       " 'annually': 1,\n",
       " 'existing': 1,\n",
       " 'feasibility': 1,\n",
       " 'evaluating': 1,\n",
       " 'assessment': 1,\n",
       " 'reports': 1,\n",
       " '280': 1,\n",
       " '2004': 1,\n",
       " 'european': 1,\n",
       " 'parliament': 1,\n",
       " 'council': 1,\n",
       " 'greenhouse': 1,\n",
       " 'emissions': 1,\n",
       " 'implementing': 1,\n",
       " 'transmitted': 1,\n",
       " 'release': 1,\n",
       " 'target': 1,\n",
       " 'every': 1,\n",
       " 'five': 1,\n",
       " 'years': 1,\n",
       " 'receipt': 1,\n",
       " 'a': 1,\n",
       " 'request': 1,\n",
       " 'assess': 1,\n",
       " 'limits': 1,\n",
       " 'state': 1,\n",
       " 'yearly': 1,\n",
       " '31': 1,\n",
       " 'january': 1,\n",
       " 'second': 1,\n",
       " 'production': 1,\n",
       " 'transmission': 1,\n",
       " 'evaluation': 1,\n",
       " 'dissemination': 1,\n",
       " 'programme': 1,\n",
       " 'three': 1,\n",
       " 'reference': 1,\n",
       " 'frequency': 1,\n",
       " 'adoption': 1,\n",
       " 'this': 1,\n",
       " 'frequencies': 1,\n",
       " 'respondents': 1,\n",
       " 'compile': 1,\n",
       " 'surveys': 1,\n",
       " 'primary': 1,\n",
       " 'transformed': 1,\n",
       " 'products': 1,\n",
       " 'manufacturing': 1,\n",
       " 'industry': 1,\n",
       " 'transport': 1,\n",
       " 'other': 1,\n",
       " 'sectors': 1,\n",
       " 'households': 1,\n",
       " 'procedures': 1,\n",
       " 'regulators': 1,\n",
       " 'authority': 1}"
      ]
     },
     "execution_count": 86,
     "metadata": {},
     "output_type": "execute_result"
    }
   ],
   "source": [
    "test_corpus.most_frequent_labeled_tokens(item = 'layer', value = 'Policydesigncharacteristics', conditional_rep = test_dir)"
   ]
  },
  {
   "cell_type": "markdown",
   "metadata": {},
   "source": [
    "get_label_count_per_token_distro(self, conditional_rep, return_format) returns a distribution of the tag_count for all the tokens in a conditional repository. This can be used to evaluate how many tokens have been labeled once, twice and so on. The distribution is returned in either list or dict."
   ]
  },
  {
   "cell_type": "code",
   "execution_count": 87,
   "metadata": {},
   "outputs": [
    {
     "data": {
      "text/plain": [
       "{0: 1586, 1: 329, 2: 111, 3: 13, 4: 2}"
      ]
     },
     "execution_count": 87,
     "metadata": {},
     "output_type": "execute_result"
    }
   ],
   "source": [
    "test_corpus.get_label_count_per_token_distro(conditional_rep = test_dir, return_format = 'dict')"
   ]
  },
  {
   "cell_type": "code",
   "execution_count": 88,
   "metadata": {},
   "outputs": [
    {
     "data": {
      "text/plain": [
       "[1586, 329, 111, 13, 2]"
      ]
     },
     "execution_count": 88,
     "metadata": {},
     "output_type": "execute_result"
    }
   ],
   "source": [
    "test_corpus.get_label_count_per_token_distro(conditional_rep = test_dir, return_format = 'list')"
   ]
  },
  {
   "cell_type": "code",
   "execution_count": 89,
   "metadata": {},
   "outputs": [
    {
     "data": {
      "image/png": "[encoded data removed]",
      "text/plain": [
       "<Figure size 432x288 with 1 Axes>"
      ]
     },
     "metadata": {
      "needs_background": "light"
     },
     "output_type": "display_data"
    }
   ],
   "source": [
    "plt.plot(test_corpus.get_label_count_per_token_distro(conditional_rep = test_dir, return_format = 'list'))\n",
    "plt.show()"
   ]
  },
  {
   "cell_type": "markdown",
   "metadata": {},
   "source": [
    "## A few important examples"
   ]
  },
  {
   "cell_type": "markdown",
   "metadata": {},
   "source": [
    "Calculating all the # of paragraphs"
   ]
  },
  {
   "cell_type": "code",
   "execution_count": 90,
   "metadata": {},
   "outputs": [
    {
     "data": {
      "text/plain": [
       "448"
      ]
     },
     "execution_count": 90,
     "metadata": {},
     "output_type": "execute_result"
    }
   ],
   "source": [
    "len(stat_df) #all raw articles"
   ]
  },
  {
   "cell_type": "code",
   "execution_count": 91,
   "metadata": {},
   "outputs": [
    {
     "data": {
      "text/plain": [
       "412"
      ]
     },
     "execution_count": 91,
     "metadata": {},
     "output_type": "execute_result"
    }
   ],
   "source": [
    "len(test_corpus.df) # all articles but whereas and front removed"
   ]
  },
  {
   "cell_type": "markdown",
   "metadata": {},
   "source": [
    "total number of tags in a specific column"
   ]
  },
  {
   "cell_type": "code",
   "execution_count": 92,
   "metadata": {},
   "outputs": [
    {
     "data": {
      "text/plain": [
       "20578"
      ]
     },
     "execution_count": 92,
     "metadata": {},
     "output_type": "execute_result"
    }
   ],
   "source": [
    "total_corpus_dir = repository()\n",
    "test_corpus.get_span_count(total_corpus_dir, columns = 'Curation')"
   ]
  },
  {
   "cell_type": "markdown",
   "metadata": {},
   "source": [
    "since the curation is the default, this is the same as"
   ]
  },
  {
   "cell_type": "code",
   "execution_count": 93,
   "metadata": {},
   "outputs": [
    {
     "data": {
      "text/plain": [
       "20578"
      ]
     },
     "execution_count": 93,
     "metadata": {},
     "output_type": "execute_result"
    }
   ],
   "source": [
    "test_corpus.get_span_count(total_corpus_dir)"
   ]
  },
  {
   "cell_type": "markdown",
   "metadata": {},
   "source": [
    "To check that this is true, we compare this to all the tags present in the dataframe:"
   ]
  },
  {
   "cell_type": "code",
   "execution_count": 94,
   "metadata": {},
   "outputs": [
    {
     "data": {
      "text/plain": [
       "20578"
      ]
     },
     "execution_count": 94,
     "metadata": {},
     "output_type": "execute_result"
    }
   ],
   "source": [
    "len(list(chain.from_iterable(test_corpus.df['Curation'])))"
   ]
  },
  {
   "cell_type": "markdown",
   "metadata": {},
   "source": [
    "### Annotated tokens to total tokens"
   ]
  },
  {
   "cell_type": "markdown",
   "metadata": {},
   "source": [
    "To test all the calculations, they are done twice with different methods:"
   ]
  },
  {
   "cell_type": "code",
   "execution_count": 95,
   "metadata": {},
   "outputs": [
    {
     "name": "stdout",
     "output_type": "stream",
     "text": [
      "173438\n",
      "173438\n"
     ]
    }
   ],
   "source": [
    "#Total:\n",
    "print(test_corpus.get_token_count_from_repository(total_corpus_dir))\n",
    "print(len(list(chain.from_iterable(test_corpus.df['Tokens']))))"
   ]
  },
  {
   "cell_type": "code",
   "execution_count": 96,
   "metadata": {},
   "outputs": [
    {
     "name": "stdout",
     "output_type": "stream",
     "text": [
      "52298\n",
      "52298\n"
     ]
    }
   ],
   "source": [
    "#annotated: (summing over all the tokens having a minimum one label)\n",
    "print(sum(test_corpus.get_label_count_per_token_distro(total_corpus_dir, 'list')[1:]))\n",
    "print(test_corpus.get_token_count_from_span_list(conditional_rep = total_corpus_dir))"
   ]
  },
  {
   "cell_type": "markdown",
   "metadata": {},
   "source": [
    "### Token Label Count Distribution"
   ]
  },
  {
   "cell_type": "code",
   "execution_count": 97,
   "metadata": {},
   "outputs": [
    {
     "data": {
      "text/plain": [
       "[121140, 44548, 6967, 707, 70, 6]"
      ]
     },
     "execution_count": 97,
     "metadata": {},
     "output_type": "execute_result"
    }
   ],
   "source": [
    "test_corpus.get_label_count_per_token_distro(total_corpus_dir, 'list')"
   ]
  },
  {
   "cell_type": "code",
   "execution_count": 98,
   "metadata": {},
   "outputs": [
    {
     "data": {
      "text/plain": [
       "{0: 121140, 1: 44548, 2: 6967, 3: 707, 4: 70, 5: 6}"
      ]
     },
     "execution_count": 98,
     "metadata": {},
     "output_type": "execute_result"
    }
   ],
   "source": [
    "test_corpus.get_label_count_per_token_distro(total_corpus_dir, 'dict')"
   ]
  },
  {
   "cell_type": "markdown",
   "metadata": {},
   "source": [
    "# Statistics"
   ]
  },
  {
   "cell_type": "markdown",
   "metadata": {},
   "source": [
    "We are only interested in the curation and therfore subset the dataframe to exclude the annotation by the annotators."
   ]
  },
  {
   "cell_type": "markdown",
   "metadata": {},
   "source": [
    "## Basic statistics"
   ]
  },
  {
   "cell_type": "markdown",
   "metadata": {},
   "source": [
    "Full corpus representing the curated dataset:\n"
   ]
  },
  {
   "cell_type": "code",
   "execution_count": 99,
   "metadata": {},
   "outputs": [
    {
     "data": {
      "text/plain": [
       "policy:None title:None chapter:None section:None article:None"
      ]
     },
     "execution_count": 99,
     "metadata": {},
     "output_type": "execute_result"
    }
   ],
   "source": [
    "total_corpus_dir = repository()\n",
    "total_corpus_dir"
   ]
  },
  {
   "cell_type": "markdown",
   "metadata": {},
   "source": [
    "### Total number of annotated articles"
   ]
  },
  {
   "cell_type": "markdown",
   "metadata": {},
   "source": [
    "The number of annotated articles"
   ]
  },
  {
   "cell_type": "code",
   "execution_count": 100,
   "metadata": {},
   "outputs": [
    {
     "data": {
      "text/plain": [
       "412"
      ]
     },
     "execution_count": 100,
     "metadata": {},
     "output_type": "execute_result"
    }
   ],
   "source": [
    "# Assign the number of spans in each article to a new column\n",
    "test_corpus.df['Curationlength'] = test_corpus.df.apply(lambda x: len(x['Curation']), axis=1)\n",
    "# Count those where no annotations were made\n",
    "sum(test_corpus.df['Curationlength']!=0)"
   ]
  },
  {
   "cell_type": "markdown",
   "metadata": {},
   "source": [
    "The number of annotated articles including whereas and front:"
   ]
  },
  {
   "cell_type": "code",
   "execution_count": 101,
   "metadata": {},
   "outputs": [
    {
     "data": {
      "text/plain": [
       "430"
      ]
     },
     "execution_count": 101,
     "metadata": {},
     "output_type": "execute_result"
    }
   ],
   "source": [
    "# Assign the number of spans in each article to a new column\n",
    "stat_df['Curationlength'] = stat_df.apply(lambda x: len(x['Curation']), axis=1)\n",
    "# Count those where no annotations were made\n",
    "sum(stat_df['Curationlength']!=0)"
   ]
  },
  {
   "cell_type": "markdown",
   "metadata": {},
   "source": [
    "## Summary of annotations\n",
    "\n"
   ]
  },
  {
   "cell_type": "markdown",
   "metadata": {},
   "source": [
    "## Span length\n",
    "\n"
   ]
  },
  {
   "cell_type": "markdown",
   "metadata": {},
   "source": [
    "Distribution of the length of the spans in the curated set.\n",
    "\n"
   ]
  },
  {
   "cell_type": "code",
   "execution_count": 102,
   "metadata": {},
   "outputs": [
    {
     "data": {
      "image/png": "[encoded data removed]",
      "text/plain": [
       "<Figure size 432x288 with 1 Axes>"
      ]
     },
     "metadata": {
      "needs_background": "light"
     },
     "output_type": "display_data"
    }
   ],
   "source": [
    "span_len_tokens = test_corpus.get_span_distro(conditional_rep = total_corpus_dir, return_format = 'list', level = 'token')\n",
    "\n",
    "import matplotlib.pyplot as plt\n",
    "fig, ax = plt.subplots()\n",
    "ax.plot(span_len_tokens)\n",
    "ax.set_xlabel('Number of tokens')\n",
    "ax.set_ylabel('Count of spans')\n",
    "ax.set_yscale('log')\n",
    "plt.savefig('span_distribution_tokens.png', dpi=200)\n",
    "plt.show()"
   ]
  },
  {
   "cell_type": "markdown",
   "metadata": {},
   "source": [
    "Fraction of spans with 3 or less tokens:\n",
    "\n"
   ]
  },
  {
   "cell_type": "code",
   "execution_count": 103,
   "metadata": {},
   "outputs": [
    {
     "data": {
      "text/plain": [
       "0.7775779959179706"
      ]
     },
     "execution_count": 103,
     "metadata": {},
     "output_type": "execute_result"
    }
   ],
   "source": [
    "sum(span_len_tokens[:3])/sum(span_len_tokens) \n"
   ]
  },
  {
   "cell_type": "markdown",
   "metadata": {},
   "source": [
    "### Looking at those long spans\n"
   ]
  },
  {
   "cell_type": "code",
   "execution_count": 104,
   "metadata": {},
   "outputs": [],
   "source": [
    "spanlist_total_corpus = test_corpus.get_span_list(conditional_rep = total_corpus_dir)\n"
   ]
  },
  {
   "cell_type": "code",
   "execution_count": 105,
   "metadata": {},
   "outputs": [
    {
     "name": "stdout",
     "output_type": "stream",
     "text": [
      "annotator:Curation layer:Policydesigncharacteristics type:Reversibility tag:Reversibility_policy start:1630 stop:2099 text:a delegated act adopted pursuant to article 3(5), article 15(5), article 26(6), article 37(7) and article 40(4) shall enter into force only if no objection has been expressed either by the european parliament or the council within a period of two months of notification of that act to the european parliament and to the council or if, before the expiry of that period, the european parliament and the council have both informed the commission that they will not object.\n",
      "\n"
     ]
    }
   ],
   "source": [
    "# Making a dataframe that can be sorted by the number of characters in the info string\n",
    "entrylen = [len(x.text) for x in spanlist_total_corpus]\n",
    "spanlen = pd.DataFrame(data = {\"entrylen\": entrylen, \"spanlist\": spanlist_total_corpus})\n",
    "spanlen = spanlen.sort_values(by = \"entrylen\", ascending=False)\n",
    "print(str(spanlen.iloc[0,1]))"
   ]
  },
  {
   "cell_type": "code",
   "execution_count": 106,
   "metadata": {},
   "outputs": [
    {
     "data": {
      "text/plain": [
       "{13: 1650,\n",
       " 10: 1547,\n",
       " 12: 1137,\n",
       " 8: 1067,\n",
       " 7: 870,\n",
       " 6: 862,\n",
       " 11: 860,\n",
       " 9: 858,\n",
       " 20: 788,\n",
       " 19: 663,\n",
       " 16: 611,\n",
       " 17: 599,\n",
       " 14: 569,\n",
       " 15: 544,\n",
       " 29: 542,\n",
       " 18: 460,\n",
       " 4: 444,\n",
       " 24: 432,\n",
       " 21: 419,\n",
       " 28: 417,\n",
       " 25: 357,\n",
       " 22: 312,\n",
       " 5: 290,\n",
       " 26: 283,\n",
       " 23: 283,\n",
       " 27: 280,\n",
       " 33: 192,\n",
       " 30: 186,\n",
       " 31: 162,\n",
       " 34: 137,\n",
       " 35: 134,\n",
       " 32: 130,\n",
       " 38: 120,\n",
       " 36: 109,\n",
       " 43: 109,\n",
       " 44: 109,\n",
       " 3: 95,\n",
       " 37: 93,\n",
       " 40: 84,\n",
       " 39: 83,\n",
       " 41: 80,\n",
       " 45: 78,\n",
       " 50: 76,\n",
       " 42: 69,\n",
       " 48: 60,\n",
       " 47: 57,\n",
       " 49: 54,\n",
       " 46: 54,\n",
       " 54: 51,\n",
       " 53: 40,\n",
       " 58: 39,\n",
       " 52: 36,\n",
       " 51: 36,\n",
       " 55: 36,\n",
       " 67: 35,\n",
       " 59: 32,\n",
       " 60: 30,\n",
       " 56: 29,\n",
       " 57: 26,\n",
       " 63: 26,\n",
       " 68: 24,\n",
       " 62: 23,\n",
       " 66: 22,\n",
       " 64: 22,\n",
       " 61: 19,\n",
       " 70: 18,\n",
       " 72: 17,\n",
       " 65: 16,\n",
       " 73: 16,\n",
       " 71: 16,\n",
       " 69: 15,\n",
       " 80: 15,\n",
       " 75: 14,\n",
       " 83: 14,\n",
       " 77: 14,\n",
       " 74: 14,\n",
       " 79: 13,\n",
       " 82: 13,\n",
       " 88: 12,\n",
       " 87: 12,\n",
       " 86: 12,\n",
       " 78: 11,\n",
       " 95: 10,\n",
       " 76: 10,\n",
       " 93: 10,\n",
       " 89: 9,\n",
       " 90: 9,\n",
       " 85: 9,\n",
       " 99: 9,\n",
       " 96: 8,\n",
       " 91: 8,\n",
       " 81: 8,\n",
       " 92: 8,\n",
       " 102: 7,\n",
       " 128: 6,\n",
       " 98: 6,\n",
       " 141: 6,\n",
       " 121: 6,\n",
       " 84: 6,\n",
       " 118: 6,\n",
       " 97: 6,\n",
       " 129: 6,\n",
       " 94: 6,\n",
       " 112: 5,\n",
       " 113: 5,\n",
       " 114: 5,\n",
       " 115: 5,\n",
       " 124: 5,\n",
       " 144: 5,\n",
       " 2: 5,\n",
       " 163: 5,\n",
       " 106: 5,\n",
       " 107: 5,\n",
       " 127: 5,\n",
       " 136: 4,\n",
       " 120: 4,\n",
       " 148: 4,\n",
       " 126: 4,\n",
       " 145: 4,\n",
       " 171: 4,\n",
       " 142: 4,\n",
       " 105: 4,\n",
       " 123: 4,\n",
       " 122: 4,\n",
       " 100: 3,\n",
       " 104: 3,\n",
       " 131: 3,\n",
       " 175: 3,\n",
       " 116: 3,\n",
       " 156: 3,\n",
       " 103: 3,\n",
       " 160: 3,\n",
       " 101: 3,\n",
       " 108: 3,\n",
       " 109: 3,\n",
       " 119: 3,\n",
       " 196: 3,\n",
       " 178: 3,\n",
       " 187: 3,\n",
       " 186: 2,\n",
       " 220: 2,\n",
       " 170: 2,\n",
       " 167: 2,\n",
       " 243: 2,\n",
       " 223: 2,\n",
       " 164: 2,\n",
       " 134: 2,\n",
       " 133: 2,\n",
       " 154: 2,\n",
       " 110: 2,\n",
       " 166: 2,\n",
       " 138: 2,\n",
       " 248: 2,\n",
       " 147: 2,\n",
       " 151: 2,\n",
       " 181: 2,\n",
       " 140: 2,\n",
       " 137: 2,\n",
       " 125: 2,\n",
       " 139: 2,\n",
       " 159: 2,\n",
       " 172: 2,\n",
       " 111: 2,\n",
       " 179: 2,\n",
       " 210: 1,\n",
       " 469: 1,\n",
       " 216: 1,\n",
       " 194: 1,\n",
       " 161: 1,\n",
       " 355: 1,\n",
       " 278: 1,\n",
       " 219: 1,\n",
       " 199: 1,\n",
       " 177: 1,\n",
       " 184: 1,\n",
       " 263: 1,\n",
       " 202: 1,\n",
       " 237: 1,\n",
       " 341: 1,\n",
       " 176: 1,\n",
       " 150: 1,\n",
       " 168: 1,\n",
       " 211: 1,\n",
       " 227: 1,\n",
       " 158: 1,\n",
       " 297: 1,\n",
       " 273: 1,\n",
       " 162: 1,\n",
       " 390: 1,\n",
       " 334: 1,\n",
       " 195: 1,\n",
       " 313: 1,\n",
       " 279: 1,\n",
       " 155: 1,\n",
       " 130: 1,\n",
       " 197: 1,\n",
       " 198: 1,\n",
       " 174: 1,\n",
       " 117: 1,\n",
       " 135: 1,\n",
       " 283: 1,\n",
       " 244: 1,\n",
       " 149: 1,\n",
       " 143: 1,\n",
       " 240: 1,\n",
       " 165: 1,\n",
       " 245: 1,\n",
       " 225: 1,\n",
       " 169: 1,\n",
       " 266: 1}"
      ]
     },
     "execution_count": 106,
     "metadata": {},
     "output_type": "execute_result"
    }
   ],
   "source": [
    "test_corpus.get_span_distro(conditional_rep = total_corpus_dir, return_format = 'dict', level = 'character')\n"
   ]
  },
  {
   "cell_type": "code",
   "execution_count": 123,
   "metadata": {},
   "outputs": [
    {
     "data": {
      "text/plain": [
       "[annotator:Curation layer:Policydesigncharacteristics type:Reversibility tag:Reversibility_policy start:1630 stop:2099 text:a delegated act adopted pursuant to article 3(5), article 15(5), article 26(6), article 37(7) and article 40(4) shall enter into force only if no objection has been expressed either by the european parliament or the council within a period of two months of notification of that act to the european parliament and to the council or if, before the expiry of that period, the european parliament and the council have both informed the commission that they will not object.]"
      ]
     },
     "execution_count": 123,
     "metadata": {},
     "output_type": "execute_result"
    }
   ],
   "source": [
    "## finding largest span\n",
    "top_span_count = 1\n",
    "entrylen.sort(reverse = True)\n",
    "top_spans = [x for x in spanlist_total_corpus if len(x.text) >= entrylen[top_span_count - 1]]\n",
    "top_spans"
   ]
  },
  {
   "cell_type": "code",
   "execution_count": 125,
   "metadata": {},
   "outputs": [
    {
     "data": {
      "image/png": "[encoded data removed]",
      "text/plain": [
       "<Figure size 432x288 with 1 Axes>"
      ]
     },
     "metadata": {
      "needs_background": "light"
     },
     "output_type": "display_data"
    }
   ],
   "source": [
    "fig, ax = plt.subplots()\n",
    "ax.plot(test_corpus.get_span_distro(conditional_rep = total_corpus_dir, return_format = 'list', level = 'character'))\n",
    "ax.set_xlabel('Number of characters')\n",
    "ax.set_ylabel('Count of spans')\n",
    "ax.set_yscale('log')\n",
    "plt.savefig('span_distribution_char.png', dpi=200)\n",
    "plt.show()"
   ]
  },
  {
   "cell_type": "markdown",
   "metadata": {},
   "source": [
    "## Most frequent spans for example tags\n"
   ]
  },
  {
   "cell_type": "markdown",
   "metadata": {},
   "source": [
    "Most frequent tokens for low-carbon technology\n",
    "\n"
   ]
  },
  {
   "cell_type": "code",
   "execution_count": 126,
   "metadata": {},
   "outputs": [
    {
     "name": "stdout",
     "output_type": "stream",
     "text": [
      "{'energy': 251, 'and': 244, 'cogeneration': 138, 'efficiency': 129, 'from': 114, 'systems': 114, 'batteries': 110, 'accumulators': 110, 'heating': 110, 'renewable': 105, 'or': 103, 'cooling': 103, 'electricity': 91}\n"
     ]
    }
   ],
   "source": [
    "tech_LowCarbon_tokens = test_corpus.most_frequent_labeled_tokens(item = 'tag', value = 'Tech_LowCarbon', conditional_rep = total_corpus_dir)\n",
    "tech_LowCarbon_tokens_top = dict(list(tech_LowCarbon_tokens.items())[:13])\n",
    "print(tech_LowCarbon_tokens_top)"
   ]
  },
  {
   "cell_type": "markdown",
   "metadata": {},
   "source": [
    "Most frequent tokens for other technology"
   ]
  },
  {
   "cell_type": "code",
   "execution_count": 127,
   "metadata": {},
   "outputs": [
    {
     "name": "stdout",
     "output_type": "stream",
     "text": [
      "{'system': 160, 'vehicles': 92, 'buildings': 77, 'systems': 72, 'passenger': 69, 'and': 69, 'commercial': 63, 'transmission': 63, 'distribution': 63, 'light': 62, 'electricity': 58, 'building': 56, 'cars': 55}\n"
     ]
    }
   ],
   "source": [
    "tech_Other_tokens = test_corpus.most_frequent_labeled_tokens(item = 'tag', value = 'Tech_Other', conditional_rep = total_corpus_dir)\n",
    "tech_Other_tokens_top = dict(list(tech_Other_tokens.items())[:13])\n",
    "print(tech_Other_tokens_top)"
   ]
  },
  {
   "cell_type": "markdown",
   "metadata": {},
   "source": [
    "Most frequent spans for low-carbon technology"
   ]
  },
  {
   "cell_type": "code",
   "execution_count": 129,
   "metadata": {},
   "outputs": [
    {
     "name": "stdout",
     "output_type": "stream",
     "text": [
      "{'energy efficiency': 87, 'cogeneration': 61, 'batteries': 56, 'accumulators': 56, 'installation': 36, 'recharging points': 36, 'high-efficiency cogeneration': 34, 'district heating and cooling': 23, 'energy storage facilities': 22, 'smart metering systems': 22, 'renovation': 22, 'battery': 16, 'installations': 16, 'hydrogen components and systems': 15, 'batteries and accumulators': 13}\n"
     ]
    }
   ],
   "source": [
    "tech_LowCarbon_spans = test_corpus.most_frequent_labeled_spans(item = 'tag', value = 'Tech_LowCarbon', conditional_rep = total_corpus_dir)\n",
    "tech_LowCarbon_spans_top = dict(list(tech_LowCarbon_spans.items())[:15])\n",
    "print(tech_LowCarbon_spans_top)\n"
   ]
  },
  {
   "cell_type": "markdown",
   "metadata": {},
   "source": [
    "Most frequent spans for other technology"
   ]
  },
  {
   "cell_type": "code",
   "execution_count": 130,
   "metadata": {},
   "outputs": [
    {
     "name": "stdout",
     "output_type": "stream",
     "text": [
      "{'buildings': 49, 'passenger cars': 35, 'transmission system': 35, 'system': 31, 'grid': 29, 'building': 29, 'light commercial vehicles': 28, 'distribution system': 22, 'new passenger cars': 20, 'new light commercial vehicles': 19, 'network': 19, 'vehicles': 17, 'installations': 14, 'vehicle': 12, 'infrastructure': 11}\n"
     ]
    }
   ],
   "source": [
    "tech_Other_spans = test_corpus.most_frequent_labeled_spans(item = 'tag', value = 'Tech_Other', conditional_rep = total_corpus_dir)\n",
    "tech_Other_spans_top = dict(list(tech_Other_spans.items())[:15])\n",
    "print(tech_Other_spans_top)"
   ]
  },
  {
   "cell_type": "markdown",
   "metadata": {},
   "source": [
    "Most frequent spans for Form Monitoring"
   ]
  },
  {
   "cell_type": "code",
   "execution_count": 131,
   "metadata": {},
   "outputs": [
    {
     "name": "stdout",
     "output_type": "stream",
     "text": [
      "{'report': 146, 'reporting': 79, 'assessment': 68, 'review': 63, 'information': 58, 'notification': 57, 'monitoring': 46, 'reports': 46, 'projections': 39, 'notify': 33, 'reported': 32, 'monitor': 27, 'assess': 25, 'inventory': 24, 'notified': 21}\n"
     ]
    }
   ],
   "source": [
    "spans = test_corpus.most_frequent_labeled_spans(item = 'tag', value = 'Form_monitoring', conditional_rep = total_corpus_dir)\n",
    "spans_top = dict(list(spans.items())[:15])\n",
    "print(spans_top)"
   ]
  },
  {
   "cell_type": "markdown",
   "metadata": {},
   "source": [
    "Most frequent spans for Instrument types"
   ]
  },
  {
   "cell_type": "code",
   "execution_count": 132,
   "metadata": {},
   "outputs": [
    {
     "name": "stdout",
     "output_type": "stream",
     "text": [
      "{'requirements': 92, 'obligations': 65, 'rules': 49, 'derogation': 48, 'obligation': 25, 'regulations': 24, 'standards': 24, 'certification': 23, 'criteria': 21, 'technical specifications': 19, 'sustainability criteria': 15, 'type-approval': 14, 'right': 14, 'regulatory procedure': 14, 'guarantees of origin': 13}\n"
     ]
    }
   ],
   "source": [
    "spans = test_corpus.most_frequent_labeled_spans(item = 'tag', value = 'RegulatoryInstr', conditional_rep = total_corpus_dir)\n",
    "spans_top = dict(list(spans.items())[:15])\n",
    "print(spans_top)"
   ]
  },
  {
   "cell_type": "code",
   "execution_count": 133,
   "metadata": {},
   "outputs": [
    {
     "name": "stdout",
     "output_type": "stream",
     "text": [
      "{'member states': 901, 'commission': 757, 'member state': 277, 'member\\xa0states': 260, 'european parliament': 167, 'council': 164, 'regulatory authority': 144, 'transmission system operator': 111, 'final customers': 102, 'member\\xa0state': 92, 'customers': 86, 'transmission system operators': 85, 'distribution system operators': 81, 'manufacturer': 63, 'regulatory authorities': 54}\n"
     ]
    }
   ],
   "source": [
    "spans = test_corpus.most_frequent_labeled_spans(item = 'type', value = 'Actor', conditional_rep = total_corpus_dir)\n",
    "spans_top = dict(list(spans.items())[:15])\n",
    "print(spans_top)"
   ]
  },
  {
   "cell_type": "code",
   "execution_count": 134,
   "metadata": {},
   "outputs": [
    {
     "name": "stdout",
     "output_type": "stream",
     "text": [
      "{'transmission system operator': 91, 'distribution system operators': 69, 'transmission system operators': 68, 'manufacturer': 52, 'suppliers': 41, 'distribution system operator': 37, 'manufacturers': 34, 'final customers': 31, 'supplier': 28, 'transport sector': 24, 'transport': 23, 'independent system operator': 23, 'market participants': 19, 'electricity undertakings': 16, 'producers': 15}\n"
     ]
    }
   ],
   "source": [
    "spans = test_corpus.most_frequent_labeled_spans(item = 'tag', value = 'Addressee_sector', conditional_rep = total_corpus_dir)\n",
    "spans_top = dict(list(spans.items())[:15])\n",
    "print(spans_top)"
   ]
  },
  {
   "cell_type": "code",
   "execution_count": 135,
   "metadata": {},
   "outputs": [
    {
     "name": "stdout",
     "output_type": "stream",
     "text": [
      "{'objectives': 33, 'targets': 16, 'energy savings': 12, 'contributions': 11, 'national overall targets': 8, 'national overall target': 7, 'energy efficiency': 6, 'national objectives': 6, 'union target': 6, 'target': 6, 'energy union objectives': 6, 'indicative trajectory': 6, 'national target': 4, 'reducing end-use energy consumption': 4, 'objectives of the energy union': 4, 'national targets': 4, 'national targets and objectives': 4, 'objectives, targets and contributions': 4, \"union's 2030 target\": 4, 'greenhouse gas emission reduction or limitation targets': 3}\n"
     ]
    }
   ],
   "source": [
    "spans = test_corpus.most_frequent_labeled_spans(item = 'tag', value = 'Objective_QualIntention', conditional_rep = total_corpus_dir)\n",
    "spans_top = dict(list(spans.items())[:20])\n",
    "print(spans_top)"
   ]
  },
  {
   "cell_type": "code",
   "execution_count": 136,
   "metadata": {},
   "outputs": [
    {
     "name": "stdout",
     "output_type": "stream",
     "text": [
      "{'repealed': 4, 'extension': 3, 'a decision to revoke shall put an end to the delegation of the power specified in that decision': 2, 'repealing': 2, 'extended by two months': 2, 'may be revoked at any time by the european parliament or by the council': 2, 'deleted': 2, 'repeal': 2, 'delegation of power shall be tacitly extended for periods of an identical duration, unless the european parliament or the council opposes such extension not later than three months before the end of each period': 1, 'the delegation of power referred to in article 3(5), article 15(5), article 26(6), article 37(7) and article 40(4) may be revoked at any time by the european parliament or by the council': 1, 'a delegated act adopted pursuant to article 3(5), article 15(5), article 26(6), article 37(7) and article 40(4) shall enter into force only if no objection has been expressed either by the european parliament or the council within a period of two months of notification of that act to the european parliament and to the council or if, before the expiry of that period, the european parliament and the council have both informed the commission that they will not object.': 1, 'extended for periods of an identical duration': 1, 'revoked': 1, 'revoke': 1, 'tacitly extended for periods of an identical duration': 1, 'delegation of power referred to in articles 6, 7 and 10 may be revoked at any time': 1, 'decision to revoke': 1, 'shall be extended by three months at the initiative of the european parliament or of the council': 1, 'extended for a further additional period, not exceeding eight years': 1, 'revised and/or additional measures when the objectives are not achieved or are not likely to be achieved': 1}\n"
     ]
    }
   ],
   "source": [
    "spans = test_corpus.most_frequent_labeled_spans(item = 'type', value = 'Reversibility', conditional_rep = total_corpus_dir)\n",
    "spans_top = dict(list(spans.items())[:20])\n",
    "print(spans_top)"
   ]
  },
  {
   "cell_type": "code",
   "execution_count": 137,
   "metadata": {},
   "outputs": [
    {
     "name": "stdout",
     "output_type": "stream",
     "text": [
      "{'heating': 98, 'cooling': 94, 'energy savings': 61, 'supply': 49, 'energy consumption': 36, 'consumption': 31, 'aggregation': 30, 'demand response': 28, 'generation': 26, 'energy services': 25, 'transport': 23, 'distribution': 22, 'transmission': 21, 'renewable energy communities': 19, 'energy storage': 14}\n"
     ]
    }
   ],
   "source": [
    "spans = test_corpus.most_frequent_labeled_spans(item = 'type', value = 'ApplicationSpecificity', conditional_rep = total_corpus_dir)\n",
    "spans_top = dict(list(spans.items())[:15])\n",
    "print(spans_top)"
   ]
  },
  {
   "cell_type": "code",
   "execution_count": 138,
   "metadata": {},
   "outputs": [
    {
     "name": "stdout",
     "output_type": "stream",
     "text": [
      "{'heating': 78, 'cooling': 78, 'energy savings': 54, 'demand response': 27, 'renewable energy communities': 19, 'energy storage': 14, 'energy efficiency': 13, 'electric vehicles': 12, 'electricity': 12, 'transport': 12, 'vehicles': 10, 'renewables self-consumption': 10, 'vehicle': 9, 'primary energy savings': 8, 'final consumption of energy from renewable sources': 7}\n"
     ]
    }
   ],
   "source": [
    "spans = test_corpus.most_frequent_labeled_spans(item = 'tag', value = 'App_LowCarbon', conditional_rep = total_corpus_dir)\n",
    "spans_top = dict(list(spans.items())[:15])\n",
    "print(spans_top)"
   ]
  },
  {
   "cell_type": "code",
   "execution_count": 139,
   "metadata": {},
   "outputs": [
    {
     "name": "stdout",
     "output_type": "stream",
     "text": [
      "{'electricity': 199, 'renewable energy': 159, 'energy from renewable sources': 157, 'biofuels': 125, 'energy': 121, 'bioliquids': 92, 'hydrogen': 68, 'biomass fuels': 61, 'renewable energy sources': 40, 'biomass': 39, 'electricity from renewable sources': 31, 'fuel': 28, 'heat': 25, 'lng': 25, 'natural gas': 24}\n"
     ]
    }
   ],
   "source": [
    "spans = test_corpus.most_frequent_labeled_spans(item = 'type', value = 'EnergySpecificity', conditional_rep = total_corpus_dir)\n",
    "spans_top = dict(list(spans.items())[:15])\n",
    "print(spans_top)"
   ]
  },
  {
   "cell_type": "code",
   "execution_count": 140,
   "metadata": {},
   "outputs": [
    {
     "name": "stdout",
     "output_type": "stream",
     "text": [
      "{'renewable energy': 159, 'energy from renewable sources': 157, 'biofuels': 125, 'bioliquids': 92, 'electricity': 82, 'hydrogen': 68, 'biomass fuels': 60, 'renewable energy sources': 40, 'biomass': 39, 'electricity from renewable sources': 31, 'biofuel': 23, 'biogas': 21, 'alternative fuels': 17, 'waste heat and cold': 17, 'renewable sources': 16}\n"
     ]
    }
   ],
   "source": [
    "spans = test_corpus.most_frequent_labeled_spans(item = 'tag', value = 'Energy_LowCarbon', conditional_rep = total_corpus_dir)\n",
    "spans_top = dict(list(spans.items())[:15])\n",
    "print(spans_top)"
   ]
  },
  {
   "cell_type": "markdown",
   "metadata": {},
   "source": [
    "## Counts of annotations"
   ]
  },
  {
   "cell_type": "markdown",
   "metadata": {},
   "source": [
    "### Number of annotations per layer"
   ]
  },
  {
   "cell_type": "code",
   "execution_count": 148,
   "metadata": {},
   "outputs": [],
   "source": [
    "stat_corpus = test_corpus"
   ]
  },
  {
   "cell_type": "code",
   "execution_count": 149,
   "metadata": {},
   "outputs": [],
   "source": [
    "n_instr = stat_corpus.get_span_count(item = 'layer',value = 'Instrumenttypes', conditional_rep = total_corpus_dir)\n",
    "n_pdc = stat_corpus.get_span_count(item = 'layer',value = 'Policydesigncharacteristics', conditional_rep = total_corpus_dir)\n",
    "n_techspec = stat_corpus.get_span_count(item = 'layer',value = 'Technologyandapplicationspecificity', conditional_rep = total_corpus_dir)\n"
   ]
  },
  {
   "cell_type": "code",
   "execution_count": 150,
   "metadata": {},
   "outputs": [],
   "source": [
    "n_instr1 = stat_corpus.get_span_count(item = 'tag',value = 'VoluntaryAgrmt', conditional_rep = total_corpus_dir)\n",
    "n_instr2 = stat_corpus.get_span_count(item = 'tag',value = 'FrameworkPolicy', conditional_rep = total_corpus_dir)\n",
    "n_instr3 = stat_corpus.get_span_count(item = 'tag',value = 'TradablePermit', conditional_rep = total_corpus_dir)\n",
    "n_instr4 = stat_corpus.get_span_count(item = 'tag',value = 'RegulatoryInstr', conditional_rep = total_corpus_dir)\n",
    "n_instr5 = stat_corpus.get_span_count(item = 'tag',value = 'TaxIncentives', conditional_rep = total_corpus_dir)\n",
    "n_instr6 = stat_corpus.get_span_count(item = 'tag',value = 'Subsidies_Incentives', conditional_rep = total_corpus_dir)\n",
    "n_instr7 = stat_corpus.get_span_count(item = 'tag',value = 'RD_D', conditional_rep = total_corpus_dir)\n",
    "n_instr8 = stat_corpus.get_span_count(item = 'tag',value = 'PublicInvt', conditional_rep = total_corpus_dir)\n",
    "n_instr9 = stat_corpus.get_span_count(item = 'tag',value = 'Edu_Outreach', conditional_rep = total_corpus_dir)\n",
    "n_instr10 = stat_corpus.get_span_count(item = 'tag',value = 'Unspecified', conditional_rep = total_corpus_dir)"
   ]
  },
  {
   "cell_type": "code",
   "execution_count": 151,
   "metadata": {},
   "outputs": [],
   "source": [
    "n_pdc1 = stat_corpus.get_span_count(item = 'type',value = 'Actor', conditional_rep = total_corpus_dir)\n",
    "n_pdc2 = stat_corpus.get_span_count(item = 'type',value = 'Compliance', conditional_rep = total_corpus_dir)\n",
    "n_pdc3 = stat_corpus.get_span_count(item = 'type',value = 'Reference', conditional_rep = total_corpus_dir)\n",
    "n_pdc4 = stat_corpus.get_span_count(item = 'type',value = 'Objective', conditional_rep = total_corpus_dir)\n",
    "n_pdc5 = stat_corpus.get_span_count(item = 'type',value = 'Resource', conditional_rep = total_corpus_dir)\n",
    "n_pdc6 = stat_corpus.get_span_count(item = 'type',value = 'Reversibility', conditional_rep = total_corpus_dir)\n",
    "n_pdc7 = stat_corpus.get_span_count(item = 'type',value = 'Time', conditional_rep = total_corpus_dir)"
   ]
  },
  {
   "cell_type": "code",
   "execution_count": 152,
   "metadata": {},
   "outputs": [],
   "source": [
    "n_pdc11 = stat_corpus.get_span_count(item = 'tag',value = 'Authority_default', conditional_rep = total_corpus_dir)\n",
    "n_pdc12 = stat_corpus.get_span_count(item = 'tag',value = 'Authority_legislative', conditional_rep = total_corpus_dir)\n",
    "n_pdc13 = stat_corpus.get_span_count(item = 'tag',value = 'Authority_established', conditional_rep = total_corpus_dir)\n",
    "n_pdc14 = stat_corpus.get_span_count(item = 'tag',value = 'Authority_monitoring', conditional_rep = total_corpus_dir)\n",
    "n_pdc15 = stat_corpus.get_span_count(item = 'tag',value = 'Addressee_default', conditional_rep = total_corpus_dir)\n",
    "n_pdc16 = stat_corpus.get_span_count(item = 'tag',value = 'Addressee_resource', conditional_rep = total_corpus_dir)\n",
    "n_pdc17 = stat_corpus.get_span_count(item = 'tag',value = 'Addressee_monitored', conditional_rep = total_corpus_dir)\n",
    "n_pdc18 = stat_corpus.get_span_count(item = 'tag',value = 'Addressee_sector', conditional_rep = total_corpus_dir)\n",
    "##\n",
    "n_pdc21 = stat_corpus.get_span_count(item = 'tag',value = 'Form_sanctioning', conditional_rep = total_corpus_dir)\n",
    "n_pdc22 = stat_corpus.get_span_count(item = 'tag',value = 'Form_monitoring', conditional_rep = total_corpus_dir)\n",
    "##\n",
    "n_pdc31 = stat_corpus.get_span_count(item = 'tag',value = 'Ref_OtherPolicy', conditional_rep = total_corpus_dir)\n",
    "n_pdc32 = stat_corpus.get_span_count(item = 'tag',value = 'Ref_PolicyAmended', conditional_rep = total_corpus_dir)\n",
    "n_pdc33 = stat_corpus.get_span_count(item = 'tag',value = 'Ref_Strategy_Agreement', conditional_rep = total_corpus_dir)\n",
    "##\n",
    "n_pdc41 = stat_corpus.get_span_count(item = 'tag',value = 'Objective_QuantTarget', conditional_rep = total_corpus_dir)\n",
    "n_pdc42 = stat_corpus.get_span_count(item = 'tag',value = 'Objective_QualIntention', conditional_rep = total_corpus_dir)\n",
    "n_pdc43 = stat_corpus.get_span_count(item = 'tag',value = 'Objective_QuantTarget_noCCM', conditional_rep = total_corpus_dir)\n",
    "n_pdc44 = stat_corpus.get_span_count(item = 'tag',value = 'Objective_QualIntention_noCCM', conditional_rep = total_corpus_dir)\n",
    "##\n",
    "n_pdc51 = stat_corpus.get_span_count(item = 'tag',value = 'Resource_MonSpending', conditional_rep = total_corpus_dir)\n",
    "n_pdc52 = stat_corpus.get_span_count(item = 'tag',value = 'Resource_MonRevenues', conditional_rep = total_corpus_dir)\n",
    "n_pdc53 = stat_corpus.get_span_count(item = 'tag',value = 'Resource_other', conditional_rep = total_corpus_dir)\n",
    "##\n",
    "n_pdc61 = stat_corpus.get_span_count(item = 'tag',value = '', conditional_rep = total_corpus_dir)\n",
    "##\n",
    "n_pdc71 = stat_corpus.get_span_count(item = 'tag',value = 'Time_PolDuration', conditional_rep = total_corpus_dir)\n",
    "n_pdc72 = stat_corpus.get_span_count(item = 'tag',value = 'Time_Monitoring', conditional_rep = total_corpus_dir)\n",
    "n_pdc73 = stat_corpus.get_span_count(item = 'tag',value = 'Time_Resources', conditional_rep = total_corpus_dir)\n",
    "n_pdc74 = stat_corpus.get_span_count(item = 'tag',value = 'Time_Compliance', conditional_rep = total_corpus_dir)\n",
    "n_pdc75 = stat_corpus.get_span_count(item = 'tag',value = 'Time_InEffect', conditional_rep = total_corpus_dir)"
   ]
  },
  {
   "cell_type": "code",
   "execution_count": 153,
   "metadata": {},
   "outputs": [],
   "source": [
    "n_techspec1 = stat_corpus.get_span_count(item = 'type',value = 'TechnologySpecificity', conditional_rep = total_corpus_dir)\n",
    "n_techspec2 = stat_corpus.get_span_count(item = 'type',value = 'EnergySpecificity', conditional_rep = total_corpus_dir)\n",
    "n_techspec3 = stat_corpus.get_span_count(item = 'type',value = 'ApplicationSpecificity', conditional_rep = total_corpus_dir)"
   ]
  },
  {
   "cell_type": "code",
   "execution_count": 154,
   "metadata": {},
   "outputs": [],
   "source": [
    "n_techspec11 = stat_corpus.get_span_count(item = 'tag',value = 'Tech_LowCarbon', conditional_rep = total_corpus_dir)\n",
    "n_techspec12 = stat_corpus.get_span_count(item = 'tag',value = 'Tech_Other', conditional_rep = total_corpus_dir)\n",
    "##\n",
    "n_techspec21 = stat_corpus.get_span_count(item = 'tag',value = 'Energy_LowCarbon', conditional_rep = total_corpus_dir)\n",
    "n_techspec22 = stat_corpus.get_span_count(item = 'tag',value = 'Energy_Other', conditional_rep = total_corpus_dir)\n",
    "##\n",
    "n_techspec31 = stat_corpus.get_span_count(item = 'tag',value = 'App_LowCarbon', conditional_rep = total_corpus_dir)\n",
    "n_techspec32 = stat_corpus.get_span_count(item = 'tag',value = 'App_Other', conditional_rep = total_corpus_dir)"
   ]
  },
  {
   "cell_type": "code",
   "execution_count": 155,
   "metadata": {},
   "outputs": [],
   "source": [
    "# Data frame for the hierarchical visualization\n",
    "n = n_instr+n_pdc+n_techspec\n",
    "coding_scheme = [\"Instrument types\", \"Policy design characteristics\", \"Technology and application specificity\", \n",
    "                 'Voluntary agreement', \"Framework policy\", \"Tradable permit\", \"Regulatory instrument\", \"Tax incentives\",\n",
    "                 \"Subsidies and direct incentives\", \"RD&D\", \"Public Investment\", \"Education and outreach\", \"Unspecified\",\n",
    "                \"Actor\", \"Compliance\", 'Links to other policies', 'Objective', 'Resource', 'Reversibility', 'Time',\n",
    "                'Technology specificity','Energy specificity', 'Application specificity']\n",
    "df = pd.DataFrame(data = {\"Item and Group\": coding_scheme, \n",
    "                          \"Weight\": [n_instr/n, n_pdc/n, n_techspec/n,\n",
    "                                     n_instr1, n_instr2, n_instr3, n_instr4, \n",
    "                                     n_instr5, n_instr6, n_instr7, n_instr8, n_instr9, n_instr10,\n",
    "                                     n_pdc1, n_pdc2, n_pdc3, n_pdc4, n_pdc5, n_pdc6, n_pdc7,\n",
    "                                    n_techspec1, n_techspec2, n_techspec3], \n",
    "                          \"Parent\":[\"\", \"\", \"\",\n",
    "                                    \"Instrument types\", \"Instrument types\",\"Instrument types\",\"Instrument types\",\n",
    "                                    \"Instrument types\",\"Instrument types\",\"Instrument types\",\"Instrument types\",\n",
    "                                    \"Instrument types\",\"Instrument types\",\n",
    "                                    \"Policy design characteristics\", \"Policy design characteristics\",\n",
    "                                    \"Policy design characteristics\", \"Policy design characteristics\", \n",
    "                                    \"Policy design characteristics\", \"Policy design characteristics\", \n",
    "                                    \"Policy design characteristics\",\n",
    "                                   \"Technology and application specificity\", \"Technology and application specificity\", \n",
    "                                    \"Technology and application specificity\"]})"
   ]
  },
  {
   "cell_type": "markdown",
   "metadata": {},
   "source": [
    "Sunburst plot of the first two levels of the hierarchy\n"
   ]
  },
  {
   "cell_type": "code",
   "execution_count": 156,
   "metadata": {},
   "outputs": [
    {
     "ename": "ModuleNotFoundError",
     "evalue": "No module named 'plotly'",
     "output_type": "error",
     "traceback": [
      "\u001b[0;31m---------------------------------------------------------------------------\u001b[0m",
      "\u001b[0;31mModuleNotFoundError\u001b[0m                       Traceback (most recent call last)",
      "\u001b[0;32m<ipython-input-156-7ea9abe3c08d>\u001b[0m in \u001b[0;36m<module>\u001b[0;34m\u001b[0m\n\u001b[0;32m----> 1\u001b[0;31m \u001b[0;32mimport\u001b[0m \u001b[0mplotly\u001b[0m\u001b[0;34m.\u001b[0m\u001b[0mexpress\u001b[0m \u001b[0;32mas\u001b[0m \u001b[0mpx\u001b[0m\u001b[0;34m\u001b[0m\u001b[0;34m\u001b[0m\u001b[0m\n\u001b[0m\u001b[1;32m      2\u001b[0m \u001b[0;32mimport\u001b[0m \u001b[0mplotly\u001b[0m\u001b[0;34m.\u001b[0m\u001b[0mio\u001b[0m \u001b[0;32mas\u001b[0m \u001b[0mpio\u001b[0m\u001b[0;34m\u001b[0m\u001b[0;34m\u001b[0m\u001b[0m\n\u001b[1;32m      3\u001b[0m \u001b[0;34m\u001b[0m\u001b[0m\n\u001b[1;32m      4\u001b[0m \u001b[0mfig\u001b[0m \u001b[0;34m=\u001b[0m \u001b[0mpx\u001b[0m\u001b[0;34m.\u001b[0m\u001b[0msunburst\u001b[0m\u001b[0;34m(\u001b[0m\u001b[0mdf\u001b[0m\u001b[0;34m,\u001b[0m \u001b[0mpath\u001b[0m\u001b[0;34m=\u001b[0m\u001b[0;34m[\u001b[0m\u001b[0;34m'Parent'\u001b[0m\u001b[0;34m,\u001b[0m \u001b[0;34m'Item and Group'\u001b[0m\u001b[0;34m]\u001b[0m\u001b[0;34m,\u001b[0m \u001b[0mvalues\u001b[0m\u001b[0;34m=\u001b[0m\u001b[0;34m'Weight'\u001b[0m\u001b[0;34m,\u001b[0m \u001b[0mcolor\u001b[0m\u001b[0;34m=\u001b[0m\u001b[0;34m'Parent'\u001b[0m\u001b[0;34m)\u001b[0m\u001b[0;34m\u001b[0m\u001b[0;34m\u001b[0m\u001b[0m\n\u001b[1;32m      5\u001b[0m \u001b[0mfig\u001b[0m\u001b[0;34m.\u001b[0m\u001b[0mwrite_image\u001b[0m\u001b[0;34m(\u001b[0m\u001b[0;34m'ann_distribution_sunburst_2level.pdf'\u001b[0m\u001b[0;34m,\u001b[0m \u001b[0mengine\u001b[0m \u001b[0;34m=\u001b[0m \u001b[0;34m\"orca\"\u001b[0m\u001b[0;34m)\u001b[0m\u001b[0;34m\u001b[0m\u001b[0;34m\u001b[0m\u001b[0m\n",
      "\u001b[0;31mModuleNotFoundError\u001b[0m: No module named 'plotly'"
     ]
    }
   ],
   "source": [
    "\n",
    "import plotly.express as px \n",
    "import plotly.io as pio\n",
    "\n",
    "fig = px.sunburst(df, path=['Parent', 'Item and Group'], values='Weight', color='Parent')\n",
    "fig.write_image('ann_distribution_sunburst_2level.pdf', engine = \"orca\")\n",
    "fig.show()"
   ]
  },
  {
   "cell_type": "markdown",
   "metadata": {},
   "source": [
    "Sunburst plot of all three levels of the hierarchy\n"
   ]
  },
  {
   "cell_type": "code",
   "execution_count": 157,
   "metadata": {},
   "outputs": [],
   "source": [
    "w_instrument = [n_instr1, n_instr2, n_instr3, n_instr4, \n",
    "                                    n_instr5, n_instr6, n_instr7, n_instr8, \n",
    "                                   n_instr9, n_instr10]\n",
    "\n",
    "df_instrument = pd.DataFrame(data = {\"Weight\": w_instrument,\n",
    "                         \"Layers\": [\"Instrument types\"]*10,\n",
    "                        \"Features\": [\"Instrument types\"]*10,\n",
    "                         \"Tags\": ['Voluntary agreement', \"Framework policy\", \"Tradable permit\", \"Regulatory instrument\", \"Tax incentives\",\n",
    "                 \"Subsidies and direct incentives\", \"RD&D\", \"Public Investment\", \"Education and outreach\", \"Unspecified\"]})\n",
    "\n",
    "df_pdc = pd.DataFrame(data = {\"Weight\": [n_pdc11, n_pdc12, n_pdc13, n_pdc14, n_pdc15, n_pdc16, n_pdc17, n_pdc18,\n",
    "                                        n_pdc21, n_pdc22,\n",
    "                                        n_pdc31, n_pdc32, n_pdc33,\n",
    "                                        n_pdc41, n_pdc42, n_pdc43, n_pdc44,\n",
    "                                        n_pdc51, n_pdc52, n_pdc53,\n",
    "                                        n_pdc61,\n",
    "                                        n_pdc71, n_pdc72, n_pdc73, n_pdc74, n_pdc75],\n",
    "                              \"Layers\": [\"Policy design char.\"]* (8+2+3+4+3+1+5),\n",
    "                               \"Features\": ['Actor']* 8 + [\"Compliance\"] * 2 + \n",
    "                                            ['Links to other policies'] *3 + \n",
    "                                            ['Objective']* 4 + \n",
    "                                          ['Resource']* 3 + ['Reversibility'] + ['Time'] *5,\n",
    "                              \"Tags\": ['Default authority', 'Legislative authority', 'Newly established authority', 'Monitoring authority', 'Default addressee', 'Resources addressee', 'Monitored addressee', 'Sector addressee',\n",
    "                                      'Sanctioning form', 'Monitoring form',\n",
    "                                      'Reference to other policy', 'Amendment of policy', 'Reference to strategy or agreement',\n",
    "                                      'Quantitative target', 'Qualitative intention', 'Quantitative target no mitigation', 'Qualitative intention not mitigation',\n",
    "                                      'Monetary spending', 'Monetary revenues', 'Other resource type',\n",
    "                                       'Provision for reversibility',\n",
    "                                       'Policy duration time', 'Monitoring time', 'Resources time', 'Compliance time', 'In-effect time']})\n",
    "\n",
    "df_tech = pd.DataFrame(data = {\"Weight\": [n_techspec11, n_techspec12,\n",
    "                                    n_techspec21, n_techspec22,\n",
    "                                    n_techspec31, n_techspec32], \n",
    "                          \"Layers\":[\"Tech. and app. specificity\"]*6,\n",
    "                        \"Features\": ['Technology specificity', 'Technology specificity', \n",
    "                                     'Energy specificity', 'Energy specificity', \n",
    "                                     'Application specificity', 'Application specificity'], \n",
    "                          \"Tags\": [\"Low-carbon tech\", \"Other tech\", \n",
    "                                   'Low-carbon energy', \"Other energy\", \n",
    "                                  \"Low-carbon application\", \"Other application\"]\n",
    "                         })\n",
    "\n",
    "df=pd.concat([df_instrument, df_pdc, df_tech])"
   ]
  },
  {
   "cell_type": "code",
   "execution_count": 158,
   "metadata": {},
   "outputs": [
    {
     "ename": "NameError",
     "evalue": "name 'px' is not defined",
     "output_type": "error",
     "traceback": [
      "\u001b[0;31m---------------------------------------------------------------------------\u001b[0m",
      "\u001b[0;31mNameError\u001b[0m                                 Traceback (most recent call last)",
      "\u001b[0;32m<ipython-input-158-e28d3866e1bf>\u001b[0m in \u001b[0;36m<module>\u001b[0;34m\u001b[0m\n\u001b[0;32m----> 1\u001b[0;31m \u001b[0mfig\u001b[0m \u001b[0;34m=\u001b[0m \u001b[0mpx\u001b[0m\u001b[0;34m.\u001b[0m\u001b[0msunburst\u001b[0m\u001b[0;34m(\u001b[0m\u001b[0mdf\u001b[0m\u001b[0;34m,\u001b[0m \u001b[0mpath\u001b[0m\u001b[0;34m=\u001b[0m\u001b[0;34m[\u001b[0m\u001b[0;34m'Layers'\u001b[0m\u001b[0;34m,\u001b[0m \u001b[0;34m'Features'\u001b[0m\u001b[0;34m,\u001b[0m \u001b[0;34m'Tags'\u001b[0m\u001b[0;34m]\u001b[0m\u001b[0;34m,\u001b[0m \u001b[0mvalues\u001b[0m\u001b[0;34m=\u001b[0m\u001b[0;34m'Weight'\u001b[0m\u001b[0;34m,\u001b[0m \u001b[0mcolor\u001b[0m\u001b[0;34m=\u001b[0m\u001b[0;34m'Layers'\u001b[0m\u001b[0;34m)\u001b[0m\u001b[0;34m\u001b[0m\u001b[0;34m\u001b[0m\u001b[0m\n\u001b[0m\u001b[1;32m      2\u001b[0m \u001b[0mfig\u001b[0m\u001b[0;34m.\u001b[0m\u001b[0mwrite_image\u001b[0m\u001b[0;34m(\u001b[0m\u001b[0;34m'ann_distribution_sunburst.pdf'\u001b[0m\u001b[0;34m,\u001b[0m \u001b[0mengine\u001b[0m \u001b[0;34m=\u001b[0m \u001b[0;34m\"orca\"\u001b[0m\u001b[0;34m)\u001b[0m\u001b[0;34m\u001b[0m\u001b[0;34m\u001b[0m\u001b[0m\n\u001b[1;32m      3\u001b[0m \u001b[0mfig\u001b[0m\u001b[0;34m.\u001b[0m\u001b[0mshow\u001b[0m\u001b[0;34m(\u001b[0m\u001b[0;34m)\u001b[0m\u001b[0;34m\u001b[0m\u001b[0;34m\u001b[0m\u001b[0m\n",
      "\u001b[0;31mNameError\u001b[0m: name 'px' is not defined"
     ]
    }
   ],
   "source": [
    "fig = px.sunburst(df, path=['Layers', 'Features', 'Tags'], values='Weight', color='Layers')\n",
    "fig.write_image('ann_distribution_sunburst.pdf', engine = \"orca\")\n",
    "fig.show()"
   ]
  },
  {
   "cell_type": "code",
   "execution_count": null,
   "metadata": {},
   "outputs": [],
   "source": []
  }
 ],
 "metadata": {
  "interpreter": {
   "hash": "f1357e5d6940800ae93a3fd23162ea93a77a6c89f02c68504dcfa719d1ffeee2"
  },
  "kernelspec": {
   "display_name": "Python [conda env:miniconda3-nlp_spark]",
   "language": "python",
   "name": "conda-env-miniconda3-nlp_spark-py"
  },
  "language_info": {
   "codemirror_mode": {
    "name": "ipython",
    "version": 3
   },
   "file_extension": ".py",
   "mimetype": "text/x-python",
   "name": "python",
   "nbconvert_exporter": "python",
   "pygments_lexer": "ipython3",
   "version": "3.7.10"
  }
 },
 "nbformat": 4,
 "nbformat_minor": 4
}
