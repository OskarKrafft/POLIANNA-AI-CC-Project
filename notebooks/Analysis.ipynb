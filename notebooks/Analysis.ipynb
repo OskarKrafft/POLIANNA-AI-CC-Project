{
 "cells": [
  {
   "cell_type": "markdown",
   "id": "810be4df",
   "metadata": {},
   "source": [
    "# Data description and analysis \n",
    "\n",
    "This notebook contains the data description, analysis, and the figures presented in the manuscript. It also contains explanations about the dataset and the helper functions."
   ]
  },
  {
   "cell_type": "markdown",
   "id": "abdb5fbe",
   "metadata": {},
   "source": [
    "### Import the libraries and the data"
   ]
  },
  {
   "cell_type": "code",
   "execution_count": 2,
   "id": "922cdd84",
   "metadata": {},
   "outputs": [],
   "source": [
    "import json\n",
    "import sys\n",
    "import pandas as pd\n",
    "import collections \n",
    "import os\n",
    "import numpy as np\n",
    "from itertools import chain\n",
    "from itertools import combinations\n",
    "sys.path.insert(0, '..')\n",
    "from src.experiment_utils.helper_classes import token, span, repository\n",
    "from src.d02_corpus_statistics.corpus import Corpus\n",
    "from definitions import ROOT_DIR\n",
    "from pyannote.core import Segment\n",
    "import matplotlib.pyplot as plt"
   ]
  },
  {
   "cell_type": "markdown",
   "id": "6d307e77",
   "metadata": {},
   "source": [
    "## Descriptive statistics"
   ]
  },
  {
   "cell_type": "code",
   "execution_count": 3,
   "id": "e02840f5",
   "metadata": {},
   "outputs": [],
   "source": [
    "dataframe_dir = os.path.join(ROOT_DIR,'data/02_processed_to_dataframe', 'preprocessed_dataframe_test.pkl')\n",
    "stat_df = pd.read_pickle(dataframe_dir)"
   ]
  },
  {
   "cell_type": "code",
   "execution_count": 4,
   "id": "90458457",
   "metadata": {},
   "outputs": [],
   "source": [
    "stat_corpus = Corpus(stat_df)"
   ]
  },
  {
   "cell_type": "markdown",
   "id": "a846af8c",
   "metadata": {},
   "source": [
    "### Number of articles \n",
    "\n",
    "All articles (including recital (\"Whereas\") and front):"
   ]
  },
  {
   "cell_type": "code",
   "execution_count": 5,
   "id": "07a6bc5f",
   "metadata": {},
   "outputs": [
    {
     "data": {
      "text/plain": [
       "448"
      ]
     },
     "execution_count": 5,
     "metadata": {},
     "output_type": "execute_result"
    }
   ],
   "source": [
    "len(stat_df) "
   ]
  },
  {
   "cell_type": "markdown",
   "id": "374cf364",
   "metadata": {},
   "source": [
    "All articles without the preamble (recital (\"Whereas\") and front):"
   ]
  },
  {
   "cell_type": "code",
   "execution_count": 6,
   "id": "d2db7e8d",
   "metadata": {
    "scrolled": true
   },
   "outputs": [
    {
     "data": {
      "text/plain": [
       "412"
      ]
     },
     "execution_count": 6,
     "metadata": {},
     "output_type": "execute_result"
    }
   ],
   "source": [
    "len(stat_corpus.df) "
   ]
  },
  {
   "cell_type": "markdown",
   "id": "818eab05",
   "metadata": {},
   "source": [
    "### Total number of annotated spans"
   ]
  },
  {
   "cell_type": "markdown",
   "id": "be4390f9",
   "metadata": {},
   "source": [
    "There are three ways to compute the number of span annotations in the corpus (several annotations for the same span are counted separately.)\n",
    "\n",
    "We are only interested in the curation and therfore we can subset the dataframe to exclude the annotation by the annotators:"
   ]
  },
  {
   "cell_type": "code",
   "execution_count": 7,
   "id": "fcdba0a5",
   "metadata": {},
   "outputs": [
    {
     "data": {
      "text/plain": [
       "20577"
      ]
     },
     "execution_count": 7,
     "metadata": {},
     "output_type": "execute_result"
    }
   ],
   "source": [
    "total_corpus_dir = repository()\n",
    "stat_corpus.get_span_count(total_corpus_dir, annotators = 'Curation')"
   ]
  },
  {
   "cell_type": "markdown",
   "id": "b360d9fa",
   "metadata": {},
   "source": [
    "This is the same as the following, since the curation is the default:"
   ]
  },
  {
   "cell_type": "code",
   "execution_count": 8,
   "id": "5d7d7dd7",
   "metadata": {},
   "outputs": [
    {
     "data": {
      "text/plain": [
       "20577"
      ]
     },
     "execution_count": 8,
     "metadata": {},
     "output_type": "execute_result"
    }
   ],
   "source": [
    "stat_corpus.get_span_count(total_corpus_dir)"
   ]
  },
  {
   "cell_type": "markdown",
   "id": "1774aa06",
   "metadata": {},
   "source": [
    "To check that this is true, we compare this to all the tags present in the dataframe:"
   ]
  },
  {
   "cell_type": "code",
   "execution_count": 8,
   "id": "aaa67832",
   "metadata": {},
   "outputs": [
    {
     "data": {
      "text/plain": [
       "20577"
      ]
     },
     "execution_count": 8,
     "metadata": {},
     "output_type": "execute_result"
    }
   ],
   "source": [
    "len(list(chain.from_iterable(stat_corpus.df['Curation'])))"
   ]
  },
  {
   "cell_type": "markdown",
   "id": "a845eebe",
   "metadata": {},
   "source": [
    "### Annotated tokens to total tokens"
   ]
  },
  {
   "cell_type": "markdown",
   "id": "66b14717",
   "metadata": {},
   "source": [
    "As above, all calculations are done twice with different methods for more robustness.\n",
    "\n",
    "#### Total number of tokens in the dataset"
   ]
  },
  {
   "cell_type": "code",
   "execution_count": 9,
   "id": "02c83df8",
   "metadata": {},
   "outputs": [
    {
     "name": "stdout",
     "output_type": "stream",
     "text": [
      "173438\n",
      "173438\n"
     ]
    }
   ],
   "source": [
    "print(stat_corpus.get_token_count_from_repository(total_corpus_dir))\n",
    "print(len(list(chain.from_iterable(stat_corpus.df['Tokens']))))"
   ]
  },
  {
   "cell_type": "markdown",
   "id": "473a5cff",
   "metadata": {},
   "source": [
    "#### Total number of annotated tokens \n",
    "This is summing over all tokens that have at least one annotation."
   ]
  },
  {
   "cell_type": "code",
   "execution_count": 10,
   "id": "9aa57b73",
   "metadata": {},
   "outputs": [
    {
     "name": "stdout",
     "output_type": "stream",
     "text": [
      "52298\n",
      "52298\n"
     ]
    }
   ],
   "source": [
    "print(sum(stat_corpus.get_label_count_per_token_distro(total_corpus_dir, return_format = 'list')[1:]))\n",
    "print(stat_corpus.get_token_count_from_span_list(conditional_rep = total_corpus_dir))"
   ]
  },
  {
   "attachments": {},
   "cell_type": "markdown",
   "id": "f26659a7",
   "metadata": {},
   "source": [
    "### Token label count distribution\n",
    "The following two methods count how many annotations (spans) there are per token, and display the count distribution."
   ]
  },
  {
   "cell_type": "code",
   "execution_count": 11,
   "id": "9a3ee845",
   "metadata": {},
   "outputs": [
    {
     "data": {
      "text/plain": [
       "{0: 121140, 1: 44548, 2: 6967, 3: 707, 4: 70, 5: 6}"
      ]
     },
     "execution_count": 11,
     "metadata": {},
     "output_type": "execute_result"
    }
   ],
   "source": [
    "stat_corpus.get_label_count_per_token_distro(total_corpus_dir, return_format = 'dict')"
   ]
  },
  {
   "cell_type": "code",
   "execution_count": 12,
   "id": "2df803ac",
   "metadata": {},
   "outputs": [
    {
     "data": {
      "text/plain": [
       "[121140, 44548, 6967, 707, 70, 6]"
      ]
     },
     "execution_count": 12,
     "metadata": {},
     "output_type": "execute_result"
    }
   ],
   "source": [
    "stat_corpus.get_label_count_per_token_distro(total_corpus_dir, return_format = 'list')"
   ]
  },
  {
   "cell_type": "markdown",
   "id": "10fa66e7",
   "metadata": {},
   "source": [
    "### Total number of annotated articles"
   ]
  },
  {
   "cell_type": "markdown",
   "id": "fe2a618c",
   "metadata": {},
   "source": [
    "The number of annotated articles (which are separate documents in the corpus).\n",
    "\n",
    "#### Annotated articles of all articles\n",
    "Some recitals have initially been annotated. They were excluded though from the main analysis later."
   ]
  },
  {
   "cell_type": "code",
   "execution_count": 13,
   "id": "b1940d95",
   "metadata": {},
   "outputs": [
    {
     "data": {
      "text/plain": [
       "430"
      ]
     },
     "execution_count": 13,
     "metadata": {},
     "output_type": "execute_result"
    }
   ],
   "source": [
    "# Assign the number of spans in each article to a new column\n",
    "stat_df['Curationlength'] = stat_df.apply(lambda x: len(x['Curation']), axis=1)\n",
    "# Count those where annotations were made\n",
    "sum(stat_df['Curationlength']!=0)"
   ]
  },
  {
   "cell_type": "markdown",
   "id": "14281e17",
   "metadata": {},
   "source": [
    "#### Annotated articles of main corpus"
   ]
  },
  {
   "cell_type": "code",
   "execution_count": 14,
   "id": "32916e43",
   "metadata": {
    "scrolled": true
   },
   "outputs": [
    {
     "data": {
      "text/plain": [
       "412"
      ]
     },
     "execution_count": 14,
     "metadata": {},
     "output_type": "execute_result"
    }
   ],
   "source": [
    "# Assign the number of spans in each article to a new column\n",
    "stat_corpus.df['Curationlength'] = stat_corpus.df.apply(lambda x: len(x['Curation']), axis=1)\n",
    "# Count those where annotations were made\n",
    "sum(stat_corpus.df['Curationlength']!=0)"
   ]
  },
  {
   "cell_type": "markdown",
   "id": "a3158685",
   "metadata": {},
   "source": [
    "## Distribution of annotations"
   ]
  },
  {
   "cell_type": "markdown",
   "id": "bec5e8a2",
   "metadata": {},
   "source": [
    "### Span length"
   ]
  },
  {
   "cell_type": "markdown",
   "id": "0fbca28e",
   "metadata": {},
   "source": [
    "#### Span length in number of tokens\n",
    "Here we compute the distribution of the length of the spans in the curated set. From here on the analysis is only done without recital and front."
   ]
  },
  {
   "cell_type": "code",
   "execution_count": 15,
   "id": "f1cd01f8",
   "metadata": {},
   "outputs": [
    {
     "data": {
      "image/png": "[encoded data removed]",
      "text/plain": [
       "<Figure size 640x480 with 1 Axes>"
      ]
     },
     "metadata": {},
     "output_type": "display_data"
    }
   ],
   "source": [
    "span_len_tokens = stat_corpus.get_span_distro(conditional_rep = total_corpus_dir, return_format = 'list', level = 'token')\n",
    "\n",
    "fig, ax = plt.subplots()\n",
    "ax.plot(span_len_tokens)\n",
    "ax.set_xlabel('Number of tokens')\n",
    "ax.set_ylabel('Count of spans')\n",
    "ax.set_yscale('log')\n",
    "plt.savefig('span_distribution_tokens.png', dpi=300)\n",
    "plt.show()"
   ]
  },
  {
   "cell_type": "markdown",
   "id": "ba85ccb9",
   "metadata": {},
   "source": [
    "#### Span length in number of characters\n",
    "Distribution of the length of the spans (by character)."
   ]
  },
  {
   "cell_type": "code",
   "execution_count": 16,
   "id": "1ba204a0",
   "metadata": {
    "scrolled": false
   },
   "outputs": [
    {
     "data": {
      "image/png": "[encoded data removed]",
      "text/plain": [
       "<Figure size 640x480 with 1 Axes>"
      ]
     },
     "metadata": {},
     "output_type": "display_data"
    }
   ],
   "source": [
    "span_len_char = stat_corpus.get_span_distro(conditional_rep = total_corpus_dir, return_format = 'list', level = 'character')\n",
    "\n",
    "fig, ax = plt.subplots()\n",
    "ax.plot(span_len_char)\n",
    "ax.set_xlabel('Number of characters')\n",
    "ax.set_ylabel('Count of spans')\n",
    "ax.set_yscale('log')\n",
    "plt.savefig('span_distribution_char.png', dpi=300)\n",
    "plt.show()"
   ]
  },
  {
   "cell_type": "markdown",
   "id": "684a1844",
   "metadata": {},
   "source": [
    "#### Joint plot"
   ]
  },
  {
   "cell_type": "code",
   "execution_count": 17,
   "id": "cce691f3",
   "metadata": {},
   "outputs": [
    {
     "data": {
      "image/png": "[encoded data removed]",
      "text/plain": [
       "<Figure size 640x480 with 2 Axes>"
      ]
     },
     "metadata": {},
     "output_type": "display_data"
    }
   ],
   "source": [
    "fig, (ax1, ax2) = plt.subplots(2)\n",
    "\n",
    "fig.tight_layout(pad=2.0) # using padding\n",
    "#fig.suptitle('Length distribution of spans') # optional\n",
    "\n",
    "ax1.plot(span_len_tokens, color = \"black\")\n",
    "ax1.set_xlabel('Number of tokens')\n",
    "ax1.set_ylabel('Count of spans')\n",
    "ax1.set_yscale('log')\n",
    "\n",
    "ax2.plot(stat_corpus.get_span_distro(conditional_rep = total_corpus_dir, return_format = 'list', level = 'character'), color = \"black\")\n",
    "ax2.set_xlabel('Number of characters')\n",
    "ax2.set_ylabel('Count of spans')\n",
    "ax2.set_yscale('log')\n",
    "\n",
    "plt.savefig('span_distribution_both.png', dpi=300)\n",
    "plt.show()"
   ]
  },
  {
   "cell_type": "markdown",
   "id": "8ab70a26",
   "metadata": {},
   "source": [
    "#### Fraction of spans with 3 or less tokens"
   ]
  },
  {
   "cell_type": "code",
   "execution_count": 18,
   "id": "bac7cc6c",
   "metadata": {},
   "outputs": [
    {
     "data": {
      "text/plain": [
       "0.7775671866647228"
      ]
     },
     "execution_count": 18,
     "metadata": {},
     "output_type": "execute_result"
    }
   ],
   "source": [
    "sum(span_len_tokens[:3])/sum(span_len_tokens) "
   ]
  },
  {
   "cell_type": "markdown",
   "id": "f0b663fb",
   "metadata": {},
   "source": [
    "#### A closer look at those long spans\n",
    "As a robustness check, we take a look at the longest span with almost a hundred tokens."
   ]
  },
  {
   "cell_type": "code",
   "execution_count": 19,
   "id": "71101759",
   "metadata": {},
   "outputs": [],
   "source": [
    "# Extracting the span list\n",
    "spanlist_total_corpus = stat_corpus.get_span_list(conditional_rep = total_corpus_dir)\n",
    "\n",
    "# Counting the length of the strings\n",
    "entrylen = [len(x.text) for x in spanlist_total_corpus]\n",
    "\n",
    "# Creating a dataframe that can be sorted by the number of characters in the string\n",
    "spanlen = pd.DataFrame(data = {\"entrylen\": entrylen, \"spanlist\": spanlist_total_corpus})\n",
    "spanlen = spanlen.sort_values(by = \"entrylen\", ascending=False)"
   ]
  },
  {
   "cell_type": "code",
   "execution_count": 20,
   "id": "c7a25061",
   "metadata": {},
   "outputs": [
    {
     "name": "stdout",
     "output_type": "stream",
     "text": [
      "span id:CUR29 annotator:Curation layer:Policydesigncharacteristics feature:Reversibility tag:Reversibility_policy start:1630 stop:2099 text:a delegated act adopted pursuant to article 3(5), article 15(5), article 26(6), article 37(7) and article 40(4) shall enter into force only if no objection has been expressed either by the european parliament or the council within a period of two months of notification of that act to the european parliament and to the council or if, before the expiry of that period, the european parliament and the council have both informed the commission that they will not object.\n"
     ]
    }
   ],
   "source": [
    "# Printing the longest span:\n",
    "print(spanlen.iloc[0,1])"
   ]
  },
  {
   "cell_type": "code",
   "execution_count": 21,
   "id": "782fc5fd",
   "metadata": {},
   "outputs": [
    {
     "data": {
      "text/plain": [
       "[span id:CUR29 annotator:Curation layer:Policydesigncharacteristics feature:Reversibility tag:Reversibility_policy start:1630 stop:2099 text:a delegated act adopted pursuant to article 3(5), article 15(5), article 26(6), article 37(7) and article 40(4) shall enter into force only if no objection has been expressed either by the european parliament or the council within a period of two months of notification of that act to the european parliament and to the council or if, before the expiry of that period, the european parliament and the council have both informed the commission that they will not object.,\n",
       " span id:CUR1298 annotator:Curation layer:Instrumenttypes feature:InstrumentType tag:RegulatoryInstr start:2806 stop:3161 text:national support scheme requiring energy producers to include a given proportion of energy from renewable sources in their production, requiring energy suppliers to include a given proportion of energy from renewable sources in their supply, or requiring energy consumers to include a given proportion of energy from renewable sources in their consumption,\n",
       " span id:CUR8276 annotator:Curation layer:Technologyandapplicationspecificity feature:TechnologySpecificity tag:Tech_Other start:8528 stop:8918 text:liquid and gaseous fuels that are produced from liquid or solid waste streams of non-renewable origin which are not suitable for material recovery in accordance with article 4 of directive 2008/98/ec, or from waste processing gas and exhaust gas of non-renewable origin which are produced as an unavoidable and unintentional consequence of the production process in industrial installations]"
      ]
     },
     "execution_count": 21,
     "metadata": {},
     "output_type": "execute_result"
    }
   ],
   "source": [
    "## Another method for finding longest spans\n",
    "top_span_count = 3 # the three longest spans\n",
    "entrylen.sort(reverse = True)\n",
    "top_spans = [x for x in spanlist_total_corpus if len(x.text) >= entrylen[top_span_count - 1]]\n",
    "top_spans"
   ]
  },
  {
   "cell_type": "markdown",
   "id": "a28126c8",
   "metadata": {},
   "source": [
    "### Most frequent spans\n",
    "The legal texts contain many parts that are repeated frequently. Here, we look at which particular spans are annotated most frequently. "
   ]
  },
  {
   "cell_type": "code",
   "execution_count": 22,
   "id": "6a832cff",
   "metadata": {},
   "outputs": [],
   "source": [
    "# Function to return a list with the ntags most frequently annotated spans, \n",
    "# and the frequency for their occurances in the corpus.\n",
    "def top_spans(item, value, nspans):\n",
    "    spans = stat_corpus.most_frequent_labeled_spans(item = item, value = value, conditional_rep = total_corpus_dir)\n",
    "    top_list = list(spans.items())[:nspans]\n",
    "    top_dict = dict(top_list)\n",
    "    # Printing in dictionary format\n",
    "    print(top_dict) \n",
    "    # Converting to list of strings for output, and cleaning the formatting \n",
    "    top_span_str = [str(x)[1:-1].replace(\",\", \":\") for x in top_list]\n",
    "    return top_span_str"
   ]
  },
  {
   "cell_type": "markdown",
   "id": "48d51320",
   "metadata": {},
   "source": [
    "#### Misc features and tags"
   ]
  },
  {
   "cell_type": "markdown",
   "id": "0b3780e6",
   "metadata": {},
   "source": [
    "Most frequent spans for form monitoring"
   ]
  },
  {
   "cell_type": "code",
   "execution_count": 23,
   "id": "c053b0bd",
   "metadata": {},
   "outputs": [
    {
     "name": "stdout",
     "output_type": "stream",
     "text": [
      "{'report': 146, 'reporting': 79, 'assessment': 68, 'review': 63, 'information': 58, 'notification': 57, 'monitoring': 46, 'reports': 46, 'projections': 39, 'notify': 33, 'reported': 32, 'monitor': 27, 'assess': 25, 'inventory': 24, 'notified': 21}\n"
     ]
    }
   ],
   "source": [
    "Form_monitoring_top = top_spans(item = 'tag', value = 'Form_monitoring', nspans = 15)"
   ]
  },
  {
   "cell_type": "markdown",
   "id": "0fcb3bcd",
   "metadata": {},
   "source": [
    "Most frequent spans for regulatory instrument"
   ]
  },
  {
   "cell_type": "code",
   "execution_count": 24,
   "id": "1b33dcea",
   "metadata": {
    "scrolled": true
   },
   "outputs": [
    {
     "name": "stdout",
     "output_type": "stream",
     "text": [
      "{'requirements': 92, 'obligations': 65, 'rules': 49, 'derogation': 48, 'obligation': 25, 'regulations': 24, 'standards': 24, 'certification': 23, 'criteria': 21, 'technical specifications': 19, 'sustainability criteria': 15, 'type-approval': 14, 'right': 14, 'regulatory procedure': 14, 'guarantees of origin': 13}\n"
     ]
    }
   ],
   "source": [
    "RegulatoryInstr_top = top_spans(item = 'tag', value = 'RegulatoryInstr', nspans = 15)"
   ]
  },
  {
   "cell_type": "markdown",
   "id": "87519829",
   "metadata": {},
   "source": [
    "Most frequent spans for addressee sector"
   ]
  },
  {
   "cell_type": "code",
   "execution_count": 25,
   "id": "b9b26376",
   "metadata": {
    "scrolled": true
   },
   "outputs": [
    {
     "name": "stdout",
     "output_type": "stream",
     "text": [
      "{'transmission system operator': 91, 'distribution system operators': 69, 'transmission system operators': 68, 'manufacturer': 52, 'suppliers': 41, 'distribution system operator': 37, 'manufacturers': 34, 'final customers': 31, 'supplier': 28, 'transport sector': 24, 'transport': 23, 'independent system operator': 23, 'market participants': 19, 'electricity undertakings': 16, 'producers': 15}\n"
     ]
    }
   ],
   "source": [
    "ActorSector_top_str = top_spans(item = 'tag', value = 'Addressee_sector', nspans = 15)"
   ]
  },
  {
   "cell_type": "markdown",
   "id": "716a18ba",
   "metadata": {},
   "source": [
    "Most frequent spans for the actor feature"
   ]
  },
  {
   "cell_type": "code",
   "execution_count": 26,
   "id": "a3a42f81",
   "metadata": {
    "scrolled": true
   },
   "outputs": [
    {
     "name": "stdout",
     "output_type": "stream",
     "text": [
      "{'member states': 901, 'commission': 757, 'member state': 277, 'member\\xa0states': 260, 'european parliament': 167, 'council': 164, 'regulatory authority': 144, 'transmission system operator': 111, 'final customers': 102, 'member\\xa0state': 92, 'customers': 86, 'transmission system operators': 85, 'distribution system operators': 81, 'manufacturer': 63, 'regulatory authorities': 54}\n"
     ]
    }
   ],
   "source": [
    "Actor_top_str = top_spans(item = 'feature', value = 'Actor', nspans = 15)"
   ]
  },
  {
   "cell_type": "markdown",
   "id": "c719beef",
   "metadata": {},
   "source": [
    "Most frequent spans for the quantitative targets"
   ]
  },
  {
   "cell_type": "code",
   "execution_count": 27,
   "id": "ffce60ae",
   "metadata": {
    "scrolled": false
   },
   "outputs": [
    {
     "name": "stdout",
     "output_type": "stream",
     "text": [
      "{'specific emissions target': 14, 'target': 9, 'targets': 7, 'union target': 6, 'specific emissions targets': 4, 'national indicative energy savings target': 3, 'eu fleet-wide targets': 3, 'national contributions': 2, 'baseline share': 2, 'energy consumption of no more than 1\\xa0474 mtoe of primary energy and/or no more than 1\\xa0078 mtoe of final energy in 2020': 2, 'national indicative targets': 2, 'eu fleet-wide target equal to a 15\\xa0% reduction': 2, 'national targets': 2, 'target of at least 32\\xa0% renewable energy in 2030': 2, 'annual renovation rate': 2}\n"
     ]
    },
    {
     "data": {
      "text/plain": [
       "[\"'specific emissions target': 14\",\n",
       " \"'target': 9\",\n",
       " \"'targets': 7\",\n",
       " \"'union target': 6\",\n",
       " \"'specific emissions targets': 4\",\n",
       " \"'national indicative energy savings target': 3\",\n",
       " \"'eu fleet-wide targets': 3\",\n",
       " \"'national contributions': 2\",\n",
       " \"'baseline share': 2\",\n",
       " \"'energy consumption of no more than 1\\\\xa0474 mtoe of primary energy and/or no more than 1\\\\xa0078 mtoe of final energy in 2020': 2\",\n",
       " \"'national indicative targets': 2\",\n",
       " \"'eu fleet-wide target equal to a 15\\\\xa0% reduction': 2\",\n",
       " \"'national targets': 2\",\n",
       " \"'target of at least 32\\\\xa0% renewable energy in 2030': 2\",\n",
       " \"'annual renovation rate': 2\"]"
      ]
     },
     "execution_count": 27,
     "metadata": {},
     "output_type": "execute_result"
    }
   ],
   "source": [
    "top_spans(item = 'tag', value = 'Objective_QuantTarget', nspans = 15)"
   ]
  },
  {
   "cell_type": "markdown",
   "id": "c0dce3b4",
   "metadata": {},
   "source": [
    "Most frequent spans for the reversibility feature"
   ]
  },
  {
   "cell_type": "code",
   "execution_count": 28,
   "id": "9e8d8aac",
   "metadata": {
    "scrolled": true
   },
   "outputs": [
    {
     "name": "stdout",
     "output_type": "stream",
     "text": [
      "{'repealed': 4, 'extension': 3, 'a decision to revoke shall put an end to the delegation of the power specified in that decision': 2, 'repealing': 2, 'extended by two months': 2, 'may be revoked at any time by the european parliament or by the council': 2, 'deleted': 2, 'repeal': 2, 'delegation of power shall be tacitly extended for periods of an identical duration, unless the european parliament or the council opposes such extension not later than three months before the end of each period': 1, 'the delegation of power referred to in article 3(5), article 15(5), article 26(6), article 37(7) and article 40(4) may be revoked at any time by the european parliament or by the council': 1, 'a delegated act adopted pursuant to article 3(5), article 15(5), article 26(6), article 37(7) and article 40(4) shall enter into force only if no objection has been expressed either by the european parliament or the council within a period of two months of notification of that act to the european parliament and to the council or if, before the expiry of that period, the european parliament and the council have both informed the commission that they will not object.': 1, 'extended for periods of an identical duration': 1, 'revoked': 1, 'revoke': 1, 'tacitly extended for periods of an identical duration': 1}\n"
     ]
    },
    {
     "data": {
      "text/plain": [
       "[\"'repealed': 4\",\n",
       " \"'extension': 3\",\n",
       " \"'a decision to revoke shall put an end to the delegation of the power specified in that decision': 2\",\n",
       " \"'repealing': 2\",\n",
       " \"'extended by two months': 2\",\n",
       " \"'may be revoked at any time by the european parliament or by the council': 2\",\n",
       " \"'deleted': 2\",\n",
       " \"'repeal': 2\",\n",
       " \"'delegation of power shall be tacitly extended for periods of an identical duration: unless the european parliament or the council opposes such extension not later than three months before the end of each period': 1\",\n",
       " \"'the delegation of power referred to in article 3(5): article 15(5): article 26(6): article 37(7) and article 40(4) may be revoked at any time by the european parliament or by the council': 1\",\n",
       " \"'a delegated act adopted pursuant to article 3(5): article 15(5): article 26(6): article 37(7) and article 40(4) shall enter into force only if no objection has been expressed either by the european parliament or the council within a period of two months of notification of that act to the european parliament and to the council or if: before the expiry of that period: the european parliament and the council have both informed the commission that they will not object.': 1\",\n",
       " \"'extended for periods of an identical duration': 1\",\n",
       " \"'revoked': 1\",\n",
       " \"'revoke': 1\",\n",
       " \"'tacitly extended for periods of an identical duration': 1\"]"
      ]
     },
     "execution_count": 28,
     "metadata": {},
     "output_type": "execute_result"
    }
   ],
   "source": [
    "top_spans(item = 'feature', value = 'Reversibility', nspans = 15)"
   ]
  },
  {
   "cell_type": "markdown",
   "id": "1127bda5",
   "metadata": {},
   "source": [
    "Generating the table with other features and tags as a Latex output."
   ]
  },
  {
   "cell_type": "code",
   "execution_count": 29,
   "id": "df96eec7",
   "metadata": {
    "scrolled": true
   },
   "outputs": [
    {
     "name": "stderr",
     "output_type": "stream",
     "text": [
      "/tmp/ipykernel_46123/1869844980.py:2: FutureWarning: In future versions `DataFrame.to_latex` is expected to utilise the base implementation of `Styler.to_latex` for formatting and rendering. The arguments signature may therefore change. It is recommended instead to use `DataFrame.style.to_latex` which also contains additional functionality.\n",
      "  other_top.to_latex(index=False)\n"
     ]
    },
    {
     "data": {
      "text/plain": [
       "\"\\\\begin{tabular}{llll}\\n\\\\toprule\\n   Form\\\\_monitoring &                RegulatoryInstr &                               Actor &                         ActorSector \\\\\\\\\\n\\\\midrule\\n     'report': 146 &             'requirements': 92 &                'member states': 901 &  'transmission system operator': 91 \\\\\\\\\\n   'reporting': 79 &              'obligations': 65 &                   'commission': 757 & 'distribution system operators': 69 \\\\\\\\\\n  'assessment': 68 &                    'rules': 49 &                 'member state': 277 & 'transmission system operators': 68 \\\\\\\\\\n      'review': 63 &               'derogation': 48 &             'member\\\\textbackslash xa0states': 260 &                  'manufacturer': 52 \\\\\\\\\\n 'information': 58 &               'obligation': 25 &          'european parliament': 167 &                     'suppliers': 41 \\\\\\\\\\n'notification': 57 &              'regulations': 24 &                      'council': 164 &  'distribution system operator': 37 \\\\\\\\\\n  'monitoring': 46 &                'standards': 24 &         'regulatory authority': 144 &                 'manufacturers': 34 \\\\\\\\\\n     'reports': 46 &            'certification': 23 & 'transmission system operator': 111 &               'final customers': 31 \\\\\\\\\\n 'projections': 39 &                 'criteria': 21 &              'final customers': 102 &                      'supplier': 28 \\\\\\\\\\n      'notify': 33 & 'technical specifications': 19 &               'member\\\\textbackslash xa0state': 92 &              'transport sector': 24 \\\\\\\\\\n    'reported': 32 &  'sustainability criteria': 15 &                     'customers': 86 &                     'transport': 23 \\\\\\\\\\n     'monitor': 27 &            'type-approval': 14 & 'transmission system operators': 85 &   'independent system operator': 23 \\\\\\\\\\n      'assess': 25 &                    'right': 14 & 'distribution system operators': 81 &           'market participants': 19 \\\\\\\\\\n   'inventory': 24 &     'regulatory procedure': 14 &                  'manufacturer': 63 &      'electricity undertakings': 16 \\\\\\\\\\n    'notified': 21 &     'guarantees of origin': 13 &        'regulatory authorities': 54 &                     'producers': 15 \\\\\\\\\\n\\\\bottomrule\\n\\\\end{tabular}\\n\""
      ]
     },
     "execution_count": 29,
     "metadata": {},
     "output_type": "execute_result"
    }
   ],
   "source": [
    "other_top = pd.DataFrame({'Form_monitoring': Form_monitoring_top, 'RegulatoryInstr': RegulatoryInstr_top, 'Actor': Actor_top_str, 'ActorSector': ActorSector_top_str})\n",
    "other_top.to_latex(index=False)"
   ]
  },
  {
   "cell_type": "markdown",
   "id": "4658a96b",
   "metadata": {},
   "source": [
    "#### Technology, energy, and application specificity"
   ]
  },
  {
   "cell_type": "markdown",
   "id": "da8e0e63",
   "metadata": {},
   "source": [
    "Most frequent spans for low-carbon technology"
   ]
  },
  {
   "cell_type": "code",
   "execution_count": 30,
   "id": "b7fd7baa",
   "metadata": {},
   "outputs": [
    {
     "name": "stdout",
     "output_type": "stream",
     "text": [
      "{'energy efficiency': 87, 'cogeneration': 61, 'batteries': 56, 'accumulators': 56, 'installation': 36, 'recharging points': 36, 'high-efficiency cogeneration': 34, 'district heating and cooling': 23, 'energy storage facilities': 22, 'smart metering systems': 22, 'renovation': 22, 'battery': 16, 'installations': 16, 'hydrogen components and systems': 15, 'batteries and accumulators': 13}\n"
     ]
    }
   ],
   "source": [
    "tech_top_str = top_spans(item = 'tag', value = 'Tech_LowCarbon', nspans = 15)"
   ]
  },
  {
   "cell_type": "markdown",
   "id": "b5b70577",
   "metadata": {},
   "source": [
    "Most frequent spans for other technology"
   ]
  },
  {
   "cell_type": "code",
   "execution_count": 31,
   "id": "93aef3f7",
   "metadata": {
    "scrolled": true
   },
   "outputs": [
    {
     "name": "stdout",
     "output_type": "stream",
     "text": [
      "{'buildings': 49, 'passenger cars': 35, 'transmission system': 35, 'system': 31, 'grid': 29, 'building': 29, 'light commercial vehicles': 28, 'distribution system': 22, 'new passenger cars': 20, 'new light commercial vehicles': 19, 'network': 19, 'vehicles': 17, 'installations': 14, 'vehicle': 12, 'infrastructure': 11}\n"
     ]
    }
   ],
   "source": [
    "tech_top_str = top_spans(item = 'tag', value = 'Tech_Other', nspans = 15)"
   ]
  },
  {
   "cell_type": "markdown",
   "id": "49a530a6",
   "metadata": {},
   "source": [
    "Most frequent spans for energy carrier low carbon"
   ]
  },
  {
   "cell_type": "code",
   "execution_count": 32,
   "id": "463e2220",
   "metadata": {
    "scrolled": false
   },
   "outputs": [
    {
     "name": "stdout",
     "output_type": "stream",
     "text": [
      "{'renewable energy': 159, 'energy from renewable sources': 157, 'biofuels': 125, 'bioliquids': 92, 'electricity': 82, 'hydrogen': 68, 'biomass fuels': 60, 'renewable energy sources': 40, 'biomass': 39, 'electricity from renewable sources': 31, 'biofuel': 23, 'biogas': 21, 'alternative fuels': 17, 'waste heat and cold': 17, 'renewable sources': 16}\n"
     ]
    }
   ],
   "source": [
    "energy_top_str = top_spans(item = 'tag', value = 'Energy_LowCarbon', nspans = 15)"
   ]
  },
  {
   "cell_type": "markdown",
   "id": "5f778bc7",
   "metadata": {},
   "source": [
    "Most frequent spans for application specificity low carbon"
   ]
  },
  {
   "cell_type": "code",
   "execution_count": 33,
   "id": "d2d5c896",
   "metadata": {
    "scrolled": true
   },
   "outputs": [
    {
     "name": "stdout",
     "output_type": "stream",
     "text": [
      "{'heating': 78, 'cooling': 78, 'energy savings': 54, 'demand response': 27, 'renewable energy communities': 19, 'energy storage': 14, 'energy efficiency': 13, 'electric vehicles': 12, 'electricity': 12, 'transport': 12, 'vehicles': 10, 'renewables self-consumption': 10, 'vehicle': 9, 'primary energy savings': 8, 'final consumption of energy from renewable sources': 7}\n"
     ]
    }
   ],
   "source": [
    "applications_top_str = top_spans(item = 'tag', value = 'App_LowCarbon', nspans = 15)"
   ]
  },
  {
   "cell_type": "markdown",
   "id": "dc000fd1",
   "metadata": {},
   "source": [
    "Most frequent spans for the feature energy specificity (low carbon and other together)"
   ]
  },
  {
   "cell_type": "code",
   "execution_count": 34,
   "id": "9a2b440e",
   "metadata": {
    "scrolled": true
   },
   "outputs": [
    {
     "name": "stdout",
     "output_type": "stream",
     "text": [
      "{'electricity': 199, 'renewable energy': 159, 'energy from renewable sources': 157, 'biofuels': 125, 'energy': 121, 'bioliquids': 92, 'hydrogen': 68, 'biomass fuels': 61, 'renewable energy sources': 40, 'biomass': 39, 'electricity from renewable sources': 31, 'fuel': 28, 'heat': 25, 'lng': 25, 'natural gas': 24}\n"
     ]
    }
   ],
   "source": [
    "energy_top_str = top_spans(item = 'feature', value = 'EnergySpecificity', nspans = 15)"
   ]
  },
  {
   "cell_type": "markdown",
   "id": "e294e533",
   "metadata": {},
   "source": [
    "Most frequent spans for the feature application specificity (low carbon and other together)"
   ]
  },
  {
   "cell_type": "code",
   "execution_count": 35,
   "id": "1b4d6efd",
   "metadata": {},
   "outputs": [
    {
     "name": "stdout",
     "output_type": "stream",
     "text": [
      "{'heating': 98, 'cooling': 94, 'energy savings': 61, 'supply': 49, 'energy consumption': 36, 'consumption': 31, 'aggregation': 30, 'demand response': 28, 'generation': 26, 'energy services': 25, 'transport': 23, 'distribution': 22, 'transmission': 21, 'renewable energy communities': 19, 'energy storage': 14}\n"
     ]
    }
   ],
   "source": [
    "energy_top_str = top_spans(item = 'feature', value = 'ApplicationSpecificity', nspans = 15)"
   ]
  },
  {
   "cell_type": "markdown",
   "id": "92b1342f",
   "metadata": {},
   "source": [
    "Generating the table on tech, energy, and application specificity as a Latex output."
   ]
  },
  {
   "cell_type": "code",
   "execution_count": 36,
   "id": "aa22aa2c",
   "metadata": {},
   "outputs": [
    {
     "name": "stderr",
     "output_type": "stream",
     "text": [
      "/tmp/ipykernel_46123/852186205.py:2: FutureWarning: In future versions `DataFrame.to_latex` is expected to utilise the base implementation of `Styler.to_latex` for formatting and rendering. The arguments signature may therefore change. It is recommended instead to use `DataFrame.style.to_latex` which also contains additional functionality.\n",
      "  df_tech_top.to_latex(index=False)\n"
     ]
    },
    {
     "data": {
      "text/plain": [
       "\"\\\\begin{tabular}{lll}\\n\\\\toprule\\n               technology\\\\_LowCarbon &                   energy\\\\_LowCarbon &                             applications\\\\_LowCarbon \\\\\\\\\\n\\\\midrule\\n                    'buildings': 49 &                      'heating': 98 &                                      'heating': 78 \\\\\\\\\\n               'passenger cars': 35 &                      'cooling': 94 &                                      'cooling': 78 \\\\\\\\\\n          'transmission system': 35 &               'energy savings': 61 &                               'energy savings': 54 \\\\\\\\\\n                       'system': 31 &                       'supply': 49 &                              'demand response': 27 \\\\\\\\\\n                         'grid': 29 &           'energy consumption': 36 &                 'renewable energy communities': 19 \\\\\\\\\\n                     'building': 29 &                  'consumption': 31 &                               'energy storage': 14 \\\\\\\\\\n    'light commercial vehicles': 28 &                  'aggregation': 30 &                            'energy efficiency': 13 \\\\\\\\\\n          'distribution system': 22 &              'demand response': 28 &                            'electric vehicles': 12 \\\\\\\\\\n           'new passenger cars': 20 &                   'generation': 26 &                                  'electricity': 12 \\\\\\\\\\n'new light commercial vehicles': 19 &              'energy services': 25 &                                    'transport': 12 \\\\\\\\\\n                      'network': 19 &                    'transport': 23 &                                     'vehicles': 10 \\\\\\\\\\n                     'vehicles': 17 &                 'distribution': 22 &                  'renewables self-consumption': 10 \\\\\\\\\\n                'installations': 14 &                 'transmission': 21 &                                       'vehicle': 9 \\\\\\\\\\n                      'vehicle': 12 & 'renewable energy communities': 19 &                        'primary energy savings': 8 \\\\\\\\\\n               'infrastructure': 11 &               'energy storage': 14 & 'final consumption of energy from renewable sou... \\\\\\\\\\n\\\\bottomrule\\n\\\\end{tabular}\\n\""
      ]
     },
     "execution_count": 36,
     "metadata": {},
     "output_type": "execute_result"
    }
   ],
   "source": [
    "df_tech_top = pd.DataFrame({'technology_LowCarbon': tech_top_str, 'energy_LowCarbon': energy_top_str, 'applications_LowCarbon': applications_top_str})\n",
    "df_tech_top.to_latex(index=False)"
   ]
  },
  {
   "cell_type": "markdown",
   "id": "14d19383",
   "metadata": {},
   "source": [
    "### Distributions of annotations"
   ]
  },
  {
   "cell_type": "markdown",
   "id": "c98479ce",
   "metadata": {},
   "source": [
    "#### Importing the coding scheme\n",
    "The coding scheme with all layers, features, and tags is supplied in the repository. "
   ]
  },
  {
   "cell_type": "code",
   "execution_count": 39,
   "id": "816d769a",
   "metadata": {},
   "outputs": [
    {
     "ename": "FileNotFoundError",
     "evalue": "[Errno 2] No such file or directory: 'Coding_Scheme.json'",
     "output_type": "error",
     "traceback": [
      "\u001b[0;31m---------------------------------------------------------------------------\u001b[0m",
      "\u001b[0;31mFileNotFoundError\u001b[0m                         Traceback (most recent call last)",
      "Cell \u001b[0;32mIn[39], line 3\u001b[0m\n\u001b[1;32m      1\u001b[0m \u001b[39mimport\u001b[39;00m \u001b[39mjson\u001b[39;00m\n\u001b[0;32m----> 3\u001b[0m \u001b[39mwith\u001b[39;00m \u001b[39mopen\u001b[39;49m(\u001b[39m'\u001b[39;49m\u001b[39mCoding_Scheme.json\u001b[39;49m\u001b[39m'\u001b[39;49m,\u001b[39m'\u001b[39;49m\u001b[39mr\u001b[39;49m\u001b[39m'\u001b[39;49m) \u001b[39mas\u001b[39;00m f: \u001b[39m# Insert path to coding scheme file\u001b[39;00m\n\u001b[1;32m      4\u001b[0m     coding_scheme \u001b[39m=\u001b[39m json\u001b[39m.\u001b[39mloads(f\u001b[39m.\u001b[39mread())\n",
      "File \u001b[0;32m~/miniconda3/envs/POLIANNA/lib/python3.10/site-packages/IPython/core/interactiveshell.py:282\u001b[0m, in \u001b[0;36m_modified_open\u001b[0;34m(file, *args, **kwargs)\u001b[0m\n\u001b[1;32m    275\u001b[0m \u001b[39mif\u001b[39;00m file \u001b[39min\u001b[39;00m {\u001b[39m0\u001b[39m, \u001b[39m1\u001b[39m, \u001b[39m2\u001b[39m}:\n\u001b[1;32m    276\u001b[0m     \u001b[39mraise\u001b[39;00m \u001b[39mValueError\u001b[39;00m(\n\u001b[1;32m    277\u001b[0m         \u001b[39mf\u001b[39m\u001b[39m\"\u001b[39m\u001b[39mIPython won\u001b[39m\u001b[39m'\u001b[39m\u001b[39mt let you open fd=\u001b[39m\u001b[39m{\u001b[39;00mfile\u001b[39m}\u001b[39;00m\u001b[39m by default \u001b[39m\u001b[39m\"\u001b[39m\n\u001b[1;32m    278\u001b[0m         \u001b[39m\"\u001b[39m\u001b[39mas it is likely to crash IPython. If you know what you are doing, \u001b[39m\u001b[39m\"\u001b[39m\n\u001b[1;32m    279\u001b[0m         \u001b[39m\"\u001b[39m\u001b[39myou can use builtins\u001b[39m\u001b[39m'\u001b[39m\u001b[39m open.\u001b[39m\u001b[39m\"\u001b[39m\n\u001b[1;32m    280\u001b[0m     )\n\u001b[0;32m--> 282\u001b[0m \u001b[39mreturn\u001b[39;00m io_open(file, \u001b[39m*\u001b[39;49margs, \u001b[39m*\u001b[39;49m\u001b[39m*\u001b[39;49mkwargs)\n",
      "\u001b[0;31mFileNotFoundError\u001b[0m: [Errno 2] No such file or directory: 'Coding_Scheme.json'"
     ]
    }
   ],
   "source": [
    "import json\n",
    "\n",
    "with open('Coding_Scheme.json','r') as f: # Insert path to coding scheme file\n",
    "    coding_scheme = json.loads(f.read())"
   ]
  },
  {
   "cell_type": "markdown",
   "id": "f9c4203a",
   "metadata": {},
   "source": [
    "#### Function to count the annotations per layer, feature, and tag\n",
    "A function that creates a dataframe with layer, feature, tags, and the respective number of annotations.\n",
    "Input: The name of the layer as it should appear in the dataframe, the index of the layer in the coding scheme (as imported above)\n",
    "Output: A dataframe with the number of annotations per feature and tag in this layer (layer, feature, tag, n_feature, n_tag)"
   ]
  },
  {
   "cell_type": "code",
   "execution_count": 78,
   "id": "c5bad8ce",
   "metadata": {},
   "outputs": [],
   "source": [
    "def annotation_count(layername, layer_index):\n",
    "\n",
    "    # Reading out the feature names and removing the '_values' from the end of the string\n",
    "    feat_list = [x['tagset'][:-7] for x in coding_scheme['layers'][layer_index]['tagsets']]\n",
    "    feat_list\n",
    "\n",
    "    # Computing the number of annotations per feature\n",
    "    n_feat_list = list()\n",
    "    for feat in feat_list:\n",
    "        n_feat = stat_corpus.get_span_count(item = 'feature',value = feat, conditional_rep = total_corpus_dir)\n",
    "        n_feat_list.append(n_feat)\n",
    "\n",
    "    df_list = list()\n",
    "    for f in range(len(coding_scheme['layers'][layer_index]['tagsets'])):\n",
    "        tags = [x['tag_name'] for x in coding_scheme['layers'][layer_index]['tagsets'][f]['tags']]\n",
    "\n",
    "        df_loc = pd.DataFrame(data = {\"tag\": tags})\n",
    "        df_loc.insert(0, 'feature', feat_list[f])\n",
    "        df_loc.insert(2, 'n_feature', stat_corpus.get_span_count(item = 'feature',value = feat_list[f], \n",
    "                                                                  conditional_rep = total_corpus_dir))\n",
    "        # Also reading out the count for the tags\n",
    "        n_tags = [stat_corpus.get_span_count(item = 'tag',value = tag_loc, conditional_rep = total_corpus_dir) for tag_loc in df_loc['tag']]\n",
    "        df_loc.insert(3, 'n_tag',n_tags)\n",
    "\n",
    "        # Creating a list of the dataframes by feature\n",
    "        df_list.append(df_loc)\n",
    "\n",
    "    n_df = pd.concat(df_list)\n",
    "    n_df.insert(0, 'layer', layername)\n",
    "    return n_df"
   ]
  },
  {
   "cell_type": "markdown",
   "id": "0304ef3b",
   "metadata": {},
   "source": [
    "#### Counts per layer"
   ]
  },
  {
   "cell_type": "code",
   "execution_count": 314,
   "id": "ca46e27c",
   "metadata": {},
   "outputs": [],
   "source": [
    "n_instr = stat_corpus.get_span_count(item = 'layer',value = 'Instrumenttypes', conditional_rep = total_corpus_dir)\n",
    "n_pdc = stat_corpus.get_span_count(item = 'layer',value = 'Policydesigncharacteristics', conditional_rep = total_corpus_dir)\n",
    "n_techspec = stat_corpus.get_span_count(item = 'layer',value = 'Technologyandapplicationspecificity', conditional_rep = total_corpus_dir)"
   ]
  },
  {
   "cell_type": "markdown",
   "id": "a4b60d8f",
   "metadata": {},
   "source": [
    "#### Counts for instrument types"
   ]
  },
  {
   "cell_type": "code",
   "execution_count": 79,
   "id": "a500b937",
   "metadata": {},
   "outputs": [
    {
     "data": {
      "text/html": [
       "<div>\n",
       "<style scoped>\n",
       "    .dataframe tbody tr th:only-of-type {\n",
       "        vertical-align: middle;\n",
       "    }\n",
       "\n",
       "    .dataframe tbody tr th {\n",
       "        vertical-align: top;\n",
       "    }\n",
       "\n",
       "    .dataframe thead th {\n",
       "        text-align: right;\n",
       "    }\n",
       "</style>\n",
       "<table border=\"1\" class=\"dataframe\">\n",
       "  <thead>\n",
       "    <tr style=\"text-align: right;\">\n",
       "      <th></th>\n",
       "      <th>layer</th>\n",
       "      <th>feature</th>\n",
       "      <th>tag</th>\n",
       "      <th>n_feature</th>\n",
       "      <th>n_tag</th>\n",
       "    </tr>\n",
       "  </thead>\n",
       "  <tbody>\n",
       "    <tr>\n",
       "      <th>0</th>\n",
       "      <td>Instrument types</td>\n",
       "      <td>InstrumentType</td>\n",
       "      <td>Edu_Outreach</td>\n",
       "      <td>3374</td>\n",
       "      <td>328</td>\n",
       "    </tr>\n",
       "    <tr>\n",
       "      <th>1</th>\n",
       "      <td>Instrument types</td>\n",
       "      <td>InstrumentType</td>\n",
       "      <td>FrameworkPolicy</td>\n",
       "      <td>3374</td>\n",
       "      <td>318</td>\n",
       "    </tr>\n",
       "    <tr>\n",
       "      <th>2</th>\n",
       "      <td>Instrument types</td>\n",
       "      <td>InstrumentType</td>\n",
       "      <td>PublicInvt</td>\n",
       "      <td>3374</td>\n",
       "      <td>97</td>\n",
       "    </tr>\n",
       "    <tr>\n",
       "      <th>3</th>\n",
       "      <td>Instrument types</td>\n",
       "      <td>InstrumentType</td>\n",
       "      <td>RD_D</td>\n",
       "      <td>3374</td>\n",
       "      <td>12</td>\n",
       "    </tr>\n",
       "    <tr>\n",
       "      <th>4</th>\n",
       "      <td>Instrument types</td>\n",
       "      <td>InstrumentType</td>\n",
       "      <td>RegulatoryInstr</td>\n",
       "      <td>3374</td>\n",
       "      <td>1225</td>\n",
       "    </tr>\n",
       "    <tr>\n",
       "      <th>5</th>\n",
       "      <td>Instrument types</td>\n",
       "      <td>InstrumentType</td>\n",
       "      <td>Subsidies_Incentives</td>\n",
       "      <td>3374</td>\n",
       "      <td>102</td>\n",
       "    </tr>\n",
       "    <tr>\n",
       "      <th>6</th>\n",
       "      <td>Instrument types</td>\n",
       "      <td>InstrumentType</td>\n",
       "      <td>TaxIncentives</td>\n",
       "      <td>3374</td>\n",
       "      <td>78</td>\n",
       "    </tr>\n",
       "    <tr>\n",
       "      <th>7</th>\n",
       "      <td>Instrument types</td>\n",
       "      <td>InstrumentType</td>\n",
       "      <td>TradablePermit</td>\n",
       "      <td>3374</td>\n",
       "      <td>143</td>\n",
       "    </tr>\n",
       "    <tr>\n",
       "      <th>8</th>\n",
       "      <td>Instrument types</td>\n",
       "      <td>InstrumentType</td>\n",
       "      <td>Unspecified</td>\n",
       "      <td>3374</td>\n",
       "      <td>1099</td>\n",
       "    </tr>\n",
       "    <tr>\n",
       "      <th>9</th>\n",
       "      <td>Instrument types</td>\n",
       "      <td>InstrumentType</td>\n",
       "      <td>VoluntaryAgrmt</td>\n",
       "      <td>3374</td>\n",
       "      <td>70</td>\n",
       "    </tr>\n",
       "  </tbody>\n",
       "</table>\n",
       "</div>"
      ],
      "text/plain": [
       "              layer         feature                   tag  n_feature  n_tag\n",
       "0  Instrument types  InstrumentType          Edu_Outreach       3374    328\n",
       "1  Instrument types  InstrumentType       FrameworkPolicy       3374    318\n",
       "2  Instrument types  InstrumentType            PublicInvt       3374     97\n",
       "3  Instrument types  InstrumentType                  RD_D       3374     12\n",
       "4  Instrument types  InstrumentType       RegulatoryInstr       3374   1225\n",
       "5  Instrument types  InstrumentType  Subsidies_Incentives       3374    102\n",
       "6  Instrument types  InstrumentType         TaxIncentives       3374     78\n",
       "7  Instrument types  InstrumentType        TradablePermit       3374    143\n",
       "8  Instrument types  InstrumentType           Unspecified       3374   1099\n",
       "9  Instrument types  InstrumentType        VoluntaryAgrmt       3374     70"
      ]
     },
     "execution_count": 79,
     "metadata": {},
     "output_type": "execute_result"
    }
   ],
   "source": [
    "n_instr_df = annotation_count(layername = 'Instrument types', layer_index = 2)\n",
    "n_instr_df"
   ]
  },
  {
   "cell_type": "markdown",
   "id": "5743b811",
   "metadata": {},
   "source": [
    "#### Counts for policy design characteristics"
   ]
  },
  {
   "cell_type": "code",
   "execution_count": 80,
   "id": "e348eebc",
   "metadata": {
    "scrolled": false
   },
   "outputs": [
    {
     "data": {
      "text/html": [
       "<div>\n",
       "<style scoped>\n",
       "    .dataframe tbody tr th:only-of-type {\n",
       "        vertical-align: middle;\n",
       "    }\n",
       "\n",
       "    .dataframe tbody tr th {\n",
       "        vertical-align: top;\n",
       "    }\n",
       "\n",
       "    .dataframe thead th {\n",
       "        text-align: right;\n",
       "    }\n",
       "</style>\n",
       "<table border=\"1\" class=\"dataframe\">\n",
       "  <thead>\n",
       "    <tr style=\"text-align: right;\">\n",
       "      <th></th>\n",
       "      <th>layer</th>\n",
       "      <th>feature</th>\n",
       "      <th>tag</th>\n",
       "      <th>n_feature</th>\n",
       "      <th>n_tag</th>\n",
       "    </tr>\n",
       "  </thead>\n",
       "  <tbody>\n",
       "    <tr>\n",
       "      <th>0</th>\n",
       "      <td>Policy design characteristics</td>\n",
       "      <td>Objective</td>\n",
       "      <td>Objective_QualIntention</td>\n",
       "      <td>990</td>\n",
       "      <td>554</td>\n",
       "    </tr>\n",
       "    <tr>\n",
       "      <th>1</th>\n",
       "      <td>Policy design characteristics</td>\n",
       "      <td>Objective</td>\n",
       "      <td>Objective_QualIntention_noCCM</td>\n",
       "      <td>990</td>\n",
       "      <td>266</td>\n",
       "    </tr>\n",
       "    <tr>\n",
       "      <th>2</th>\n",
       "      <td>Policy design characteristics</td>\n",
       "      <td>Objective</td>\n",
       "      <td>Objective_QuantTarget</td>\n",
       "      <td>990</td>\n",
       "      <td>162</td>\n",
       "    </tr>\n",
       "    <tr>\n",
       "      <th>3</th>\n",
       "      <td>Policy design characteristics</td>\n",
       "      <td>Objective</td>\n",
       "      <td>Objective_QuantTarget_noCCM</td>\n",
       "      <td>990</td>\n",
       "      <td>8</td>\n",
       "    </tr>\n",
       "    <tr>\n",
       "      <th>0</th>\n",
       "      <td>Policy design characteristics</td>\n",
       "      <td>Reference</td>\n",
       "      <td>Ref_OtherPolicy</td>\n",
       "      <td>1108</td>\n",
       "      <td>736</td>\n",
       "    </tr>\n",
       "    <tr>\n",
       "      <th>1</th>\n",
       "      <td>Policy design characteristics</td>\n",
       "      <td>Reference</td>\n",
       "      <td>Ref_PolicyAmended</td>\n",
       "      <td>1108</td>\n",
       "      <td>90</td>\n",
       "    </tr>\n",
       "    <tr>\n",
       "      <th>2</th>\n",
       "      <td>Policy design characteristics</td>\n",
       "      <td>Reference</td>\n",
       "      <td>Ref_Strategy_Agreement</td>\n",
       "      <td>1108</td>\n",
       "      <td>282</td>\n",
       "    </tr>\n",
       "    <tr>\n",
       "      <th>0</th>\n",
       "      <td>Policy design characteristics</td>\n",
       "      <td>Actor</td>\n",
       "      <td>Addressee_default</td>\n",
       "      <td>5873</td>\n",
       "      <td>2079</td>\n",
       "    </tr>\n",
       "    <tr>\n",
       "      <th>1</th>\n",
       "      <td>Policy design characteristics</td>\n",
       "      <td>Actor</td>\n",
       "      <td>Addressee_monitored</td>\n",
       "      <td>5873</td>\n",
       "      <td>483</td>\n",
       "    </tr>\n",
       "    <tr>\n",
       "      <th>2</th>\n",
       "      <td>Policy design characteristics</td>\n",
       "      <td>Actor</td>\n",
       "      <td>Addressee_resource</td>\n",
       "      <td>5873</td>\n",
       "      <td>142</td>\n",
       "    </tr>\n",
       "    <tr>\n",
       "      <th>3</th>\n",
       "      <td>Policy design characteristics</td>\n",
       "      <td>Actor</td>\n",
       "      <td>Addressee_sector</td>\n",
       "      <td>5873</td>\n",
       "      <td>1355</td>\n",
       "    </tr>\n",
       "    <tr>\n",
       "      <th>4</th>\n",
       "      <td>Policy design characteristics</td>\n",
       "      <td>Actor</td>\n",
       "      <td>Authority_default</td>\n",
       "      <td>5873</td>\n",
       "      <td>897</td>\n",
       "    </tr>\n",
       "    <tr>\n",
       "      <th>5</th>\n",
       "      <td>Policy design characteristics</td>\n",
       "      <td>Actor</td>\n",
       "      <td>Authority_established</td>\n",
       "      <td>5873</td>\n",
       "      <td>31</td>\n",
       "    </tr>\n",
       "    <tr>\n",
       "      <th>6</th>\n",
       "      <td>Policy design characteristics</td>\n",
       "      <td>Actor</td>\n",
       "      <td>Authority_legislative</td>\n",
       "      <td>5873</td>\n",
       "      <td>227</td>\n",
       "    </tr>\n",
       "    <tr>\n",
       "      <th>7</th>\n",
       "      <td>Policy design characteristics</td>\n",
       "      <td>Actor</td>\n",
       "      <td>Authority_monitoring</td>\n",
       "      <td>5873</td>\n",
       "      <td>659</td>\n",
       "    </tr>\n",
       "    <tr>\n",
       "      <th>0</th>\n",
       "      <td>Policy design characteristics</td>\n",
       "      <td>Resource</td>\n",
       "      <td>Resource_MonRevenues</td>\n",
       "      <td>510</td>\n",
       "      <td>36</td>\n",
       "    </tr>\n",
       "    <tr>\n",
       "      <th>1</th>\n",
       "      <td>Policy design characteristics</td>\n",
       "      <td>Resource</td>\n",
       "      <td>Resource_MonSpending</td>\n",
       "      <td>510</td>\n",
       "      <td>112</td>\n",
       "    </tr>\n",
       "    <tr>\n",
       "      <th>2</th>\n",
       "      <td>Policy design characteristics</td>\n",
       "      <td>Resource</td>\n",
       "      <td>Resource_Other</td>\n",
       "      <td>510</td>\n",
       "      <td>362</td>\n",
       "    </tr>\n",
       "    <tr>\n",
       "      <th>0</th>\n",
       "      <td>Policy design characteristics</td>\n",
       "      <td>Time</td>\n",
       "      <td>Time_Compliance</td>\n",
       "      <td>795</td>\n",
       "      <td>310</td>\n",
       "    </tr>\n",
       "    <tr>\n",
       "      <th>1</th>\n",
       "      <td>Policy design characteristics</td>\n",
       "      <td>Time</td>\n",
       "      <td>Time_InEffect</td>\n",
       "      <td>795</td>\n",
       "      <td>106</td>\n",
       "    </tr>\n",
       "    <tr>\n",
       "      <th>2</th>\n",
       "      <td>Policy design characteristics</td>\n",
       "      <td>Time</td>\n",
       "      <td>Time_Monitoring</td>\n",
       "      <td>795</td>\n",
       "      <td>323</td>\n",
       "    </tr>\n",
       "    <tr>\n",
       "      <th>3</th>\n",
       "      <td>Policy design characteristics</td>\n",
       "      <td>Time</td>\n",
       "      <td>Time_PolDuration</td>\n",
       "      <td>795</td>\n",
       "      <td>42</td>\n",
       "    </tr>\n",
       "    <tr>\n",
       "      <th>4</th>\n",
       "      <td>Policy design characteristics</td>\n",
       "      <td>Time</td>\n",
       "      <td>Time_Resources</td>\n",
       "      <td>795</td>\n",
       "      <td>14</td>\n",
       "    </tr>\n",
       "    <tr>\n",
       "      <th>0</th>\n",
       "      <td>Policy design characteristics</td>\n",
       "      <td>Compliance</td>\n",
       "      <td>Form_monitoring</td>\n",
       "      <td>1824</td>\n",
       "      <td>1776</td>\n",
       "    </tr>\n",
       "    <tr>\n",
       "      <th>1</th>\n",
       "      <td>Policy design characteristics</td>\n",
       "      <td>Compliance</td>\n",
       "      <td>Form_sanctioning</td>\n",
       "      <td>1824</td>\n",
       "      <td>48</td>\n",
       "    </tr>\n",
       "    <tr>\n",
       "      <th>0</th>\n",
       "      <td>Policy design characteristics</td>\n",
       "      <td>Reversibility</td>\n",
       "      <td>Reversibility_policy</td>\n",
       "      <td>37</td>\n",
       "      <td>37</td>\n",
       "    </tr>\n",
       "  </tbody>\n",
       "</table>\n",
       "</div>"
      ],
      "text/plain": [
       "                                   layer        feature  \\\n",
       "0      Policy design characteristics          Objective   \n",
       "1      Policy design characteristics          Objective   \n",
       "2      Policy design characteristics          Objective   \n",
       "3      Policy design characteristics          Objective   \n",
       "0      Policy design characteristics          Reference   \n",
       "1      Policy design characteristics          Reference   \n",
       "2      Policy design characteristics          Reference   \n",
       "0      Policy design characteristics              Actor   \n",
       "1      Policy design characteristics              Actor   \n",
       "2      Policy design characteristics              Actor   \n",
       "3      Policy design characteristics              Actor   \n",
       "4      Policy design characteristics              Actor   \n",
       "5      Policy design characteristics              Actor   \n",
       "6      Policy design characteristics              Actor   \n",
       "7      Policy design characteristics              Actor   \n",
       "0      Policy design characteristics           Resource   \n",
       "1      Policy design characteristics           Resource   \n",
       "2      Policy design characteristics           Resource   \n",
       "0      Policy design characteristics               Time   \n",
       "1      Policy design characteristics               Time   \n",
       "2      Policy design characteristics               Time   \n",
       "3      Policy design characteristics               Time   \n",
       "4      Policy design characteristics               Time   \n",
       "0      Policy design characteristics         Compliance   \n",
       "1      Policy design characteristics         Compliance   \n",
       "0      Policy design characteristics      Reversibility   \n",
       "\n",
       "                             tag  n_feature  n_tag  \n",
       "0        Objective_QualIntention        990    554  \n",
       "1  Objective_QualIntention_noCCM        990    266  \n",
       "2          Objective_QuantTarget        990    162  \n",
       "3    Objective_QuantTarget_noCCM        990      8  \n",
       "0                Ref_OtherPolicy       1108    736  \n",
       "1              Ref_PolicyAmended       1108     90  \n",
       "2         Ref_Strategy_Agreement       1108    282  \n",
       "0              Addressee_default       5873   2079  \n",
       "1            Addressee_monitored       5873    483  \n",
       "2             Addressee_resource       5873    142  \n",
       "3               Addressee_sector       5873   1355  \n",
       "4              Authority_default       5873    897  \n",
       "5          Authority_established       5873     31  \n",
       "6          Authority_legislative       5873    227  \n",
       "7           Authority_monitoring       5873    659  \n",
       "0           Resource_MonRevenues        510     36  \n",
       "1           Resource_MonSpending        510    112  \n",
       "2                 Resource_Other        510    362  \n",
       "0                Time_Compliance        795    310  \n",
       "1                  Time_InEffect        795    106  \n",
       "2                Time_Monitoring        795    323  \n",
       "3               Time_PolDuration        795     42  \n",
       "4                 Time_Resources        795     14  \n",
       "0                Form_monitoring       1824   1776  \n",
       "1               Form_sanctioning       1824     48  \n",
       "0           Reversibility_policy         37     37  "
      ]
     },
     "execution_count": 80,
     "metadata": {},
     "output_type": "execute_result"
    }
   ],
   "source": [
    "n_pdc_df = annotation_count(layername = '    Policy design characteristics    ', layer_index = 0)\n",
    "n_pdc_df"
   ]
  },
  {
   "cell_type": "markdown",
   "id": "da970ed7",
   "metadata": {},
   "source": [
    "#### Counts for technology specificity"
   ]
  },
  {
   "cell_type": "code",
   "execution_count": 85,
   "id": "e7698fce",
   "metadata": {},
   "outputs": [
    {
     "data": {
      "text/html": [
       "<div>\n",
       "<style scoped>\n",
       "    .dataframe tbody tr th:only-of-type {\n",
       "        vertical-align: middle;\n",
       "    }\n",
       "\n",
       "    .dataframe tbody tr th {\n",
       "        vertical-align: top;\n",
       "    }\n",
       "\n",
       "    .dataframe thead th {\n",
       "        text-align: right;\n",
       "    }\n",
       "</style>\n",
       "<table border=\"1\" class=\"dataframe\">\n",
       "  <thead>\n",
       "    <tr style=\"text-align: right;\">\n",
       "      <th></th>\n",
       "      <th>layer</th>\n",
       "      <th>feature</th>\n",
       "      <th>tag</th>\n",
       "      <th>n_feature</th>\n",
       "      <th>n_tag</th>\n",
       "    </tr>\n",
       "  </thead>\n",
       "  <tbody>\n",
       "    <tr>\n",
       "      <th>0</th>\n",
       "      <td>Technology specificity</td>\n",
       "      <td>EnergySpecificity</td>\n",
       "      <td>Energy_LowCarbon</td>\n",
       "      <td>1901</td>\n",
       "      <td>1353</td>\n",
       "    </tr>\n",
       "    <tr>\n",
       "      <th>1</th>\n",
       "      <td>Technology specificity</td>\n",
       "      <td>EnergySpecificity</td>\n",
       "      <td>Energy_Other</td>\n",
       "      <td>1901</td>\n",
       "      <td>548</td>\n",
       "    </tr>\n",
       "    <tr>\n",
       "      <th>0</th>\n",
       "      <td>Technology specificity</td>\n",
       "      <td>ApplicationSpecificity</td>\n",
       "      <td>App_LowCarbon</td>\n",
       "      <td>1543</td>\n",
       "      <td>759</td>\n",
       "    </tr>\n",
       "    <tr>\n",
       "      <th>1</th>\n",
       "      <td>Technology specificity</td>\n",
       "      <td>ApplicationSpecificity</td>\n",
       "      <td>App_Other</td>\n",
       "      <td>1543</td>\n",
       "      <td>784</td>\n",
       "    </tr>\n",
       "    <tr>\n",
       "      <th>0</th>\n",
       "      <td>Technology specificity</td>\n",
       "      <td>TechnologySpecificity</td>\n",
       "      <td>Tech_LowCarbon</td>\n",
       "      <td>2511</td>\n",
       "      <td>1460</td>\n",
       "    </tr>\n",
       "    <tr>\n",
       "      <th>1</th>\n",
       "      <td>Technology specificity</td>\n",
       "      <td>TechnologySpecificity</td>\n",
       "      <td>Tech_Other</td>\n",
       "      <td>2511</td>\n",
       "      <td>1051</td>\n",
       "    </tr>\n",
       "  </tbody>\n",
       "</table>\n",
       "</div>"
      ],
      "text/plain": [
       "                    layer                 feature               tag  \\\n",
       "0  Technology specificity       EnergySpecificity  Energy_LowCarbon   \n",
       "1  Technology specificity       EnergySpecificity      Energy_Other   \n",
       "0  Technology specificity  ApplicationSpecificity     App_LowCarbon   \n",
       "1  Technology specificity  ApplicationSpecificity         App_Other   \n",
       "0  Technology specificity   TechnologySpecificity    Tech_LowCarbon   \n",
       "1  Technology specificity   TechnologySpecificity        Tech_Other   \n",
       "\n",
       "   n_feature  n_tag  \n",
       "0       1901   1353  \n",
       "1       1901    548  \n",
       "0       1543    759  \n",
       "1       1543    784  \n",
       "0       2511   1460  \n",
       "1       2511   1051  "
      ]
     },
     "execution_count": 85,
     "metadata": {},
     "output_type": "execute_result"
    }
   ],
   "source": [
    "n_techspec_df = annotation_count(layername = 'Technology specificity', layer_index = 1)\n",
    "n_techspec_df"
   ]
  },
  {
   "cell_type": "markdown",
   "id": "aaa4c22f",
   "metadata": {},
   "source": [
    "### Distribution of annotations for individiual features and tags"
   ]
  },
  {
   "cell_type": "markdown",
   "id": "939ded8f",
   "metadata": {},
   "source": [
    "Sunburst plot of all three levels of the hierarchy\n"
   ]
  },
  {
   "cell_type": "code",
   "execution_count": 92,
   "id": "e45dab15",
   "metadata": {},
   "outputs": [],
   "source": [
    "df = pd.concat([n_instr_df, n_pdc_df, n_techspec_df])"
   ]
  },
  {
   "cell_type": "code",
   "execution_count": 93,
   "id": "dd11697b",
   "metadata": {},
   "outputs": [
    {
     "name": "stderr",
     "output_type": "stream",
     "text": [
      "/Users/l.kaack/miniconda3/envs/policycoding/lib/python3.9/site-packages/plotly/express/_core.py:1637: FutureWarning:\n",
      "\n",
      "The frame.append method is deprecated and will be removed from pandas in a future version. Use pandas.concat instead.\n",
      "\n",
      "/Users/l.kaack/miniconda3/envs/policycoding/lib/python3.9/site-packages/plotly/express/_core.py:1637: FutureWarning:\n",
      "\n",
      "The frame.append method is deprecated and will be removed from pandas in a future version. Use pandas.concat instead.\n",
      "\n",
      "/Users/l.kaack/miniconda3/envs/policycoding/lib/python3.9/site-packages/plotly/express/_core.py:1637: FutureWarning:\n",
      "\n",
      "The frame.append method is deprecated and will be removed from pandas in a future version. Use pandas.concat instead.\n",
      "\n"
     ]
    },
    {
     "data": {
      "application/vnd.plotly.v1+json": {
       "config": {
        "plotlyServerURL": "https://plot.ly"
       },
       "data": [
        {
         "branchvalues": "total",
         "customdata": [
          [
           "Instrument types"
          ],
          [
           "    Policy design characteristics    "
          ],
          [
           "    Policy design characteristics    "
          ],
          [
           "Instrument types"
          ],
          [
           "    Policy design characteristics    "
          ],
          [
           "    Policy design characteristics    "
          ],
          [
           "    Policy design characteristics    "
          ],
          [
           "    Policy design characteristics    "
          ],
          [
           "    Policy design characteristics    "
          ],
          [
           "Instrument types"
          ],
          [
           "    Policy design characteristics    "
          ],
          [
           "    Policy design characteristics    "
          ],
          [
           "Technology specificity"
          ],
          [
           "Technology specificity"
          ],
          [
           "Instrument types"
          ],
          [
           "    Policy design characteristics    "
          ],
          [
           "    Policy design characteristics    "
          ],
          [
           "    Policy design characteristics    "
          ],
          [
           "Instrument types"
          ],
          [
           "Instrument types"
          ],
          [
           "Technology specificity"
          ],
          [
           "Technology specificity"
          ],
          [
           "    Policy design characteristics    "
          ],
          [
           "    Policy design characteristics    "
          ],
          [
           "    Policy design characteristics    "
          ],
          [
           "Instrument types"
          ],
          [
           "    Policy design characteristics    "
          ],
          [
           "    Policy design characteristics    "
          ],
          [
           "    Policy design characteristics    "
          ],
          [
           "    Policy design characteristics    "
          ],
          [
           "    Policy design characteristics    "
          ],
          [
           "Technology specificity"
          ],
          [
           "Technology specificity"
          ],
          [
           "    Policy design characteristics    "
          ],
          [
           "    Policy design characteristics    "
          ],
          [
           "    Policy design characteristics    "
          ],
          [
           "    Policy design characteristics    "
          ],
          [
           "    Policy design characteristics    "
          ],
          [
           "    Policy design characteristics    "
          ],
          [
           "Instrument types"
          ],
          [
           "Instrument types"
          ],
          [
           "Instrument types"
          ],
          [
           "    Policy design characteristics    "
          ],
          [
           "Technology specificity"
          ],
          [
           "    Policy design characteristics    "
          ],
          [
           "Technology specificity"
          ],
          [
           "Instrument types"
          ],
          [
           "    Policy design characteristics    "
          ],
          [
           "    Policy design characteristics    "
          ],
          [
           "    Policy design characteristics    "
          ],
          [
           "    Policy design characteristics    "
          ],
          [
           "Technology specificity"
          ],
          [
           "    Policy design characteristics    "
          ],
          [
           "    Policy design characteristics    "
          ],
          [
           "Instrument types"
          ],
          [
           "Technology specificity"
          ]
         ],
         "domain": {
          "x": [
           0,
           1
          ],
          "y": [
           0,
           1
          ]
         },
         "hovertemplate": "labels=%{label}<br>n_tag=%{value}<br>parent=%{parent}<br>id=%{id}<br>layer=%{customdata[0]}<extra></extra>",
         "ids": [
          "Instrument types/InstrumentType/PublicInvt",
          "    Policy design characteristics    /Reference/Ref_PolicyAmended",
          "    Policy design characteristics    /Reference/Ref_OtherPolicy",
          "Instrument types/InstrumentType/RD_D",
          "    Policy design characteristics    /Resource/Resource_MonRevenues",
          "    Policy design characteristics    /Objective/Objective_QuantTarget_noCCM",
          "    Policy design characteristics    /Objective/Objective_QuantTarget",
          "    Policy design characteristics    /Objective/Objective_QualIntention_noCCM",
          "    Policy design characteristics    /Objective/Objective_QualIntention",
          "Instrument types/InstrumentType/FrameworkPolicy",
          "    Policy design characteristics    /Compliance/Form_sanctioning",
          "    Policy design characteristics    /Compliance/Form_monitoring",
          "Technology specificity/EnergySpecificity/Energy_Other",
          "Technology specificity/EnergySpecificity/Energy_LowCarbon",
          "Instrument types/InstrumentType/Edu_Outreach",
          "    Policy design characteristics    /Resource/Resource_MonSpending",
          "    Policy design characteristics    /Resource/Resource_Other",
          "    Policy design characteristics    /Reversibility/Reversibility_policy",
          "Instrument types/InstrumentType/Subsidies_Incentives",
          "Instrument types/InstrumentType/TaxIncentives",
          "Technology specificity/TechnologySpecificity/Tech_LowCarbon",
          "Technology specificity/TechnologySpecificity/Tech_Other",
          "    Policy design characteristics    /Time/Time_Compliance",
          "    Policy design characteristics    /Time/Time_InEffect",
          "    Policy design characteristics    /Reference/Ref_Strategy_Agreement",
          "Instrument types/InstrumentType/RegulatoryInstr",
          "    Policy design characteristics    /Actor/Addressee_default",
          "    Policy design characteristics    /Actor/Authority_monitoring",
          "    Policy design characteristics    /Actor/Authority_legislative",
          "    Policy design characteristics    /Actor/Authority_established",
          "    Policy design characteristics    /Actor/Authority_default",
          "Technology specificity/ApplicationSpecificity/App_Other",
          "Technology specificity/ApplicationSpecificity/App_LowCarbon",
          "    Policy design characteristics    /Actor/Addressee_sector",
          "    Policy design characteristics    /Actor/Addressee_resource",
          "    Policy design characteristics    /Actor/Addressee_monitored",
          "    Policy design characteristics    /Time/Time_Monitoring",
          "    Policy design characteristics    /Time/Time_PolDuration",
          "    Policy design characteristics    /Time/Time_Resources",
          "Instrument types/InstrumentType/TradablePermit",
          "Instrument types/InstrumentType/Unspecified",
          "Instrument types/InstrumentType/VoluntaryAgrmt",
          "    Policy design characteristics    /Actor",
          "Technology specificity/ApplicationSpecificity",
          "    Policy design characteristics    /Compliance",
          "Technology specificity/EnergySpecificity",
          "Instrument types/InstrumentType",
          "    Policy design characteristics    /Objective",
          "    Policy design characteristics    /Reference",
          "    Policy design characteristics    /Resource",
          "    Policy design characteristics    /Reversibility",
          "Technology specificity/TechnologySpecificity",
          "    Policy design characteristics    /Time",
          "    Policy design characteristics    ",
          "Instrument types",
          "Technology specificity"
         ],
         "labels": [
          "PublicInvt",
          "Ref_PolicyAmended",
          "Ref_OtherPolicy",
          "RD_D",
          "Resource_MonRevenues",
          "Objective_QuantTarget_noCCM",
          "Objective_QuantTarget",
          "Objective_QualIntention_noCCM",
          "Objective_QualIntention",
          "FrameworkPolicy",
          "Form_sanctioning",
          "Form_monitoring",
          "Energy_Other",
          "Energy_LowCarbon",
          "Edu_Outreach",
          "Resource_MonSpending",
          "Resource_Other",
          "Reversibility_policy",
          "Subsidies_Incentives",
          "TaxIncentives",
          "Tech_LowCarbon",
          "Tech_Other",
          "Time_Compliance",
          "Time_InEffect",
          "Ref_Strategy_Agreement",
          "RegulatoryInstr",
          "Addressee_default",
          "Authority_monitoring",
          "Authority_legislative",
          "Authority_established",
          "Authority_default",
          "App_Other",
          "App_LowCarbon",
          "Addressee_sector",
          "Addressee_resource",
          "Addressee_monitored",
          "Time_Monitoring",
          "Time_PolDuration",
          "Time_Resources",
          "TradablePermit",
          "Unspecified",
          "VoluntaryAgrmt",
          "Actor",
          "ApplicationSpecificity",
          "Compliance",
          "EnergySpecificity",
          "InstrumentType",
          "Objective",
          "Reference",
          "Resource",
          "Reversibility",
          "TechnologySpecificity",
          "Time",
          "    Policy design characteristics    ",
          "Instrument types",
          "Technology specificity"
         ],
         "marker": {
          "colors": [
           "rgb(128,177,211)",
           "rgb(253,180,98)",
           "rgb(253,180,98)",
           "rgb(128,177,211)",
           "rgb(253,180,98)",
           "rgb(253,180,98)",
           "rgb(253,180,98)",
           "rgb(253,180,98)",
           "rgb(253,180,98)",
           "rgb(128,177,211)",
           "rgb(253,180,98)",
           "rgb(253,180,98)",
           "rgb(179,222,105)",
           "rgb(179,222,105)",
           "rgb(128,177,211)",
           "rgb(253,180,98)",
           "rgb(253,180,98)",
           "rgb(253,180,98)",
           "rgb(128,177,211)",
           "rgb(128,177,211)",
           "rgb(179,222,105)",
           "rgb(179,222,105)",
           "rgb(253,180,98)",
           "rgb(253,180,98)",
           "rgb(253,180,98)",
           "rgb(128,177,211)",
           "rgb(253,180,98)",
           "rgb(253,180,98)",
           "rgb(253,180,98)",
           "rgb(253,180,98)",
           "rgb(253,180,98)",
           "rgb(179,222,105)",
           "rgb(179,222,105)",
           "rgb(253,180,98)",
           "rgb(253,180,98)",
           "rgb(253,180,98)",
           "rgb(253,180,98)",
           "rgb(253,180,98)",
           "rgb(253,180,98)",
           "rgb(128,177,211)",
           "rgb(128,177,211)",
           "rgb(128,177,211)",
           "rgb(253,180,98)",
           "rgb(179,222,105)",
           "rgb(253,180,98)",
           "rgb(179,222,105)",
           "rgb(128,177,211)",
           "rgb(253,180,98)",
           "rgb(253,180,98)",
           "rgb(253,180,98)",
           "rgb(253,180,98)",
           "rgb(179,222,105)",
           "rgb(253,180,98)",
           "rgb(253,180,98)",
           "rgb(128,177,211)",
           "rgb(179,222,105)"
          ]
         },
         "name": "",
         "parents": [
          "Instrument types/InstrumentType",
          "    Policy design characteristics    /Reference",
          "    Policy design characteristics    /Reference",
          "Instrument types/InstrumentType",
          "    Policy design characteristics    /Resource",
          "    Policy design characteristics    /Objective",
          "    Policy design characteristics    /Objective",
          "    Policy design characteristics    /Objective",
          "    Policy design characteristics    /Objective",
          "Instrument types/InstrumentType",
          "    Policy design characteristics    /Compliance",
          "    Policy design characteristics    /Compliance",
          "Technology specificity/EnergySpecificity",
          "Technology specificity/EnergySpecificity",
          "Instrument types/InstrumentType",
          "    Policy design characteristics    /Resource",
          "    Policy design characteristics    /Resource",
          "    Policy design characteristics    /Reversibility",
          "Instrument types/InstrumentType",
          "Instrument types/InstrumentType",
          "Technology specificity/TechnologySpecificity",
          "Technology specificity/TechnologySpecificity",
          "    Policy design characteristics    /Time",
          "    Policy design characteristics    /Time",
          "    Policy design characteristics    /Reference",
          "Instrument types/InstrumentType",
          "    Policy design characteristics    /Actor",
          "    Policy design characteristics    /Actor",
          "    Policy design characteristics    /Actor",
          "    Policy design characteristics    /Actor",
          "    Policy design characteristics    /Actor",
          "Technology specificity/ApplicationSpecificity",
          "Technology specificity/ApplicationSpecificity",
          "    Policy design characteristics    /Actor",
          "    Policy design characteristics    /Actor",
          "    Policy design characteristics    /Actor",
          "    Policy design characteristics    /Time",
          "    Policy design characteristics    /Time",
          "    Policy design characteristics    /Time",
          "Instrument types/InstrumentType",
          "Instrument types/InstrumentType",
          "Instrument types/InstrumentType",
          "    Policy design characteristics    ",
          "Technology specificity",
          "    Policy design characteristics    ",
          "Technology specificity",
          "Instrument types",
          "    Policy design characteristics    ",
          "    Policy design characteristics    ",
          "    Policy design characteristics    ",
          "    Policy design characteristics    ",
          "Technology specificity",
          "    Policy design characteristics    ",
          "",
          "",
          ""
         ],
         "type": "sunburst",
         "values": [
          97,
          90,
          736,
          12,
          36,
          8,
          162,
          266,
          554,
          318,
          48,
          1776,
          548,
          1353,
          328,
          112,
          362,
          37,
          102,
          78,
          1460,
          1051,
          310,
          106,
          282,
          1225,
          2079,
          659,
          227,
          31,
          897,
          784,
          759,
          1355,
          142,
          483,
          323,
          42,
          14,
          143,
          1099,
          70,
          5873,
          1543,
          1824,
          1901,
          3472,
          990,
          1108,
          510,
          37,
          2511,
          795,
          11137,
          3472,
          5955
         ]
        }
       ],
       "layout": {
        "legend": {
         "tracegroupgap": 0
        },
        "margin": {
         "t": 60
        },
        "sunburstcolorway": [
         "rgb(128,177,211)",
         "rgb(253,180,98)",
         "rgb(179,222,105)"
        ],
        "template": {
         "data": {
          "bar": [
           {
            "error_x": {
             "color": "#2a3f5f"
            },
            "error_y": {
             "color": "#2a3f5f"
            },
            "marker": {
             "line": {
              "color": "#E5ECF6",
              "width": 0.5
             },
             "pattern": {
              "fillmode": "overlay",
              "size": 10,
              "solidity": 0.2
             }
            },
            "type": "bar"
           }
          ],
          "barpolar": [
           {
            "marker": {
             "line": {
              "color": "#E5ECF6",
              "width": 0.5
             },
             "pattern": {
              "fillmode": "overlay",
              "size": 10,
              "solidity": 0.2
             }
            },
            "type": "barpolar"
           }
          ],
          "carpet": [
           {
            "aaxis": {
             "endlinecolor": "#2a3f5f",
             "gridcolor": "white",
             "linecolor": "white",
             "minorgridcolor": "white",
             "startlinecolor": "#2a3f5f"
            },
            "baxis": {
             "endlinecolor": "#2a3f5f",
             "gridcolor": "white",
             "linecolor": "white",
             "minorgridcolor": "white",
             "startlinecolor": "#2a3f5f"
            },
            "type": "carpet"
           }
          ],
          "choropleth": [
           {
            "colorbar": {
             "outlinewidth": 0,
             "ticks": ""
            },
            "type": "choropleth"
           }
          ],
          "contour": [
           {
            "colorbar": {
             "outlinewidth": 0,
             "ticks": ""
            },
            "colorscale": [
             [
              0,
              "#0d0887"
             ],
             [
              0.1111111111111111,
              "#46039f"
             ],
             [
              0.2222222222222222,
              "#7201a8"
             ],
             [
              0.3333333333333333,
              "#9c179e"
             ],
             [
              0.4444444444444444,
              "#bd3786"
             ],
             [
              0.5555555555555556,
              "#d8576b"
             ],
             [
              0.6666666666666666,
              "#ed7953"
             ],
             [
              0.7777777777777778,
              "#fb9f3a"
             ],
             [
              0.8888888888888888,
              "#fdca26"
             ],
             [
              1,
              "#f0f921"
             ]
            ],
            "type": "contour"
           }
          ],
          "contourcarpet": [
           {
            "colorbar": {
             "outlinewidth": 0,
             "ticks": ""
            },
            "type": "contourcarpet"
           }
          ],
          "heatmap": [
           {
            "colorbar": {
             "outlinewidth": 0,
             "ticks": ""
            },
            "colorscale": [
             [
              0,
              "#0d0887"
             ],
             [
              0.1111111111111111,
              "#46039f"
             ],
             [
              0.2222222222222222,
              "#7201a8"
             ],
             [
              0.3333333333333333,
              "#9c179e"
             ],
             [
              0.4444444444444444,
              "#bd3786"
             ],
             [
              0.5555555555555556,
              "#d8576b"
             ],
             [
              0.6666666666666666,
              "#ed7953"
             ],
             [
              0.7777777777777778,
              "#fb9f3a"
             ],
             [
              0.8888888888888888,
              "#fdca26"
             ],
             [
              1,
              "#f0f921"
             ]
            ],
            "type": "heatmap"
           }
          ],
          "heatmapgl": [
           {
            "colorbar": {
             "outlinewidth": 0,
             "ticks": ""
            },
            "colorscale": [
             [
              0,
              "#0d0887"
             ],
             [
              0.1111111111111111,
              "#46039f"
             ],
             [
              0.2222222222222222,
              "#7201a8"
             ],
             [
              0.3333333333333333,
              "#9c179e"
             ],
             [
              0.4444444444444444,
              "#bd3786"
             ],
             [
              0.5555555555555556,
              "#d8576b"
             ],
             [
              0.6666666666666666,
              "#ed7953"
             ],
             [
              0.7777777777777778,
              "#fb9f3a"
             ],
             [
              0.8888888888888888,
              "#fdca26"
             ],
             [
              1,
              "#f0f921"
             ]
            ],
            "type": "heatmapgl"
           }
          ],
          "histogram": [
           {
            "marker": {
             "pattern": {
              "fillmode": "overlay",
              "size": 10,
              "solidity": 0.2
             }
            },
            "type": "histogram"
           }
          ],
          "histogram2d": [
           {
            "colorbar": {
             "outlinewidth": 0,
             "ticks": ""
            },
            "colorscale": [
             [
              0,
              "#0d0887"
             ],
             [
              0.1111111111111111,
              "#46039f"
             ],
             [
              0.2222222222222222,
              "#7201a8"
             ],
             [
              0.3333333333333333,
              "#9c179e"
             ],
             [
              0.4444444444444444,
              "#bd3786"
             ],
             [
              0.5555555555555556,
              "#d8576b"
             ],
             [
              0.6666666666666666,
              "#ed7953"
             ],
             [
              0.7777777777777778,
              "#fb9f3a"
             ],
             [
              0.8888888888888888,
              "#fdca26"
             ],
             [
              1,
              "#f0f921"
             ]
            ],
            "type": "histogram2d"
           }
          ],
          "histogram2dcontour": [
           {
            "colorbar": {
             "outlinewidth": 0,
             "ticks": ""
            },
            "colorscale": [
             [
              0,
              "#0d0887"
             ],
             [
              0.1111111111111111,
              "#46039f"
             ],
             [
              0.2222222222222222,
              "#7201a8"
             ],
             [
              0.3333333333333333,
              "#9c179e"
             ],
             [
              0.4444444444444444,
              "#bd3786"
             ],
             [
              0.5555555555555556,
              "#d8576b"
             ],
             [
              0.6666666666666666,
              "#ed7953"
             ],
             [
              0.7777777777777778,
              "#fb9f3a"
             ],
             [
              0.8888888888888888,
              "#fdca26"
             ],
             [
              1,
              "#f0f921"
             ]
            ],
            "type": "histogram2dcontour"
           }
          ],
          "mesh3d": [
           {
            "colorbar": {
             "outlinewidth": 0,
             "ticks": ""
            },
            "type": "mesh3d"
           }
          ],
          "parcoords": [
           {
            "line": {
             "colorbar": {
              "outlinewidth": 0,
              "ticks": ""
             }
            },
            "type": "parcoords"
           }
          ],
          "pie": [
           {
            "automargin": true,
            "type": "pie"
           }
          ],
          "scatter": [
           {
            "marker": {
             "colorbar": {
              "outlinewidth": 0,
              "ticks": ""
             }
            },
            "type": "scatter"
           }
          ],
          "scatter3d": [
           {
            "line": {
             "colorbar": {
              "outlinewidth": 0,
              "ticks": ""
             }
            },
            "marker": {
             "colorbar": {
              "outlinewidth": 0,
              "ticks": ""
             }
            },
            "type": "scatter3d"
           }
          ],
          "scattercarpet": [
           {
            "marker": {
             "colorbar": {
              "outlinewidth": 0,
              "ticks": ""
             }
            },
            "type": "scattercarpet"
           }
          ],
          "scattergeo": [
           {
            "marker": {
             "colorbar": {
              "outlinewidth": 0,
              "ticks": ""
             }
            },
            "type": "scattergeo"
           }
          ],
          "scattergl": [
           {
            "marker": {
             "colorbar": {
              "outlinewidth": 0,
              "ticks": ""
             }
            },
            "type": "scattergl"
           }
          ],
          "scattermapbox": [
           {
            "marker": {
             "colorbar": {
              "outlinewidth": 0,
              "ticks": ""
             }
            },
            "type": "scattermapbox"
           }
          ],
          "scatterpolar": [
           {
            "marker": {
             "colorbar": {
              "outlinewidth": 0,
              "ticks": ""
             }
            },
            "type": "scatterpolar"
           }
          ],
          "scatterpolargl": [
           {
            "marker": {
             "colorbar": {
              "outlinewidth": 0,
              "ticks": ""
             }
            },
            "type": "scatterpolargl"
           }
          ],
          "scatterternary": [
           {
            "marker": {
             "colorbar": {
              "outlinewidth": 0,
              "ticks": ""
             }
            },
            "type": "scatterternary"
           }
          ],
          "surface": [
           {
            "colorbar": {
             "outlinewidth": 0,
             "ticks": ""
            },
            "colorscale": [
             [
              0,
              "#0d0887"
             ],
             [
              0.1111111111111111,
              "#46039f"
             ],
             [
              0.2222222222222222,
              "#7201a8"
             ],
             [
              0.3333333333333333,
              "#9c179e"
             ],
             [
              0.4444444444444444,
              "#bd3786"
             ],
             [
              0.5555555555555556,
              "#d8576b"
             ],
             [
              0.6666666666666666,
              "#ed7953"
             ],
             [
              0.7777777777777778,
              "#fb9f3a"
             ],
             [
              0.8888888888888888,
              "#fdca26"
             ],
             [
              1,
              "#f0f921"
             ]
            ],
            "type": "surface"
           }
          ],
          "table": [
           {
            "cells": {
             "fill": {
              "color": "#EBF0F8"
             },
             "line": {
              "color": "white"
             }
            },
            "header": {
             "fill": {
              "color": "#C8D4E3"
             },
             "line": {
              "color": "white"
             }
            },
            "type": "table"
           }
          ]
         },
         "layout": {
          "annotationdefaults": {
           "arrowcolor": "#2a3f5f",
           "arrowhead": 0,
           "arrowwidth": 1
          },
          "autotypenumbers": "strict",
          "coloraxis": {
           "colorbar": {
            "outlinewidth": 0,
            "ticks": ""
           }
          },
          "colorscale": {
           "diverging": [
            [
             0,
             "#8e0152"
            ],
            [
             0.1,
             "#c51b7d"
            ],
            [
             0.2,
             "#de77ae"
            ],
            [
             0.3,
             "#f1b6da"
            ],
            [
             0.4,
             "#fde0ef"
            ],
            [
             0.5,
             "#f7f7f7"
            ],
            [
             0.6,
             "#e6f5d0"
            ],
            [
             0.7,
             "#b8e186"
            ],
            [
             0.8,
             "#7fbc41"
            ],
            [
             0.9,
             "#4d9221"
            ],
            [
             1,
             "#276419"
            ]
           ],
           "sequential": [
            [
             0,
             "#0d0887"
            ],
            [
             0.1111111111111111,
             "#46039f"
            ],
            [
             0.2222222222222222,
             "#7201a8"
            ],
            [
             0.3333333333333333,
             "#9c179e"
            ],
            [
             0.4444444444444444,
             "#bd3786"
            ],
            [
             0.5555555555555556,
             "#d8576b"
            ],
            [
             0.6666666666666666,
             "#ed7953"
            ],
            [
             0.7777777777777778,
             "#fb9f3a"
            ],
            [
             0.8888888888888888,
             "#fdca26"
            ],
            [
             1,
             "#f0f921"
            ]
           ],
           "sequentialminus": [
            [
             0,
             "#0d0887"
            ],
            [
             0.1111111111111111,
             "#46039f"
            ],
            [
             0.2222222222222222,
             "#7201a8"
            ],
            [
             0.3333333333333333,
             "#9c179e"
            ],
            [
             0.4444444444444444,
             "#bd3786"
            ],
            [
             0.5555555555555556,
             "#d8576b"
            ],
            [
             0.6666666666666666,
             "#ed7953"
            ],
            [
             0.7777777777777778,
             "#fb9f3a"
            ],
            [
             0.8888888888888888,
             "#fdca26"
            ],
            [
             1,
             "#f0f921"
            ]
           ]
          },
          "colorway": [
           "#636efa",
           "#EF553B",
           "#00cc96",
           "#ab63fa",
           "#FFA15A",
           "#19d3f3",
           "#FF6692",
           "#B6E880",
           "#FF97FF",
           "#FECB52"
          ],
          "font": {
           "color": "#2a3f5f"
          },
          "geo": {
           "bgcolor": "white",
           "lakecolor": "white",
           "landcolor": "#E5ECF6",
           "showlakes": true,
           "showland": true,
           "subunitcolor": "white"
          },
          "hoverlabel": {
           "align": "left"
          },
          "hovermode": "closest",
          "mapbox": {
           "style": "light"
          },
          "paper_bgcolor": "white",
          "plot_bgcolor": "#E5ECF6",
          "polar": {
           "angularaxis": {
            "gridcolor": "white",
            "linecolor": "white",
            "ticks": ""
           },
           "bgcolor": "#E5ECF6",
           "radialaxis": {
            "gridcolor": "white",
            "linecolor": "white",
            "ticks": ""
           }
          },
          "scene": {
           "xaxis": {
            "backgroundcolor": "#E5ECF6",
            "gridcolor": "white",
            "gridwidth": 2,
            "linecolor": "white",
            "showbackground": true,
            "ticks": "",
            "zerolinecolor": "white"
           },
           "yaxis": {
            "backgroundcolor": "#E5ECF6",
            "gridcolor": "white",
            "gridwidth": 2,
            "linecolor": "white",
            "showbackground": true,
            "ticks": "",
            "zerolinecolor": "white"
           },
           "zaxis": {
            "backgroundcolor": "#E5ECF6",
            "gridcolor": "white",
            "gridwidth": 2,
            "linecolor": "white",
            "showbackground": true,
            "ticks": "",
            "zerolinecolor": "white"
           }
          },
          "shapedefaults": {
           "line": {
            "color": "#2a3f5f"
           }
          },
          "ternary": {
           "aaxis": {
            "gridcolor": "white",
            "linecolor": "white",
            "ticks": ""
           },
           "baxis": {
            "gridcolor": "white",
            "linecolor": "white",
            "ticks": ""
           },
           "bgcolor": "#E5ECF6",
           "caxis": {
            "gridcolor": "white",
            "linecolor": "white",
            "ticks": ""
           }
          },
          "title": {
           "x": 0.05
          },
          "xaxis": {
           "automargin": true,
           "gridcolor": "white",
           "linecolor": "white",
           "ticks": "",
           "title": {
            "standoff": 15
           },
           "zerolinecolor": "white",
           "zerolinewidth": 2
          },
          "yaxis": {
           "automargin": true,
           "gridcolor": "white",
           "linecolor": "white",
           "ticks": "",
           "title": {
            "standoff": 15
           },
           "zerolinecolor": "white",
           "zerolinewidth": 2
          }
         }
        }
       }
      },
      "text/html": [
       "<div>                            <div id=\"c965ab53-5650-48b0-bdaa-5cc3d57927e8\" class=\"plotly-graph-div\" style=\"height:525px; width:100%;\"></div>            <script type=\"text/javascript\">                require([\"plotly\"], function(Plotly) {                    window.PLOTLYENV=window.PLOTLYENV || {};                                    if (document.getElementById(\"c965ab53-5650-48b0-bdaa-5cc3d57927e8\")) {                    Plotly.newPlot(                        \"c965ab53-5650-48b0-bdaa-5cc3d57927e8\",                        [{\"branchvalues\":\"total\",\"customdata\":[[\"Instrument types\"],[\"    Policy design characteristics    \"],[\"    Policy design characteristics    \"],[\"Instrument types\"],[\"    Policy design characteristics    \"],[\"    Policy design characteristics    \"],[\"    Policy design characteristics    \"],[\"    Policy design characteristics    \"],[\"    Policy design characteristics    \"],[\"Instrument types\"],[\"    Policy design characteristics    \"],[\"    Policy design characteristics    \"],[\"Technology specificity\"],[\"Technology specificity\"],[\"Instrument types\"],[\"    Policy design characteristics    \"],[\"    Policy design characteristics    \"],[\"    Policy design characteristics    \"],[\"Instrument types\"],[\"Instrument types\"],[\"Technology specificity\"],[\"Technology specificity\"],[\"    Policy design characteristics    \"],[\"    Policy design characteristics    \"],[\"    Policy design characteristics    \"],[\"Instrument types\"],[\"    Policy design characteristics    \"],[\"    Policy design characteristics    \"],[\"    Policy design characteristics    \"],[\"    Policy design characteristics    \"],[\"    Policy design characteristics    \"],[\"Technology specificity\"],[\"Technology specificity\"],[\"    Policy design characteristics    \"],[\"    Policy design characteristics    \"],[\"    Policy design characteristics    \"],[\"    Policy design characteristics    \"],[\"    Policy design characteristics    \"],[\"    Policy design characteristics    \"],[\"Instrument types\"],[\"Instrument types\"],[\"Instrument types\"],[\"    Policy design characteristics    \"],[\"Technology specificity\"],[\"    Policy design characteristics    \"],[\"Technology specificity\"],[\"Instrument types\"],[\"    Policy design characteristics    \"],[\"    Policy design characteristics    \"],[\"    Policy design characteristics    \"],[\"    Policy design characteristics    \"],[\"Technology specificity\"],[\"    Policy design characteristics    \"],[\"    Policy design characteristics    \"],[\"Instrument types\"],[\"Technology specificity\"]],\"domain\":{\"x\":[0.0,1.0],\"y\":[0.0,1.0]},\"hovertemplate\":\"labels=%{label}<br>n_tag=%{value}<br>parent=%{parent}<br>id=%{id}<br>layer=%{customdata[0]}<extra></extra>\",\"ids\":[\"Instrument types/InstrumentType/PublicInvt\",\"    Policy design characteristics    /Reference/Ref_PolicyAmended\",\"    Policy design characteristics    /Reference/Ref_OtherPolicy\",\"Instrument types/InstrumentType/RD_D\",\"    Policy design characteristics    /Resource/Resource_MonRevenues\",\"    Policy design characteristics    /Objective/Objective_QuantTarget_noCCM\",\"    Policy design characteristics    /Objective/Objective_QuantTarget\",\"    Policy design characteristics    /Objective/Objective_QualIntention_noCCM\",\"    Policy design characteristics    /Objective/Objective_QualIntention\",\"Instrument types/InstrumentType/FrameworkPolicy\",\"    Policy design characteristics    /Compliance/Form_sanctioning\",\"    Policy design characteristics    /Compliance/Form_monitoring\",\"Technology specificity/EnergySpecificity/Energy_Other\",\"Technology specificity/EnergySpecificity/Energy_LowCarbon\",\"Instrument types/InstrumentType/Edu_Outreach\",\"    Policy design characteristics    /Resource/Resource_MonSpending\",\"    Policy design characteristics    /Resource/Resource_Other\",\"    Policy design characteristics    /Reversibility/Reversibility_policy\",\"Instrument types/InstrumentType/Subsidies_Incentives\",\"Instrument types/InstrumentType/TaxIncentives\",\"Technology specificity/TechnologySpecificity/Tech_LowCarbon\",\"Technology specificity/TechnologySpecificity/Tech_Other\",\"    Policy design characteristics    /Time/Time_Compliance\",\"    Policy design characteristics    /Time/Time_InEffect\",\"    Policy design characteristics    /Reference/Ref_Strategy_Agreement\",\"Instrument types/InstrumentType/RegulatoryInstr\",\"    Policy design characteristics    /Actor/Addressee_default\",\"    Policy design characteristics    /Actor/Authority_monitoring\",\"    Policy design characteristics    /Actor/Authority_legislative\",\"    Policy design characteristics    /Actor/Authority_established\",\"    Policy design characteristics    /Actor/Authority_default\",\"Technology specificity/ApplicationSpecificity/App_Other\",\"Technology specificity/ApplicationSpecificity/App_LowCarbon\",\"    Policy design characteristics    /Actor/Addressee_sector\",\"    Policy design characteristics    /Actor/Addressee_resource\",\"    Policy design characteristics    /Actor/Addressee_monitored\",\"    Policy design characteristics    /Time/Time_Monitoring\",\"    Policy design characteristics    /Time/Time_PolDuration\",\"    Policy design characteristics    /Time/Time_Resources\",\"Instrument types/InstrumentType/TradablePermit\",\"Instrument types/InstrumentType/Unspecified\",\"Instrument types/InstrumentType/VoluntaryAgrmt\",\"    Policy design characteristics    /Actor\",\"Technology specificity/ApplicationSpecificity\",\"    Policy design characteristics    /Compliance\",\"Technology specificity/EnergySpecificity\",\"Instrument types/InstrumentType\",\"    Policy design characteristics    /Objective\",\"    Policy design characteristics    /Reference\",\"    Policy design characteristics    /Resource\",\"    Policy design characteristics    /Reversibility\",\"Technology specificity/TechnologySpecificity\",\"    Policy design characteristics    /Time\",\"    Policy design characteristics    \",\"Instrument types\",\"Technology specificity\"],\"labels\":[\"PublicInvt\",\"Ref_PolicyAmended\",\"Ref_OtherPolicy\",\"RD_D\",\"Resource_MonRevenues\",\"Objective_QuantTarget_noCCM\",\"Objective_QuantTarget\",\"Objective_QualIntention_noCCM\",\"Objective_QualIntention\",\"FrameworkPolicy\",\"Form_sanctioning\",\"Form_monitoring\",\"Energy_Other\",\"Energy_LowCarbon\",\"Edu_Outreach\",\"Resource_MonSpending\",\"Resource_Other\",\"Reversibility_policy\",\"Subsidies_Incentives\",\"TaxIncentives\",\"Tech_LowCarbon\",\"Tech_Other\",\"Time_Compliance\",\"Time_InEffect\",\"Ref_Strategy_Agreement\",\"RegulatoryInstr\",\"Addressee_default\",\"Authority_monitoring\",\"Authority_legislative\",\"Authority_established\",\"Authority_default\",\"App_Other\",\"App_LowCarbon\",\"Addressee_sector\",\"Addressee_resource\",\"Addressee_monitored\",\"Time_Monitoring\",\"Time_PolDuration\",\"Time_Resources\",\"TradablePermit\",\"Unspecified\",\"VoluntaryAgrmt\",\"Actor\",\"ApplicationSpecificity\",\"Compliance\",\"EnergySpecificity\",\"InstrumentType\",\"Objective\",\"Reference\",\"Resource\",\"Reversibility\",\"TechnologySpecificity\",\"Time\",\"    Policy design characteristics    \",\"Instrument types\",\"Technology specificity\"],\"marker\":{\"colors\":[\"rgb(128,177,211)\",\"rgb(253,180,98)\",\"rgb(253,180,98)\",\"rgb(128,177,211)\",\"rgb(253,180,98)\",\"rgb(253,180,98)\",\"rgb(253,180,98)\",\"rgb(253,180,98)\",\"rgb(253,180,98)\",\"rgb(128,177,211)\",\"rgb(253,180,98)\",\"rgb(253,180,98)\",\"rgb(179,222,105)\",\"rgb(179,222,105)\",\"rgb(128,177,211)\",\"rgb(253,180,98)\",\"rgb(253,180,98)\",\"rgb(253,180,98)\",\"rgb(128,177,211)\",\"rgb(128,177,211)\",\"rgb(179,222,105)\",\"rgb(179,222,105)\",\"rgb(253,180,98)\",\"rgb(253,180,98)\",\"rgb(253,180,98)\",\"rgb(128,177,211)\",\"rgb(253,180,98)\",\"rgb(253,180,98)\",\"rgb(253,180,98)\",\"rgb(253,180,98)\",\"rgb(253,180,98)\",\"rgb(179,222,105)\",\"rgb(179,222,105)\",\"rgb(253,180,98)\",\"rgb(253,180,98)\",\"rgb(253,180,98)\",\"rgb(253,180,98)\",\"rgb(253,180,98)\",\"rgb(253,180,98)\",\"rgb(128,177,211)\",\"rgb(128,177,211)\",\"rgb(128,177,211)\",\"rgb(253,180,98)\",\"rgb(179,222,105)\",\"rgb(253,180,98)\",\"rgb(179,222,105)\",\"rgb(128,177,211)\",\"rgb(253,180,98)\",\"rgb(253,180,98)\",\"rgb(253,180,98)\",\"rgb(253,180,98)\",\"rgb(179,222,105)\",\"rgb(253,180,98)\",\"rgb(253,180,98)\",\"rgb(128,177,211)\",\"rgb(179,222,105)\"]},\"name\":\"\",\"parents\":[\"Instrument types/InstrumentType\",\"    Policy design characteristics    /Reference\",\"    Policy design characteristics    /Reference\",\"Instrument types/InstrumentType\",\"    Policy design characteristics    /Resource\",\"    Policy design characteristics    /Objective\",\"    Policy design characteristics    /Objective\",\"    Policy design characteristics    /Objective\",\"    Policy design characteristics    /Objective\",\"Instrument types/InstrumentType\",\"    Policy design characteristics    /Compliance\",\"    Policy design characteristics    /Compliance\",\"Technology specificity/EnergySpecificity\",\"Technology specificity/EnergySpecificity\",\"Instrument types/InstrumentType\",\"    Policy design characteristics    /Resource\",\"    Policy design characteristics    /Resource\",\"    Policy design characteristics    /Reversibility\",\"Instrument types/InstrumentType\",\"Instrument types/InstrumentType\",\"Technology specificity/TechnologySpecificity\",\"Technology specificity/TechnologySpecificity\",\"    Policy design characteristics    /Time\",\"    Policy design characteristics    /Time\",\"    Policy design characteristics    /Reference\",\"Instrument types/InstrumentType\",\"    Policy design characteristics    /Actor\",\"    Policy design characteristics    /Actor\",\"    Policy design characteristics    /Actor\",\"    Policy design characteristics    /Actor\",\"    Policy design characteristics    /Actor\",\"Technology specificity/ApplicationSpecificity\",\"Technology specificity/ApplicationSpecificity\",\"    Policy design characteristics    /Actor\",\"    Policy design characteristics    /Actor\",\"    Policy design characteristics    /Actor\",\"    Policy design characteristics    /Time\",\"    Policy design characteristics    /Time\",\"    Policy design characteristics    /Time\",\"Instrument types/InstrumentType\",\"Instrument types/InstrumentType\",\"Instrument types/InstrumentType\",\"    Policy design characteristics    \",\"Technology specificity\",\"    Policy design characteristics    \",\"Technology specificity\",\"Instrument types\",\"    Policy design characteristics    \",\"    Policy design characteristics    \",\"    Policy design characteristics    \",\"    Policy design characteristics    \",\"Technology specificity\",\"    Policy design characteristics    \",\"\",\"\",\"\"],\"values\":[97,90,736,12,36,8,162,266,554,318,48,1776,548,1353,328,112,362,37,102,78,1460,1051,310,106,282,1225,2079,659,227,31,897,784,759,1355,142,483,323,42,14,143,1099,70,5873,1543,1824,1901,3472,990,1108,510,37,2511,795,11137,3472,5955],\"type\":\"sunburst\"}],                        {\"template\":{\"data\":{\"bar\":[{\"error_x\":{\"color\":\"#2a3f5f\"},\"error_y\":{\"color\":\"#2a3f5f\"},\"marker\":{\"line\":{\"color\":\"#E5ECF6\",\"width\":0.5},\"pattern\":{\"fillmode\":\"overlay\",\"size\":10,\"solidity\":0.2}},\"type\":\"bar\"}],\"barpolar\":[{\"marker\":{\"line\":{\"color\":\"#E5ECF6\",\"width\":0.5},\"pattern\":{\"fillmode\":\"overlay\",\"size\":10,\"solidity\":0.2}},\"type\":\"barpolar\"}],\"carpet\":[{\"aaxis\":{\"endlinecolor\":\"#2a3f5f\",\"gridcolor\":\"white\",\"linecolor\":\"white\",\"minorgridcolor\":\"white\",\"startlinecolor\":\"#2a3f5f\"},\"baxis\":{\"endlinecolor\":\"#2a3f5f\",\"gridcolor\":\"white\",\"linecolor\":\"white\",\"minorgridcolor\":\"white\",\"startlinecolor\":\"#2a3f5f\"},\"type\":\"carpet\"}],\"choropleth\":[{\"colorbar\":{\"outlinewidth\":0,\"ticks\":\"\"},\"type\":\"choropleth\"}],\"contour\":[{\"colorbar\":{\"outlinewidth\":0,\"ticks\":\"\"},\"colorscale\":[[0.0,\"#0d0887\"],[0.1111111111111111,\"#46039f\"],[0.2222222222222222,\"#7201a8\"],[0.3333333333333333,\"#9c179e\"],[0.4444444444444444,\"#bd3786\"],[0.5555555555555556,\"#d8576b\"],[0.6666666666666666,\"#ed7953\"],[0.7777777777777778,\"#fb9f3a\"],[0.8888888888888888,\"#fdca26\"],[1.0,\"#f0f921\"]],\"type\":\"contour\"}],\"contourcarpet\":[{\"colorbar\":{\"outlinewidth\":0,\"ticks\":\"\"},\"type\":\"contourcarpet\"}],\"heatmap\":[{\"colorbar\":{\"outlinewidth\":0,\"ticks\":\"\"},\"colorscale\":[[0.0,\"#0d0887\"],[0.1111111111111111,\"#46039f\"],[0.2222222222222222,\"#7201a8\"],[0.3333333333333333,\"#9c179e\"],[0.4444444444444444,\"#bd3786\"],[0.5555555555555556,\"#d8576b\"],[0.6666666666666666,\"#ed7953\"],[0.7777777777777778,\"#fb9f3a\"],[0.8888888888888888,\"#fdca26\"],[1.0,\"#f0f921\"]],\"type\":\"heatmap\"}],\"heatmapgl\":[{\"colorbar\":{\"outlinewidth\":0,\"ticks\":\"\"},\"colorscale\":[[0.0,\"#0d0887\"],[0.1111111111111111,\"#46039f\"],[0.2222222222222222,\"#7201a8\"],[0.3333333333333333,\"#9c179e\"],[0.4444444444444444,\"#bd3786\"],[0.5555555555555556,\"#d8576b\"],[0.6666666666666666,\"#ed7953\"],[0.7777777777777778,\"#fb9f3a\"],[0.8888888888888888,\"#fdca26\"],[1.0,\"#f0f921\"]],\"type\":\"heatmapgl\"}],\"histogram\":[{\"marker\":{\"pattern\":{\"fillmode\":\"overlay\",\"size\":10,\"solidity\":0.2}},\"type\":\"histogram\"}],\"histogram2d\":[{\"colorbar\":{\"outlinewidth\":0,\"ticks\":\"\"},\"colorscale\":[[0.0,\"#0d0887\"],[0.1111111111111111,\"#46039f\"],[0.2222222222222222,\"#7201a8\"],[0.3333333333333333,\"#9c179e\"],[0.4444444444444444,\"#bd3786\"],[0.5555555555555556,\"#d8576b\"],[0.6666666666666666,\"#ed7953\"],[0.7777777777777778,\"#fb9f3a\"],[0.8888888888888888,\"#fdca26\"],[1.0,\"#f0f921\"]],\"type\":\"histogram2d\"}],\"histogram2dcontour\":[{\"colorbar\":{\"outlinewidth\":0,\"ticks\":\"\"},\"colorscale\":[[0.0,\"#0d0887\"],[0.1111111111111111,\"#46039f\"],[0.2222222222222222,\"#7201a8\"],[0.3333333333333333,\"#9c179e\"],[0.4444444444444444,\"#bd3786\"],[0.5555555555555556,\"#d8576b\"],[0.6666666666666666,\"#ed7953\"],[0.7777777777777778,\"#fb9f3a\"],[0.8888888888888888,\"#fdca26\"],[1.0,\"#f0f921\"]],\"type\":\"histogram2dcontour\"}],\"mesh3d\":[{\"colorbar\":{\"outlinewidth\":0,\"ticks\":\"\"},\"type\":\"mesh3d\"}],\"parcoords\":[{\"line\":{\"colorbar\":{\"outlinewidth\":0,\"ticks\":\"\"}},\"type\":\"parcoords\"}],\"pie\":[{\"automargin\":true,\"type\":\"pie\"}],\"scatter\":[{\"marker\":{\"colorbar\":{\"outlinewidth\":0,\"ticks\":\"\"}},\"type\":\"scatter\"}],\"scatter3d\":[{\"line\":{\"colorbar\":{\"outlinewidth\":0,\"ticks\":\"\"}},\"marker\":{\"colorbar\":{\"outlinewidth\":0,\"ticks\":\"\"}},\"type\":\"scatter3d\"}],\"scattercarpet\":[{\"marker\":{\"colorbar\":{\"outlinewidth\":0,\"ticks\":\"\"}},\"type\":\"scattercarpet\"}],\"scattergeo\":[{\"marker\":{\"colorbar\":{\"outlinewidth\":0,\"ticks\":\"\"}},\"type\":\"scattergeo\"}],\"scattergl\":[{\"marker\":{\"colorbar\":{\"outlinewidth\":0,\"ticks\":\"\"}},\"type\":\"scattergl\"}],\"scattermapbox\":[{\"marker\":{\"colorbar\":{\"outlinewidth\":0,\"ticks\":\"\"}},\"type\":\"scattermapbox\"}],\"scatterpolar\":[{\"marker\":{\"colorbar\":{\"outlinewidth\":0,\"ticks\":\"\"}},\"type\":\"scatterpolar\"}],\"scatterpolargl\":[{\"marker\":{\"colorbar\":{\"outlinewidth\":0,\"ticks\":\"\"}},\"type\":\"scatterpolargl\"}],\"scatterternary\":[{\"marker\":{\"colorbar\":{\"outlinewidth\":0,\"ticks\":\"\"}},\"type\":\"scatterternary\"}],\"surface\":[{\"colorbar\":{\"outlinewidth\":0,\"ticks\":\"\"},\"colorscale\":[[0.0,\"#0d0887\"],[0.1111111111111111,\"#46039f\"],[0.2222222222222222,\"#7201a8\"],[0.3333333333333333,\"#9c179e\"],[0.4444444444444444,\"#bd3786\"],[0.5555555555555556,\"#d8576b\"],[0.6666666666666666,\"#ed7953\"],[0.7777777777777778,\"#fb9f3a\"],[0.8888888888888888,\"#fdca26\"],[1.0,\"#f0f921\"]],\"type\":\"surface\"}],\"table\":[{\"cells\":{\"fill\":{\"color\":\"#EBF0F8\"},\"line\":{\"color\":\"white\"}},\"header\":{\"fill\":{\"color\":\"#C8D4E3\"},\"line\":{\"color\":\"white\"}},\"type\":\"table\"}]},\"layout\":{\"annotationdefaults\":{\"arrowcolor\":\"#2a3f5f\",\"arrowhead\":0,\"arrowwidth\":1},\"autotypenumbers\":\"strict\",\"coloraxis\":{\"colorbar\":{\"outlinewidth\":0,\"ticks\":\"\"}},\"colorscale\":{\"diverging\":[[0,\"#8e0152\"],[0.1,\"#c51b7d\"],[0.2,\"#de77ae\"],[0.3,\"#f1b6da\"],[0.4,\"#fde0ef\"],[0.5,\"#f7f7f7\"],[0.6,\"#e6f5d0\"],[0.7,\"#b8e186\"],[0.8,\"#7fbc41\"],[0.9,\"#4d9221\"],[1,\"#276419\"]],\"sequential\":[[0.0,\"#0d0887\"],[0.1111111111111111,\"#46039f\"],[0.2222222222222222,\"#7201a8\"],[0.3333333333333333,\"#9c179e\"],[0.4444444444444444,\"#bd3786\"],[0.5555555555555556,\"#d8576b\"],[0.6666666666666666,\"#ed7953\"],[0.7777777777777778,\"#fb9f3a\"],[0.8888888888888888,\"#fdca26\"],[1.0,\"#f0f921\"]],\"sequentialminus\":[[0.0,\"#0d0887\"],[0.1111111111111111,\"#46039f\"],[0.2222222222222222,\"#7201a8\"],[0.3333333333333333,\"#9c179e\"],[0.4444444444444444,\"#bd3786\"],[0.5555555555555556,\"#d8576b\"],[0.6666666666666666,\"#ed7953\"],[0.7777777777777778,\"#fb9f3a\"],[0.8888888888888888,\"#fdca26\"],[1.0,\"#f0f921\"]]},\"colorway\":[\"#636efa\",\"#EF553B\",\"#00cc96\",\"#ab63fa\",\"#FFA15A\",\"#19d3f3\",\"#FF6692\",\"#B6E880\",\"#FF97FF\",\"#FECB52\"],\"font\":{\"color\":\"#2a3f5f\"},\"geo\":{\"bgcolor\":\"white\",\"lakecolor\":\"white\",\"landcolor\":\"#E5ECF6\",\"showlakes\":true,\"showland\":true,\"subunitcolor\":\"white\"},\"hoverlabel\":{\"align\":\"left\"},\"hovermode\":\"closest\",\"mapbox\":{\"style\":\"light\"},\"paper_bgcolor\":\"white\",\"plot_bgcolor\":\"#E5ECF6\",\"polar\":{\"angularaxis\":{\"gridcolor\":\"white\",\"linecolor\":\"white\",\"ticks\":\"\"},\"bgcolor\":\"#E5ECF6\",\"radialaxis\":{\"gridcolor\":\"white\",\"linecolor\":\"white\",\"ticks\":\"\"}},\"scene\":{\"xaxis\":{\"backgroundcolor\":\"#E5ECF6\",\"gridcolor\":\"white\",\"gridwidth\":2,\"linecolor\":\"white\",\"showbackground\":true,\"ticks\":\"\",\"zerolinecolor\":\"white\"},\"yaxis\":{\"backgroundcolor\":\"#E5ECF6\",\"gridcolor\":\"white\",\"gridwidth\":2,\"linecolor\":\"white\",\"showbackground\":true,\"ticks\":\"\",\"zerolinecolor\":\"white\"},\"zaxis\":{\"backgroundcolor\":\"#E5ECF6\",\"gridcolor\":\"white\",\"gridwidth\":2,\"linecolor\":\"white\",\"showbackground\":true,\"ticks\":\"\",\"zerolinecolor\":\"white\"}},\"shapedefaults\":{\"line\":{\"color\":\"#2a3f5f\"}},\"ternary\":{\"aaxis\":{\"gridcolor\":\"white\",\"linecolor\":\"white\",\"ticks\":\"\"},\"baxis\":{\"gridcolor\":\"white\",\"linecolor\":\"white\",\"ticks\":\"\"},\"bgcolor\":\"#E5ECF6\",\"caxis\":{\"gridcolor\":\"white\",\"linecolor\":\"white\",\"ticks\":\"\"}},\"title\":{\"x\":0.05},\"xaxis\":{\"automargin\":true,\"gridcolor\":\"white\",\"linecolor\":\"white\",\"ticks\":\"\",\"title\":{\"standoff\":15},\"zerolinecolor\":\"white\",\"zerolinewidth\":2},\"yaxis\":{\"automargin\":true,\"gridcolor\":\"white\",\"linecolor\":\"white\",\"ticks\":\"\",\"title\":{\"standoff\":15},\"zerolinecolor\":\"white\",\"zerolinewidth\":2}}},\"legend\":{\"tracegroupgap\":0},\"margin\":{\"t\":60},\"sunburstcolorway\":[\"rgb(128,177,211)\",\"rgb(253,180,98)\",\"rgb(179,222,105)\"]},                        {\"responsive\": true}                    ).then(function(){\n",
       "                            \n",
       "var gd = document.getElementById('c965ab53-5650-48b0-bdaa-5cc3d57927e8');\n",
       "var x = new MutationObserver(function (mutations, observer) {{\n",
       "        var display = window.getComputedStyle(gd).display;\n",
       "        if (!display || display === 'none') {{\n",
       "            console.log([gd, 'removed!']);\n",
       "            Plotly.purge(gd);\n",
       "            observer.disconnect();\n",
       "        }}\n",
       "}});\n",
       "\n",
       "// Listen for the removal of the full notebook cells\n",
       "var notebookContainer = gd.closest('#notebook-container');\n",
       "if (notebookContainer) {{\n",
       "    x.observe(notebookContainer, {childList: true});\n",
       "}}\n",
       "\n",
       "// Listen for the clearing of the current output cell\n",
       "var outputEl = gd.closest('.output');\n",
       "if (outputEl) {{\n",
       "    x.observe(outputEl, {childList: true});\n",
       "}}\n",
       "\n",
       "                        })                };                });            </script>        </div>"
      ]
     },
     "metadata": {},
     "output_type": "display_data"
    }
   ],
   "source": [
    "fig = px.sunburst(df, path=['layer', 'feature', 'tag'], values='n_tag', color='layer', \n",
    "                  color_discrete_sequence = px.colors.qualitative.Set3[4:7])\n",
    "fig.write_image('ann_distribution_sunburst.pdf', engine = \"orca\")\n",
    "fig.show()"
   ]
  },
  {
   "cell_type": "code",
   "execution_count": null,
   "id": "a9df2bc5",
   "metadata": {},
   "outputs": [],
   "source": []
  }
 ],
 "metadata": {
  "kernelspec": {
   "display_name": "POLIANNA",
   "language": "python",
   "name": "python3"
  },
  "language_info": {
   "codemirror_mode": {
    "name": "ipython",
    "version": 3
   },
   "file_extension": ".py",
   "mimetype": "text/x-python",
   "name": "python",
   "nbconvert_exporter": "python",
   "pygments_lexer": "ipython3",
   "version": "3.10.8"
  },
  "vscode": {
   "interpreter": {
    "hash": "2b5a738e635a60ac99c2735cd048efeb1c56996d46c91ef8f89234a7b0893781"
   }
  }
 },
 "nbformat": 4,
 "nbformat_minor": 5
}
