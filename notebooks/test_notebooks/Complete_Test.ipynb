{
 "cells": [
  {
   "cell_type": "markdown",
   "metadata": {},
   "source": [
    "# Notebook to Test all the functions"
   ]
  },
  {
   "cell_type": "markdown",
   "metadata": {},
   "source": [
    "## First only the corpus ##"
   ]
  },
  {
   "cell_type": "code",
   "execution_count": 25,
   "metadata": {},
   "outputs": [],
   "source": [
    "import sys\n",
    "import pandas as pd\n",
    "import collections \n",
    "import os\n",
    "import numpy as np\n",
    "from itertools import chain\n",
    "from itertools import combinations\n",
    "sys.path.insert(0, '../..')\n",
    "from src.experiment_utils.helper_classes import token, span, repository\n",
    "from src.d02_corpus_statistics.corpus import Corpus\n",
    "from src.d03_inter_annotator_agreement.inter_annotator_agremment import Inter_Annotator_Agreement, _get_score_article\n",
    "from definitions import df_annotation_marker\n",
    "from src.d03_inter_annotator_agreement.inter_annotator_agremment import row_to_span_list, keep_valid_anotations\n",
    "\n",
    "\n",
    "from definitions import ROOT_DIR\n",
    "\n"
   ]
  },
  {
   "cell_type": "markdown",
   "metadata": {},
   "source": [
    "## Test all corpus functions"
   ]
  },
  {
   "cell_type": "code",
   "execution_count": 26,
   "metadata": {},
   "outputs": [
    {
     "data": {
      "text/html": [
       "<div>\n",
       "<style scoped>\n",
       "    .dataframe tbody tr th:only-of-type {\n",
       "        vertical-align: middle;\n",
       "    }\n",
       "\n",
       "    .dataframe tbody tr th {\n",
       "        vertical-align: top;\n",
       "    }\n",
       "\n",
       "    .dataframe thead th {\n",
       "        text-align: right;\n",
       "    }\n",
       "</style>\n",
       "<table border=\"1\" class=\"dataframe\">\n",
       "  <thead>\n",
       "    <tr style=\"text-align: right;\">\n",
       "      <th></th>\n",
       "      <th>Policy</th>\n",
       "      <th>Text</th>\n",
       "      <th>Tokens</th>\n",
       "      <th>Article_State</th>\n",
       "      <th>Finished_Annotators</th>\n",
       "      <th>Curation</th>\n",
       "      <th>Alisha</th>\n",
       "      <th>Fride</th>\n",
       "      <th>Onerva</th>\n",
       "      <th>Fabian</th>\n",
       "      <th>Lynn</th>\n",
       "      <th>Sebastian</th>\n",
       "      <th>Joel</th>\n",
       "    </tr>\n",
       "  </thead>\n",
       "  <tbody>\n",
       "    <tr>\n",
       "      <th>EU_32018R1999_Title_0_Chapter_7_Section_3_Article_43</th>\n",
       "      <td></td>\n",
       "      <td>article 43\\r\\nexercise of the delegation\\r\\n1....</td>\n",
       "      <td>[start:0 stop:7 text:article tag_count:0, star...</td>\n",
       "      <td>CURATION_FINISHED</td>\n",
       "      <td>[Alisha, Fride]</td>\n",
       "      <td>[span id:CUR0 annotator:Curation layer:Instrum...</td>\n",
       "      <td>[span id:A1 annotator:Alisha layer:Instrumentt...</td>\n",
       "      <td>[span id:B1 annotator:Fride layer:Policydesign...</td>\n",
       "      <td></td>\n",
       "      <td></td>\n",
       "      <td></td>\n",
       "      <td></td>\n",
       "      <td></td>\n",
       "    </tr>\n",
       "    <tr>\n",
       "      <th>EU_32019R0631_Title_0_Chapter_0_Section_0_Article_12</th>\n",
       "      <td></td>\n",
       "      <td>article 12\\r\\nreal-world co2 emissions and fue...</td>\n",
       "      <td>[start:0 stop:7 text:article tag_count:0, star...</td>\n",
       "      <td>CURATION_FINISHED</td>\n",
       "      <td>[Onerva, Fabian]</td>\n",
       "      <td>[span id:CUR36 annotator:Curation layer:Instru...</td>\n",
       "      <td></td>\n",
       "      <td></td>\n",
       "      <td>[span id:C1 annotator:Onerva layer:Instrumentt...</td>\n",
       "      <td>[span id:D1 annotator:Fabian layer:Policydesig...</td>\n",
       "      <td></td>\n",
       "      <td></td>\n",
       "      <td></td>\n",
       "    </tr>\n",
       "    <tr>\n",
       "      <th>EU_32018L2001_Title_0_Chapter_0_Section_0_Article_11</th>\n",
       "      <td></td>\n",
       "      <td>article 11\\r\\njoint projects between member st...</td>\n",
       "      <td>[start:0 stop:7 text:article tag_count:0, star...</td>\n",
       "      <td>CURATION_FINISHED</td>\n",
       "      <td>[Fride, Onerva]</td>\n",
       "      <td>[span id:CUR116 annotator:Curation layer:Instr...</td>\n",
       "      <td></td>\n",
       "      <td>[span id:B28 annotator:Fride layer:Instrumentt...</td>\n",
       "      <td>[span id:C58 annotator:Onerva layer:Instrument...</td>\n",
       "      <td></td>\n",
       "      <td></td>\n",
       "      <td></td>\n",
       "      <td></td>\n",
       "    </tr>\n",
       "    <tr>\n",
       "      <th>EU_32018R1999_Title_0_Chapter_7_Section_3_Article_56</th>\n",
       "      <td></td>\n",
       "      <td>article 56\\r\\namendments to directive (eu) 201...</td>\n",
       "      <td>[start:0 stop:7 text:article tag_count:0, star...</td>\n",
       "      <td>CURATION_FINISHED</td>\n",
       "      <td>[Alisha, Fride]</td>\n",
       "      <td>[span id:CUR202 annotator:Curation layer:Polic...</td>\n",
       "      <td>[span id:A38 annotator:Alisha layer:Policydesi...</td>\n",
       "      <td>[span id:B129 annotator:Fride layer:Policydesi...</td>\n",
       "      <td></td>\n",
       "      <td></td>\n",
       "      <td></td>\n",
       "      <td></td>\n",
       "      <td></td>\n",
       "    </tr>\n",
       "    <tr>\n",
       "      <th>EU_32018L2001_Title_0_Chapter_0_Section_0_Article_03</th>\n",
       "      <td></td>\n",
       "      <td>article 3\\r\\nbinding overall union target for ...</td>\n",
       "      <td>[start:0 stop:7 text:article tag_count:0, star...</td>\n",
       "      <td>CURATION_FINISHED</td>\n",
       "      <td>[Fride, Onerva, Fabian]</td>\n",
       "      <td>[span id:CUR211 annotator:Curation layer:Instr...</td>\n",
       "      <td></td>\n",
       "      <td>[span id:B138 annotator:Fride layer:Instrument...</td>\n",
       "      <td>[span id:C165 annotator:Onerva layer:Instrumen...</td>\n",
       "      <td>[span id:D27 annotator:Fabian layer:Instrument...</td>\n",
       "      <td></td>\n",
       "      <td></td>\n",
       "      <td></td>\n",
       "    </tr>\n",
       "  </tbody>\n",
       "</table>\n",
       "</div>"
      ],
      "text/plain": [
       "                                                   Policy  \\\n",
       "EU_32018R1999_Title_0_Chapter_7_Section_3_Artic...          \n",
       "EU_32019R0631_Title_0_Chapter_0_Section_0_Artic...          \n",
       "EU_32018L2001_Title_0_Chapter_0_Section_0_Artic...          \n",
       "EU_32018R1999_Title_0_Chapter_7_Section_3_Artic...          \n",
       "EU_32018L2001_Title_0_Chapter_0_Section_0_Artic...          \n",
       "\n",
       "                                                                                                 Text  \\\n",
       "EU_32018R1999_Title_0_Chapter_7_Section_3_Artic...  article 43\\r\\nexercise of the delegation\\r\\n1....   \n",
       "EU_32019R0631_Title_0_Chapter_0_Section_0_Artic...  article 12\\r\\nreal-world co2 emissions and fue...   \n",
       "EU_32018L2001_Title_0_Chapter_0_Section_0_Artic...  article 11\\r\\njoint projects between member st...   \n",
       "EU_32018R1999_Title_0_Chapter_7_Section_3_Artic...  article 56\\r\\namendments to directive (eu) 201...   \n",
       "EU_32018L2001_Title_0_Chapter_0_Section_0_Artic...  article 3\\r\\nbinding overall union target for ...   \n",
       "\n",
       "                                                                                               Tokens  \\\n",
       "EU_32018R1999_Title_0_Chapter_7_Section_3_Artic...  [start:0 stop:7 text:article tag_count:0, star...   \n",
       "EU_32019R0631_Title_0_Chapter_0_Section_0_Artic...  [start:0 stop:7 text:article tag_count:0, star...   \n",
       "EU_32018L2001_Title_0_Chapter_0_Section_0_Artic...  [start:0 stop:7 text:article tag_count:0, star...   \n",
       "EU_32018R1999_Title_0_Chapter_7_Section_3_Artic...  [start:0 stop:7 text:article tag_count:0, star...   \n",
       "EU_32018L2001_Title_0_Chapter_0_Section_0_Artic...  [start:0 stop:7 text:article tag_count:0, star...   \n",
       "\n",
       "                                                        Article_State  \\\n",
       "EU_32018R1999_Title_0_Chapter_7_Section_3_Artic...  CURATION_FINISHED   \n",
       "EU_32019R0631_Title_0_Chapter_0_Section_0_Artic...  CURATION_FINISHED   \n",
       "EU_32018L2001_Title_0_Chapter_0_Section_0_Artic...  CURATION_FINISHED   \n",
       "EU_32018R1999_Title_0_Chapter_7_Section_3_Artic...  CURATION_FINISHED   \n",
       "EU_32018L2001_Title_0_Chapter_0_Section_0_Artic...  CURATION_FINISHED   \n",
       "\n",
       "                                                        Finished_Annotators  \\\n",
       "EU_32018R1999_Title_0_Chapter_7_Section_3_Artic...          [Alisha, Fride]   \n",
       "EU_32019R0631_Title_0_Chapter_0_Section_0_Artic...         [Onerva, Fabian]   \n",
       "EU_32018L2001_Title_0_Chapter_0_Section_0_Artic...          [Fride, Onerva]   \n",
       "EU_32018R1999_Title_0_Chapter_7_Section_3_Artic...          [Alisha, Fride]   \n",
       "EU_32018L2001_Title_0_Chapter_0_Section_0_Artic...  [Fride, Onerva, Fabian]   \n",
       "\n",
       "                                                                                             Curation  \\\n",
       "EU_32018R1999_Title_0_Chapter_7_Section_3_Artic...  [span id:CUR0 annotator:Curation layer:Instrum...   \n",
       "EU_32019R0631_Title_0_Chapter_0_Section_0_Artic...  [span id:CUR36 annotator:Curation layer:Instru...   \n",
       "EU_32018L2001_Title_0_Chapter_0_Section_0_Artic...  [span id:CUR116 annotator:Curation layer:Instr...   \n",
       "EU_32018R1999_Title_0_Chapter_7_Section_3_Artic...  [span id:CUR202 annotator:Curation layer:Polic...   \n",
       "EU_32018L2001_Title_0_Chapter_0_Section_0_Artic...  [span id:CUR211 annotator:Curation layer:Instr...   \n",
       "\n",
       "                                                                                               Alisha  \\\n",
       "EU_32018R1999_Title_0_Chapter_7_Section_3_Artic...  [span id:A1 annotator:Alisha layer:Instrumentt...   \n",
       "EU_32019R0631_Title_0_Chapter_0_Section_0_Artic...                                                      \n",
       "EU_32018L2001_Title_0_Chapter_0_Section_0_Artic...                                                      \n",
       "EU_32018R1999_Title_0_Chapter_7_Section_3_Artic...  [span id:A38 annotator:Alisha layer:Policydesi...   \n",
       "EU_32018L2001_Title_0_Chapter_0_Section_0_Artic...                                                      \n",
       "\n",
       "                                                                                                Fride  \\\n",
       "EU_32018R1999_Title_0_Chapter_7_Section_3_Artic...  [span id:B1 annotator:Fride layer:Policydesign...   \n",
       "EU_32019R0631_Title_0_Chapter_0_Section_0_Artic...                                                      \n",
       "EU_32018L2001_Title_0_Chapter_0_Section_0_Artic...  [span id:B28 annotator:Fride layer:Instrumentt...   \n",
       "EU_32018R1999_Title_0_Chapter_7_Section_3_Artic...  [span id:B129 annotator:Fride layer:Policydesi...   \n",
       "EU_32018L2001_Title_0_Chapter_0_Section_0_Artic...  [span id:B138 annotator:Fride layer:Instrument...   \n",
       "\n",
       "                                                                                               Onerva  \\\n",
       "EU_32018R1999_Title_0_Chapter_7_Section_3_Artic...                                                      \n",
       "EU_32019R0631_Title_0_Chapter_0_Section_0_Artic...  [span id:C1 annotator:Onerva layer:Instrumentt...   \n",
       "EU_32018L2001_Title_0_Chapter_0_Section_0_Artic...  [span id:C58 annotator:Onerva layer:Instrument...   \n",
       "EU_32018R1999_Title_0_Chapter_7_Section_3_Artic...                                                      \n",
       "EU_32018L2001_Title_0_Chapter_0_Section_0_Artic...  [span id:C165 annotator:Onerva layer:Instrumen...   \n",
       "\n",
       "                                                                                               Fabian  \\\n",
       "EU_32018R1999_Title_0_Chapter_7_Section_3_Artic...                                                      \n",
       "EU_32019R0631_Title_0_Chapter_0_Section_0_Artic...  [span id:D1 annotator:Fabian layer:Policydesig...   \n",
       "EU_32018L2001_Title_0_Chapter_0_Section_0_Artic...                                                      \n",
       "EU_32018R1999_Title_0_Chapter_7_Section_3_Artic...                                                      \n",
       "EU_32018L2001_Title_0_Chapter_0_Section_0_Artic...  [span id:D27 annotator:Fabian layer:Instrument...   \n",
       "\n",
       "                                                   Lynn Sebastian Joel  \n",
       "EU_32018R1999_Title_0_Chapter_7_Section_3_Artic...                      \n",
       "EU_32019R0631_Title_0_Chapter_0_Section_0_Artic...                      \n",
       "EU_32018L2001_Title_0_Chapter_0_Section_0_Artic...                      \n",
       "EU_32018R1999_Title_0_Chapter_7_Section_3_Artic...                      \n",
       "EU_32018L2001_Title_0_Chapter_0_Section_0_Artic...                      "
      ]
     },
     "execution_count": 26,
     "metadata": {},
     "output_type": "execute_result"
    }
   ],
   "source": [
    "    \n",
    "dataframe_dir = os.path.join(ROOT_DIR,'data/02_processed_to_dataframe', 'preprocessed_dataframe.pkl')\n",
    "stat_df = pd.read_pickle(dataframe_dir)\n",
    "stat_df.head()"
   ]
  },
  {
   "cell_type": "code",
   "execution_count": 27,
   "metadata": {},
   "outputs": [
    {
     "data": {
      "text/plain": [
       "(448, 13)"
      ]
     },
     "execution_count": 27,
     "metadata": {},
     "output_type": "execute_result"
    }
   ],
   "source": [
    "stat_df.shape"
   ]
  },
  {
   "cell_type": "code",
   "execution_count": 28,
   "metadata": {},
   "outputs": [
    {
     "name": "stdout",
     "output_type": "stream",
     "text": [
      "Alisha\n",
      "Fride\n",
      "Onerva\n",
      "Fabian\n",
      "Lynn\n",
      "Sebastian\n",
      "Joel\n"
     ]
    },
    {
     "data": {
      "text/plain": [
       "(412, 13)"
      ]
     },
     "execution_count": 28,
     "metadata": {},
     "output_type": "execute_result"
    }
   ],
   "source": [
    "test_corpus = Corpus(stat_df)\n",
    "test_corpus.df.shape"
   ]
  },
  {
   "cell_type": "code",
   "execution_count": 29,
   "metadata": {},
   "outputs": [
    {
     "data": {
      "text/plain": [
       "(412, 13)"
      ]
     },
     "execution_count": 29,
     "metadata": {},
     "output_type": "execute_result"
    }
   ],
   "source": [
    "test_corpus_f = Corpus(stat_df, remove_doublicates = False)\n",
    "test_corpus_f.df.shape"
   ]
  },
  {
   "cell_type": "code",
   "execution_count": 30,
   "metadata": {},
   "outputs": [
    {
     "data": {
      "text/plain": [
       "20577"
      ]
     },
     "execution_count": 30,
     "metadata": {},
     "output_type": "execute_result"
    }
   ],
   "source": [
    "len(list(chain.from_iterable(test_corpus.df['Curation'])))"
   ]
  },
  {
   "cell_type": "code",
   "execution_count": 31,
   "metadata": {},
   "outputs": [
    {
     "data": {
      "text/plain": [
       "20577"
      ]
     },
     "execution_count": 31,
     "metadata": {},
     "output_type": "execute_result"
    }
   ],
   "source": [
    "len(list(chain.from_iterable(test_corpus_f.df['Curation'])))"
   ]
  },
  {
   "cell_type": "code",
   "execution_count": 18,
   "metadata": {},
   "outputs": [
    {
     "name": "stdout",
     "output_type": "stream",
     "text": [
      "Alisha\n",
      "Fride\n",
      "Onerva\n",
      "Fabian\n",
      "Lynn\n",
      "Sebastian\n",
      "Joel\n"
     ]
    },
    {
     "data": {
      "text/plain": [
       "(448, 13)"
      ]
     },
     "execution_count": 18,
     "metadata": {},
     "output_type": "execute_result"
    }
   ],
   "source": [
    "test_corpus_front_and_whereas = Corpus(stat_df, front_and_whereas = True)\n",
    "test_corpus_front_and_whereas.df.shape"
   ]
  },
  {
   "cell_type": "code",
   "execution_count": 19,
   "metadata": {},
   "outputs": [
    {
     "data": {
      "text/plain": [
       "(412, 13)"
      ]
     },
     "execution_count": 19,
     "metadata": {},
     "output_type": "execute_result"
    }
   ],
   "source": [
    "ls = ['front', 'Whereas']\n",
    "test_corpus_front_and_whereas.drop_articles_based_on_string(ls)\n",
    "test_corpus_front_and_whereas.df.shape\n"
   ]
  },
  {
   "cell_type": "markdown",
   "metadata": {},
   "source": [
    "# Test helper classes"
   ]
  },
  {
   "cell_type": "code",
   "execution_count": 20,
   "metadata": {},
   "outputs": [],
   "source": [
    "import inspect\n"
   ]
  },
  {
   "cell_type": "code",
   "execution_count": 11,
   "metadata": {},
   "outputs": [
    {
     "ename": "NameError",
     "evalue": "name 'sp' is not defined",
     "output_type": "error",
     "traceback": [
      "\u001b[0;31m---------------------------------------------------------------------------\u001b[0m",
      "\u001b[0;31mNameError\u001b[0m                                 Traceback (most recent call last)",
      "\u001b[0;32m<ipython-input-11-ade8c3f239bd>\u001b[0m in \u001b[0;36m<module>\u001b[0;34m\u001b[0m\n\u001b[0;32m----> 1\u001b[0;31m \u001b[0minspect\u001b[0m\u001b[0;34m.\u001b[0m\u001b[0mgetsource\u001b[0m\u001b[0;34m(\u001b[0m\u001b[0msp\u001b[0m\u001b[0;34m.\u001b[0m\u001b[0m__del__\u001b[0m\u001b[0;34m)\u001b[0m\u001b[0;34m\u001b[0m\u001b[0;34m\u001b[0m\u001b[0m\n\u001b[0m",
      "\u001b[0;31mNameError\u001b[0m: name 'sp' is not defined"
     ]
    }
   ],
   "source": [
    "inspect.getsource(sp.__del__)\n"
   ]
  },
  {
   "cell_type": "code",
   "execution_count": null,
   "metadata": {},
   "outputs": [],
   "source": [
    "del sp"
   ]
  },
  {
   "cell_type": "code",
   "execution_count": 12,
   "metadata": {},
   "outputs": [
    {
     "name": "stdout",
     "output_type": "stream",
     "text": [
      "Span  None  was removed from the corpus\n"
     ]
    }
   ],
   "source": [
    "test_span = span()\n",
    "del test_span"
   ]
  },
  {
   "cell_type": "code",
   "execution_count": 13,
   "metadata": {},
   "outputs": [
    {
     "data": {
      "text/plain": [
       "src.experiment_utils.helper_classes.span"
      ]
     },
     "execution_count": 13,
     "metadata": {},
     "output_type": "execute_result"
    }
   ],
   "source": [
    "test_span = span()\n",
    "type(test_span)"
   ]
  },
  {
   "cell_type": "code",
   "execution_count": 9,
   "metadata": {},
   "outputs": [],
   "source": [
    "cur_spans = test_corpus.get_span_list(conditional_rep = repository(), columns = 'Curation')\n",
    "spans_cur1007 = [x for x in cur_spans  if x.span_id == 'CUR1007']\n",
    "spans_dir = test_corpus.df.loc[spans_cur1007[0].rep.index_name]['Curation']\n",
    "doubles =  [x for x in spans_dir if x.span_id in ['CUR1007', 'CUR1006']]\n",
    "\n"
   ]
  },
  {
   "cell_type": "code",
   "execution_count": 10,
   "metadata": {},
   "outputs": [
    {
     "data": {
      "text/plain": [
       "[span id:CUR1006 annotator:Curation layer:Policydesigncharacteristics type:Resource tag:Resource_Other start:2322 stop:2335 text:union support,\n",
       " span id:CUR1007 annotator:Curation layer:Policydesigncharacteristics type:Resource tag:Resource_Other start:2322 stop:2335 text:union support]"
      ]
     },
     "execution_count": 10,
     "metadata": {},
     "output_type": "execute_result"
    }
   ],
   "source": [
    "doubles"
   ]
  },
  {
   "cell_type": "code",
   "execution_count": 21,
   "metadata": {},
   "outputs": [],
   "source": [
    "def remove_span_doublicates(span_list):\n",
    "    hash_table = {}\n",
    "    for span_ in span_list:\n",
    "        hash_value = hash(span_)\n",
    "        if hash_value in hash_table:\n",
    "            del span_\n",
    "        else:\n",
    "            hash_table[hash_value] = span_\n",
    "    return list(hash_table.values())\n"
   ]
  },
  {
   "cell_type": "code",
   "execution_count": 22,
   "metadata": {},
   "outputs": [
    {
     "data": {
      "text/plain": [
       "74"
      ]
     },
     "execution_count": 22,
     "metadata": {},
     "output_type": "execute_result"
    }
   ],
   "source": [
    "len(spans_dir)"
   ]
  },
  {
   "cell_type": "code",
   "execution_count": 23,
   "metadata": {},
   "outputs": [],
   "source": [
    "spans_dir = remove_span_doublicates(spans_dir)"
   ]
  },
  {
   "cell_type": "code",
   "execution_count": 24,
   "metadata": {},
   "outputs": [
    {
     "data": {
      "text/plain": [
       "73"
      ]
     },
     "execution_count": 24,
     "metadata": {},
     "output_type": "execute_result"
    }
   ],
   "source": [
    "len(spans_dir)"
   ]
  },
  {
   "cell_type": "code",
   "execution_count": 31,
   "metadata": {},
   "outputs": [
    {
     "data": {
      "text/plain": [
       "[span id:CUR970 annotator:Curation layer:Instrumenttypes type:InstrumentType tag:Unspecified start:228 stop:236 text:measures]"
      ]
     },
     "execution_count": 31,
     "metadata": {},
     "output_type": "execute_result"
    }
   ],
   "source": [
    "spans_dir"
   ]
  },
  {
   "cell_type": "code",
   "execution_count": 59,
   "metadata": {},
   "outputs": [
    {
     "data": {
      "text/plain": [
       "6028436340659902575"
      ]
     },
     "execution_count": 59,
     "metadata": {},
     "output_type": "execute_result"
    }
   ],
   "source": [
    "hash((spans[0].start,spans[0].stop,  spans[0].text))"
   ]
  },
  {
   "cell_type": "code",
   "execution_count": null,
   "metadata": {},
   "outputs": [],
   "source": []
  },
  {
   "cell_type": "code",
   "execution_count": 7,
   "metadata": {},
   "outputs": [
    {
     "data": {
      "text/plain": [
       "20578"
      ]
     },
     "execution_count": 7,
     "metadata": {},
     "output_type": "execute_result"
    }
   ],
   "source": [
    "len(list(chain.from_iterable(test_corpus.df['Curation'])))"
   ]
  },
  {
   "cell_type": "code",
   "execution_count": 8,
   "metadata": {},
   "outputs": [],
   "source": [
    "annotator = 'Curation'\n",
    "result = test_corpus.df.apply(lambda row: list(set(row[annotator])), axis = 1)"
   ]
  },
  {
   "cell_type": "code",
   "execution_count": 11,
   "metadata": {},
   "outputs": [
    {
     "data": {
      "text/plain": [
       "20578"
      ]
     },
     "execution_count": 11,
     "metadata": {},
     "output_type": "execute_result"
    }
   ],
   "source": [
    "len(list(chain.from_iterable(result)))"
   ]
  },
  {
   "cell_type": "code",
   "execution_count": null,
   "metadata": {},
   "outputs": [],
   "source": []
  },
  {
   "cell_type": "code",
   "execution_count": null,
   "metadata": {},
   "outputs": [],
   "source": []
  },
  {
   "cell_type": "code",
   "execution_count": 10,
   "metadata": {},
   "outputs": [],
   "source": [
    "annotator = 'Curation'\n",
    "result = test_corpus.df.apply(lambda row: list(set(row[annotator])) if annotator in row['Finished_Annotators'] or annotator == 'Curation' else '', axis = 1)"
   ]
  },
  {
   "cell_type": "code",
   "execution_count": 12,
   "metadata": {},
   "outputs": [
    {
     "data": {
      "text/html": [
       "<div>\n",
       "<style scoped>\n",
       "    .dataframe tbody tr th:only-of-type {\n",
       "        vertical-align: middle;\n",
       "    }\n",
       "\n",
       "    .dataframe tbody tr th {\n",
       "        vertical-align: top;\n",
       "    }\n",
       "\n",
       "    .dataframe thead th {\n",
       "        text-align: right;\n",
       "    }\n",
       "</style>\n",
       "<table border=\"1\" class=\"dataframe\">\n",
       "  <thead>\n",
       "    <tr style=\"text-align: right;\">\n",
       "      <th></th>\n",
       "      <th>Policy</th>\n",
       "      <th>Text</th>\n",
       "      <th>Tokens</th>\n",
       "      <th>Article_State</th>\n",
       "      <th>Finished_Annotators</th>\n",
       "      <th>Curation</th>\n",
       "      <th>Alisha</th>\n",
       "      <th>Fride</th>\n",
       "      <th>Onerva</th>\n",
       "      <th>Fabian</th>\n",
       "      <th>Lynn</th>\n",
       "      <th>Sebastian</th>\n",
       "      <th>Joel</th>\n",
       "    </tr>\n",
       "  </thead>\n",
       "  <tbody>\n",
       "    <tr>\n",
       "      <th>EU_32018R1999_Title_0_Chapter_7_Section_3_Article_43</th>\n",
       "      <td></td>\n",
       "      <td>article 43\\r\\nexercise of the delegation\\r\\n1....</td>\n",
       "      <td>[start:0 stop:7 text:article tag_count:0, star...</td>\n",
       "      <td>CURATION_FINISHED</td>\n",
       "      <td>[Alisha, Fride]</td>\n",
       "      <td>[span id:CUR25 annotator:Curation layer:Policy...</td>\n",
       "      <td>[span id:A1 annotator:Alisha layer:Instrumentt...</td>\n",
       "      <td>[span id:B1 annotator:Fride layer:Policydesign...</td>\n",
       "      <td></td>\n",
       "      <td></td>\n",
       "      <td></td>\n",
       "      <td></td>\n",
       "      <td></td>\n",
       "    </tr>\n",
       "    <tr>\n",
       "      <th>EU_32019R0631_Title_0_Chapter_0_Section_0_Article_12</th>\n",
       "      <td></td>\n",
       "      <td>article 12\\r\\nreal-world co2 emissions and fue...</td>\n",
       "      <td>[start:0 stop:7 text:article tag_count:0, star...</td>\n",
       "      <td>CURATION_FINISHED</td>\n",
       "      <td>[Onerva, Fabian]</td>\n",
       "      <td>[span id:CUR101 annotator:Curation layer:Techn...</td>\n",
       "      <td></td>\n",
       "      <td></td>\n",
       "      <td>[span id:C1 annotator:Onerva layer:Instrumentt...</td>\n",
       "      <td>[span id:D1 annotator:Fabian layer:Policydesig...</td>\n",
       "      <td></td>\n",
       "      <td></td>\n",
       "      <td></td>\n",
       "    </tr>\n",
       "    <tr>\n",
       "      <th>EU_32018L2001_Title_0_Chapter_0_Section_0_Article_11</th>\n",
       "      <td></td>\n",
       "      <td>article 11\\r\\njoint projects between member st...</td>\n",
       "      <td>[start:0 stop:7 text:article tag_count:0, star...</td>\n",
       "      <td>CURATION_FINISHED</td>\n",
       "      <td>[Fride, Onerva]</td>\n",
       "      <td>[span id:CUR130 annotator:Curation layer:Polic...</td>\n",
       "      <td></td>\n",
       "      <td>[span id:B28 annotator:Fride layer:Instrumentt...</td>\n",
       "      <td>[span id:C58 annotator:Onerva layer:Instrument...</td>\n",
       "      <td></td>\n",
       "      <td></td>\n",
       "      <td></td>\n",
       "      <td></td>\n",
       "    </tr>\n",
       "    <tr>\n",
       "      <th>EU_32018R1999_Title_0_Chapter_7_Section_3_Article_56</th>\n",
       "      <td></td>\n",
       "      <td>article 56\\r\\namendments to directive (eu) 201...</td>\n",
       "      <td>[start:0 stop:7 text:article tag_count:0, star...</td>\n",
       "      <td>CURATION_FINISHED</td>\n",
       "      <td>[Alisha, Fride]</td>\n",
       "      <td>[span id:CUR210 annotator:Curation layer:Polic...</td>\n",
       "      <td>[span id:A38 annotator:Alisha layer:Policydesi...</td>\n",
       "      <td>[span id:B129 annotator:Fride layer:Policydesi...</td>\n",
       "      <td></td>\n",
       "      <td></td>\n",
       "      <td></td>\n",
       "      <td></td>\n",
       "      <td></td>\n",
       "    </tr>\n",
       "    <tr>\n",
       "      <th>EU_32018L2001_Title_0_Chapter_0_Section_0_Article_03</th>\n",
       "      <td></td>\n",
       "      <td>article 3\\r\\nbinding overall union target for ...</td>\n",
       "      <td>[start:0 stop:7 text:article tag_count:0, star...</td>\n",
       "      <td>CURATION_FINISHED</td>\n",
       "      <td>[Fride, Onerva, Fabian]</td>\n",
       "      <td>[span id:CUR258 annotator:Curation layer:Polic...</td>\n",
       "      <td></td>\n",
       "      <td>[span id:B138 annotator:Fride layer:Instrument...</td>\n",
       "      <td>[span id:C165 annotator:Onerva layer:Instrumen...</td>\n",
       "      <td>[span id:D27 annotator:Fabian layer:Instrument...</td>\n",
       "      <td></td>\n",
       "      <td></td>\n",
       "      <td></td>\n",
       "    </tr>\n",
       "  </tbody>\n",
       "</table>\n",
       "</div>"
      ],
      "text/plain": [
       "                                                   Policy  \\\n",
       "EU_32018R1999_Title_0_Chapter_7_Section_3_Artic...          \n",
       "EU_32019R0631_Title_0_Chapter_0_Section_0_Artic...          \n",
       "EU_32018L2001_Title_0_Chapter_0_Section_0_Artic...          \n",
       "EU_32018R1999_Title_0_Chapter_7_Section_3_Artic...          \n",
       "EU_32018L2001_Title_0_Chapter_0_Section_0_Artic...          \n",
       "\n",
       "                                                                                                 Text  \\\n",
       "EU_32018R1999_Title_0_Chapter_7_Section_3_Artic...  article 43\\r\\nexercise of the delegation\\r\\n1....   \n",
       "EU_32019R0631_Title_0_Chapter_0_Section_0_Artic...  article 12\\r\\nreal-world co2 emissions and fue...   \n",
       "EU_32018L2001_Title_0_Chapter_0_Section_0_Artic...  article 11\\r\\njoint projects between member st...   \n",
       "EU_32018R1999_Title_0_Chapter_7_Section_3_Artic...  article 56\\r\\namendments to directive (eu) 201...   \n",
       "EU_32018L2001_Title_0_Chapter_0_Section_0_Artic...  article 3\\r\\nbinding overall union target for ...   \n",
       "\n",
       "                                                                                               Tokens  \\\n",
       "EU_32018R1999_Title_0_Chapter_7_Section_3_Artic...  [start:0 stop:7 text:article tag_count:0, star...   \n",
       "EU_32019R0631_Title_0_Chapter_0_Section_0_Artic...  [start:0 stop:7 text:article tag_count:0, star...   \n",
       "EU_32018L2001_Title_0_Chapter_0_Section_0_Artic...  [start:0 stop:7 text:article tag_count:0, star...   \n",
       "EU_32018R1999_Title_0_Chapter_7_Section_3_Artic...  [start:0 stop:7 text:article tag_count:0, star...   \n",
       "EU_32018L2001_Title_0_Chapter_0_Section_0_Artic...  [start:0 stop:7 text:article tag_count:0, star...   \n",
       "\n",
       "                                                        Article_State  \\\n",
       "EU_32018R1999_Title_0_Chapter_7_Section_3_Artic...  CURATION_FINISHED   \n",
       "EU_32019R0631_Title_0_Chapter_0_Section_0_Artic...  CURATION_FINISHED   \n",
       "EU_32018L2001_Title_0_Chapter_0_Section_0_Artic...  CURATION_FINISHED   \n",
       "EU_32018R1999_Title_0_Chapter_7_Section_3_Artic...  CURATION_FINISHED   \n",
       "EU_32018L2001_Title_0_Chapter_0_Section_0_Artic...  CURATION_FINISHED   \n",
       "\n",
       "                                                        Finished_Annotators  \\\n",
       "EU_32018R1999_Title_0_Chapter_7_Section_3_Artic...          [Alisha, Fride]   \n",
       "EU_32019R0631_Title_0_Chapter_0_Section_0_Artic...         [Onerva, Fabian]   \n",
       "EU_32018L2001_Title_0_Chapter_0_Section_0_Artic...          [Fride, Onerva]   \n",
       "EU_32018R1999_Title_0_Chapter_7_Section_3_Artic...          [Alisha, Fride]   \n",
       "EU_32018L2001_Title_0_Chapter_0_Section_0_Artic...  [Fride, Onerva, Fabian]   \n",
       "\n",
       "                                                                                             Curation  \\\n",
       "EU_32018R1999_Title_0_Chapter_7_Section_3_Artic...  [span id:CUR25 annotator:Curation layer:Policy...   \n",
       "EU_32019R0631_Title_0_Chapter_0_Section_0_Artic...  [span id:CUR101 annotator:Curation layer:Techn...   \n",
       "EU_32018L2001_Title_0_Chapter_0_Section_0_Artic...  [span id:CUR130 annotator:Curation layer:Polic...   \n",
       "EU_32018R1999_Title_0_Chapter_7_Section_3_Artic...  [span id:CUR210 annotator:Curation layer:Polic...   \n",
       "EU_32018L2001_Title_0_Chapter_0_Section_0_Artic...  [span id:CUR258 annotator:Curation layer:Polic...   \n",
       "\n",
       "                                                                                               Alisha  \\\n",
       "EU_32018R1999_Title_0_Chapter_7_Section_3_Artic...  [span id:A1 annotator:Alisha layer:Instrumentt...   \n",
       "EU_32019R0631_Title_0_Chapter_0_Section_0_Artic...                                                      \n",
       "EU_32018L2001_Title_0_Chapter_0_Section_0_Artic...                                                      \n",
       "EU_32018R1999_Title_0_Chapter_7_Section_3_Artic...  [span id:A38 annotator:Alisha layer:Policydesi...   \n",
       "EU_32018L2001_Title_0_Chapter_0_Section_0_Artic...                                                      \n",
       "\n",
       "                                                                                                Fride  \\\n",
       "EU_32018R1999_Title_0_Chapter_7_Section_3_Artic...  [span id:B1 annotator:Fride layer:Policydesign...   \n",
       "EU_32019R0631_Title_0_Chapter_0_Section_0_Artic...                                                      \n",
       "EU_32018L2001_Title_0_Chapter_0_Section_0_Artic...  [span id:B28 annotator:Fride layer:Instrumentt...   \n",
       "EU_32018R1999_Title_0_Chapter_7_Section_3_Artic...  [span id:B129 annotator:Fride layer:Policydesi...   \n",
       "EU_32018L2001_Title_0_Chapter_0_Section_0_Artic...  [span id:B138 annotator:Fride layer:Instrument...   \n",
       "\n",
       "                                                                                               Onerva  \\\n",
       "EU_32018R1999_Title_0_Chapter_7_Section_3_Artic...                                                      \n",
       "EU_32019R0631_Title_0_Chapter_0_Section_0_Artic...  [span id:C1 annotator:Onerva layer:Instrumentt...   \n",
       "EU_32018L2001_Title_0_Chapter_0_Section_0_Artic...  [span id:C58 annotator:Onerva layer:Instrument...   \n",
       "EU_32018R1999_Title_0_Chapter_7_Section_3_Artic...                                                      \n",
       "EU_32018L2001_Title_0_Chapter_0_Section_0_Artic...  [span id:C165 annotator:Onerva layer:Instrumen...   \n",
       "\n",
       "                                                                                               Fabian  \\\n",
       "EU_32018R1999_Title_0_Chapter_7_Section_3_Artic...                                                      \n",
       "EU_32019R0631_Title_0_Chapter_0_Section_0_Artic...  [span id:D1 annotator:Fabian layer:Policydesig...   \n",
       "EU_32018L2001_Title_0_Chapter_0_Section_0_Artic...                                                      \n",
       "EU_32018R1999_Title_0_Chapter_7_Section_3_Artic...                                                      \n",
       "EU_32018L2001_Title_0_Chapter_0_Section_0_Artic...  [span id:D27 annotator:Fabian layer:Instrument...   \n",
       "\n",
       "                                                   Lynn Sebastian Joel  \n",
       "EU_32018R1999_Title_0_Chapter_7_Section_3_Artic...                      \n",
       "EU_32019R0631_Title_0_Chapter_0_Section_0_Artic...                      \n",
       "EU_32018L2001_Title_0_Chapter_0_Section_0_Artic...                      \n",
       "EU_32018R1999_Title_0_Chapter_7_Section_3_Artic...                      \n",
       "EU_32018L2001_Title_0_Chapter_0_Section_0_Artic...                      "
      ]
     },
     "execution_count": 12,
     "metadata": {},
     "output_type": "execute_result"
    }
   ],
   "source": [
    "test_corpus.df.head()"
   ]
  },
  {
   "cell_type": "code",
   "execution_count": 13,
   "metadata": {},
   "outputs": [
    {
     "data": {
      "text/plain": [
       "20578"
      ]
     },
     "execution_count": 13,
     "metadata": {},
     "output_type": "execute_result"
    }
   ],
   "source": [
    "len(list(chain.from_iterable(test_corpus.df['Curation'])))"
   ]
  },
  {
   "cell_type": "code",
   "execution_count": null,
   "metadata": {},
   "outputs": [],
   "source": []
  },
  {
   "cell_type": "code",
   "execution_count": null,
   "metadata": {},
   "outputs": [],
   "source": []
  },
  {
   "cell_type": "markdown",
   "metadata": {},
   "source": [
    "## testing get_span_list ##"
   ]
  },
  {
   "cell_type": "code",
   "execution_count": 21,
   "metadata": {},
   "outputs": [],
   "source": [
    "test_index = 1"
   ]
  },
  {
   "cell_type": "code",
   "execution_count": 22,
   "metadata": {},
   "outputs": [],
   "source": [
    "test_dir = repository.from_repository_name(list(test_corpus.df.index)[test_index])"
   ]
  },
  {
   "cell_type": "code",
   "execution_count": 23,
   "metadata": {},
   "outputs": [
    {
     "data": {
      "text/plain": [
       "policy:EU_32019R0631 title:Title_0 chapter:Chapter_0 section:Section_0 article:Article_12"
      ]
     },
     "execution_count": 23,
     "metadata": {},
     "output_type": "execute_result"
    }
   ],
   "source": [
    "test_dir"
   ]
  },
  {
   "cell_type": "markdown",
   "metadata": {},
   "source": [
    "### Test _get_iterator_conditional_rep"
   ]
  },
  {
   "cell_type": "code",
   "execution_count": 24,
   "metadata": {},
   "outputs": [
    {
     "data": {
      "text/plain": [
       "True"
      ]
     },
     "execution_count": 24,
     "metadata": {},
     "output_type": "execute_result"
    }
   ],
   "source": [
    "len(test_corpus._get_iterator_conditional_rep(test_dir, ['Fabian', 'Onerva'])) == len(test_corpus.df['Fabian'][test_index]) + len(test_corpus.df['Onerva'][test_index])"
   ]
  },
  {
   "cell_type": "code",
   "execution_count": 27,
   "metadata": {},
   "outputs": [
    {
     "data": {
      "text/plain": [
       "83"
      ]
     },
     "execution_count": 27,
     "metadata": {},
     "output_type": "execute_result"
    }
   ],
   "source": [
    "#multiple colums\n",
    "len(test_corpus._get_iterator_conditional_rep(test_dir, ['Fabian', 'Onerva']))"
   ]
  },
  {
   "cell_type": "code",
   "execution_count": 28,
   "metadata": {},
   "outputs": [
    {
     "data": {
      "text/plain": [
       "83"
      ]
     },
     "execution_count": 28,
     "metadata": {},
     "output_type": "execute_result"
    }
   ],
   "source": [
    "len(test_corpus.df['Onerva'][test_index]) + len(test_corpus.df['Fabian'][test_index])"
   ]
  },
  {
   "cell_type": "code",
   "execution_count": 29,
   "metadata": {},
   "outputs": [
    {
     "data": {
      "text/plain": [
       "26"
      ]
     },
     "execution_count": 29,
     "metadata": {},
     "output_type": "execute_result"
    }
   ],
   "source": [
    "len(test_corpus.get_span_list(test_dir, ['Fabian']))"
   ]
  },
  {
   "cell_type": "code",
   "execution_count": 30,
   "metadata": {},
   "outputs": [
    {
     "data": {
      "text/plain": [
       "26"
      ]
     },
     "execution_count": 30,
     "metadata": {},
     "output_type": "execute_result"
    }
   ],
   "source": [
    "len(test_corpus.df['Fabian'][test_index])"
   ]
  },
  {
   "cell_type": "markdown",
   "metadata": {},
   "source": [
    "## get_span_distro"
   ]
  },
  {
   "cell_type": "code",
   "execution_count": 31,
   "metadata": {},
   "outputs": [
    {
     "name": "stdout",
     "output_type": "stream",
     "text": [
      "4\n"
     ]
    }
   ],
   "source": [
    "\n",
    "span_list = test_corpus.get_span_list(test_dir, ['Fabian', 'Onerva'])\n",
    "\n",
    "print(len([span_.text for span_ in span_list if  len(span_.text) == 12]))"
   ]
  },
  {
   "cell_type": "code",
   "execution_count": 32,
   "metadata": {},
   "outputs": [
    {
     "name": "stdout",
     "output_type": "stream",
     "text": [
      "7\n"
     ]
    }
   ],
   "source": [
    "print(len([span_.text for span_ in span_list if  len(span_.text) == 25]))"
   ]
  },
  {
   "cell_type": "code",
   "execution_count": 33,
   "metadata": {},
   "outputs": [
    {
     "name": "stdout",
     "output_type": "stream",
     "text": [
      "2\n"
     ]
    }
   ],
   "source": [
    "print(len([span_.text for span_ in span_list if  len(span_.text) == 51]))"
   ]
  },
  {
   "cell_type": "code",
   "execution_count": 34,
   "metadata": {},
   "outputs": [
    {
     "data": {
      "text/plain": [
       "{10: 18,\n",
       " 14: 7,\n",
       " 25: 7,\n",
       " 27: 6,\n",
       " 26: 5,\n",
       " 7: 4,\n",
       " 12: 4,\n",
       " 6: 3,\n",
       " 18: 3,\n",
       " 8: 3,\n",
       " 9: 2,\n",
       " 20: 2,\n",
       " 51: 2,\n",
       " 13: 2,\n",
       " 32: 2,\n",
       " 11: 1,\n",
       " 41: 1,\n",
       " 49: 1,\n",
       " 34: 1,\n",
       " 4: 1,\n",
       " 58: 1,\n",
       " 29: 1,\n",
       " 36: 1,\n",
       " 46: 1,\n",
       " 33: 1,\n",
       " 75: 1,\n",
       " 19: 1,\n",
       " 24: 1}"
      ]
     },
     "execution_count": 34,
     "metadata": {},
     "output_type": "execute_result"
    }
   ],
   "source": [
    "test_corpus.get_span_distro(test_dir, ['Onerva', 'Fabian'], level= 'character')"
   ]
  },
  {
   "cell_type": "markdown",
   "metadata": {},
   "source": [
    "## get_token_list_from_repository"
   ]
  },
  {
   "cell_type": "code",
   "execution_count": 38,
   "metadata": {},
   "outputs": [
    {
     "data": {
      "text/plain": [
       "True"
      ]
     },
     "execution_count": 38,
     "metadata": {},
     "output_type": "execute_result"
    }
   ],
   "source": [
    "test_corpus.get_token_list_from_repository(test_dir) == test_corpus.df['Tokens'][test_index] "
   ]
  },
  {
   "cell_type": "markdown",
   "metadata": {},
   "source": [
    "## get_token_count_from_repository"
   ]
  },
  {
   "cell_type": "code",
   "execution_count": 39,
   "metadata": {},
   "outputs": [
    {
     "data": {
      "text/plain": [
       "True"
      ]
     },
     "execution_count": 39,
     "metadata": {},
     "output_type": "execute_result"
    }
   ],
   "source": [
    "test_corpus.get_token_count_from_repository(test_dir) == len(test_corpus.df['Tokens'][test_index])"
   ]
  },
  {
   "cell_type": "markdown",
   "metadata": {},
   "source": [
    "## get_tokens_from_span_list"
   ]
  },
  {
   "cell_type": "code",
   "execution_count": 42,
   "metadata": {},
   "outputs": [
    {
     "data": {
      "text/plain": [
       "True"
      ]
     },
     "execution_count": 42,
     "metadata": {},
     "output_type": "execute_result"
    }
   ],
   "source": [
    "all_tokens_fabian_test_dir = list(chain.from_iterable([x.tokens for x in test_corpus.get_span_list(test_dir, ['Fabian'])]))\n",
    "test_corpus.get_tokens_from_span_list(test_dir, ['Fabian']) == all_tokens_fabian_test_dir"
   ]
  },
  {
   "cell_type": "markdown",
   "metadata": {},
   "source": [
    "## get_token_count_from_span_list"
   ]
  },
  {
   "cell_type": "code",
   "execution_count": 43,
   "metadata": {},
   "outputs": [
    {
     "data": {
      "text/plain": [
       "True"
      ]
     },
     "execution_count": 43,
     "metadata": {},
     "output_type": "execute_result"
    }
   ],
   "source": [
    " test_corpus.get_token_count_from_span_list(test_dir, ['Fabian', 'Onerva']) == len(test_corpus.get_tokens_from_span_list(test_dir, ['Fabian', 'Onerva']))"
   ]
  },
  {
   "cell_type": "markdown",
   "metadata": {},
   "source": [
    "## most_frequent_labeled_tokens"
   ]
  },
  {
   "cell_type": "code",
   "execution_count": 44,
   "metadata": {},
   "outputs": [
    {
     "data": {
      "text/plain": [
       "16"
      ]
     },
     "execution_count": 44,
     "metadata": {},
     "output_type": "execute_result"
    }
   ],
   "source": [
    "len([x for x in test_corpus.get_tokens_from_span_list(test_dir, ['Fabian', 'Onerva']) if x.text == 'commission' ])"
   ]
  },
  {
   "cell_type": "code",
   "execution_count": 45,
   "metadata": {},
   "outputs": [
    {
     "data": {
      "text/plain": [
       "12"
      ]
     },
     "execution_count": 45,
     "metadata": {},
     "output_type": "execute_result"
    }
   ],
   "source": [
    "len([x for x in test_corpus.get_tokens_from_span_list(test_dir, ['Fabian', 'Onerva']) if x.text == 'consumption'])"
   ]
  },
  {
   "cell_type": "code",
   "execution_count": 46,
   "metadata": {},
   "outputs": [
    {
     "data": {
      "text/plain": [
       "4"
      ]
     },
     "execution_count": 46,
     "metadata": {},
     "output_type": "execute_result"
    }
   ],
   "source": [
    "len([x for x in test_corpus.get_tokens_from_span_list(test_dir, ['Fabian', 'Onerva']) if x.text == 'regulation'])"
   ]
  },
  {
   "cell_type": "code",
   "execution_count": 47,
   "metadata": {},
   "outputs": [
    {
     "data": {
      "text/plain": [
       "{'commission': 16,\n",
       " 'fuel': 14,\n",
       " 'energy': 14,\n",
       " 'and': 13,\n",
       " 'consumption': 12,\n",
       " 'or': 10,\n",
       " 'vehicles': 10,\n",
       " 'no': 6,\n",
       " '\\xa0': 6,\n",
       " '/': 6,\n",
       " 'passenger': 6,\n",
       " 'cars': 6,\n",
       " 'light': 6,\n",
       " 'commercial': 6,\n",
       " 'monitor': 4,\n",
       " 'assess': 4,\n",
       " 'regulation': 4,\n",
       " '(': 4,\n",
       " 'ec': 4,\n",
       " ')': 4,\n",
       " '715': 4,\n",
       " '2007': 4,\n",
       " 'data': 4,\n",
       " 'emissions': 4,\n",
       " '1': 4,\n",
       " 'electric': 4,\n",
       " 'co2': 3,\n",
       " '2021': 3,\n",
       " 'vehicle': 3,\n",
       " 'collect': 2,\n",
       " 'the': 2,\n",
       " 'real-world': 2,\n",
       " 'from': 2,\n",
       " 'january': 2,\n",
       " 'manufacturers': 2,\n",
       " 'later': 2,\n",
       " 'than': 2,\n",
       " 'june': 2,\n",
       " '2023': 2,\n",
       " 'report': 2,\n",
       " 'annually': 2,\n",
       " 'hybrid': 2,\n",
       " 'mechanism': 2,\n",
       " 'values': 2,\n",
       " 'parameters': 2,\n",
       " 'manufacturer': 2,\n",
       " 'gap': 2,\n",
       " 'new': 2,\n",
       " 'consumed': 2,\n",
       " 'on': 1,\n",
       " 'to': 1,\n",
       " '2026': 1,\n",
       " 'obligations': 1,\n",
       " 'legislative': 1,\n",
       " 'proposal': 1,\n",
       " 'national': 1,\n",
       " 'authorities': 1,\n",
       " 'create': 1,\n",
       " 'anonymised': 1,\n",
       " 'aggregated': 1,\n",
       " 'datasets': 1,\n",
       " 'prevent': 1,\n",
       " 'growing': 1,\n",
       " 'preventing': 1,\n",
       " 'an': 1,\n",
       " 'increase': 1,\n",
       " 'in': 1,\n",
       " 'that': 1,\n",
       " '2027': 1,\n",
       " \"manufacturer's\": 1,\n",
       " 'on-board': 1,\n",
       " 'monitoring': 1,\n",
       " 'devices': 1,\n",
       " 'externally': 1,\n",
       " 'chargeable': 1}"
      ]
     },
     "execution_count": 47,
     "metadata": {},
     "output_type": "execute_result"
    }
   ],
   "source": [
    "test_corpus.most_frequent_labeled_tokens(test_dir, ['Fabian', 'Onerva'])"
   ]
  },
  {
   "cell_type": "markdown",
   "metadata": {},
   "source": [
    "## get_label_count_per_token_distro"
   ]
  },
  {
   "cell_type": "code",
   "execution_count": 48,
   "metadata": {},
   "outputs": [
    {
     "name": "stdout",
     "output_type": "stream",
     "text": [
      "0 : 345\n",
      "1 : 15\n",
      "2 : 58\n",
      "3 : 69\n",
      "4 : 22\n",
      "5 : 4\n",
      "6 : 2\n",
      "7 : 0\n",
      "8 : 0\n",
      "9 : 0\n"
     ]
    }
   ],
   "source": [
    "label_counts = [x.tag_count for x in test_corpus.get_token_list_from_repository(test_dir)]\n",
    "for i in range(0,10):\n",
    "    print(i, ':', label_counts.count(i))\n"
   ]
  },
  {
   "cell_type": "code",
   "execution_count": 49,
   "metadata": {},
   "outputs": [
    {
     "data": {
      "text/plain": [
       "{0: 345, 1: 15, 2: 58, 3: 69, 4: 22, 5: 4, 6: 2}"
      ]
     },
     "execution_count": 49,
     "metadata": {},
     "output_type": "execute_result"
    }
   ],
   "source": [
    "test_corpus.get_label_count_per_token_distro(test_dir)"
   ]
  },
  {
   "cell_type": "code",
   "execution_count": 50,
   "metadata": {},
   "outputs": [
    {
     "data": {
      "text/plain": [
       "[start:1959 stop:1963 text:fuel tag_count:6,\n",
       " start:1968 stop:1974 text:energy tag_count:6]"
      ]
     },
     "execution_count": 50,
     "metadata": {},
     "output_type": "execute_result"
    }
   ],
   "source": [
    "test_corpus.get_tokens_with_label_count(test_dir, 6)"
   ]
  },
  {
   "cell_type": "markdown",
   "metadata": {},
   "source": [
    "# Inter Annotator Agreement"
   ]
  },
  {
   "cell_type": "markdown",
   "metadata": {},
   "source": [
    "## First test Inter_annotator_agreement based on df"
   ]
  },
  {
   "cell_type": "code",
   "execution_count": 2,
   "metadata": {},
   "outputs": [
    {
     "ename": "NameError",
     "evalue": "name 'stat_df' is not defined",
     "output_type": "error",
     "traceback": [
      "\u001b[0;31m---------------------------------------------------------------------------\u001b[0m",
      "\u001b[0;31mNameError\u001b[0m                                 Traceback (most recent call last)",
      "\u001b[0;32m<ipython-input-2-688c99651b10>\u001b[0m in \u001b[0;36m<module>\u001b[0;34m\u001b[0m\n\u001b[0;32m----> 1\u001b[0;31m \u001b[0mtest_evaluator\u001b[0m \u001b[0;34m=\u001b[0m \u001b[0mInter_Annotator_Agreement\u001b[0m\u001b[0;34m(\u001b[0m\u001b[0mstat_df\u001b[0m\u001b[0;34m)\u001b[0m\u001b[0;34m\u001b[0m\u001b[0;34m\u001b[0m\u001b[0m\n\u001b[0m\u001b[1;32m      2\u001b[0m \u001b[0;34m\u001b[0m\u001b[0m\n\u001b[1;32m      3\u001b[0m \u001b[0mscoring_metrics\u001b[0m \u001b[0;34m=\u001b[0m \u001b[0;34m[\u001b[0m\u001b[0;34m'f1_heuristic'\u001b[0m\u001b[0;34m]\u001b[0m \u001b[0;31m#, 'pygamma']\u001b[0m\u001b[0;34m\u001b[0m\u001b[0;34m\u001b[0m\u001b[0m\n\u001b[1;32m      4\u001b[0m \u001b[0mscoring_metrics\u001b[0m \u001b[0;34m=\u001b[0m \u001b[0;34m[\u001b[0m\u001b[0;34m'f1_exact'\u001b[0m\u001b[0;34m,\u001b[0m \u001b[0;34m'f1_tokenwise'\u001b[0m\u001b[0;34m,\u001b[0m \u001b[0;34m'f1_partial'\u001b[0m\u001b[0;34m,\u001b[0m \u001b[0;34m'f1_heuristic'\u001b[0m\u001b[0;34m]\u001b[0m \u001b[0;31m#, 'pygamma']\u001b[0m\u001b[0;34m\u001b[0m\u001b[0;34m\u001b[0m\u001b[0m\n\u001b[1;32m      5\u001b[0m \u001b[0mtest_evaluator\u001b[0m\u001b[0;34m.\u001b[0m\u001b[0mkeep_only_finished_articles\u001b[0m\u001b[0;34m(\u001b[0m\u001b[0;34m)\u001b[0m\u001b[0;34m\u001b[0m\u001b[0;34m\u001b[0m\u001b[0m\n",
      "\u001b[0;31mNameError\u001b[0m: name 'stat_df' is not defined"
     ]
    }
   ],
   "source": [
    "test_evaluator = Inter_Annotator_Agreement(stat_df)\n",
    "\n",
    "scoring_metrics = ['f1_heuristic'] #, 'pygamma']\n",
    "scoring_metrics = ['f1_exact', 'f1_tokenwise', 'f1_partial', 'f1_heuristic'] #, 'pygamma']\n",
    "test_evaluator.keep_only_finished_articles()\n",
    "test_evaluator.df.head()\n"
   ]
  },
  {
   "cell_type": "code",
   "execution_count": 4,
   "metadata": {},
   "outputs": [],
   "source": [
    "#test_evaluator.append_total_score_per_article(scoring_metrics)"
   ]
  },
  {
   "cell_type": "code",
   "execution_count": 4,
   "metadata": {},
   "outputs": [
    {
     "data": {
      "text/plain": [
       "[annotator:curation layer:Policydesigncharacteristics type:Time tag:Time_InEffect start:57 stop:137 text:20th day following its publication in the official journal of the european union,\n",
       " annotator:curation layer:Policydesigncharacteristics type:Time tag:Time_InEffect start:191 stop:204 text:1 august 2006,\n",
       " annotator:curation layer:Policydesigncharacteristics type:Actor tag:Addressee_default start:287 stop:300 text:member states,\n",
       " annotator:Fride layer:Policydesigncharacteristics type:Time tag:Time_InEffect start:57 stop:137 text:20th day following its publication in the official journal of the european union,\n",
       " annotator:Fride layer:Policydesigncharacteristics type:Time tag:Time_InEffect start:191 stop:204 text:1 august 2006,\n",
       " annotator:Fabian layer:Policydesigncharacteristics type:Time tag:Time_InEffect start:57 stop:91 text:20th day following its publication,\n",
       " annotator:Fabian layer:Policydesigncharacteristics type:Actor tag:Authority_default start:123 stop:137 text:european union,\n",
       " annotator:Fabian layer:Policydesigncharacteristics type:Time tag:Time_InEffect start:186 stop:204 text:from 1 august 2006,\n",
       " annotator:Fabian layer:Policydesigncharacteristics type:Actor tag:Addressee_default start:287 stop:300 text:member states]"
      ]
     },
     "execution_count": 4,
     "metadata": {},
     "output_type": "execute_result"
    }
   ],
   "source": [
    "repo = repository.from_repository_name('EU_32009R0397_Title_0_Chapter_0_Section_0_Article_02')\n",
    "test_evaluator.get_span_list(repo)"
   ]
  },
  {
   "cell_type": "code",
   "execution_count": 5,
   "metadata": {},
   "outputs": [
    {
     "data": {
      "text/plain": [
       "[annotator:Alisha layer:Technologyandapplicationspecificity type:EnergySpecificity tag:Energy_LowCarbon start:94 stop:123 text:energy from renewable sources,\n",
       " annotator:Alisha layer:Technologyandapplicationspecificity type:TechnologySpecificity tag:Tech_LowCarbon start:171 stop:183 text:installation,\n",
       " annotator:Alisha layer:Technologyandapplicationspecificity type:TechnologySpecificity tag:Tech_LowCarbon start:240 stop:252 text:installation]"
      ]
     },
     "execution_count": 5,
     "metadata": {},
     "output_type": "execute_result"
    }
   ],
   "source": [
    "row_to_span_list(test_evaluator.df.loc['EU_32009L0028_Title_0_Chapter_0_Section_0_Article_12'])"
   ]
  },
  {
   "cell_type": "code",
   "execution_count": 11,
   "metadata": {},
   "outputs": [
    {
     "data": {
      "text/plain": [
       "Alisha    [annotator:Alisha layer:Technologyandapplicati...\n",
       "Fabian    [annotator:Fabian layer:Technologyandapplicati...\n",
       "Name: EU_32009L0028_Title_0_Chapter_0_Section_0_Article_12, dtype: object"
      ]
     },
     "execution_count": 11,
     "metadata": {},
     "output_type": "execute_result"
    }
   ],
   "source": [
    "ser = test_evaluator.df.loc['EU_32009L0028_Title_0_Chapter_0_Section_0_Article_12']\n",
    "ser[ser['Finished_Annotators']]"
   ]
  },
  {
   "cell_type": "code",
   "execution_count": 11,
   "metadata": {},
   "outputs": [
    {
     "name": "stderr",
     "output_type": "stream",
     "text": [
      "100%|██████████| 404/404 [00:04<00:00, 83.78it/s] \n",
      "/home/jkuettel/NLP_spark/src/d03_inter_annotator_agreement/inter_annotator_agremment.py:153: SettingWithCopyWarning: \n",
      "A value is trying to be set on a copy of a slice from a DataFrame.\n",
      "Try using .loc[row_indexer,col_indexer] = value instead\n",
      "\n",
      "See the caveats in the documentation: https://pandas.pydata.org/pandas-docs/stable/user_guide/indexing.html#returning-a-view-versus-a-copy\n",
      "  self.df[column_name] = self.df.progress_apply(lambda row: _get_score_article(row_to_span_list(row), scoring_metric, row['Finished_Annotators'], row,  **optional_tuple_properties), axis=1)\n",
      "100%|██████████| 404/404 [00:04<00:00, 80.86it/s] \n",
      "100%|██████████| 404/404 [00:04<00:00, 85.15it/s] \n",
      "100%|██████████| 404/404 [00:00<00:00, 963.84it/s] \n"
     ]
    }
   ],
   "source": [
    "test_evaluator.append_total_score_per_article_no_parallel(scoring_metrics)"
   ]
  },
  {
   "cell_type": "code",
   "execution_count": 5,
   "metadata": {},
   "outputs": [
    {
     "data": {
      "text/html": [
       "<div>\n",
       "<style scoped>\n",
       "    .dataframe tbody tr th:only-of-type {\n",
       "        vertical-align: middle;\n",
       "    }\n",
       "\n",
       "    .dataframe tbody tr th {\n",
       "        vertical-align: top;\n",
       "    }\n",
       "\n",
       "    .dataframe thead th {\n",
       "        text-align: right;\n",
       "    }\n",
       "</style>\n",
       "<table border=\"1\" class=\"dataframe\">\n",
       "  <thead>\n",
       "    <tr style=\"text-align: right;\">\n",
       "      <th></th>\n",
       "      <th>Policy</th>\n",
       "      <th>Text</th>\n",
       "      <th>Tokens</th>\n",
       "      <th>Article_State</th>\n",
       "      <th>Finished_Annotators</th>\n",
       "      <th>Curation</th>\n",
       "      <th>Onerva</th>\n",
       "      <th>Fride</th>\n",
       "      <th>Lynn</th>\n",
       "      <th>Sebastian</th>\n",
       "      <th>Alisha</th>\n",
       "      <th>Fabian</th>\n",
       "      <th>f1_heuristic_score</th>\n",
       "    </tr>\n",
       "  </thead>\n",
       "  <tbody>\n",
       "    <tr>\n",
       "      <th>EU_32006L0032_Title_0_Chapter_1_Section_0_Article_03</th>\n",
       "      <td></td>\n",
       "      <td>article 3\\r\\ndefinitions\\r\\nfor the purposes o...</td>\n",
       "      <td>[start:0 stop:7 text:article tag_count:0, star...</td>\n",
       "      <td>CURATION_FINISHED</td>\n",
       "      <td>[Fride, Onerva]</td>\n",
       "      <td>[annotator:curation layer:Instrumenttypes type...</td>\n",
       "      <td>[annotator:Onerva layer:Instrumenttypes type:I...</td>\n",
       "      <td>[annotator:Fride layer:Instrumenttypes type:In...</td>\n",
       "      <td></td>\n",
       "      <td></td>\n",
       "      <td></td>\n",
       "      <td></td>\n",
       "      <td>0.566417</td>\n",
       "    </tr>\n",
       "    <tr>\n",
       "      <th>EU_32006L0066_Title_0_Chapter_0_Section_0_Article_25</th>\n",
       "      <td></td>\n",
       "      <td>article 25\\r\\npenalties\\r\\nmember states shall...</td>\n",
       "      <td>[start:0 stop:7 text:article tag_count:0, star...</td>\n",
       "      <td>CURATION_FINISHED</td>\n",
       "      <td>[Fride, Onerva]</td>\n",
       "      <td>[annotator:curation layer:Instrumenttypes type...</td>\n",
       "      <td>[annotator:Onerva layer:Instrumenttypes type:I...</td>\n",
       "      <td>[annotator:Fride layer:Instrumenttypes type:In...</td>\n",
       "      <td>[]</td>\n",
       "      <td></td>\n",
       "      <td></td>\n",
       "      <td></td>\n",
       "      <td>0.740741</td>\n",
       "    </tr>\n",
       "    <tr>\n",
       "      <th>EU_32009L0028_Title_0_Chapter_0_Section_0_Article_07</th>\n",
       "      <td></td>\n",
       "      <td>article 7\\r\\njoint projects between member sta...</td>\n",
       "      <td>[start:0 stop:7 text:article tag_count:0, star...</td>\n",
       "      <td>CURATION_FINISHED</td>\n",
       "      <td>[Alisha, Fabian]</td>\n",
       "      <td>[annotator:curation layer:Policydesigncharacte...</td>\n",
       "      <td>[]</td>\n",
       "      <td></td>\n",
       "      <td></td>\n",
       "      <td>[]</td>\n",
       "      <td>[annotator:Alisha layer:Policydesigncharacteri...</td>\n",
       "      <td>[annotator:Fabian layer:Policydesigncharacteri...</td>\n",
       "      <td>0.425532</td>\n",
       "    </tr>\n",
       "    <tr>\n",
       "      <th>EU_32019L0944_Title_0_Chapter_6_Section_3_Article_47</th>\n",
       "      <td></td>\n",
       "      <td>article 47\\r\\nindependence of the transmission...</td>\n",
       "      <td>[start:0 stop:7 text:article tag_count:0, star...</td>\n",
       "      <td>CURATION_FINISHED</td>\n",
       "      <td>[Alisha, Onerva]</td>\n",
       "      <td>[annotator:curation layer:Instrumenttypes type...</td>\n",
       "      <td>[annotator:Onerva layer:Instrumenttypes type:I...</td>\n",
       "      <td></td>\n",
       "      <td></td>\n",
       "      <td></td>\n",
       "      <td>[annotator:Alisha layer:Instrumenttypes type:I...</td>\n",
       "      <td></td>\n",
       "      <td>0.226087</td>\n",
       "    </tr>\n",
       "    <tr>\n",
       "      <th>EU_32019R0631_Title_0_Chapter_0_Section_0_Article_14</th>\n",
       "      <td></td>\n",
       "      <td>article 14\\r\\nadjustment of m0 and tm0 values\\...</td>\n",
       "      <td>[start:0 stop:7 text:article tag_count:0, star...</td>\n",
       "      <td>CURATION_FINISHED</td>\n",
       "      <td>[Onerva, Fabian]</td>\n",
       "      <td>[annotator:curation layer:Instrumenttypes type...</td>\n",
       "      <td>[annotator:Onerva layer:Instrumenttypes type:I...</td>\n",
       "      <td></td>\n",
       "      <td></td>\n",
       "      <td></td>\n",
       "      <td></td>\n",
       "      <td>[annotator:Fabian layer:Policydesigncharacteri...</td>\n",
       "      <td>0.451613</td>\n",
       "    </tr>\n",
       "  </tbody>\n",
       "</table>\n",
       "</div>"
      ],
      "text/plain": [
       "                                                   Policy  \\\n",
       "EU_32006L0032_Title_0_Chapter_1_Section_0_Artic...          \n",
       "EU_32006L0066_Title_0_Chapter_0_Section_0_Artic...          \n",
       "EU_32009L0028_Title_0_Chapter_0_Section_0_Artic...          \n",
       "EU_32019L0944_Title_0_Chapter_6_Section_3_Artic...          \n",
       "EU_32019R0631_Title_0_Chapter_0_Section_0_Artic...          \n",
       "\n",
       "                                                                                                 Text  \\\n",
       "EU_32006L0032_Title_0_Chapter_1_Section_0_Artic...  article 3\\r\\ndefinitions\\r\\nfor the purposes o...   \n",
       "EU_32006L0066_Title_0_Chapter_0_Section_0_Artic...  article 25\\r\\npenalties\\r\\nmember states shall...   \n",
       "EU_32009L0028_Title_0_Chapter_0_Section_0_Artic...  article 7\\r\\njoint projects between member sta...   \n",
       "EU_32019L0944_Title_0_Chapter_6_Section_3_Artic...  article 47\\r\\nindependence of the transmission...   \n",
       "EU_32019R0631_Title_0_Chapter_0_Section_0_Artic...  article 14\\r\\nadjustment of m0 and tm0 values\\...   \n",
       "\n",
       "                                                                                               Tokens  \\\n",
       "EU_32006L0032_Title_0_Chapter_1_Section_0_Artic...  [start:0 stop:7 text:article tag_count:0, star...   \n",
       "EU_32006L0066_Title_0_Chapter_0_Section_0_Artic...  [start:0 stop:7 text:article tag_count:0, star...   \n",
       "EU_32009L0028_Title_0_Chapter_0_Section_0_Artic...  [start:0 stop:7 text:article tag_count:0, star...   \n",
       "EU_32019L0944_Title_0_Chapter_6_Section_3_Artic...  [start:0 stop:7 text:article tag_count:0, star...   \n",
       "EU_32019R0631_Title_0_Chapter_0_Section_0_Artic...  [start:0 stop:7 text:article tag_count:0, star...   \n",
       "\n",
       "                                                        Article_State  \\\n",
       "EU_32006L0032_Title_0_Chapter_1_Section_0_Artic...  CURATION_FINISHED   \n",
       "EU_32006L0066_Title_0_Chapter_0_Section_0_Artic...  CURATION_FINISHED   \n",
       "EU_32009L0028_Title_0_Chapter_0_Section_0_Artic...  CURATION_FINISHED   \n",
       "EU_32019L0944_Title_0_Chapter_6_Section_3_Artic...  CURATION_FINISHED   \n",
       "EU_32019R0631_Title_0_Chapter_0_Section_0_Artic...  CURATION_FINISHED   \n",
       "\n",
       "                                                   Finished_Annotators  \\\n",
       "EU_32006L0032_Title_0_Chapter_1_Section_0_Artic...     [Fride, Onerva]   \n",
       "EU_32006L0066_Title_0_Chapter_0_Section_0_Artic...     [Fride, Onerva]   \n",
       "EU_32009L0028_Title_0_Chapter_0_Section_0_Artic...    [Alisha, Fabian]   \n",
       "EU_32019L0944_Title_0_Chapter_6_Section_3_Artic...    [Alisha, Onerva]   \n",
       "EU_32019R0631_Title_0_Chapter_0_Section_0_Artic...    [Onerva, Fabian]   \n",
       "\n",
       "                                                                                             Curation  \\\n",
       "EU_32006L0032_Title_0_Chapter_1_Section_0_Artic...  [annotator:curation layer:Instrumenttypes type...   \n",
       "EU_32006L0066_Title_0_Chapter_0_Section_0_Artic...  [annotator:curation layer:Instrumenttypes type...   \n",
       "EU_32009L0028_Title_0_Chapter_0_Section_0_Artic...  [annotator:curation layer:Policydesigncharacte...   \n",
       "EU_32019L0944_Title_0_Chapter_6_Section_3_Artic...  [annotator:curation layer:Instrumenttypes type...   \n",
       "EU_32019R0631_Title_0_Chapter_0_Section_0_Artic...  [annotator:curation layer:Instrumenttypes type...   \n",
       "\n",
       "                                                                                               Onerva  \\\n",
       "EU_32006L0032_Title_0_Chapter_1_Section_0_Artic...  [annotator:Onerva layer:Instrumenttypes type:I...   \n",
       "EU_32006L0066_Title_0_Chapter_0_Section_0_Artic...  [annotator:Onerva layer:Instrumenttypes type:I...   \n",
       "EU_32009L0028_Title_0_Chapter_0_Section_0_Artic...                                                 []   \n",
       "EU_32019L0944_Title_0_Chapter_6_Section_3_Artic...  [annotator:Onerva layer:Instrumenttypes type:I...   \n",
       "EU_32019R0631_Title_0_Chapter_0_Section_0_Artic...  [annotator:Onerva layer:Instrumenttypes type:I...   \n",
       "\n",
       "                                                                                                Fride  \\\n",
       "EU_32006L0032_Title_0_Chapter_1_Section_0_Artic...  [annotator:Fride layer:Instrumenttypes type:In...   \n",
       "EU_32006L0066_Title_0_Chapter_0_Section_0_Artic...  [annotator:Fride layer:Instrumenttypes type:In...   \n",
       "EU_32009L0028_Title_0_Chapter_0_Section_0_Artic...                                                      \n",
       "EU_32019L0944_Title_0_Chapter_6_Section_3_Artic...                                                      \n",
       "EU_32019R0631_Title_0_Chapter_0_Section_0_Artic...                                                      \n",
       "\n",
       "                                                   Lynn Sebastian  \\\n",
       "EU_32006L0032_Title_0_Chapter_1_Section_0_Artic...                  \n",
       "EU_32006L0066_Title_0_Chapter_0_Section_0_Artic...   []             \n",
       "EU_32009L0028_Title_0_Chapter_0_Section_0_Artic...             []   \n",
       "EU_32019L0944_Title_0_Chapter_6_Section_3_Artic...                  \n",
       "EU_32019R0631_Title_0_Chapter_0_Section_0_Artic...                  \n",
       "\n",
       "                                                                                               Alisha  \\\n",
       "EU_32006L0032_Title_0_Chapter_1_Section_0_Artic...                                                      \n",
       "EU_32006L0066_Title_0_Chapter_0_Section_0_Artic...                                                      \n",
       "EU_32009L0028_Title_0_Chapter_0_Section_0_Artic...  [annotator:Alisha layer:Policydesigncharacteri...   \n",
       "EU_32019L0944_Title_0_Chapter_6_Section_3_Artic...  [annotator:Alisha layer:Instrumenttypes type:I...   \n",
       "EU_32019R0631_Title_0_Chapter_0_Section_0_Artic...                                                      \n",
       "\n",
       "                                                                                               Fabian  \\\n",
       "EU_32006L0032_Title_0_Chapter_1_Section_0_Artic...                                                      \n",
       "EU_32006L0066_Title_0_Chapter_0_Section_0_Artic...                                                      \n",
       "EU_32009L0028_Title_0_Chapter_0_Section_0_Artic...  [annotator:Fabian layer:Policydesigncharacteri...   \n",
       "EU_32019L0944_Title_0_Chapter_6_Section_3_Artic...                                                      \n",
       "EU_32019R0631_Title_0_Chapter_0_Section_0_Artic...  [annotator:Fabian layer:Policydesigncharacteri...   \n",
       "\n",
       "                                                    f1_heuristic_score  \n",
       "EU_32006L0032_Title_0_Chapter_1_Section_0_Artic...            0.566417  \n",
       "EU_32006L0066_Title_0_Chapter_0_Section_0_Artic...            0.740741  \n",
       "EU_32009L0028_Title_0_Chapter_0_Section_0_Artic...            0.425532  \n",
       "EU_32019L0944_Title_0_Chapter_6_Section_3_Artic...            0.226087  \n",
       "EU_32019R0631_Title_0_Chapter_0_Section_0_Artic...            0.451613  "
      ]
     },
     "execution_count": 5,
     "metadata": {},
     "output_type": "execute_result"
    }
   ],
   "source": [
    "test_evaluator.df.head()"
   ]
  },
  {
   "cell_type": "markdown",
   "metadata": {},
   "source": [
    "## test where curation is finsihed but not 2 annotators"
   ]
  },
  {
   "cell_type": "code",
   "execution_count": 31,
   "metadata": {},
   "outputs": [
    {
     "data": {
      "text/html": [
       "<div>\n",
       "<style scoped>\n",
       "    .dataframe tbody tr th:only-of-type {\n",
       "        vertical-align: middle;\n",
       "    }\n",
       "\n",
       "    .dataframe tbody tr th {\n",
       "        vertical-align: top;\n",
       "    }\n",
       "\n",
       "    .dataframe thead th {\n",
       "        text-align: right;\n",
       "    }\n",
       "</style>\n",
       "<table border=\"1\" class=\"dataframe\">\n",
       "  <thead>\n",
       "    <tr style=\"text-align: right;\">\n",
       "      <th></th>\n",
       "      <th>Policy</th>\n",
       "      <th>Text</th>\n",
       "      <th>Tokens</th>\n",
       "      <th>Article_State</th>\n",
       "      <th>Finished_Annotators</th>\n",
       "      <th>Curation</th>\n",
       "      <th>Onerva</th>\n",
       "      <th>Fride</th>\n",
       "      <th>Lynn</th>\n",
       "      <th>Sebastian</th>\n",
       "      <th>Alisha</th>\n",
       "      <th>Fabian</th>\n",
       "      <th>f1_exact_score</th>\n",
       "      <th>f1_tokenwise_score</th>\n",
       "      <th>f1_partial_score</th>\n",
       "      <th>f1_heuristic_score</th>\n",
       "    </tr>\n",
       "  </thead>\n",
       "  <tbody>\n",
       "    <tr>\n",
       "      <th>EU_32009L0028_Whereas</th>\n",
       "      <td></td>\n",
       "      <td>whereas:\\r\\n(1)\\r\\nthe control of european ene...</td>\n",
       "      <td>[start:0 stop:7 text:whereas tag_count:0, star...</td>\n",
       "      <td>CURATION_FINISHED</td>\n",
       "      <td>[]</td>\n",
       "      <td></td>\n",
       "      <td>[]</td>\n",
       "      <td></td>\n",
       "      <td></td>\n",
       "      <td>[]</td>\n",
       "      <td>[]</td>\n",
       "      <td>[]</td>\n",
       "      <td>NaN</td>\n",
       "      <td>NaN</td>\n",
       "      <td>NaN</td>\n",
       "      <td>NaN</td>\n",
       "    </tr>\n",
       "    <tr>\n",
       "      <th>EU_32006L0066_Whereas</th>\n",
       "      <td></td>\n",
       "      <td>whereas:\\r\\n(1)\\r\\nit is desirable to harmonis...</td>\n",
       "      <td>[start:0 stop:7 text:whereas tag_count:0, star...</td>\n",
       "      <td>CURATION_FINISHED</td>\n",
       "      <td>[Onerva]</td>\n",
       "      <td>[]</td>\n",
       "      <td>[]</td>\n",
       "      <td>[]</td>\n",
       "      <td>[]</td>\n",
       "      <td></td>\n",
       "      <td></td>\n",
       "      <td></td>\n",
       "      <td>NaN</td>\n",
       "      <td>NaN</td>\n",
       "      <td>NaN</td>\n",
       "      <td>NaN</td>\n",
       "    </tr>\n",
       "  </tbody>\n",
       "</table>\n",
       "</div>"
      ],
      "text/plain": [
       "                      Policy  \\\n",
       "EU_32009L0028_Whereas          \n",
       "EU_32006L0066_Whereas          \n",
       "\n",
       "                                                                    Text  \\\n",
       "EU_32009L0028_Whereas  whereas:\\r\\n(1)\\r\\nthe control of european ene...   \n",
       "EU_32006L0066_Whereas  whereas:\\r\\n(1)\\r\\nit is desirable to harmonis...   \n",
       "\n",
       "                                                                  Tokens  \\\n",
       "EU_32009L0028_Whereas  [start:0 stop:7 text:whereas tag_count:0, star...   \n",
       "EU_32006L0066_Whereas  [start:0 stop:7 text:whereas tag_count:0, star...   \n",
       "\n",
       "                           Article_State Finished_Annotators Curation Onerva  \\\n",
       "EU_32009L0028_Whereas  CURATION_FINISHED                  []              []   \n",
       "EU_32006L0066_Whereas  CURATION_FINISHED            [Onerva]       []     []   \n",
       "\n",
       "                      Fride Lynn Sebastian Alisha Fabian  f1_exact_score  \\\n",
       "EU_32009L0028_Whereas                   []     []     []             NaN   \n",
       "EU_32006L0066_Whereas    []   []                                     NaN   \n",
       "\n",
       "                       f1_tokenwise_score  f1_partial_score  \\\n",
       "EU_32009L0028_Whereas                 NaN               NaN   \n",
       "EU_32006L0066_Whereas                 NaN               NaN   \n",
       "\n",
       "                       f1_heuristic_score  \n",
       "EU_32009L0028_Whereas                 NaN  \n",
       "EU_32006L0066_Whereas                 NaN  "
      ]
     },
     "execution_count": 31,
     "metadata": {},
     "output_type": "execute_result"
    }
   ],
   "source": [
    "test_evaluator.df[test_evaluator.df.apply(lambda x: len(x['Finished_Annotators'])  < 2 and x['Article_State'] =='CURATION_FINISHED',axis=1)]"
   ]
  },
  {
   "cell_type": "code",
   "execution_count": null,
   "metadata": {},
   "outputs": [],
   "source": []
  },
  {
   "cell_type": "code",
   "execution_count": null,
   "metadata": {},
   "outputs": [],
   "source": []
  },
  {
   "cell_type": "markdown",
   "metadata": {},
   "source": [
    "## Clean Dataframe and only keep the where Curation is finsihed"
   ]
  },
  {
   "cell_type": "code",
   "execution_count": 6,
   "metadata": {},
   "outputs": [],
   "source": [
    "test_evaluator.keep_only_finished_articles()"
   ]
  },
  {
   "cell_type": "code",
   "execution_count": 6,
   "metadata": {},
   "outputs": [
    {
     "data": {
      "text/html": [
       "<div>\n",
       "<style scoped>\n",
       "    .dataframe tbody tr th:only-of-type {\n",
       "        vertical-align: middle;\n",
       "    }\n",
       "\n",
       "    .dataframe tbody tr th {\n",
       "        vertical-align: top;\n",
       "    }\n",
       "\n",
       "    .dataframe thead th {\n",
       "        text-align: right;\n",
       "    }\n",
       "</style>\n",
       "<table border=\"1\" class=\"dataframe\">\n",
       "  <thead>\n",
       "    <tr style=\"text-align: right;\">\n",
       "      <th></th>\n",
       "      <th>Policy</th>\n",
       "      <th>Text</th>\n",
       "      <th>Tokens</th>\n",
       "      <th>Article_State</th>\n",
       "      <th>Finished_Annotators</th>\n",
       "      <th>Curation</th>\n",
       "      <th>Onerva</th>\n",
       "      <th>Fride</th>\n",
       "      <th>Lynn</th>\n",
       "      <th>Sebastian</th>\n",
       "      <th>Alisha</th>\n",
       "      <th>Fabian</th>\n",
       "      <th>f1_exact_score</th>\n",
       "      <th>f1_tokenwise_score</th>\n",
       "      <th>f1_partial_score</th>\n",
       "      <th>f1_heuristic_score</th>\n",
       "    </tr>\n",
       "  </thead>\n",
       "  <tbody>\n",
       "    <tr>\n",
       "      <th>EU_32006L0032_Title_0_Chapter_1_Section_0_Article_03</th>\n",
       "      <td></td>\n",
       "      <td>article 3\\r\\ndefinitions\\r\\nfor the purposes o...</td>\n",
       "      <td>[start:0 stop:7 text:article tag_count:0, star...</td>\n",
       "      <td>CURATION_FINISHED</td>\n",
       "      <td>[Fride, Onerva]</td>\n",
       "      <td>[annotator:curation layer:Instrumenttypes type...</td>\n",
       "      <td>[annotator:Onerva layer:Instrumenttypes type:I...</td>\n",
       "      <td>[annotator:Fride layer:Instrumenttypes type:In...</td>\n",
       "      <td></td>\n",
       "      <td></td>\n",
       "      <td></td>\n",
       "      <td></td>\n",
       "      <td>0.373418</td>\n",
       "      <td>0.415289</td>\n",
       "      <td>0.544304</td>\n",
       "      <td>0.566417</td>\n",
       "    </tr>\n",
       "    <tr>\n",
       "      <th>EU_32006L0066_Title_0_Chapter_0_Section_0_Article_25</th>\n",
       "      <td></td>\n",
       "      <td>article 25\\r\\npenalties\\r\\nmember states shall...</td>\n",
       "      <td>[start:0 stop:7 text:article tag_count:0, star...</td>\n",
       "      <td>CURATION_FINISHED</td>\n",
       "      <td>[Fride, Onerva]</td>\n",
       "      <td>[annotator:curation layer:Instrumenttypes type...</td>\n",
       "      <td>[annotator:Onerva layer:Instrumenttypes type:I...</td>\n",
       "      <td>[annotator:Fride layer:Instrumenttypes type:In...</td>\n",
       "      <td>[]</td>\n",
       "      <td></td>\n",
       "      <td></td>\n",
       "      <td></td>\n",
       "      <td>0.740741</td>\n",
       "      <td>0.625</td>\n",
       "      <td>0.740741</td>\n",
       "      <td>0.740741</td>\n",
       "    </tr>\n",
       "    <tr>\n",
       "      <th>EU_32009L0028_Title_0_Chapter_0_Section_0_Article_07</th>\n",
       "      <td></td>\n",
       "      <td>article 7\\r\\njoint projects between member sta...</td>\n",
       "      <td>[start:0 stop:7 text:article tag_count:0, star...</td>\n",
       "      <td>CURATION_FINISHED</td>\n",
       "      <td>[Alisha, Fabian]</td>\n",
       "      <td>[annotator:curation layer:Policydesigncharacte...</td>\n",
       "      <td>[]</td>\n",
       "      <td></td>\n",
       "      <td></td>\n",
       "      <td>[]</td>\n",
       "      <td>[annotator:Alisha layer:Policydesigncharacteri...</td>\n",
       "      <td>[annotator:Fabian layer:Policydesigncharacteri...</td>\n",
       "      <td>0.382979</td>\n",
       "      <td>0.345238</td>\n",
       "      <td>0.425532</td>\n",
       "      <td>0.425532</td>\n",
       "    </tr>\n",
       "    <tr>\n",
       "      <th>EU_32019L0944_Title_0_Chapter_6_Section_3_Article_47</th>\n",
       "      <td></td>\n",
       "      <td>article 47\\r\\nindependence of the transmission...</td>\n",
       "      <td>[start:0 stop:7 text:article tag_count:0, star...</td>\n",
       "      <td>CURATION_FINISHED</td>\n",
       "      <td>[Alisha, Onerva]</td>\n",
       "      <td>[annotator:curation layer:Instrumenttypes type...</td>\n",
       "      <td>[annotator:Onerva layer:Instrumenttypes type:I...</td>\n",
       "      <td></td>\n",
       "      <td></td>\n",
       "      <td></td>\n",
       "      <td>[annotator:Alisha layer:Instrumenttypes type:I...</td>\n",
       "      <td></td>\n",
       "      <td>0.191304</td>\n",
       "      <td>0.176783</td>\n",
       "      <td>0.226087</td>\n",
       "      <td>0.226087</td>\n",
       "    </tr>\n",
       "    <tr>\n",
       "      <th>EU_32019R0631_Title_0_Chapter_0_Section_0_Article_14</th>\n",
       "      <td></td>\n",
       "      <td>article 14\\r\\nadjustment of m0 and tm0 values\\...</td>\n",
       "      <td>[start:0 stop:7 text:article tag_count:0, star...</td>\n",
       "      <td>CURATION_FINISHED</td>\n",
       "      <td>[Onerva, Fabian]</td>\n",
       "      <td>[annotator:curation layer:Instrumenttypes type...</td>\n",
       "      <td>[annotator:Onerva layer:Instrumenttypes type:I...</td>\n",
       "      <td></td>\n",
       "      <td></td>\n",
       "      <td></td>\n",
       "      <td></td>\n",
       "      <td>[annotator:Fabian layer:Policydesigncharacteri...</td>\n",
       "      <td>0.0</td>\n",
       "      <td>0.344725</td>\n",
       "      <td>0.451613</td>\n",
       "      <td>0.451613</td>\n",
       "    </tr>\n",
       "  </tbody>\n",
       "</table>\n",
       "</div>"
      ],
      "text/plain": [
       "                                                   Policy  \\\n",
       "EU_32006L0032_Title_0_Chapter_1_Section_0_Artic...          \n",
       "EU_32006L0066_Title_0_Chapter_0_Section_0_Artic...          \n",
       "EU_32009L0028_Title_0_Chapter_0_Section_0_Artic...          \n",
       "EU_32019L0944_Title_0_Chapter_6_Section_3_Artic...          \n",
       "EU_32019R0631_Title_0_Chapter_0_Section_0_Artic...          \n",
       "\n",
       "                                                                                                 Text  \\\n",
       "EU_32006L0032_Title_0_Chapter_1_Section_0_Artic...  article 3\\r\\ndefinitions\\r\\nfor the purposes o...   \n",
       "EU_32006L0066_Title_0_Chapter_0_Section_0_Artic...  article 25\\r\\npenalties\\r\\nmember states shall...   \n",
       "EU_32009L0028_Title_0_Chapter_0_Section_0_Artic...  article 7\\r\\njoint projects between member sta...   \n",
       "EU_32019L0944_Title_0_Chapter_6_Section_3_Artic...  article 47\\r\\nindependence of the transmission...   \n",
       "EU_32019R0631_Title_0_Chapter_0_Section_0_Artic...  article 14\\r\\nadjustment of m0 and tm0 values\\...   \n",
       "\n",
       "                                                                                               Tokens  \\\n",
       "EU_32006L0032_Title_0_Chapter_1_Section_0_Artic...  [start:0 stop:7 text:article tag_count:0, star...   \n",
       "EU_32006L0066_Title_0_Chapter_0_Section_0_Artic...  [start:0 stop:7 text:article tag_count:0, star...   \n",
       "EU_32009L0028_Title_0_Chapter_0_Section_0_Artic...  [start:0 stop:7 text:article tag_count:0, star...   \n",
       "EU_32019L0944_Title_0_Chapter_6_Section_3_Artic...  [start:0 stop:7 text:article tag_count:0, star...   \n",
       "EU_32019R0631_Title_0_Chapter_0_Section_0_Artic...  [start:0 stop:7 text:article tag_count:0, star...   \n",
       "\n",
       "                                                        Article_State  \\\n",
       "EU_32006L0032_Title_0_Chapter_1_Section_0_Artic...  CURATION_FINISHED   \n",
       "EU_32006L0066_Title_0_Chapter_0_Section_0_Artic...  CURATION_FINISHED   \n",
       "EU_32009L0028_Title_0_Chapter_0_Section_0_Artic...  CURATION_FINISHED   \n",
       "EU_32019L0944_Title_0_Chapter_6_Section_3_Artic...  CURATION_FINISHED   \n",
       "EU_32019R0631_Title_0_Chapter_0_Section_0_Artic...  CURATION_FINISHED   \n",
       "\n",
       "                                                   Finished_Annotators  \\\n",
       "EU_32006L0032_Title_0_Chapter_1_Section_0_Artic...     [Fride, Onerva]   \n",
       "EU_32006L0066_Title_0_Chapter_0_Section_0_Artic...     [Fride, Onerva]   \n",
       "EU_32009L0028_Title_0_Chapter_0_Section_0_Artic...    [Alisha, Fabian]   \n",
       "EU_32019L0944_Title_0_Chapter_6_Section_3_Artic...    [Alisha, Onerva]   \n",
       "EU_32019R0631_Title_0_Chapter_0_Section_0_Artic...    [Onerva, Fabian]   \n",
       "\n",
       "                                                                                             Curation  \\\n",
       "EU_32006L0032_Title_0_Chapter_1_Section_0_Artic...  [annotator:curation layer:Instrumenttypes type...   \n",
       "EU_32006L0066_Title_0_Chapter_0_Section_0_Artic...  [annotator:curation layer:Instrumenttypes type...   \n",
       "EU_32009L0028_Title_0_Chapter_0_Section_0_Artic...  [annotator:curation layer:Policydesigncharacte...   \n",
       "EU_32019L0944_Title_0_Chapter_6_Section_3_Artic...  [annotator:curation layer:Instrumenttypes type...   \n",
       "EU_32019R0631_Title_0_Chapter_0_Section_0_Artic...  [annotator:curation layer:Instrumenttypes type...   \n",
       "\n",
       "                                                                                               Onerva  \\\n",
       "EU_32006L0032_Title_0_Chapter_1_Section_0_Artic...  [annotator:Onerva layer:Instrumenttypes type:I...   \n",
       "EU_32006L0066_Title_0_Chapter_0_Section_0_Artic...  [annotator:Onerva layer:Instrumenttypes type:I...   \n",
       "EU_32009L0028_Title_0_Chapter_0_Section_0_Artic...                                                 []   \n",
       "EU_32019L0944_Title_0_Chapter_6_Section_3_Artic...  [annotator:Onerva layer:Instrumenttypes type:I...   \n",
       "EU_32019R0631_Title_0_Chapter_0_Section_0_Artic...  [annotator:Onerva layer:Instrumenttypes type:I...   \n",
       "\n",
       "                                                                                                Fride  \\\n",
       "EU_32006L0032_Title_0_Chapter_1_Section_0_Artic...  [annotator:Fride layer:Instrumenttypes type:In...   \n",
       "EU_32006L0066_Title_0_Chapter_0_Section_0_Artic...  [annotator:Fride layer:Instrumenttypes type:In...   \n",
       "EU_32009L0028_Title_0_Chapter_0_Section_0_Artic...                                                      \n",
       "EU_32019L0944_Title_0_Chapter_6_Section_3_Artic...                                                      \n",
       "EU_32019R0631_Title_0_Chapter_0_Section_0_Artic...                                                      \n",
       "\n",
       "                                                   Lynn Sebastian  \\\n",
       "EU_32006L0032_Title_0_Chapter_1_Section_0_Artic...                  \n",
       "EU_32006L0066_Title_0_Chapter_0_Section_0_Artic...   []             \n",
       "EU_32009L0028_Title_0_Chapter_0_Section_0_Artic...             []   \n",
       "EU_32019L0944_Title_0_Chapter_6_Section_3_Artic...                  \n",
       "EU_32019R0631_Title_0_Chapter_0_Section_0_Artic...                  \n",
       "\n",
       "                                                                                               Alisha  \\\n",
       "EU_32006L0032_Title_0_Chapter_1_Section_0_Artic...                                                      \n",
       "EU_32006L0066_Title_0_Chapter_0_Section_0_Artic...                                                      \n",
       "EU_32009L0028_Title_0_Chapter_0_Section_0_Artic...  [annotator:Alisha layer:Policydesigncharacteri...   \n",
       "EU_32019L0944_Title_0_Chapter_6_Section_3_Artic...  [annotator:Alisha layer:Instrumenttypes type:I...   \n",
       "EU_32019R0631_Title_0_Chapter_0_Section_0_Artic...                                                      \n",
       "\n",
       "                                                                                               Fabian  \\\n",
       "EU_32006L0032_Title_0_Chapter_1_Section_0_Artic...                                                      \n",
       "EU_32006L0066_Title_0_Chapter_0_Section_0_Artic...                                                      \n",
       "EU_32009L0028_Title_0_Chapter_0_Section_0_Artic...  [annotator:Fabian layer:Policydesigncharacteri...   \n",
       "EU_32019L0944_Title_0_Chapter_6_Section_3_Artic...                                                      \n",
       "EU_32019R0631_Title_0_Chapter_0_Section_0_Artic...  [annotator:Fabian layer:Policydesigncharacteri...   \n",
       "\n",
       "                                                   f1_exact_score  \\\n",
       "EU_32006L0032_Title_0_Chapter_1_Section_0_Artic...       0.373418   \n",
       "EU_32006L0066_Title_0_Chapter_0_Section_0_Artic...       0.740741   \n",
       "EU_32009L0028_Title_0_Chapter_0_Section_0_Artic...       0.382979   \n",
       "EU_32019L0944_Title_0_Chapter_6_Section_3_Artic...       0.191304   \n",
       "EU_32019R0631_Title_0_Chapter_0_Section_0_Artic...            0.0   \n",
       "\n",
       "                                                   f1_tokenwise_score  \\\n",
       "EU_32006L0032_Title_0_Chapter_1_Section_0_Artic...           0.415289   \n",
       "EU_32006L0066_Title_0_Chapter_0_Section_0_Artic...              0.625   \n",
       "EU_32009L0028_Title_0_Chapter_0_Section_0_Artic...           0.345238   \n",
       "EU_32019L0944_Title_0_Chapter_6_Section_3_Artic...           0.176783   \n",
       "EU_32019R0631_Title_0_Chapter_0_Section_0_Artic...           0.344725   \n",
       "\n",
       "                                                   f1_partial_score  \\\n",
       "EU_32006L0032_Title_0_Chapter_1_Section_0_Artic...         0.544304   \n",
       "EU_32006L0066_Title_0_Chapter_0_Section_0_Artic...         0.740741   \n",
       "EU_32009L0028_Title_0_Chapter_0_Section_0_Artic...         0.425532   \n",
       "EU_32019L0944_Title_0_Chapter_6_Section_3_Artic...         0.226087   \n",
       "EU_32019R0631_Title_0_Chapter_0_Section_0_Artic...         0.451613   \n",
       "\n",
       "                                                   f1_heuristic_score  \n",
       "EU_32006L0032_Title_0_Chapter_1_Section_0_Artic...           0.566417  \n",
       "EU_32006L0066_Title_0_Chapter_0_Section_0_Artic...           0.740741  \n",
       "EU_32009L0028_Title_0_Chapter_0_Section_0_Artic...           0.425532  \n",
       "EU_32019L0944_Title_0_Chapter_6_Section_3_Artic...           0.226087  \n",
       "EU_32019R0631_Title_0_Chapter_0_Section_0_Artic...           0.451613  "
      ]
     },
     "execution_count": 6,
     "metadata": {},
     "output_type": "execute_result"
    }
   ],
   "source": [
    "test_evaluator.df.head()"
   ]
  },
  {
   "cell_type": "code",
   "execution_count": 8,
   "metadata": {},
   "outputs": [
    {
     "data": {
      "text/html": [
       "<div>\n",
       "<style scoped>\n",
       "    .dataframe tbody tr th:only-of-type {\n",
       "        vertical-align: middle;\n",
       "    }\n",
       "\n",
       "    .dataframe tbody tr th {\n",
       "        vertical-align: top;\n",
       "    }\n",
       "\n",
       "    .dataframe thead th {\n",
       "        text-align: right;\n",
       "    }\n",
       "</style>\n",
       "<table border=\"1\" class=\"dataframe\">\n",
       "  <thead>\n",
       "    <tr style=\"text-align: right;\">\n",
       "      <th></th>\n",
       "      <th>Policy</th>\n",
       "      <th>Text</th>\n",
       "      <th>Tokens</th>\n",
       "      <th>Article_State</th>\n",
       "      <th>Finished_Annotators</th>\n",
       "      <th>Curation</th>\n",
       "      <th>Onerva</th>\n",
       "      <th>Fride</th>\n",
       "      <th>Lynn</th>\n",
       "      <th>Sebastian</th>\n",
       "      <th>Alisha</th>\n",
       "      <th>Fabian</th>\n",
       "      <th>f1_exact_score</th>\n",
       "      <th>f1_tokenwise_score</th>\n",
       "      <th>f1_partial_score</th>\n",
       "      <th>f1_heuristic_score</th>\n",
       "    </tr>\n",
       "  </thead>\n",
       "  <tbody>\n",
       "    <tr>\n",
       "      <th>EU_32014L0094_Title_0_Chapter_0_Section_0_Article_08</th>\n",
       "      <td></td>\n",
       "      <td>article 8\\r\\nexercise of the delegation\\r\\n1. ...</td>\n",
       "      <td>[start:0 stop:7 text:article tag_count:0, star...</td>\n",
       "      <td>ANNOTATION_IN_PROGRESS</td>\n",
       "      <td>[Fabian, Fride]</td>\n",
       "      <td></td>\n",
       "      <td></td>\n",
       "      <td>[annotator:Fride layer:Policydesigncharacteris...</td>\n",
       "      <td></td>\n",
       "      <td></td>\n",
       "      <td></td>\n",
       "      <td>[annotator:Fabian layer:Policydesigncharacteri...</td>\n",
       "      <td>0.260870</td>\n",
       "      <td>0.285714</td>\n",
       "      <td>0.304348</td>\n",
       "      <td>0.304348</td>\n",
       "    </tr>\n",
       "    <tr>\n",
       "      <th>EU_32014R0256_front</th>\n",
       "      <td></td>\n",
       "      <td>l 84/61\\r\\n\\r\\nregulation (eu) no 256/2014 of ...</td>\n",
       "      <td>[start:0 stop:1 text:l tag_count:0, start:2 st...</td>\n",
       "      <td>ANNOTATION_IN_PROGRESS</td>\n",
       "      <td>[Fride, Onerva]</td>\n",
       "      <td></td>\n",
       "      <td>[annotator:Onerva layer:Policydesigncharacteri...</td>\n",
       "      <td>[annotator:Fride layer:Policydesigncharacteris...</td>\n",
       "      <td></td>\n",
       "      <td></td>\n",
       "      <td></td>\n",
       "      <td></td>\n",
       "      <td>0.592593</td>\n",
       "      <td>0.520833</td>\n",
       "      <td>0.666667</td>\n",
       "      <td>0.666667</td>\n",
       "    </tr>\n",
       "    <tr>\n",
       "      <th>EU_32018L0844_Whereas</th>\n",
       "      <td></td>\n",
       "      <td>whereas:\\r\\n(1)\\r\\nthe union is committed to d...</td>\n",
       "      <td>[start:0 stop:7 text:whereas tag_count:0, star...</td>\n",
       "      <td>ANNOTATION_IN_PROGRESS</td>\n",
       "      <td>[]</td>\n",
       "      <td></td>\n",
       "      <td>[]</td>\n",
       "      <td></td>\n",
       "      <td></td>\n",
       "      <td></td>\n",
       "      <td></td>\n",
       "      <td>[]</td>\n",
       "      <td>NaN</td>\n",
       "      <td>NaN</td>\n",
       "      <td>NaN</td>\n",
       "      <td>NaN</td>\n",
       "    </tr>\n",
       "    <tr>\n",
       "      <th>EU_32014L0094_Whereas</th>\n",
       "      <td></td>\n",
       "      <td>whereas:\\r\\n(1)\\r\\nin its communication of 3 m...</td>\n",
       "      <td>[start:0 stop:7 text:whereas tag_count:0, star...</td>\n",
       "      <td>ANNOTATION_IN_PROGRESS</td>\n",
       "      <td>[]</td>\n",
       "      <td></td>\n",
       "      <td></td>\n",
       "      <td></td>\n",
       "      <td></td>\n",
       "      <td></td>\n",
       "      <td></td>\n",
       "      <td>[]</td>\n",
       "      <td>NaN</td>\n",
       "      <td>NaN</td>\n",
       "      <td>NaN</td>\n",
       "      <td>NaN</td>\n",
       "    </tr>\n",
       "    <tr>\n",
       "      <th>EU_32013R0174_Whereas</th>\n",
       "      <td></td>\n",
       "      <td>whereas:\\r\\n(1)\\r\\nregulation (ec) no 106/2008...</td>\n",
       "      <td>[start:0 stop:7 text:whereas tag_count:0, star...</td>\n",
       "      <td>ANNOTATION_IN_PROGRESS</td>\n",
       "      <td>[]</td>\n",
       "      <td></td>\n",
       "      <td></td>\n",
       "      <td>[]</td>\n",
       "      <td></td>\n",
       "      <td></td>\n",
       "      <td>[annotator:Alisha layer:Instrumenttypes type:I...</td>\n",
       "      <td></td>\n",
       "      <td>NaN</td>\n",
       "      <td>NaN</td>\n",
       "      <td>NaN</td>\n",
       "      <td>NaN</td>\n",
       "    </tr>\n",
       "  </tbody>\n",
       "</table>\n",
       "</div>"
      ],
      "text/plain": [
       "                                                   Policy  \\\n",
       "EU_32014L0094_Title_0_Chapter_0_Section_0_Artic...          \n",
       "EU_32014R0256_front                                         \n",
       "EU_32018L0844_Whereas                                       \n",
       "EU_32014L0094_Whereas                                       \n",
       "EU_32013R0174_Whereas                                       \n",
       "\n",
       "                                                                                                 Text  \\\n",
       "EU_32014L0094_Title_0_Chapter_0_Section_0_Artic...  article 8\\r\\nexercise of the delegation\\r\\n1. ...   \n",
       "EU_32014R0256_front                                 l 84/61\\r\\n\\r\\nregulation (eu) no 256/2014 of ...   \n",
       "EU_32018L0844_Whereas                               whereas:\\r\\n(1)\\r\\nthe union is committed to d...   \n",
       "EU_32014L0094_Whereas                               whereas:\\r\\n(1)\\r\\nin its communication of 3 m...   \n",
       "EU_32013R0174_Whereas                               whereas:\\r\\n(1)\\r\\nregulation (ec) no 106/2008...   \n",
       "\n",
       "                                                                                               Tokens  \\\n",
       "EU_32014L0094_Title_0_Chapter_0_Section_0_Artic...  [start:0 stop:7 text:article tag_count:0, star...   \n",
       "EU_32014R0256_front                                 [start:0 stop:1 text:l tag_count:0, start:2 st...   \n",
       "EU_32018L0844_Whereas                               [start:0 stop:7 text:whereas tag_count:0, star...   \n",
       "EU_32014L0094_Whereas                               [start:0 stop:7 text:whereas tag_count:0, star...   \n",
       "EU_32013R0174_Whereas                               [start:0 stop:7 text:whereas tag_count:0, star...   \n",
       "\n",
       "                                                             Article_State  \\\n",
       "EU_32014L0094_Title_0_Chapter_0_Section_0_Artic...  ANNOTATION_IN_PROGRESS   \n",
       "EU_32014R0256_front                                 ANNOTATION_IN_PROGRESS   \n",
       "EU_32018L0844_Whereas                               ANNOTATION_IN_PROGRESS   \n",
       "EU_32014L0094_Whereas                               ANNOTATION_IN_PROGRESS   \n",
       "EU_32013R0174_Whereas                               ANNOTATION_IN_PROGRESS   \n",
       "\n",
       "                                                   Finished_Annotators  \\\n",
       "EU_32014L0094_Title_0_Chapter_0_Section_0_Artic...     [Fabian, Fride]   \n",
       "EU_32014R0256_front                                    [Fride, Onerva]   \n",
       "EU_32018L0844_Whereas                                               []   \n",
       "EU_32014L0094_Whereas                                               []   \n",
       "EU_32013R0174_Whereas                                               []   \n",
       "\n",
       "                                                   Curation  \\\n",
       "EU_32014L0094_Title_0_Chapter_0_Section_0_Artic...            \n",
       "EU_32014R0256_front                                           \n",
       "EU_32018L0844_Whereas                                         \n",
       "EU_32014L0094_Whereas                                         \n",
       "EU_32013R0174_Whereas                                         \n",
       "\n",
       "                                                                                               Onerva  \\\n",
       "EU_32014L0094_Title_0_Chapter_0_Section_0_Artic...                                                      \n",
       "EU_32014R0256_front                                 [annotator:Onerva layer:Policydesigncharacteri...   \n",
       "EU_32018L0844_Whereas                                                                              []   \n",
       "EU_32014L0094_Whereas                                                                                   \n",
       "EU_32013R0174_Whereas                                                                                   \n",
       "\n",
       "                                                                                                Fride  \\\n",
       "EU_32014L0094_Title_0_Chapter_0_Section_0_Artic...  [annotator:Fride layer:Policydesigncharacteris...   \n",
       "EU_32014R0256_front                                 [annotator:Fride layer:Policydesigncharacteris...   \n",
       "EU_32018L0844_Whereas                                                                                   \n",
       "EU_32014L0094_Whereas                                                                                   \n",
       "EU_32013R0174_Whereas                                                                              []   \n",
       "\n",
       "                                                   Lynn Sebastian  \\\n",
       "EU_32014L0094_Title_0_Chapter_0_Section_0_Artic...                  \n",
       "EU_32014R0256_front                                                 \n",
       "EU_32018L0844_Whereas                                               \n",
       "EU_32014L0094_Whereas                                               \n",
       "EU_32013R0174_Whereas                                               \n",
       "\n",
       "                                                                                               Alisha  \\\n",
       "EU_32014L0094_Title_0_Chapter_0_Section_0_Artic...                                                      \n",
       "EU_32014R0256_front                                                                                     \n",
       "EU_32018L0844_Whereas                                                                                   \n",
       "EU_32014L0094_Whereas                                                                                   \n",
       "EU_32013R0174_Whereas                               [annotator:Alisha layer:Instrumenttypes type:I...   \n",
       "\n",
       "                                                                                               Fabian  \\\n",
       "EU_32014L0094_Title_0_Chapter_0_Section_0_Artic...  [annotator:Fabian layer:Policydesigncharacteri...   \n",
       "EU_32014R0256_front                                                                                     \n",
       "EU_32018L0844_Whereas                                                                              []   \n",
       "EU_32014L0094_Whereas                                                                              []   \n",
       "EU_32013R0174_Whereas                                                                                   \n",
       "\n",
       "                                                    f1_exact_score  \\\n",
       "EU_32014L0094_Title_0_Chapter_0_Section_0_Artic...        0.260870   \n",
       "EU_32014R0256_front                                       0.592593   \n",
       "EU_32018L0844_Whereas                                          NaN   \n",
       "EU_32014L0094_Whereas                                          NaN   \n",
       "EU_32013R0174_Whereas                                          NaN   \n",
       "\n",
       "                                                    f1_tokenwise_score  \\\n",
       "EU_32014L0094_Title_0_Chapter_0_Section_0_Artic...            0.285714   \n",
       "EU_32014R0256_front                                           0.520833   \n",
       "EU_32018L0844_Whereas                                              NaN   \n",
       "EU_32014L0094_Whereas                                              NaN   \n",
       "EU_32013R0174_Whereas                                              NaN   \n",
       "\n",
       "                                                    f1_partial_score  \\\n",
       "EU_32014L0094_Title_0_Chapter_0_Section_0_Artic...          0.304348   \n",
       "EU_32014R0256_front                                         0.666667   \n",
       "EU_32018L0844_Whereas                                            NaN   \n",
       "EU_32014L0094_Whereas                                            NaN   \n",
       "EU_32013R0174_Whereas                                            NaN   \n",
       "\n",
       "                                                    f1_heuristic_score  \n",
       "EU_32014L0094_Title_0_Chapter_0_Section_0_Artic...            0.304348  \n",
       "EU_32014R0256_front                                           0.666667  \n",
       "EU_32018L0844_Whereas                                              NaN  \n",
       "EU_32014L0094_Whereas                                              NaN  \n",
       "EU_32013R0174_Whereas                                              NaN  "
      ]
     },
     "execution_count": 8,
     "metadata": {},
     "output_type": "execute_result"
    }
   ],
   "source": [
    "test_evaluator.df_non_curated.head()"
   ]
  },
  {
   "cell_type": "code",
   "execution_count": 8,
   "metadata": {},
   "outputs": [],
   "source": [
    "test_evaluator.df = test_evaluator.df[test_evaluator.df['Article_State'] =='CURATION_FINISHED']"
   ]
  },
  {
   "cell_type": "code",
   "execution_count": 9,
   "metadata": {},
   "outputs": [
    {
     "data": {
      "text/html": [
       "<div>\n",
       "<style scoped>\n",
       "    .dataframe tbody tr th:only-of-type {\n",
       "        vertical-align: middle;\n",
       "    }\n",
       "\n",
       "    .dataframe tbody tr th {\n",
       "        vertical-align: top;\n",
       "    }\n",
       "\n",
       "    .dataframe thead th {\n",
       "        text-align: right;\n",
       "    }\n",
       "</style>\n",
       "<table border=\"1\" class=\"dataframe\">\n",
       "  <thead>\n",
       "    <tr style=\"text-align: right;\">\n",
       "      <th></th>\n",
       "      <th>Policy</th>\n",
       "      <th>Text</th>\n",
       "      <th>Tokens</th>\n",
       "      <th>Article_State</th>\n",
       "      <th>Finished_Annotators</th>\n",
       "      <th>Curation</th>\n",
       "      <th>Onerva</th>\n",
       "      <th>Fride</th>\n",
       "      <th>Lynn</th>\n",
       "      <th>Sebastian</th>\n",
       "      <th>Alisha</th>\n",
       "      <th>Fabian</th>\n",
       "      <th>f1_exact_score</th>\n",
       "      <th>f1_tokenwise_score</th>\n",
       "      <th>f1_partial_score</th>\n",
       "      <th>f1_heuristic_score</th>\n",
       "    </tr>\n",
       "  </thead>\n",
       "  <tbody>\n",
       "  </tbody>\n",
       "</table>\n",
       "</div>"
      ],
      "text/plain": [
       "Empty DataFrame\n",
       "Columns: [Policy, Text, Tokens, Article_State, Finished_Annotators, Curation, Onerva, Fride, Lynn, Sebastian, Alisha, Fabian, f1_exact_score, f1_tokenwise_score, f1_partial_score, f1_heuristic_score]\n",
       "Index: []"
      ]
     },
     "execution_count": 9,
     "metadata": {},
     "output_type": "execute_result"
    }
   ],
   "source": [
    "test_evaluator.df[test_evaluator.df['Article_State'] !='CURATION_FINISHED']"
   ]
  },
  {
   "cell_type": "code",
   "execution_count": null,
   "metadata": {},
   "outputs": [],
   "source": []
  },
  {
   "cell_type": "code",
   "execution_count": 16,
   "metadata": {},
   "outputs": [
    {
     "data": {
      "text/html": [
       "<div>\n",
       "<style scoped>\n",
       "    .dataframe tbody tr th:only-of-type {\n",
       "        vertical-align: middle;\n",
       "    }\n",
       "\n",
       "    .dataframe tbody tr th {\n",
       "        vertical-align: top;\n",
       "    }\n",
       "\n",
       "    .dataframe thead th {\n",
       "        text-align: right;\n",
       "    }\n",
       "</style>\n",
       "<table border=\"1\" class=\"dataframe\">\n",
       "  <thead>\n",
       "    <tr style=\"text-align: right;\">\n",
       "      <th></th>\n",
       "      <th>Policy</th>\n",
       "      <th>Text</th>\n",
       "      <th>Tokens</th>\n",
       "      <th>Article_State</th>\n",
       "      <th>Finished_Annotators</th>\n",
       "      <th>Curation</th>\n",
       "      <th>Onerva</th>\n",
       "      <th>Fride</th>\n",
       "      <th>Lynn</th>\n",
       "      <th>Sebastian</th>\n",
       "      <th>Alisha</th>\n",
       "      <th>Fabian</th>\n",
       "      <th>f1_exact_score</th>\n",
       "      <th>f1_tokenwise_score</th>\n",
       "      <th>f1_partial_score</th>\n",
       "      <th>f1_heuristic_score</th>\n",
       "    </tr>\n",
       "  </thead>\n",
       "  <tbody>\n",
       "    <tr>\n",
       "      <th>EU_32006L0032_Title_0_Chapter_1_Section_0_Article_03</th>\n",
       "      <td></td>\n",
       "      <td>article 3\\r\\ndefinitions\\r\\nfor the purposes o...</td>\n",
       "      <td>[start:0 stop:7 text:article tag_count:0, star...</td>\n",
       "      <td>CURATION_FINISHED</td>\n",
       "      <td>[Fride, Onerva]</td>\n",
       "      <td>[annotator:curation layer:Instrumenttypes type...</td>\n",
       "      <td>[annotator:Onerva layer:Instrumenttypes type:I...</td>\n",
       "      <td>[annotator:Fride layer:Instrumenttypes type:In...</td>\n",
       "      <td></td>\n",
       "      <td></td>\n",
       "      <td></td>\n",
       "      <td></td>\n",
       "      <td>0.373418</td>\n",
       "      <td>0.415289</td>\n",
       "      <td>0.544304</td>\n",
       "      <td>0.566417</td>\n",
       "    </tr>\n",
       "    <tr>\n",
       "      <th>EU_32006L0066_Title_0_Chapter_0_Section_0_Article_25</th>\n",
       "      <td></td>\n",
       "      <td>article 25\\r\\npenalties\\r\\nmember states shall...</td>\n",
       "      <td>[start:0 stop:7 text:article tag_count:0, star...</td>\n",
       "      <td>CURATION_FINISHED</td>\n",
       "      <td>[Fride, Onerva]</td>\n",
       "      <td>[annotator:curation layer:Instrumenttypes type...</td>\n",
       "      <td>[annotator:Onerva layer:Instrumenttypes type:I...</td>\n",
       "      <td>[annotator:Fride layer:Instrumenttypes type:In...</td>\n",
       "      <td>[]</td>\n",
       "      <td></td>\n",
       "      <td></td>\n",
       "      <td></td>\n",
       "      <td>0.740741</td>\n",
       "      <td>0.625000</td>\n",
       "      <td>0.740741</td>\n",
       "      <td>0.740741</td>\n",
       "    </tr>\n",
       "    <tr>\n",
       "      <th>EU_32018R1999_Title_0_Chapter_4_Section_1_Article_22</th>\n",
       "      <td></td>\n",
       "      <td>article 22\\r\\nintegrated reporting on energy s...</td>\n",
       "      <td>[start:0 stop:7 text:article tag_count:0, star...</td>\n",
       "      <td>CURATION_FINISHED</td>\n",
       "      <td>[Alisha, Fride]</td>\n",
       "      <td>[annotator:curation layer:Instrumenttypes type...</td>\n",
       "      <td></td>\n",
       "      <td>[annotator:Fride layer:Instrumenttypes type:In...</td>\n",
       "      <td></td>\n",
       "      <td></td>\n",
       "      <td>[annotator:Alisha layer:Instrumenttypes type:I...</td>\n",
       "      <td></td>\n",
       "      <td>0.227273</td>\n",
       "      <td>0.222222</td>\n",
       "      <td>0.363636</td>\n",
       "      <td>0.386047</td>\n",
       "    </tr>\n",
       "    <tr>\n",
       "      <th>EU_32018R1999_Title_0_Chapter_2_Section_0_Article_03</th>\n",
       "      <td></td>\n",
       "      <td>article 3\\r\\nintegrated national energy and cl...</td>\n",
       "      <td>[start:0 stop:7 text:article tag_count:0, star...</td>\n",
       "      <td>CURATION_FINISHED</td>\n",
       "      <td>[Alisha, Fride]</td>\n",
       "      <td>[annotator:curation layer:Instrumenttypes type...</td>\n",
       "      <td></td>\n",
       "      <td>[annotator:Fride layer:Instrumenttypes type:In...</td>\n",
       "      <td></td>\n",
       "      <td></td>\n",
       "      <td>[annotator:Alisha layer:Instrumenttypes type:I...</td>\n",
       "      <td></td>\n",
       "      <td>0.273973</td>\n",
       "      <td>0.330767</td>\n",
       "      <td>0.479452</td>\n",
       "      <td>0.506757</td>\n",
       "    </tr>\n",
       "    <tr>\n",
       "      <th>EU_32014L0094_Title_0_Chapter_0_Section_0_Article_08</th>\n",
       "      <td></td>\n",
       "      <td>article 8\\r\\nexercise of the delegation\\r\\n1. ...</td>\n",
       "      <td>[start:0 stop:7 text:article tag_count:0, star...</td>\n",
       "      <td>ANNOTATION_IN_PROGRESS</td>\n",
       "      <td>[Fabian, Fride]</td>\n",
       "      <td></td>\n",
       "      <td></td>\n",
       "      <td>[annotator:Fride layer:Policydesigncharacteris...</td>\n",
       "      <td></td>\n",
       "      <td></td>\n",
       "      <td></td>\n",
       "      <td>[annotator:Fabian layer:Policydesigncharacteri...</td>\n",
       "      <td>0.260870</td>\n",
       "      <td>0.285714</td>\n",
       "      <td>0.304348</td>\n",
       "      <td>0.304348</td>\n",
       "    </tr>\n",
       "    <tr>\n",
       "      <th>...</th>\n",
       "      <td>...</td>\n",
       "      <td>...</td>\n",
       "      <td>...</td>\n",
       "      <td>...</td>\n",
       "      <td>...</td>\n",
       "      <td>...</td>\n",
       "      <td>...</td>\n",
       "      <td>...</td>\n",
       "      <td>...</td>\n",
       "      <td>...</td>\n",
       "      <td>...</td>\n",
       "      <td>...</td>\n",
       "      <td>...</td>\n",
       "      <td>...</td>\n",
       "      <td>...</td>\n",
       "      <td>...</td>\n",
       "    </tr>\n",
       "    <tr>\n",
       "      <th>EU_32018R1999_Title_0_Chapter_6_Section_3_Article_40</th>\n",
       "      <td></td>\n",
       "      <td>article 40\\r\\nestablishment and operation of r...</td>\n",
       "      <td>[start:0 stop:7 text:article tag_count:0, star...</td>\n",
       "      <td>CURATION_FINISHED</td>\n",
       "      <td>[Alisha, Fride]</td>\n",
       "      <td>[annotator:curation layer:Instrumenttypes type...</td>\n",
       "      <td></td>\n",
       "      <td>[annotator:Fride layer:Policydesigncharacteris...</td>\n",
       "      <td></td>\n",
       "      <td></td>\n",
       "      <td>[annotator:Alisha layer:Instrumenttypes type:I...</td>\n",
       "      <td></td>\n",
       "      <td>0.418605</td>\n",
       "      <td>0.395833</td>\n",
       "      <td>0.465116</td>\n",
       "      <td>0.465116</td>\n",
       "    </tr>\n",
       "    <tr>\n",
       "      <th>EU_32014L0094_Title_0_Chapter_0_Section_0_Article_04</th>\n",
       "      <td></td>\n",
       "      <td>article 4\\r\\nelectricity supply for transport\\...</td>\n",
       "      <td>[start:0 stop:7 text:article tag_count:0, star...</td>\n",
       "      <td>CURATION_FINISHED</td>\n",
       "      <td>[Fabian, Fride]</td>\n",
       "      <td>[annotator:curation layer:Instrumenttypes type...</td>\n",
       "      <td></td>\n",
       "      <td>[annotator:Fride layer:Instrumenttypes type:In...</td>\n",
       "      <td></td>\n",
       "      <td></td>\n",
       "      <td></td>\n",
       "      <td>[annotator:Fabian layer:Instrumenttypes type:I...</td>\n",
       "      <td>0.336735</td>\n",
       "      <td>0.258516</td>\n",
       "      <td>0.367347</td>\n",
       "      <td>0.367347</td>\n",
       "    </tr>\n",
       "    <tr>\n",
       "      <th>EU_32018R1999_Title_0_Chapter_6_Section_3_Article_37</th>\n",
       "      <td></td>\n",
       "      <td>article 37\\r\\nunion and national inventory sys...</td>\n",
       "      <td>[start:0 stop:7 text:article tag_count:0, star...</td>\n",
       "      <td>CURATION_FINISHED</td>\n",
       "      <td>[Alisha, Fride]</td>\n",
       "      <td>[annotator:curation layer:Instrumenttypes type...</td>\n",
       "      <td></td>\n",
       "      <td>[annotator:Fride layer:Instrumenttypes type:In...</td>\n",
       "      <td></td>\n",
       "      <td></td>\n",
       "      <td>[annotator:Alisha layer:Instrumenttypes type:I...</td>\n",
       "      <td></td>\n",
       "      <td>0.271186</td>\n",
       "      <td>0.406905</td>\n",
       "      <td>0.559322</td>\n",
       "      <td>0.576149</td>\n",
       "    </tr>\n",
       "    <tr>\n",
       "      <th>EU_32006L0032_Title_0_Chapter_3_Section_0_Article_13</th>\n",
       "      <td></td>\n",
       "      <td>article 13\\r\\nmetering and informative billing...</td>\n",
       "      <td>[start:0 stop:7 text:article tag_count:0, star...</td>\n",
       "      <td>CURATION_FINISHED</td>\n",
       "      <td>[Fride, Onerva]</td>\n",
       "      <td>[annotator:curation layer:Instrumenttypes type...</td>\n",
       "      <td>[annotator:Onerva layer:Instrumenttypes type:I...</td>\n",
       "      <td>[annotator:Fride layer:Instrumenttypes type:In...</td>\n",
       "      <td></td>\n",
       "      <td></td>\n",
       "      <td></td>\n",
       "      <td></td>\n",
       "      <td>0.777778</td>\n",
       "      <td>0.666667</td>\n",
       "      <td>0.777778</td>\n",
       "      <td>0.777778</td>\n",
       "    </tr>\n",
       "    <tr>\n",
       "      <th>EU_32018L2001_Title_0_Chapter_0_Section_0_Article_33</th>\n",
       "      <td></td>\n",
       "      <td>article 33\\r\\nmonitoring by the commission\\r\\n...</td>\n",
       "      <td>[start:0 stop:7 text:article tag_count:0, star...</td>\n",
       "      <td>CURATION_FINISHED</td>\n",
       "      <td>[Fride, Onerva]</td>\n",
       "      <td>[annotator:curation layer:Instrumenttypes type...</td>\n",
       "      <td>[annotator:Onerva layer:Instrumenttypes type:I...</td>\n",
       "      <td>[annotator:Fride layer:Instrumenttypes type:In...</td>\n",
       "      <td></td>\n",
       "      <td></td>\n",
       "      <td></td>\n",
       "      <td></td>\n",
       "      <td>0.636364</td>\n",
       "      <td>0.541620</td>\n",
       "      <td>0.659091</td>\n",
       "      <td>0.659091</td>\n",
       "    </tr>\n",
       "  </tbody>\n",
       "</table>\n",
       "<p>249 rows × 16 columns</p>\n",
       "</div>"
      ],
      "text/plain": [
       "                                                   Policy  \\\n",
       "EU_32006L0032_Title_0_Chapter_1_Section_0_Artic...          \n",
       "EU_32006L0066_Title_0_Chapter_0_Section_0_Artic...          \n",
       "EU_32018R1999_Title_0_Chapter_4_Section_1_Artic...          \n",
       "EU_32018R1999_Title_0_Chapter_2_Section_0_Artic...          \n",
       "EU_32014L0094_Title_0_Chapter_0_Section_0_Artic...          \n",
       "...                                                   ...   \n",
       "EU_32018R1999_Title_0_Chapter_6_Section_3_Artic...          \n",
       "EU_32014L0094_Title_0_Chapter_0_Section_0_Artic...          \n",
       "EU_32018R1999_Title_0_Chapter_6_Section_3_Artic...          \n",
       "EU_32006L0032_Title_0_Chapter_3_Section_0_Artic...          \n",
       "EU_32018L2001_Title_0_Chapter_0_Section_0_Artic...          \n",
       "\n",
       "                                                                                                 Text  \\\n",
       "EU_32006L0032_Title_0_Chapter_1_Section_0_Artic...  article 3\\r\\ndefinitions\\r\\nfor the purposes o...   \n",
       "EU_32006L0066_Title_0_Chapter_0_Section_0_Artic...  article 25\\r\\npenalties\\r\\nmember states shall...   \n",
       "EU_32018R1999_Title_0_Chapter_4_Section_1_Artic...  article 22\\r\\nintegrated reporting on energy s...   \n",
       "EU_32018R1999_Title_0_Chapter_2_Section_0_Artic...  article 3\\r\\nintegrated national energy and cl...   \n",
       "EU_32014L0094_Title_0_Chapter_0_Section_0_Artic...  article 8\\r\\nexercise of the delegation\\r\\n1. ...   \n",
       "...                                                                                               ...   \n",
       "EU_32018R1999_Title_0_Chapter_6_Section_3_Artic...  article 40\\r\\nestablishment and operation of r...   \n",
       "EU_32014L0094_Title_0_Chapter_0_Section_0_Artic...  article 4\\r\\nelectricity supply for transport\\...   \n",
       "EU_32018R1999_Title_0_Chapter_6_Section_3_Artic...  article 37\\r\\nunion and national inventory sys...   \n",
       "EU_32006L0032_Title_0_Chapter_3_Section_0_Artic...  article 13\\r\\nmetering and informative billing...   \n",
       "EU_32018L2001_Title_0_Chapter_0_Section_0_Artic...  article 33\\r\\nmonitoring by the commission\\r\\n...   \n",
       "\n",
       "                                                                                               Tokens  \\\n",
       "EU_32006L0032_Title_0_Chapter_1_Section_0_Artic...  [start:0 stop:7 text:article tag_count:0, star...   \n",
       "EU_32006L0066_Title_0_Chapter_0_Section_0_Artic...  [start:0 stop:7 text:article tag_count:0, star...   \n",
       "EU_32018R1999_Title_0_Chapter_4_Section_1_Artic...  [start:0 stop:7 text:article tag_count:0, star...   \n",
       "EU_32018R1999_Title_0_Chapter_2_Section_0_Artic...  [start:0 stop:7 text:article tag_count:0, star...   \n",
       "EU_32014L0094_Title_0_Chapter_0_Section_0_Artic...  [start:0 stop:7 text:article tag_count:0, star...   \n",
       "...                                                                                               ...   \n",
       "EU_32018R1999_Title_0_Chapter_6_Section_3_Artic...  [start:0 stop:7 text:article tag_count:0, star...   \n",
       "EU_32014L0094_Title_0_Chapter_0_Section_0_Artic...  [start:0 stop:7 text:article tag_count:0, star...   \n",
       "EU_32018R1999_Title_0_Chapter_6_Section_3_Artic...  [start:0 stop:7 text:article tag_count:0, star...   \n",
       "EU_32006L0032_Title_0_Chapter_3_Section_0_Artic...  [start:0 stop:7 text:article tag_count:0, star...   \n",
       "EU_32018L2001_Title_0_Chapter_0_Section_0_Artic...  [start:0 stop:7 text:article tag_count:0, star...   \n",
       "\n",
       "                                                             Article_State  \\\n",
       "EU_32006L0032_Title_0_Chapter_1_Section_0_Artic...       CURATION_FINISHED   \n",
       "EU_32006L0066_Title_0_Chapter_0_Section_0_Artic...       CURATION_FINISHED   \n",
       "EU_32018R1999_Title_0_Chapter_4_Section_1_Artic...       CURATION_FINISHED   \n",
       "EU_32018R1999_Title_0_Chapter_2_Section_0_Artic...       CURATION_FINISHED   \n",
       "EU_32014L0094_Title_0_Chapter_0_Section_0_Artic...  ANNOTATION_IN_PROGRESS   \n",
       "...                                                                    ...   \n",
       "EU_32018R1999_Title_0_Chapter_6_Section_3_Artic...       CURATION_FINISHED   \n",
       "EU_32014L0094_Title_0_Chapter_0_Section_0_Artic...       CURATION_FINISHED   \n",
       "EU_32018R1999_Title_0_Chapter_6_Section_3_Artic...       CURATION_FINISHED   \n",
       "EU_32006L0032_Title_0_Chapter_3_Section_0_Artic...       CURATION_FINISHED   \n",
       "EU_32018L2001_Title_0_Chapter_0_Section_0_Artic...       CURATION_FINISHED   \n",
       "\n",
       "                                                   Finished_Annotators  \\\n",
       "EU_32006L0032_Title_0_Chapter_1_Section_0_Artic...     [Fride, Onerva]   \n",
       "EU_32006L0066_Title_0_Chapter_0_Section_0_Artic...     [Fride, Onerva]   \n",
       "EU_32018R1999_Title_0_Chapter_4_Section_1_Artic...     [Alisha, Fride]   \n",
       "EU_32018R1999_Title_0_Chapter_2_Section_0_Artic...     [Alisha, Fride]   \n",
       "EU_32014L0094_Title_0_Chapter_0_Section_0_Artic...     [Fabian, Fride]   \n",
       "...                                                                ...   \n",
       "EU_32018R1999_Title_0_Chapter_6_Section_3_Artic...     [Alisha, Fride]   \n",
       "EU_32014L0094_Title_0_Chapter_0_Section_0_Artic...     [Fabian, Fride]   \n",
       "EU_32018R1999_Title_0_Chapter_6_Section_3_Artic...     [Alisha, Fride]   \n",
       "EU_32006L0032_Title_0_Chapter_3_Section_0_Artic...     [Fride, Onerva]   \n",
       "EU_32018L2001_Title_0_Chapter_0_Section_0_Artic...     [Fride, Onerva]   \n",
       "\n",
       "                                                                                             Curation  \\\n",
       "EU_32006L0032_Title_0_Chapter_1_Section_0_Artic...  [annotator:curation layer:Instrumenttypes type...   \n",
       "EU_32006L0066_Title_0_Chapter_0_Section_0_Artic...  [annotator:curation layer:Instrumenttypes type...   \n",
       "EU_32018R1999_Title_0_Chapter_4_Section_1_Artic...  [annotator:curation layer:Instrumenttypes type...   \n",
       "EU_32018R1999_Title_0_Chapter_2_Section_0_Artic...  [annotator:curation layer:Instrumenttypes type...   \n",
       "EU_32014L0094_Title_0_Chapter_0_Section_0_Artic...                                                      \n",
       "...                                                                                               ...   \n",
       "EU_32018R1999_Title_0_Chapter_6_Section_3_Artic...  [annotator:curation layer:Instrumenttypes type...   \n",
       "EU_32014L0094_Title_0_Chapter_0_Section_0_Artic...  [annotator:curation layer:Instrumenttypes type...   \n",
       "EU_32018R1999_Title_0_Chapter_6_Section_3_Artic...  [annotator:curation layer:Instrumenttypes type...   \n",
       "EU_32006L0032_Title_0_Chapter_3_Section_0_Artic...  [annotator:curation layer:Instrumenttypes type...   \n",
       "EU_32018L2001_Title_0_Chapter_0_Section_0_Artic...  [annotator:curation layer:Instrumenttypes type...   \n",
       "\n",
       "                                                                                               Onerva  \\\n",
       "EU_32006L0032_Title_0_Chapter_1_Section_0_Artic...  [annotator:Onerva layer:Instrumenttypes type:I...   \n",
       "EU_32006L0066_Title_0_Chapter_0_Section_0_Artic...  [annotator:Onerva layer:Instrumenttypes type:I...   \n",
       "EU_32018R1999_Title_0_Chapter_4_Section_1_Artic...                                                      \n",
       "EU_32018R1999_Title_0_Chapter_2_Section_0_Artic...                                                      \n",
       "EU_32014L0094_Title_0_Chapter_0_Section_0_Artic...                                                      \n",
       "...                                                                                               ...   \n",
       "EU_32018R1999_Title_0_Chapter_6_Section_3_Artic...                                                      \n",
       "EU_32014L0094_Title_0_Chapter_0_Section_0_Artic...                                                      \n",
       "EU_32018R1999_Title_0_Chapter_6_Section_3_Artic...                                                      \n",
       "EU_32006L0032_Title_0_Chapter_3_Section_0_Artic...  [annotator:Onerva layer:Instrumenttypes type:I...   \n",
       "EU_32018L2001_Title_0_Chapter_0_Section_0_Artic...  [annotator:Onerva layer:Instrumenttypes type:I...   \n",
       "\n",
       "                                                                                                Fride  \\\n",
       "EU_32006L0032_Title_0_Chapter_1_Section_0_Artic...  [annotator:Fride layer:Instrumenttypes type:In...   \n",
       "EU_32006L0066_Title_0_Chapter_0_Section_0_Artic...  [annotator:Fride layer:Instrumenttypes type:In...   \n",
       "EU_32018R1999_Title_0_Chapter_4_Section_1_Artic...  [annotator:Fride layer:Instrumenttypes type:In...   \n",
       "EU_32018R1999_Title_0_Chapter_2_Section_0_Artic...  [annotator:Fride layer:Instrumenttypes type:In...   \n",
       "EU_32014L0094_Title_0_Chapter_0_Section_0_Artic...  [annotator:Fride layer:Policydesigncharacteris...   \n",
       "...                                                                                               ...   \n",
       "EU_32018R1999_Title_0_Chapter_6_Section_3_Artic...  [annotator:Fride layer:Policydesigncharacteris...   \n",
       "EU_32014L0094_Title_0_Chapter_0_Section_0_Artic...  [annotator:Fride layer:Instrumenttypes type:In...   \n",
       "EU_32018R1999_Title_0_Chapter_6_Section_3_Artic...  [annotator:Fride layer:Instrumenttypes type:In...   \n",
       "EU_32006L0032_Title_0_Chapter_3_Section_0_Artic...  [annotator:Fride layer:Instrumenttypes type:In...   \n",
       "EU_32018L2001_Title_0_Chapter_0_Section_0_Artic...  [annotator:Fride layer:Instrumenttypes type:In...   \n",
       "\n",
       "                                                   Lynn Sebastian  \\\n",
       "EU_32006L0032_Title_0_Chapter_1_Section_0_Artic...                  \n",
       "EU_32006L0066_Title_0_Chapter_0_Section_0_Artic...   []             \n",
       "EU_32018R1999_Title_0_Chapter_4_Section_1_Artic...                  \n",
       "EU_32018R1999_Title_0_Chapter_2_Section_0_Artic...                  \n",
       "EU_32014L0094_Title_0_Chapter_0_Section_0_Artic...                  \n",
       "...                                                 ...       ...   \n",
       "EU_32018R1999_Title_0_Chapter_6_Section_3_Artic...                  \n",
       "EU_32014L0094_Title_0_Chapter_0_Section_0_Artic...                  \n",
       "EU_32018R1999_Title_0_Chapter_6_Section_3_Artic...                  \n",
       "EU_32006L0032_Title_0_Chapter_3_Section_0_Artic...                  \n",
       "EU_32018L2001_Title_0_Chapter_0_Section_0_Artic...                  \n",
       "\n",
       "                                                                                               Alisha  \\\n",
       "EU_32006L0032_Title_0_Chapter_1_Section_0_Artic...                                                      \n",
       "EU_32006L0066_Title_0_Chapter_0_Section_0_Artic...                                                      \n",
       "EU_32018R1999_Title_0_Chapter_4_Section_1_Artic...  [annotator:Alisha layer:Instrumenttypes type:I...   \n",
       "EU_32018R1999_Title_0_Chapter_2_Section_0_Artic...  [annotator:Alisha layer:Instrumenttypes type:I...   \n",
       "EU_32014L0094_Title_0_Chapter_0_Section_0_Artic...                                                      \n",
       "...                                                                                               ...   \n",
       "EU_32018R1999_Title_0_Chapter_6_Section_3_Artic...  [annotator:Alisha layer:Instrumenttypes type:I...   \n",
       "EU_32014L0094_Title_0_Chapter_0_Section_0_Artic...                                                      \n",
       "EU_32018R1999_Title_0_Chapter_6_Section_3_Artic...  [annotator:Alisha layer:Instrumenttypes type:I...   \n",
       "EU_32006L0032_Title_0_Chapter_3_Section_0_Artic...                                                      \n",
       "EU_32018L2001_Title_0_Chapter_0_Section_0_Artic...                                                      \n",
       "\n",
       "                                                                                               Fabian  \\\n",
       "EU_32006L0032_Title_0_Chapter_1_Section_0_Artic...                                                      \n",
       "EU_32006L0066_Title_0_Chapter_0_Section_0_Artic...                                                      \n",
       "EU_32018R1999_Title_0_Chapter_4_Section_1_Artic...                                                      \n",
       "EU_32018R1999_Title_0_Chapter_2_Section_0_Artic...                                                      \n",
       "EU_32014L0094_Title_0_Chapter_0_Section_0_Artic...  [annotator:Fabian layer:Policydesigncharacteri...   \n",
       "...                                                                                               ...   \n",
       "EU_32018R1999_Title_0_Chapter_6_Section_3_Artic...                                                      \n",
       "EU_32014L0094_Title_0_Chapter_0_Section_0_Artic...  [annotator:Fabian layer:Instrumenttypes type:I...   \n",
       "EU_32018R1999_Title_0_Chapter_6_Section_3_Artic...                                                      \n",
       "EU_32006L0032_Title_0_Chapter_3_Section_0_Artic...                                                      \n",
       "EU_32018L2001_Title_0_Chapter_0_Section_0_Artic...                                                      \n",
       "\n",
       "                                                    f1_exact_score  \\\n",
       "EU_32006L0032_Title_0_Chapter_1_Section_0_Artic...        0.373418   \n",
       "EU_32006L0066_Title_0_Chapter_0_Section_0_Artic...        0.740741   \n",
       "EU_32018R1999_Title_0_Chapter_4_Section_1_Artic...        0.227273   \n",
       "EU_32018R1999_Title_0_Chapter_2_Section_0_Artic...        0.273973   \n",
       "EU_32014L0094_Title_0_Chapter_0_Section_0_Artic...        0.260870   \n",
       "...                                                            ...   \n",
       "EU_32018R1999_Title_0_Chapter_6_Section_3_Artic...        0.418605   \n",
       "EU_32014L0094_Title_0_Chapter_0_Section_0_Artic...        0.336735   \n",
       "EU_32018R1999_Title_0_Chapter_6_Section_3_Artic...        0.271186   \n",
       "EU_32006L0032_Title_0_Chapter_3_Section_0_Artic...        0.777778   \n",
       "EU_32018L2001_Title_0_Chapter_0_Section_0_Artic...        0.636364   \n",
       "\n",
       "                                                    f1_tokenwise_score  \\\n",
       "EU_32006L0032_Title_0_Chapter_1_Section_0_Artic...            0.415289   \n",
       "EU_32006L0066_Title_0_Chapter_0_Section_0_Artic...            0.625000   \n",
       "EU_32018R1999_Title_0_Chapter_4_Section_1_Artic...            0.222222   \n",
       "EU_32018R1999_Title_0_Chapter_2_Section_0_Artic...            0.330767   \n",
       "EU_32014L0094_Title_0_Chapter_0_Section_0_Artic...            0.285714   \n",
       "...                                                                ...   \n",
       "EU_32018R1999_Title_0_Chapter_6_Section_3_Artic...            0.395833   \n",
       "EU_32014L0094_Title_0_Chapter_0_Section_0_Artic...            0.258516   \n",
       "EU_32018R1999_Title_0_Chapter_6_Section_3_Artic...            0.406905   \n",
       "EU_32006L0032_Title_0_Chapter_3_Section_0_Artic...            0.666667   \n",
       "EU_32018L2001_Title_0_Chapter_0_Section_0_Artic...            0.541620   \n",
       "\n",
       "                                                    f1_partial_score  \\\n",
       "EU_32006L0032_Title_0_Chapter_1_Section_0_Artic...          0.544304   \n",
       "EU_32006L0066_Title_0_Chapter_0_Section_0_Artic...          0.740741   \n",
       "EU_32018R1999_Title_0_Chapter_4_Section_1_Artic...          0.363636   \n",
       "EU_32018R1999_Title_0_Chapter_2_Section_0_Artic...          0.479452   \n",
       "EU_32014L0094_Title_0_Chapter_0_Section_0_Artic...          0.304348   \n",
       "...                                                              ...   \n",
       "EU_32018R1999_Title_0_Chapter_6_Section_3_Artic...          0.465116   \n",
       "EU_32014L0094_Title_0_Chapter_0_Section_0_Artic...          0.367347   \n",
       "EU_32018R1999_Title_0_Chapter_6_Section_3_Artic...          0.559322   \n",
       "EU_32006L0032_Title_0_Chapter_3_Section_0_Artic...          0.777778   \n",
       "EU_32018L2001_Title_0_Chapter_0_Section_0_Artic...          0.659091   \n",
       "\n",
       "                                                    f1_heuristic_score  \n",
       "EU_32006L0032_Title_0_Chapter_1_Section_0_Artic...            0.566417  \n",
       "EU_32006L0066_Title_0_Chapter_0_Section_0_Artic...            0.740741  \n",
       "EU_32018R1999_Title_0_Chapter_4_Section_1_Artic...            0.386047  \n",
       "EU_32018R1999_Title_0_Chapter_2_Section_0_Artic...            0.506757  \n",
       "EU_32014L0094_Title_0_Chapter_0_Section_0_Artic...            0.304348  \n",
       "...                                                                ...  \n",
       "EU_32018R1999_Title_0_Chapter_6_Section_3_Artic...            0.465116  \n",
       "EU_32014L0094_Title_0_Chapter_0_Section_0_Artic...            0.367347  \n",
       "EU_32018R1999_Title_0_Chapter_6_Section_3_Artic...            0.576149  \n",
       "EU_32006L0032_Title_0_Chapter_3_Section_0_Artic...            0.777778  \n",
       "EU_32018L2001_Title_0_Chapter_0_Section_0_Artic...            0.659091  \n",
       "\n",
       "[249 rows x 16 columns]"
      ]
     },
     "execution_count": 16,
     "metadata": {},
     "output_type": "execute_result"
    }
   ],
   "source": [
    "test_evaluator.df[test_evaluator.df.apply(lambda x: 'Fride' in x['Finished_Annotators'],axis=1)]"
   ]
  },
  {
   "cell_type": "code",
   "execution_count": 18,
   "metadata": {},
   "outputs": [
    {
     "data": {
      "text/plain": [
       "Index(['Onerva', 'Fride', 'Lynn', 'Sebastian', 'Alisha', 'Fabian',\n",
       "       'f1_exact_score', 'f1_tokenwise_score', 'f1_partial_score',\n",
       "       'f1_heuristic_score'],\n",
       "      dtype='object')"
      ]
     },
     "execution_count": 18,
     "metadata": {},
     "output_type": "execute_result"
    }
   ],
   "source": [
    "from definitions import df_annotation_marker\n",
    "test_evaluator.df.columns[df_annotation_marker:]"
   ]
  },
  {
   "cell_type": "markdown",
   "metadata": {},
   "source": [
    "## Rank by score"
   ]
  },
  {
   "cell_type": "code",
   "execution_count": null,
   "metadata": {},
   "outputs": [],
   "source": []
  },
  {
   "cell_type": "raw",
   "metadata": {},
   "source": [
    "test_evaluator.df.sort_values(by=['f1_heuristic_score'])"
   ]
  },
  {
   "cell_type": "code",
   "execution_count": 8,
   "metadata": {},
   "outputs": [
    {
     "data": {
      "text/plain": [
       "[annotator:Onerva layer:Policydesigncharacteristics type:Reference tag:Ref_PolicyAmended start:20 stop:48 text:regulations (ec) no 443/2009,\n",
       " annotator:Onerva layer:Policydesigncharacteristics type:Reference tag:Ref_PolicyAmended start:54 stop:69 text:eu) no 510/2011,\n",
       " annotator:Onerva layer:Policydesigncharacteristics type:Time tag:Time_Compliance start:100 stop:114 text:1 january 2020,\n",
       " annotator:Fabian layer:Policydesigncharacteristics type:Reversibility tag:Reversibility_policy start:20 stop:48 text:regulations (ec) no 443/2009,\n",
       " annotator:Fabian layer:Policydesigncharacteristics type:Reversibility tag:Reversibility_policy start:53 stop:69 text:(eu) no 510/2011,\n",
       " annotator:Fabian layer:Policydesigncharacteristics type:Time tag:Time_InEffect start:95 stop:114 text:from 1 january 2020]"
      ]
     },
     "execution_count": 8,
     "metadata": {},
     "output_type": "execute_result"
    }
   ],
   "source": [
    "ro = test_evaluator.df.loc['EU_32019R0631_Title_0_Chapter_0_Section_0_Article_18']\n",
    "list(chain.from_iterable(ro[ro['Finished_Annotators']]))"
   ]
  },
  {
   "cell_type": "code",
   "execution_count": 11,
   "metadata": {},
   "outputs": [
    {
     "data": {
      "text/plain": [
       "[annotator:Onerva layer:Policydesigncharacteristics type:Resource tag:Resource_Other start:1026 stop:1042 text:additional costs,\n",
       " annotator:Onerva layer:Policydesigncharacteristics type:Compliance tag:Form_monitoring start:1051 stop:1060 text:reporting,\n",
       " annotator:Onerva layer:Technologyandapplicationspecificity type:TechnologySpecificity tag:Tech_LowCarbon start:614 stop:621 text:nuclear,\n",
       " annotator:Fride layer:Instrumenttypes type:InstrumentType tag:Unspecified start:12 stop:33 text:implementing measures,\n",
       " annotator:Fride layer:Instrumenttypes type:InstrumentType tag:Unspecified start:54 stop:62 text:measures,\n",
       " annotator:Fride layer:Instrumenttypes type:InstrumentType tag:RegulatoryInstr start:837 stop:847 text:exemptions,\n",
       " annotator:Fride layer:Instrumenttypes type:InstrumentType tag:RegulatoryInstr start:851 stop:862 text:derogations,\n",
       " annotator:Fride layer:Policydesigncharacteristics type:Resource tag:Resource_Other start:402 stop:421 text:national statistics,\n",
       " annotator:Fride layer:Policydesigncharacteristics type:Time tag:Time_Resources start:607 stop:613 text:annual,\n",
       " annotator:Fride layer:Policydesigncharacteristics type:Resource tag:Resource_Other start:614 stop:632 text:nuclear statistics,\n",
       " annotator:Fride layer:Policydesigncharacteristics type:Resource tag:Resource_Other start:676 stop:703 text:renewable energy statistics,\n",
       " annotator:Fride layer:Policydesigncharacteristics type:Resource tag:Resource_Other start:768 stop:803 text:final energy consumption statistics,\n",
       " annotator:Alisha layer:Instrumenttypes type:InstrumentType tag:RegulatoryInstr start:246 stop:266 text:regulatory procedure,\n",
       " annotator:Alisha layer:Instrumenttypes type:InstrumentType tag:RegulatoryInstr start:918 stop:938 text:regulatory procedure,\n",
       " annotator:Alisha layer:Policydesigncharacteristics type:Compliance tag:Form_monitoring start:402 stop:421 text:national statistics,\n",
       " annotator:Alisha layer:Policydesigncharacteristics type:Time tag:Time_Monitoring start:607 stop:613 text:annual,\n",
       " annotator:Alisha layer:Policydesigncharacteristics type:Compliance tag:Form_monitoring start:614 stop:632 text:nuclear statistics,\n",
       " annotator:Alisha layer:Policydesigncharacteristics type:Compliance tag:Form_monitoring start:686 stop:703 text:energy statistics,\n",
       " annotator:Alisha layer:Policydesigncharacteristics type:Compliance tag:Form_monitoring start:781 stop:803 text:consumption statistics,\n",
       " annotator:Alisha layer:Policydesigncharacteristics type:Compliance tag:Form_monitoring start:1051 stop:1060 text:reporting,\n",
       " annotator:Alisha layer:Technologyandapplicationspecificity type:EnergySpecificity tag:Energy_LowCarbon start:614 stop:621 text:nuclear,\n",
       " annotator:Alisha layer:Technologyandapplicationspecificity type:EnergySpecificity tag:Energy_LowCarbon start:676 stop:692 text:renewable energy,\n",
       " annotator:Alisha layer:Technologyandapplicationspecificity type:ApplicationSpecificity tag:App_Other start:774 stop:792 text:energy consumption,\n",
       " annotator:Alisha layer:Technologyandapplicationspecificity type:EnergySpecificity tag:Energy_Other start:774 stop:780 text:energy]"
      ]
     },
     "execution_count": 11,
     "metadata": {},
     "output_type": "execute_result"
    }
   ],
   "source": [
    "repo = repository.from_repository_name('EU_32008R1099_Title_0_Chapter_0_Section_0_Article_10')\n",
    "test_evaluator.get_span_list(repo, columns = 'annotators')"
   ]
  },
  {
   "cell_type": "markdown",
   "metadata": {},
   "source": [
    "## Observe nan scores"
   ]
  },
  {
   "cell_type": "code",
   "execution_count": null,
   "metadata": {},
   "outputs": [],
   "source": [
    "\n",
    "test_evaluator.df[test_evaluator.df['f1_heuristic_score'].isnull()]"
   ]
  },
  {
   "cell_type": "code",
   "execution_count": 7,
   "metadata": {},
   "outputs": [
    {
     "data": {
      "text/html": [
       "<div>\n",
       "<style scoped>\n",
       "    .dataframe tbody tr th:only-of-type {\n",
       "        vertical-align: middle;\n",
       "    }\n",
       "\n",
       "    .dataframe tbody tr th {\n",
       "        vertical-align: top;\n",
       "    }\n",
       "\n",
       "    .dataframe thead th {\n",
       "        text-align: right;\n",
       "    }\n",
       "</style>\n",
       "<table border=\"1\" class=\"dataframe\">\n",
       "  <thead>\n",
       "    <tr style=\"text-align: right;\">\n",
       "      <th></th>\n",
       "      <th>Policy</th>\n",
       "      <th>Text</th>\n",
       "      <th>Tokens</th>\n",
       "      <th>Article_State</th>\n",
       "      <th>Finished_Annotators</th>\n",
       "      <th>Curation</th>\n",
       "      <th>Onerva</th>\n",
       "      <th>Fride</th>\n",
       "      <th>Lynn</th>\n",
       "      <th>Sebastian</th>\n",
       "      <th>Alisha</th>\n",
       "      <th>Fabian</th>\n",
       "      <th>f1_exact_score</th>\n",
       "      <th>f1_tokenwise_score</th>\n",
       "      <th>f1_partial_score</th>\n",
       "      <th>f1_heuristic_score</th>\n",
       "    </tr>\n",
       "  </thead>\n",
       "  <tbody>\n",
       "    <tr>\n",
       "      <th>EU_32009L0028_Title_0_Chapter_0_Section_0_Article_12</th>\n",
       "      <td></td>\n",
       "      <td>article 12\\r\\ncapacity increases\\r\\nfor the pu...</td>\n",
       "      <td>[start:0 stop:7 text:article tag_count:0, star...</td>\n",
       "      <td>CURATION_FINISHED</td>\n",
       "      <td>[Alisha, Fabian]</td>\n",
       "      <td>[annotator:curation layer:Technologyandapplica...</td>\n",
       "      <td>[]</td>\n",
       "      <td></td>\n",
       "      <td></td>\n",
       "      <td>[]</td>\n",
       "      <td>[annotator:Alisha layer:Technologyandapplicati...</td>\n",
       "      <td>[annotator:Fabian layer:Technologyandapplicati...</td>\n",
       "      <td>Less than two</td>\n",
       "      <td>Less than two</td>\n",
       "      <td>Less than two</td>\n",
       "      <td>Less than two</td>\n",
       "    </tr>\n",
       "    <tr>\n",
       "      <th>EU_32009L0028_Title_0_Chapter_0_Section_0_Article_20</th>\n",
       "      <td></td>\n",
       "      <td>article 20\\r\\nimplementing measures\\r\\nthe imp...</td>\n",
       "      <td>[start:0 stop:7 text:article tag_count:0, star...</td>\n",
       "      <td>CURATION_FINISHED</td>\n",
       "      <td>[Alisha, Fabian]</td>\n",
       "      <td>[annotator:curation layer:Instrumenttypes type...</td>\n",
       "      <td>[]</td>\n",
       "      <td></td>\n",
       "      <td></td>\n",
       "      <td></td>\n",
       "      <td>[annotator:Alisha layer:Instrumenttypes type:I...</td>\n",
       "      <td>[annotator:Fabian layer:Policydesigncharacteri...</td>\n",
       "      <td>Less than two</td>\n",
       "      <td>Less than two</td>\n",
       "      <td>Less than two</td>\n",
       "      <td>Less than two</td>\n",
       "    </tr>\n",
       "    <tr>\n",
       "      <th>EU_32009R0397_Title_0_Chapter_0_Section_0_Article_02</th>\n",
       "      <td></td>\n",
       "      <td>article 2\\r\\nthis regulation shall enter into ...</td>\n",
       "      <td>[start:0 stop:7 text:article tag_count:0, star...</td>\n",
       "      <td>CURATION_FINISHED</td>\n",
       "      <td>[Fabian, Fride]</td>\n",
       "      <td>[annotator:curation layer:Policydesigncharacte...</td>\n",
       "      <td></td>\n",
       "      <td>[annotator:Fride layer:Policydesigncharacteris...</td>\n",
       "      <td></td>\n",
       "      <td></td>\n",
       "      <td></td>\n",
       "      <td>[annotator:Fabian layer:Policydesigncharacteri...</td>\n",
       "      <td>Less than two</td>\n",
       "      <td>Less than two</td>\n",
       "      <td>Less than two</td>\n",
       "      <td>Less than two</td>\n",
       "    </tr>\n",
       "    <tr>\n",
       "      <th>EU_32018L2001_Title_0_Chapter_0_Section_0_Article_39</th>\n",
       "      <td></td>\n",
       "      <td>article 39\\r\\naddressees\\r\\nthis directive is ...</td>\n",
       "      <td>[start:0 stop:7 text:article tag_count:0, star...</td>\n",
       "      <td>CURATION_FINISHED</td>\n",
       "      <td>[Fride, Onerva]</td>\n",
       "      <td>[annotator:curation layer:Policydesigncharacte...</td>\n",
       "      <td>[annotator:Onerva layer:Policydesigncharacteri...</td>\n",
       "      <td>[annotator:Fride layer:Policydesigncharacteris...</td>\n",
       "      <td></td>\n",
       "      <td></td>\n",
       "      <td></td>\n",
       "      <td></td>\n",
       "      <td>Less than two</td>\n",
       "      <td>Less than two</td>\n",
       "      <td>Less than two</td>\n",
       "      <td>Less than two</td>\n",
       "    </tr>\n",
       "    <tr>\n",
       "      <th>EU_32009L0028_Title_0_Chapter_0_Section_0_Article_28</th>\n",
       "      <td></td>\n",
       "      <td>article 28\\r\\nentry into force\\r\\nthis directi...</td>\n",
       "      <td>[start:0 stop:7 text:article tag_count:0, star...</td>\n",
       "      <td>CURATION_FINISHED</td>\n",
       "      <td>[Alisha, Fabian]</td>\n",
       "      <td>[annotator:curation layer:Policydesigncharacte...</td>\n",
       "      <td>[]</td>\n",
       "      <td></td>\n",
       "      <td></td>\n",
       "      <td>[]</td>\n",
       "      <td>[annotator:Alisha layer:Policydesigncharacteri...</td>\n",
       "      <td>[]</td>\n",
       "      <td>Less than two</td>\n",
       "      <td>Less than two</td>\n",
       "      <td>Less than two</td>\n",
       "      <td>Less than two</td>\n",
       "    </tr>\n",
       "    <tr>\n",
       "      <th>EU_32018R1999_Title_0_Chapter_7_Section_3_Article_46</th>\n",
       "      <td></td>\n",
       "      <td>article 46\\r\\namendments to directive 94/22/ec...</td>\n",
       "      <td>[start:0 stop:7 text:article tag_count:0, star...</td>\n",
       "      <td>CURATION_FINISHED</td>\n",
       "      <td>[Alisha, Fride]</td>\n",
       "      <td>[annotator:curation layer:Policydesigncharacte...</td>\n",
       "      <td></td>\n",
       "      <td>[annotator:Fride layer:Policydesigncharacteris...</td>\n",
       "      <td></td>\n",
       "      <td></td>\n",
       "      <td>[annotator:Alisha layer:Policydesigncharacteri...</td>\n",
       "      <td></td>\n",
       "      <td>Less than two</td>\n",
       "      <td>Less than two</td>\n",
       "      <td>Less than two</td>\n",
       "      <td>Less than two</td>\n",
       "    </tr>\n",
       "    <tr>\n",
       "      <th>EU_32004L0008_Title_0_Chapter_0_Section_0_Article_17</th>\n",
       "      <td></td>\n",
       "      <td>article 17\\r\\nentry into force\\r\\nthis directi...</td>\n",
       "      <td>[start:0 stop:7 text:article tag_count:0, star...</td>\n",
       "      <td>CURATION_FINISHED</td>\n",
       "      <td>[Fabian, Fride]</td>\n",
       "      <td>[annotator:curation layer:Policydesigncharacte...</td>\n",
       "      <td></td>\n",
       "      <td>[annotator:Fride layer:Policydesigncharacteris...</td>\n",
       "      <td></td>\n",
       "      <td></td>\n",
       "      <td></td>\n",
       "      <td>[annotator:Fabian layer:Policydesigncharacteri...</td>\n",
       "      <td>Less than two</td>\n",
       "      <td>Less than two</td>\n",
       "      <td>Less than two</td>\n",
       "      <td>Less than two</td>\n",
       "    </tr>\n",
       "    <tr>\n",
       "      <th>EU_32009L0028_Title_0_Chapter_0_Section_0_Article_29</th>\n",
       "      <td></td>\n",
       "      <td>article 29\\r\\naddressees\\r\\nthis directive is ...</td>\n",
       "      <td>[start:0 stop:7 text:article tag_count:0, star...</td>\n",
       "      <td>CURATION_FINISHED</td>\n",
       "      <td>[Alisha, Fabian]</td>\n",
       "      <td>[annotator:curation layer:Policydesigncharacte...</td>\n",
       "      <td>[]</td>\n",
       "      <td></td>\n",
       "      <td></td>\n",
       "      <td>[]</td>\n",
       "      <td>[annotator:Alisha layer:Policydesigncharacteri...</td>\n",
       "      <td>[annotator:Fabian layer:Policydesigncharacteri...</td>\n",
       "      <td>Less than two</td>\n",
       "      <td>Less than two</td>\n",
       "      <td>Less than two</td>\n",
       "      <td>Less than two</td>\n",
       "    </tr>\n",
       "    <tr>\n",
       "      <th>EU_32018L0844_Title_0_Chapter_0_Section_0_Article_05</th>\n",
       "      <td></td>\n",
       "      <td>article 5\\r\\naddressees\\r\\nthis directive is a...</td>\n",
       "      <td>[start:0 stop:7 text:article tag_count:0, star...</td>\n",
       "      <td>CURATION_FINISHED</td>\n",
       "      <td>[Fabian, Onerva]</td>\n",
       "      <td>[annotator:curation layer:Policydesigncharacte...</td>\n",
       "      <td>[annotator:Onerva layer:Policydesigncharacteri...</td>\n",
       "      <td></td>\n",
       "      <td></td>\n",
       "      <td></td>\n",
       "      <td></td>\n",
       "      <td>[annotator:Fabian layer:Policydesigncharacteri...</td>\n",
       "      <td>Less than two</td>\n",
       "      <td>Less than two</td>\n",
       "      <td>Less than two</td>\n",
       "      <td>Less than two</td>\n",
       "    </tr>\n",
       "    <tr>\n",
       "      <th>EU_32008R1099_Title_0_Chapter_0_Section_0_Article_12</th>\n",
       "      <td></td>\n",
       "      <td>article 12\\r\\nentry into force\\r\\nthis regulat...</td>\n",
       "      <td>[start:0 stop:7 text:article tag_count:0, star...</td>\n",
       "      <td>CURATION_FINISHED</td>\n",
       "      <td>[Alisha, Fride]</td>\n",
       "      <td>[annotator:curation layer:Policydesigncharacte...</td>\n",
       "      <td>[annotator:Onerva layer:Policydesigncharacteri...</td>\n",
       "      <td>[annotator:Fride layer:Policydesigncharacteris...</td>\n",
       "      <td></td>\n",
       "      <td></td>\n",
       "      <td>[annotator:Alisha layer:Policydesigncharacteri...</td>\n",
       "      <td></td>\n",
       "      <td>Less than two</td>\n",
       "      <td>Less than two</td>\n",
       "      <td>Less than two</td>\n",
       "      <td>Less than two</td>\n",
       "    </tr>\n",
       "    <tr>\n",
       "      <th>EU_32012L0027_Title_0_Chapter_5_Section_0_Article_30</th>\n",
       "      <td></td>\n",
       "      <td>article 30\\r\\naddressees\\r\\nthis directive is ...</td>\n",
       "      <td>[start:0 stop:7 text:article tag_count:0, star...</td>\n",
       "      <td>CURATION_FINISHED</td>\n",
       "      <td>[Fride, Onerva]</td>\n",
       "      <td>[annotator:curation layer:Policydesigncharacte...</td>\n",
       "      <td>[annotator:Onerva layer:Policydesigncharacteri...</td>\n",
       "      <td>[annotator:Fride layer:Policydesigncharacteris...</td>\n",
       "      <td></td>\n",
       "      <td></td>\n",
       "      <td></td>\n",
       "      <td></td>\n",
       "      <td>Less than two</td>\n",
       "      <td>Less than two</td>\n",
       "      <td>Less than two</td>\n",
       "      <td>Less than two</td>\n",
       "    </tr>\n",
       "    <tr>\n",
       "      <th>EU_32019R0631_Title_0_Chapter_0_Section_0_Article_19</th>\n",
       "      <td></td>\n",
       "      <td>article 19\\r\\nentry into force\\r\\nthis regulat...</td>\n",
       "      <td>[start:0 stop:7 text:article tag_count:0, star...</td>\n",
       "      <td>CURATION_FINISHED</td>\n",
       "      <td>[Onerva, Fabian]</td>\n",
       "      <td>[annotator:curation layer:Policydesigncharacte...</td>\n",
       "      <td>[annotator:Onerva layer:Policydesigncharacteri...</td>\n",
       "      <td></td>\n",
       "      <td></td>\n",
       "      <td></td>\n",
       "      <td></td>\n",
       "      <td>[annotator:Fabian layer:Policydesigncharacteri...</td>\n",
       "      <td>Less than two</td>\n",
       "      <td>Less than two</td>\n",
       "      <td>Less than two</td>\n",
       "      <td>Less than two</td>\n",
       "    </tr>\n",
       "    <tr>\n",
       "      <th>EU_32014R0421_Title_0_Chapter_0_Section_0_Article_02</th>\n",
       "      <td></td>\n",
       "      <td>article 2\\r\\nthis regulation shall enter into ...</td>\n",
       "      <td>[start:0 stop:7 text:article tag_count:0, star...</td>\n",
       "      <td>CURATION_FINISHED</td>\n",
       "      <td>[Onerva, Fabian]</td>\n",
       "      <td>[annotator:curation layer:Policydesigncharacte...</td>\n",
       "      <td>[annotator:Onerva layer:Policydesigncharacteri...</td>\n",
       "      <td></td>\n",
       "      <td></td>\n",
       "      <td></td>\n",
       "      <td></td>\n",
       "      <td>[annotator:Fabian layer:Policydesigncharacteri...</td>\n",
       "      <td>Less than two</td>\n",
       "      <td>Less than two</td>\n",
       "      <td>Less than two</td>\n",
       "      <td>Less than two</td>\n",
       "    </tr>\n",
       "    <tr>\n",
       "      <th>EU_32018R1999_Title_0_Chapter_7_Section_3_Article_54</th>\n",
       "      <td></td>\n",
       "      <td>article 54\\r\\namendments to directive 2012/27/...</td>\n",
       "      <td>[start:0 stop:7 text:article tag_count:0, star...</td>\n",
       "      <td>CURATION_FINISHED</td>\n",
       "      <td>[Alisha, Fride]</td>\n",
       "      <td>[annotator:curation layer:Policydesigncharacte...</td>\n",
       "      <td></td>\n",
       "      <td>[annotator:Fride layer:Policydesigncharacteris...</td>\n",
       "      <td></td>\n",
       "      <td></td>\n",
       "      <td>[annotator:Alisha layer:Policydesigncharacteri...</td>\n",
       "      <td></td>\n",
       "      <td>Less than two</td>\n",
       "      <td>Less than two</td>\n",
       "      <td>Less than two</td>\n",
       "      <td>Less than two</td>\n",
       "    </tr>\n",
       "    <tr>\n",
       "      <th>EU_32006L0066_Title_0_Chapter_0_Section_0_Article_28</th>\n",
       "      <td></td>\n",
       "      <td>article 28\\r\\nrepeal\\r\\ndirective 91/157/eec i...</td>\n",
       "      <td>[start:0 stop:7 text:article tag_count:0, star...</td>\n",
       "      <td>CURATION_FINISHED</td>\n",
       "      <td>[Fride, Onerva]</td>\n",
       "      <td>[annotator:curation layer:Policydesigncharacte...</td>\n",
       "      <td>[annotator:Onerva layer:Policydesigncharacteri...</td>\n",
       "      <td>[annotator:Fride layer:Policydesigncharacteris...</td>\n",
       "      <td>[]</td>\n",
       "      <td></td>\n",
       "      <td></td>\n",
       "      <td></td>\n",
       "      <td>Less than two</td>\n",
       "      <td>Less than two</td>\n",
       "      <td>Less than two</td>\n",
       "      <td>Less than two</td>\n",
       "    </tr>\n",
       "    <tr>\n",
       "      <th>EU_32019L0944_Title_0_Chapter_7_Section_5_Article_74</th>\n",
       "      <td></td>\n",
       "      <td>article 74\\r\\naddressees\\r\\nthis directive is ...</td>\n",
       "      <td>[start:0 stop:7 text:article tag_count:0, star...</td>\n",
       "      <td>CURATION_FINISHED</td>\n",
       "      <td>[Alisha, Fabian]</td>\n",
       "      <td>[annotator:curation layer:Policydesigncharacte...</td>\n",
       "      <td>[annotator:Onerva layer:Policydesigncharacteri...</td>\n",
       "      <td></td>\n",
       "      <td></td>\n",
       "      <td></td>\n",
       "      <td>[annotator:Alisha layer:Policydesigncharacteri...</td>\n",
       "      <td>[annotator:Fabian layer:Policydesigncharacteri...</td>\n",
       "      <td>Less than two</td>\n",
       "      <td>Less than two</td>\n",
       "      <td>Less than two</td>\n",
       "      <td>Less than two</td>\n",
       "    </tr>\n",
       "    <tr>\n",
       "      <th>EU_32013R0525_Title_0_Chapter_7_Section_0_Article_28</th>\n",
       "      <td></td>\n",
       "      <td>article 28\\r\\nrepeal\\r\\ndecision no 280/2004/e...</td>\n",
       "      <td>[start:0 stop:7 text:article tag_count:0, star...</td>\n",
       "      <td>CURATION_FINISHED</td>\n",
       "      <td>[Alisha, Fabian]</td>\n",
       "      <td>[annotator:curation layer:Policydesigncharacte...</td>\n",
       "      <td></td>\n",
       "      <td></td>\n",
       "      <td></td>\n",
       "      <td></td>\n",
       "      <td>[annotator:Alisha layer:Policydesigncharacteri...</td>\n",
       "      <td>[annotator:Fabian layer:Policydesigncharacteri...</td>\n",
       "      <td>Less than two</td>\n",
       "      <td>Less than two</td>\n",
       "      <td>Less than two</td>\n",
       "      <td>Less than two</td>\n",
       "    </tr>\n",
       "    <tr>\n",
       "      <th>EU_32012L0027_Title_0_Chapter_4_Section_0_Article_21</th>\n",
       "      <td></td>\n",
       "      <td>article 21\\r\\nconversion factors\\r\\nfor the pu...</td>\n",
       "      <td>[start:0 stop:7 text:article tag_count:0, star...</td>\n",
       "      <td>CURATION_FINISHED</td>\n",
       "      <td>[Fride, Onerva]</td>\n",
       "      <td>[annotator:curation layer:Technologyandapplica...</td>\n",
       "      <td>[annotator:Onerva layer:Technologyandapplicati...</td>\n",
       "      <td>[annotator:Fride layer:Technologyandapplicatio...</td>\n",
       "      <td></td>\n",
       "      <td></td>\n",
       "      <td></td>\n",
       "      <td></td>\n",
       "      <td>Less than two</td>\n",
       "      <td>Less than two</td>\n",
       "      <td>Less than two</td>\n",
       "      <td>Less than two</td>\n",
       "    </tr>\n",
       "    <tr>\n",
       "      <th>EU_32009R0079_Title_0_Chapter_0_Section_0_Article_16</th>\n",
       "      <td></td>\n",
       "      <td>article 16\\r\\nentry into force\\r\\nthis regulat...</td>\n",
       "      <td>[start:0 stop:7 text:article tag_count:0, star...</td>\n",
       "      <td>CURATION_FINISHED</td>\n",
       "      <td>[Fabian, Onerva]</td>\n",
       "      <td>[annotator:curation layer:Policydesigncharacte...</td>\n",
       "      <td>[annotator:Onerva layer:Policydesigncharacteri...</td>\n",
       "      <td></td>\n",
       "      <td></td>\n",
       "      <td></td>\n",
       "      <td></td>\n",
       "      <td>[annotator:Fabian layer:Policydesigncharacteri...</td>\n",
       "      <td>Less than two</td>\n",
       "      <td>Less than two</td>\n",
       "      <td>Less than two</td>\n",
       "      <td>Less than two</td>\n",
       "    </tr>\n",
       "    <tr>\n",
       "      <th>EU_32004L0008_Title_0_Chapter_0_Section_0_Article_02</th>\n",
       "      <td></td>\n",
       "      <td>article 2\\r\\nscope\\r\\nthis directive shall app...</td>\n",
       "      <td>[start:0 stop:7 text:article tag_count:0, star...</td>\n",
       "      <td>CURATION_FINISHED</td>\n",
       "      <td>[Fabian, Fride]</td>\n",
       "      <td>[annotator:curation layer:Policydesigncharacte...</td>\n",
       "      <td></td>\n",
       "      <td>[annotator:Fride layer:Technologyandapplicatio...</td>\n",
       "      <td></td>\n",
       "      <td></td>\n",
       "      <td></td>\n",
       "      <td>[annotator:Fabian layer:Technologyandapplicati...</td>\n",
       "      <td>Less than two</td>\n",
       "      <td>Less than two</td>\n",
       "      <td>Less than two</td>\n",
       "      <td>Less than two</td>\n",
       "    </tr>\n",
       "    <tr>\n",
       "      <th>EU_32018L2001_Title_0_Chapter_0_Section_0_Article_38</th>\n",
       "      <td></td>\n",
       "      <td>article 38\\r\\nentry into force\\r\\nthis directi...</td>\n",
       "      <td>[start:0 stop:7 text:article tag_count:0, star...</td>\n",
       "      <td>CURATION_FINISHED</td>\n",
       "      <td>[Fride, Onerva]</td>\n",
       "      <td>[annotator:curation layer:Policydesigncharacte...</td>\n",
       "      <td>[annotator:Onerva layer:Policydesigncharacteri...</td>\n",
       "      <td>[annotator:Fride layer:Policydesigncharacteris...</td>\n",
       "      <td></td>\n",
       "      <td></td>\n",
       "      <td></td>\n",
       "      <td></td>\n",
       "      <td>Less than two</td>\n",
       "      <td>Less than two</td>\n",
       "      <td>Less than two</td>\n",
       "      <td>Less than two</td>\n",
       "    </tr>\n",
       "    <tr>\n",
       "      <th>EU_32006L0032_Title_0_Chapter_4_Section_0_Article_20</th>\n",
       "      <td></td>\n",
       "      <td>article 20\\r\\naddressees\\r\\nthis directive is ...</td>\n",
       "      <td>[start:0 stop:7 text:article tag_count:0, star...</td>\n",
       "      <td>CURATION_FINISHED</td>\n",
       "      <td>[Fride, Onerva]</td>\n",
       "      <td>[annotator:curation layer:Policydesigncharacte...</td>\n",
       "      <td>[annotator:Onerva layer:Policydesigncharacteri...</td>\n",
       "      <td>[annotator:Fride layer:Policydesigncharacteris...</td>\n",
       "      <td></td>\n",
       "      <td></td>\n",
       "      <td></td>\n",
       "      <td></td>\n",
       "      <td>Less than two</td>\n",
       "      <td>Less than two</td>\n",
       "      <td>Less than two</td>\n",
       "      <td>Less than two</td>\n",
       "    </tr>\n",
       "    <tr>\n",
       "      <th>EU_32018L0844_Title_0_Chapter_0_Section_0_Article_04</th>\n",
       "      <td></td>\n",
       "      <td>article 4\\r\\nentry into force\\r\\nthis directiv...</td>\n",
       "      <td>[start:0 stop:7 text:article tag_count:0, star...</td>\n",
       "      <td>CURATION_FINISHED</td>\n",
       "      <td>[Fabian, Onerva]</td>\n",
       "      <td>[annotator:curation layer:Policydesigncharacte...</td>\n",
       "      <td>[annotator:Onerva layer:Policydesigncharacteri...</td>\n",
       "      <td></td>\n",
       "      <td></td>\n",
       "      <td></td>\n",
       "      <td></td>\n",
       "      <td>[annotator:Fabian layer:Policydesigncharacteri...</td>\n",
       "      <td>Less than two</td>\n",
       "      <td>Less than two</td>\n",
       "      <td>Less than two</td>\n",
       "      <td>Less than two</td>\n",
       "    </tr>\n",
       "    <tr>\n",
       "      <th>EU_32018R1999_Title_0_Chapter_7_Section_3_Article_50</th>\n",
       "      <td></td>\n",
       "      <td>article 50\\r\\namendment to regulation (ec) no ...</td>\n",
       "      <td>[start:0 stop:7 text:article tag_count:0, star...</td>\n",
       "      <td>CURATION_FINISHED</td>\n",
       "      <td>[Alisha, Fride]</td>\n",
       "      <td>[annotator:curation layer:Policydesigncharacte...</td>\n",
       "      <td></td>\n",
       "      <td>[annotator:Fride layer:Policydesigncharacteris...</td>\n",
       "      <td></td>\n",
       "      <td></td>\n",
       "      <td>[annotator:Alisha layer:Policydesigncharacteri...</td>\n",
       "      <td></td>\n",
       "      <td>Less than two</td>\n",
       "      <td>Less than two</td>\n",
       "      <td>Less than two</td>\n",
       "      <td>Less than two</td>\n",
       "    </tr>\n",
       "    <tr>\n",
       "      <th>EU_32006L0066_Title_0_Chapter_0_Section_0_Article_29</th>\n",
       "      <td></td>\n",
       "      <td>article 29\\r\\nentry into force\\r\\nthis directi...</td>\n",
       "      <td>[start:0 stop:7 text:article tag_count:0, star...</td>\n",
       "      <td>CURATION_FINISHED</td>\n",
       "      <td>[Fride, Onerva]</td>\n",
       "      <td>[annotator:curation layer:Policydesigncharacte...</td>\n",
       "      <td>[annotator:Onerva layer:Policydesigncharacteri...</td>\n",
       "      <td>[annotator:Fride layer:Policydesigncharacteris...</td>\n",
       "      <td>[]</td>\n",
       "      <td></td>\n",
       "      <td></td>\n",
       "      <td></td>\n",
       "      <td>Less than two</td>\n",
       "      <td>Less than two</td>\n",
       "      <td>Less than two</td>\n",
       "      <td>Less than two</td>\n",
       "    </tr>\n",
       "    <tr>\n",
       "      <th>EU_32004L0008_Title_0_Chapter_0_Section_0_Article_18</th>\n",
       "      <td></td>\n",
       "      <td>article 18\\r\\naddressees\\r\\nthis directive is ...</td>\n",
       "      <td>[start:0 stop:7 text:article tag_count:0, star...</td>\n",
       "      <td>CURATION_FINISHED</td>\n",
       "      <td>[Fabian, Fride]</td>\n",
       "      <td>[annotator:curation layer:Policydesigncharacte...</td>\n",
       "      <td></td>\n",
       "      <td>[annotator:Fride layer:Policydesigncharacteris...</td>\n",
       "      <td></td>\n",
       "      <td></td>\n",
       "      <td></td>\n",
       "      <td>[annotator:Fabian layer:Policydesigncharacteri...</td>\n",
       "      <td>Less than two</td>\n",
       "      <td>Less than two</td>\n",
       "      <td>Less than two</td>\n",
       "      <td>Less than two</td>\n",
       "    </tr>\n",
       "    <tr>\n",
       "      <th>EU_32004L0008_Title_0_Chapter_0_Section_0_Article_13</th>\n",
       "      <td></td>\n",
       "      <td>article 13\\r\\nreview\\r\\n1. the threshold value...</td>\n",
       "      <td>[start:0 stop:7 text:article tag_count:0, star...</td>\n",
       "      <td>CURATION_FINISHED</td>\n",
       "      <td>[Fabian, Fride]</td>\n",
       "      <td>[annotator:curation layer:Technologyandapplica...</td>\n",
       "      <td></td>\n",
       "      <td>[annotator:Fride layer:Technologyandapplicatio...</td>\n",
       "      <td></td>\n",
       "      <td></td>\n",
       "      <td></td>\n",
       "      <td>[annotator:Fabian layer:Technologyandapplicati...</td>\n",
       "      <td>Less than two</td>\n",
       "      <td>Less than two</td>\n",
       "      <td>Less than two</td>\n",
       "      <td>Less than two</td>\n",
       "    </tr>\n",
       "    <tr>\n",
       "      <th>EU_32019L0944_Title_0_Chapter_2_Section_0_Article_04</th>\n",
       "      <td></td>\n",
       "      <td>article 4\\r\\nfree choice of supplier\\r\\nmember...</td>\n",
       "      <td>[start:0 stop:7 text:article tag_count:0, star...</td>\n",
       "      <td>CURATION_FINISHED</td>\n",
       "      <td>[Alisha, Fabian]</td>\n",
       "      <td>[annotator:curation layer:Policydesigncharacte...</td>\n",
       "      <td>[]</td>\n",
       "      <td></td>\n",
       "      <td></td>\n",
       "      <td></td>\n",
       "      <td>[annotator:Alisha layer:Policydesigncharacteri...</td>\n",
       "      <td>[annotator:Fabian layer:Policydesigncharacteri...</td>\n",
       "      <td>Less than two</td>\n",
       "      <td>Less than two</td>\n",
       "      <td>Less than two</td>\n",
       "      <td>Less than two</td>\n",
       "    </tr>\n",
       "    <tr>\n",
       "      <th>EU_32006L0032_Title_0_Chapter_4_Section_0_Article_17</th>\n",
       "      <td></td>\n",
       "      <td>article 17\\r\\nrepeal\\r\\ndirective 93/76/eec is...</td>\n",
       "      <td>[start:0 stop:7 text:article tag_count:0, star...</td>\n",
       "      <td>CURATION_FINISHED</td>\n",
       "      <td>[Fride, Onerva]</td>\n",
       "      <td>[annotator:curation layer:Policydesigncharacte...</td>\n",
       "      <td>[annotator:Onerva layer:Policydesigncharacteri...</td>\n",
       "      <td>[annotator:Fride layer:Policydesigncharacteris...</td>\n",
       "      <td></td>\n",
       "      <td></td>\n",
       "      <td></td>\n",
       "      <td></td>\n",
       "      <td>Less than two</td>\n",
       "      <td>Less than two</td>\n",
       "      <td>Less than two</td>\n",
       "      <td>Less than two</td>\n",
       "    </tr>\n",
       "    <tr>\n",
       "      <th>EU_32013R0525_Title_0_Chapter_7_Section_0_Article_29</th>\n",
       "      <td></td>\n",
       "      <td>article 29\\r\\nentry into force\\r\\nthis regulat...</td>\n",
       "      <td>[start:0 stop:7 text:article tag_count:0, star...</td>\n",
       "      <td>CURATION_FINISHED</td>\n",
       "      <td>[Alisha, Fabian]</td>\n",
       "      <td>[annotator:curation layer:Policydesigncharacte...</td>\n",
       "      <td></td>\n",
       "      <td></td>\n",
       "      <td></td>\n",
       "      <td></td>\n",
       "      <td>[annotator:Alisha layer:Instrumenttypes type:I...</td>\n",
       "      <td>[annotator:Fabian layer:Policydesigncharacteri...</td>\n",
       "      <td>Less than two</td>\n",
       "      <td>Less than two</td>\n",
       "      <td>Less than two</td>\n",
       "      <td>Less than two</td>\n",
       "    </tr>\n",
       "    <tr>\n",
       "      <th>EU_32018R1999_Title_0_Chapter_7_Section_3_Article_49</th>\n",
       "      <td></td>\n",
       "      <td>article 49\\r\\namendments to regulation (ec) no...</td>\n",
       "      <td>[start:0 stop:7 text:article tag_count:0, star...</td>\n",
       "      <td>CURATION_FINISHED</td>\n",
       "      <td>[Alisha, Fride]</td>\n",
       "      <td>[annotator:curation layer:Policydesigncharacte...</td>\n",
       "      <td></td>\n",
       "      <td>[annotator:Fride layer:Policydesigncharacteris...</td>\n",
       "      <td></td>\n",
       "      <td></td>\n",
       "      <td>[annotator:Alisha layer:Policydesigncharacteri...</td>\n",
       "      <td></td>\n",
       "      <td>Less than two</td>\n",
       "      <td>Less than two</td>\n",
       "      <td>Less than two</td>\n",
       "      <td>Less than two</td>\n",
       "    </tr>\n",
       "    <tr>\n",
       "      <th>EU_32006L0032_Title_0_Chapter_4_Section_0_Article_19</th>\n",
       "      <td></td>\n",
       "      <td>article 19\\r\\nentry into force\\r\\nthis directi...</td>\n",
       "      <td>[start:0 stop:7 text:article tag_count:0, star...</td>\n",
       "      <td>CURATION_FINISHED</td>\n",
       "      <td>[Fride, Onerva]</td>\n",
       "      <td>[annotator:curation layer:Policydesigncharacte...</td>\n",
       "      <td>[annotator:Onerva layer:Policydesigncharacteri...</td>\n",
       "      <td>[annotator:Fride layer:Policydesigncharacteris...</td>\n",
       "      <td></td>\n",
       "      <td></td>\n",
       "      <td></td>\n",
       "      <td></td>\n",
       "      <td>Less than two</td>\n",
       "      <td>Less than two</td>\n",
       "      <td>Less than two</td>\n",
       "      <td>Less than two</td>\n",
       "    </tr>\n",
       "    <tr>\n",
       "      <th>EU_32012L0027_Title_0_Chapter_5_Section_0_Article_29</th>\n",
       "      <td></td>\n",
       "      <td>article 29\\r\\nentry into force\\r\\nthis directi...</td>\n",
       "      <td>[start:0 stop:7 text:article tag_count:0, star...</td>\n",
       "      <td>CURATION_FINISHED</td>\n",
       "      <td>[Fride, Onerva]</td>\n",
       "      <td>[annotator:curation layer:Policydesigncharacte...</td>\n",
       "      <td>[annotator:Onerva layer:Policydesigncharacteri...</td>\n",
       "      <td>[annotator:Fride layer:Policydesigncharacteris...</td>\n",
       "      <td></td>\n",
       "      <td></td>\n",
       "      <td></td>\n",
       "      <td></td>\n",
       "      <td>Less than two</td>\n",
       "      <td>Less than two</td>\n",
       "      <td>Less than two</td>\n",
       "      <td>Less than two</td>\n",
       "    </tr>\n",
       "    <tr>\n",
       "      <th>EU_32019R0631_Whereas</th>\n",
       "      <td></td>\n",
       "      <td>whereas:\\r\\n(1)\\r\\nregulation (ec) no 443/2009...</td>\n",
       "      <td>[start:0 stop:7 text:whereas tag_count:0, star...</td>\n",
       "      <td>CURATION_FINISHED</td>\n",
       "      <td>[Onerva, Fabian]</td>\n",
       "      <td>[]</td>\n",
       "      <td>[annotator:Onerva layer:Policydesigncharacteri...</td>\n",
       "      <td></td>\n",
       "      <td></td>\n",
       "      <td></td>\n",
       "      <td></td>\n",
       "      <td>[]</td>\n",
       "      <td>Less than two</td>\n",
       "      <td>Less than two</td>\n",
       "      <td>Less than two</td>\n",
       "      <td>Less than two</td>\n",
       "    </tr>\n",
       "    <tr>\n",
       "      <th>EU_32006L0066_Title_0_Chapter_0_Section_0_Article_30</th>\n",
       "      <td></td>\n",
       "      <td>article 30\\r\\naddressees\\r\\nthis directive is ...</td>\n",
       "      <td>[start:0 stop:7 text:article tag_count:0, star...</td>\n",
       "      <td>CURATION_FINISHED</td>\n",
       "      <td>[Fride, Onerva]</td>\n",
       "      <td>[annotator:curation layer:Policydesigncharacte...</td>\n",
       "      <td>[annotator:Onerva layer:Policydesigncharacteri...</td>\n",
       "      <td>[annotator:Fride layer:Policydesigncharacteris...</td>\n",
       "      <td>[]</td>\n",
       "      <td></td>\n",
       "      <td></td>\n",
       "      <td></td>\n",
       "      <td>Less than two</td>\n",
       "      <td>Less than two</td>\n",
       "      <td>Less than two</td>\n",
       "      <td>Less than two</td>\n",
       "    </tr>\n",
       "    <tr>\n",
       "      <th>EU_32009R0079_Title_0_Chapter_0_Section_0_Article_14</th>\n",
       "      <td></td>\n",
       "      <td>article 14\\r\\namendments to directive 2007/46/...</td>\n",
       "      <td>[start:0 stop:7 text:article tag_count:0, star...</td>\n",
       "      <td>CURATION_FINISHED</td>\n",
       "      <td>[Fabian, Onerva]</td>\n",
       "      <td>[annotator:curation layer:Policydesigncharacte...</td>\n",
       "      <td>[annotator:Onerva layer:Policydesigncharacteri...</td>\n",
       "      <td></td>\n",
       "      <td></td>\n",
       "      <td></td>\n",
       "      <td></td>\n",
       "      <td>[annotator:Fabian layer:Policydesigncharacteri...</td>\n",
       "      <td>Less than two</td>\n",
       "      <td>Less than two</td>\n",
       "      <td>Less than two</td>\n",
       "      <td>Less than two</td>\n",
       "    </tr>\n",
       "  </tbody>\n",
       "</table>\n",
       "</div>"
      ],
      "text/plain": [
       "                                                   Policy  \\\n",
       "EU_32009L0028_Title_0_Chapter_0_Section_0_Artic...          \n",
       "EU_32009L0028_Title_0_Chapter_0_Section_0_Artic...          \n",
       "EU_32009R0397_Title_0_Chapter_0_Section_0_Artic...          \n",
       "EU_32018L2001_Title_0_Chapter_0_Section_0_Artic...          \n",
       "EU_32009L0028_Title_0_Chapter_0_Section_0_Artic...          \n",
       "EU_32018R1999_Title_0_Chapter_7_Section_3_Artic...          \n",
       "EU_32004L0008_Title_0_Chapter_0_Section_0_Artic...          \n",
       "EU_32009L0028_Title_0_Chapter_0_Section_0_Artic...          \n",
       "EU_32018L0844_Title_0_Chapter_0_Section_0_Artic...          \n",
       "EU_32008R1099_Title_0_Chapter_0_Section_0_Artic...          \n",
       "EU_32012L0027_Title_0_Chapter_5_Section_0_Artic...          \n",
       "EU_32019R0631_Title_0_Chapter_0_Section_0_Artic...          \n",
       "EU_32014R0421_Title_0_Chapter_0_Section_0_Artic...          \n",
       "EU_32018R1999_Title_0_Chapter_7_Section_3_Artic...          \n",
       "EU_32006L0066_Title_0_Chapter_0_Section_0_Artic...          \n",
       "EU_32019L0944_Title_0_Chapter_7_Section_5_Artic...          \n",
       "EU_32013R0525_Title_0_Chapter_7_Section_0_Artic...          \n",
       "EU_32012L0027_Title_0_Chapter_4_Section_0_Artic...          \n",
       "EU_32009R0079_Title_0_Chapter_0_Section_0_Artic...          \n",
       "EU_32004L0008_Title_0_Chapter_0_Section_0_Artic...          \n",
       "EU_32018L2001_Title_0_Chapter_0_Section_0_Artic...          \n",
       "EU_32006L0032_Title_0_Chapter_4_Section_0_Artic...          \n",
       "EU_32018L0844_Title_0_Chapter_0_Section_0_Artic...          \n",
       "EU_32018R1999_Title_0_Chapter_7_Section_3_Artic...          \n",
       "EU_32006L0066_Title_0_Chapter_0_Section_0_Artic...          \n",
       "EU_32004L0008_Title_0_Chapter_0_Section_0_Artic...          \n",
       "EU_32004L0008_Title_0_Chapter_0_Section_0_Artic...          \n",
       "EU_32019L0944_Title_0_Chapter_2_Section_0_Artic...          \n",
       "EU_32006L0032_Title_0_Chapter_4_Section_0_Artic...          \n",
       "EU_32013R0525_Title_0_Chapter_7_Section_0_Artic...          \n",
       "EU_32018R1999_Title_0_Chapter_7_Section_3_Artic...          \n",
       "EU_32006L0032_Title_0_Chapter_4_Section_0_Artic...          \n",
       "EU_32012L0027_Title_0_Chapter_5_Section_0_Artic...          \n",
       "EU_32019R0631_Whereas                                       \n",
       "EU_32006L0066_Title_0_Chapter_0_Section_0_Artic...          \n",
       "EU_32009R0079_Title_0_Chapter_0_Section_0_Artic...          \n",
       "\n",
       "                                                                                                 Text  \\\n",
       "EU_32009L0028_Title_0_Chapter_0_Section_0_Artic...  article 12\\r\\ncapacity increases\\r\\nfor the pu...   \n",
       "EU_32009L0028_Title_0_Chapter_0_Section_0_Artic...  article 20\\r\\nimplementing measures\\r\\nthe imp...   \n",
       "EU_32009R0397_Title_0_Chapter_0_Section_0_Artic...  article 2\\r\\nthis regulation shall enter into ...   \n",
       "EU_32018L2001_Title_0_Chapter_0_Section_0_Artic...  article 39\\r\\naddressees\\r\\nthis directive is ...   \n",
       "EU_32009L0028_Title_0_Chapter_0_Section_0_Artic...  article 28\\r\\nentry into force\\r\\nthis directi...   \n",
       "EU_32018R1999_Title_0_Chapter_7_Section_3_Artic...  article 46\\r\\namendments to directive 94/22/ec...   \n",
       "EU_32004L0008_Title_0_Chapter_0_Section_0_Artic...  article 17\\r\\nentry into force\\r\\nthis directi...   \n",
       "EU_32009L0028_Title_0_Chapter_0_Section_0_Artic...  article 29\\r\\naddressees\\r\\nthis directive is ...   \n",
       "EU_32018L0844_Title_0_Chapter_0_Section_0_Artic...  article 5\\r\\naddressees\\r\\nthis directive is a...   \n",
       "EU_32008R1099_Title_0_Chapter_0_Section_0_Artic...  article 12\\r\\nentry into force\\r\\nthis regulat...   \n",
       "EU_32012L0027_Title_0_Chapter_5_Section_0_Artic...  article 30\\r\\naddressees\\r\\nthis directive is ...   \n",
       "EU_32019R0631_Title_0_Chapter_0_Section_0_Artic...  article 19\\r\\nentry into force\\r\\nthis regulat...   \n",
       "EU_32014R0421_Title_0_Chapter_0_Section_0_Artic...  article 2\\r\\nthis regulation shall enter into ...   \n",
       "EU_32018R1999_Title_0_Chapter_7_Section_3_Artic...  article 54\\r\\namendments to directive 2012/27/...   \n",
       "EU_32006L0066_Title_0_Chapter_0_Section_0_Artic...  article 28\\r\\nrepeal\\r\\ndirective 91/157/eec i...   \n",
       "EU_32019L0944_Title_0_Chapter_7_Section_5_Artic...  article 74\\r\\naddressees\\r\\nthis directive is ...   \n",
       "EU_32013R0525_Title_0_Chapter_7_Section_0_Artic...  article 28\\r\\nrepeal\\r\\ndecision no 280/2004/e...   \n",
       "EU_32012L0027_Title_0_Chapter_4_Section_0_Artic...  article 21\\r\\nconversion factors\\r\\nfor the pu...   \n",
       "EU_32009R0079_Title_0_Chapter_0_Section_0_Artic...  article 16\\r\\nentry into force\\r\\nthis regulat...   \n",
       "EU_32004L0008_Title_0_Chapter_0_Section_0_Artic...  article 2\\r\\nscope\\r\\nthis directive shall app...   \n",
       "EU_32018L2001_Title_0_Chapter_0_Section_0_Artic...  article 38\\r\\nentry into force\\r\\nthis directi...   \n",
       "EU_32006L0032_Title_0_Chapter_4_Section_0_Artic...  article 20\\r\\naddressees\\r\\nthis directive is ...   \n",
       "EU_32018L0844_Title_0_Chapter_0_Section_0_Artic...  article 4\\r\\nentry into force\\r\\nthis directiv...   \n",
       "EU_32018R1999_Title_0_Chapter_7_Section_3_Artic...  article 50\\r\\namendment to regulation (ec) no ...   \n",
       "EU_32006L0066_Title_0_Chapter_0_Section_0_Artic...  article 29\\r\\nentry into force\\r\\nthis directi...   \n",
       "EU_32004L0008_Title_0_Chapter_0_Section_0_Artic...  article 18\\r\\naddressees\\r\\nthis directive is ...   \n",
       "EU_32004L0008_Title_0_Chapter_0_Section_0_Artic...  article 13\\r\\nreview\\r\\n1. the threshold value...   \n",
       "EU_32019L0944_Title_0_Chapter_2_Section_0_Artic...  article 4\\r\\nfree choice of supplier\\r\\nmember...   \n",
       "EU_32006L0032_Title_0_Chapter_4_Section_0_Artic...  article 17\\r\\nrepeal\\r\\ndirective 93/76/eec is...   \n",
       "EU_32013R0525_Title_0_Chapter_7_Section_0_Artic...  article 29\\r\\nentry into force\\r\\nthis regulat...   \n",
       "EU_32018R1999_Title_0_Chapter_7_Section_3_Artic...  article 49\\r\\namendments to regulation (ec) no...   \n",
       "EU_32006L0032_Title_0_Chapter_4_Section_0_Artic...  article 19\\r\\nentry into force\\r\\nthis directi...   \n",
       "EU_32012L0027_Title_0_Chapter_5_Section_0_Artic...  article 29\\r\\nentry into force\\r\\nthis directi...   \n",
       "EU_32019R0631_Whereas                               whereas:\\r\\n(1)\\r\\nregulation (ec) no 443/2009...   \n",
       "EU_32006L0066_Title_0_Chapter_0_Section_0_Artic...  article 30\\r\\naddressees\\r\\nthis directive is ...   \n",
       "EU_32009R0079_Title_0_Chapter_0_Section_0_Artic...  article 14\\r\\namendments to directive 2007/46/...   \n",
       "\n",
       "                                                                                               Tokens  \\\n",
       "EU_32009L0028_Title_0_Chapter_0_Section_0_Artic...  [start:0 stop:7 text:article tag_count:0, star...   \n",
       "EU_32009L0028_Title_0_Chapter_0_Section_0_Artic...  [start:0 stop:7 text:article tag_count:0, star...   \n",
       "EU_32009R0397_Title_0_Chapter_0_Section_0_Artic...  [start:0 stop:7 text:article tag_count:0, star...   \n",
       "EU_32018L2001_Title_0_Chapter_0_Section_0_Artic...  [start:0 stop:7 text:article tag_count:0, star...   \n",
       "EU_32009L0028_Title_0_Chapter_0_Section_0_Artic...  [start:0 stop:7 text:article tag_count:0, star...   \n",
       "EU_32018R1999_Title_0_Chapter_7_Section_3_Artic...  [start:0 stop:7 text:article tag_count:0, star...   \n",
       "EU_32004L0008_Title_0_Chapter_0_Section_0_Artic...  [start:0 stop:7 text:article tag_count:0, star...   \n",
       "EU_32009L0028_Title_0_Chapter_0_Section_0_Artic...  [start:0 stop:7 text:article tag_count:0, star...   \n",
       "EU_32018L0844_Title_0_Chapter_0_Section_0_Artic...  [start:0 stop:7 text:article tag_count:0, star...   \n",
       "EU_32008R1099_Title_0_Chapter_0_Section_0_Artic...  [start:0 stop:7 text:article tag_count:0, star...   \n",
       "EU_32012L0027_Title_0_Chapter_5_Section_0_Artic...  [start:0 stop:7 text:article tag_count:0, star...   \n",
       "EU_32019R0631_Title_0_Chapter_0_Section_0_Artic...  [start:0 stop:7 text:article tag_count:0, star...   \n",
       "EU_32014R0421_Title_0_Chapter_0_Section_0_Artic...  [start:0 stop:7 text:article tag_count:0, star...   \n",
       "EU_32018R1999_Title_0_Chapter_7_Section_3_Artic...  [start:0 stop:7 text:article tag_count:0, star...   \n",
       "EU_32006L0066_Title_0_Chapter_0_Section_0_Artic...  [start:0 stop:7 text:article tag_count:0, star...   \n",
       "EU_32019L0944_Title_0_Chapter_7_Section_5_Artic...  [start:0 stop:7 text:article tag_count:0, star...   \n",
       "EU_32013R0525_Title_0_Chapter_7_Section_0_Artic...  [start:0 stop:7 text:article tag_count:0, star...   \n",
       "EU_32012L0027_Title_0_Chapter_4_Section_0_Artic...  [start:0 stop:7 text:article tag_count:0, star...   \n",
       "EU_32009R0079_Title_0_Chapter_0_Section_0_Artic...  [start:0 stop:7 text:article tag_count:0, star...   \n",
       "EU_32004L0008_Title_0_Chapter_0_Section_0_Artic...  [start:0 stop:7 text:article tag_count:0, star...   \n",
       "EU_32018L2001_Title_0_Chapter_0_Section_0_Artic...  [start:0 stop:7 text:article tag_count:0, star...   \n",
       "EU_32006L0032_Title_0_Chapter_4_Section_0_Artic...  [start:0 stop:7 text:article tag_count:0, star...   \n",
       "EU_32018L0844_Title_0_Chapter_0_Section_0_Artic...  [start:0 stop:7 text:article tag_count:0, star...   \n",
       "EU_32018R1999_Title_0_Chapter_7_Section_3_Artic...  [start:0 stop:7 text:article tag_count:0, star...   \n",
       "EU_32006L0066_Title_0_Chapter_0_Section_0_Artic...  [start:0 stop:7 text:article tag_count:0, star...   \n",
       "EU_32004L0008_Title_0_Chapter_0_Section_0_Artic...  [start:0 stop:7 text:article tag_count:0, star...   \n",
       "EU_32004L0008_Title_0_Chapter_0_Section_0_Artic...  [start:0 stop:7 text:article tag_count:0, star...   \n",
       "EU_32019L0944_Title_0_Chapter_2_Section_0_Artic...  [start:0 stop:7 text:article tag_count:0, star...   \n",
       "EU_32006L0032_Title_0_Chapter_4_Section_0_Artic...  [start:0 stop:7 text:article tag_count:0, star...   \n",
       "EU_32013R0525_Title_0_Chapter_7_Section_0_Artic...  [start:0 stop:7 text:article tag_count:0, star...   \n",
       "EU_32018R1999_Title_0_Chapter_7_Section_3_Artic...  [start:0 stop:7 text:article tag_count:0, star...   \n",
       "EU_32006L0032_Title_0_Chapter_4_Section_0_Artic...  [start:0 stop:7 text:article tag_count:0, star...   \n",
       "EU_32012L0027_Title_0_Chapter_5_Section_0_Artic...  [start:0 stop:7 text:article tag_count:0, star...   \n",
       "EU_32019R0631_Whereas                               [start:0 stop:7 text:whereas tag_count:0, star...   \n",
       "EU_32006L0066_Title_0_Chapter_0_Section_0_Artic...  [start:0 stop:7 text:article tag_count:0, star...   \n",
       "EU_32009R0079_Title_0_Chapter_0_Section_0_Artic...  [start:0 stop:7 text:article tag_count:0, star...   \n",
       "\n",
       "                                                        Article_State  \\\n",
       "EU_32009L0028_Title_0_Chapter_0_Section_0_Artic...  CURATION_FINISHED   \n",
       "EU_32009L0028_Title_0_Chapter_0_Section_0_Artic...  CURATION_FINISHED   \n",
       "EU_32009R0397_Title_0_Chapter_0_Section_0_Artic...  CURATION_FINISHED   \n",
       "EU_32018L2001_Title_0_Chapter_0_Section_0_Artic...  CURATION_FINISHED   \n",
       "EU_32009L0028_Title_0_Chapter_0_Section_0_Artic...  CURATION_FINISHED   \n",
       "EU_32018R1999_Title_0_Chapter_7_Section_3_Artic...  CURATION_FINISHED   \n",
       "EU_32004L0008_Title_0_Chapter_0_Section_0_Artic...  CURATION_FINISHED   \n",
       "EU_32009L0028_Title_0_Chapter_0_Section_0_Artic...  CURATION_FINISHED   \n",
       "EU_32018L0844_Title_0_Chapter_0_Section_0_Artic...  CURATION_FINISHED   \n",
       "EU_32008R1099_Title_0_Chapter_0_Section_0_Artic...  CURATION_FINISHED   \n",
       "EU_32012L0027_Title_0_Chapter_5_Section_0_Artic...  CURATION_FINISHED   \n",
       "EU_32019R0631_Title_0_Chapter_0_Section_0_Artic...  CURATION_FINISHED   \n",
       "EU_32014R0421_Title_0_Chapter_0_Section_0_Artic...  CURATION_FINISHED   \n",
       "EU_32018R1999_Title_0_Chapter_7_Section_3_Artic...  CURATION_FINISHED   \n",
       "EU_32006L0066_Title_0_Chapter_0_Section_0_Artic...  CURATION_FINISHED   \n",
       "EU_32019L0944_Title_0_Chapter_7_Section_5_Artic...  CURATION_FINISHED   \n",
       "EU_32013R0525_Title_0_Chapter_7_Section_0_Artic...  CURATION_FINISHED   \n",
       "EU_32012L0027_Title_0_Chapter_4_Section_0_Artic...  CURATION_FINISHED   \n",
       "EU_32009R0079_Title_0_Chapter_0_Section_0_Artic...  CURATION_FINISHED   \n",
       "EU_32004L0008_Title_0_Chapter_0_Section_0_Artic...  CURATION_FINISHED   \n",
       "EU_32018L2001_Title_0_Chapter_0_Section_0_Artic...  CURATION_FINISHED   \n",
       "EU_32006L0032_Title_0_Chapter_4_Section_0_Artic...  CURATION_FINISHED   \n",
       "EU_32018L0844_Title_0_Chapter_0_Section_0_Artic...  CURATION_FINISHED   \n",
       "EU_32018R1999_Title_0_Chapter_7_Section_3_Artic...  CURATION_FINISHED   \n",
       "EU_32006L0066_Title_0_Chapter_0_Section_0_Artic...  CURATION_FINISHED   \n",
       "EU_32004L0008_Title_0_Chapter_0_Section_0_Artic...  CURATION_FINISHED   \n",
       "EU_32004L0008_Title_0_Chapter_0_Section_0_Artic...  CURATION_FINISHED   \n",
       "EU_32019L0944_Title_0_Chapter_2_Section_0_Artic...  CURATION_FINISHED   \n",
       "EU_32006L0032_Title_0_Chapter_4_Section_0_Artic...  CURATION_FINISHED   \n",
       "EU_32013R0525_Title_0_Chapter_7_Section_0_Artic...  CURATION_FINISHED   \n",
       "EU_32018R1999_Title_0_Chapter_7_Section_3_Artic...  CURATION_FINISHED   \n",
       "EU_32006L0032_Title_0_Chapter_4_Section_0_Artic...  CURATION_FINISHED   \n",
       "EU_32012L0027_Title_0_Chapter_5_Section_0_Artic...  CURATION_FINISHED   \n",
       "EU_32019R0631_Whereas                               CURATION_FINISHED   \n",
       "EU_32006L0066_Title_0_Chapter_0_Section_0_Artic...  CURATION_FINISHED   \n",
       "EU_32009R0079_Title_0_Chapter_0_Section_0_Artic...  CURATION_FINISHED   \n",
       "\n",
       "                                                   Finished_Annotators  \\\n",
       "EU_32009L0028_Title_0_Chapter_0_Section_0_Artic...    [Alisha, Fabian]   \n",
       "EU_32009L0028_Title_0_Chapter_0_Section_0_Artic...    [Alisha, Fabian]   \n",
       "EU_32009R0397_Title_0_Chapter_0_Section_0_Artic...     [Fabian, Fride]   \n",
       "EU_32018L2001_Title_0_Chapter_0_Section_0_Artic...     [Fride, Onerva]   \n",
       "EU_32009L0028_Title_0_Chapter_0_Section_0_Artic...    [Alisha, Fabian]   \n",
       "EU_32018R1999_Title_0_Chapter_7_Section_3_Artic...     [Alisha, Fride]   \n",
       "EU_32004L0008_Title_0_Chapter_0_Section_0_Artic...     [Fabian, Fride]   \n",
       "EU_32009L0028_Title_0_Chapter_0_Section_0_Artic...    [Alisha, Fabian]   \n",
       "EU_32018L0844_Title_0_Chapter_0_Section_0_Artic...    [Fabian, Onerva]   \n",
       "EU_32008R1099_Title_0_Chapter_0_Section_0_Artic...     [Alisha, Fride]   \n",
       "EU_32012L0027_Title_0_Chapter_5_Section_0_Artic...     [Fride, Onerva]   \n",
       "EU_32019R0631_Title_0_Chapter_0_Section_0_Artic...    [Onerva, Fabian]   \n",
       "EU_32014R0421_Title_0_Chapter_0_Section_0_Artic...    [Onerva, Fabian]   \n",
       "EU_32018R1999_Title_0_Chapter_7_Section_3_Artic...     [Alisha, Fride]   \n",
       "EU_32006L0066_Title_0_Chapter_0_Section_0_Artic...     [Fride, Onerva]   \n",
       "EU_32019L0944_Title_0_Chapter_7_Section_5_Artic...    [Alisha, Fabian]   \n",
       "EU_32013R0525_Title_0_Chapter_7_Section_0_Artic...    [Alisha, Fabian]   \n",
       "EU_32012L0027_Title_0_Chapter_4_Section_0_Artic...     [Fride, Onerva]   \n",
       "EU_32009R0079_Title_0_Chapter_0_Section_0_Artic...    [Fabian, Onerva]   \n",
       "EU_32004L0008_Title_0_Chapter_0_Section_0_Artic...     [Fabian, Fride]   \n",
       "EU_32018L2001_Title_0_Chapter_0_Section_0_Artic...     [Fride, Onerva]   \n",
       "EU_32006L0032_Title_0_Chapter_4_Section_0_Artic...     [Fride, Onerva]   \n",
       "EU_32018L0844_Title_0_Chapter_0_Section_0_Artic...    [Fabian, Onerva]   \n",
       "EU_32018R1999_Title_0_Chapter_7_Section_3_Artic...     [Alisha, Fride]   \n",
       "EU_32006L0066_Title_0_Chapter_0_Section_0_Artic...     [Fride, Onerva]   \n",
       "EU_32004L0008_Title_0_Chapter_0_Section_0_Artic...     [Fabian, Fride]   \n",
       "EU_32004L0008_Title_0_Chapter_0_Section_0_Artic...     [Fabian, Fride]   \n",
       "EU_32019L0944_Title_0_Chapter_2_Section_0_Artic...    [Alisha, Fabian]   \n",
       "EU_32006L0032_Title_0_Chapter_4_Section_0_Artic...     [Fride, Onerva]   \n",
       "EU_32013R0525_Title_0_Chapter_7_Section_0_Artic...    [Alisha, Fabian]   \n",
       "EU_32018R1999_Title_0_Chapter_7_Section_3_Artic...     [Alisha, Fride]   \n",
       "EU_32006L0032_Title_0_Chapter_4_Section_0_Artic...     [Fride, Onerva]   \n",
       "EU_32012L0027_Title_0_Chapter_5_Section_0_Artic...     [Fride, Onerva]   \n",
       "EU_32019R0631_Whereas                                 [Onerva, Fabian]   \n",
       "EU_32006L0066_Title_0_Chapter_0_Section_0_Artic...     [Fride, Onerva]   \n",
       "EU_32009R0079_Title_0_Chapter_0_Section_0_Artic...    [Fabian, Onerva]   \n",
       "\n",
       "                                                                                             Curation  \\\n",
       "EU_32009L0028_Title_0_Chapter_0_Section_0_Artic...  [annotator:curation layer:Technologyandapplica...   \n",
       "EU_32009L0028_Title_0_Chapter_0_Section_0_Artic...  [annotator:curation layer:Instrumenttypes type...   \n",
       "EU_32009R0397_Title_0_Chapter_0_Section_0_Artic...  [annotator:curation layer:Policydesigncharacte...   \n",
       "EU_32018L2001_Title_0_Chapter_0_Section_0_Artic...  [annotator:curation layer:Policydesigncharacte...   \n",
       "EU_32009L0028_Title_0_Chapter_0_Section_0_Artic...  [annotator:curation layer:Policydesigncharacte...   \n",
       "EU_32018R1999_Title_0_Chapter_7_Section_3_Artic...  [annotator:curation layer:Policydesigncharacte...   \n",
       "EU_32004L0008_Title_0_Chapter_0_Section_0_Artic...  [annotator:curation layer:Policydesigncharacte...   \n",
       "EU_32009L0028_Title_0_Chapter_0_Section_0_Artic...  [annotator:curation layer:Policydesigncharacte...   \n",
       "EU_32018L0844_Title_0_Chapter_0_Section_0_Artic...  [annotator:curation layer:Policydesigncharacte...   \n",
       "EU_32008R1099_Title_0_Chapter_0_Section_0_Artic...  [annotator:curation layer:Policydesigncharacte...   \n",
       "EU_32012L0027_Title_0_Chapter_5_Section_0_Artic...  [annotator:curation layer:Policydesigncharacte...   \n",
       "EU_32019R0631_Title_0_Chapter_0_Section_0_Artic...  [annotator:curation layer:Policydesigncharacte...   \n",
       "EU_32014R0421_Title_0_Chapter_0_Section_0_Artic...  [annotator:curation layer:Policydesigncharacte...   \n",
       "EU_32018R1999_Title_0_Chapter_7_Section_3_Artic...  [annotator:curation layer:Policydesigncharacte...   \n",
       "EU_32006L0066_Title_0_Chapter_0_Section_0_Artic...  [annotator:curation layer:Policydesigncharacte...   \n",
       "EU_32019L0944_Title_0_Chapter_7_Section_5_Artic...  [annotator:curation layer:Policydesigncharacte...   \n",
       "EU_32013R0525_Title_0_Chapter_7_Section_0_Artic...  [annotator:curation layer:Policydesigncharacte...   \n",
       "EU_32012L0027_Title_0_Chapter_4_Section_0_Artic...  [annotator:curation layer:Technologyandapplica...   \n",
       "EU_32009R0079_Title_0_Chapter_0_Section_0_Artic...  [annotator:curation layer:Policydesigncharacte...   \n",
       "EU_32004L0008_Title_0_Chapter_0_Section_0_Artic...  [annotator:curation layer:Policydesigncharacte...   \n",
       "EU_32018L2001_Title_0_Chapter_0_Section_0_Artic...  [annotator:curation layer:Policydesigncharacte...   \n",
       "EU_32006L0032_Title_0_Chapter_4_Section_0_Artic...  [annotator:curation layer:Policydesigncharacte...   \n",
       "EU_32018L0844_Title_0_Chapter_0_Section_0_Artic...  [annotator:curation layer:Policydesigncharacte...   \n",
       "EU_32018R1999_Title_0_Chapter_7_Section_3_Artic...  [annotator:curation layer:Policydesigncharacte...   \n",
       "EU_32006L0066_Title_0_Chapter_0_Section_0_Artic...  [annotator:curation layer:Policydesigncharacte...   \n",
       "EU_32004L0008_Title_0_Chapter_0_Section_0_Artic...  [annotator:curation layer:Policydesigncharacte...   \n",
       "EU_32004L0008_Title_0_Chapter_0_Section_0_Artic...  [annotator:curation layer:Technologyandapplica...   \n",
       "EU_32019L0944_Title_0_Chapter_2_Section_0_Artic...  [annotator:curation layer:Policydesigncharacte...   \n",
       "EU_32006L0032_Title_0_Chapter_4_Section_0_Artic...  [annotator:curation layer:Policydesigncharacte...   \n",
       "EU_32013R0525_Title_0_Chapter_7_Section_0_Artic...  [annotator:curation layer:Policydesigncharacte...   \n",
       "EU_32018R1999_Title_0_Chapter_7_Section_3_Artic...  [annotator:curation layer:Policydesigncharacte...   \n",
       "EU_32006L0032_Title_0_Chapter_4_Section_0_Artic...  [annotator:curation layer:Policydesigncharacte...   \n",
       "EU_32012L0027_Title_0_Chapter_5_Section_0_Artic...  [annotator:curation layer:Policydesigncharacte...   \n",
       "EU_32019R0631_Whereas                                                                              []   \n",
       "EU_32006L0066_Title_0_Chapter_0_Section_0_Artic...  [annotator:curation layer:Policydesigncharacte...   \n",
       "EU_32009R0079_Title_0_Chapter_0_Section_0_Artic...  [annotator:curation layer:Policydesigncharacte...   \n",
       "\n",
       "                                                                                               Onerva  \\\n",
       "EU_32009L0028_Title_0_Chapter_0_Section_0_Artic...                                                 []   \n",
       "EU_32009L0028_Title_0_Chapter_0_Section_0_Artic...                                                 []   \n",
       "EU_32009R0397_Title_0_Chapter_0_Section_0_Artic...                                                      \n",
       "EU_32018L2001_Title_0_Chapter_0_Section_0_Artic...  [annotator:Onerva layer:Policydesigncharacteri...   \n",
       "EU_32009L0028_Title_0_Chapter_0_Section_0_Artic...                                                 []   \n",
       "EU_32018R1999_Title_0_Chapter_7_Section_3_Artic...                                                      \n",
       "EU_32004L0008_Title_0_Chapter_0_Section_0_Artic...                                                      \n",
       "EU_32009L0028_Title_0_Chapter_0_Section_0_Artic...                                                 []   \n",
       "EU_32018L0844_Title_0_Chapter_0_Section_0_Artic...  [annotator:Onerva layer:Policydesigncharacteri...   \n",
       "EU_32008R1099_Title_0_Chapter_0_Section_0_Artic...  [annotator:Onerva layer:Policydesigncharacteri...   \n",
       "EU_32012L0027_Title_0_Chapter_5_Section_0_Artic...  [annotator:Onerva layer:Policydesigncharacteri...   \n",
       "EU_32019R0631_Title_0_Chapter_0_Section_0_Artic...  [annotator:Onerva layer:Policydesigncharacteri...   \n",
       "EU_32014R0421_Title_0_Chapter_0_Section_0_Artic...  [annotator:Onerva layer:Policydesigncharacteri...   \n",
       "EU_32018R1999_Title_0_Chapter_7_Section_3_Artic...                                                      \n",
       "EU_32006L0066_Title_0_Chapter_0_Section_0_Artic...  [annotator:Onerva layer:Policydesigncharacteri...   \n",
       "EU_32019L0944_Title_0_Chapter_7_Section_5_Artic...  [annotator:Onerva layer:Policydesigncharacteri...   \n",
       "EU_32013R0525_Title_0_Chapter_7_Section_0_Artic...                                                      \n",
       "EU_32012L0027_Title_0_Chapter_4_Section_0_Artic...  [annotator:Onerva layer:Technologyandapplicati...   \n",
       "EU_32009R0079_Title_0_Chapter_0_Section_0_Artic...  [annotator:Onerva layer:Policydesigncharacteri...   \n",
       "EU_32004L0008_Title_0_Chapter_0_Section_0_Artic...                                                      \n",
       "EU_32018L2001_Title_0_Chapter_0_Section_0_Artic...  [annotator:Onerva layer:Policydesigncharacteri...   \n",
       "EU_32006L0032_Title_0_Chapter_4_Section_0_Artic...  [annotator:Onerva layer:Policydesigncharacteri...   \n",
       "EU_32018L0844_Title_0_Chapter_0_Section_0_Artic...  [annotator:Onerva layer:Policydesigncharacteri...   \n",
       "EU_32018R1999_Title_0_Chapter_7_Section_3_Artic...                                                      \n",
       "EU_32006L0066_Title_0_Chapter_0_Section_0_Artic...  [annotator:Onerva layer:Policydesigncharacteri...   \n",
       "EU_32004L0008_Title_0_Chapter_0_Section_0_Artic...                                                      \n",
       "EU_32004L0008_Title_0_Chapter_0_Section_0_Artic...                                                      \n",
       "EU_32019L0944_Title_0_Chapter_2_Section_0_Artic...                                                 []   \n",
       "EU_32006L0032_Title_0_Chapter_4_Section_0_Artic...  [annotator:Onerva layer:Policydesigncharacteri...   \n",
       "EU_32013R0525_Title_0_Chapter_7_Section_0_Artic...                                                      \n",
       "EU_32018R1999_Title_0_Chapter_7_Section_3_Artic...                                                      \n",
       "EU_32006L0032_Title_0_Chapter_4_Section_0_Artic...  [annotator:Onerva layer:Policydesigncharacteri...   \n",
       "EU_32012L0027_Title_0_Chapter_5_Section_0_Artic...  [annotator:Onerva layer:Policydesigncharacteri...   \n",
       "EU_32019R0631_Whereas                               [annotator:Onerva layer:Policydesigncharacteri...   \n",
       "EU_32006L0066_Title_0_Chapter_0_Section_0_Artic...  [annotator:Onerva layer:Policydesigncharacteri...   \n",
       "EU_32009R0079_Title_0_Chapter_0_Section_0_Artic...  [annotator:Onerva layer:Policydesigncharacteri...   \n",
       "\n",
       "                                                                                                Fride  \\\n",
       "EU_32009L0028_Title_0_Chapter_0_Section_0_Artic...                                                      \n",
       "EU_32009L0028_Title_0_Chapter_0_Section_0_Artic...                                                      \n",
       "EU_32009R0397_Title_0_Chapter_0_Section_0_Artic...  [annotator:Fride layer:Policydesigncharacteris...   \n",
       "EU_32018L2001_Title_0_Chapter_0_Section_0_Artic...  [annotator:Fride layer:Policydesigncharacteris...   \n",
       "EU_32009L0028_Title_0_Chapter_0_Section_0_Artic...                                                      \n",
       "EU_32018R1999_Title_0_Chapter_7_Section_3_Artic...  [annotator:Fride layer:Policydesigncharacteris...   \n",
       "EU_32004L0008_Title_0_Chapter_0_Section_0_Artic...  [annotator:Fride layer:Policydesigncharacteris...   \n",
       "EU_32009L0028_Title_0_Chapter_0_Section_0_Artic...                                                      \n",
       "EU_32018L0844_Title_0_Chapter_0_Section_0_Artic...                                                      \n",
       "EU_32008R1099_Title_0_Chapter_0_Section_0_Artic...  [annotator:Fride layer:Policydesigncharacteris...   \n",
       "EU_32012L0027_Title_0_Chapter_5_Section_0_Artic...  [annotator:Fride layer:Policydesigncharacteris...   \n",
       "EU_32019R0631_Title_0_Chapter_0_Section_0_Artic...                                                      \n",
       "EU_32014R0421_Title_0_Chapter_0_Section_0_Artic...                                                      \n",
       "EU_32018R1999_Title_0_Chapter_7_Section_3_Artic...  [annotator:Fride layer:Policydesigncharacteris...   \n",
       "EU_32006L0066_Title_0_Chapter_0_Section_0_Artic...  [annotator:Fride layer:Policydesigncharacteris...   \n",
       "EU_32019L0944_Title_0_Chapter_7_Section_5_Artic...                                                      \n",
       "EU_32013R0525_Title_0_Chapter_7_Section_0_Artic...                                                      \n",
       "EU_32012L0027_Title_0_Chapter_4_Section_0_Artic...  [annotator:Fride layer:Technologyandapplicatio...   \n",
       "EU_32009R0079_Title_0_Chapter_0_Section_0_Artic...                                                      \n",
       "EU_32004L0008_Title_0_Chapter_0_Section_0_Artic...  [annotator:Fride layer:Technologyandapplicatio...   \n",
       "EU_32018L2001_Title_0_Chapter_0_Section_0_Artic...  [annotator:Fride layer:Policydesigncharacteris...   \n",
       "EU_32006L0032_Title_0_Chapter_4_Section_0_Artic...  [annotator:Fride layer:Policydesigncharacteris...   \n",
       "EU_32018L0844_Title_0_Chapter_0_Section_0_Artic...                                                      \n",
       "EU_32018R1999_Title_0_Chapter_7_Section_3_Artic...  [annotator:Fride layer:Policydesigncharacteris...   \n",
       "EU_32006L0066_Title_0_Chapter_0_Section_0_Artic...  [annotator:Fride layer:Policydesigncharacteris...   \n",
       "EU_32004L0008_Title_0_Chapter_0_Section_0_Artic...  [annotator:Fride layer:Policydesigncharacteris...   \n",
       "EU_32004L0008_Title_0_Chapter_0_Section_0_Artic...  [annotator:Fride layer:Technologyandapplicatio...   \n",
       "EU_32019L0944_Title_0_Chapter_2_Section_0_Artic...                                                      \n",
       "EU_32006L0032_Title_0_Chapter_4_Section_0_Artic...  [annotator:Fride layer:Policydesigncharacteris...   \n",
       "EU_32013R0525_Title_0_Chapter_7_Section_0_Artic...                                                      \n",
       "EU_32018R1999_Title_0_Chapter_7_Section_3_Artic...  [annotator:Fride layer:Policydesigncharacteris...   \n",
       "EU_32006L0032_Title_0_Chapter_4_Section_0_Artic...  [annotator:Fride layer:Policydesigncharacteris...   \n",
       "EU_32012L0027_Title_0_Chapter_5_Section_0_Artic...  [annotator:Fride layer:Policydesigncharacteris...   \n",
       "EU_32019R0631_Whereas                                                                                   \n",
       "EU_32006L0066_Title_0_Chapter_0_Section_0_Artic...  [annotator:Fride layer:Policydesigncharacteris...   \n",
       "EU_32009R0079_Title_0_Chapter_0_Section_0_Artic...                                                      \n",
       "\n",
       "                                                   Lynn Sebastian  \\\n",
       "EU_32009L0028_Title_0_Chapter_0_Section_0_Artic...             []   \n",
       "EU_32009L0028_Title_0_Chapter_0_Section_0_Artic...                  \n",
       "EU_32009R0397_Title_0_Chapter_0_Section_0_Artic...                  \n",
       "EU_32018L2001_Title_0_Chapter_0_Section_0_Artic...                  \n",
       "EU_32009L0028_Title_0_Chapter_0_Section_0_Artic...             []   \n",
       "EU_32018R1999_Title_0_Chapter_7_Section_3_Artic...                  \n",
       "EU_32004L0008_Title_0_Chapter_0_Section_0_Artic...                  \n",
       "EU_32009L0028_Title_0_Chapter_0_Section_0_Artic...             []   \n",
       "EU_32018L0844_Title_0_Chapter_0_Section_0_Artic...                  \n",
       "EU_32008R1099_Title_0_Chapter_0_Section_0_Artic...                  \n",
       "EU_32012L0027_Title_0_Chapter_5_Section_0_Artic...                  \n",
       "EU_32019R0631_Title_0_Chapter_0_Section_0_Artic...                  \n",
       "EU_32014R0421_Title_0_Chapter_0_Section_0_Artic...                  \n",
       "EU_32018R1999_Title_0_Chapter_7_Section_3_Artic...                  \n",
       "EU_32006L0066_Title_0_Chapter_0_Section_0_Artic...   []             \n",
       "EU_32019L0944_Title_0_Chapter_7_Section_5_Artic...                  \n",
       "EU_32013R0525_Title_0_Chapter_7_Section_0_Artic...                  \n",
       "EU_32012L0027_Title_0_Chapter_4_Section_0_Artic...                  \n",
       "EU_32009R0079_Title_0_Chapter_0_Section_0_Artic...                  \n",
       "EU_32004L0008_Title_0_Chapter_0_Section_0_Artic...                  \n",
       "EU_32018L2001_Title_0_Chapter_0_Section_0_Artic...                  \n",
       "EU_32006L0032_Title_0_Chapter_4_Section_0_Artic...                  \n",
       "EU_32018L0844_Title_0_Chapter_0_Section_0_Artic...                  \n",
       "EU_32018R1999_Title_0_Chapter_7_Section_3_Artic...                  \n",
       "EU_32006L0066_Title_0_Chapter_0_Section_0_Artic...   []             \n",
       "EU_32004L0008_Title_0_Chapter_0_Section_0_Artic...                  \n",
       "EU_32004L0008_Title_0_Chapter_0_Section_0_Artic...                  \n",
       "EU_32019L0944_Title_0_Chapter_2_Section_0_Artic...                  \n",
       "EU_32006L0032_Title_0_Chapter_4_Section_0_Artic...                  \n",
       "EU_32013R0525_Title_0_Chapter_7_Section_0_Artic...                  \n",
       "EU_32018R1999_Title_0_Chapter_7_Section_3_Artic...                  \n",
       "EU_32006L0032_Title_0_Chapter_4_Section_0_Artic...                  \n",
       "EU_32012L0027_Title_0_Chapter_5_Section_0_Artic...                  \n",
       "EU_32019R0631_Whereas                                               \n",
       "EU_32006L0066_Title_0_Chapter_0_Section_0_Artic...   []             \n",
       "EU_32009R0079_Title_0_Chapter_0_Section_0_Artic...                  \n",
       "\n",
       "                                                                                               Alisha  \\\n",
       "EU_32009L0028_Title_0_Chapter_0_Section_0_Artic...  [annotator:Alisha layer:Technologyandapplicati...   \n",
       "EU_32009L0028_Title_0_Chapter_0_Section_0_Artic...  [annotator:Alisha layer:Instrumenttypes type:I...   \n",
       "EU_32009R0397_Title_0_Chapter_0_Section_0_Artic...                                                      \n",
       "EU_32018L2001_Title_0_Chapter_0_Section_0_Artic...                                                      \n",
       "EU_32009L0028_Title_0_Chapter_0_Section_0_Artic...  [annotator:Alisha layer:Policydesigncharacteri...   \n",
       "EU_32018R1999_Title_0_Chapter_7_Section_3_Artic...  [annotator:Alisha layer:Policydesigncharacteri...   \n",
       "EU_32004L0008_Title_0_Chapter_0_Section_0_Artic...                                                      \n",
       "EU_32009L0028_Title_0_Chapter_0_Section_0_Artic...  [annotator:Alisha layer:Policydesigncharacteri...   \n",
       "EU_32018L0844_Title_0_Chapter_0_Section_0_Artic...                                                      \n",
       "EU_32008R1099_Title_0_Chapter_0_Section_0_Artic...  [annotator:Alisha layer:Policydesigncharacteri...   \n",
       "EU_32012L0027_Title_0_Chapter_5_Section_0_Artic...                                                      \n",
       "EU_32019R0631_Title_0_Chapter_0_Section_0_Artic...                                                      \n",
       "EU_32014R0421_Title_0_Chapter_0_Section_0_Artic...                                                      \n",
       "EU_32018R1999_Title_0_Chapter_7_Section_3_Artic...  [annotator:Alisha layer:Policydesigncharacteri...   \n",
       "EU_32006L0066_Title_0_Chapter_0_Section_0_Artic...                                                      \n",
       "EU_32019L0944_Title_0_Chapter_7_Section_5_Artic...  [annotator:Alisha layer:Policydesigncharacteri...   \n",
       "EU_32013R0525_Title_0_Chapter_7_Section_0_Artic...  [annotator:Alisha layer:Policydesigncharacteri...   \n",
       "EU_32012L0027_Title_0_Chapter_4_Section_0_Artic...                                                      \n",
       "EU_32009R0079_Title_0_Chapter_0_Section_0_Artic...                                                      \n",
       "EU_32004L0008_Title_0_Chapter_0_Section_0_Artic...                                                      \n",
       "EU_32018L2001_Title_0_Chapter_0_Section_0_Artic...                                                      \n",
       "EU_32006L0032_Title_0_Chapter_4_Section_0_Artic...                                                      \n",
       "EU_32018L0844_Title_0_Chapter_0_Section_0_Artic...                                                      \n",
       "EU_32018R1999_Title_0_Chapter_7_Section_3_Artic...  [annotator:Alisha layer:Policydesigncharacteri...   \n",
       "EU_32006L0066_Title_0_Chapter_0_Section_0_Artic...                                                      \n",
       "EU_32004L0008_Title_0_Chapter_0_Section_0_Artic...                                                      \n",
       "EU_32004L0008_Title_0_Chapter_0_Section_0_Artic...                                                      \n",
       "EU_32019L0944_Title_0_Chapter_2_Section_0_Artic...  [annotator:Alisha layer:Policydesigncharacteri...   \n",
       "EU_32006L0032_Title_0_Chapter_4_Section_0_Artic...                                                      \n",
       "EU_32013R0525_Title_0_Chapter_7_Section_0_Artic...  [annotator:Alisha layer:Instrumenttypes type:I...   \n",
       "EU_32018R1999_Title_0_Chapter_7_Section_3_Artic...  [annotator:Alisha layer:Policydesigncharacteri...   \n",
       "EU_32006L0032_Title_0_Chapter_4_Section_0_Artic...                                                      \n",
       "EU_32012L0027_Title_0_Chapter_5_Section_0_Artic...                                                      \n",
       "EU_32019R0631_Whereas                                                                                   \n",
       "EU_32006L0066_Title_0_Chapter_0_Section_0_Artic...                                                      \n",
       "EU_32009R0079_Title_0_Chapter_0_Section_0_Artic...                                                      \n",
       "\n",
       "                                                                                               Fabian  \\\n",
       "EU_32009L0028_Title_0_Chapter_0_Section_0_Artic...  [annotator:Fabian layer:Technologyandapplicati...   \n",
       "EU_32009L0028_Title_0_Chapter_0_Section_0_Artic...  [annotator:Fabian layer:Policydesigncharacteri...   \n",
       "EU_32009R0397_Title_0_Chapter_0_Section_0_Artic...  [annotator:Fabian layer:Policydesigncharacteri...   \n",
       "EU_32018L2001_Title_0_Chapter_0_Section_0_Artic...                                                      \n",
       "EU_32009L0028_Title_0_Chapter_0_Section_0_Artic...                                                 []   \n",
       "EU_32018R1999_Title_0_Chapter_7_Section_3_Artic...                                                      \n",
       "EU_32004L0008_Title_0_Chapter_0_Section_0_Artic...  [annotator:Fabian layer:Policydesigncharacteri...   \n",
       "EU_32009L0028_Title_0_Chapter_0_Section_0_Artic...  [annotator:Fabian layer:Policydesigncharacteri...   \n",
       "EU_32018L0844_Title_0_Chapter_0_Section_0_Artic...  [annotator:Fabian layer:Policydesigncharacteri...   \n",
       "EU_32008R1099_Title_0_Chapter_0_Section_0_Artic...                                                      \n",
       "EU_32012L0027_Title_0_Chapter_5_Section_0_Artic...                                                      \n",
       "EU_32019R0631_Title_0_Chapter_0_Section_0_Artic...  [annotator:Fabian layer:Policydesigncharacteri...   \n",
       "EU_32014R0421_Title_0_Chapter_0_Section_0_Artic...  [annotator:Fabian layer:Policydesigncharacteri...   \n",
       "EU_32018R1999_Title_0_Chapter_7_Section_3_Artic...                                                      \n",
       "EU_32006L0066_Title_0_Chapter_0_Section_0_Artic...                                                      \n",
       "EU_32019L0944_Title_0_Chapter_7_Section_5_Artic...  [annotator:Fabian layer:Policydesigncharacteri...   \n",
       "EU_32013R0525_Title_0_Chapter_7_Section_0_Artic...  [annotator:Fabian layer:Policydesigncharacteri...   \n",
       "EU_32012L0027_Title_0_Chapter_4_Section_0_Artic...                                                      \n",
       "EU_32009R0079_Title_0_Chapter_0_Section_0_Artic...  [annotator:Fabian layer:Policydesigncharacteri...   \n",
       "EU_32004L0008_Title_0_Chapter_0_Section_0_Artic...  [annotator:Fabian layer:Technologyandapplicati...   \n",
       "EU_32018L2001_Title_0_Chapter_0_Section_0_Artic...                                                      \n",
       "EU_32006L0032_Title_0_Chapter_4_Section_0_Artic...                                                      \n",
       "EU_32018L0844_Title_0_Chapter_0_Section_0_Artic...  [annotator:Fabian layer:Policydesigncharacteri...   \n",
       "EU_32018R1999_Title_0_Chapter_7_Section_3_Artic...                                                      \n",
       "EU_32006L0066_Title_0_Chapter_0_Section_0_Artic...                                                      \n",
       "EU_32004L0008_Title_0_Chapter_0_Section_0_Artic...  [annotator:Fabian layer:Policydesigncharacteri...   \n",
       "EU_32004L0008_Title_0_Chapter_0_Section_0_Artic...  [annotator:Fabian layer:Technologyandapplicati...   \n",
       "EU_32019L0944_Title_0_Chapter_2_Section_0_Artic...  [annotator:Fabian layer:Policydesigncharacteri...   \n",
       "EU_32006L0032_Title_0_Chapter_4_Section_0_Artic...                                                      \n",
       "EU_32013R0525_Title_0_Chapter_7_Section_0_Artic...  [annotator:Fabian layer:Policydesigncharacteri...   \n",
       "EU_32018R1999_Title_0_Chapter_7_Section_3_Artic...                                                      \n",
       "EU_32006L0032_Title_0_Chapter_4_Section_0_Artic...                                                      \n",
       "EU_32012L0027_Title_0_Chapter_5_Section_0_Artic...                                                      \n",
       "EU_32019R0631_Whereas                                                                              []   \n",
       "EU_32006L0066_Title_0_Chapter_0_Section_0_Artic...                                                      \n",
       "EU_32009R0079_Title_0_Chapter_0_Section_0_Artic...  [annotator:Fabian layer:Policydesigncharacteri...   \n",
       "\n",
       "                                                   f1_exact_score  \\\n",
       "EU_32009L0028_Title_0_Chapter_0_Section_0_Artic...  Less than two   \n",
       "EU_32009L0028_Title_0_Chapter_0_Section_0_Artic...  Less than two   \n",
       "EU_32009R0397_Title_0_Chapter_0_Section_0_Artic...  Less than two   \n",
       "EU_32018L2001_Title_0_Chapter_0_Section_0_Artic...  Less than two   \n",
       "EU_32009L0028_Title_0_Chapter_0_Section_0_Artic...  Less than two   \n",
       "EU_32018R1999_Title_0_Chapter_7_Section_3_Artic...  Less than two   \n",
       "EU_32004L0008_Title_0_Chapter_0_Section_0_Artic...  Less than two   \n",
       "EU_32009L0028_Title_0_Chapter_0_Section_0_Artic...  Less than two   \n",
       "EU_32018L0844_Title_0_Chapter_0_Section_0_Artic...  Less than two   \n",
       "EU_32008R1099_Title_0_Chapter_0_Section_0_Artic...  Less than two   \n",
       "EU_32012L0027_Title_0_Chapter_5_Section_0_Artic...  Less than two   \n",
       "EU_32019R0631_Title_0_Chapter_0_Section_0_Artic...  Less than two   \n",
       "EU_32014R0421_Title_0_Chapter_0_Section_0_Artic...  Less than two   \n",
       "EU_32018R1999_Title_0_Chapter_7_Section_3_Artic...  Less than two   \n",
       "EU_32006L0066_Title_0_Chapter_0_Section_0_Artic...  Less than two   \n",
       "EU_32019L0944_Title_0_Chapter_7_Section_5_Artic...  Less than two   \n",
       "EU_32013R0525_Title_0_Chapter_7_Section_0_Artic...  Less than two   \n",
       "EU_32012L0027_Title_0_Chapter_4_Section_0_Artic...  Less than two   \n",
       "EU_32009R0079_Title_0_Chapter_0_Section_0_Artic...  Less than two   \n",
       "EU_32004L0008_Title_0_Chapter_0_Section_0_Artic...  Less than two   \n",
       "EU_32018L2001_Title_0_Chapter_0_Section_0_Artic...  Less than two   \n",
       "EU_32006L0032_Title_0_Chapter_4_Section_0_Artic...  Less than two   \n",
       "EU_32018L0844_Title_0_Chapter_0_Section_0_Artic...  Less than two   \n",
       "EU_32018R1999_Title_0_Chapter_7_Section_3_Artic...  Less than two   \n",
       "EU_32006L0066_Title_0_Chapter_0_Section_0_Artic...  Less than two   \n",
       "EU_32004L0008_Title_0_Chapter_0_Section_0_Artic...  Less than two   \n",
       "EU_32004L0008_Title_0_Chapter_0_Section_0_Artic...  Less than two   \n",
       "EU_32019L0944_Title_0_Chapter_2_Section_0_Artic...  Less than two   \n",
       "EU_32006L0032_Title_0_Chapter_4_Section_0_Artic...  Less than two   \n",
       "EU_32013R0525_Title_0_Chapter_7_Section_0_Artic...  Less than two   \n",
       "EU_32018R1999_Title_0_Chapter_7_Section_3_Artic...  Less than two   \n",
       "EU_32006L0032_Title_0_Chapter_4_Section_0_Artic...  Less than two   \n",
       "EU_32012L0027_Title_0_Chapter_5_Section_0_Artic...  Less than two   \n",
       "EU_32019R0631_Whereas                               Less than two   \n",
       "EU_32006L0066_Title_0_Chapter_0_Section_0_Artic...  Less than two   \n",
       "EU_32009R0079_Title_0_Chapter_0_Section_0_Artic...  Less than two   \n",
       "\n",
       "                                                   f1_tokenwise_score  \\\n",
       "EU_32009L0028_Title_0_Chapter_0_Section_0_Artic...      Less than two   \n",
       "EU_32009L0028_Title_0_Chapter_0_Section_0_Artic...      Less than two   \n",
       "EU_32009R0397_Title_0_Chapter_0_Section_0_Artic...      Less than two   \n",
       "EU_32018L2001_Title_0_Chapter_0_Section_0_Artic...      Less than two   \n",
       "EU_32009L0028_Title_0_Chapter_0_Section_0_Artic...      Less than two   \n",
       "EU_32018R1999_Title_0_Chapter_7_Section_3_Artic...      Less than two   \n",
       "EU_32004L0008_Title_0_Chapter_0_Section_0_Artic...      Less than two   \n",
       "EU_32009L0028_Title_0_Chapter_0_Section_0_Artic...      Less than two   \n",
       "EU_32018L0844_Title_0_Chapter_0_Section_0_Artic...      Less than two   \n",
       "EU_32008R1099_Title_0_Chapter_0_Section_0_Artic...      Less than two   \n",
       "EU_32012L0027_Title_0_Chapter_5_Section_0_Artic...      Less than two   \n",
       "EU_32019R0631_Title_0_Chapter_0_Section_0_Artic...      Less than two   \n",
       "EU_32014R0421_Title_0_Chapter_0_Section_0_Artic...      Less than two   \n",
       "EU_32018R1999_Title_0_Chapter_7_Section_3_Artic...      Less than two   \n",
       "EU_32006L0066_Title_0_Chapter_0_Section_0_Artic...      Less than two   \n",
       "EU_32019L0944_Title_0_Chapter_7_Section_5_Artic...      Less than two   \n",
       "EU_32013R0525_Title_0_Chapter_7_Section_0_Artic...      Less than two   \n",
       "EU_32012L0027_Title_0_Chapter_4_Section_0_Artic...      Less than two   \n",
       "EU_32009R0079_Title_0_Chapter_0_Section_0_Artic...      Less than two   \n",
       "EU_32004L0008_Title_0_Chapter_0_Section_0_Artic...      Less than two   \n",
       "EU_32018L2001_Title_0_Chapter_0_Section_0_Artic...      Less than two   \n",
       "EU_32006L0032_Title_0_Chapter_4_Section_0_Artic...      Less than two   \n",
       "EU_32018L0844_Title_0_Chapter_0_Section_0_Artic...      Less than two   \n",
       "EU_32018R1999_Title_0_Chapter_7_Section_3_Artic...      Less than two   \n",
       "EU_32006L0066_Title_0_Chapter_0_Section_0_Artic...      Less than two   \n",
       "EU_32004L0008_Title_0_Chapter_0_Section_0_Artic...      Less than two   \n",
       "EU_32004L0008_Title_0_Chapter_0_Section_0_Artic...      Less than two   \n",
       "EU_32019L0944_Title_0_Chapter_2_Section_0_Artic...      Less than two   \n",
       "EU_32006L0032_Title_0_Chapter_4_Section_0_Artic...      Less than two   \n",
       "EU_32013R0525_Title_0_Chapter_7_Section_0_Artic...      Less than two   \n",
       "EU_32018R1999_Title_0_Chapter_7_Section_3_Artic...      Less than two   \n",
       "EU_32006L0032_Title_0_Chapter_4_Section_0_Artic...      Less than two   \n",
       "EU_32012L0027_Title_0_Chapter_5_Section_0_Artic...      Less than two   \n",
       "EU_32019R0631_Whereas                                   Less than two   \n",
       "EU_32006L0066_Title_0_Chapter_0_Section_0_Artic...      Less than two   \n",
       "EU_32009R0079_Title_0_Chapter_0_Section_0_Artic...      Less than two   \n",
       "\n",
       "                                                   f1_partial_score  \\\n",
       "EU_32009L0028_Title_0_Chapter_0_Section_0_Artic...    Less than two   \n",
       "EU_32009L0028_Title_0_Chapter_0_Section_0_Artic...    Less than two   \n",
       "EU_32009R0397_Title_0_Chapter_0_Section_0_Artic...    Less than two   \n",
       "EU_32018L2001_Title_0_Chapter_0_Section_0_Artic...    Less than two   \n",
       "EU_32009L0028_Title_0_Chapter_0_Section_0_Artic...    Less than two   \n",
       "EU_32018R1999_Title_0_Chapter_7_Section_3_Artic...    Less than two   \n",
       "EU_32004L0008_Title_0_Chapter_0_Section_0_Artic...    Less than two   \n",
       "EU_32009L0028_Title_0_Chapter_0_Section_0_Artic...    Less than two   \n",
       "EU_32018L0844_Title_0_Chapter_0_Section_0_Artic...    Less than two   \n",
       "EU_32008R1099_Title_0_Chapter_0_Section_0_Artic...    Less than two   \n",
       "EU_32012L0027_Title_0_Chapter_5_Section_0_Artic...    Less than two   \n",
       "EU_32019R0631_Title_0_Chapter_0_Section_0_Artic...    Less than two   \n",
       "EU_32014R0421_Title_0_Chapter_0_Section_0_Artic...    Less than two   \n",
       "EU_32018R1999_Title_0_Chapter_7_Section_3_Artic...    Less than two   \n",
       "EU_32006L0066_Title_0_Chapter_0_Section_0_Artic...    Less than two   \n",
       "EU_32019L0944_Title_0_Chapter_7_Section_5_Artic...    Less than two   \n",
       "EU_32013R0525_Title_0_Chapter_7_Section_0_Artic...    Less than two   \n",
       "EU_32012L0027_Title_0_Chapter_4_Section_0_Artic...    Less than two   \n",
       "EU_32009R0079_Title_0_Chapter_0_Section_0_Artic...    Less than two   \n",
       "EU_32004L0008_Title_0_Chapter_0_Section_0_Artic...    Less than two   \n",
       "EU_32018L2001_Title_0_Chapter_0_Section_0_Artic...    Less than two   \n",
       "EU_32006L0032_Title_0_Chapter_4_Section_0_Artic...    Less than two   \n",
       "EU_32018L0844_Title_0_Chapter_0_Section_0_Artic...    Less than two   \n",
       "EU_32018R1999_Title_0_Chapter_7_Section_3_Artic...    Less than two   \n",
       "EU_32006L0066_Title_0_Chapter_0_Section_0_Artic...    Less than two   \n",
       "EU_32004L0008_Title_0_Chapter_0_Section_0_Artic...    Less than two   \n",
       "EU_32004L0008_Title_0_Chapter_0_Section_0_Artic...    Less than two   \n",
       "EU_32019L0944_Title_0_Chapter_2_Section_0_Artic...    Less than two   \n",
       "EU_32006L0032_Title_0_Chapter_4_Section_0_Artic...    Less than two   \n",
       "EU_32013R0525_Title_0_Chapter_7_Section_0_Artic...    Less than two   \n",
       "EU_32018R1999_Title_0_Chapter_7_Section_3_Artic...    Less than two   \n",
       "EU_32006L0032_Title_0_Chapter_4_Section_0_Artic...    Less than two   \n",
       "EU_32012L0027_Title_0_Chapter_5_Section_0_Artic...    Less than two   \n",
       "EU_32019R0631_Whereas                                 Less than two   \n",
       "EU_32006L0066_Title_0_Chapter_0_Section_0_Artic...    Less than two   \n",
       "EU_32009R0079_Title_0_Chapter_0_Section_0_Artic...    Less than two   \n",
       "\n",
       "                                                   f1_heuristic_score  \n",
       "EU_32009L0028_Title_0_Chapter_0_Section_0_Artic...      Less than two  \n",
       "EU_32009L0028_Title_0_Chapter_0_Section_0_Artic...      Less than two  \n",
       "EU_32009R0397_Title_0_Chapter_0_Section_0_Artic...      Less than two  \n",
       "EU_32018L2001_Title_0_Chapter_0_Section_0_Artic...      Less than two  \n",
       "EU_32009L0028_Title_0_Chapter_0_Section_0_Artic...      Less than two  \n",
       "EU_32018R1999_Title_0_Chapter_7_Section_3_Artic...      Less than two  \n",
       "EU_32004L0008_Title_0_Chapter_0_Section_0_Artic...      Less than two  \n",
       "EU_32009L0028_Title_0_Chapter_0_Section_0_Artic...      Less than two  \n",
       "EU_32018L0844_Title_0_Chapter_0_Section_0_Artic...      Less than two  \n",
       "EU_32008R1099_Title_0_Chapter_0_Section_0_Artic...      Less than two  \n",
       "EU_32012L0027_Title_0_Chapter_5_Section_0_Artic...      Less than two  \n",
       "EU_32019R0631_Title_0_Chapter_0_Section_0_Artic...      Less than two  \n",
       "EU_32014R0421_Title_0_Chapter_0_Section_0_Artic...      Less than two  \n",
       "EU_32018R1999_Title_0_Chapter_7_Section_3_Artic...      Less than two  \n",
       "EU_32006L0066_Title_0_Chapter_0_Section_0_Artic...      Less than two  \n",
       "EU_32019L0944_Title_0_Chapter_7_Section_5_Artic...      Less than two  \n",
       "EU_32013R0525_Title_0_Chapter_7_Section_0_Artic...      Less than two  \n",
       "EU_32012L0027_Title_0_Chapter_4_Section_0_Artic...      Less than two  \n",
       "EU_32009R0079_Title_0_Chapter_0_Section_0_Artic...      Less than two  \n",
       "EU_32004L0008_Title_0_Chapter_0_Section_0_Artic...      Less than two  \n",
       "EU_32018L2001_Title_0_Chapter_0_Section_0_Artic...      Less than two  \n",
       "EU_32006L0032_Title_0_Chapter_4_Section_0_Artic...      Less than two  \n",
       "EU_32018L0844_Title_0_Chapter_0_Section_0_Artic...      Less than two  \n",
       "EU_32018R1999_Title_0_Chapter_7_Section_3_Artic...      Less than two  \n",
       "EU_32006L0066_Title_0_Chapter_0_Section_0_Artic...      Less than two  \n",
       "EU_32004L0008_Title_0_Chapter_0_Section_0_Artic...      Less than two  \n",
       "EU_32004L0008_Title_0_Chapter_0_Section_0_Artic...      Less than two  \n",
       "EU_32019L0944_Title_0_Chapter_2_Section_0_Artic...      Less than two  \n",
       "EU_32006L0032_Title_0_Chapter_4_Section_0_Artic...      Less than two  \n",
       "EU_32013R0525_Title_0_Chapter_7_Section_0_Artic...      Less than two  \n",
       "EU_32018R1999_Title_0_Chapter_7_Section_3_Artic...      Less than two  \n",
       "EU_32006L0032_Title_0_Chapter_4_Section_0_Artic...      Less than two  \n",
       "EU_32012L0027_Title_0_Chapter_5_Section_0_Artic...      Less than two  \n",
       "EU_32019R0631_Whereas                                   Less than two  \n",
       "EU_32006L0066_Title_0_Chapter_0_Section_0_Artic...      Less than two  \n",
       "EU_32009R0079_Title_0_Chapter_0_Section_0_Artic...      Less than two  "
      ]
     },
     "execution_count": 7,
     "metadata": {},
     "output_type": "execute_result"
    }
   ],
   "source": [
    "test_evaluator.df[test_evaluator.df['f1_heuristic_score']== 'Less than two']"
   ]
  },
  {
   "cell_type": "code",
   "execution_count": 64,
   "metadata": {},
   "outputs": [],
   "source": [
    "repo = repository.from_repository_name('EU_32009R0079_Title_0_Chapter_0_Section_0_Article_14')"
   ]
  },
  {
   "cell_type": "code",
   "execution_count": 69,
   "metadata": {},
   "outputs": [],
   "source": [
    "taglist = test_evaluator.get_span_list(repo, columns = 'annotators')"
   ]
  },
  {
   "cell_type": "code",
   "execution_count": 70,
   "metadata": {},
   "outputs": [
    {
     "data": {
      "text/plain": [
       "[annotator:Onerva layer:Policydesigncharacteristics type:Reference tag:Ref_PolicyAmended start:26 stop:46 text:directive 2007/46/ec,\n",
       " annotator:Onerva layer:Policydesigncharacteristics type:Reference tag:Ref_PolicyAmended start:73 stop:93 text:directive 2007/46/ec,\n",
       " annotator:Fabian layer:Policydesigncharacteristics type:Reference tag:Ref_PolicyAmended start:26 stop:46 text:directive 2007/46/ec,\n",
       " annotator:Fabian layer:Policydesigncharacteristics type:Reference tag:Ref_PolicyAmended start:73 stop:93 text:directive 2007/46/ec]"
      ]
     },
     "execution_count": 70,
     "metadata": {},
     "output_type": "execute_result"
    }
   ],
   "source": [
    "taglist"
   ]
  },
  {
   "cell_type": "code",
   "execution_count": 71,
   "metadata": {},
   "outputs": [
    {
     "data": {
      "text/plain": [
       "1.0"
      ]
     },
     "execution_count": 71,
     "metadata": {},
     "output_type": "execute_result"
    }
   ],
   "source": [
    "test_evaluator.get_score_spanlist(taglist, scoring_metric = 'f1_heuristic')"
   ]
  },
  {
   "cell_type": "code",
   "execution_count": null,
   "metadata": {},
   "outputs": [],
   "source": []
  },
  {
   "cell_type": "markdown",
   "metadata": {},
   "source": [
    "## test mean and so on"
   ]
  },
  {
   "cell_type": "code",
   "execution_count": null,
   "metadata": {},
   "outputs": [],
   "source": []
  },
  {
   "cell_type": "code",
   "execution_count": 5,
   "metadata": {},
   "outputs": [
    {
     "data": {
      "text/plain": [
       "0.5257439495621415"
      ]
     },
     "execution_count": 5,
     "metadata": {},
     "output_type": "execute_result"
    }
   ],
   "source": [
    "test_evaluator.df['f1_heuristic_score'].mean()"
   ]
  },
  {
   "cell_type": "code",
   "execution_count": 8,
   "metadata": {},
   "outputs": [
    {
     "data": {
      "text/plain": [
       "['Onerva', 'Fride', 'Lynn', 'Sebastian', 'Alisha', 'Fabian']"
      ]
     },
     "execution_count": 8,
     "metadata": {},
     "output_type": "execute_result"
    }
   ],
   "source": [
    "list(test_evaluator.annotators)"
   ]
  },
  {
   "cell_type": "code",
   "execution_count": 6,
   "metadata": {},
   "outputs": [
    {
     "data": {
      "text/plain": [
       "{'f1_exact_score': 0.36249329712132256,\n",
       " 'f1_tokenwise_score': 0.34105328317949757,\n",
       " 'f1_partial_score': 0.4583232024589149,\n",
       " 'f1_heuristic_score': 0.4710149746445954}"
      ]
     },
     "execution_count": 6,
     "metadata": {},
     "output_type": "execute_result"
    }
   ],
   "source": [
    "test_evaluator.get_total_score_df()"
   ]
  },
  {
   "cell_type": "markdown",
   "metadata": {},
   "source": [
    "## manually weight by tokens"
   ]
  },
  {
   "cell_type": "code",
   "execution_count": 14,
   "metadata": {},
   "outputs": [
    {
     "data": {
      "text/plain": [
       "0.43498474865730186"
      ]
     },
     "execution_count": 14,
     "metadata": {},
     "output_type": "execute_result"
    }
   ],
   "source": [
    "(test_evaluator.df.Tokens.map(len) * test_evaluator.df['f1_heuristic_score']).sum()/test_evaluator.df.Tokens.map(len).sum()"
   ]
  },
  {
   "cell_type": "code",
   "execution_count": 23,
   "metadata": {},
   "outputs": [
    {
     "data": {
      "text/plain": [
       "{'f1_exact_score': 0.44000200168713405,\n",
       " 'f1_tokenwise_score': 0.41740705057915567,\n",
       " 'f1_partial_score': 0.5523320574063757,\n",
       " 'f1_heuristic_score': 0.5707395395681694}"
      ]
     },
     "execution_count": 23,
     "metadata": {},
     "output_type": "execute_result"
    }
   ],
   "source": [
    "test_evaluator.get_total_score_df(annotator = 'Fride')\n",
    "\n"
   ]
  },
  {
   "cell_type": "code",
   "execution_count": 35,
   "metadata": {},
   "outputs": [
    {
     "data": {
      "text/plain": [
       "89667"
      ]
     },
     "execution_count": 35,
     "metadata": {},
     "output_type": "execute_result"
    }
   ],
   "source": [
    "len(list(chain.from_iterable(test_evaluator.df[test_evaluator.df.apply(lambda x: 'Fride' in x['Finished_Annotators'],axis=1)]['Tokens'])))"
   ]
  },
  {
   "cell_type": "code",
   "execution_count": 12,
   "metadata": {},
   "outputs": [
    {
     "data": {
      "text/plain": [
       "{'f1_exact_score': 0.3866019558426462,\n",
       " 'f1_tokenwise_score': 0.3606760490629486,\n",
       " 'f1_partial_score': 0.4724904115077784,\n",
       " 'f1_heuristic_score': 0.48350542408235087}"
      ]
     },
     "execution_count": 12,
     "metadata": {},
     "output_type": "execute_result"
    }
   ],
   "source": [
    "test_evaluator.get_total_score_df(annotator = 'Onerva')"
   ]
  },
  {
   "cell_type": "code",
   "execution_count": 36,
   "metadata": {},
   "outputs": [
    {
     "data": {
      "text/plain": [
       "92783"
      ]
     },
     "execution_count": 36,
     "metadata": {},
     "output_type": "execute_result"
    }
   ],
   "source": [
    "len(list(chain.from_iterable(test_evaluator.df[test_evaluator.df.apply(lambda x: 'Onerva' in x['Finished_Annotators'],axis=1)]['Tokens'])))"
   ]
  },
  {
   "cell_type": "code",
   "execution_count": 13,
   "metadata": {},
   "outputs": [
    {
     "data": {
      "text/plain": [
       "{'f1_exact_score': 0.3162741708561042,\n",
       " 'f1_tokenwise_score': 0.29996345415692593,\n",
       " 'f1_partial_score': 0.41452255021106865,\n",
       " 'f1_heuristic_score': 0.4287776789001382}"
      ]
     },
     "execution_count": 13,
     "metadata": {},
     "output_type": "execute_result"
    }
   ],
   "source": [
    "test_evaluator.get_total_score_df(annotator = 'Alisha')"
   ]
  },
  {
   "cell_type": "code",
   "execution_count": 37,
   "metadata": {},
   "outputs": [
    {
     "data": {
      "text/plain": [
       "90043"
      ]
     },
     "execution_count": 37,
     "metadata": {},
     "output_type": "execute_result"
    }
   ],
   "source": [
    "len(list(chain.from_iterable(test_evaluator.df[test_evaluator.df.apply(lambda x: 'Alisha' in x['Finished_Annotators'],axis=1)]['Tokens'])))"
   ]
  },
  {
   "cell_type": "code",
   "execution_count": 14,
   "metadata": {},
   "outputs": [
    {
     "data": {
      "text/plain": [
       "{'f1_exact_score': 0.2790951995802669,\n",
       " 'f1_tokenwise_score': 0.2530926032730131,\n",
       " 'f1_partial_score': 0.3542716766171339,\n",
       " 'f1_heuristic_score': 0.3610743221823385}"
      ]
     },
     "execution_count": 14,
     "metadata": {},
     "output_type": "execute_result"
    }
   ],
   "source": [
    "test_evaluator.get_total_score_df(annotator = 'Fabian')"
   ]
  },
  {
   "cell_type": "code",
   "execution_count": 38,
   "metadata": {},
   "outputs": [
    {
     "data": {
      "text/plain": [
       "84112"
      ]
     },
     "execution_count": 38,
     "metadata": {},
     "output_type": "execute_result"
    }
   ],
   "source": [
    "len(list(chain.from_iterable(test_evaluator.df[test_evaluator.df.apply(lambda x: 'Fabian' in x['Finished_Annotators'],axis=1)]['Tokens'])))"
   ]
  },
  {
   "cell_type": "code",
   "execution_count": 34,
   "metadata": {},
   "outputs": [
    {
     "data": {
      "text/plain": [
       "0.46125"
      ]
     },
     "execution_count": 34,
     "metadata": {},
     "output_type": "execute_result"
    }
   ],
   "source": [
    "(0.571 + 0.484 + 0.429 + 0.361)/4 "
   ]
  },
  {
   "cell_type": "markdown",
   "metadata": {},
   "source": [
    "### test if weighted mean of all annotator score yields total score"
   ]
  },
  {
   "cell_type": "code",
   "execution_count": 13,
   "metadata": {},
   "outputs": [
    {
     "data": {
      "text/plain": [
       "0.4713746827949463"
      ]
     },
     "execution_count": 13,
     "metadata": {},
     "output_type": "execute_result"
    }
   ],
   "source": [
    "annotators = ['Onerva', 'Alisha', 'Fabian', 'Fride']\n",
    "tot_score = 0\n",
    "tokens = 0\n",
    "for ann in annotators:\n",
    "    n_tokens = len(list(chain.from_iterable(test_evaluator.df[test_evaluator.df.apply(lambda x: ann in x['Finished_Annotators'],axis=1)]['Tokens'])))\n",
    "    score = test_evaluator.get_score_annotator(ann)['f1_heuristic_score']\n",
    "    \n",
    "    tot_score += score * n_tokens\n",
    "    tokens += n_tokens\n",
    "    \n",
    "tot_score / tokens\n",
    "    "
   ]
  },
  {
   "cell_type": "code",
   "execution_count": null,
   "metadata": {},
   "outputs": [],
   "source": []
  },
  {
   "cell_type": "code",
   "execution_count": null,
   "metadata": {},
   "outputs": [],
   "source": []
  },
  {
   "cell_type": "code",
   "execution_count": 19,
   "metadata": {},
   "outputs": [
    {
     "name": "stdout",
     "output_type": "stream",
     "text": [
      "EU_32009L0028_Title_0_Chapter_0_Section_0_Article_12\n",
      "metric f1_exact  span_score: 0.5\n",
      "metric f1_exact  df_score: nan\n",
      "-----------------------\n",
      "EU_32009L0028_Title_0_Chapter_0_Section_0_Article_12\n",
      "metric f1_tokenwise  span_score: 0.3333333333333333\n",
      "metric f1_tokenwise  df_score: nan\n",
      "-----------------------\n",
      "EU_32009L0028_Title_0_Chapter_0_Section_0_Article_12\n",
      "metric f1_partial  span_score: 0.5\n",
      "metric f1_partial  df_score: nan\n",
      "-----------------------\n",
      "EU_32009L0028_Title_0_Chapter_0_Section_0_Article_12\n",
      "metric f1_heuristic  span_score: 0.5\n",
      "metric f1_heuristic  df_score: nan\n",
      "-----------------------\n",
      "EU_32009L0028_Title_0_Chapter_0_Section_0_Article_20\n",
      "metric f1_exact  span_score: 0.0\n",
      "metric f1_exact  df_score: nan\n",
      "-----------------------\n",
      "EU_32009L0028_Title_0_Chapter_0_Section_0_Article_20\n",
      "metric f1_tokenwise  span_score: 0.30769230769230765\n",
      "metric f1_tokenwise  df_score: nan\n",
      "-----------------------\n",
      "EU_32009L0028_Title_0_Chapter_0_Section_0_Article_20\n",
      "metric f1_partial  span_score: 0.5\n",
      "metric f1_partial  df_score: nan\n",
      "-----------------------\n",
      "EU_32009L0028_Title_0_Chapter_0_Section_0_Article_20\n",
      "metric f1_heuristic  span_score: 0.5\n",
      "metric f1_heuristic  df_score: nan\n",
      "-----------------------\n",
      "EU_32009R0397_Title_0_Chapter_0_Section_0_Article_02\n",
      "metric f1_exact  span_score: 0.0\n",
      "metric f1_exact  df_score: nan\n",
      "-----------------------\n",
      "EU_32009R0397_Title_0_Chapter_0_Section_0_Article_02\n",
      "metric f1_tokenwise  span_score: 0.36111111111111116\n",
      "metric f1_tokenwise  df_score: nan\n",
      "-----------------------\n",
      "EU_32009R0397_Title_0_Chapter_0_Section_0_Article_02\n",
      "metric f1_partial  span_score: 0.6666666666666666\n",
      "metric f1_partial  df_score: nan\n",
      "-----------------------\n",
      "EU_32009R0397_Title_0_Chapter_0_Section_0_Article_02\n",
      "metric f1_heuristic  span_score: 0.6666666666666666\n",
      "metric f1_heuristic  df_score: nan\n",
      "-----------------------\n"
     ]
    },
    {
     "ename": "ZeroDivisionError",
     "evalue": "division by zero",
     "output_type": "error",
     "traceback": [
      "\u001b[0;31m---------------------------------------------------------------------------\u001b[0m",
      "\u001b[0;31mZeroDivisionError\u001b[0m                         Traceback (most recent call last)",
      "\u001b[0;32m<ipython-input-19-49d5b4d08831>\u001b[0m in \u001b[0;36m<module>\u001b[0;34m\u001b[0m\n\u001b[1;32m      8\u001b[0m \u001b[0;34m\u001b[0m\u001b[0m\n\u001b[1;32m      9\u001b[0m     \u001b[0;32mfor\u001b[0m \u001b[0mscoring_metric\u001b[0m \u001b[0;32min\u001b[0m \u001b[0mscoring_metrics\u001b[0m\u001b[0;34m:\u001b[0m\u001b[0;34m\u001b[0m\u001b[0;34m\u001b[0m\u001b[0m\n\u001b[0;32m---> 10\u001b[0;31m         \u001b[0mget_span_score\u001b[0m \u001b[0;34m=\u001b[0m \u001b[0mtest_evaluator\u001b[0m\u001b[0;34m.\u001b[0m\u001b[0mget_score_spanlist\u001b[0m\u001b[0;34m(\u001b[0m\u001b[0mspan_list\u001b[0m\u001b[0;34m,\u001b[0m \u001b[0mscoring_metric\u001b[0m\u001b[0;34m)\u001b[0m\u001b[0;34m\u001b[0m\u001b[0;34m\u001b[0m\u001b[0m\n\u001b[0m\u001b[1;32m     11\u001b[0m         \u001b[0mscore_df\u001b[0m \u001b[0;34m=\u001b[0m \u001b[0mrow\u001b[0m\u001b[0;34m[\u001b[0m\u001b[0mscoring_metric\u001b[0m \u001b[0;34m+\u001b[0m \u001b[0;34m'_score'\u001b[0m\u001b[0;34m]\u001b[0m\u001b[0;34m\u001b[0m\u001b[0;34m\u001b[0m\u001b[0m\n\u001b[1;32m     12\u001b[0m         \u001b[0;32mif\u001b[0m \u001b[0mnp\u001b[0m\u001b[0;34m.\u001b[0m\u001b[0mround\u001b[0m\u001b[0;34m(\u001b[0m\u001b[0mget_span_score\u001b[0m\u001b[0;34m,\u001b[0m \u001b[0;36m3\u001b[0m\u001b[0;34m)\u001b[0m \u001b[0;34m!=\u001b[0m \u001b[0mnp\u001b[0m\u001b[0;34m.\u001b[0m\u001b[0mround\u001b[0m\u001b[0;34m(\u001b[0m\u001b[0mscore_df\u001b[0m\u001b[0;34m,\u001b[0m \u001b[0;36m3\u001b[0m\u001b[0;34m)\u001b[0m\u001b[0;34m:\u001b[0m\u001b[0;34m\u001b[0m\u001b[0;34m\u001b[0m\u001b[0m\n",
      "\u001b[0;32m~/NLP_spark/src/d03_inter_annotator_agreement/inter_annotator_agremment.py\u001b[0m in \u001b[0;36mget_score_spanlist\u001b[0;34m(self, span_list, scoring_metric, weight_by_tokens, **optional_tuple_properties)\u001b[0m\n\u001b[1;32m    189\u001b[0m             \u001b[0mtotal_tokens\u001b[0m \u001b[0;34m+=\u001b[0m \u001b[0mn_tokens\u001b[0m\u001b[0;34m\u001b[0m\u001b[0;34m\u001b[0m\u001b[0m\n\u001b[1;32m    190\u001b[0m \u001b[0;34m\u001b[0m\u001b[0m\n\u001b[0;32m--> 191\u001b[0;31m         \u001b[0;32mreturn\u001b[0m \u001b[0mtotal_score\u001b[0m \u001b[0;34m/\u001b[0m \u001b[0mtotal_tokens\u001b[0m\u001b[0;34m\u001b[0m\u001b[0;34m\u001b[0m\u001b[0m\n\u001b[0m\u001b[1;32m    192\u001b[0m \u001b[0;34m\u001b[0m\u001b[0m\n\u001b[1;32m    193\u001b[0m \u001b[0;34m\u001b[0m\u001b[0m\n",
      "\u001b[0;31mZeroDivisionError\u001b[0m: division by zero"
     ]
    }
   ],
   "source": [
    "#test all articles\n",
    "scoring_metrics = ['f1_exact', 'f1_tokenwise', 'f1_partial', 'f1_heuristic']\n",
    "\n",
    "for index, row in test_evaluator.df.iterrows():\n",
    "\n",
    "    repo = repository.from_repository_name(index)\n",
    "    span_list = test_evaluator.get_span_list(repo, columns = 'annotators')\n",
    "\n",
    "    for scoring_metric in scoring_metrics:\n",
    "        get_span_score = test_evaluator.get_score_spanlist(span_list, scoring_metric)\n",
    "        score_df = row[scoring_metric + '_score']\n",
    "        if np.round(get_span_score, 3) != np.round(score_df, 3):\n",
    "            print(index)\n",
    "            print('metric', scoring_metric, ' span_score:', get_span_score)\n",
    "            print('metric', scoring_metric,' df_score:' , score_df)\n",
    "            print('-----------------------')"
   ]
  },
  {
   "cell_type": "code",
   "execution_count": null,
   "metadata": {},
   "outputs": [],
   "source": [
    "#test all articles\n",
    "scoring_metrics = ['f1_exact', 'f1_tokenwise', 'f1_partial', 'f1_heuristic']\n",
    "\n",
    "for index, row in test_evaluator.df.iterrows():\n",
    "\n",
    "    repo = repository.from_repository_name(index)\n",
    "    span_list = test_evaluator.get_span_list(repo, columns = 'annotators')\n",
    "\n",
    "    for scoring_metric in scoring_metrics:\n",
    "        get_span_score = test_evaluator.get_score_spanlist(span_list, scoring_metric)\n",
    "        score_df = row[scoring_metric + '_score']\n",
    "        if np.round(get_span_score, 3) != np.round(score_df, 3):\n",
    "            print(index)\n",
    "            print('metric', scoring_metric, ' span_score:', get_span_score)\n",
    "            print('metric', scoring_metric,' df_score:' , score_df)\n",
    "            print('-----------------------')\n"
   ]
  },
  {
   "cell_type": "code",
   "execution_count": null,
   "metadata": {},
   "outputs": [],
   "source": [
    "rep = repository.from_repository_name('EU_32014R0256_Whereas')\n",
    "test_evaluator.get_span_list(rep, columns= 'annotators')"
   ]
  },
  {
   "cell_type": "code",
   "execution_count": null,
   "metadata": {},
   "outputs": [],
   "source": []
  },
  {
   "cell_type": "code",
   "execution_count": null,
   "metadata": {},
   "outputs": [],
   "source": []
  },
  {
   "cell_type": "code",
   "execution_count": null,
   "metadata": {},
   "outputs": [],
   "source": []
  },
  {
   "cell_type": "code",
   "execution_count": null,
   "metadata": {},
   "outputs": [],
   "source": [
    "treshhold = np.median([(span_.start + span_.stop)/ 2 for span_ in span_list])\n",
    "spans_overlapping_treshhold = [span_ for span_ in span_list if span_.start < treshhold and span_.stop > treshhold]\n",
    "\n",
    "\n",
    "i = 1\n",
    "while len(spans_overlapping_treshhold) != 0:\n",
    "    treshhold = treshhold + (i * (-1) ** (i-1))\n",
    "    spans_overlapping_treshhold = [span_ for span_ in span_list if span_.start <= treshhold and span_.stop >= treshhold]\n",
    "    i +=1\n",
    "\n",
    "\n",
    "span_list_1 = [span_ for span_ in span_list if span_.stop < treshhold]\n",
    "span_list_2 = [span_ for span_ in span_list if span_.start > treshhold]\n",
    "\n",
    "if len(span_list_1) + len(span_list_2) != len(span_list):\n",
    "    raise ValueError('The splittet spanlist have not the same length as the initial spanlist')\n"
   ]
  },
  {
   "cell_type": "code",
   "execution_count": null,
   "metadata": {},
   "outputs": [],
   "source": [
    "lenght_list = "
   ]
  },
  {
   "cell_type": "code",
   "execution_count": null,
   "metadata": {},
   "outputs": [],
   "source": [
    "\n",
    "test_evaluator.get_score_spanlist(span_list, 'pygamma')"
   ]
  },
  {
   "cell_type": "code",
   "execution_count": null,
   "metadata": {},
   "outputs": [],
   "source": [
    "(test_evaluator.get_score_spanlist(span_list_1, 'pygamma') * len(span_list_1) + test_evaluator.get_score_spanlist(span_list_2, 'pygamma') * len(span_list_2))/len(span_list)"
   ]
  },
  {
   "cell_type": "code",
   "execution_count": null,
   "metadata": {},
   "outputs": [],
   "source": [
    "test_evaluator.get_score_spanlist(span_list_2, 'pygamma')"
   ]
  },
  {
   "cell_type": "code",
   "execution_count": null,
   "metadata": {},
   "outputs": [],
   "source": [
    "#how to get means core\n",
    "score_cols = [col for col in test_evaluator.df.columns if 'score' in col]\n",
    "for col in score_cols:\n",
    "    print(col, ' : ', test_evaluator.df[col].mean(skipna = True))"
   ]
  },
  {
   "cell_type": "code",
   "execution_count": null,
   "metadata": {},
   "outputs": [],
   "source": [
    "#test weighting score by tokens\n",
    "test_evaluator.get_total_score_df()"
   ]
  },
  {
   "cell_type": "code",
   "execution_count": null,
   "metadata": {},
   "outputs": [],
   "source": [
    "test_dir = repository.from_repository_name('EU_32018L2001')\n",
    "span_list = test_evaluator.get_span_list(test_dir, columns='annotators')\n",
    "test_evaluator.get_score_spanlist(span_list, 'f1_heuristic')\n",
    "\n"
   ]
  },
  {
   "cell_type": "code",
   "execution_count": null,
   "metadata": {},
   "outputs": [],
   "source": [
    "#test all articles\n",
    "for index, row in df.iterrows():\n",
    "    repo = repository.from_repository_name(row.index)"
   ]
  },
  {
   "cell_type": "code",
   "execution_count": null,
   "metadata": {},
   "outputs": [],
   "source": []
  },
  {
   "cell_type": "code",
   "execution_count": null,
   "metadata": {},
   "outputs": [],
   "source": []
  },
  {
   "cell_type": "code",
   "execution_count": null,
   "metadata": {},
   "outputs": [],
   "source": []
  },
  {
   "cell_type": "code",
   "execution_count": null,
   "metadata": {},
   "outputs": [],
   "source": []
  },
  {
   "cell_type": "code",
   "execution_count": null,
   "metadata": {},
   "outputs": [],
   "source": []
  },
  {
   "cell_type": "code",
   "execution_count": null,
   "metadata": {},
   "outputs": [],
   "source": []
  },
  {
   "cell_type": "code",
   "execution_count": null,
   "metadata": {},
   "outputs": [],
   "source": []
  },
  {
   "cell_type": "code",
   "execution_count": null,
   "metadata": {},
   "outputs": [],
   "source": []
  },
  {
   "cell_type": "code",
   "execution_count": null,
   "metadata": {},
   "outputs": [],
   "source": [
    "#should be the same as above\n",
    "score_cols = [col for col in test_evaluator.df.columns if 'score' in col]\n",
    "for score_col in score_cols:\n",
    "    sum_ = 0\n",
    "    total_tokens = 0\n",
    "    count = 0\n",
    "    for i, row in test_evaluator.df.iterrows():\n",
    "        sum_ = np.sum(sum_, len(row['Tokens']) * row[score_col])\n",
    "        if row[score_col] != np.nan:\n",
    "            total_tokens += len(row['Tokens'])\n",
    "            count +=1\n",
    "    print(score_col, sum_/total_tokens)\n",
    "    print(count)\n"
   ]
  },
  {
   "cell_type": "markdown",
   "metadata": {},
   "source": [
    "## Testing get_score_spanlist"
   ]
  },
  {
   "cell_type": "code",
   "execution_count": null,
   "metadata": {},
   "outputs": [],
   "source": [
    "#itnitialize test evaluator again, this time with debug \n",
    "test_evaluator_debug = Inter_Annotator_Agreement(stat_df, DEBUG = True)\n",
    "scoring_metrics = ['f1_exact', 'f1_tokenwise', 'f1_partial', 'f1_heuristic']\n",
    "\n",
    "test_evaluator_debug.append_total_score_per_article_no_parallel(scoring_metrics, append_to_df = True, weight_by_tokens = True)"
   ]
  },
  {
   "cell_type": "code",
   "execution_count": null,
   "metadata": {},
   "outputs": [],
   "source": [
    "test_evaluator_debug.df"
   ]
  },
  {
   "cell_type": "code",
   "execution_count": null,
   "metadata": {},
   "outputs": [],
   "source": [
    "test_dir = repository()\n"
   ]
  },
  {
   "cell_type": "code",
   "execution_count": null,
   "metadata": {},
   "outputs": [],
   "source": [
    "#get all tags of fabian and curation\n",
    "span_list_Fabian = test_evaluator_debug.get_span_list(test_dir, ['Curation', 'Fabian'])"
   ]
  },
  {
   "cell_type": "code",
   "execution_count": null,
   "metadata": {},
   "outputs": [],
   "source": [
    "#get all tags of Fride and curation\n",
    "span_list_fride = test_evaluator_debug.get_span_list(test_dir, ['Curation', 'Fride'])"
   ]
  },
  {
   "cell_type": "code",
   "execution_count": null,
   "metadata": {},
   "outputs": [],
   "source": [
    "#inter annotator agreement to curation\n",
    "test_evaluator_debug.get_score_spanlist(span_list_fride, 'pygamma', 'f1_partial', weight_by_tokens = True)"
   ]
  },
  {
   "cell_type": "code",
   "execution_count": null,
   "metadata": {},
   "outputs": [],
   "source": [
    "#should be the same as above\n",
    "Fride_df = test_evaluator_debug.df[test_evaluator.df.apply(lambda x : len(x['Fride']) >=2 and len(x['Curation']) >=2,axis=1)]\n",
    "scoring_metric = 'f1_partial'\n",
    "score = 0\n",
    "total_tokens = 0\n",
    "\n",
    "for i, row in Fride_df.iterrows():\n",
    "    span_list = list(chain.from_iterable(row[['Fride', 'Curation']]))\n",
    "    score_article = _get_score_article(span_list, 'pygamma', scoring_metric)\n",
    "    score += score_article * len(row['Tokens'])\n",
    "    total_tokens += len(row['Tokens'])\n",
    "print(score/total_tokens)\n"
   ]
  },
  {
   "cell_type": "code",
   "execution_count": null,
   "metadata": {},
   "outputs": [],
   "source": [
    "#inter annotator agreement to curation\n",
    "test_evaluator_debug.get_score_spanlist(span_list_Fabian, 'pygamma', 'f1_partial', weight_by_tokens = True)"
   ]
  },
  {
   "cell_type": "code",
   "execution_count": null,
   "metadata": {},
   "outputs": [],
   "source": [
    "Fabian_df = test_evaluator_debug.df[test_evaluator.df.apply(lambda x : len(x['Fabian']) >=2 and len(x['Curation']) >=2,axis=1)]\n",
    "scoring_metric = 'f1_partial'\n",
    "score = 0\n",
    "total_tokens = 0\n",
    "\n",
    "for i, row in Fabian_df.iterrows():\n",
    "    span_list = list(chain.from_iterable(row[['Fabian', 'Curation']]))\n",
    "    score_article = _get_score_article(span_list, 'pygamma', scoring_metric)\n",
    "    score += score_article * len(row['Tokens'])\n",
    "    total_tokens += len(row['Tokens'])\n",
    "print(score/total_tokens)"
   ]
  },
  {
   "cell_type": "code",
   "execution_count": null,
   "metadata": {},
   "outputs": [],
   "source": [
    "#should be the same as above\n",
    "score_cols = [col for col in test_evaluator_debug.df.columns if 'score' in col]\n",
    "for score_col in score_cols:\n",
    "    sum_ = 0\n",
    "    total_tokens = 0\n",
    "    count = 0\n",
    "    for i, row in test_evaluator_debug.df.iterrows():\n",
    "        sum_ += len(row['Tokens']) * row[score_col]\n",
    "        total_tokens += len(row['Tokens'])\n",
    "        count +=1\n",
    "    print(score_col, sum_/total_tokens)\n",
    "\n"
   ]
  },
  {
   "cell_type": "code",
   "execution_count": null,
   "metadata": {},
   "outputs": [],
   "source": [
    "test_evaluator_debug.get_total_score_df()"
   ]
  },
  {
   "cell_type": "code",
   "execution_count": null,
   "metadata": {},
   "outputs": [],
   "source": [
    "scoring_metrics = ['f1_exact', 'f1_tokenwise', 'f1_partial', 'f1_heuristic']\n",
    "for scoring_metric in scoring_metrics:\n",
    "    print(test_evaluator.df[scoring_metric + '_score'].isna().sum())\n"
   ]
  },
  {
   "cell_type": "code",
   "execution_count": null,
   "metadata": {},
   "outputs": [],
   "source": [
    "test_dir = repository()\n",
    "span_list = test_evaluator_debug.get_span_list(test_dir, columns = 'annotators')\n",
    "test_evaluator_debug.get_score_spanlist(span_list, 'f1_heuristic')"
   ]
  },
  {
   "cell_type": "code",
   "execution_count": null,
   "metadata": {},
   "outputs": [],
   "source": [
    "test_dir= repository.from_repository_name('EU_32018R1999_Title_0_Chapter_7_Section_3_Article_56')\n",
    "span_list = "
   ]
  },
  {
   "cell_type": "code",
   "execution_count": null,
   "metadata": {},
   "outputs": [],
   "source": [
    "#test all articles\n",
    "scoring_metrics = ['f1_exact', 'f1_tokenwise', 'f1_partial', 'f1_heuristic']\n",
    "\n",
    "for index, row in test_evaluator_debug.df.iterrows():\n",
    "    repo = repository.from_repository_name(index)\n",
    "    span_list = test_evaluator_debug.get_span_list(repo, columns = 'annotators')\n",
    "\n",
    "    for scoring_metric in scoring_metrics:\n",
    "        get_span_score = test_evaluator_debug.get_score_spanlist(span_list, scoring_metric)\n",
    "        score_df = row[scoring_metric + '_score']\n",
    "        if np.round(get_span_score, 3) != np.round(score_df, 3):\n",
    "            print(index)\n",
    "            print('span_score:', get_span_score)\n",
    "            print('df_score:' , score_df)\n"
   ]
  },
  {
   "cell_type": "markdown",
   "metadata": {},
   "source": [
    "## Test get_score_anotator"
   ]
  },
  {
   "cell_type": "code",
   "execution_count": null,
   "metadata": {},
   "outputs": [],
   "source": [
    "test_evaluator_debug.get_score_annotator('Fride')"
   ]
  },
  {
   "cell_type": "code",
   "execution_count": null,
   "metadata": {},
   "outputs": [],
   "source": [
    "annotator_df = test_evaluator_debug.df[test_evaluator.df.apply(lambda x : len(x['Fride']) >=2,axis=1)]"
   ]
  },
  {
   "cell_type": "code",
   "execution_count": null,
   "metadata": {},
   "outputs": [],
   "source": [
    "#should be the same as this one\n",
    "sum = 0\n",
    "for i, row in annotator_df.iterrows():\n",
    "    sum += len(row['Tokens']) * row['pygamma_matching_f1_partial_score']\n",
    "sum/len(list(chain.from_iterable(annotator_df['Tokens'])))"
   ]
  },
  {
   "cell_type": "code",
   "execution_count": null,
   "metadata": {},
   "outputs": [],
   "source": [
    "sum = 0\n",
    "for i, row in annotator_df.iterrows():\n",
    "    sum += len(row['Tokens']) * row['pygamma_matching_f1_tokenwise_score']\n",
    "sum/len(list(chain.from_iterable(annotator_df['Tokens'])))"
   ]
  },
  {
   "cell_type": "markdown",
   "metadata": {},
   "source": [
    "## Test heuristic_f1"
   ]
  },
  {
   "cell_type": "code",
   "execution_count": null,
   "metadata": {},
   "outputs": [],
   "source": [
    "test_dir = test_evaluator_debug.df['Curation'][2][1].rep\n",
    "span_list = test_evaluator_debug.get_span_list(test_dir, ['Fabian', 'Alisha'])\n",
    "from src.d03_inter_annotator_agreement.scoring_functions import f1_heuristic"
   ]
  },
  {
   "cell_type": "code",
   "execution_count": null,
   "metadata": {},
   "outputs": [],
   "source": [
    "f1_heuristic(span_list, ( 'Alisha', 'Fabian'))"
   ]
  },
  {
   "cell_type": "code",
   "execution_count": null,
   "metadata": {},
   "outputs": [],
   "source": [
    "test_dir = repository.from_repository_name('EU_32006L0032_Title_0_Chapter_1_Section_0_Article_03')\n",
    "span_list = test_evaluator_debug.get_span_list(test_dir, ['Onerva', 'Fride'])\n",
    "\n"
   ]
  },
  {
   "cell_type": "code",
   "execution_count": null,
   "metadata": {},
   "outputs": [],
   "source": [
    "f1_heuristic(span_list, ('Fride', 'Onerva'))"
   ]
  },
  {
   "cell_type": "code",
   "execution_count": null,
   "metadata": {},
   "outputs": [],
   "source": [
    "test_dir = repository.from_repository_name('EU_32019R0631_Title_0_Chapter_0_Section_0_Article_16')"
   ]
  },
  {
   "cell_type": "code",
   "execution_count": null,
   "metadata": {},
   "outputs": [],
   "source": [
    "test_evaluator_debug.get_score_spanlist(span_list, 'f1_heuristic')"
   ]
  },
  {
   "cell_type": "code",
   "execution_count": null,
   "metadata": {},
   "outputs": [],
   "source": [
    "import json\n",
    "\n",
    "from definitions import ROOT_DIR\n",
    "\n",
    "\n",
    "data_path = os.path.join(ROOT_DIR,'data')\n",
    "\n",
    "project_log = 'annotator_data/exportedproject540378092697116778.json'\n",
    "\n",
    "\n",
    "\n",
    "article_state = {'articles': []}\n",
    "with open(os.path.join(data_path, project_log)) as json_file:\n",
    "    article_state_data = json.load(json_file)\n",
    "    for article in article_state_data['source_documents']:\n",
    "\n",
    "        policy_name = article['name']\n",
    "        policy_state = article['state']\n",
    "        finished_coders = [doc_article['user'] for doc_article in article_state_data['annotation_documents'] if doc_article['name'] == policy_name and doc_article['state'] == 'FINISHED']\n",
    "\n",
    "        this_state = {'name': article['name'],\n",
    "                       'finished_coders': finished_coders}\n",
    "        article_state['articles'].append(this_state)\n",
    "                 \n",
    "\n",
    "    \n",
    "    \n"
   ]
  },
  {
   "cell_type": "code",
   "execution_count": null,
   "metadata": {},
   "outputs": [],
   "source": []
  },
  {
   "cell_type": "code",
   "execution_count": null,
   "metadata": {},
   "outputs": [],
   "source": [
    "import json\n",
    "\n",
    "from definitions import ROOT_DIR\n",
    "\n",
    "\n",
    "data_path = os.path.join(ROOT_DIR,'data')\n",
    "\n",
    "project_log = 'annotator_data/exportedproject540378092697116778.json'\n",
    "\n",
    "\n",
    "\n",
    "article_state = {}\n",
    "with open(os.path.join(data_path, project_log)) as json_file:\n",
    "    article_state_data = json.load(json_file)\n",
    "    for article in article_state_data['source_documents']:\n",
    "\n",
    "        policy_name = article['name']\n",
    "        policy_state = article['state']\n",
    "        finished_coders = [doc_article['user'] for doc_article in article_state_data['annotation_documents'] if doc_article['name'] == policy_name and doc_article['state'] == 'FINISHED']\n",
    "\n",
    "        this_state = {'state': article['state'],\n",
    "                       'finished_coders': finished_coders}\n",
    "        article_state[policy_name] = this_state"
   ]
  },
  {
   "cell_type": "code",
   "execution_count": null,
   "metadata": {},
   "outputs": [],
   "source": [
    "article_state['EU_32012L0027_Title_0_Chapter_2_Section_0_Article_05.txt']\n",
    " \n"
   ]
  },
  {
   "cell_type": "code",
   "execution_count": null,
   "metadata": {},
   "outputs": [],
   "source": [
    "[article['user'] for article in data['annotation_documents'] if article['name'] == 'EU_32006L0066_Title_0_Chapter_0_Section_0_Article_01.txt' and article['state'] == 'FINISHED']\n"
   ]
  },
  {
   "cell_type": "code",
   "execution_count": null,
   "metadata": {},
   "outputs": [],
   "source": [
    "for article in data['annotation_documents']:\n",
    "    print(article)"
   ]
  },
  {
   "cell_type": "code",
   "execution_count": null,
   "metadata": {},
   "outputs": [],
   "source": []
  }
 ],
 "metadata": {
  "interpreter": {
   "hash": "f1357e5d6940800ae93a3fd23162ea93a77a6c89f02c68504dcfa719d1ffeee2"
  },
  "kernelspec": {
   "display_name": "Python [conda env:miniconda3-nlp_spark]",
   "language": "python",
   "name": "conda-env-miniconda3-nlp_spark-py"
  },
  "language_info": {
   "codemirror_mode": {
    "name": "ipython",
    "version": 3
   },
   "file_extension": ".py",
   "mimetype": "text/x-python",
   "name": "python",
   "nbconvert_exporter": "python",
   "pygments_lexer": "ipython3",
   "version": "3.7.10"
  }
 },
 "nbformat": 4,
 "nbformat_minor": 4
}
