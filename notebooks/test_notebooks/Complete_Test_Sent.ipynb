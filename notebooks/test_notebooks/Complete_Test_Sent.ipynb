{
 "cells": [
  {
   "cell_type": "markdown",
   "metadata": {},
   "source": [
    "# Notebook to Test all the functions"
   ]
  },
  {
   "cell_type": "markdown",
   "metadata": {},
   "source": [
    "## First only the corpus ##"
   ]
  },
  {
   "cell_type": "code",
   "execution_count": 1,
   "metadata": {},
   "outputs": [],
   "source": [
    "import sys\n",
    "import pandas as pd\n",
    "import collections \n",
    "import os\n",
    "import numpy as np \n",
    "from itertools import chain\n",
    "from itertools import combinations\n",
    "sys.path.append('/home/jkuettel/NLP_spark/src')\n",
    "sys.path.append('/home/jkuettel/NLP_spark')\n",
    "from src.experiment_utils.helper_classes import token, span, repository\n",
    "from src.d02_corpus_statistics.corpus import Corpus, Sent_Corpus\n",
    "from src.d03_inter_annotator_agreement.inter_annotator_agremment import Inter_Annotator_Agreement, Sent_Inter_Annotator_Agreement, _get_score_article, row_to_span_list \n",
    "\n",
    "\n",
    "from definitions import ROOT_DIR\n",
    "\n"
   ]
  },
  {
   "cell_type": "markdown",
   "metadata": {},
   "source": [
    "## Test all corpus funtions"
   ]
  },
  {
   "cell_type": "code",
   "execution_count": 2,
   "metadata": {},
   "outputs": [
    {
     "data": {
      "text/html": [
       "<div>\n",
       "<style scoped>\n",
       "    .dataframe tbody tr th:only-of-type {\n",
       "        vertical-align: middle;\n",
       "    }\n",
       "\n",
       "    .dataframe tbody tr th {\n",
       "        vertical-align: top;\n",
       "    }\n",
       "\n",
       "    .dataframe thead th {\n",
       "        text-align: right;\n",
       "    }\n",
       "</style>\n",
       "<table border=\"1\" class=\"dataframe\">\n",
       "  <thead>\n",
       "    <tr style=\"text-align: right;\">\n",
       "      <th></th>\n",
       "      <th>Policy</th>\n",
       "      <th>Text</th>\n",
       "      <th>Tokens</th>\n",
       "      <th>Article_State</th>\n",
       "      <th>Finished_Annotators</th>\n",
       "      <th>Curation</th>\n",
       "      <th>Alisha</th>\n",
       "      <th>Fride</th>\n",
       "      <th>Onerva</th>\n",
       "      <th>Fabian</th>\n",
       "      <th>Lynn</th>\n",
       "      <th>Sebastian</th>\n",
       "      <th>Joel</th>\n",
       "    </tr>\n",
       "  </thead>\n",
       "  <tbody>\n",
       "    <tr>\n",
       "      <th>EU_32018R1999_Title_0_Chapter_7_Section_3_Article_43</th>\n",
       "      <td></td>\n",
       "      <td>article 43\\r\\nexercise of the delegation\\r\\n1....</td>\n",
       "      <td>[start:0 stop:7 text:article tag_count:0, star...</td>\n",
       "      <td>CURATION_FINISHED</td>\n",
       "      <td>[Alisha, Fride]</td>\n",
       "      <td>[span id:CUR0 annotator:Curation layer:Instrum...</td>\n",
       "      <td>[span id:A1 annotator:Alisha layer:Instrumentt...</td>\n",
       "      <td>[span id:B1 annotator:Fride layer:Policydesign...</td>\n",
       "      <td></td>\n",
       "      <td></td>\n",
       "      <td></td>\n",
       "      <td></td>\n",
       "      <td></td>\n",
       "    </tr>\n",
       "    <tr>\n",
       "      <th>EU_32019R0631_Title_0_Chapter_0_Section_0_Article_12</th>\n",
       "      <td></td>\n",
       "      <td>article 12\\r\\nreal-world co2 emissions and fue...</td>\n",
       "      <td>[start:0 stop:7 text:article tag_count:0, star...</td>\n",
       "      <td>CURATION_FINISHED</td>\n",
       "      <td>[Onerva, Fabian]</td>\n",
       "      <td>[span id:CUR36 annotator:Curation layer:Instru...</td>\n",
       "      <td></td>\n",
       "      <td></td>\n",
       "      <td>[span id:C1 annotator:Onerva layer:Instrumentt...</td>\n",
       "      <td>[span id:D1 annotator:Fabian layer:Policydesig...</td>\n",
       "      <td></td>\n",
       "      <td></td>\n",
       "      <td></td>\n",
       "    </tr>\n",
       "    <tr>\n",
       "      <th>EU_32018L2001_Title_0_Chapter_0_Section_0_Article_11</th>\n",
       "      <td></td>\n",
       "      <td>article 11\\r\\njoint projects between member st...</td>\n",
       "      <td>[start:0 stop:7 text:article tag_count:0, star...</td>\n",
       "      <td>CURATION_FINISHED</td>\n",
       "      <td>[Fride, Onerva]</td>\n",
       "      <td>[span id:CUR116 annotator:Curation layer:Instr...</td>\n",
       "      <td></td>\n",
       "      <td>[span id:B28 annotator:Fride layer:Instrumentt...</td>\n",
       "      <td>[span id:C58 annotator:Onerva layer:Instrument...</td>\n",
       "      <td></td>\n",
       "      <td></td>\n",
       "      <td></td>\n",
       "      <td></td>\n",
       "    </tr>\n",
       "    <tr>\n",
       "      <th>EU_32018R1999_Title_0_Chapter_7_Section_3_Article_56</th>\n",
       "      <td></td>\n",
       "      <td>article 56\\r\\namendments to directive (eu) 201...</td>\n",
       "      <td>[start:0 stop:7 text:article tag_count:0, star...</td>\n",
       "      <td>CURATION_FINISHED</td>\n",
       "      <td>[Alisha, Fride]</td>\n",
       "      <td>[span id:CUR202 annotator:Curation layer:Polic...</td>\n",
       "      <td>[span id:A38 annotator:Alisha layer:Policydesi...</td>\n",
       "      <td>[span id:B129 annotator:Fride layer:Policydesi...</td>\n",
       "      <td></td>\n",
       "      <td></td>\n",
       "      <td></td>\n",
       "      <td></td>\n",
       "      <td></td>\n",
       "    </tr>\n",
       "    <tr>\n",
       "      <th>EU_32018L2001_Title_0_Chapter_0_Section_0_Article_03</th>\n",
       "      <td></td>\n",
       "      <td>article 3\\r\\nbinding overall union target for ...</td>\n",
       "      <td>[start:0 stop:7 text:article tag_count:0, star...</td>\n",
       "      <td>CURATION_FINISHED</td>\n",
       "      <td>[Fride, Onerva, Fabian]</td>\n",
       "      <td>[span id:CUR211 annotator:Curation layer:Instr...</td>\n",
       "      <td></td>\n",
       "      <td>[span id:B138 annotator:Fride layer:Instrument...</td>\n",
       "      <td>[span id:C165 annotator:Onerva layer:Instrumen...</td>\n",
       "      <td>[span id:D27 annotator:Fabian layer:Instrument...</td>\n",
       "      <td></td>\n",
       "      <td></td>\n",
       "      <td></td>\n",
       "    </tr>\n",
       "  </tbody>\n",
       "</table>\n",
       "</div>"
      ],
      "text/plain": [
       "                                                   Policy  \\\n",
       "EU_32018R1999_Title_0_Chapter_7_Section_3_Artic...          \n",
       "EU_32019R0631_Title_0_Chapter_0_Section_0_Artic...          \n",
       "EU_32018L2001_Title_0_Chapter_0_Section_0_Artic...          \n",
       "EU_32018R1999_Title_0_Chapter_7_Section_3_Artic...          \n",
       "EU_32018L2001_Title_0_Chapter_0_Section_0_Artic...          \n",
       "\n",
       "                                                                                                 Text  \\\n",
       "EU_32018R1999_Title_0_Chapter_7_Section_3_Artic...  article 43\\r\\nexercise of the delegation\\r\\n1....   \n",
       "EU_32019R0631_Title_0_Chapter_0_Section_0_Artic...  article 12\\r\\nreal-world co2 emissions and fue...   \n",
       "EU_32018L2001_Title_0_Chapter_0_Section_0_Artic...  article 11\\r\\njoint projects between member st...   \n",
       "EU_32018R1999_Title_0_Chapter_7_Section_3_Artic...  article 56\\r\\namendments to directive (eu) 201...   \n",
       "EU_32018L2001_Title_0_Chapter_0_Section_0_Artic...  article 3\\r\\nbinding overall union target for ...   \n",
       "\n",
       "                                                                                               Tokens  \\\n",
       "EU_32018R1999_Title_0_Chapter_7_Section_3_Artic...  [start:0 stop:7 text:article tag_count:0, star...   \n",
       "EU_32019R0631_Title_0_Chapter_0_Section_0_Artic...  [start:0 stop:7 text:article tag_count:0, star...   \n",
       "EU_32018L2001_Title_0_Chapter_0_Section_0_Artic...  [start:0 stop:7 text:article tag_count:0, star...   \n",
       "EU_32018R1999_Title_0_Chapter_7_Section_3_Artic...  [start:0 stop:7 text:article tag_count:0, star...   \n",
       "EU_32018L2001_Title_0_Chapter_0_Section_0_Artic...  [start:0 stop:7 text:article tag_count:0, star...   \n",
       "\n",
       "                                                        Article_State  \\\n",
       "EU_32018R1999_Title_0_Chapter_7_Section_3_Artic...  CURATION_FINISHED   \n",
       "EU_32019R0631_Title_0_Chapter_0_Section_0_Artic...  CURATION_FINISHED   \n",
       "EU_32018L2001_Title_0_Chapter_0_Section_0_Artic...  CURATION_FINISHED   \n",
       "EU_32018R1999_Title_0_Chapter_7_Section_3_Artic...  CURATION_FINISHED   \n",
       "EU_32018L2001_Title_0_Chapter_0_Section_0_Artic...  CURATION_FINISHED   \n",
       "\n",
       "                                                        Finished_Annotators  \\\n",
       "EU_32018R1999_Title_0_Chapter_7_Section_3_Artic...          [Alisha, Fride]   \n",
       "EU_32019R0631_Title_0_Chapter_0_Section_0_Artic...         [Onerva, Fabian]   \n",
       "EU_32018L2001_Title_0_Chapter_0_Section_0_Artic...          [Fride, Onerva]   \n",
       "EU_32018R1999_Title_0_Chapter_7_Section_3_Artic...          [Alisha, Fride]   \n",
       "EU_32018L2001_Title_0_Chapter_0_Section_0_Artic...  [Fride, Onerva, Fabian]   \n",
       "\n",
       "                                                                                             Curation  \\\n",
       "EU_32018R1999_Title_0_Chapter_7_Section_3_Artic...  [span id:CUR0 annotator:Curation layer:Instrum...   \n",
       "EU_32019R0631_Title_0_Chapter_0_Section_0_Artic...  [span id:CUR36 annotator:Curation layer:Instru...   \n",
       "EU_32018L2001_Title_0_Chapter_0_Section_0_Artic...  [span id:CUR116 annotator:Curation layer:Instr...   \n",
       "EU_32018R1999_Title_0_Chapter_7_Section_3_Artic...  [span id:CUR202 annotator:Curation layer:Polic...   \n",
       "EU_32018L2001_Title_0_Chapter_0_Section_0_Artic...  [span id:CUR211 annotator:Curation layer:Instr...   \n",
       "\n",
       "                                                                                               Alisha  \\\n",
       "EU_32018R1999_Title_0_Chapter_7_Section_3_Artic...  [span id:A1 annotator:Alisha layer:Instrumentt...   \n",
       "EU_32019R0631_Title_0_Chapter_0_Section_0_Artic...                                                      \n",
       "EU_32018L2001_Title_0_Chapter_0_Section_0_Artic...                                                      \n",
       "EU_32018R1999_Title_0_Chapter_7_Section_3_Artic...  [span id:A38 annotator:Alisha layer:Policydesi...   \n",
       "EU_32018L2001_Title_0_Chapter_0_Section_0_Artic...                                                      \n",
       "\n",
       "                                                                                                Fride  \\\n",
       "EU_32018R1999_Title_0_Chapter_7_Section_3_Artic...  [span id:B1 annotator:Fride layer:Policydesign...   \n",
       "EU_32019R0631_Title_0_Chapter_0_Section_0_Artic...                                                      \n",
       "EU_32018L2001_Title_0_Chapter_0_Section_0_Artic...  [span id:B28 annotator:Fride layer:Instrumentt...   \n",
       "EU_32018R1999_Title_0_Chapter_7_Section_3_Artic...  [span id:B129 annotator:Fride layer:Policydesi...   \n",
       "EU_32018L2001_Title_0_Chapter_0_Section_0_Artic...  [span id:B138 annotator:Fride layer:Instrument...   \n",
       "\n",
       "                                                                                               Onerva  \\\n",
       "EU_32018R1999_Title_0_Chapter_7_Section_3_Artic...                                                      \n",
       "EU_32019R0631_Title_0_Chapter_0_Section_0_Artic...  [span id:C1 annotator:Onerva layer:Instrumentt...   \n",
       "EU_32018L2001_Title_0_Chapter_0_Section_0_Artic...  [span id:C58 annotator:Onerva layer:Instrument...   \n",
       "EU_32018R1999_Title_0_Chapter_7_Section_3_Artic...                                                      \n",
       "EU_32018L2001_Title_0_Chapter_0_Section_0_Artic...  [span id:C165 annotator:Onerva layer:Instrumen...   \n",
       "\n",
       "                                                                                               Fabian  \\\n",
       "EU_32018R1999_Title_0_Chapter_7_Section_3_Artic...                                                      \n",
       "EU_32019R0631_Title_0_Chapter_0_Section_0_Artic...  [span id:D1 annotator:Fabian layer:Policydesig...   \n",
       "EU_32018L2001_Title_0_Chapter_0_Section_0_Artic...                                                      \n",
       "EU_32018R1999_Title_0_Chapter_7_Section_3_Artic...                                                      \n",
       "EU_32018L2001_Title_0_Chapter_0_Section_0_Artic...  [span id:D27 annotator:Fabian layer:Instrument...   \n",
       "\n",
       "                                                   Lynn Sebastian Joel  \n",
       "EU_32018R1999_Title_0_Chapter_7_Section_3_Artic...                      \n",
       "EU_32019R0631_Title_0_Chapter_0_Section_0_Artic...                      \n",
       "EU_32018L2001_Title_0_Chapter_0_Section_0_Artic...                      \n",
       "EU_32018R1999_Title_0_Chapter_7_Section_3_Artic...                      \n",
       "EU_32018L2001_Title_0_Chapter_0_Section_0_Artic...                      "
      ]
     },
     "execution_count": 2,
     "metadata": {},
     "output_type": "execute_result"
    }
   ],
   "source": [
    "    \n",
    "dataframe_dir = os.path.join(ROOT_DIR,'data/02_processed_to_dataframe', 'preprocessed_dataframe.pkl')\n",
    "stat_df = pd.read_pickle(dataframe_dir)\n",
    "stat_df.head()"
   ]
  },
  {
   "cell_type": "code",
   "execution_count": 3,
   "metadata": {},
   "outputs": [],
   "source": [
    "test = Corpus(stat_df)"
   ]
  },
  {
   "cell_type": "code",
   "execution_count": 4,
   "metadata": {},
   "outputs": [
    {
     "data": {
      "text/plain": [
       "'article 43\\r\\nexercise of the delegation\\r\\n1.\\xa0\\xa0\\xa0the power to adopt delegated acts is conferred on the commission subject to the conditions laid down in this article.\\r\\n2.\\xa0\\xa0\\xa0the power to adopt delegated acts referred to in articles 3(5), article 15(5), article 26(6), article 37(7) and article 40(4) shall be conferred on the commission for a period of five years from 24\\xa0december 2018. the commission shall draw up a report in respect of the delegation of power not later than nine months before the end of the five-year period. the delegation of power shall be tacitly extended for periods of an identical duration, unless the european parliament or the council opposes such extension not later than three months before the end of each period.\\r\\n3.\\xa0\\xa0\\xa0the delegation of power referred to in article 3(5), article 15(5), article 26(6), article 37(7) and article 40(4) may be revoked at any time by the european parliament or by the council. a decision to revoke shall put an end to the delegation of the power specified in that decision. it shall take effect the day following the publication of the decision in the official journal of the european\\xa0union or at a later date specified therein. it shall not affect the validity of any delegated acts already in force.\\r\\n4.\\xa0\\xa0\\xa0before adopting a delegated act, the commission shall consult experts designated by each member state in accordance with the principles laid down in the interinstitutional agreement of 13\\xa0april 2016 on better law-making.\\r\\n5.\\xa0\\xa0\\xa0as soon as it adopts a delegated act, the commission shall notify it simultaneously to the european parliament and to the council.\\r\\n6.\\xa0\\xa0\\xa0a delegated act adopted pursuant to article 3(5), article 15(5), article 26(6), article 37(7) and article 40(4) shall enter into force only if no objection has been expressed either by the european parliament or the council within a period of two months of notification of that act to the european parliament and to the council or if, before the expiry of that period, the european parliament and the council have both informed the commission that they will not object. that period shall be extended by two months at the initiative of the european parliament or of the council.\\r\\n'"
      ]
     },
     "execution_count": 4,
     "metadata": {},
     "output_type": "execute_result"
    }
   ],
   "source": [
    "test.df.iloc[0][\"Text\"]"
   ]
  },
  {
   "cell_type": "code",
   "execution_count": 5,
   "metadata": {},
   "outputs": [],
   "source": [
    "test_corpus = Sent_Corpus(stat_df)\n",
    "#test_dir = repository(policy = 'EU_32008R1099', title = 'None', chapter = 'None', section = 'None', article = 'None')\n",
    "test_dir = test_corpus.df['Curation'][11][0].rep\n",
    "test_row_nr = 11\n"
   ]
  },
  {
   "cell_type": "code",
   "execution_count": 6,
   "metadata": {},
   "outputs": [
    {
     "data": {
      "text/html": [
       "<div>\n",
       "<style scoped>\n",
       "    .dataframe tbody tr th:only-of-type {\n",
       "        vertical-align: middle;\n",
       "    }\n",
       "\n",
       "    .dataframe tbody tr th {\n",
       "        vertical-align: top;\n",
       "    }\n",
       "\n",
       "    .dataframe thead th {\n",
       "        text-align: right;\n",
       "    }\n",
       "</style>\n",
       "<table border=\"1\" class=\"dataframe\">\n",
       "  <thead>\n",
       "    <tr style=\"text-align: right;\">\n",
       "      <th></th>\n",
       "      <th>Sentence</th>\n",
       "      <th>Text</th>\n",
       "      <th>Tokens</th>\n",
       "      <th>Article_State</th>\n",
       "      <th>Finished_Annotators</th>\n",
       "      <th>Curation</th>\n",
       "      <th>Alisha</th>\n",
       "      <th>Fride</th>\n",
       "      <th>Onerva</th>\n",
       "      <th>Fabian</th>\n",
       "      <th>Lynn</th>\n",
       "      <th>Sebastian</th>\n",
       "      <th>Joel</th>\n",
       "      <th>Sentence_Start</th>\n",
       "      <th>Sentence_Stop</th>\n",
       "    </tr>\n",
       "  </thead>\n",
       "  <tbody>\n",
       "    <tr>\n",
       "      <th>0</th>\n",
       "      <td>EU_32018R1999_Title_0_Chapter_7_Section_3_Arti...</td>\n",
       "      <td>article 43\\r\\nexercise of the delegation\\r\\n1....</td>\n",
       "      <td>[start:0 stop:7 text:article tag_count:0, star...</td>\n",
       "      <td>CURATION_FINISHED</td>\n",
       "      <td>[Alisha, Fride]</td>\n",
       "      <td>[span id:CUR0 annotator:Curation layer:Instrum...</td>\n",
       "      <td>[span id:A1 annotator:Alisha layer:Instrumentt...</td>\n",
       "      <td>[span id:B1 annotator:Fride layer:Policydesign...</td>\n",
       "      <td></td>\n",
       "      <td></td>\n",
       "      <td></td>\n",
       "      <td></td>\n",
       "      <td></td>\n",
       "      <td>0</td>\n",
       "      <td>162</td>\n",
       "    </tr>\n",
       "    <tr>\n",
       "      <th>1</th>\n",
       "      <td>EU_32018R1999_Title_0_Chapter_7_Section_3_Arti...</td>\n",
       "      <td>2.   the power to adopt delegated acts referre...</td>\n",
       "      <td>[start:164 stop:165 text:2 tag_count:0, start:...</td>\n",
       "      <td>CURATION_FINISHED</td>\n",
       "      <td>[Alisha, Fride]</td>\n",
       "      <td>[span id:CUR1 annotator:Curation layer:Instrum...</td>\n",
       "      <td>[span id:A2 annotator:Alisha layer:Instrumentt...</td>\n",
       "      <td>[span id:B2 annotator:Fride layer:Policydesign...</td>\n",
       "      <td></td>\n",
       "      <td></td>\n",
       "      <td></td>\n",
       "      <td></td>\n",
       "      <td></td>\n",
       "      <td>164</td>\n",
       "      <td>524</td>\n",
       "    </tr>\n",
       "    <tr>\n",
       "      <th>2</th>\n",
       "      <td>EU_32018R1999_Title_0_Chapter_7_Section_3_Arti...</td>\n",
       "      <td>the delegation of power shall be tacitly exten...</td>\n",
       "      <td>[start:525 stop:528 text:the tag_count:0, star...</td>\n",
       "      <td>CURATION_FINISHED</td>\n",
       "      <td>[Alisha, Fride]</td>\n",
       "      <td>[span id:CUR13 annotator:Curation layer:Policy...</td>\n",
       "      <td>[span id:A14 annotator:Alisha layer:Policydesi...</td>\n",
       "      <td>[span id:B7 annotator:Fride layer:Policydesign...</td>\n",
       "      <td></td>\n",
       "      <td></td>\n",
       "      <td></td>\n",
       "      <td></td>\n",
       "      <td></td>\n",
       "      <td>525</td>\n",
       "      <td>740</td>\n",
       "    </tr>\n",
       "    <tr>\n",
       "      <th>3</th>\n",
       "      <td>EU_32018R1999_Title_0_Chapter_7_Section_3_Arti...</td>\n",
       "      <td>3.   the delegation of power referred to in ar...</td>\n",
       "      <td>[start:742 stop:743 text:3 tag_count:0, start:...</td>\n",
       "      <td>CURATION_FINISHED</td>\n",
       "      <td>[Alisha, Fride]</td>\n",
       "      <td>[span id:CUR16 annotator:Curation layer:Policy...</td>\n",
       "      <td>[span id:A17 annotator:Alisha layer:Policydesi...</td>\n",
       "      <td>[span id:B10 annotator:Fride layer:Policydesig...</td>\n",
       "      <td></td>\n",
       "      <td></td>\n",
       "      <td></td>\n",
       "      <td></td>\n",
       "      <td></td>\n",
       "      <td>742</td>\n",
       "      <td>934</td>\n",
       "    </tr>\n",
       "    <tr>\n",
       "      <th>4</th>\n",
       "      <td>EU_32018R1999_Title_0_Chapter_7_Section_3_Arti...</td>\n",
       "      <td>a decision to revoke shall put an end to the d...</td>\n",
       "      <td>[start:935 stop:936 text:a tag_count:1, start:...</td>\n",
       "      <td>CURATION_FINISHED</td>\n",
       "      <td>[Alisha, Fride]</td>\n",
       "      <td>[span id:CUR21 annotator:Curation layer:Policy...</td>\n",
       "      <td>[]</td>\n",
       "      <td>[]</td>\n",
       "      <td></td>\n",
       "      <td></td>\n",
       "      <td></td>\n",
       "      <td></td>\n",
       "      <td></td>\n",
       "      <td>935</td>\n",
       "      <td>1031</td>\n",
       "    </tr>\n",
       "    <tr>\n",
       "      <th>...</th>\n",
       "      <td>...</td>\n",
       "      <td>...</td>\n",
       "      <td>...</td>\n",
       "      <td>...</td>\n",
       "      <td>...</td>\n",
       "      <td>...</td>\n",
       "      <td>...</td>\n",
       "      <td>...</td>\n",
       "      <td>...</td>\n",
       "      <td>...</td>\n",
       "      <td>...</td>\n",
       "      <td>...</td>\n",
       "      <td>...</td>\n",
       "      <td>...</td>\n",
       "      <td>...</td>\n",
       "    </tr>\n",
       "    <tr>\n",
       "      <th>4909</th>\n",
       "      <td>EU_32018R1999_Title_0_Chapter_5_Section_3_Arti...</td>\n",
       "      <td>in the area of energy efficiency, it shall tak...</td>\n",
       "      <td>[start:2661 stop:2663 text:in tag_count:0, sta...</td>\n",
       "      <td>CURATION_FINISHED</td>\n",
       "      <td>[Alisha, Fride]</td>\n",
       "      <td>[span id:CUR20848 annotator:Curation layer:Tec...</td>\n",
       "      <td>[span id:A8482 annotator:Alisha layer:Technolo...</td>\n",
       "      <td>[span id:B11404 annotator:Fride layer:Technolo...</td>\n",
       "      <td></td>\n",
       "      <td></td>\n",
       "      <td></td>\n",
       "      <td></td>\n",
       "      <td></td>\n",
       "      <td>2661</td>\n",
       "      <td>2841</td>\n",
       "    </tr>\n",
       "    <tr>\n",
       "      <th>4910</th>\n",
       "      <td>EU_32018R1999_Title_0_Chapter_5_Section_3_Arti...</td>\n",
       "      <td>in its assessment of the renewable energy cont...</td>\n",
       "      <td>[start:2843 stop:2845 text:in tag_count:0, sta...</td>\n",
       "      <td>CURATION_FINISHED</td>\n",
       "      <td>[Alisha, Fride]</td>\n",
       "      <td>[span id:CUR20818 annotator:Curation layer:Pol...</td>\n",
       "      <td>[span id:A8452 annotator:Alisha layer:Policyde...</td>\n",
       "      <td>[span id:B11368 annotator:Fride layer:Policyde...</td>\n",
       "      <td></td>\n",
       "      <td></td>\n",
       "      <td></td>\n",
       "      <td></td>\n",
       "      <td></td>\n",
       "      <td>2843</td>\n",
       "      <td>3210</td>\n",
       "    </tr>\n",
       "    <tr>\n",
       "      <th>4911</th>\n",
       "      <td>EU_32018R1999_Title_0_Chapter_5_Section_3_Arti...</td>\n",
       "      <td>in its assessment of the energy efficiency con...</td>\n",
       "      <td>[start:3212 stop:3214 text:in tag_count:0, sta...</td>\n",
       "      <td>CURATION_FINISHED</td>\n",
       "      <td>[Alisha, Fride]</td>\n",
       "      <td>[span id:CUR20822 annotator:Curation layer:Pol...</td>\n",
       "      <td>[span id:A8456 annotator:Alisha layer:Policyde...</td>\n",
       "      <td>[span id:B11371 annotator:Fride layer:Policyde...</td>\n",
       "      <td></td>\n",
       "      <td></td>\n",
       "      <td></td>\n",
       "      <td></td>\n",
       "      <td></td>\n",
       "      <td>3212</td>\n",
       "      <td>3486</td>\n",
       "    </tr>\n",
       "    <tr>\n",
       "      <th>4912</th>\n",
       "      <td>EU_32018R1999_Title_0_Chapter_5_Section_3_Arti...</td>\n",
       "      <td>3.   where, on the basis of its assessment of ...</td>\n",
       "      <td>[start:3488 stop:3489 text:3 tag_count:0, star...</td>\n",
       "      <td>CURATION_FINISHED</td>\n",
       "      <td>[Alisha, Fride]</td>\n",
       "      <td>[span id:CUR20776 annotator:Curation layer:Ins...</td>\n",
       "      <td>[span id:A8410 annotator:Alisha layer:Instrume...</td>\n",
       "      <td>[span id:B11324 annotator:Fride layer:Instrume...</td>\n",
       "      <td></td>\n",
       "      <td></td>\n",
       "      <td></td>\n",
       "      <td></td>\n",
       "      <td></td>\n",
       "      <td>3488</td>\n",
       "      <td>4112</td>\n",
       "    </tr>\n",
       "    <tr>\n",
       "      <th>4913</th>\n",
       "      <td>EU_32018R1999_Title_0_Chapter_5_Section_3_Arti...</td>\n",
       "      <td>with regard to renewable energy, such measures...</td>\n",
       "      <td>[start:4113 stop:4117 text:with tag_count:0, s...</td>\n",
       "      <td>CURATION_FINISHED</td>\n",
       "      <td>[Alisha, Fride]</td>\n",
       "      <td>[span id:CUR20779 annotator:Curation layer:Ins...</td>\n",
       "      <td>[span id:A8412 annotator:Alisha layer:Instrume...</td>\n",
       "      <td>[span id:B11327 annotator:Fride layer:Instrume...</td>\n",
       "      <td></td>\n",
       "      <td></td>\n",
       "      <td></td>\n",
       "      <td></td>\n",
       "      <td></td>\n",
       "      <td>4113</td>\n",
       "      <td>4351</td>\n",
       "    </tr>\n",
       "  </tbody>\n",
       "</table>\n",
       "<p>4914 rows × 15 columns</p>\n",
       "</div>"
      ],
      "text/plain": [
       "                                               Sentence  \\\n",
       "0     EU_32018R1999_Title_0_Chapter_7_Section_3_Arti...   \n",
       "1     EU_32018R1999_Title_0_Chapter_7_Section_3_Arti...   \n",
       "2     EU_32018R1999_Title_0_Chapter_7_Section_3_Arti...   \n",
       "3     EU_32018R1999_Title_0_Chapter_7_Section_3_Arti...   \n",
       "4     EU_32018R1999_Title_0_Chapter_7_Section_3_Arti...   \n",
       "...                                                 ...   \n",
       "4909  EU_32018R1999_Title_0_Chapter_5_Section_3_Arti...   \n",
       "4910  EU_32018R1999_Title_0_Chapter_5_Section_3_Arti...   \n",
       "4911  EU_32018R1999_Title_0_Chapter_5_Section_3_Arti...   \n",
       "4912  EU_32018R1999_Title_0_Chapter_5_Section_3_Arti...   \n",
       "4913  EU_32018R1999_Title_0_Chapter_5_Section_3_Arti...   \n",
       "\n",
       "                                                   Text  \\\n",
       "0     article 43\\r\\nexercise of the delegation\\r\\n1....   \n",
       "1     2.   the power to adopt delegated acts referre...   \n",
       "2     the delegation of power shall be tacitly exten...   \n",
       "3     3.   the delegation of power referred to in ar...   \n",
       "4     a decision to revoke shall put an end to the d...   \n",
       "...                                                 ...   \n",
       "4909  in the area of energy efficiency, it shall tak...   \n",
       "4910  in its assessment of the renewable energy cont...   \n",
       "4911  in its assessment of the energy efficiency con...   \n",
       "4912  3.   where, on the basis of its assessment of ...   \n",
       "4913  with regard to renewable energy, such measures...   \n",
       "\n",
       "                                                 Tokens      Article_State  \\\n",
       "0     [start:0 stop:7 text:article tag_count:0, star...  CURATION_FINISHED   \n",
       "1     [start:164 stop:165 text:2 tag_count:0, start:...  CURATION_FINISHED   \n",
       "2     [start:525 stop:528 text:the tag_count:0, star...  CURATION_FINISHED   \n",
       "3     [start:742 stop:743 text:3 tag_count:0, start:...  CURATION_FINISHED   \n",
       "4     [start:935 stop:936 text:a tag_count:1, start:...  CURATION_FINISHED   \n",
       "...                                                 ...                ...   \n",
       "4909  [start:2661 stop:2663 text:in tag_count:0, sta...  CURATION_FINISHED   \n",
       "4910  [start:2843 stop:2845 text:in tag_count:0, sta...  CURATION_FINISHED   \n",
       "4911  [start:3212 stop:3214 text:in tag_count:0, sta...  CURATION_FINISHED   \n",
       "4912  [start:3488 stop:3489 text:3 tag_count:0, star...  CURATION_FINISHED   \n",
       "4913  [start:4113 stop:4117 text:with tag_count:0, s...  CURATION_FINISHED   \n",
       "\n",
       "     Finished_Annotators                                           Curation  \\\n",
       "0        [Alisha, Fride]  [span id:CUR0 annotator:Curation layer:Instrum...   \n",
       "1        [Alisha, Fride]  [span id:CUR1 annotator:Curation layer:Instrum...   \n",
       "2        [Alisha, Fride]  [span id:CUR13 annotator:Curation layer:Policy...   \n",
       "3        [Alisha, Fride]  [span id:CUR16 annotator:Curation layer:Policy...   \n",
       "4        [Alisha, Fride]  [span id:CUR21 annotator:Curation layer:Policy...   \n",
       "...                  ...                                                ...   \n",
       "4909     [Alisha, Fride]  [span id:CUR20848 annotator:Curation layer:Tec...   \n",
       "4910     [Alisha, Fride]  [span id:CUR20818 annotator:Curation layer:Pol...   \n",
       "4911     [Alisha, Fride]  [span id:CUR20822 annotator:Curation layer:Pol...   \n",
       "4912     [Alisha, Fride]  [span id:CUR20776 annotator:Curation layer:Ins...   \n",
       "4913     [Alisha, Fride]  [span id:CUR20779 annotator:Curation layer:Ins...   \n",
       "\n",
       "                                                 Alisha  \\\n",
       "0     [span id:A1 annotator:Alisha layer:Instrumentt...   \n",
       "1     [span id:A2 annotator:Alisha layer:Instrumentt...   \n",
       "2     [span id:A14 annotator:Alisha layer:Policydesi...   \n",
       "3     [span id:A17 annotator:Alisha layer:Policydesi...   \n",
       "4                                                    []   \n",
       "...                                                 ...   \n",
       "4909  [span id:A8482 annotator:Alisha layer:Technolo...   \n",
       "4910  [span id:A8452 annotator:Alisha layer:Policyde...   \n",
       "4911  [span id:A8456 annotator:Alisha layer:Policyde...   \n",
       "4912  [span id:A8410 annotator:Alisha layer:Instrume...   \n",
       "4913  [span id:A8412 annotator:Alisha layer:Instrume...   \n",
       "\n",
       "                                                  Fride Onerva Fabian Lynn  \\\n",
       "0     [span id:B1 annotator:Fride layer:Policydesign...                      \n",
       "1     [span id:B2 annotator:Fride layer:Policydesign...                      \n",
       "2     [span id:B7 annotator:Fride layer:Policydesign...                      \n",
       "3     [span id:B10 annotator:Fride layer:Policydesig...                      \n",
       "4                                                    []                      \n",
       "...                                                 ...    ...    ...  ...   \n",
       "4909  [span id:B11404 annotator:Fride layer:Technolo...                      \n",
       "4910  [span id:B11368 annotator:Fride layer:Policyde...                      \n",
       "4911  [span id:B11371 annotator:Fride layer:Policyde...                      \n",
       "4912  [span id:B11324 annotator:Fride layer:Instrume...                      \n",
       "4913  [span id:B11327 annotator:Fride layer:Instrume...                      \n",
       "\n",
       "     Sebastian Joel Sentence_Start Sentence_Stop  \n",
       "0                                0           162  \n",
       "1                              164           524  \n",
       "2                              525           740  \n",
       "3                              742           934  \n",
       "4                              935          1031  \n",
       "...        ...  ...            ...           ...  \n",
       "4909                          2661          2841  \n",
       "4910                          2843          3210  \n",
       "4911                          3212          3486  \n",
       "4912                          3488          4112  \n",
       "4913                          4113          4351  \n",
       "\n",
       "[4914 rows x 15 columns]"
      ]
     },
     "execution_count": 6,
     "metadata": {},
     "output_type": "execute_result"
    }
   ],
   "source": [
    "test_corpus.df"
   ]
  },
  {
   "cell_type": "code",
   "execution_count": 7,
   "metadata": {},
   "outputs": [
    {
     "data": {
      "text/plain": [
       "'article 12\\r\\nreal-world co2 emissions and fuel or energy consumption\\r\\n1.\\xa0\\xa0\\xa0the commission shall monitor and assess the real-world representativeness of the co2 emissions and fuel or energy consumption values determined pursuant to regulation (ec) no\\xa0715/2007.'"
      ]
     },
     "execution_count": 7,
     "metadata": {},
     "output_type": "execute_result"
    }
   ],
   "source": [
    "test_corpus.df['Text'][test_row_nr]\n"
   ]
  },
  {
   "cell_type": "code",
   "execution_count": 8,
   "metadata": {},
   "outputs": [
    {
     "data": {
      "text/plain": [
       "'EU_32019R0631_Title_0_Chapter_0_Section_0_Article_12_Sentence_0'"
      ]
     },
     "execution_count": 8,
     "metadata": {},
     "output_type": "execute_result"
    }
   ],
   "source": [
    "test_corpus.df.iloc[test_row_nr][\"Sentence\"]"
   ]
  },
  {
   "cell_type": "code",
   "execution_count": 9,
   "metadata": {},
   "outputs": [
    {
     "data": {
      "text/plain": [
       "policy:EU_32019R0631 title:Title_0 chapter:Chapter_0 section:Section_0 article:Article_12sentence:Sentence_0"
      ]
     },
     "execution_count": 9,
     "metadata": {},
     "output_type": "execute_result"
    }
   ],
   "source": [
    "test_dir"
   ]
  },
  {
   "cell_type": "code",
   "execution_count": 10,
   "metadata": {},
   "outputs": [
    {
     "name": "stdout",
     "output_type": "stream",
     "text": [
      "policy:EU_32018R1999 title:Title_0 chapter:Chapter_7 section:Section_3 article:Article_43sentence:Sentence_0\n",
      "policy:EU_32018R1999 title:Title_0 chapter:Chapter_7 section:Section_3 article:Article_43sentence:Sentence_1\n",
      "policy:EU_32018R1999 title:Title_0 chapter:Chapter_7 section:Section_3 article:Article_43sentence:Sentence_2\n",
      "policy:EU_32018R1999 title:Title_0 chapter:Chapter_7 section:Section_3 article:Article_43sentence:Sentence_3\n",
      "policy:EU_32018R1999 title:Title_0 chapter:Chapter_7 section:Section_3 article:Article_43sentence:Sentence_4\n",
      "policy:EU_32018R1999 title:Title_0 chapter:Chapter_7 section:Section_3 article:Article_43sentence:Sentence_5\n",
      "policy:EU_32018R1999 title:Title_0 chapter:Chapter_7 section:Section_3 article:Article_43sentence:Sentence_6\n",
      "policy:EU_32018R1999 title:Title_0 chapter:Chapter_7 section:Section_3 article:Article_43sentence:Sentence_7\n",
      "policy:EU_32018R1999 title:Title_0 chapter:Chapter_7 section:Section_3 article:Article_43sentence:Sentence_8\n",
      "policy:EU_32018R1999 title:Title_0 chapter:Chapter_7 section:Section_3 article:Article_43sentence:Sentence_9\n",
      "policy:EU_32018R1999 title:Title_0 chapter:Chapter_7 section:Section_3 article:Article_43sentence:Sentence_10\n",
      "policy:EU_32019R0631 title:Title_0 chapter:Chapter_0 section:Section_0 article:Article_12sentence:Sentence_0\n",
      "policy:EU_32019R0631 title:Title_0 chapter:Chapter_0 section:Section_0 article:Article_12sentence:Sentence_1\n",
      "policy:EU_32019R0631 title:Title_0 chapter:Chapter_0 section:Section_0 article:Article_12sentence:Sentence_2\n",
      "policy:EU_32019R0631 title:Title_0 chapter:Chapter_0 section:Section_0 article:Article_12sentence:Sentence_3\n",
      "policy:EU_32019R0631 title:Title_0 chapter:Chapter_0 section:Section_0 article:Article_12sentence:Sentence_4\n",
      "policy:EU_32019R0631 title:Title_0 chapter:Chapter_0 section:Section_0 article:Article_12sentence:Sentence_5\n",
      "policy:EU_32019R0631 title:Title_0 chapter:Chapter_0 section:Section_0 article:Article_12sentence:Sentence_6\n",
      "policy:EU_32019R0631 title:Title_0 chapter:Chapter_0 section:Section_0 article:Article_12sentence:Sentence_7\n",
      "policy:EU_32018L2001 title:Title_0 chapter:Chapter_0 section:Section_0 article:Article_11sentence:Sentence_0\n",
      "policy:EU_32018L2001 title:Title_0 chapter:Chapter_0 section:Section_0 article:Article_11sentence:Sentence_1\n",
      "policy:EU_32018L2001 title:Title_0 chapter:Chapter_0 section:Section_0 article:Article_11sentence:Sentence_2\n",
      "policy:EU_32018L2001 title:Title_0 chapter:Chapter_0 section:Section_0 article:Article_11sentence:Sentence_3\n",
      "policy:EU_32018L2001 title:Title_0 chapter:Chapter_0 section:Section_0 article:Article_11sentence:Sentence_4\n",
      "policy:EU_32018L2001 title:Title_0 chapter:Chapter_0 section:Section_0 article:Article_11sentence:Sentence_5\n",
      "policy:EU_32018L2001 title:Title_0 chapter:Chapter_0 section:Section_0 article:Article_11sentence:Sentence_6\n",
      "policy:EU_32018L2001 title:Title_0 chapter:Chapter_0 section:Section_0 article:Article_11sentence:Sentence_7\n",
      "policy:EU_32018L2001 title:Title_0 chapter:Chapter_0 section:Section_0 article:Article_11sentence:Sentence_8\n",
      "policy:EU_32018L2001 title:Title_0 chapter:Chapter_0 section:Section_0 article:Article_11sentence:Sentence_9\n",
      "policy:EU_32018L2001 title:Title_0 chapter:Chapter_0 section:Section_0 article:Article_11sentence:Sentence_10\n",
      "policy:EU_32018L2001 title:Title_0 chapter:Chapter_0 section:Section_0 article:Article_11sentence:Sentence_11\n",
      "policy:EU_32018R1999 title:Title_0 chapter:Chapter_7 section:Section_3 article:Article_56sentence:Sentence_0\n",
      "policy:EU_32018R1999 title:Title_0 chapter:Chapter_7 section:Section_3 article:Article_56sentence:Sentence_1\n",
      "policy:EU_32018R1999 title:Title_0 chapter:Chapter_7 section:Section_3 article:Article_56sentence:Sentence_2\n",
      "policy:EU_32018R1999 title:Title_0 chapter:Chapter_7 section:Section_3 article:Article_56sentence:Sentence_3\n",
      "policy:EU_32018L2001 title:Title_0 chapter:Chapter_0 section:Section_0 article:Article_03sentence:Sentence_0\n",
      "policy:EU_32018L2001 title:Title_0 chapter:Chapter_0 section:Section_0 article:Article_03sentence:Sentence_1\n",
      "policy:EU_32018L2001 title:Title_0 chapter:Chapter_0 section:Section_0 article:Article_03sentence:Sentence_2\n",
      "policy:EU_32018L2001 title:Title_0 chapter:Chapter_0 section:Section_0 article:Article_03sentence:Sentence_3\n",
      "policy:EU_32018L2001 title:Title_0 chapter:Chapter_0 section:Section_0 article:Article_03sentence:Sentence_4\n",
      "policy:EU_32018L2001 title:Title_0 chapter:Chapter_0 section:Section_0 article:Article_03sentence:Sentence_5\n",
      "policy:EU_32018L2001 title:Title_0 chapter:Chapter_0 section:Section_0 article:Article_03sentence:Sentence_6\n",
      "policy:EU_32018L2001 title:Title_0 chapter:Chapter_0 section:Section_0 article:Article_03sentence:Sentence_7\n",
      "policy:EU_32018L2001 title:Title_0 chapter:Chapter_0 section:Section_0 article:Article_03sentence:Sentence_8\n",
      "policy:EU_32018L2001 title:Title_0 chapter:Chapter_0 section:Section_0 article:Article_03sentence:Sentence_9\n",
      "policy:EU_32018L2001 title:Title_0 chapter:Chapter_0 section:Section_0 article:Article_03sentence:Sentence_10\n",
      "policy:EU_32018L2001 title:Title_0 chapter:Chapter_0 section:Section_0 article:Article_03sentence:Sentence_11\n",
      "policy:EU_32013R0525 title:Title_0 chapter:Chapter_7 section:Section_0 article:Article_23sentence:Sentence_0\n",
      "policy:EU_32006L0066 title:Title_0 chapter:Chapter_0 section:Section_0 article:Article_30sentence:Sentence_0\n",
      "policy:EU_32009L0028 title:Title_0 chapter:Chapter_0 section:Section_0 article:Article_21sentence:Sentence_0\n"
     ]
    }
   ],
   "source": [
    "for i in range(0,50):\n",
    "    test_dir1 = test_corpus.df['Tokens'][i][0].rep\n",
    "    print(test_dir1)"
   ]
  },
  {
   "cell_type": "code",
   "execution_count": null,
   "metadata": {},
   "outputs": [],
   "source": []
  },
  {
   "cell_type": "code",
   "execution_count": 11,
   "metadata": {},
   "outputs": [
    {
     "data": {
      "text/plain": [
       "Sentence_Start      0\n",
       "Sentence_Stop     258\n",
       "Name: 11, dtype: object"
      ]
     },
     "execution_count": 11,
     "metadata": {},
     "output_type": "execute_result"
    }
   ],
   "source": [
    "test_corpus.df[[\"Sentence_Start\", \"Sentence_Stop\"]].iloc[test_row_nr]"
   ]
  },
  {
   "cell_type": "code",
   "execution_count": 12,
   "metadata": {},
   "outputs": [
    {
     "data": {
      "text/plain": [
       "[start:0 stop:7 text:article tag_count:0,\n",
       " start:8 stop:10 text:12 tag_count:0,\n",
       " start:12 stop:22 text:real-world tag_count:0,\n",
       " start:23 stop:26 text:co2 tag_count:0,\n",
       " start:27 stop:36 text:emissions tag_count:0,\n",
       " start:37 stop:40 text:and tag_count:0,\n",
       " start:41 stop:45 text:fuel tag_count:2,\n",
       " start:46 stop:48 text:or tag_count:1,\n",
       " start:49 stop:55 text:energy tag_count:2,\n",
       " start:56 stop:67 text:consumption tag_count:1,\n",
       " start:69 stop:70 text:1 tag_count:0,\n",
       " start:70 stop:71 text:. tag_count:0,\n",
       " start:71 stop:74 text:    tag_count:0,\n",
       " start:74 stop:77 text:the tag_count:0,\n",
       " start:78 stop:88 text:commission tag_count:1,\n",
       " start:89 stop:94 text:shall tag_count:0,\n",
       " start:95 stop:102 text:monitor tag_count:1,\n",
       " start:103 stop:106 text:and tag_count:0,\n",
       " start:107 stop:113 text:assess tag_count:1,\n",
       " start:114 stop:117 text:the tag_count:0,\n",
       " start:118 stop:128 text:real-world tag_count:0,\n",
       " start:129 stop:147 text:representativeness tag_count:0,\n",
       " start:148 stop:150 text:of tag_count:0,\n",
       " start:151 stop:154 text:the tag_count:0,\n",
       " start:155 stop:158 text:co2 tag_count:0,\n",
       " start:159 stop:168 text:emissions tag_count:0,\n",
       " start:169 stop:172 text:and tag_count:0,\n",
       " start:173 stop:177 text:fuel tag_count:2,\n",
       " start:178 stop:180 text:or tag_count:1,\n",
       " start:181 stop:187 text:energy tag_count:2,\n",
       " start:188 stop:199 text:consumption tag_count:1,\n",
       " start:200 stop:206 text:values tag_count:0,\n",
       " start:207 stop:217 text:determined tag_count:0,\n",
       " start:218 stop:226 text:pursuant tag_count:0,\n",
       " start:227 stop:229 text:to tag_count:0,\n",
       " start:230 stop:240 text:regulation tag_count:1,\n",
       " start:241 stop:242 text:( tag_count:1,\n",
       " start:242 stop:244 text:ec tag_count:1,\n",
       " start:244 stop:245 text:) tag_count:1,\n",
       " start:246 stop:248 text:no tag_count:1,\n",
       " start:248 stop:249 text:  tag_count:1,\n",
       " start:249 stop:252 text:715 tag_count:1,\n",
       " start:252 stop:253 text:/ tag_count:1,\n",
       " start:253 stop:257 text:2007 tag_count:1,\n",
       " start:257 stop:258 text:. tag_count:0]"
      ]
     },
     "execution_count": 12,
     "metadata": {},
     "output_type": "execute_result"
    }
   ],
   "source": [
    "test_corpus.df[\"Tokens\"][test_row_nr]"
   ]
  },
  {
   "cell_type": "code",
   "execution_count": 13,
   "metadata": {},
   "outputs": [
    {
     "data": {
      "text/plain": [
       "[span id:D1 annotator:Fabian layer:Policydesigncharacteristics type:Actor tag:Authority_monitoring start:78 stop:88 text:commission,\n",
       " span id:D2 annotator:Fabian layer:Policydesigncharacteristics type:Compliance tag:Form_monitoring start:95 stop:113 text:monitor and assess,\n",
       " span id:D3 annotator:Fabian layer:Policydesigncharacteristics type:Reference tag:Ref_OtherPolicy start:230 stop:257 text:regulation (ec) no 715/2007]"
      ]
     },
     "execution_count": 13,
     "metadata": {},
     "output_type": "execute_result"
    }
   ],
   "source": [
    "test_corpus.df[\"Fabian\"][test_row_nr]"
   ]
  },
  {
   "cell_type": "code",
   "execution_count": 14,
   "metadata": {},
   "outputs": [
    {
     "data": {
      "text/plain": [
       "[span id:C5 annotator:Onerva layer:Policydesigncharacteristics type:Actor tag:Authority_monitoring start:78 stop:88 text:commission,\n",
       " span id:C6 annotator:Onerva layer:Policydesigncharacteristics type:Compliance tag:Form_monitoring start:95 stop:102 text:monitor,\n",
       " span id:C7 annotator:Onerva layer:Policydesigncharacteristics type:Compliance tag:Form_monitoring start:107 stop:113 text:assess,\n",
       " span id:C8 annotator:Onerva layer:Policydesigncharacteristics type:Resource tag:Resource_Other start:155 stop:206 text:co2 emissions and fuel or energy consumption values,\n",
       " span id:C9 annotator:Onerva layer:Policydesigncharacteristics type:Reference tag:Ref_OtherPolicy start:230 stop:257 text:regulation (ec) no 715/2007,\n",
       " span id:C38 annotator:Onerva layer:Technologyandapplicationspecificity type:ApplicationSpecificity tag:App_Other start:41 stop:67 text:fuel or energy consumption,\n",
       " span id:C39 annotator:Onerva layer:Technologyandapplicationspecificity type:ApplicationSpecificity tag:App_Other start:173 stop:199 text:fuel or energy consumption]"
      ]
     },
     "execution_count": 14,
     "metadata": {},
     "output_type": "execute_result"
    }
   ],
   "source": [
    "test_corpus.df[\"Onerva\"][test_row_nr]"
   ]
  },
  {
   "cell_type": "code",
   "execution_count": 15,
   "metadata": {},
   "outputs": [
    {
     "data": {
      "text/plain": [
       "[policy:EU_32019R0631 title:Title_0 chapter:Chapter_0 section:Section_0 article:Article_12sentence:Sentence_0,\n",
       " policy:EU_32019R0631 title:Title_0 chapter:Chapter_0 section:Section_0 article:Article_12sentence:Sentence_0,\n",
       " policy:EU_32019R0631 title:Title_0 chapter:Chapter_0 section:Section_0 article:Article_12sentence:Sentence_0,\n",
       " policy:EU_32019R0631 title:Title_0 chapter:Chapter_0 section:Section_0 article:Article_12sentence:Sentence_0,\n",
       " policy:EU_32019R0631 title:Title_0 chapter:Chapter_0 section:Section_0 article:Article_12sentence:Sentence_0,\n",
       " policy:EU_32019R0631 title:Title_0 chapter:Chapter_0 section:Section_0 article:Article_12sentence:Sentence_0,\n",
       " policy:EU_32019R0631 title:Title_0 chapter:Chapter_0 section:Section_0 article:Article_12sentence:Sentence_0,\n",
       " policy:EU_32019R0631 title:Title_0 chapter:Chapter_0 section:Section_0 article:Article_12sentence:Sentence_0,\n",
       " policy:EU_32019R0631 title:Title_0 chapter:Chapter_0 section:Section_0 article:Article_12sentence:Sentence_0,\n",
       " policy:EU_32019R0631 title:Title_0 chapter:Chapter_0 section:Section_0 article:Article_12sentence:Sentence_0]"
      ]
     },
     "execution_count": 15,
     "metadata": {},
     "output_type": "execute_result"
    }
   ],
   "source": [
    "[l.rep for l in  test_corpus.get_span_list(test_dir, ['Fabian', 'Onerva'])]"
   ]
  },
  {
   "cell_type": "code",
   "execution_count": 16,
   "metadata": {},
   "outputs": [
    {
     "data": {
      "text/plain": [
       "[span id:D1 annotator:Fabian layer:Policydesigncharacteristics type:Actor tag:Authority_monitoring start:78 stop:88 text:commission,\n",
       " span id:D2 annotator:Fabian layer:Policydesigncharacteristics type:Compliance tag:Form_monitoring start:95 stop:113 text:monitor and assess,\n",
       " span id:D3 annotator:Fabian layer:Policydesigncharacteristics type:Reference tag:Ref_OtherPolicy start:230 stop:257 text:regulation (ec) no 715/2007,\n",
       " span id:C5 annotator:Onerva layer:Policydesigncharacteristics type:Actor tag:Authority_monitoring start:78 stop:88 text:commission,\n",
       " span id:C6 annotator:Onerva layer:Policydesigncharacteristics type:Compliance tag:Form_monitoring start:95 stop:102 text:monitor,\n",
       " span id:C7 annotator:Onerva layer:Policydesigncharacteristics type:Compliance tag:Form_monitoring start:107 stop:113 text:assess,\n",
       " span id:C8 annotator:Onerva layer:Policydesigncharacteristics type:Resource tag:Resource_Other start:155 stop:206 text:co2 emissions and fuel or energy consumption values,\n",
       " span id:C9 annotator:Onerva layer:Policydesigncharacteristics type:Reference tag:Ref_OtherPolicy start:230 stop:257 text:regulation (ec) no 715/2007,\n",
       " span id:C38 annotator:Onerva layer:Technologyandapplicationspecificity type:ApplicationSpecificity tag:App_Other start:41 stop:67 text:fuel or energy consumption,\n",
       " span id:C39 annotator:Onerva layer:Technologyandapplicationspecificity type:ApplicationSpecificity tag:App_Other start:173 stop:199 text:fuel or energy consumption]"
      ]
     },
     "execution_count": 16,
     "metadata": {},
     "output_type": "execute_result"
    }
   ],
   "source": [
    "test_corpus.get_span_list(test_dir, ['Fabian', 'Onerva'])"
   ]
  },
  {
   "cell_type": "markdown",
   "metadata": {},
   "source": [
    "## testing get_span_list ##"
   ]
  },
  {
   "cell_type": "code",
   "execution_count": 57,
   "metadata": {},
   "outputs": [
    {
     "data": {
      "text/plain": [
       "True"
      ]
     },
     "execution_count": 57,
     "metadata": {},
     "output_type": "execute_result"
    }
   ],
   "source": [
    "len(test_corpus.get_span_list(test_dir, ['Fabian', 'Onerva'])) == len(test_corpus.df['Fabian'][test_row_nr]) + len(test_corpus.df['Onerva'][test_row_nr])"
   ]
  },
  {
   "cell_type": "code",
   "execution_count": 58,
   "metadata": {},
   "outputs": [
    {
     "data": {
      "text/plain": [
       "10"
      ]
     },
     "execution_count": 58,
     "metadata": {},
     "output_type": "execute_result"
    }
   ],
   "source": [
    "#multiple colums\n",
    "len(test_corpus._get_iterator_conditional_rep(test_dir, ['Fabian', 'Onerva']))"
   ]
  },
  {
   "cell_type": "code",
   "execution_count": 59,
   "metadata": {},
   "outputs": [
    {
     "data": {
      "text/plain": [
       "10"
      ]
     },
     "execution_count": 59,
     "metadata": {},
     "output_type": "execute_result"
    }
   ],
   "source": [
    "len(test_corpus.df['Onerva'][test_row_nr]) + len(test_corpus.df['Fabian'][test_row_nr])"
   ]
  },
  {
   "cell_type": "code",
   "execution_count": 60,
   "metadata": {},
   "outputs": [
    {
     "data": {
      "text/plain": [
       "3"
      ]
     },
     "execution_count": 60,
     "metadata": {},
     "output_type": "execute_result"
    }
   ],
   "source": [
    "len(test_corpus.get_span_list(test_dir, ['Fabian']))"
   ]
  },
  {
   "cell_type": "code",
   "execution_count": 62,
   "metadata": {},
   "outputs": [
    {
     "data": {
      "text/plain": [
       "3"
      ]
     },
     "execution_count": 62,
     "metadata": {},
     "output_type": "execute_result"
    }
   ],
   "source": [
    "len(test_corpus.df['Fabian'][test_row_nr])"
   ]
  },
  {
   "cell_type": "markdown",
   "metadata": {},
   "source": [
    "## get_span_distro"
   ]
  },
  {
   "cell_type": "code",
   "execution_count": 63,
   "metadata": {},
   "outputs": [
    {
     "name": "stdout",
     "output_type": "stream",
     "text": [
      "2\n"
     ]
    }
   ],
   "source": [
    "\n",
    "span_list = test_corpus.get_span_list(test_dir, ['Fabian', 'Onerva'])\n",
    "\n",
    "print(len([span_.text for span_ in span_list if  len(span_.text) == 10]))"
   ]
  },
  {
   "cell_type": "code",
   "execution_count": 64,
   "metadata": {},
   "outputs": [
    {
     "name": "stdout",
     "output_type": "stream",
     "text": [
      "2\n"
     ]
    }
   ],
   "source": [
    "print(len([span_.text for span_ in span_list if  len(span_.text) == 27]))"
   ]
  },
  {
   "cell_type": "code",
   "execution_count": 65,
   "metadata": {},
   "outputs": [
    {
     "name": "stdout",
     "output_type": "stream",
     "text": [
      "1\n"
     ]
    }
   ],
   "source": [
    "print(len([span_.text for span_ in span_list if  len(span_.text) == 18]))"
   ]
  },
  {
   "cell_type": "code",
   "execution_count": 66,
   "metadata": {},
   "outputs": [
    {
     "data": {
      "text/plain": [
       "{10: 2, 27: 2, 26: 2, 7: 1, 6: 1, 51: 1, 18: 1}"
      ]
     },
     "execution_count": 66,
     "metadata": {},
     "output_type": "execute_result"
    }
   ],
   "source": [
    "test_corpus.get_span_distro(test_dir, ['Onerva', 'Fabian'], level= 'character')"
   ]
  },
  {
   "cell_type": "markdown",
   "metadata": {},
   "source": [
    "## get_token_list_from_repository"
   ]
  },
  {
   "cell_type": "code",
   "execution_count": 67,
   "metadata": {},
   "outputs": [
    {
     "data": {
      "text/plain": [
       "True"
      ]
     },
     "execution_count": 67,
     "metadata": {},
     "output_type": "execute_result"
    }
   ],
   "source": [
    "test_corpus.get_token_list_from_repository(test_dir) == test_corpus.df['Tokens'][test_row_nr] \n"
   ]
  },
  {
   "cell_type": "markdown",
   "metadata": {},
   "source": [
    "## get_token_count_from_repository"
   ]
  },
  {
   "cell_type": "code",
   "execution_count": 68,
   "metadata": {},
   "outputs": [
    {
     "data": {
      "text/plain": [
       "True"
      ]
     },
     "execution_count": 68,
     "metadata": {},
     "output_type": "execute_result"
    }
   ],
   "source": [
    "test_corpus.get_token_count_from_repository(test_dir) == len(test_corpus.df['Tokens'][test_row_nr])\n"
   ]
  },
  {
   "cell_type": "markdown",
   "metadata": {},
   "source": [
    "## get_tokens_from_span_list"
   ]
  },
  {
   "cell_type": "code",
   "execution_count": 69,
   "metadata": {},
   "outputs": [
    {
     "data": {
      "text/plain": [
       "True"
      ]
     },
     "execution_count": 69,
     "metadata": {},
     "output_type": "execute_result"
    }
   ],
   "source": [
    "all_tokens = list(chain.from_iterable([x.tokens for x in test_corpus.get_span_list(test_dir, ['Fabian'])]))\n",
    "test_corpus.get_tokens_from_span_list(test_dir, ['Fabian']) == all_tokens"
   ]
  },
  {
   "cell_type": "markdown",
   "metadata": {},
   "source": [
    "## get_token_count_from_span_list"
   ]
  },
  {
   "cell_type": "code",
   "execution_count": 70,
   "metadata": {},
   "outputs": [
    {
     "data": {
      "text/plain": [
       "True"
      ]
     },
     "execution_count": 70,
     "metadata": {},
     "output_type": "execute_result"
    }
   ],
   "source": [
    " test_corpus.get_token_count_from_span_list(test_dir, ['Fabian', 'Onerva']) == len(test_corpus.get_tokens_from_span_list(test_dir, ['Fabian', 'Onerva']))"
   ]
  },
  {
   "cell_type": "markdown",
   "metadata": {},
   "source": [
    "## most_frequent_labeled_tokens"
   ]
  },
  {
   "cell_type": "code",
   "execution_count": 71,
   "metadata": {},
   "outputs": [
    {
     "data": {
      "text/plain": [
       "2"
      ]
     },
     "execution_count": 71,
     "metadata": {},
     "output_type": "execute_result"
    }
   ],
   "source": [
    "len([x for x in test_corpus.get_tokens_from_span_list(test_dir, ['Fabian', 'Onerva']) if x.text == 'commission' ])"
   ]
  },
  {
   "cell_type": "code",
   "execution_count": 72,
   "metadata": {},
   "outputs": [
    {
     "data": {
      "text/plain": [
       "3"
      ]
     },
     "execution_count": 72,
     "metadata": {},
     "output_type": "execute_result"
    }
   ],
   "source": [
    "len([x for x in test_corpus.get_tokens_from_span_list(test_dir, ['Fabian', 'Onerva']) if x.text == 'consumption'])"
   ]
  },
  {
   "cell_type": "code",
   "execution_count": 73,
   "metadata": {},
   "outputs": [
    {
     "data": {
      "text/plain": [
       "2"
      ]
     },
     "execution_count": 73,
     "metadata": {},
     "output_type": "execute_result"
    }
   ],
   "source": [
    "len([x for x in test_corpus.get_tokens_from_span_list(test_dir, ['Fabian', 'Onerva']) if x.text == 'regulation'])"
   ]
  },
  {
   "cell_type": "code",
   "execution_count": 74,
   "metadata": {},
   "outputs": [
    {
     "data": {
      "text/plain": [
       "{'fuel': 3,\n",
       " 'or': 3,\n",
       " 'energy': 3,\n",
       " 'consumption': 3,\n",
       " 'commission': 2,\n",
       " 'monitor': 2,\n",
       " 'and': 2,\n",
       " 'assess': 2,\n",
       " 'regulation': 2,\n",
       " '(': 2,\n",
       " 'ec': 2,\n",
       " ')': 2,\n",
       " 'no': 2,\n",
       " '\\xa0': 2,\n",
       " '715': 2,\n",
       " '/': 2,\n",
       " '2007': 2,\n",
       " 'co2': 1,\n",
       " 'emissions': 1,\n",
       " 'values': 1}"
      ]
     },
     "execution_count": 74,
     "metadata": {},
     "output_type": "execute_result"
    }
   ],
   "source": [
    "test_corpus.most_frequent_labeled_tokens(test_dir, ['Fabian', 'Onerva'])"
   ]
  },
  {
   "cell_type": "markdown",
   "metadata": {},
   "source": [
    "## get_label_count_per_token_distro"
   ]
  },
  {
   "cell_type": "code",
   "execution_count": 75,
   "metadata": {},
   "outputs": [
    {
     "name": "stdout",
     "output_type": "stream",
     "text": [
      "0 : 20\n",
      "1 : 5\n",
      "2 : 2\n",
      "3 : 16\n",
      "4 : 2\n",
      "5 : 0\n",
      "6 : 0\n",
      "7 : 0\n",
      "8 : 0\n",
      "9 : 0\n"
     ]
    }
   ],
   "source": [
    "label_counts = [x.tag_count for x in test_corpus.get_token_list_from_repository(test_dir)]\n",
    "for i in range(0,10):\n",
    "    print(i, ':', label_counts.count(i))\n"
   ]
  },
  {
   "cell_type": "code",
   "execution_count": 76,
   "metadata": {},
   "outputs": [
    {
     "data": {
      "text/plain": [
       "{0: 20, 1: 5, 2: 2, 3: 16, 4: 2}"
      ]
     },
     "execution_count": 76,
     "metadata": {},
     "output_type": "execute_result"
    }
   ],
   "source": [
    "test_corpus.get_label_count_per_token_distro(test_dir)"
   ]
  },
  {
   "cell_type": "code",
   "execution_count": 78,
   "metadata": {},
   "outputs": [
    {
     "data": {
      "text/plain": [
       "[start:41 stop:45 text:fuel tag_count:3,\n",
       " start:49 stop:55 text:energy tag_count:3,\n",
       " start:78 stop:88 text:commission tag_count:3,\n",
       " start:95 stop:102 text:monitor tag_count:3,\n",
       " start:107 stop:113 text:assess tag_count:3,\n",
       " start:178 stop:180 text:or tag_count:3,\n",
       " start:188 stop:199 text:consumption tag_count:3,\n",
       " start:230 stop:240 text:regulation tag_count:3,\n",
       " start:241 stop:242 text:( tag_count:3,\n",
       " start:242 stop:244 text:ec tag_count:3,\n",
       " start:244 stop:245 text:) tag_count:3,\n",
       " start:246 stop:248 text:no tag_count:3,\n",
       " start:248 stop:249 text:  tag_count:3,\n",
       " start:249 stop:252 text:715 tag_count:3,\n",
       " start:252 stop:253 text:/ tag_count:3,\n",
       " start:253 stop:257 text:2007 tag_count:3]"
      ]
     },
     "execution_count": 78,
     "metadata": {},
     "output_type": "execute_result"
    }
   ],
   "source": [
    "test_corpus.get_tokens_with_label_count(test_dir, 3)"
   ]
  },
  {
   "cell_type": "markdown",
   "metadata": {},
   "source": [
    "# Inter Annotator Agreement"
   ]
  },
  {
   "cell_type": "markdown",
   "metadata": {},
   "source": [
    "## First test Inter_annotator_agreement based on df"
   ]
  },
  {
   "cell_type": "code",
   "execution_count": null,
   "metadata": {},
   "outputs": [],
   "source": [
    "test_evaluator = Sent_Inter_Annotator_Agreement(stat_df)\n",
    "\n",
    "\n",
    "scoring_metrics = ['f1_exact', 'f1_tokenwise', 'f1_partial', 'f1_heuristic', 'pygamma']\n",
    "test_evaluator.keep_only_finished_articles()\n",
    "test_evaluator.df.head()\n"
   ]
  },
  {
   "cell_type": "code",
   "execution_count": 11,
   "metadata": {},
   "outputs": [
    {
     "data": {
      "text/plain": [
       "'EU_32019R0631_Title_0_Chapter_0_Section_0_Article_12_Sentence_0'"
      ]
     },
     "execution_count": 11,
     "metadata": {},
     "output_type": "execute_result"
    }
   ],
   "source": [
    "rep_str = test_evaluator.df.iloc[11][\"Sentence\"]\n",
    "rep_str"
   ]
  },
  {
   "cell_type": "code",
   "execution_count": 4,
   "metadata": {},
   "outputs": [],
   "source": [
    "#test_evaluator.append_total_score_per_article(scoring_metrics)"
   ]
  },
  {
   "cell_type": "code",
   "execution_count": 5,
   "metadata": {},
   "outputs": [
    {
     "data": {
      "text/plain": [
       "policy:EU_32019R0631 title:Title_0 chapter:Chapter_0 section:Section_0 article:Article_12 sentence:Sentence_0"
      ]
     },
     "execution_count": 5,
     "metadata": {},
     "output_type": "execute_result"
    }
   ],
   "source": [
    "repo = repository.from_repository_name('EU_32019R0631_Title_0_Chapter_0_Section_0_Article_12_Sentence_0')\n",
    "repo"
   ]
  },
  {
   "cell_type": "code",
   "execution_count": 12,
   "metadata": {},
   "outputs": [
    {
     "ename": "KeyError",
     "evalue": "'EU_32019R0631_Title_0_Chapter_0_Section_0_Article_12_Sentence_0'",
     "output_type": "error",
     "traceback": [
      "\u001b[0;31m---------------------------------------------------------------------------\u001b[0m",
      "\u001b[0;31mKeyError\u001b[0m                                  Traceback (most recent call last)",
      "\u001b[0;32m~/miniconda3/envs/nlp_spark/lib/python3.7/site-packages/pandas/core/indexes/base.py\u001b[0m in \u001b[0;36mget_loc\u001b[0;34m(self, key, method, tolerance)\u001b[0m\n\u001b[1;32m   3079\u001b[0m             \u001b[0;32mtry\u001b[0m\u001b[0;34m:\u001b[0m\u001b[0;34m\u001b[0m\u001b[0;34m\u001b[0m\u001b[0m\n\u001b[0;32m-> 3080\u001b[0;31m                 \u001b[0;32mreturn\u001b[0m \u001b[0mself\u001b[0m\u001b[0;34m.\u001b[0m\u001b[0m_engine\u001b[0m\u001b[0;34m.\u001b[0m\u001b[0mget_loc\u001b[0m\u001b[0;34m(\u001b[0m\u001b[0mcasted_key\u001b[0m\u001b[0;34m)\u001b[0m\u001b[0;34m\u001b[0m\u001b[0;34m\u001b[0m\u001b[0m\n\u001b[0m\u001b[1;32m   3081\u001b[0m             \u001b[0;32mexcept\u001b[0m \u001b[0mKeyError\u001b[0m \u001b[0;32mas\u001b[0m \u001b[0merr\u001b[0m\u001b[0;34m:\u001b[0m\u001b[0;34m\u001b[0m\u001b[0;34m\u001b[0m\u001b[0m\n",
      "\u001b[0;32mpandas/_libs/index.pyx\u001b[0m in \u001b[0;36mpandas._libs.index.IndexEngine.get_loc\u001b[0;34m()\u001b[0m\n",
      "\u001b[0;32mpandas/_libs/index.pyx\u001b[0m in \u001b[0;36mpandas._libs.index.IndexEngine.get_loc\u001b[0;34m()\u001b[0m\n",
      "\u001b[0;32mpandas/_libs/index_class_helper.pxi\u001b[0m in \u001b[0;36mpandas._libs.index.Int64Engine._check_type\u001b[0;34m()\u001b[0m\n",
      "\u001b[0;31mKeyError\u001b[0m: 'EU_32019R0631_Title_0_Chapter_0_Section_0_Article_12_Sentence_0'",
      "\nThe above exception was the direct cause of the following exception:\n",
      "\u001b[0;31mKeyError\u001b[0m                                  Traceback (most recent call last)",
      "\u001b[0;32m<ipython-input-12-b9dfeb918c18>\u001b[0m in \u001b[0;36m<module>\u001b[0;34m\u001b[0m\n\u001b[0;32m----> 1\u001b[0;31m \u001b[0mrow_to_span_list\u001b[0m\u001b[0;34m(\u001b[0m\u001b[0mtest_evaluator\u001b[0m\u001b[0;34m.\u001b[0m\u001b[0mdf\u001b[0m\u001b[0;34m.\u001b[0m\u001b[0mloc\u001b[0m\u001b[0;34m[\u001b[0m\u001b[0;34m'EU_32019R0631_Title_0_Chapter_0_Section_0_Article_12_Sentence_0'\u001b[0m\u001b[0;34m]\u001b[0m\u001b[0;34m)\u001b[0m\u001b[0;34m\u001b[0m\u001b[0;34m\u001b[0m\u001b[0m\n\u001b[0m",
      "\u001b[0;32m~/miniconda3/envs/nlp_spark/lib/python3.7/site-packages/pandas/core/indexing.py\u001b[0m in \u001b[0;36m__getitem__\u001b[0;34m(self, key)\u001b[0m\n\u001b[1;32m    893\u001b[0m \u001b[0;34m\u001b[0m\u001b[0m\n\u001b[1;32m    894\u001b[0m             \u001b[0mmaybe_callable\u001b[0m \u001b[0;34m=\u001b[0m \u001b[0mcom\u001b[0m\u001b[0;34m.\u001b[0m\u001b[0mapply_if_callable\u001b[0m\u001b[0;34m(\u001b[0m\u001b[0mkey\u001b[0m\u001b[0;34m,\u001b[0m \u001b[0mself\u001b[0m\u001b[0;34m.\u001b[0m\u001b[0mobj\u001b[0m\u001b[0;34m)\u001b[0m\u001b[0;34m\u001b[0m\u001b[0;34m\u001b[0m\u001b[0m\n\u001b[0;32m--> 895\u001b[0;31m             \u001b[0;32mreturn\u001b[0m \u001b[0mself\u001b[0m\u001b[0;34m.\u001b[0m\u001b[0m_getitem_axis\u001b[0m\u001b[0;34m(\u001b[0m\u001b[0mmaybe_callable\u001b[0m\u001b[0;34m,\u001b[0m \u001b[0maxis\u001b[0m\u001b[0;34m=\u001b[0m\u001b[0maxis\u001b[0m\u001b[0;34m)\u001b[0m\u001b[0;34m\u001b[0m\u001b[0;34m\u001b[0m\u001b[0m\n\u001b[0m\u001b[1;32m    896\u001b[0m \u001b[0;34m\u001b[0m\u001b[0m\n\u001b[1;32m    897\u001b[0m     \u001b[0;32mdef\u001b[0m \u001b[0m_is_scalar_access\u001b[0m\u001b[0;34m(\u001b[0m\u001b[0mself\u001b[0m\u001b[0;34m,\u001b[0m \u001b[0mkey\u001b[0m\u001b[0;34m:\u001b[0m \u001b[0mTuple\u001b[0m\u001b[0;34m)\u001b[0m\u001b[0;34m:\u001b[0m\u001b[0;34m\u001b[0m\u001b[0;34m\u001b[0m\u001b[0m\n",
      "\u001b[0;32m~/miniconda3/envs/nlp_spark/lib/python3.7/site-packages/pandas/core/indexing.py\u001b[0m in \u001b[0;36m_getitem_axis\u001b[0;34m(self, key, axis)\u001b[0m\n\u001b[1;32m   1122\u001b[0m         \u001b[0;31m# fall thru to straight lookup\u001b[0m\u001b[0;34m\u001b[0m\u001b[0;34m\u001b[0m\u001b[0;34m\u001b[0m\u001b[0m\n\u001b[1;32m   1123\u001b[0m         \u001b[0mself\u001b[0m\u001b[0;34m.\u001b[0m\u001b[0m_validate_key\u001b[0m\u001b[0;34m(\u001b[0m\u001b[0mkey\u001b[0m\u001b[0;34m,\u001b[0m \u001b[0maxis\u001b[0m\u001b[0;34m)\u001b[0m\u001b[0;34m\u001b[0m\u001b[0;34m\u001b[0m\u001b[0m\n\u001b[0;32m-> 1124\u001b[0;31m         \u001b[0;32mreturn\u001b[0m \u001b[0mself\u001b[0m\u001b[0;34m.\u001b[0m\u001b[0m_get_label\u001b[0m\u001b[0;34m(\u001b[0m\u001b[0mkey\u001b[0m\u001b[0;34m,\u001b[0m \u001b[0maxis\u001b[0m\u001b[0;34m=\u001b[0m\u001b[0maxis\u001b[0m\u001b[0;34m)\u001b[0m\u001b[0;34m\u001b[0m\u001b[0;34m\u001b[0m\u001b[0m\n\u001b[0m\u001b[1;32m   1125\u001b[0m \u001b[0;34m\u001b[0m\u001b[0m\n\u001b[1;32m   1126\u001b[0m     \u001b[0;32mdef\u001b[0m \u001b[0m_get_slice_axis\u001b[0m\u001b[0;34m(\u001b[0m\u001b[0mself\u001b[0m\u001b[0;34m,\u001b[0m \u001b[0mslice_obj\u001b[0m\u001b[0;34m:\u001b[0m \u001b[0mslice\u001b[0m\u001b[0;34m,\u001b[0m \u001b[0maxis\u001b[0m\u001b[0;34m:\u001b[0m \u001b[0mint\u001b[0m\u001b[0;34m)\u001b[0m\u001b[0;34m:\u001b[0m\u001b[0;34m\u001b[0m\u001b[0;34m\u001b[0m\u001b[0m\n",
      "\u001b[0;32m~/miniconda3/envs/nlp_spark/lib/python3.7/site-packages/pandas/core/indexing.py\u001b[0m in \u001b[0;36m_get_label\u001b[0;34m(self, label, axis)\u001b[0m\n\u001b[1;32m   1071\u001b[0m     \u001b[0;32mdef\u001b[0m \u001b[0m_get_label\u001b[0m\u001b[0;34m(\u001b[0m\u001b[0mself\u001b[0m\u001b[0;34m,\u001b[0m \u001b[0mlabel\u001b[0m\u001b[0;34m,\u001b[0m \u001b[0maxis\u001b[0m\u001b[0;34m:\u001b[0m \u001b[0mint\u001b[0m\u001b[0;34m)\u001b[0m\u001b[0;34m:\u001b[0m\u001b[0;34m\u001b[0m\u001b[0;34m\u001b[0m\u001b[0m\n\u001b[1;32m   1072\u001b[0m         \u001b[0;31m# GH#5667 this will fail if the label is not present in the axis.\u001b[0m\u001b[0;34m\u001b[0m\u001b[0;34m\u001b[0m\u001b[0;34m\u001b[0m\u001b[0m\n\u001b[0;32m-> 1073\u001b[0;31m         \u001b[0;32mreturn\u001b[0m \u001b[0mself\u001b[0m\u001b[0;34m.\u001b[0m\u001b[0mobj\u001b[0m\u001b[0;34m.\u001b[0m\u001b[0mxs\u001b[0m\u001b[0;34m(\u001b[0m\u001b[0mlabel\u001b[0m\u001b[0;34m,\u001b[0m \u001b[0maxis\u001b[0m\u001b[0;34m=\u001b[0m\u001b[0maxis\u001b[0m\u001b[0;34m)\u001b[0m\u001b[0;34m\u001b[0m\u001b[0;34m\u001b[0m\u001b[0m\n\u001b[0m\u001b[1;32m   1074\u001b[0m \u001b[0;34m\u001b[0m\u001b[0m\n\u001b[1;32m   1075\u001b[0m     \u001b[0;32mdef\u001b[0m \u001b[0m_handle_lowerdim_multi_index_axis0\u001b[0m\u001b[0;34m(\u001b[0m\u001b[0mself\u001b[0m\u001b[0;34m,\u001b[0m \u001b[0mtup\u001b[0m\u001b[0;34m:\u001b[0m \u001b[0mTuple\u001b[0m\u001b[0;34m)\u001b[0m\u001b[0;34m:\u001b[0m\u001b[0;34m\u001b[0m\u001b[0;34m\u001b[0m\u001b[0m\n",
      "\u001b[0;32m~/miniconda3/envs/nlp_spark/lib/python3.7/site-packages/pandas/core/generic.py\u001b[0m in \u001b[0;36mxs\u001b[0;34m(self, key, axis, level, drop_level)\u001b[0m\n\u001b[1;32m   3737\u001b[0m                 \u001b[0;32mraise\u001b[0m \u001b[0mTypeError\u001b[0m\u001b[0;34m(\u001b[0m\u001b[0;34mf\"Expected label or tuple of labels, got {key}\"\u001b[0m\u001b[0;34m)\u001b[0m \u001b[0;32mfrom\u001b[0m \u001b[0me\u001b[0m\u001b[0;34m\u001b[0m\u001b[0;34m\u001b[0m\u001b[0m\n\u001b[1;32m   3738\u001b[0m         \u001b[0;32melse\u001b[0m\u001b[0;34m:\u001b[0m\u001b[0;34m\u001b[0m\u001b[0;34m\u001b[0m\u001b[0m\n\u001b[0;32m-> 3739\u001b[0;31m             \u001b[0mloc\u001b[0m \u001b[0;34m=\u001b[0m \u001b[0mindex\u001b[0m\u001b[0;34m.\u001b[0m\u001b[0mget_loc\u001b[0m\u001b[0;34m(\u001b[0m\u001b[0mkey\u001b[0m\u001b[0;34m)\u001b[0m\u001b[0;34m\u001b[0m\u001b[0;34m\u001b[0m\u001b[0m\n\u001b[0m\u001b[1;32m   3740\u001b[0m \u001b[0;34m\u001b[0m\u001b[0m\n\u001b[1;32m   3741\u001b[0m             \u001b[0;32mif\u001b[0m \u001b[0misinstance\u001b[0m\u001b[0;34m(\u001b[0m\u001b[0mloc\u001b[0m\u001b[0;34m,\u001b[0m \u001b[0mnp\u001b[0m\u001b[0;34m.\u001b[0m\u001b[0mndarray\u001b[0m\u001b[0;34m)\u001b[0m\u001b[0;34m:\u001b[0m\u001b[0;34m\u001b[0m\u001b[0;34m\u001b[0m\u001b[0m\n",
      "\u001b[0;32m~/miniconda3/envs/nlp_spark/lib/python3.7/site-packages/pandas/core/indexes/base.py\u001b[0m in \u001b[0;36mget_loc\u001b[0;34m(self, key, method, tolerance)\u001b[0m\n\u001b[1;32m   3080\u001b[0m                 \u001b[0;32mreturn\u001b[0m \u001b[0mself\u001b[0m\u001b[0;34m.\u001b[0m\u001b[0m_engine\u001b[0m\u001b[0;34m.\u001b[0m\u001b[0mget_loc\u001b[0m\u001b[0;34m(\u001b[0m\u001b[0mcasted_key\u001b[0m\u001b[0;34m)\u001b[0m\u001b[0;34m\u001b[0m\u001b[0;34m\u001b[0m\u001b[0m\n\u001b[1;32m   3081\u001b[0m             \u001b[0;32mexcept\u001b[0m \u001b[0mKeyError\u001b[0m \u001b[0;32mas\u001b[0m \u001b[0merr\u001b[0m\u001b[0;34m:\u001b[0m\u001b[0;34m\u001b[0m\u001b[0;34m\u001b[0m\u001b[0m\n\u001b[0;32m-> 3082\u001b[0;31m                 \u001b[0;32mraise\u001b[0m \u001b[0mKeyError\u001b[0m\u001b[0;34m(\u001b[0m\u001b[0mkey\u001b[0m\u001b[0;34m)\u001b[0m \u001b[0;32mfrom\u001b[0m \u001b[0merr\u001b[0m\u001b[0;34m\u001b[0m\u001b[0;34m\u001b[0m\u001b[0m\n\u001b[0m\u001b[1;32m   3083\u001b[0m \u001b[0;34m\u001b[0m\u001b[0m\n\u001b[1;32m   3084\u001b[0m         \u001b[0;32mif\u001b[0m \u001b[0mtolerance\u001b[0m \u001b[0;32mis\u001b[0m \u001b[0;32mnot\u001b[0m \u001b[0;32mNone\u001b[0m\u001b[0;34m:\u001b[0m\u001b[0;34m\u001b[0m\u001b[0;34m\u001b[0m\u001b[0m\n",
      "\u001b[0;31mKeyError\u001b[0m: 'EU_32019R0631_Title_0_Chapter_0_Section_0_Article_12_Sentence_0'"
     ]
    }
   ],
   "source": [
    "row_to_span_list(test_evaluator.df.loc['EU_32019R0631_Title_0_Chapter_0_Section_0_Article_12_Sentence_0'])"
   ]
  },
  {
   "cell_type": "code",
   "execution_count": 11,
   "metadata": {},
   "outputs": [
    {
     "data": {
      "text/plain": [
       "Alisha    [annotator:Alisha layer:Technologyandapplicati...\n",
       "Fabian    [annotator:Fabian layer:Technologyandapplicati...\n",
       "Name: EU_32009L0028_Title_0_Chapter_0_Section_0_Article_12, dtype: object"
      ]
     },
     "execution_count": 11,
     "metadata": {},
     "output_type": "execute_result"
    }
   ],
   "source": [
    "ser = test_evaluator.df.loc['EU_32009L0028_Title_0_Chapter_0_Section_0_Article_12']\n",
    "ser[ser['Finished_Annotators']]"
   ]
  },
  {
   "cell_type": "code",
   "execution_count": 11,
   "metadata": {},
   "outputs": [
    {
     "name": "stderr",
     "output_type": "stream",
     "text": [
      "100%|██████████| 404/404 [00:04<00:00, 83.78it/s] \n",
      "/home/jkuettel/NLP_spark/src/d03_inter_annotator_agreement/inter_annotator_agremment.py:153: SettingWithCopyWarning: \n",
      "A value is trying to be set on a copy of a slice from a DataFrame.\n",
      "Try using .loc[row_indexer,col_indexer] = value instead\n",
      "\n",
      "See the caveats in the documentation: https://pandas.pydata.org/pandas-docs/stable/user_guide/indexing.html#returning-a-view-versus-a-copy\n",
      "  self.df[column_name] = self.df.progress_apply(lambda row: _get_score_article(row_to_span_list(row), scoring_metric, row['Finished_Annotators'], row,  **optional_tuple_properties), axis=1)\n",
      "100%|██████████| 404/404 [00:04<00:00, 80.86it/s] \n",
      "100%|██████████| 404/404 [00:04<00:00, 85.15it/s] \n",
      "100%|██████████| 404/404 [00:00<00:00, 963.84it/s] \n"
     ]
    }
   ],
   "source": [
    "test_evaluator.append_total_score_per_article_no_parallel(scoring_metrics)"
   ]
  },
  {
   "cell_type": "code",
   "execution_count": 5,
   "metadata": {},
   "outputs": [
    {
     "data": {
      "text/html": [
       "<div>\n",
       "<style scoped>\n",
       "    .dataframe tbody tr th:only-of-type {\n",
       "        vertical-align: middle;\n",
       "    }\n",
       "\n",
       "    .dataframe tbody tr th {\n",
       "        vertical-align: top;\n",
       "    }\n",
       "\n",
       "    .dataframe thead th {\n",
       "        text-align: right;\n",
       "    }\n",
       "</style>\n",
       "<table border=\"1\" class=\"dataframe\">\n",
       "  <thead>\n",
       "    <tr style=\"text-align: right;\">\n",
       "      <th></th>\n",
       "      <th>Policy</th>\n",
       "      <th>Text</th>\n",
       "      <th>Tokens</th>\n",
       "      <th>Article_State</th>\n",
       "      <th>Finished_Annotators</th>\n",
       "      <th>Curation</th>\n",
       "      <th>Onerva</th>\n",
       "      <th>Fride</th>\n",
       "      <th>Lynn</th>\n",
       "      <th>Sebastian</th>\n",
       "      <th>Alisha</th>\n",
       "      <th>Fabian</th>\n",
       "      <th>f1_heuristic_score</th>\n",
       "    </tr>\n",
       "  </thead>\n",
       "  <tbody>\n",
       "    <tr>\n",
       "      <th>EU_32006L0032_Title_0_Chapter_1_Section_0_Article_03</th>\n",
       "      <td></td>\n",
       "      <td>article 3\\r\\ndefinitions\\r\\nfor the purposes o...</td>\n",
       "      <td>[start:0 stop:7 text:article tag_count:0, star...</td>\n",
       "      <td>CURATION_FINISHED</td>\n",
       "      <td>[Fride, Onerva]</td>\n",
       "      <td>[annotator:curation layer:Instrumenttypes type...</td>\n",
       "      <td>[annotator:Onerva layer:Instrumenttypes type:I...</td>\n",
       "      <td>[annotator:Fride layer:Instrumenttypes type:In...</td>\n",
       "      <td></td>\n",
       "      <td></td>\n",
       "      <td></td>\n",
       "      <td></td>\n",
       "      <td>0.566417</td>\n",
       "    </tr>\n",
       "    <tr>\n",
       "      <th>EU_32006L0066_Title_0_Chapter_0_Section_0_Article_25</th>\n",
       "      <td></td>\n",
       "      <td>article 25\\r\\npenalties\\r\\nmember states shall...</td>\n",
       "      <td>[start:0 stop:7 text:article tag_count:0, star...</td>\n",
       "      <td>CURATION_FINISHED</td>\n",
       "      <td>[Fride, Onerva]</td>\n",
       "      <td>[annotator:curation layer:Instrumenttypes type...</td>\n",
       "      <td>[annotator:Onerva layer:Instrumenttypes type:I...</td>\n",
       "      <td>[annotator:Fride layer:Instrumenttypes type:In...</td>\n",
       "      <td>[]</td>\n",
       "      <td></td>\n",
       "      <td></td>\n",
       "      <td></td>\n",
       "      <td>0.740741</td>\n",
       "    </tr>\n",
       "    <tr>\n",
       "      <th>EU_32009L0028_Title_0_Chapter_0_Section_0_Article_07</th>\n",
       "      <td></td>\n",
       "      <td>article 7\\r\\njoint projects between member sta...</td>\n",
       "      <td>[start:0 stop:7 text:article tag_count:0, star...</td>\n",
       "      <td>CURATION_FINISHED</td>\n",
       "      <td>[Alisha, Fabian]</td>\n",
       "      <td>[annotator:curation layer:Policydesigncharacte...</td>\n",
       "      <td>[]</td>\n",
       "      <td></td>\n",
       "      <td></td>\n",
       "      <td>[]</td>\n",
       "      <td>[annotator:Alisha layer:Policydesigncharacteri...</td>\n",
       "      <td>[annotator:Fabian layer:Policydesigncharacteri...</td>\n",
       "      <td>0.425532</td>\n",
       "    </tr>\n",
       "    <tr>\n",
       "      <th>EU_32019L0944_Title_0_Chapter_6_Section_3_Article_47</th>\n",
       "      <td></td>\n",
       "      <td>article 47\\r\\nindependence of the transmission...</td>\n",
       "      <td>[start:0 stop:7 text:article tag_count:0, star...</td>\n",
       "      <td>CURATION_FINISHED</td>\n",
       "      <td>[Alisha, Onerva]</td>\n",
       "      <td>[annotator:curation layer:Instrumenttypes type...</td>\n",
       "      <td>[annotator:Onerva layer:Instrumenttypes type:I...</td>\n",
       "      <td></td>\n",
       "      <td></td>\n",
       "      <td></td>\n",
       "      <td>[annotator:Alisha layer:Instrumenttypes type:I...</td>\n",
       "      <td></td>\n",
       "      <td>0.226087</td>\n",
       "    </tr>\n",
       "    <tr>\n",
       "      <th>EU_32019R0631_Title_0_Chapter_0_Section_0_Article_14</th>\n",
       "      <td></td>\n",
       "      <td>article 14\\r\\nadjustment of m0 and tm0 values\\...</td>\n",
       "      <td>[start:0 stop:7 text:article tag_count:0, star...</td>\n",
       "      <td>CURATION_FINISHED</td>\n",
       "      <td>[Onerva, Fabian]</td>\n",
       "      <td>[annotator:curation layer:Instrumenttypes type...</td>\n",
       "      <td>[annotator:Onerva layer:Instrumenttypes type:I...</td>\n",
       "      <td></td>\n",
       "      <td></td>\n",
       "      <td></td>\n",
       "      <td></td>\n",
       "      <td>[annotator:Fabian layer:Policydesigncharacteri...</td>\n",
       "      <td>0.451613</td>\n",
       "    </tr>\n",
       "  </tbody>\n",
       "</table>\n",
       "</div>"
      ],
      "text/plain": [
       "                                                   Policy  \\\n",
       "EU_32006L0032_Title_0_Chapter_1_Section_0_Artic...          \n",
       "EU_32006L0066_Title_0_Chapter_0_Section_0_Artic...          \n",
       "EU_32009L0028_Title_0_Chapter_0_Section_0_Artic...          \n",
       "EU_32019L0944_Title_0_Chapter_6_Section_3_Artic...          \n",
       "EU_32019R0631_Title_0_Chapter_0_Section_0_Artic...          \n",
       "\n",
       "                                                                                                 Text  \\\n",
       "EU_32006L0032_Title_0_Chapter_1_Section_0_Artic...  article 3\\r\\ndefinitions\\r\\nfor the purposes o...   \n",
       "EU_32006L0066_Title_0_Chapter_0_Section_0_Artic...  article 25\\r\\npenalties\\r\\nmember states shall...   \n",
       "EU_32009L0028_Title_0_Chapter_0_Section_0_Artic...  article 7\\r\\njoint projects between member sta...   \n",
       "EU_32019L0944_Title_0_Chapter_6_Section_3_Artic...  article 47\\r\\nindependence of the transmission...   \n",
       "EU_32019R0631_Title_0_Chapter_0_Section_0_Artic...  article 14\\r\\nadjustment of m0 and tm0 values\\...   \n",
       "\n",
       "                                                                                               Tokens  \\\n",
       "EU_32006L0032_Title_0_Chapter_1_Section_0_Artic...  [start:0 stop:7 text:article tag_count:0, star...   \n",
       "EU_32006L0066_Title_0_Chapter_0_Section_0_Artic...  [start:0 stop:7 text:article tag_count:0, star...   \n",
       "EU_32009L0028_Title_0_Chapter_0_Section_0_Artic...  [start:0 stop:7 text:article tag_count:0, star...   \n",
       "EU_32019L0944_Title_0_Chapter_6_Section_3_Artic...  [start:0 stop:7 text:article tag_count:0, star...   \n",
       "EU_32019R0631_Title_0_Chapter_0_Section_0_Artic...  [start:0 stop:7 text:article tag_count:0, star...   \n",
       "\n",
       "                                                        Article_State  \\\n",
       "EU_32006L0032_Title_0_Chapter_1_Section_0_Artic...  CURATION_FINISHED   \n",
       "EU_32006L0066_Title_0_Chapter_0_Section_0_Artic...  CURATION_FINISHED   \n",
       "EU_32009L0028_Title_0_Chapter_0_Section_0_Artic...  CURATION_FINISHED   \n",
       "EU_32019L0944_Title_0_Chapter_6_Section_3_Artic...  CURATION_FINISHED   \n",
       "EU_32019R0631_Title_0_Chapter_0_Section_0_Artic...  CURATION_FINISHED   \n",
       "\n",
       "                                                   Finished_Annotators  \\\n",
       "EU_32006L0032_Title_0_Chapter_1_Section_0_Artic...     [Fride, Onerva]   \n",
       "EU_32006L0066_Title_0_Chapter_0_Section_0_Artic...     [Fride, Onerva]   \n",
       "EU_32009L0028_Title_0_Chapter_0_Section_0_Artic...    [Alisha, Fabian]   \n",
       "EU_32019L0944_Title_0_Chapter_6_Section_3_Artic...    [Alisha, Onerva]   \n",
       "EU_32019R0631_Title_0_Chapter_0_Section_0_Artic...    [Onerva, Fabian]   \n",
       "\n",
       "                                                                                             Curation  \\\n",
       "EU_32006L0032_Title_0_Chapter_1_Section_0_Artic...  [annotator:curation layer:Instrumenttypes type...   \n",
       "EU_32006L0066_Title_0_Chapter_0_Section_0_Artic...  [annotator:curation layer:Instrumenttypes type...   \n",
       "EU_32009L0028_Title_0_Chapter_0_Section_0_Artic...  [annotator:curation layer:Policydesigncharacte...   \n",
       "EU_32019L0944_Title_0_Chapter_6_Section_3_Artic...  [annotator:curation layer:Instrumenttypes type...   \n",
       "EU_32019R0631_Title_0_Chapter_0_Section_0_Artic...  [annotator:curation layer:Instrumenttypes type...   \n",
       "\n",
       "                                                                                               Onerva  \\\n",
       "EU_32006L0032_Title_0_Chapter_1_Section_0_Artic...  [annotator:Onerva layer:Instrumenttypes type:I...   \n",
       "EU_32006L0066_Title_0_Chapter_0_Section_0_Artic...  [annotator:Onerva layer:Instrumenttypes type:I...   \n",
       "EU_32009L0028_Title_0_Chapter_0_Section_0_Artic...                                                 []   \n",
       "EU_32019L0944_Title_0_Chapter_6_Section_3_Artic...  [annotator:Onerva layer:Instrumenttypes type:I...   \n",
       "EU_32019R0631_Title_0_Chapter_0_Section_0_Artic...  [annotator:Onerva layer:Instrumenttypes type:I...   \n",
       "\n",
       "                                                                                                Fride  \\\n",
       "EU_32006L0032_Title_0_Chapter_1_Section_0_Artic...  [annotator:Fride layer:Instrumenttypes type:In...   \n",
       "EU_32006L0066_Title_0_Chapter_0_Section_0_Artic...  [annotator:Fride layer:Instrumenttypes type:In...   \n",
       "EU_32009L0028_Title_0_Chapter_0_Section_0_Artic...                                                      \n",
       "EU_32019L0944_Title_0_Chapter_6_Section_3_Artic...                                                      \n",
       "EU_32019R0631_Title_0_Chapter_0_Section_0_Artic...                                                      \n",
       "\n",
       "                                                   Lynn Sebastian  \\\n",
       "EU_32006L0032_Title_0_Chapter_1_Section_0_Artic...                  \n",
       "EU_32006L0066_Title_0_Chapter_0_Section_0_Artic...   []             \n",
       "EU_32009L0028_Title_0_Chapter_0_Section_0_Artic...             []   \n",
       "EU_32019L0944_Title_0_Chapter_6_Section_3_Artic...                  \n",
       "EU_32019R0631_Title_0_Chapter_0_Section_0_Artic...                  \n",
       "\n",
       "                                                                                               Alisha  \\\n",
       "EU_32006L0032_Title_0_Chapter_1_Section_0_Artic...                                                      \n",
       "EU_32006L0066_Title_0_Chapter_0_Section_0_Artic...                                                      \n",
       "EU_32009L0028_Title_0_Chapter_0_Section_0_Artic...  [annotator:Alisha layer:Policydesigncharacteri...   \n",
       "EU_32019L0944_Title_0_Chapter_6_Section_3_Artic...  [annotator:Alisha layer:Instrumenttypes type:I...   \n",
       "EU_32019R0631_Title_0_Chapter_0_Section_0_Artic...                                                      \n",
       "\n",
       "                                                                                               Fabian  \\\n",
       "EU_32006L0032_Title_0_Chapter_1_Section_0_Artic...                                                      \n",
       "EU_32006L0066_Title_0_Chapter_0_Section_0_Artic...                                                      \n",
       "EU_32009L0028_Title_0_Chapter_0_Section_0_Artic...  [annotator:Fabian layer:Policydesigncharacteri...   \n",
       "EU_32019L0944_Title_0_Chapter_6_Section_3_Artic...                                                      \n",
       "EU_32019R0631_Title_0_Chapter_0_Section_0_Artic...  [annotator:Fabian layer:Policydesigncharacteri...   \n",
       "\n",
       "                                                    f1_heuristic_score  \n",
       "EU_32006L0032_Title_0_Chapter_1_Section_0_Artic...            0.566417  \n",
       "EU_32006L0066_Title_0_Chapter_0_Section_0_Artic...            0.740741  \n",
       "EU_32009L0028_Title_0_Chapter_0_Section_0_Artic...            0.425532  \n",
       "EU_32019L0944_Title_0_Chapter_6_Section_3_Artic...            0.226087  \n",
       "EU_32019R0631_Title_0_Chapter_0_Section_0_Artic...            0.451613  "
      ]
     },
     "execution_count": 5,
     "metadata": {},
     "output_type": "execute_result"
    }
   ],
   "source": [
    "test_evaluator.df.head()"
   ]
  },
  {
   "cell_type": "markdown",
   "metadata": {},
   "source": [
    "## test where curation is finsihed but not 2 annotators"
   ]
  },
  {
   "cell_type": "code",
   "execution_count": 31,
   "metadata": {},
   "outputs": [
    {
     "data": {
      "text/html": [
       "<div>\n",
       "<style scoped>\n",
       "    .dataframe tbody tr th:only-of-type {\n",
       "        vertical-align: middle;\n",
       "    }\n",
       "\n",
       "    .dataframe tbody tr th {\n",
       "        vertical-align: top;\n",
       "    }\n",
       "\n",
       "    .dataframe thead th {\n",
       "        text-align: right;\n",
       "    }\n",
       "</style>\n",
       "<table border=\"1\" class=\"dataframe\">\n",
       "  <thead>\n",
       "    <tr style=\"text-align: right;\">\n",
       "      <th></th>\n",
       "      <th>Policy</th>\n",
       "      <th>Text</th>\n",
       "      <th>Tokens</th>\n",
       "      <th>Article_State</th>\n",
       "      <th>Finished_Annotators</th>\n",
       "      <th>Curation</th>\n",
       "      <th>Onerva</th>\n",
       "      <th>Fride</th>\n",
       "      <th>Lynn</th>\n",
       "      <th>Sebastian</th>\n",
       "      <th>Alisha</th>\n",
       "      <th>Fabian</th>\n",
       "      <th>f1_exact_score</th>\n",
       "      <th>f1_tokenwise_score</th>\n",
       "      <th>f1_partial_score</th>\n",
       "      <th>f1_heuristic_score</th>\n",
       "    </tr>\n",
       "  </thead>\n",
       "  <tbody>\n",
       "    <tr>\n",
       "      <th>EU_32009L0028_Whereas</th>\n",
       "      <td></td>\n",
       "      <td>whereas:\\r\\n(1)\\r\\nthe control of european ene...</td>\n",
       "      <td>[start:0 stop:7 text:whereas tag_count:0, star...</td>\n",
       "      <td>CURATION_FINISHED</td>\n",
       "      <td>[]</td>\n",
       "      <td></td>\n",
       "      <td>[]</td>\n",
       "      <td></td>\n",
       "      <td></td>\n",
       "      <td>[]</td>\n",
       "      <td>[]</td>\n",
       "      <td>[]</td>\n",
       "      <td>NaN</td>\n",
       "      <td>NaN</td>\n",
       "      <td>NaN</td>\n",
       "      <td>NaN</td>\n",
       "    </tr>\n",
       "    <tr>\n",
       "      <th>EU_32006L0066_Whereas</th>\n",
       "      <td></td>\n",
       "      <td>whereas:\\r\\n(1)\\r\\nit is desirable to harmonis...</td>\n",
       "      <td>[start:0 stop:7 text:whereas tag_count:0, star...</td>\n",
       "      <td>CURATION_FINISHED</td>\n",
       "      <td>[Onerva]</td>\n",
       "      <td>[]</td>\n",
       "      <td>[]</td>\n",
       "      <td>[]</td>\n",
       "      <td>[]</td>\n",
       "      <td></td>\n",
       "      <td></td>\n",
       "      <td></td>\n",
       "      <td>NaN</td>\n",
       "      <td>NaN</td>\n",
       "      <td>NaN</td>\n",
       "      <td>NaN</td>\n",
       "    </tr>\n",
       "  </tbody>\n",
       "</table>\n",
       "</div>"
      ],
      "text/plain": [
       "                      Policy  \\\n",
       "EU_32009L0028_Whereas          \n",
       "EU_32006L0066_Whereas          \n",
       "\n",
       "                                                                    Text  \\\n",
       "EU_32009L0028_Whereas  whereas:\\r\\n(1)\\r\\nthe control of european ene...   \n",
       "EU_32006L0066_Whereas  whereas:\\r\\n(1)\\r\\nit is desirable to harmonis...   \n",
       "\n",
       "                                                                  Tokens  \\\n",
       "EU_32009L0028_Whereas  [start:0 stop:7 text:whereas tag_count:0, star...   \n",
       "EU_32006L0066_Whereas  [start:0 stop:7 text:whereas tag_count:0, star...   \n",
       "\n",
       "                           Article_State Finished_Annotators Curation Onerva  \\\n",
       "EU_32009L0028_Whereas  CURATION_FINISHED                  []              []   \n",
       "EU_32006L0066_Whereas  CURATION_FINISHED            [Onerva]       []     []   \n",
       "\n",
       "                      Fride Lynn Sebastian Alisha Fabian  f1_exact_score  \\\n",
       "EU_32009L0028_Whereas                   []     []     []             NaN   \n",
       "EU_32006L0066_Whereas    []   []                                     NaN   \n",
       "\n",
       "                       f1_tokenwise_score  f1_partial_score  \\\n",
       "EU_32009L0028_Whereas                 NaN               NaN   \n",
       "EU_32006L0066_Whereas                 NaN               NaN   \n",
       "\n",
       "                       f1_heuristic_score  \n",
       "EU_32009L0028_Whereas                 NaN  \n",
       "EU_32006L0066_Whereas                 NaN  "
      ]
     },
     "execution_count": 31,
     "metadata": {},
     "output_type": "execute_result"
    }
   ],
   "source": [
    "test_evaluator.df[test_evaluator.df.apply(lambda x: len(x['Finished_Annotators'])  < 2 and x['Article_State'] =='CURATION_FINISHED',axis=1)]"
   ]
  },
  {
   "cell_type": "code",
   "execution_count": null,
   "metadata": {},
   "outputs": [],
   "source": []
  },
  {
   "cell_type": "code",
   "execution_count": null,
   "metadata": {},
   "outputs": [],
   "source": []
  },
  {
   "cell_type": "markdown",
   "metadata": {},
   "source": [
    "## Clean Dataframe and only keep the where Curation is finsihed"
   ]
  },
  {
   "cell_type": "code",
   "execution_count": 6,
   "metadata": {},
   "outputs": [],
   "source": [
    "test_evaluator.keep_only_finished_articles()"
   ]
  },
  {
   "cell_type": "code",
   "execution_count": 6,
   "metadata": {},
   "outputs": [
    {
     "data": {
      "text/html": [
       "<div>\n",
       "<style scoped>\n",
       "    .dataframe tbody tr th:only-of-type {\n",
       "        vertical-align: middle;\n",
       "    }\n",
       "\n",
       "    .dataframe tbody tr th {\n",
       "        vertical-align: top;\n",
       "    }\n",
       "\n",
       "    .dataframe thead th {\n",
       "        text-align: right;\n",
       "    }\n",
       "</style>\n",
       "<table border=\"1\" class=\"dataframe\">\n",
       "  <thead>\n",
       "    <tr style=\"text-align: right;\">\n",
       "      <th></th>\n",
       "      <th>Policy</th>\n",
       "      <th>Text</th>\n",
       "      <th>Tokens</th>\n",
       "      <th>Article_State</th>\n",
       "      <th>Finished_Annotators</th>\n",
       "      <th>Curation</th>\n",
       "      <th>Onerva</th>\n",
       "      <th>Fride</th>\n",
       "      <th>Lynn</th>\n",
       "      <th>Sebastian</th>\n",
       "      <th>Alisha</th>\n",
       "      <th>Fabian</th>\n",
       "      <th>f1_exact_score</th>\n",
       "      <th>f1_tokenwise_score</th>\n",
       "      <th>f1_partial_score</th>\n",
       "      <th>f1_heuristic_score</th>\n",
       "    </tr>\n",
       "  </thead>\n",
       "  <tbody>\n",
       "    <tr>\n",
       "      <th>EU_32006L0032_Title_0_Chapter_1_Section_0_Article_03</th>\n",
       "      <td></td>\n",
       "      <td>article 3\\r\\ndefinitions\\r\\nfor the purposes o...</td>\n",
       "      <td>[start:0 stop:7 text:article tag_count:0, star...</td>\n",
       "      <td>CURATION_FINISHED</td>\n",
       "      <td>[Fride, Onerva]</td>\n",
       "      <td>[annotator:curation layer:Instrumenttypes type...</td>\n",
       "      <td>[annotator:Onerva layer:Instrumenttypes type:I...</td>\n",
       "      <td>[annotator:Fride layer:Instrumenttypes type:In...</td>\n",
       "      <td></td>\n",
       "      <td></td>\n",
       "      <td></td>\n",
       "      <td></td>\n",
       "      <td>0.373418</td>\n",
       "      <td>0.415289</td>\n",
       "      <td>0.544304</td>\n",
       "      <td>0.566417</td>\n",
       "    </tr>\n",
       "    <tr>\n",
       "      <th>EU_32006L0066_Title_0_Chapter_0_Section_0_Article_25</th>\n",
       "      <td></td>\n",
       "      <td>article 25\\r\\npenalties\\r\\nmember states shall...</td>\n",
       "      <td>[start:0 stop:7 text:article tag_count:0, star...</td>\n",
       "      <td>CURATION_FINISHED</td>\n",
       "      <td>[Fride, Onerva]</td>\n",
       "      <td>[annotator:curation layer:Instrumenttypes type...</td>\n",
       "      <td>[annotator:Onerva layer:Instrumenttypes type:I...</td>\n",
       "      <td>[annotator:Fride layer:Instrumenttypes type:In...</td>\n",
       "      <td>[]</td>\n",
       "      <td></td>\n",
       "      <td></td>\n",
       "      <td></td>\n",
       "      <td>0.740741</td>\n",
       "      <td>0.625</td>\n",
       "      <td>0.740741</td>\n",
       "      <td>0.740741</td>\n",
       "    </tr>\n",
       "    <tr>\n",
       "      <th>EU_32009L0028_Title_0_Chapter_0_Section_0_Article_07</th>\n",
       "      <td></td>\n",
       "      <td>article 7\\r\\njoint projects between member sta...</td>\n",
       "      <td>[start:0 stop:7 text:article tag_count:0, star...</td>\n",
       "      <td>CURATION_FINISHED</td>\n",
       "      <td>[Alisha, Fabian]</td>\n",
       "      <td>[annotator:curation layer:Policydesigncharacte...</td>\n",
       "      <td>[]</td>\n",
       "      <td></td>\n",
       "      <td></td>\n",
       "      <td>[]</td>\n",
       "      <td>[annotator:Alisha layer:Policydesigncharacteri...</td>\n",
       "      <td>[annotator:Fabian layer:Policydesigncharacteri...</td>\n",
       "      <td>0.382979</td>\n",
       "      <td>0.345238</td>\n",
       "      <td>0.425532</td>\n",
       "      <td>0.425532</td>\n",
       "    </tr>\n",
       "    <tr>\n",
       "      <th>EU_32019L0944_Title_0_Chapter_6_Section_3_Article_47</th>\n",
       "      <td></td>\n",
       "      <td>article 47\\r\\nindependence of the transmission...</td>\n",
       "      <td>[start:0 stop:7 text:article tag_count:0, star...</td>\n",
       "      <td>CURATION_FINISHED</td>\n",
       "      <td>[Alisha, Onerva]</td>\n",
       "      <td>[annotator:curation layer:Instrumenttypes type...</td>\n",
       "      <td>[annotator:Onerva layer:Instrumenttypes type:I...</td>\n",
       "      <td></td>\n",
       "      <td></td>\n",
       "      <td></td>\n",
       "      <td>[annotator:Alisha layer:Instrumenttypes type:I...</td>\n",
       "      <td></td>\n",
       "      <td>0.191304</td>\n",
       "      <td>0.176783</td>\n",
       "      <td>0.226087</td>\n",
       "      <td>0.226087</td>\n",
       "    </tr>\n",
       "    <tr>\n",
       "      <th>EU_32019R0631_Title_0_Chapter_0_Section_0_Article_14</th>\n",
       "      <td></td>\n",
       "      <td>article 14\\r\\nadjustment of m0 and tm0 values\\...</td>\n",
       "      <td>[start:0 stop:7 text:article tag_count:0, star...</td>\n",
       "      <td>CURATION_FINISHED</td>\n",
       "      <td>[Onerva, Fabian]</td>\n",
       "      <td>[annotator:curation layer:Instrumenttypes type...</td>\n",
       "      <td>[annotator:Onerva layer:Instrumenttypes type:I...</td>\n",
       "      <td></td>\n",
       "      <td></td>\n",
       "      <td></td>\n",
       "      <td></td>\n",
       "      <td>[annotator:Fabian layer:Policydesigncharacteri...</td>\n",
       "      <td>0.0</td>\n",
       "      <td>0.344725</td>\n",
       "      <td>0.451613</td>\n",
       "      <td>0.451613</td>\n",
       "    </tr>\n",
       "  </tbody>\n",
       "</table>\n",
       "</div>"
      ],
      "text/plain": [
       "                                                   Policy  \\\n",
       "EU_32006L0032_Title_0_Chapter_1_Section_0_Artic...          \n",
       "EU_32006L0066_Title_0_Chapter_0_Section_0_Artic...          \n",
       "EU_32009L0028_Title_0_Chapter_0_Section_0_Artic...          \n",
       "EU_32019L0944_Title_0_Chapter_6_Section_3_Artic...          \n",
       "EU_32019R0631_Title_0_Chapter_0_Section_0_Artic...          \n",
       "\n",
       "                                                                                                 Text  \\\n",
       "EU_32006L0032_Title_0_Chapter_1_Section_0_Artic...  article 3\\r\\ndefinitions\\r\\nfor the purposes o...   \n",
       "EU_32006L0066_Title_0_Chapter_0_Section_0_Artic...  article 25\\r\\npenalties\\r\\nmember states shall...   \n",
       "EU_32009L0028_Title_0_Chapter_0_Section_0_Artic...  article 7\\r\\njoint projects between member sta...   \n",
       "EU_32019L0944_Title_0_Chapter_6_Section_3_Artic...  article 47\\r\\nindependence of the transmission...   \n",
       "EU_32019R0631_Title_0_Chapter_0_Section_0_Artic...  article 14\\r\\nadjustment of m0 and tm0 values\\...   \n",
       "\n",
       "                                                                                               Tokens  \\\n",
       "EU_32006L0032_Title_0_Chapter_1_Section_0_Artic...  [start:0 stop:7 text:article tag_count:0, star...   \n",
       "EU_32006L0066_Title_0_Chapter_0_Section_0_Artic...  [start:0 stop:7 text:article tag_count:0, star...   \n",
       "EU_32009L0028_Title_0_Chapter_0_Section_0_Artic...  [start:0 stop:7 text:article tag_count:0, star...   \n",
       "EU_32019L0944_Title_0_Chapter_6_Section_3_Artic...  [start:0 stop:7 text:article tag_count:0, star...   \n",
       "EU_32019R0631_Title_0_Chapter_0_Section_0_Artic...  [start:0 stop:7 text:article tag_count:0, star...   \n",
       "\n",
       "                                                        Article_State  \\\n",
       "EU_32006L0032_Title_0_Chapter_1_Section_0_Artic...  CURATION_FINISHED   \n",
       "EU_32006L0066_Title_0_Chapter_0_Section_0_Artic...  CURATION_FINISHED   \n",
       "EU_32009L0028_Title_0_Chapter_0_Section_0_Artic...  CURATION_FINISHED   \n",
       "EU_32019L0944_Title_0_Chapter_6_Section_3_Artic...  CURATION_FINISHED   \n",
       "EU_32019R0631_Title_0_Chapter_0_Section_0_Artic...  CURATION_FINISHED   \n",
       "\n",
       "                                                   Finished_Annotators  \\\n",
       "EU_32006L0032_Title_0_Chapter_1_Section_0_Artic...     [Fride, Onerva]   \n",
       "EU_32006L0066_Title_0_Chapter_0_Section_0_Artic...     [Fride, Onerva]   \n",
       "EU_32009L0028_Title_0_Chapter_0_Section_0_Artic...    [Alisha, Fabian]   \n",
       "EU_32019L0944_Title_0_Chapter_6_Section_3_Artic...    [Alisha, Onerva]   \n",
       "EU_32019R0631_Title_0_Chapter_0_Section_0_Artic...    [Onerva, Fabian]   \n",
       "\n",
       "                                                                                             Curation  \\\n",
       "EU_32006L0032_Title_0_Chapter_1_Section_0_Artic...  [annotator:curation layer:Instrumenttypes type...   \n",
       "EU_32006L0066_Title_0_Chapter_0_Section_0_Artic...  [annotator:curation layer:Instrumenttypes type...   \n",
       "EU_32009L0028_Title_0_Chapter_0_Section_0_Artic...  [annotator:curation layer:Policydesigncharacte...   \n",
       "EU_32019L0944_Title_0_Chapter_6_Section_3_Artic...  [annotator:curation layer:Instrumenttypes type...   \n",
       "EU_32019R0631_Title_0_Chapter_0_Section_0_Artic...  [annotator:curation layer:Instrumenttypes type...   \n",
       "\n",
       "                                                                                               Onerva  \\\n",
       "EU_32006L0032_Title_0_Chapter_1_Section_0_Artic...  [annotator:Onerva layer:Instrumenttypes type:I...   \n",
       "EU_32006L0066_Title_0_Chapter_0_Section_0_Artic...  [annotator:Onerva layer:Instrumenttypes type:I...   \n",
       "EU_32009L0028_Title_0_Chapter_0_Section_0_Artic...                                                 []   \n",
       "EU_32019L0944_Title_0_Chapter_6_Section_3_Artic...  [annotator:Onerva layer:Instrumenttypes type:I...   \n",
       "EU_32019R0631_Title_0_Chapter_0_Section_0_Artic...  [annotator:Onerva layer:Instrumenttypes type:I...   \n",
       "\n",
       "                                                                                                Fride  \\\n",
       "EU_32006L0032_Title_0_Chapter_1_Section_0_Artic...  [annotator:Fride layer:Instrumenttypes type:In...   \n",
       "EU_32006L0066_Title_0_Chapter_0_Section_0_Artic...  [annotator:Fride layer:Instrumenttypes type:In...   \n",
       "EU_32009L0028_Title_0_Chapter_0_Section_0_Artic...                                                      \n",
       "EU_32019L0944_Title_0_Chapter_6_Section_3_Artic...                                                      \n",
       "EU_32019R0631_Title_0_Chapter_0_Section_0_Artic...                                                      \n",
       "\n",
       "                                                   Lynn Sebastian  \\\n",
       "EU_32006L0032_Title_0_Chapter_1_Section_0_Artic...                  \n",
       "EU_32006L0066_Title_0_Chapter_0_Section_0_Artic...   []             \n",
       "EU_32009L0028_Title_0_Chapter_0_Section_0_Artic...             []   \n",
       "EU_32019L0944_Title_0_Chapter_6_Section_3_Artic...                  \n",
       "EU_32019R0631_Title_0_Chapter_0_Section_0_Artic...                  \n",
       "\n",
       "                                                                                               Alisha  \\\n",
       "EU_32006L0032_Title_0_Chapter_1_Section_0_Artic...                                                      \n",
       "EU_32006L0066_Title_0_Chapter_0_Section_0_Artic...                                                      \n",
       "EU_32009L0028_Title_0_Chapter_0_Section_0_Artic...  [annotator:Alisha layer:Policydesigncharacteri...   \n",
       "EU_32019L0944_Title_0_Chapter_6_Section_3_Artic...  [annotator:Alisha layer:Instrumenttypes type:I...   \n",
       "EU_32019R0631_Title_0_Chapter_0_Section_0_Artic...                                                      \n",
       "\n",
       "                                                                                               Fabian  \\\n",
       "EU_32006L0032_Title_0_Chapter_1_Section_0_Artic...                                                      \n",
       "EU_32006L0066_Title_0_Chapter_0_Section_0_Artic...                                                      \n",
       "EU_32009L0028_Title_0_Chapter_0_Section_0_Artic...  [annotator:Fabian layer:Policydesigncharacteri...   \n",
       "EU_32019L0944_Title_0_Chapter_6_Section_3_Artic...                                                      \n",
       "EU_32019R0631_Title_0_Chapter_0_Section_0_Artic...  [annotator:Fabian layer:Policydesigncharacteri...   \n",
       "\n",
       "                                                   f1_exact_score  \\\n",
       "EU_32006L0032_Title_0_Chapter_1_Section_0_Artic...       0.373418   \n",
       "EU_32006L0066_Title_0_Chapter_0_Section_0_Artic...       0.740741   \n",
       "EU_32009L0028_Title_0_Chapter_0_Section_0_Artic...       0.382979   \n",
       "EU_32019L0944_Title_0_Chapter_6_Section_3_Artic...       0.191304   \n",
       "EU_32019R0631_Title_0_Chapter_0_Section_0_Artic...            0.0   \n",
       "\n",
       "                                                   f1_tokenwise_score  \\\n",
       "EU_32006L0032_Title_0_Chapter_1_Section_0_Artic...           0.415289   \n",
       "EU_32006L0066_Title_0_Chapter_0_Section_0_Artic...              0.625   \n",
       "EU_32009L0028_Title_0_Chapter_0_Section_0_Artic...           0.345238   \n",
       "EU_32019L0944_Title_0_Chapter_6_Section_3_Artic...           0.176783   \n",
       "EU_32019R0631_Title_0_Chapter_0_Section_0_Artic...           0.344725   \n",
       "\n",
       "                                                   f1_partial_score  \\\n",
       "EU_32006L0032_Title_0_Chapter_1_Section_0_Artic...         0.544304   \n",
       "EU_32006L0066_Title_0_Chapter_0_Section_0_Artic...         0.740741   \n",
       "EU_32009L0028_Title_0_Chapter_0_Section_0_Artic...         0.425532   \n",
       "EU_32019L0944_Title_0_Chapter_6_Section_3_Artic...         0.226087   \n",
       "EU_32019R0631_Title_0_Chapter_0_Section_0_Artic...         0.451613   \n",
       "\n",
       "                                                   f1_heuristic_score  \n",
       "EU_32006L0032_Title_0_Chapter_1_Section_0_Artic...           0.566417  \n",
       "EU_32006L0066_Title_0_Chapter_0_Section_0_Artic...           0.740741  \n",
       "EU_32009L0028_Title_0_Chapter_0_Section_0_Artic...           0.425532  \n",
       "EU_32019L0944_Title_0_Chapter_6_Section_3_Artic...           0.226087  \n",
       "EU_32019R0631_Title_0_Chapter_0_Section_0_Artic...           0.451613  "
      ]
     },
     "execution_count": 6,
     "metadata": {},
     "output_type": "execute_result"
    }
   ],
   "source": [
    "test_evaluator.df.head()"
   ]
  },
  {
   "cell_type": "code",
   "execution_count": 8,
   "metadata": {},
   "outputs": [
    {
     "data": {
      "text/html": [
       "<div>\n",
       "<style scoped>\n",
       "    .dataframe tbody tr th:only-of-type {\n",
       "        vertical-align: middle;\n",
       "    }\n",
       "\n",
       "    .dataframe tbody tr th {\n",
       "        vertical-align: top;\n",
       "    }\n",
       "\n",
       "    .dataframe thead th {\n",
       "        text-align: right;\n",
       "    }\n",
       "</style>\n",
       "<table border=\"1\" class=\"dataframe\">\n",
       "  <thead>\n",
       "    <tr style=\"text-align: right;\">\n",
       "      <th></th>\n",
       "      <th>Policy</th>\n",
       "      <th>Text</th>\n",
       "      <th>Tokens</th>\n",
       "      <th>Article_State</th>\n",
       "      <th>Finished_Annotators</th>\n",
       "      <th>Curation</th>\n",
       "      <th>Onerva</th>\n",
       "      <th>Fride</th>\n",
       "      <th>Lynn</th>\n",
       "      <th>Sebastian</th>\n",
       "      <th>Alisha</th>\n",
       "      <th>Fabian</th>\n",
       "      <th>f1_exact_score</th>\n",
       "      <th>f1_tokenwise_score</th>\n",
       "      <th>f1_partial_score</th>\n",
       "      <th>f1_heuristic_score</th>\n",
       "    </tr>\n",
       "  </thead>\n",
       "  <tbody>\n",
       "    <tr>\n",
       "      <th>EU_32014L0094_Title_0_Chapter_0_Section_0_Article_08</th>\n",
       "      <td></td>\n",
       "      <td>article 8\\r\\nexercise of the delegation\\r\\n1. ...</td>\n",
       "      <td>[start:0 stop:7 text:article tag_count:0, star...</td>\n",
       "      <td>ANNOTATION_IN_PROGRESS</td>\n",
       "      <td>[Fabian, Fride]</td>\n",
       "      <td></td>\n",
       "      <td></td>\n",
       "      <td>[annotator:Fride layer:Policydesigncharacteris...</td>\n",
       "      <td></td>\n",
       "      <td></td>\n",
       "      <td></td>\n",
       "      <td>[annotator:Fabian layer:Policydesigncharacteri...</td>\n",
       "      <td>0.260870</td>\n",
       "      <td>0.285714</td>\n",
       "      <td>0.304348</td>\n",
       "      <td>0.304348</td>\n",
       "    </tr>\n",
       "    <tr>\n",
       "      <th>EU_32014R0256_front</th>\n",
       "      <td></td>\n",
       "      <td>l 84/61\\r\\n\\r\\nregulation (eu) no 256/2014 of ...</td>\n",
       "      <td>[start:0 stop:1 text:l tag_count:0, start:2 st...</td>\n",
       "      <td>ANNOTATION_IN_PROGRESS</td>\n",
       "      <td>[Fride, Onerva]</td>\n",
       "      <td></td>\n",
       "      <td>[annotator:Onerva layer:Policydesigncharacteri...</td>\n",
       "      <td>[annotator:Fride layer:Policydesigncharacteris...</td>\n",
       "      <td></td>\n",
       "      <td></td>\n",
       "      <td></td>\n",
       "      <td></td>\n",
       "      <td>0.592593</td>\n",
       "      <td>0.520833</td>\n",
       "      <td>0.666667</td>\n",
       "      <td>0.666667</td>\n",
       "    </tr>\n",
       "    <tr>\n",
       "      <th>EU_32018L0844_Whereas</th>\n",
       "      <td></td>\n",
       "      <td>whereas:\\r\\n(1)\\r\\nthe union is committed to d...</td>\n",
       "      <td>[start:0 stop:7 text:whereas tag_count:0, star...</td>\n",
       "      <td>ANNOTATION_IN_PROGRESS</td>\n",
       "      <td>[]</td>\n",
       "      <td></td>\n",
       "      <td>[]</td>\n",
       "      <td></td>\n",
       "      <td></td>\n",
       "      <td></td>\n",
       "      <td></td>\n",
       "      <td>[]</td>\n",
       "      <td>NaN</td>\n",
       "      <td>NaN</td>\n",
       "      <td>NaN</td>\n",
       "      <td>NaN</td>\n",
       "    </tr>\n",
       "    <tr>\n",
       "      <th>EU_32014L0094_Whereas</th>\n",
       "      <td></td>\n",
       "      <td>whereas:\\r\\n(1)\\r\\nin its communication of 3 m...</td>\n",
       "      <td>[start:0 stop:7 text:whereas tag_count:0, star...</td>\n",
       "      <td>ANNOTATION_IN_PROGRESS</td>\n",
       "      <td>[]</td>\n",
       "      <td></td>\n",
       "      <td></td>\n",
       "      <td></td>\n",
       "      <td></td>\n",
       "      <td></td>\n",
       "      <td></td>\n",
       "      <td>[]</td>\n",
       "      <td>NaN</td>\n",
       "      <td>NaN</td>\n",
       "      <td>NaN</td>\n",
       "      <td>NaN</td>\n",
       "    </tr>\n",
       "    <tr>\n",
       "      <th>EU_32013R0174_Whereas</th>\n",
       "      <td></td>\n",
       "      <td>whereas:\\r\\n(1)\\r\\nregulation (ec) no 106/2008...</td>\n",
       "      <td>[start:0 stop:7 text:whereas tag_count:0, star...</td>\n",
       "      <td>ANNOTATION_IN_PROGRESS</td>\n",
       "      <td>[]</td>\n",
       "      <td></td>\n",
       "      <td></td>\n",
       "      <td>[]</td>\n",
       "      <td></td>\n",
       "      <td></td>\n",
       "      <td>[annotator:Alisha layer:Instrumenttypes type:I...</td>\n",
       "      <td></td>\n",
       "      <td>NaN</td>\n",
       "      <td>NaN</td>\n",
       "      <td>NaN</td>\n",
       "      <td>NaN</td>\n",
       "    </tr>\n",
       "  </tbody>\n",
       "</table>\n",
       "</div>"
      ],
      "text/plain": [
       "                                                   Policy  \\\n",
       "EU_32014L0094_Title_0_Chapter_0_Section_0_Artic...          \n",
       "EU_32014R0256_front                                         \n",
       "EU_32018L0844_Whereas                                       \n",
       "EU_32014L0094_Whereas                                       \n",
       "EU_32013R0174_Whereas                                       \n",
       "\n",
       "                                                                                                 Text  \\\n",
       "EU_32014L0094_Title_0_Chapter_0_Section_0_Artic...  article 8\\r\\nexercise of the delegation\\r\\n1. ...   \n",
       "EU_32014R0256_front                                 l 84/61\\r\\n\\r\\nregulation (eu) no 256/2014 of ...   \n",
       "EU_32018L0844_Whereas                               whereas:\\r\\n(1)\\r\\nthe union is committed to d...   \n",
       "EU_32014L0094_Whereas                               whereas:\\r\\n(1)\\r\\nin its communication of 3 m...   \n",
       "EU_32013R0174_Whereas                               whereas:\\r\\n(1)\\r\\nregulation (ec) no 106/2008...   \n",
       "\n",
       "                                                                                               Tokens  \\\n",
       "EU_32014L0094_Title_0_Chapter_0_Section_0_Artic...  [start:0 stop:7 text:article tag_count:0, star...   \n",
       "EU_32014R0256_front                                 [start:0 stop:1 text:l tag_count:0, start:2 st...   \n",
       "EU_32018L0844_Whereas                               [start:0 stop:7 text:whereas tag_count:0, star...   \n",
       "EU_32014L0094_Whereas                               [start:0 stop:7 text:whereas tag_count:0, star...   \n",
       "EU_32013R0174_Whereas                               [start:0 stop:7 text:whereas tag_count:0, star...   \n",
       "\n",
       "                                                             Article_State  \\\n",
       "EU_32014L0094_Title_0_Chapter_0_Section_0_Artic...  ANNOTATION_IN_PROGRESS   \n",
       "EU_32014R0256_front                                 ANNOTATION_IN_PROGRESS   \n",
       "EU_32018L0844_Whereas                               ANNOTATION_IN_PROGRESS   \n",
       "EU_32014L0094_Whereas                               ANNOTATION_IN_PROGRESS   \n",
       "EU_32013R0174_Whereas                               ANNOTATION_IN_PROGRESS   \n",
       "\n",
       "                                                   Finished_Annotators  \\\n",
       "EU_32014L0094_Title_0_Chapter_0_Section_0_Artic...     [Fabian, Fride]   \n",
       "EU_32014R0256_front                                    [Fride, Onerva]   \n",
       "EU_32018L0844_Whereas                                               []   \n",
       "EU_32014L0094_Whereas                                               []   \n",
       "EU_32013R0174_Whereas                                               []   \n",
       "\n",
       "                                                   Curation  \\\n",
       "EU_32014L0094_Title_0_Chapter_0_Section_0_Artic...            \n",
       "EU_32014R0256_front                                           \n",
       "EU_32018L0844_Whereas                                         \n",
       "EU_32014L0094_Whereas                                         \n",
       "EU_32013R0174_Whereas                                         \n",
       "\n",
       "                                                                                               Onerva  \\\n",
       "EU_32014L0094_Title_0_Chapter_0_Section_0_Artic...                                                      \n",
       "EU_32014R0256_front                                 [annotator:Onerva layer:Policydesigncharacteri...   \n",
       "EU_32018L0844_Whereas                                                                              []   \n",
       "EU_32014L0094_Whereas                                                                                   \n",
       "EU_32013R0174_Whereas                                                                                   \n",
       "\n",
       "                                                                                                Fride  \\\n",
       "EU_32014L0094_Title_0_Chapter_0_Section_0_Artic...  [annotator:Fride layer:Policydesigncharacteris...   \n",
       "EU_32014R0256_front                                 [annotator:Fride layer:Policydesigncharacteris...   \n",
       "EU_32018L0844_Whereas                                                                                   \n",
       "EU_32014L0094_Whereas                                                                                   \n",
       "EU_32013R0174_Whereas                                                                              []   \n",
       "\n",
       "                                                   Lynn Sebastian  \\\n",
       "EU_32014L0094_Title_0_Chapter_0_Section_0_Artic...                  \n",
       "EU_32014R0256_front                                                 \n",
       "EU_32018L0844_Whereas                                               \n",
       "EU_32014L0094_Whereas                                               \n",
       "EU_32013R0174_Whereas                                               \n",
       "\n",
       "                                                                                               Alisha  \\\n",
       "EU_32014L0094_Title_0_Chapter_0_Section_0_Artic...                                                      \n",
       "EU_32014R0256_front                                                                                     \n",
       "EU_32018L0844_Whereas                                                                                   \n",
       "EU_32014L0094_Whereas                                                                                   \n",
       "EU_32013R0174_Whereas                               [annotator:Alisha layer:Instrumenttypes type:I...   \n",
       "\n",
       "                                                                                               Fabian  \\\n",
       "EU_32014L0094_Title_0_Chapter_0_Section_0_Artic...  [annotator:Fabian layer:Policydesigncharacteri...   \n",
       "EU_32014R0256_front                                                                                     \n",
       "EU_32018L0844_Whereas                                                                              []   \n",
       "EU_32014L0094_Whereas                                                                              []   \n",
       "EU_32013R0174_Whereas                                                                                   \n",
       "\n",
       "                                                    f1_exact_score  \\\n",
       "EU_32014L0094_Title_0_Chapter_0_Section_0_Artic...        0.260870   \n",
       "EU_32014R0256_front                                       0.592593   \n",
       "EU_32018L0844_Whereas                                          NaN   \n",
       "EU_32014L0094_Whereas                                          NaN   \n",
       "EU_32013R0174_Whereas                                          NaN   \n",
       "\n",
       "                                                    f1_tokenwise_score  \\\n",
       "EU_32014L0094_Title_0_Chapter_0_Section_0_Artic...            0.285714   \n",
       "EU_32014R0256_front                                           0.520833   \n",
       "EU_32018L0844_Whereas                                              NaN   \n",
       "EU_32014L0094_Whereas                                              NaN   \n",
       "EU_32013R0174_Whereas                                              NaN   \n",
       "\n",
       "                                                    f1_partial_score  \\\n",
       "EU_32014L0094_Title_0_Chapter_0_Section_0_Artic...          0.304348   \n",
       "EU_32014R0256_front                                         0.666667   \n",
       "EU_32018L0844_Whereas                                            NaN   \n",
       "EU_32014L0094_Whereas                                            NaN   \n",
       "EU_32013R0174_Whereas                                            NaN   \n",
       "\n",
       "                                                    f1_heuristic_score  \n",
       "EU_32014L0094_Title_0_Chapter_0_Section_0_Artic...            0.304348  \n",
       "EU_32014R0256_front                                           0.666667  \n",
       "EU_32018L0844_Whereas                                              NaN  \n",
       "EU_32014L0094_Whereas                                              NaN  \n",
       "EU_32013R0174_Whereas                                              NaN  "
      ]
     },
     "execution_count": 8,
     "metadata": {},
     "output_type": "execute_result"
    }
   ],
   "source": [
    "test_evaluator.df_non_curated.head()"
   ]
  },
  {
   "cell_type": "code",
   "execution_count": 8,
   "metadata": {},
   "outputs": [],
   "source": [
    "test_evaluator.df = test_evaluator.df[test_evaluator.df['Article_State'] =='CURATION_FINISHED']"
   ]
  },
  {
   "cell_type": "code",
   "execution_count": 9,
   "metadata": {},
   "outputs": [
    {
     "data": {
      "text/html": [
       "<div>\n",
       "<style scoped>\n",
       "    .dataframe tbody tr th:only-of-type {\n",
       "        vertical-align: middle;\n",
       "    }\n",
       "\n",
       "    .dataframe tbody tr th {\n",
       "        vertical-align: top;\n",
       "    }\n",
       "\n",
       "    .dataframe thead th {\n",
       "        text-align: right;\n",
       "    }\n",
       "</style>\n",
       "<table border=\"1\" class=\"dataframe\">\n",
       "  <thead>\n",
       "    <tr style=\"text-align: right;\">\n",
       "      <th></th>\n",
       "      <th>Policy</th>\n",
       "      <th>Text</th>\n",
       "      <th>Tokens</th>\n",
       "      <th>Article_State</th>\n",
       "      <th>Finished_Annotators</th>\n",
       "      <th>Curation</th>\n",
       "      <th>Onerva</th>\n",
       "      <th>Fride</th>\n",
       "      <th>Lynn</th>\n",
       "      <th>Sebastian</th>\n",
       "      <th>Alisha</th>\n",
       "      <th>Fabian</th>\n",
       "      <th>f1_exact_score</th>\n",
       "      <th>f1_tokenwise_score</th>\n",
       "      <th>f1_partial_score</th>\n",
       "      <th>f1_heuristic_score</th>\n",
       "    </tr>\n",
       "  </thead>\n",
       "  <tbody>\n",
       "  </tbody>\n",
       "</table>\n",
       "</div>"
      ],
      "text/plain": [
       "Empty DataFrame\n",
       "Columns: [Policy, Text, Tokens, Article_State, Finished_Annotators, Curation, Onerva, Fride, Lynn, Sebastian, Alisha, Fabian, f1_exact_score, f1_tokenwise_score, f1_partial_score, f1_heuristic_score]\n",
       "Index: []"
      ]
     },
     "execution_count": 9,
     "metadata": {},
     "output_type": "execute_result"
    }
   ],
   "source": [
    "test_evaluator.df[test_evaluator.df['Article_State'] !='CURATION_FINISHED']"
   ]
  },
  {
   "cell_type": "code",
   "execution_count": null,
   "metadata": {},
   "outputs": [],
   "source": []
  },
  {
   "cell_type": "code",
   "execution_count": 16,
   "metadata": {},
   "outputs": [
    {
     "data": {
      "text/html": [
       "<div>\n",
       "<style scoped>\n",
       "    .dataframe tbody tr th:only-of-type {\n",
       "        vertical-align: middle;\n",
       "    }\n",
       "\n",
       "    .dataframe tbody tr th {\n",
       "        vertical-align: top;\n",
       "    }\n",
       "\n",
       "    .dataframe thead th {\n",
       "        text-align: right;\n",
       "    }\n",
       "</style>\n",
       "<table border=\"1\" class=\"dataframe\">\n",
       "  <thead>\n",
       "    <tr style=\"text-align: right;\">\n",
       "      <th></th>\n",
       "      <th>Policy</th>\n",
       "      <th>Text</th>\n",
       "      <th>Tokens</th>\n",
       "      <th>Article_State</th>\n",
       "      <th>Finished_Annotators</th>\n",
       "      <th>Curation</th>\n",
       "      <th>Onerva</th>\n",
       "      <th>Fride</th>\n",
       "      <th>Lynn</th>\n",
       "      <th>Sebastian</th>\n",
       "      <th>Alisha</th>\n",
       "      <th>Fabian</th>\n",
       "      <th>f1_exact_score</th>\n",
       "      <th>f1_tokenwise_score</th>\n",
       "      <th>f1_partial_score</th>\n",
       "      <th>f1_heuristic_score</th>\n",
       "    </tr>\n",
       "  </thead>\n",
       "  <tbody>\n",
       "    <tr>\n",
       "      <th>EU_32006L0032_Title_0_Chapter_1_Section_0_Article_03</th>\n",
       "      <td></td>\n",
       "      <td>article 3\\r\\ndefinitions\\r\\nfor the purposes o...</td>\n",
       "      <td>[start:0 stop:7 text:article tag_count:0, star...</td>\n",
       "      <td>CURATION_FINISHED</td>\n",
       "      <td>[Fride, Onerva]</td>\n",
       "      <td>[annotator:curation layer:Instrumenttypes type...</td>\n",
       "      <td>[annotator:Onerva layer:Instrumenttypes type:I...</td>\n",
       "      <td>[annotator:Fride layer:Instrumenttypes type:In...</td>\n",
       "      <td></td>\n",
       "      <td></td>\n",
       "      <td></td>\n",
       "      <td></td>\n",
       "      <td>0.373418</td>\n",
       "      <td>0.415289</td>\n",
       "      <td>0.544304</td>\n",
       "      <td>0.566417</td>\n",
       "    </tr>\n",
       "    <tr>\n",
       "      <th>EU_32006L0066_Title_0_Chapter_0_Section_0_Article_25</th>\n",
       "      <td></td>\n",
       "      <td>article 25\\r\\npenalties\\r\\nmember states shall...</td>\n",
       "      <td>[start:0 stop:7 text:article tag_count:0, star...</td>\n",
       "      <td>CURATION_FINISHED</td>\n",
       "      <td>[Fride, Onerva]</td>\n",
       "      <td>[annotator:curation layer:Instrumenttypes type...</td>\n",
       "      <td>[annotator:Onerva layer:Instrumenttypes type:I...</td>\n",
       "      <td>[annotator:Fride layer:Instrumenttypes type:In...</td>\n",
       "      <td>[]</td>\n",
       "      <td></td>\n",
       "      <td></td>\n",
       "      <td></td>\n",
       "      <td>0.740741</td>\n",
       "      <td>0.625000</td>\n",
       "      <td>0.740741</td>\n",
       "      <td>0.740741</td>\n",
       "    </tr>\n",
       "    <tr>\n",
       "      <th>EU_32018R1999_Title_0_Chapter_4_Section_1_Article_22</th>\n",
       "      <td></td>\n",
       "      <td>article 22\\r\\nintegrated reporting on energy s...</td>\n",
       "      <td>[start:0 stop:7 text:article tag_count:0, star...</td>\n",
       "      <td>CURATION_FINISHED</td>\n",
       "      <td>[Alisha, Fride]</td>\n",
       "      <td>[annotator:curation layer:Instrumenttypes type...</td>\n",
       "      <td></td>\n",
       "      <td>[annotator:Fride layer:Instrumenttypes type:In...</td>\n",
       "      <td></td>\n",
       "      <td></td>\n",
       "      <td>[annotator:Alisha layer:Instrumenttypes type:I...</td>\n",
       "      <td></td>\n",
       "      <td>0.227273</td>\n",
       "      <td>0.222222</td>\n",
       "      <td>0.363636</td>\n",
       "      <td>0.386047</td>\n",
       "    </tr>\n",
       "    <tr>\n",
       "      <th>EU_32018R1999_Title_0_Chapter_2_Section_0_Article_03</th>\n",
       "      <td></td>\n",
       "      <td>article 3\\r\\nintegrated national energy and cl...</td>\n",
       "      <td>[start:0 stop:7 text:article tag_count:0, star...</td>\n",
       "      <td>CURATION_FINISHED</td>\n",
       "      <td>[Alisha, Fride]</td>\n",
       "      <td>[annotator:curation layer:Instrumenttypes type...</td>\n",
       "      <td></td>\n",
       "      <td>[annotator:Fride layer:Instrumenttypes type:In...</td>\n",
       "      <td></td>\n",
       "      <td></td>\n",
       "      <td>[annotator:Alisha layer:Instrumenttypes type:I...</td>\n",
       "      <td></td>\n",
       "      <td>0.273973</td>\n",
       "      <td>0.330767</td>\n",
       "      <td>0.479452</td>\n",
       "      <td>0.506757</td>\n",
       "    </tr>\n",
       "    <tr>\n",
       "      <th>EU_32014L0094_Title_0_Chapter_0_Section_0_Article_08</th>\n",
       "      <td></td>\n",
       "      <td>article 8\\r\\nexercise of the delegation\\r\\n1. ...</td>\n",
       "      <td>[start:0 stop:7 text:article tag_count:0, star...</td>\n",
       "      <td>ANNOTATION_IN_PROGRESS</td>\n",
       "      <td>[Fabian, Fride]</td>\n",
       "      <td></td>\n",
       "      <td></td>\n",
       "      <td>[annotator:Fride layer:Policydesigncharacteris...</td>\n",
       "      <td></td>\n",
       "      <td></td>\n",
       "      <td></td>\n",
       "      <td>[annotator:Fabian layer:Policydesigncharacteri...</td>\n",
       "      <td>0.260870</td>\n",
       "      <td>0.285714</td>\n",
       "      <td>0.304348</td>\n",
       "      <td>0.304348</td>\n",
       "    </tr>\n",
       "    <tr>\n",
       "      <th>...</th>\n",
       "      <td>...</td>\n",
       "      <td>...</td>\n",
       "      <td>...</td>\n",
       "      <td>...</td>\n",
       "      <td>...</td>\n",
       "      <td>...</td>\n",
       "      <td>...</td>\n",
       "      <td>...</td>\n",
       "      <td>...</td>\n",
       "      <td>...</td>\n",
       "      <td>...</td>\n",
       "      <td>...</td>\n",
       "      <td>...</td>\n",
       "      <td>...</td>\n",
       "      <td>...</td>\n",
       "      <td>...</td>\n",
       "    </tr>\n",
       "    <tr>\n",
       "      <th>EU_32018R1999_Title_0_Chapter_6_Section_3_Article_40</th>\n",
       "      <td></td>\n",
       "      <td>article 40\\r\\nestablishment and operation of r...</td>\n",
       "      <td>[start:0 stop:7 text:article tag_count:0, star...</td>\n",
       "      <td>CURATION_FINISHED</td>\n",
       "      <td>[Alisha, Fride]</td>\n",
       "      <td>[annotator:curation layer:Instrumenttypes type...</td>\n",
       "      <td></td>\n",
       "      <td>[annotator:Fride layer:Policydesigncharacteris...</td>\n",
       "      <td></td>\n",
       "      <td></td>\n",
       "      <td>[annotator:Alisha layer:Instrumenttypes type:I...</td>\n",
       "      <td></td>\n",
       "      <td>0.418605</td>\n",
       "      <td>0.395833</td>\n",
       "      <td>0.465116</td>\n",
       "      <td>0.465116</td>\n",
       "    </tr>\n",
       "    <tr>\n",
       "      <th>EU_32014L0094_Title_0_Chapter_0_Section_0_Article_04</th>\n",
       "      <td></td>\n",
       "      <td>article 4\\r\\nelectricity supply for transport\\...</td>\n",
       "      <td>[start:0 stop:7 text:article tag_count:0, star...</td>\n",
       "      <td>CURATION_FINISHED</td>\n",
       "      <td>[Fabian, Fride]</td>\n",
       "      <td>[annotator:curation layer:Instrumenttypes type...</td>\n",
       "      <td></td>\n",
       "      <td>[annotator:Fride layer:Instrumenttypes type:In...</td>\n",
       "      <td></td>\n",
       "      <td></td>\n",
       "      <td></td>\n",
       "      <td>[annotator:Fabian layer:Instrumenttypes type:I...</td>\n",
       "      <td>0.336735</td>\n",
       "      <td>0.258516</td>\n",
       "      <td>0.367347</td>\n",
       "      <td>0.367347</td>\n",
       "    </tr>\n",
       "    <tr>\n",
       "      <th>EU_32018R1999_Title_0_Chapter_6_Section_3_Article_37</th>\n",
       "      <td></td>\n",
       "      <td>article 37\\r\\nunion and national inventory sys...</td>\n",
       "      <td>[start:0 stop:7 text:article tag_count:0, star...</td>\n",
       "      <td>CURATION_FINISHED</td>\n",
       "      <td>[Alisha, Fride]</td>\n",
       "      <td>[annotator:curation layer:Instrumenttypes type...</td>\n",
       "      <td></td>\n",
       "      <td>[annotator:Fride layer:Instrumenttypes type:In...</td>\n",
       "      <td></td>\n",
       "      <td></td>\n",
       "      <td>[annotator:Alisha layer:Instrumenttypes type:I...</td>\n",
       "      <td></td>\n",
       "      <td>0.271186</td>\n",
       "      <td>0.406905</td>\n",
       "      <td>0.559322</td>\n",
       "      <td>0.576149</td>\n",
       "    </tr>\n",
       "    <tr>\n",
       "      <th>EU_32006L0032_Title_0_Chapter_3_Section_0_Article_13</th>\n",
       "      <td></td>\n",
       "      <td>article 13\\r\\nmetering and informative billing...</td>\n",
       "      <td>[start:0 stop:7 text:article tag_count:0, star...</td>\n",
       "      <td>CURATION_FINISHED</td>\n",
       "      <td>[Fride, Onerva]</td>\n",
       "      <td>[annotator:curation layer:Instrumenttypes type...</td>\n",
       "      <td>[annotator:Onerva layer:Instrumenttypes type:I...</td>\n",
       "      <td>[annotator:Fride layer:Instrumenttypes type:In...</td>\n",
       "      <td></td>\n",
       "      <td></td>\n",
       "      <td></td>\n",
       "      <td></td>\n",
       "      <td>0.777778</td>\n",
       "      <td>0.666667</td>\n",
       "      <td>0.777778</td>\n",
       "      <td>0.777778</td>\n",
       "    </tr>\n",
       "    <tr>\n",
       "      <th>EU_32018L2001_Title_0_Chapter_0_Section_0_Article_33</th>\n",
       "      <td></td>\n",
       "      <td>article 33\\r\\nmonitoring by the commission\\r\\n...</td>\n",
       "      <td>[start:0 stop:7 text:article tag_count:0, star...</td>\n",
       "      <td>CURATION_FINISHED</td>\n",
       "      <td>[Fride, Onerva]</td>\n",
       "      <td>[annotator:curation layer:Instrumenttypes type...</td>\n",
       "      <td>[annotator:Onerva layer:Instrumenttypes type:I...</td>\n",
       "      <td>[annotator:Fride layer:Instrumenttypes type:In...</td>\n",
       "      <td></td>\n",
       "      <td></td>\n",
       "      <td></td>\n",
       "      <td></td>\n",
       "      <td>0.636364</td>\n",
       "      <td>0.541620</td>\n",
       "      <td>0.659091</td>\n",
       "      <td>0.659091</td>\n",
       "    </tr>\n",
       "  </tbody>\n",
       "</table>\n",
       "<p>249 rows × 16 columns</p>\n",
       "</div>"
      ],
      "text/plain": [
       "                                                   Policy  \\\n",
       "EU_32006L0032_Title_0_Chapter_1_Section_0_Artic...          \n",
       "EU_32006L0066_Title_0_Chapter_0_Section_0_Artic...          \n",
       "EU_32018R1999_Title_0_Chapter_4_Section_1_Artic...          \n",
       "EU_32018R1999_Title_0_Chapter_2_Section_0_Artic...          \n",
       "EU_32014L0094_Title_0_Chapter_0_Section_0_Artic...          \n",
       "...                                                   ...   \n",
       "EU_32018R1999_Title_0_Chapter_6_Section_3_Artic...          \n",
       "EU_32014L0094_Title_0_Chapter_0_Section_0_Artic...          \n",
       "EU_32018R1999_Title_0_Chapter_6_Section_3_Artic...          \n",
       "EU_32006L0032_Title_0_Chapter_3_Section_0_Artic...          \n",
       "EU_32018L2001_Title_0_Chapter_0_Section_0_Artic...          \n",
       "\n",
       "                                                                                                 Text  \\\n",
       "EU_32006L0032_Title_0_Chapter_1_Section_0_Artic...  article 3\\r\\ndefinitions\\r\\nfor the purposes o...   \n",
       "EU_32006L0066_Title_0_Chapter_0_Section_0_Artic...  article 25\\r\\npenalties\\r\\nmember states shall...   \n",
       "EU_32018R1999_Title_0_Chapter_4_Section_1_Artic...  article 22\\r\\nintegrated reporting on energy s...   \n",
       "EU_32018R1999_Title_0_Chapter_2_Section_0_Artic...  article 3\\r\\nintegrated national energy and cl...   \n",
       "EU_32014L0094_Title_0_Chapter_0_Section_0_Artic...  article 8\\r\\nexercise of the delegation\\r\\n1. ...   \n",
       "...                                                                                               ...   \n",
       "EU_32018R1999_Title_0_Chapter_6_Section_3_Artic...  article 40\\r\\nestablishment and operation of r...   \n",
       "EU_32014L0094_Title_0_Chapter_0_Section_0_Artic...  article 4\\r\\nelectricity supply for transport\\...   \n",
       "EU_32018R1999_Title_0_Chapter_6_Section_3_Artic...  article 37\\r\\nunion and national inventory sys...   \n",
       "EU_32006L0032_Title_0_Chapter_3_Section_0_Artic...  article 13\\r\\nmetering and informative billing...   \n",
       "EU_32018L2001_Title_0_Chapter_0_Section_0_Artic...  article 33\\r\\nmonitoring by the commission\\r\\n...   \n",
       "\n",
       "                                                                                               Tokens  \\\n",
       "EU_32006L0032_Title_0_Chapter_1_Section_0_Artic...  [start:0 stop:7 text:article tag_count:0, star...   \n",
       "EU_32006L0066_Title_0_Chapter_0_Section_0_Artic...  [start:0 stop:7 text:article tag_count:0, star...   \n",
       "EU_32018R1999_Title_0_Chapter_4_Section_1_Artic...  [start:0 stop:7 text:article tag_count:0, star...   \n",
       "EU_32018R1999_Title_0_Chapter_2_Section_0_Artic...  [start:0 stop:7 text:article tag_count:0, star...   \n",
       "EU_32014L0094_Title_0_Chapter_0_Section_0_Artic...  [start:0 stop:7 text:article tag_count:0, star...   \n",
       "...                                                                                               ...   \n",
       "EU_32018R1999_Title_0_Chapter_6_Section_3_Artic...  [start:0 stop:7 text:article tag_count:0, star...   \n",
       "EU_32014L0094_Title_0_Chapter_0_Section_0_Artic...  [start:0 stop:7 text:article tag_count:0, star...   \n",
       "EU_32018R1999_Title_0_Chapter_6_Section_3_Artic...  [start:0 stop:7 text:article tag_count:0, star...   \n",
       "EU_32006L0032_Title_0_Chapter_3_Section_0_Artic...  [start:0 stop:7 text:article tag_count:0, star...   \n",
       "EU_32018L2001_Title_0_Chapter_0_Section_0_Artic...  [start:0 stop:7 text:article tag_count:0, star...   \n",
       "\n",
       "                                                             Article_State  \\\n",
       "EU_32006L0032_Title_0_Chapter_1_Section_0_Artic...       CURATION_FINISHED   \n",
       "EU_32006L0066_Title_0_Chapter_0_Section_0_Artic...       CURATION_FINISHED   \n",
       "EU_32018R1999_Title_0_Chapter_4_Section_1_Artic...       CURATION_FINISHED   \n",
       "EU_32018R1999_Title_0_Chapter_2_Section_0_Artic...       CURATION_FINISHED   \n",
       "EU_32014L0094_Title_0_Chapter_0_Section_0_Artic...  ANNOTATION_IN_PROGRESS   \n",
       "...                                                                    ...   \n",
       "EU_32018R1999_Title_0_Chapter_6_Section_3_Artic...       CURATION_FINISHED   \n",
       "EU_32014L0094_Title_0_Chapter_0_Section_0_Artic...       CURATION_FINISHED   \n",
       "EU_32018R1999_Title_0_Chapter_6_Section_3_Artic...       CURATION_FINISHED   \n",
       "EU_32006L0032_Title_0_Chapter_3_Section_0_Artic...       CURATION_FINISHED   \n",
       "EU_32018L2001_Title_0_Chapter_0_Section_0_Artic...       CURATION_FINISHED   \n",
       "\n",
       "                                                   Finished_Annotators  \\\n",
       "EU_32006L0032_Title_0_Chapter_1_Section_0_Artic...     [Fride, Onerva]   \n",
       "EU_32006L0066_Title_0_Chapter_0_Section_0_Artic...     [Fride, Onerva]   \n",
       "EU_32018R1999_Title_0_Chapter_4_Section_1_Artic...     [Alisha, Fride]   \n",
       "EU_32018R1999_Title_0_Chapter_2_Section_0_Artic...     [Alisha, Fride]   \n",
       "EU_32014L0094_Title_0_Chapter_0_Section_0_Artic...     [Fabian, Fride]   \n",
       "...                                                                ...   \n",
       "EU_32018R1999_Title_0_Chapter_6_Section_3_Artic...     [Alisha, Fride]   \n",
       "EU_32014L0094_Title_0_Chapter_0_Section_0_Artic...     [Fabian, Fride]   \n",
       "EU_32018R1999_Title_0_Chapter_6_Section_3_Artic...     [Alisha, Fride]   \n",
       "EU_32006L0032_Title_0_Chapter_3_Section_0_Artic...     [Fride, Onerva]   \n",
       "EU_32018L2001_Title_0_Chapter_0_Section_0_Artic...     [Fride, Onerva]   \n",
       "\n",
       "                                                                                             Curation  \\\n",
       "EU_32006L0032_Title_0_Chapter_1_Section_0_Artic...  [annotator:curation layer:Instrumenttypes type...   \n",
       "EU_32006L0066_Title_0_Chapter_0_Section_0_Artic...  [annotator:curation layer:Instrumenttypes type...   \n",
       "EU_32018R1999_Title_0_Chapter_4_Section_1_Artic...  [annotator:curation layer:Instrumenttypes type...   \n",
       "EU_32018R1999_Title_0_Chapter_2_Section_0_Artic...  [annotator:curation layer:Instrumenttypes type...   \n",
       "EU_32014L0094_Title_0_Chapter_0_Section_0_Artic...                                                      \n",
       "...                                                                                               ...   \n",
       "EU_32018R1999_Title_0_Chapter_6_Section_3_Artic...  [annotator:curation layer:Instrumenttypes type...   \n",
       "EU_32014L0094_Title_0_Chapter_0_Section_0_Artic...  [annotator:curation layer:Instrumenttypes type...   \n",
       "EU_32018R1999_Title_0_Chapter_6_Section_3_Artic...  [annotator:curation layer:Instrumenttypes type...   \n",
       "EU_32006L0032_Title_0_Chapter_3_Section_0_Artic...  [annotator:curation layer:Instrumenttypes type...   \n",
       "EU_32018L2001_Title_0_Chapter_0_Section_0_Artic...  [annotator:curation layer:Instrumenttypes type...   \n",
       "\n",
       "                                                                                               Onerva  \\\n",
       "EU_32006L0032_Title_0_Chapter_1_Section_0_Artic...  [annotator:Onerva layer:Instrumenttypes type:I...   \n",
       "EU_32006L0066_Title_0_Chapter_0_Section_0_Artic...  [annotator:Onerva layer:Instrumenttypes type:I...   \n",
       "EU_32018R1999_Title_0_Chapter_4_Section_1_Artic...                                                      \n",
       "EU_32018R1999_Title_0_Chapter_2_Section_0_Artic...                                                      \n",
       "EU_32014L0094_Title_0_Chapter_0_Section_0_Artic...                                                      \n",
       "...                                                                                               ...   \n",
       "EU_32018R1999_Title_0_Chapter_6_Section_3_Artic...                                                      \n",
       "EU_32014L0094_Title_0_Chapter_0_Section_0_Artic...                                                      \n",
       "EU_32018R1999_Title_0_Chapter_6_Section_3_Artic...                                                      \n",
       "EU_32006L0032_Title_0_Chapter_3_Section_0_Artic...  [annotator:Onerva layer:Instrumenttypes type:I...   \n",
       "EU_32018L2001_Title_0_Chapter_0_Section_0_Artic...  [annotator:Onerva layer:Instrumenttypes type:I...   \n",
       "\n",
       "                                                                                                Fride  \\\n",
       "EU_32006L0032_Title_0_Chapter_1_Section_0_Artic...  [annotator:Fride layer:Instrumenttypes type:In...   \n",
       "EU_32006L0066_Title_0_Chapter_0_Section_0_Artic...  [annotator:Fride layer:Instrumenttypes type:In...   \n",
       "EU_32018R1999_Title_0_Chapter_4_Section_1_Artic...  [annotator:Fride layer:Instrumenttypes type:In...   \n",
       "EU_32018R1999_Title_0_Chapter_2_Section_0_Artic...  [annotator:Fride layer:Instrumenttypes type:In...   \n",
       "EU_32014L0094_Title_0_Chapter_0_Section_0_Artic...  [annotator:Fride layer:Policydesigncharacteris...   \n",
       "...                                                                                               ...   \n",
       "EU_32018R1999_Title_0_Chapter_6_Section_3_Artic...  [annotator:Fride layer:Policydesigncharacteris...   \n",
       "EU_32014L0094_Title_0_Chapter_0_Section_0_Artic...  [annotator:Fride layer:Instrumenttypes type:In...   \n",
       "EU_32018R1999_Title_0_Chapter_6_Section_3_Artic...  [annotator:Fride layer:Instrumenttypes type:In...   \n",
       "EU_32006L0032_Title_0_Chapter_3_Section_0_Artic...  [annotator:Fride layer:Instrumenttypes type:In...   \n",
       "EU_32018L2001_Title_0_Chapter_0_Section_0_Artic...  [annotator:Fride layer:Instrumenttypes type:In...   \n",
       "\n",
       "                                                   Lynn Sebastian  \\\n",
       "EU_32006L0032_Title_0_Chapter_1_Section_0_Artic...                  \n",
       "EU_32006L0066_Title_0_Chapter_0_Section_0_Artic...   []             \n",
       "EU_32018R1999_Title_0_Chapter_4_Section_1_Artic...                  \n",
       "EU_32018R1999_Title_0_Chapter_2_Section_0_Artic...                  \n",
       "EU_32014L0094_Title_0_Chapter_0_Section_0_Artic...                  \n",
       "...                                                 ...       ...   \n",
       "EU_32018R1999_Title_0_Chapter_6_Section_3_Artic...                  \n",
       "EU_32014L0094_Title_0_Chapter_0_Section_0_Artic...                  \n",
       "EU_32018R1999_Title_0_Chapter_6_Section_3_Artic...                  \n",
       "EU_32006L0032_Title_0_Chapter_3_Section_0_Artic...                  \n",
       "EU_32018L2001_Title_0_Chapter_0_Section_0_Artic...                  \n",
       "\n",
       "                                                                                               Alisha  \\\n",
       "EU_32006L0032_Title_0_Chapter_1_Section_0_Artic...                                                      \n",
       "EU_32006L0066_Title_0_Chapter_0_Section_0_Artic...                                                      \n",
       "EU_32018R1999_Title_0_Chapter_4_Section_1_Artic...  [annotator:Alisha layer:Instrumenttypes type:I...   \n",
       "EU_32018R1999_Title_0_Chapter_2_Section_0_Artic...  [annotator:Alisha layer:Instrumenttypes type:I...   \n",
       "EU_32014L0094_Title_0_Chapter_0_Section_0_Artic...                                                      \n",
       "...                                                                                               ...   \n",
       "EU_32018R1999_Title_0_Chapter_6_Section_3_Artic...  [annotator:Alisha layer:Instrumenttypes type:I...   \n",
       "EU_32014L0094_Title_0_Chapter_0_Section_0_Artic...                                                      \n",
       "EU_32018R1999_Title_0_Chapter_6_Section_3_Artic...  [annotator:Alisha layer:Instrumenttypes type:I...   \n",
       "EU_32006L0032_Title_0_Chapter_3_Section_0_Artic...                                                      \n",
       "EU_32018L2001_Title_0_Chapter_0_Section_0_Artic...                                                      \n",
       "\n",
       "                                                                                               Fabian  \\\n",
       "EU_32006L0032_Title_0_Chapter_1_Section_0_Artic...                                                      \n",
       "EU_32006L0066_Title_0_Chapter_0_Section_0_Artic...                                                      \n",
       "EU_32018R1999_Title_0_Chapter_4_Section_1_Artic...                                                      \n",
       "EU_32018R1999_Title_0_Chapter_2_Section_0_Artic...                                                      \n",
       "EU_32014L0094_Title_0_Chapter_0_Section_0_Artic...  [annotator:Fabian layer:Policydesigncharacteri...   \n",
       "...                                                                                               ...   \n",
       "EU_32018R1999_Title_0_Chapter_6_Section_3_Artic...                                                      \n",
       "EU_32014L0094_Title_0_Chapter_0_Section_0_Artic...  [annotator:Fabian layer:Instrumenttypes type:I...   \n",
       "EU_32018R1999_Title_0_Chapter_6_Section_3_Artic...                                                      \n",
       "EU_32006L0032_Title_0_Chapter_3_Section_0_Artic...                                                      \n",
       "EU_32018L2001_Title_0_Chapter_0_Section_0_Artic...                                                      \n",
       "\n",
       "                                                    f1_exact_score  \\\n",
       "EU_32006L0032_Title_0_Chapter_1_Section_0_Artic...        0.373418   \n",
       "EU_32006L0066_Title_0_Chapter_0_Section_0_Artic...        0.740741   \n",
       "EU_32018R1999_Title_0_Chapter_4_Section_1_Artic...        0.227273   \n",
       "EU_32018R1999_Title_0_Chapter_2_Section_0_Artic...        0.273973   \n",
       "EU_32014L0094_Title_0_Chapter_0_Section_0_Artic...        0.260870   \n",
       "...                                                            ...   \n",
       "EU_32018R1999_Title_0_Chapter_6_Section_3_Artic...        0.418605   \n",
       "EU_32014L0094_Title_0_Chapter_0_Section_0_Artic...        0.336735   \n",
       "EU_32018R1999_Title_0_Chapter_6_Section_3_Artic...        0.271186   \n",
       "EU_32006L0032_Title_0_Chapter_3_Section_0_Artic...        0.777778   \n",
       "EU_32018L2001_Title_0_Chapter_0_Section_0_Artic...        0.636364   \n",
       "\n",
       "                                                    f1_tokenwise_score  \\\n",
       "EU_32006L0032_Title_0_Chapter_1_Section_0_Artic...            0.415289   \n",
       "EU_32006L0066_Title_0_Chapter_0_Section_0_Artic...            0.625000   \n",
       "EU_32018R1999_Title_0_Chapter_4_Section_1_Artic...            0.222222   \n",
       "EU_32018R1999_Title_0_Chapter_2_Section_0_Artic...            0.330767   \n",
       "EU_32014L0094_Title_0_Chapter_0_Section_0_Artic...            0.285714   \n",
       "...                                                                ...   \n",
       "EU_32018R1999_Title_0_Chapter_6_Section_3_Artic...            0.395833   \n",
       "EU_32014L0094_Title_0_Chapter_0_Section_0_Artic...            0.258516   \n",
       "EU_32018R1999_Title_0_Chapter_6_Section_3_Artic...            0.406905   \n",
       "EU_32006L0032_Title_0_Chapter_3_Section_0_Artic...            0.666667   \n",
       "EU_32018L2001_Title_0_Chapter_0_Section_0_Artic...            0.541620   \n",
       "\n",
       "                                                    f1_partial_score  \\\n",
       "EU_32006L0032_Title_0_Chapter_1_Section_0_Artic...          0.544304   \n",
       "EU_32006L0066_Title_0_Chapter_0_Section_0_Artic...          0.740741   \n",
       "EU_32018R1999_Title_0_Chapter_4_Section_1_Artic...          0.363636   \n",
       "EU_32018R1999_Title_0_Chapter_2_Section_0_Artic...          0.479452   \n",
       "EU_32014L0094_Title_0_Chapter_0_Section_0_Artic...          0.304348   \n",
       "...                                                              ...   \n",
       "EU_32018R1999_Title_0_Chapter_6_Section_3_Artic...          0.465116   \n",
       "EU_32014L0094_Title_0_Chapter_0_Section_0_Artic...          0.367347   \n",
       "EU_32018R1999_Title_0_Chapter_6_Section_3_Artic...          0.559322   \n",
       "EU_32006L0032_Title_0_Chapter_3_Section_0_Artic...          0.777778   \n",
       "EU_32018L2001_Title_0_Chapter_0_Section_0_Artic...          0.659091   \n",
       "\n",
       "                                                    f1_heuristic_score  \n",
       "EU_32006L0032_Title_0_Chapter_1_Section_0_Artic...            0.566417  \n",
       "EU_32006L0066_Title_0_Chapter_0_Section_0_Artic...            0.740741  \n",
       "EU_32018R1999_Title_0_Chapter_4_Section_1_Artic...            0.386047  \n",
       "EU_32018R1999_Title_0_Chapter_2_Section_0_Artic...            0.506757  \n",
       "EU_32014L0094_Title_0_Chapter_0_Section_0_Artic...            0.304348  \n",
       "...                                                                ...  \n",
       "EU_32018R1999_Title_0_Chapter_6_Section_3_Artic...            0.465116  \n",
       "EU_32014L0094_Title_0_Chapter_0_Section_0_Artic...            0.367347  \n",
       "EU_32018R1999_Title_0_Chapter_6_Section_3_Artic...            0.576149  \n",
       "EU_32006L0032_Title_0_Chapter_3_Section_0_Artic...            0.777778  \n",
       "EU_32018L2001_Title_0_Chapter_0_Section_0_Artic...            0.659091  \n",
       "\n",
       "[249 rows x 16 columns]"
      ]
     },
     "execution_count": 16,
     "metadata": {},
     "output_type": "execute_result"
    }
   ],
   "source": [
    "test_evaluator.df[test_evaluator.df.apply(lambda x: 'Fride' in x['Finished_Annotators'],axis=1)]"
   ]
  },
  {
   "cell_type": "code",
   "execution_count": 18,
   "metadata": {},
   "outputs": [
    {
     "data": {
      "text/plain": [
       "Index(['Onerva', 'Fride', 'Lynn', 'Sebastian', 'Alisha', 'Fabian',\n",
       "       'f1_exact_score', 'f1_tokenwise_score', 'f1_partial_score',\n",
       "       'f1_heuristic_score'],\n",
       "      dtype='object')"
      ]
     },
     "execution_count": 18,
     "metadata": {},
     "output_type": "execute_result"
    }
   ],
   "source": [
    "from definitions import df_annotation_marker\n",
    "test_evaluator.df.columns[df_annotation_marker:]"
   ]
  },
  {
   "cell_type": "markdown",
   "metadata": {},
   "source": [
    "## Rank by score"
   ]
  },
  {
   "cell_type": "code",
   "execution_count": null,
   "metadata": {},
   "outputs": [],
   "source": []
  },
  {
   "cell_type": "raw",
   "metadata": {},
   "source": [
    "test_evaluator.df.sort_values(by=['f1_heuristic_score'])"
   ]
  },
  {
   "cell_type": "code",
   "execution_count": 8,
   "metadata": {},
   "outputs": [
    {
     "data": {
      "text/plain": [
       "[annotator:Onerva layer:Policydesigncharacteristics type:Reference tag:Ref_PolicyAmended start:20 stop:48 text:regulations (ec) no 443/2009,\n",
       " annotator:Onerva layer:Policydesigncharacteristics type:Reference tag:Ref_PolicyAmended start:54 stop:69 text:eu) no 510/2011,\n",
       " annotator:Onerva layer:Policydesigncharacteristics type:Time tag:Time_Compliance start:100 stop:114 text:1 january 2020,\n",
       " annotator:Fabian layer:Policydesigncharacteristics type:Reversibility tag:Reversibility_policy start:20 stop:48 text:regulations (ec) no 443/2009,\n",
       " annotator:Fabian layer:Policydesigncharacteristics type:Reversibility tag:Reversibility_policy start:53 stop:69 text:(eu) no 510/2011,\n",
       " annotator:Fabian layer:Policydesigncharacteristics type:Time tag:Time_InEffect start:95 stop:114 text:from 1 january 2020]"
      ]
     },
     "execution_count": 8,
     "metadata": {},
     "output_type": "execute_result"
    }
   ],
   "source": [
    "ro = test_evaluator.df.loc['EU_32019R0631_Title_0_Chapter_0_Section_0_Article_18']\n",
    "list(chain.from_iterable(ro[ro['Finished_Annotators']]))"
   ]
  },
  {
   "cell_type": "code",
   "execution_count": 11,
   "metadata": {},
   "outputs": [
    {
     "data": {
      "text/plain": [
       "[annotator:Onerva layer:Policydesigncharacteristics type:Resource tag:Resource_Other start:1026 stop:1042 text:additional costs,\n",
       " annotator:Onerva layer:Policydesigncharacteristics type:Compliance tag:Form_monitoring start:1051 stop:1060 text:reporting,\n",
       " annotator:Onerva layer:Technologyandapplicationspecificity type:TechnologySpecificity tag:Tech_LowCarbon start:614 stop:621 text:nuclear,\n",
       " annotator:Fride layer:Instrumenttypes type:InstrumentType tag:Unspecified start:12 stop:33 text:implementing measures,\n",
       " annotator:Fride layer:Instrumenttypes type:InstrumentType tag:Unspecified start:54 stop:62 text:measures,\n",
       " annotator:Fride layer:Instrumenttypes type:InstrumentType tag:RegulatoryInstr start:837 stop:847 text:exemptions,\n",
       " annotator:Fride layer:Instrumenttypes type:InstrumentType tag:RegulatoryInstr start:851 stop:862 text:derogations,\n",
       " annotator:Fride layer:Policydesigncharacteristics type:Resource tag:Resource_Other start:402 stop:421 text:national statistics,\n",
       " annotator:Fride layer:Policydesigncharacteristics type:Time tag:Time_Resources start:607 stop:613 text:annual,\n",
       " annotator:Fride layer:Policydesigncharacteristics type:Resource tag:Resource_Other start:614 stop:632 text:nuclear statistics,\n",
       " annotator:Fride layer:Policydesigncharacteristics type:Resource tag:Resource_Other start:676 stop:703 text:renewable energy statistics,\n",
       " annotator:Fride layer:Policydesigncharacteristics type:Resource tag:Resource_Other start:768 stop:803 text:final energy consumption statistics,\n",
       " annotator:Alisha layer:Instrumenttypes type:InstrumentType tag:RegulatoryInstr start:246 stop:266 text:regulatory procedure,\n",
       " annotator:Alisha layer:Instrumenttypes type:InstrumentType tag:RegulatoryInstr start:918 stop:938 text:regulatory procedure,\n",
       " annotator:Alisha layer:Policydesigncharacteristics type:Compliance tag:Form_monitoring start:402 stop:421 text:national statistics,\n",
       " annotator:Alisha layer:Policydesigncharacteristics type:Time tag:Time_Monitoring start:607 stop:613 text:annual,\n",
       " annotator:Alisha layer:Policydesigncharacteristics type:Compliance tag:Form_monitoring start:614 stop:632 text:nuclear statistics,\n",
       " annotator:Alisha layer:Policydesigncharacteristics type:Compliance tag:Form_monitoring start:686 stop:703 text:energy statistics,\n",
       " annotator:Alisha layer:Policydesigncharacteristics type:Compliance tag:Form_monitoring start:781 stop:803 text:consumption statistics,\n",
       " annotator:Alisha layer:Policydesigncharacteristics type:Compliance tag:Form_monitoring start:1051 stop:1060 text:reporting,\n",
       " annotator:Alisha layer:Technologyandapplicationspecificity type:EnergySpecificity tag:Energy_LowCarbon start:614 stop:621 text:nuclear,\n",
       " annotator:Alisha layer:Technologyandapplicationspecificity type:EnergySpecificity tag:Energy_LowCarbon start:676 stop:692 text:renewable energy,\n",
       " annotator:Alisha layer:Technologyandapplicationspecificity type:ApplicationSpecificity tag:App_Other start:774 stop:792 text:energy consumption,\n",
       " annotator:Alisha layer:Technologyandapplicationspecificity type:EnergySpecificity tag:Energy_Other start:774 stop:780 text:energy]"
      ]
     },
     "execution_count": 11,
     "metadata": {},
     "output_type": "execute_result"
    }
   ],
   "source": [
    "repo = repository.from_repository_name('EU_32008R1099_Title_0_Chapter_0_Section_0_Article_10')\n",
    "test_evaluator.get_span_list(repo, columns = 'annotators')"
   ]
  },
  {
   "cell_type": "markdown",
   "metadata": {},
   "source": [
    "## Observe nan scores"
   ]
  },
  {
   "cell_type": "code",
   "execution_count": null,
   "metadata": {},
   "outputs": [],
   "source": [
    "\n",
    "test_evaluator.df[test_evaluator.df['f1_heuristic_score'].isnull()]"
   ]
  },
  {
   "cell_type": "code",
   "execution_count": 7,
   "metadata": {},
   "outputs": [
    {
     "data": {
      "text/html": [
       "<div>\n",
       "<style scoped>\n",
       "    .dataframe tbody tr th:only-of-type {\n",
       "        vertical-align: middle;\n",
       "    }\n",
       "\n",
       "    .dataframe tbody tr th {\n",
       "        vertical-align: top;\n",
       "    }\n",
       "\n",
       "    .dataframe thead th {\n",
       "        text-align: right;\n",
       "    }\n",
       "</style>\n",
       "<table border=\"1\" class=\"dataframe\">\n",
       "  <thead>\n",
       "    <tr style=\"text-align: right;\">\n",
       "      <th></th>\n",
       "      <th>Policy</th>\n",
       "      <th>Text</th>\n",
       "      <th>Tokens</th>\n",
       "      <th>Article_State</th>\n",
       "      <th>Finished_Annotators</th>\n",
       "      <th>Curation</th>\n",
       "      <th>Onerva</th>\n",
       "      <th>Fride</th>\n",
       "      <th>Lynn</th>\n",
       "      <th>Sebastian</th>\n",
       "      <th>Alisha</th>\n",
       "      <th>Fabian</th>\n",
       "      <th>f1_exact_score</th>\n",
       "      <th>f1_tokenwise_score</th>\n",
       "      <th>f1_partial_score</th>\n",
       "      <th>f1_heuristic_score</th>\n",
       "    </tr>\n",
       "  </thead>\n",
       "  <tbody>\n",
       "    <tr>\n",
       "      <th>EU_32009L0028_Title_0_Chapter_0_Section_0_Article_12</th>\n",
       "      <td></td>\n",
       "      <td>article 12\\r\\ncapacity increases\\r\\nfor the pu...</td>\n",
       "      <td>[start:0 stop:7 text:article tag_count:0, star...</td>\n",
       "      <td>CURATION_FINISHED</td>\n",
       "      <td>[Alisha, Fabian]</td>\n",
       "      <td>[annotator:curation layer:Technologyandapplica...</td>\n",
       "      <td>[]</td>\n",
       "      <td></td>\n",
       "      <td></td>\n",
       "      <td>[]</td>\n",
       "      <td>[annotator:Alisha layer:Technologyandapplicati...</td>\n",
       "      <td>[annotator:Fabian layer:Technologyandapplicati...</td>\n",
       "      <td>Less than two</td>\n",
       "      <td>Less than two</td>\n",
       "      <td>Less than two</td>\n",
       "      <td>Less than two</td>\n",
       "    </tr>\n",
       "    <tr>\n",
       "      <th>EU_32009L0028_Title_0_Chapter_0_Section_0_Article_20</th>\n",
       "      <td></td>\n",
       "      <td>article 20\\r\\nimplementing measures\\r\\nthe imp...</td>\n",
       "      <td>[start:0 stop:7 text:article tag_count:0, star...</td>\n",
       "      <td>CURATION_FINISHED</td>\n",
       "      <td>[Alisha, Fabian]</td>\n",
       "      <td>[annotator:curation layer:Instrumenttypes type...</td>\n",
       "      <td>[]</td>\n",
       "      <td></td>\n",
       "      <td></td>\n",
       "      <td></td>\n",
       "      <td>[annotator:Alisha layer:Instrumenttypes type:I...</td>\n",
       "      <td>[annotator:Fabian layer:Policydesigncharacteri...</td>\n",
       "      <td>Less than two</td>\n",
       "      <td>Less than two</td>\n",
       "      <td>Less than two</td>\n",
       "      <td>Less than two</td>\n",
       "    </tr>\n",
       "    <tr>\n",
       "      <th>EU_32009R0397_Title_0_Chapter_0_Section_0_Article_02</th>\n",
       "      <td></td>\n",
       "      <td>article 2\\r\\nthis regulation shall enter into ...</td>\n",
       "      <td>[start:0 stop:7 text:article tag_count:0, star...</td>\n",
       "      <td>CURATION_FINISHED</td>\n",
       "      <td>[Fabian, Fride]</td>\n",
       "      <td>[annotator:curation layer:Policydesigncharacte...</td>\n",
       "      <td></td>\n",
       "      <td>[annotator:Fride layer:Policydesigncharacteris...</td>\n",
       "      <td></td>\n",
       "      <td></td>\n",
       "      <td></td>\n",
       "      <td>[annotator:Fabian layer:Policydesigncharacteri...</td>\n",
       "      <td>Less than two</td>\n",
       "      <td>Less than two</td>\n",
       "      <td>Less than two</td>\n",
       "      <td>Less than two</td>\n",
       "    </tr>\n",
       "    <tr>\n",
       "      <th>EU_32018L2001_Title_0_Chapter_0_Section_0_Article_39</th>\n",
       "      <td></td>\n",
       "      <td>article 39\\r\\naddressees\\r\\nthis directive is ...</td>\n",
       "      <td>[start:0 stop:7 text:article tag_count:0, star...</td>\n",
       "      <td>CURATION_FINISHED</td>\n",
       "      <td>[Fride, Onerva]</td>\n",
       "      <td>[annotator:curation layer:Policydesigncharacte...</td>\n",
       "      <td>[annotator:Onerva layer:Policydesigncharacteri...</td>\n",
       "      <td>[annotator:Fride layer:Policydesigncharacteris...</td>\n",
       "      <td></td>\n",
       "      <td></td>\n",
       "      <td></td>\n",
       "      <td></td>\n",
       "      <td>Less than two</td>\n",
       "      <td>Less than two</td>\n",
       "      <td>Less than two</td>\n",
       "      <td>Less than two</td>\n",
       "    </tr>\n",
       "    <tr>\n",
       "      <th>EU_32009L0028_Title_0_Chapter_0_Section_0_Article_28</th>\n",
       "      <td></td>\n",
       "      <td>article 28\\r\\nentry into force\\r\\nthis directi...</td>\n",
       "      <td>[start:0 stop:7 text:article tag_count:0, star...</td>\n",
       "      <td>CURATION_FINISHED</td>\n",
       "      <td>[Alisha, Fabian]</td>\n",
       "      <td>[annotator:curation layer:Policydesigncharacte...</td>\n",
       "      <td>[]</td>\n",
       "      <td></td>\n",
       "      <td></td>\n",
       "      <td>[]</td>\n",
       "      <td>[annotator:Alisha layer:Policydesigncharacteri...</td>\n",
       "      <td>[]</td>\n",
       "      <td>Less than two</td>\n",
       "      <td>Less than two</td>\n",
       "      <td>Less than two</td>\n",
       "      <td>Less than two</td>\n",
       "    </tr>\n",
       "    <tr>\n",
       "      <th>EU_32018R1999_Title_0_Chapter_7_Section_3_Article_46</th>\n",
       "      <td></td>\n",
       "      <td>article 46\\r\\namendments to directive 94/22/ec...</td>\n",
       "      <td>[start:0 stop:7 text:article tag_count:0, star...</td>\n",
       "      <td>CURATION_FINISHED</td>\n",
       "      <td>[Alisha, Fride]</td>\n",
       "      <td>[annotator:curation layer:Policydesigncharacte...</td>\n",
       "      <td></td>\n",
       "      <td>[annotator:Fride layer:Policydesigncharacteris...</td>\n",
       "      <td></td>\n",
       "      <td></td>\n",
       "      <td>[annotator:Alisha layer:Policydesigncharacteri...</td>\n",
       "      <td></td>\n",
       "      <td>Less than two</td>\n",
       "      <td>Less than two</td>\n",
       "      <td>Less than two</td>\n",
       "      <td>Less than two</td>\n",
       "    </tr>\n",
       "    <tr>\n",
       "      <th>EU_32004L0008_Title_0_Chapter_0_Section_0_Article_17</th>\n",
       "      <td></td>\n",
       "      <td>article 17\\r\\nentry into force\\r\\nthis directi...</td>\n",
       "      <td>[start:0 stop:7 text:article tag_count:0, star...</td>\n",
       "      <td>CURATION_FINISHED</td>\n",
       "      <td>[Fabian, Fride]</td>\n",
       "      <td>[annotator:curation layer:Policydesigncharacte...</td>\n",
       "      <td></td>\n",
       "      <td>[annotator:Fride layer:Policydesigncharacteris...</td>\n",
       "      <td></td>\n",
       "      <td></td>\n",
       "      <td></td>\n",
       "      <td>[annotator:Fabian layer:Policydesigncharacteri...</td>\n",
       "      <td>Less than two</td>\n",
       "      <td>Less than two</td>\n",
       "      <td>Less than two</td>\n",
       "      <td>Less than two</td>\n",
       "    </tr>\n",
       "    <tr>\n",
       "      <th>EU_32009L0028_Title_0_Chapter_0_Section_0_Article_29</th>\n",
       "      <td></td>\n",
       "      <td>article 29\\r\\naddressees\\r\\nthis directive is ...</td>\n",
       "      <td>[start:0 stop:7 text:article tag_count:0, star...</td>\n",
       "      <td>CURATION_FINISHED</td>\n",
       "      <td>[Alisha, Fabian]</td>\n",
       "      <td>[annotator:curation layer:Policydesigncharacte...</td>\n",
       "      <td>[]</td>\n",
       "      <td></td>\n",
       "      <td></td>\n",
       "      <td>[]</td>\n",
       "      <td>[annotator:Alisha layer:Policydesigncharacteri...</td>\n",
       "      <td>[annotator:Fabian layer:Policydesigncharacteri...</td>\n",
       "      <td>Less than two</td>\n",
       "      <td>Less than two</td>\n",
       "      <td>Less than two</td>\n",
       "      <td>Less than two</td>\n",
       "    </tr>\n",
       "    <tr>\n",
       "      <th>EU_32018L0844_Title_0_Chapter_0_Section_0_Article_05</th>\n",
       "      <td></td>\n",
       "      <td>article 5\\r\\naddressees\\r\\nthis directive is a...</td>\n",
       "      <td>[start:0 stop:7 text:article tag_count:0, star...</td>\n",
       "      <td>CURATION_FINISHED</td>\n",
       "      <td>[Fabian, Onerva]</td>\n",
       "      <td>[annotator:curation layer:Policydesigncharacte...</td>\n",
       "      <td>[annotator:Onerva layer:Policydesigncharacteri...</td>\n",
       "      <td></td>\n",
       "      <td></td>\n",
       "      <td></td>\n",
       "      <td></td>\n",
       "      <td>[annotator:Fabian layer:Policydesigncharacteri...</td>\n",
       "      <td>Less than two</td>\n",
       "      <td>Less than two</td>\n",
       "      <td>Less than two</td>\n",
       "      <td>Less than two</td>\n",
       "    </tr>\n",
       "    <tr>\n",
       "      <th>EU_32008R1099_Title_0_Chapter_0_Section_0_Article_12</th>\n",
       "      <td></td>\n",
       "      <td>article 12\\r\\nentry into force\\r\\nthis regulat...</td>\n",
       "      <td>[start:0 stop:7 text:article tag_count:0, star...</td>\n",
       "      <td>CURATION_FINISHED</td>\n",
       "      <td>[Alisha, Fride]</td>\n",
       "      <td>[annotator:curation layer:Policydesigncharacte...</td>\n",
       "      <td>[annotator:Onerva layer:Policydesigncharacteri...</td>\n",
       "      <td>[annotator:Fride layer:Policydesigncharacteris...</td>\n",
       "      <td></td>\n",
       "      <td></td>\n",
       "      <td>[annotator:Alisha layer:Policydesigncharacteri...</td>\n",
       "      <td></td>\n",
       "      <td>Less than two</td>\n",
       "      <td>Less than two</td>\n",
       "      <td>Less than two</td>\n",
       "      <td>Less than two</td>\n",
       "    </tr>\n",
       "    <tr>\n",
       "      <th>EU_32012L0027_Title_0_Chapter_5_Section_0_Article_30</th>\n",
       "      <td></td>\n",
       "      <td>article 30\\r\\naddressees\\r\\nthis directive is ...</td>\n",
       "      <td>[start:0 stop:7 text:article tag_count:0, star...</td>\n",
       "      <td>CURATION_FINISHED</td>\n",
       "      <td>[Fride, Onerva]</td>\n",
       "      <td>[annotator:curation layer:Policydesigncharacte...</td>\n",
       "      <td>[annotator:Onerva layer:Policydesigncharacteri...</td>\n",
       "      <td>[annotator:Fride layer:Policydesigncharacteris...</td>\n",
       "      <td></td>\n",
       "      <td></td>\n",
       "      <td></td>\n",
       "      <td></td>\n",
       "      <td>Less than two</td>\n",
       "      <td>Less than two</td>\n",
       "      <td>Less than two</td>\n",
       "      <td>Less than two</td>\n",
       "    </tr>\n",
       "    <tr>\n",
       "      <th>EU_32019R0631_Title_0_Chapter_0_Section_0_Article_19</th>\n",
       "      <td></td>\n",
       "      <td>article 19\\r\\nentry into force\\r\\nthis regulat...</td>\n",
       "      <td>[start:0 stop:7 text:article tag_count:0, star...</td>\n",
       "      <td>CURATION_FINISHED</td>\n",
       "      <td>[Onerva, Fabian]</td>\n",
       "      <td>[annotator:curation layer:Policydesigncharacte...</td>\n",
       "      <td>[annotator:Onerva layer:Policydesigncharacteri...</td>\n",
       "      <td></td>\n",
       "      <td></td>\n",
       "      <td></td>\n",
       "      <td></td>\n",
       "      <td>[annotator:Fabian layer:Policydesigncharacteri...</td>\n",
       "      <td>Less than two</td>\n",
       "      <td>Less than two</td>\n",
       "      <td>Less than two</td>\n",
       "      <td>Less than two</td>\n",
       "    </tr>\n",
       "    <tr>\n",
       "      <th>EU_32014R0421_Title_0_Chapter_0_Section_0_Article_02</th>\n",
       "      <td></td>\n",
       "      <td>article 2\\r\\nthis regulation shall enter into ...</td>\n",
       "      <td>[start:0 stop:7 text:article tag_count:0, star...</td>\n",
       "      <td>CURATION_FINISHED</td>\n",
       "      <td>[Onerva, Fabian]</td>\n",
       "      <td>[annotator:curation layer:Policydesigncharacte...</td>\n",
       "      <td>[annotator:Onerva layer:Policydesigncharacteri...</td>\n",
       "      <td></td>\n",
       "      <td></td>\n",
       "      <td></td>\n",
       "      <td></td>\n",
       "      <td>[annotator:Fabian layer:Policydesigncharacteri...</td>\n",
       "      <td>Less than two</td>\n",
       "      <td>Less than two</td>\n",
       "      <td>Less than two</td>\n",
       "      <td>Less than two</td>\n",
       "    </tr>\n",
       "    <tr>\n",
       "      <th>EU_32018R1999_Title_0_Chapter_7_Section_3_Article_54</th>\n",
       "      <td></td>\n",
       "      <td>article 54\\r\\namendments to directive 2012/27/...</td>\n",
       "      <td>[start:0 stop:7 text:article tag_count:0, star...</td>\n",
       "      <td>CURATION_FINISHED</td>\n",
       "      <td>[Alisha, Fride]</td>\n",
       "      <td>[annotator:curation layer:Policydesigncharacte...</td>\n",
       "      <td></td>\n",
       "      <td>[annotator:Fride layer:Policydesigncharacteris...</td>\n",
       "      <td></td>\n",
       "      <td></td>\n",
       "      <td>[annotator:Alisha layer:Policydesigncharacteri...</td>\n",
       "      <td></td>\n",
       "      <td>Less than two</td>\n",
       "      <td>Less than two</td>\n",
       "      <td>Less than two</td>\n",
       "      <td>Less than two</td>\n",
       "    </tr>\n",
       "    <tr>\n",
       "      <th>EU_32006L0066_Title_0_Chapter_0_Section_0_Article_28</th>\n",
       "      <td></td>\n",
       "      <td>article 28\\r\\nrepeal\\r\\ndirective 91/157/eec i...</td>\n",
       "      <td>[start:0 stop:7 text:article tag_count:0, star...</td>\n",
       "      <td>CURATION_FINISHED</td>\n",
       "      <td>[Fride, Onerva]</td>\n",
       "      <td>[annotator:curation layer:Policydesigncharacte...</td>\n",
       "      <td>[annotator:Onerva layer:Policydesigncharacteri...</td>\n",
       "      <td>[annotator:Fride layer:Policydesigncharacteris...</td>\n",
       "      <td>[]</td>\n",
       "      <td></td>\n",
       "      <td></td>\n",
       "      <td></td>\n",
       "      <td>Less than two</td>\n",
       "      <td>Less than two</td>\n",
       "      <td>Less than two</td>\n",
       "      <td>Less than two</td>\n",
       "    </tr>\n",
       "    <tr>\n",
       "      <th>EU_32019L0944_Title_0_Chapter_7_Section_5_Article_74</th>\n",
       "      <td></td>\n",
       "      <td>article 74\\r\\naddressees\\r\\nthis directive is ...</td>\n",
       "      <td>[start:0 stop:7 text:article tag_count:0, star...</td>\n",
       "      <td>CURATION_FINISHED</td>\n",
       "      <td>[Alisha, Fabian]</td>\n",
       "      <td>[annotator:curation layer:Policydesigncharacte...</td>\n",
       "      <td>[annotator:Onerva layer:Policydesigncharacteri...</td>\n",
       "      <td></td>\n",
       "      <td></td>\n",
       "      <td></td>\n",
       "      <td>[annotator:Alisha layer:Policydesigncharacteri...</td>\n",
       "      <td>[annotator:Fabian layer:Policydesigncharacteri...</td>\n",
       "      <td>Less than two</td>\n",
       "      <td>Less than two</td>\n",
       "      <td>Less than two</td>\n",
       "      <td>Less than two</td>\n",
       "    </tr>\n",
       "    <tr>\n",
       "      <th>EU_32013R0525_Title_0_Chapter_7_Section_0_Article_28</th>\n",
       "      <td></td>\n",
       "      <td>article 28\\r\\nrepeal\\r\\ndecision no 280/2004/e...</td>\n",
       "      <td>[start:0 stop:7 text:article tag_count:0, star...</td>\n",
       "      <td>CURATION_FINISHED</td>\n",
       "      <td>[Alisha, Fabian]</td>\n",
       "      <td>[annotator:curation layer:Policydesigncharacte...</td>\n",
       "      <td></td>\n",
       "      <td></td>\n",
       "      <td></td>\n",
       "      <td></td>\n",
       "      <td>[annotator:Alisha layer:Policydesigncharacteri...</td>\n",
       "      <td>[annotator:Fabian layer:Policydesigncharacteri...</td>\n",
       "      <td>Less than two</td>\n",
       "      <td>Less than two</td>\n",
       "      <td>Less than two</td>\n",
       "      <td>Less than two</td>\n",
       "    </tr>\n",
       "    <tr>\n",
       "      <th>EU_32012L0027_Title_0_Chapter_4_Section_0_Article_21</th>\n",
       "      <td></td>\n",
       "      <td>article 21\\r\\nconversion factors\\r\\nfor the pu...</td>\n",
       "      <td>[start:0 stop:7 text:article tag_count:0, star...</td>\n",
       "      <td>CURATION_FINISHED</td>\n",
       "      <td>[Fride, Onerva]</td>\n",
       "      <td>[annotator:curation layer:Technologyandapplica...</td>\n",
       "      <td>[annotator:Onerva layer:Technologyandapplicati...</td>\n",
       "      <td>[annotator:Fride layer:Technologyandapplicatio...</td>\n",
       "      <td></td>\n",
       "      <td></td>\n",
       "      <td></td>\n",
       "      <td></td>\n",
       "      <td>Less than two</td>\n",
       "      <td>Less than two</td>\n",
       "      <td>Less than two</td>\n",
       "      <td>Less than two</td>\n",
       "    </tr>\n",
       "    <tr>\n",
       "      <th>EU_32009R0079_Title_0_Chapter_0_Section_0_Article_16</th>\n",
       "      <td></td>\n",
       "      <td>article 16\\r\\nentry into force\\r\\nthis regulat...</td>\n",
       "      <td>[start:0 stop:7 text:article tag_count:0, star...</td>\n",
       "      <td>CURATION_FINISHED</td>\n",
       "      <td>[Fabian, Onerva]</td>\n",
       "      <td>[annotator:curation layer:Policydesigncharacte...</td>\n",
       "      <td>[annotator:Onerva layer:Policydesigncharacteri...</td>\n",
       "      <td></td>\n",
       "      <td></td>\n",
       "      <td></td>\n",
       "      <td></td>\n",
       "      <td>[annotator:Fabian layer:Policydesigncharacteri...</td>\n",
       "      <td>Less than two</td>\n",
       "      <td>Less than two</td>\n",
       "      <td>Less than two</td>\n",
       "      <td>Less than two</td>\n",
       "    </tr>\n",
       "    <tr>\n",
       "      <th>EU_32004L0008_Title_0_Chapter_0_Section_0_Article_02</th>\n",
       "      <td></td>\n",
       "      <td>article 2\\r\\nscope\\r\\nthis directive shall app...</td>\n",
       "      <td>[start:0 stop:7 text:article tag_count:0, star...</td>\n",
       "      <td>CURATION_FINISHED</td>\n",
       "      <td>[Fabian, Fride]</td>\n",
       "      <td>[annotator:curation layer:Policydesigncharacte...</td>\n",
       "      <td></td>\n",
       "      <td>[annotator:Fride layer:Technologyandapplicatio...</td>\n",
       "      <td></td>\n",
       "      <td></td>\n",
       "      <td></td>\n",
       "      <td>[annotator:Fabian layer:Technologyandapplicati...</td>\n",
       "      <td>Less than two</td>\n",
       "      <td>Less than two</td>\n",
       "      <td>Less than two</td>\n",
       "      <td>Less than two</td>\n",
       "    </tr>\n",
       "    <tr>\n",
       "      <th>EU_32018L2001_Title_0_Chapter_0_Section_0_Article_38</th>\n",
       "      <td></td>\n",
       "      <td>article 38\\r\\nentry into force\\r\\nthis directi...</td>\n",
       "      <td>[start:0 stop:7 text:article tag_count:0, star...</td>\n",
       "      <td>CURATION_FINISHED</td>\n",
       "      <td>[Fride, Onerva]</td>\n",
       "      <td>[annotator:curation layer:Policydesigncharacte...</td>\n",
       "      <td>[annotator:Onerva layer:Policydesigncharacteri...</td>\n",
       "      <td>[annotator:Fride layer:Policydesigncharacteris...</td>\n",
       "      <td></td>\n",
       "      <td></td>\n",
       "      <td></td>\n",
       "      <td></td>\n",
       "      <td>Less than two</td>\n",
       "      <td>Less than two</td>\n",
       "      <td>Less than two</td>\n",
       "      <td>Less than two</td>\n",
       "    </tr>\n",
       "    <tr>\n",
       "      <th>EU_32006L0032_Title_0_Chapter_4_Section_0_Article_20</th>\n",
       "      <td></td>\n",
       "      <td>article 20\\r\\naddressees\\r\\nthis directive is ...</td>\n",
       "      <td>[start:0 stop:7 text:article tag_count:0, star...</td>\n",
       "      <td>CURATION_FINISHED</td>\n",
       "      <td>[Fride, Onerva]</td>\n",
       "      <td>[annotator:curation layer:Policydesigncharacte...</td>\n",
       "      <td>[annotator:Onerva layer:Policydesigncharacteri...</td>\n",
       "      <td>[annotator:Fride layer:Policydesigncharacteris...</td>\n",
       "      <td></td>\n",
       "      <td></td>\n",
       "      <td></td>\n",
       "      <td></td>\n",
       "      <td>Less than two</td>\n",
       "      <td>Less than two</td>\n",
       "      <td>Less than two</td>\n",
       "      <td>Less than two</td>\n",
       "    </tr>\n",
       "    <tr>\n",
       "      <th>EU_32018L0844_Title_0_Chapter_0_Section_0_Article_04</th>\n",
       "      <td></td>\n",
       "      <td>article 4\\r\\nentry into force\\r\\nthis directiv...</td>\n",
       "      <td>[start:0 stop:7 text:article tag_count:0, star...</td>\n",
       "      <td>CURATION_FINISHED</td>\n",
       "      <td>[Fabian, Onerva]</td>\n",
       "      <td>[annotator:curation layer:Policydesigncharacte...</td>\n",
       "      <td>[annotator:Onerva layer:Policydesigncharacteri...</td>\n",
       "      <td></td>\n",
       "      <td></td>\n",
       "      <td></td>\n",
       "      <td></td>\n",
       "      <td>[annotator:Fabian layer:Policydesigncharacteri...</td>\n",
       "      <td>Less than two</td>\n",
       "      <td>Less than two</td>\n",
       "      <td>Less than two</td>\n",
       "      <td>Less than two</td>\n",
       "    </tr>\n",
       "    <tr>\n",
       "      <th>EU_32018R1999_Title_0_Chapter_7_Section_3_Article_50</th>\n",
       "      <td></td>\n",
       "      <td>article 50\\r\\namendment to regulation (ec) no ...</td>\n",
       "      <td>[start:0 stop:7 text:article tag_count:0, star...</td>\n",
       "      <td>CURATION_FINISHED</td>\n",
       "      <td>[Alisha, Fride]</td>\n",
       "      <td>[annotator:curation layer:Policydesigncharacte...</td>\n",
       "      <td></td>\n",
       "      <td>[annotator:Fride layer:Policydesigncharacteris...</td>\n",
       "      <td></td>\n",
       "      <td></td>\n",
       "      <td>[annotator:Alisha layer:Policydesigncharacteri...</td>\n",
       "      <td></td>\n",
       "      <td>Less than two</td>\n",
       "      <td>Less than two</td>\n",
       "      <td>Less than two</td>\n",
       "      <td>Less than two</td>\n",
       "    </tr>\n",
       "    <tr>\n",
       "      <th>EU_32006L0066_Title_0_Chapter_0_Section_0_Article_29</th>\n",
       "      <td></td>\n",
       "      <td>article 29\\r\\nentry into force\\r\\nthis directi...</td>\n",
       "      <td>[start:0 stop:7 text:article tag_count:0, star...</td>\n",
       "      <td>CURATION_FINISHED</td>\n",
       "      <td>[Fride, Onerva]</td>\n",
       "      <td>[annotator:curation layer:Policydesigncharacte...</td>\n",
       "      <td>[annotator:Onerva layer:Policydesigncharacteri...</td>\n",
       "      <td>[annotator:Fride layer:Policydesigncharacteris...</td>\n",
       "      <td>[]</td>\n",
       "      <td></td>\n",
       "      <td></td>\n",
       "      <td></td>\n",
       "      <td>Less than two</td>\n",
       "      <td>Less than two</td>\n",
       "      <td>Less than two</td>\n",
       "      <td>Less than two</td>\n",
       "    </tr>\n",
       "    <tr>\n",
       "      <th>EU_32004L0008_Title_0_Chapter_0_Section_0_Article_18</th>\n",
       "      <td></td>\n",
       "      <td>article 18\\r\\naddressees\\r\\nthis directive is ...</td>\n",
       "      <td>[start:0 stop:7 text:article tag_count:0, star...</td>\n",
       "      <td>CURATION_FINISHED</td>\n",
       "      <td>[Fabian, Fride]</td>\n",
       "      <td>[annotator:curation layer:Policydesigncharacte...</td>\n",
       "      <td></td>\n",
       "      <td>[annotator:Fride layer:Policydesigncharacteris...</td>\n",
       "      <td></td>\n",
       "      <td></td>\n",
       "      <td></td>\n",
       "      <td>[annotator:Fabian layer:Policydesigncharacteri...</td>\n",
       "      <td>Less than two</td>\n",
       "      <td>Less than two</td>\n",
       "      <td>Less than two</td>\n",
       "      <td>Less than two</td>\n",
       "    </tr>\n",
       "    <tr>\n",
       "      <th>EU_32004L0008_Title_0_Chapter_0_Section_0_Article_13</th>\n",
       "      <td></td>\n",
       "      <td>article 13\\r\\nreview\\r\\n1. the threshold value...</td>\n",
       "      <td>[start:0 stop:7 text:article tag_count:0, star...</td>\n",
       "      <td>CURATION_FINISHED</td>\n",
       "      <td>[Fabian, Fride]</td>\n",
       "      <td>[annotator:curation layer:Technologyandapplica...</td>\n",
       "      <td></td>\n",
       "      <td>[annotator:Fride layer:Technologyandapplicatio...</td>\n",
       "      <td></td>\n",
       "      <td></td>\n",
       "      <td></td>\n",
       "      <td>[annotator:Fabian layer:Technologyandapplicati...</td>\n",
       "      <td>Less than two</td>\n",
       "      <td>Less than two</td>\n",
       "      <td>Less than two</td>\n",
       "      <td>Less than two</td>\n",
       "    </tr>\n",
       "    <tr>\n",
       "      <th>EU_32019L0944_Title_0_Chapter_2_Section_0_Article_04</th>\n",
       "      <td></td>\n",
       "      <td>article 4\\r\\nfree choice of supplier\\r\\nmember...</td>\n",
       "      <td>[start:0 stop:7 text:article tag_count:0, star...</td>\n",
       "      <td>CURATION_FINISHED</td>\n",
       "      <td>[Alisha, Fabian]</td>\n",
       "      <td>[annotator:curation layer:Policydesigncharacte...</td>\n",
       "      <td>[]</td>\n",
       "      <td></td>\n",
       "      <td></td>\n",
       "      <td></td>\n",
       "      <td>[annotator:Alisha layer:Policydesigncharacteri...</td>\n",
       "      <td>[annotator:Fabian layer:Policydesigncharacteri...</td>\n",
       "      <td>Less than two</td>\n",
       "      <td>Less than two</td>\n",
       "      <td>Less than two</td>\n",
       "      <td>Less than two</td>\n",
       "    </tr>\n",
       "    <tr>\n",
       "      <th>EU_32006L0032_Title_0_Chapter_4_Section_0_Article_17</th>\n",
       "      <td></td>\n",
       "      <td>article 17\\r\\nrepeal\\r\\ndirective 93/76/eec is...</td>\n",
       "      <td>[start:0 stop:7 text:article tag_count:0, star...</td>\n",
       "      <td>CURATION_FINISHED</td>\n",
       "      <td>[Fride, Onerva]</td>\n",
       "      <td>[annotator:curation layer:Policydesigncharacte...</td>\n",
       "      <td>[annotator:Onerva layer:Policydesigncharacteri...</td>\n",
       "      <td>[annotator:Fride layer:Policydesigncharacteris...</td>\n",
       "      <td></td>\n",
       "      <td></td>\n",
       "      <td></td>\n",
       "      <td></td>\n",
       "      <td>Less than two</td>\n",
       "      <td>Less than two</td>\n",
       "      <td>Less than two</td>\n",
       "      <td>Less than two</td>\n",
       "    </tr>\n",
       "    <tr>\n",
       "      <th>EU_32013R0525_Title_0_Chapter_7_Section_0_Article_29</th>\n",
       "      <td></td>\n",
       "      <td>article 29\\r\\nentry into force\\r\\nthis regulat...</td>\n",
       "      <td>[start:0 stop:7 text:article tag_count:0, star...</td>\n",
       "      <td>CURATION_FINISHED</td>\n",
       "      <td>[Alisha, Fabian]</td>\n",
       "      <td>[annotator:curation layer:Policydesigncharacte...</td>\n",
       "      <td></td>\n",
       "      <td></td>\n",
       "      <td></td>\n",
       "      <td></td>\n",
       "      <td>[annotator:Alisha layer:Instrumenttypes type:I...</td>\n",
       "      <td>[annotator:Fabian layer:Policydesigncharacteri...</td>\n",
       "      <td>Less than two</td>\n",
       "      <td>Less than two</td>\n",
       "      <td>Less than two</td>\n",
       "      <td>Less than two</td>\n",
       "    </tr>\n",
       "    <tr>\n",
       "      <th>EU_32018R1999_Title_0_Chapter_7_Section_3_Article_49</th>\n",
       "      <td></td>\n",
       "      <td>article 49\\r\\namendments to regulation (ec) no...</td>\n",
       "      <td>[start:0 stop:7 text:article tag_count:0, star...</td>\n",
       "      <td>CURATION_FINISHED</td>\n",
       "      <td>[Alisha, Fride]</td>\n",
       "      <td>[annotator:curation layer:Policydesigncharacte...</td>\n",
       "      <td></td>\n",
       "      <td>[annotator:Fride layer:Policydesigncharacteris...</td>\n",
       "      <td></td>\n",
       "      <td></td>\n",
       "      <td>[annotator:Alisha layer:Policydesigncharacteri...</td>\n",
       "      <td></td>\n",
       "      <td>Less than two</td>\n",
       "      <td>Less than two</td>\n",
       "      <td>Less than two</td>\n",
       "      <td>Less than two</td>\n",
       "    </tr>\n",
       "    <tr>\n",
       "      <th>EU_32006L0032_Title_0_Chapter_4_Section_0_Article_19</th>\n",
       "      <td></td>\n",
       "      <td>article 19\\r\\nentry into force\\r\\nthis directi...</td>\n",
       "      <td>[start:0 stop:7 text:article tag_count:0, star...</td>\n",
       "      <td>CURATION_FINISHED</td>\n",
       "      <td>[Fride, Onerva]</td>\n",
       "      <td>[annotator:curation layer:Policydesigncharacte...</td>\n",
       "      <td>[annotator:Onerva layer:Policydesigncharacteri...</td>\n",
       "      <td>[annotator:Fride layer:Policydesigncharacteris...</td>\n",
       "      <td></td>\n",
       "      <td></td>\n",
       "      <td></td>\n",
       "      <td></td>\n",
       "      <td>Less than two</td>\n",
       "      <td>Less than two</td>\n",
       "      <td>Less than two</td>\n",
       "      <td>Less than two</td>\n",
       "    </tr>\n",
       "    <tr>\n",
       "      <th>EU_32012L0027_Title_0_Chapter_5_Section_0_Article_29</th>\n",
       "      <td></td>\n",
       "      <td>article 29\\r\\nentry into force\\r\\nthis directi...</td>\n",
       "      <td>[start:0 stop:7 text:article tag_count:0, star...</td>\n",
       "      <td>CURATION_FINISHED</td>\n",
       "      <td>[Fride, Onerva]</td>\n",
       "      <td>[annotator:curation layer:Policydesigncharacte...</td>\n",
       "      <td>[annotator:Onerva layer:Policydesigncharacteri...</td>\n",
       "      <td>[annotator:Fride layer:Policydesigncharacteris...</td>\n",
       "      <td></td>\n",
       "      <td></td>\n",
       "      <td></td>\n",
       "      <td></td>\n",
       "      <td>Less than two</td>\n",
       "      <td>Less than two</td>\n",
       "      <td>Less than two</td>\n",
       "      <td>Less than two</td>\n",
       "    </tr>\n",
       "    <tr>\n",
       "      <th>EU_32019R0631_Whereas</th>\n",
       "      <td></td>\n",
       "      <td>whereas:\\r\\n(1)\\r\\nregulation (ec) no 443/2009...</td>\n",
       "      <td>[start:0 stop:7 text:whereas tag_count:0, star...</td>\n",
       "      <td>CURATION_FINISHED</td>\n",
       "      <td>[Onerva, Fabian]</td>\n",
       "      <td>[]</td>\n",
       "      <td>[annotator:Onerva layer:Policydesigncharacteri...</td>\n",
       "      <td></td>\n",
       "      <td></td>\n",
       "      <td></td>\n",
       "      <td></td>\n",
       "      <td>[]</td>\n",
       "      <td>Less than two</td>\n",
       "      <td>Less than two</td>\n",
       "      <td>Less than two</td>\n",
       "      <td>Less than two</td>\n",
       "    </tr>\n",
       "    <tr>\n",
       "      <th>EU_32006L0066_Title_0_Chapter_0_Section_0_Article_30</th>\n",
       "      <td></td>\n",
       "      <td>article 30\\r\\naddressees\\r\\nthis directive is ...</td>\n",
       "      <td>[start:0 stop:7 text:article tag_count:0, star...</td>\n",
       "      <td>CURATION_FINISHED</td>\n",
       "      <td>[Fride, Onerva]</td>\n",
       "      <td>[annotator:curation layer:Policydesigncharacte...</td>\n",
       "      <td>[annotator:Onerva layer:Policydesigncharacteri...</td>\n",
       "      <td>[annotator:Fride layer:Policydesigncharacteris...</td>\n",
       "      <td>[]</td>\n",
       "      <td></td>\n",
       "      <td></td>\n",
       "      <td></td>\n",
       "      <td>Less than two</td>\n",
       "      <td>Less than two</td>\n",
       "      <td>Less than two</td>\n",
       "      <td>Less than two</td>\n",
       "    </tr>\n",
       "    <tr>\n",
       "      <th>EU_32009R0079_Title_0_Chapter_0_Section_0_Article_14</th>\n",
       "      <td></td>\n",
       "      <td>article 14\\r\\namendments to directive 2007/46/...</td>\n",
       "      <td>[start:0 stop:7 text:article tag_count:0, star...</td>\n",
       "      <td>CURATION_FINISHED</td>\n",
       "      <td>[Fabian, Onerva]</td>\n",
       "      <td>[annotator:curation layer:Policydesigncharacte...</td>\n",
       "      <td>[annotator:Onerva layer:Policydesigncharacteri...</td>\n",
       "      <td></td>\n",
       "      <td></td>\n",
       "      <td></td>\n",
       "      <td></td>\n",
       "      <td>[annotator:Fabian layer:Policydesigncharacteri...</td>\n",
       "      <td>Less than two</td>\n",
       "      <td>Less than two</td>\n",
       "      <td>Less than two</td>\n",
       "      <td>Less than two</td>\n",
       "    </tr>\n",
       "  </tbody>\n",
       "</table>\n",
       "</div>"
      ],
      "text/plain": [
       "                                                   Policy  \\\n",
       "EU_32009L0028_Title_0_Chapter_0_Section_0_Artic...          \n",
       "EU_32009L0028_Title_0_Chapter_0_Section_0_Artic...          \n",
       "EU_32009R0397_Title_0_Chapter_0_Section_0_Artic...          \n",
       "EU_32018L2001_Title_0_Chapter_0_Section_0_Artic...          \n",
       "EU_32009L0028_Title_0_Chapter_0_Section_0_Artic...          \n",
       "EU_32018R1999_Title_0_Chapter_7_Section_3_Artic...          \n",
       "EU_32004L0008_Title_0_Chapter_0_Section_0_Artic...          \n",
       "EU_32009L0028_Title_0_Chapter_0_Section_0_Artic...          \n",
       "EU_32018L0844_Title_0_Chapter_0_Section_0_Artic...          \n",
       "EU_32008R1099_Title_0_Chapter_0_Section_0_Artic...          \n",
       "EU_32012L0027_Title_0_Chapter_5_Section_0_Artic...          \n",
       "EU_32019R0631_Title_0_Chapter_0_Section_0_Artic...          \n",
       "EU_32014R0421_Title_0_Chapter_0_Section_0_Artic...          \n",
       "EU_32018R1999_Title_0_Chapter_7_Section_3_Artic...          \n",
       "EU_32006L0066_Title_0_Chapter_0_Section_0_Artic...          \n",
       "EU_32019L0944_Title_0_Chapter_7_Section_5_Artic...          \n",
       "EU_32013R0525_Title_0_Chapter_7_Section_0_Artic...          \n",
       "EU_32012L0027_Title_0_Chapter_4_Section_0_Artic...          \n",
       "EU_32009R0079_Title_0_Chapter_0_Section_0_Artic...          \n",
       "EU_32004L0008_Title_0_Chapter_0_Section_0_Artic...          \n",
       "EU_32018L2001_Title_0_Chapter_0_Section_0_Artic...          \n",
       "EU_32006L0032_Title_0_Chapter_4_Section_0_Artic...          \n",
       "EU_32018L0844_Title_0_Chapter_0_Section_0_Artic...          \n",
       "EU_32018R1999_Title_0_Chapter_7_Section_3_Artic...          \n",
       "EU_32006L0066_Title_0_Chapter_0_Section_0_Artic...          \n",
       "EU_32004L0008_Title_0_Chapter_0_Section_0_Artic...          \n",
       "EU_32004L0008_Title_0_Chapter_0_Section_0_Artic...          \n",
       "EU_32019L0944_Title_0_Chapter_2_Section_0_Artic...          \n",
       "EU_32006L0032_Title_0_Chapter_4_Section_0_Artic...          \n",
       "EU_32013R0525_Title_0_Chapter_7_Section_0_Artic...          \n",
       "EU_32018R1999_Title_0_Chapter_7_Section_3_Artic...          \n",
       "EU_32006L0032_Title_0_Chapter_4_Section_0_Artic...          \n",
       "EU_32012L0027_Title_0_Chapter_5_Section_0_Artic...          \n",
       "EU_32019R0631_Whereas                                       \n",
       "EU_32006L0066_Title_0_Chapter_0_Section_0_Artic...          \n",
       "EU_32009R0079_Title_0_Chapter_0_Section_0_Artic...          \n",
       "\n",
       "                                                                                                 Text  \\\n",
       "EU_32009L0028_Title_0_Chapter_0_Section_0_Artic...  article 12\\r\\ncapacity increases\\r\\nfor the pu...   \n",
       "EU_32009L0028_Title_0_Chapter_0_Section_0_Artic...  article 20\\r\\nimplementing measures\\r\\nthe imp...   \n",
       "EU_32009R0397_Title_0_Chapter_0_Section_0_Artic...  article 2\\r\\nthis regulation shall enter into ...   \n",
       "EU_32018L2001_Title_0_Chapter_0_Section_0_Artic...  article 39\\r\\naddressees\\r\\nthis directive is ...   \n",
       "EU_32009L0028_Title_0_Chapter_0_Section_0_Artic...  article 28\\r\\nentry into force\\r\\nthis directi...   \n",
       "EU_32018R1999_Title_0_Chapter_7_Section_3_Artic...  article 46\\r\\namendments to directive 94/22/ec...   \n",
       "EU_32004L0008_Title_0_Chapter_0_Section_0_Artic...  article 17\\r\\nentry into force\\r\\nthis directi...   \n",
       "EU_32009L0028_Title_0_Chapter_0_Section_0_Artic...  article 29\\r\\naddressees\\r\\nthis directive is ...   \n",
       "EU_32018L0844_Title_0_Chapter_0_Section_0_Artic...  article 5\\r\\naddressees\\r\\nthis directive is a...   \n",
       "EU_32008R1099_Title_0_Chapter_0_Section_0_Artic...  article 12\\r\\nentry into force\\r\\nthis regulat...   \n",
       "EU_32012L0027_Title_0_Chapter_5_Section_0_Artic...  article 30\\r\\naddressees\\r\\nthis directive is ...   \n",
       "EU_32019R0631_Title_0_Chapter_0_Section_0_Artic...  article 19\\r\\nentry into force\\r\\nthis regulat...   \n",
       "EU_32014R0421_Title_0_Chapter_0_Section_0_Artic...  article 2\\r\\nthis regulation shall enter into ...   \n",
       "EU_32018R1999_Title_0_Chapter_7_Section_3_Artic...  article 54\\r\\namendments to directive 2012/27/...   \n",
       "EU_32006L0066_Title_0_Chapter_0_Section_0_Artic...  article 28\\r\\nrepeal\\r\\ndirective 91/157/eec i...   \n",
       "EU_32019L0944_Title_0_Chapter_7_Section_5_Artic...  article 74\\r\\naddressees\\r\\nthis directive is ...   \n",
       "EU_32013R0525_Title_0_Chapter_7_Section_0_Artic...  article 28\\r\\nrepeal\\r\\ndecision no 280/2004/e...   \n",
       "EU_32012L0027_Title_0_Chapter_4_Section_0_Artic...  article 21\\r\\nconversion factors\\r\\nfor the pu...   \n",
       "EU_32009R0079_Title_0_Chapter_0_Section_0_Artic...  article 16\\r\\nentry into force\\r\\nthis regulat...   \n",
       "EU_32004L0008_Title_0_Chapter_0_Section_0_Artic...  article 2\\r\\nscope\\r\\nthis directive shall app...   \n",
       "EU_32018L2001_Title_0_Chapter_0_Section_0_Artic...  article 38\\r\\nentry into force\\r\\nthis directi...   \n",
       "EU_32006L0032_Title_0_Chapter_4_Section_0_Artic...  article 20\\r\\naddressees\\r\\nthis directive is ...   \n",
       "EU_32018L0844_Title_0_Chapter_0_Section_0_Artic...  article 4\\r\\nentry into force\\r\\nthis directiv...   \n",
       "EU_32018R1999_Title_0_Chapter_7_Section_3_Artic...  article 50\\r\\namendment to regulation (ec) no ...   \n",
       "EU_32006L0066_Title_0_Chapter_0_Section_0_Artic...  article 29\\r\\nentry into force\\r\\nthis directi...   \n",
       "EU_32004L0008_Title_0_Chapter_0_Section_0_Artic...  article 18\\r\\naddressees\\r\\nthis directive is ...   \n",
       "EU_32004L0008_Title_0_Chapter_0_Section_0_Artic...  article 13\\r\\nreview\\r\\n1. the threshold value...   \n",
       "EU_32019L0944_Title_0_Chapter_2_Section_0_Artic...  article 4\\r\\nfree choice of supplier\\r\\nmember...   \n",
       "EU_32006L0032_Title_0_Chapter_4_Section_0_Artic...  article 17\\r\\nrepeal\\r\\ndirective 93/76/eec is...   \n",
       "EU_32013R0525_Title_0_Chapter_7_Section_0_Artic...  article 29\\r\\nentry into force\\r\\nthis regulat...   \n",
       "EU_32018R1999_Title_0_Chapter_7_Section_3_Artic...  article 49\\r\\namendments to regulation (ec) no...   \n",
       "EU_32006L0032_Title_0_Chapter_4_Section_0_Artic...  article 19\\r\\nentry into force\\r\\nthis directi...   \n",
       "EU_32012L0027_Title_0_Chapter_5_Section_0_Artic...  article 29\\r\\nentry into force\\r\\nthis directi...   \n",
       "EU_32019R0631_Whereas                               whereas:\\r\\n(1)\\r\\nregulation (ec) no 443/2009...   \n",
       "EU_32006L0066_Title_0_Chapter_0_Section_0_Artic...  article 30\\r\\naddressees\\r\\nthis directive is ...   \n",
       "EU_32009R0079_Title_0_Chapter_0_Section_0_Artic...  article 14\\r\\namendments to directive 2007/46/...   \n",
       "\n",
       "                                                                                               Tokens  \\\n",
       "EU_32009L0028_Title_0_Chapter_0_Section_0_Artic...  [start:0 stop:7 text:article tag_count:0, star...   \n",
       "EU_32009L0028_Title_0_Chapter_0_Section_0_Artic...  [start:0 stop:7 text:article tag_count:0, star...   \n",
       "EU_32009R0397_Title_0_Chapter_0_Section_0_Artic...  [start:0 stop:7 text:article tag_count:0, star...   \n",
       "EU_32018L2001_Title_0_Chapter_0_Section_0_Artic...  [start:0 stop:7 text:article tag_count:0, star...   \n",
       "EU_32009L0028_Title_0_Chapter_0_Section_0_Artic...  [start:0 stop:7 text:article tag_count:0, star...   \n",
       "EU_32018R1999_Title_0_Chapter_7_Section_3_Artic...  [start:0 stop:7 text:article tag_count:0, star...   \n",
       "EU_32004L0008_Title_0_Chapter_0_Section_0_Artic...  [start:0 stop:7 text:article tag_count:0, star...   \n",
       "EU_32009L0028_Title_0_Chapter_0_Section_0_Artic...  [start:0 stop:7 text:article tag_count:0, star...   \n",
       "EU_32018L0844_Title_0_Chapter_0_Section_0_Artic...  [start:0 stop:7 text:article tag_count:0, star...   \n",
       "EU_32008R1099_Title_0_Chapter_0_Section_0_Artic...  [start:0 stop:7 text:article tag_count:0, star...   \n",
       "EU_32012L0027_Title_0_Chapter_5_Section_0_Artic...  [start:0 stop:7 text:article tag_count:0, star...   \n",
       "EU_32019R0631_Title_0_Chapter_0_Section_0_Artic...  [start:0 stop:7 text:article tag_count:0, star...   \n",
       "EU_32014R0421_Title_0_Chapter_0_Section_0_Artic...  [start:0 stop:7 text:article tag_count:0, star...   \n",
       "EU_32018R1999_Title_0_Chapter_7_Section_3_Artic...  [start:0 stop:7 text:article tag_count:0, star...   \n",
       "EU_32006L0066_Title_0_Chapter_0_Section_0_Artic...  [start:0 stop:7 text:article tag_count:0, star...   \n",
       "EU_32019L0944_Title_0_Chapter_7_Section_5_Artic...  [start:0 stop:7 text:article tag_count:0, star...   \n",
       "EU_32013R0525_Title_0_Chapter_7_Section_0_Artic...  [start:0 stop:7 text:article tag_count:0, star...   \n",
       "EU_32012L0027_Title_0_Chapter_4_Section_0_Artic...  [start:0 stop:7 text:article tag_count:0, star...   \n",
       "EU_32009R0079_Title_0_Chapter_0_Section_0_Artic...  [start:0 stop:7 text:article tag_count:0, star...   \n",
       "EU_32004L0008_Title_0_Chapter_0_Section_0_Artic...  [start:0 stop:7 text:article tag_count:0, star...   \n",
       "EU_32018L2001_Title_0_Chapter_0_Section_0_Artic...  [start:0 stop:7 text:article tag_count:0, star...   \n",
       "EU_32006L0032_Title_0_Chapter_4_Section_0_Artic...  [start:0 stop:7 text:article tag_count:0, star...   \n",
       "EU_32018L0844_Title_0_Chapter_0_Section_0_Artic...  [start:0 stop:7 text:article tag_count:0, star...   \n",
       "EU_32018R1999_Title_0_Chapter_7_Section_3_Artic...  [start:0 stop:7 text:article tag_count:0, star...   \n",
       "EU_32006L0066_Title_0_Chapter_0_Section_0_Artic...  [start:0 stop:7 text:article tag_count:0, star...   \n",
       "EU_32004L0008_Title_0_Chapter_0_Section_0_Artic...  [start:0 stop:7 text:article tag_count:0, star...   \n",
       "EU_32004L0008_Title_0_Chapter_0_Section_0_Artic...  [start:0 stop:7 text:article tag_count:0, star...   \n",
       "EU_32019L0944_Title_0_Chapter_2_Section_0_Artic...  [start:0 stop:7 text:article tag_count:0, star...   \n",
       "EU_32006L0032_Title_0_Chapter_4_Section_0_Artic...  [start:0 stop:7 text:article tag_count:0, star...   \n",
       "EU_32013R0525_Title_0_Chapter_7_Section_0_Artic...  [start:0 stop:7 text:article tag_count:0, star...   \n",
       "EU_32018R1999_Title_0_Chapter_7_Section_3_Artic...  [start:0 stop:7 text:article tag_count:0, star...   \n",
       "EU_32006L0032_Title_0_Chapter_4_Section_0_Artic...  [start:0 stop:7 text:article tag_count:0, star...   \n",
       "EU_32012L0027_Title_0_Chapter_5_Section_0_Artic...  [start:0 stop:7 text:article tag_count:0, star...   \n",
       "EU_32019R0631_Whereas                               [start:0 stop:7 text:whereas tag_count:0, star...   \n",
       "EU_32006L0066_Title_0_Chapter_0_Section_0_Artic...  [start:0 stop:7 text:article tag_count:0, star...   \n",
       "EU_32009R0079_Title_0_Chapter_0_Section_0_Artic...  [start:0 stop:7 text:article tag_count:0, star...   \n",
       "\n",
       "                                                        Article_State  \\\n",
       "EU_32009L0028_Title_0_Chapter_0_Section_0_Artic...  CURATION_FINISHED   \n",
       "EU_32009L0028_Title_0_Chapter_0_Section_0_Artic...  CURATION_FINISHED   \n",
       "EU_32009R0397_Title_0_Chapter_0_Section_0_Artic...  CURATION_FINISHED   \n",
       "EU_32018L2001_Title_0_Chapter_0_Section_0_Artic...  CURATION_FINISHED   \n",
       "EU_32009L0028_Title_0_Chapter_0_Section_0_Artic...  CURATION_FINISHED   \n",
       "EU_32018R1999_Title_0_Chapter_7_Section_3_Artic...  CURATION_FINISHED   \n",
       "EU_32004L0008_Title_0_Chapter_0_Section_0_Artic...  CURATION_FINISHED   \n",
       "EU_32009L0028_Title_0_Chapter_0_Section_0_Artic...  CURATION_FINISHED   \n",
       "EU_32018L0844_Title_0_Chapter_0_Section_0_Artic...  CURATION_FINISHED   \n",
       "EU_32008R1099_Title_0_Chapter_0_Section_0_Artic...  CURATION_FINISHED   \n",
       "EU_32012L0027_Title_0_Chapter_5_Section_0_Artic...  CURATION_FINISHED   \n",
       "EU_32019R0631_Title_0_Chapter_0_Section_0_Artic...  CURATION_FINISHED   \n",
       "EU_32014R0421_Title_0_Chapter_0_Section_0_Artic...  CURATION_FINISHED   \n",
       "EU_32018R1999_Title_0_Chapter_7_Section_3_Artic...  CURATION_FINISHED   \n",
       "EU_32006L0066_Title_0_Chapter_0_Section_0_Artic...  CURATION_FINISHED   \n",
       "EU_32019L0944_Title_0_Chapter_7_Section_5_Artic...  CURATION_FINISHED   \n",
       "EU_32013R0525_Title_0_Chapter_7_Section_0_Artic...  CURATION_FINISHED   \n",
       "EU_32012L0027_Title_0_Chapter_4_Section_0_Artic...  CURATION_FINISHED   \n",
       "EU_32009R0079_Title_0_Chapter_0_Section_0_Artic...  CURATION_FINISHED   \n",
       "EU_32004L0008_Title_0_Chapter_0_Section_0_Artic...  CURATION_FINISHED   \n",
       "EU_32018L2001_Title_0_Chapter_0_Section_0_Artic...  CURATION_FINISHED   \n",
       "EU_32006L0032_Title_0_Chapter_4_Section_0_Artic...  CURATION_FINISHED   \n",
       "EU_32018L0844_Title_0_Chapter_0_Section_0_Artic...  CURATION_FINISHED   \n",
       "EU_32018R1999_Title_0_Chapter_7_Section_3_Artic...  CURATION_FINISHED   \n",
       "EU_32006L0066_Title_0_Chapter_0_Section_0_Artic...  CURATION_FINISHED   \n",
       "EU_32004L0008_Title_0_Chapter_0_Section_0_Artic...  CURATION_FINISHED   \n",
       "EU_32004L0008_Title_0_Chapter_0_Section_0_Artic...  CURATION_FINISHED   \n",
       "EU_32019L0944_Title_0_Chapter_2_Section_0_Artic...  CURATION_FINISHED   \n",
       "EU_32006L0032_Title_0_Chapter_4_Section_0_Artic...  CURATION_FINISHED   \n",
       "EU_32013R0525_Title_0_Chapter_7_Section_0_Artic...  CURATION_FINISHED   \n",
       "EU_32018R1999_Title_0_Chapter_7_Section_3_Artic...  CURATION_FINISHED   \n",
       "EU_32006L0032_Title_0_Chapter_4_Section_0_Artic...  CURATION_FINISHED   \n",
       "EU_32012L0027_Title_0_Chapter_5_Section_0_Artic...  CURATION_FINISHED   \n",
       "EU_32019R0631_Whereas                               CURATION_FINISHED   \n",
       "EU_32006L0066_Title_0_Chapter_0_Section_0_Artic...  CURATION_FINISHED   \n",
       "EU_32009R0079_Title_0_Chapter_0_Section_0_Artic...  CURATION_FINISHED   \n",
       "\n",
       "                                                   Finished_Annotators  \\\n",
       "EU_32009L0028_Title_0_Chapter_0_Section_0_Artic...    [Alisha, Fabian]   \n",
       "EU_32009L0028_Title_0_Chapter_0_Section_0_Artic...    [Alisha, Fabian]   \n",
       "EU_32009R0397_Title_0_Chapter_0_Section_0_Artic...     [Fabian, Fride]   \n",
       "EU_32018L2001_Title_0_Chapter_0_Section_0_Artic...     [Fride, Onerva]   \n",
       "EU_32009L0028_Title_0_Chapter_0_Section_0_Artic...    [Alisha, Fabian]   \n",
       "EU_32018R1999_Title_0_Chapter_7_Section_3_Artic...     [Alisha, Fride]   \n",
       "EU_32004L0008_Title_0_Chapter_0_Section_0_Artic...     [Fabian, Fride]   \n",
       "EU_32009L0028_Title_0_Chapter_0_Section_0_Artic...    [Alisha, Fabian]   \n",
       "EU_32018L0844_Title_0_Chapter_0_Section_0_Artic...    [Fabian, Onerva]   \n",
       "EU_32008R1099_Title_0_Chapter_0_Section_0_Artic...     [Alisha, Fride]   \n",
       "EU_32012L0027_Title_0_Chapter_5_Section_0_Artic...     [Fride, Onerva]   \n",
       "EU_32019R0631_Title_0_Chapter_0_Section_0_Artic...    [Onerva, Fabian]   \n",
       "EU_32014R0421_Title_0_Chapter_0_Section_0_Artic...    [Onerva, Fabian]   \n",
       "EU_32018R1999_Title_0_Chapter_7_Section_3_Artic...     [Alisha, Fride]   \n",
       "EU_32006L0066_Title_0_Chapter_0_Section_0_Artic...     [Fride, Onerva]   \n",
       "EU_32019L0944_Title_0_Chapter_7_Section_5_Artic...    [Alisha, Fabian]   \n",
       "EU_32013R0525_Title_0_Chapter_7_Section_0_Artic...    [Alisha, Fabian]   \n",
       "EU_32012L0027_Title_0_Chapter_4_Section_0_Artic...     [Fride, Onerva]   \n",
       "EU_32009R0079_Title_0_Chapter_0_Section_0_Artic...    [Fabian, Onerva]   \n",
       "EU_32004L0008_Title_0_Chapter_0_Section_0_Artic...     [Fabian, Fride]   \n",
       "EU_32018L2001_Title_0_Chapter_0_Section_0_Artic...     [Fride, Onerva]   \n",
       "EU_32006L0032_Title_0_Chapter_4_Section_0_Artic...     [Fride, Onerva]   \n",
       "EU_32018L0844_Title_0_Chapter_0_Section_0_Artic...    [Fabian, Onerva]   \n",
       "EU_32018R1999_Title_0_Chapter_7_Section_3_Artic...     [Alisha, Fride]   \n",
       "EU_32006L0066_Title_0_Chapter_0_Section_0_Artic...     [Fride, Onerva]   \n",
       "EU_32004L0008_Title_0_Chapter_0_Section_0_Artic...     [Fabian, Fride]   \n",
       "EU_32004L0008_Title_0_Chapter_0_Section_0_Artic...     [Fabian, Fride]   \n",
       "EU_32019L0944_Title_0_Chapter_2_Section_0_Artic...    [Alisha, Fabian]   \n",
       "EU_32006L0032_Title_0_Chapter_4_Section_0_Artic...     [Fride, Onerva]   \n",
       "EU_32013R0525_Title_0_Chapter_7_Section_0_Artic...    [Alisha, Fabian]   \n",
       "EU_32018R1999_Title_0_Chapter_7_Section_3_Artic...     [Alisha, Fride]   \n",
       "EU_32006L0032_Title_0_Chapter_4_Section_0_Artic...     [Fride, Onerva]   \n",
       "EU_32012L0027_Title_0_Chapter_5_Section_0_Artic...     [Fride, Onerva]   \n",
       "EU_32019R0631_Whereas                                 [Onerva, Fabian]   \n",
       "EU_32006L0066_Title_0_Chapter_0_Section_0_Artic...     [Fride, Onerva]   \n",
       "EU_32009R0079_Title_0_Chapter_0_Section_0_Artic...    [Fabian, Onerva]   \n",
       "\n",
       "                                                                                             Curation  \\\n",
       "EU_32009L0028_Title_0_Chapter_0_Section_0_Artic...  [annotator:curation layer:Technologyandapplica...   \n",
       "EU_32009L0028_Title_0_Chapter_0_Section_0_Artic...  [annotator:curation layer:Instrumenttypes type...   \n",
       "EU_32009R0397_Title_0_Chapter_0_Section_0_Artic...  [annotator:curation layer:Policydesigncharacte...   \n",
       "EU_32018L2001_Title_0_Chapter_0_Section_0_Artic...  [annotator:curation layer:Policydesigncharacte...   \n",
       "EU_32009L0028_Title_0_Chapter_0_Section_0_Artic...  [annotator:curation layer:Policydesigncharacte...   \n",
       "EU_32018R1999_Title_0_Chapter_7_Section_3_Artic...  [annotator:curation layer:Policydesigncharacte...   \n",
       "EU_32004L0008_Title_0_Chapter_0_Section_0_Artic...  [annotator:curation layer:Policydesigncharacte...   \n",
       "EU_32009L0028_Title_0_Chapter_0_Section_0_Artic...  [annotator:curation layer:Policydesigncharacte...   \n",
       "EU_32018L0844_Title_0_Chapter_0_Section_0_Artic...  [annotator:curation layer:Policydesigncharacte...   \n",
       "EU_32008R1099_Title_0_Chapter_0_Section_0_Artic...  [annotator:curation layer:Policydesigncharacte...   \n",
       "EU_32012L0027_Title_0_Chapter_5_Section_0_Artic...  [annotator:curation layer:Policydesigncharacte...   \n",
       "EU_32019R0631_Title_0_Chapter_0_Section_0_Artic...  [annotator:curation layer:Policydesigncharacte...   \n",
       "EU_32014R0421_Title_0_Chapter_0_Section_0_Artic...  [annotator:curation layer:Policydesigncharacte...   \n",
       "EU_32018R1999_Title_0_Chapter_7_Section_3_Artic...  [annotator:curation layer:Policydesigncharacte...   \n",
       "EU_32006L0066_Title_0_Chapter_0_Section_0_Artic...  [annotator:curation layer:Policydesigncharacte...   \n",
       "EU_32019L0944_Title_0_Chapter_7_Section_5_Artic...  [annotator:curation layer:Policydesigncharacte...   \n",
       "EU_32013R0525_Title_0_Chapter_7_Section_0_Artic...  [annotator:curation layer:Policydesigncharacte...   \n",
       "EU_32012L0027_Title_0_Chapter_4_Section_0_Artic...  [annotator:curation layer:Technologyandapplica...   \n",
       "EU_32009R0079_Title_0_Chapter_0_Section_0_Artic...  [annotator:curation layer:Policydesigncharacte...   \n",
       "EU_32004L0008_Title_0_Chapter_0_Section_0_Artic...  [annotator:curation layer:Policydesigncharacte...   \n",
       "EU_32018L2001_Title_0_Chapter_0_Section_0_Artic...  [annotator:curation layer:Policydesigncharacte...   \n",
       "EU_32006L0032_Title_0_Chapter_4_Section_0_Artic...  [annotator:curation layer:Policydesigncharacte...   \n",
       "EU_32018L0844_Title_0_Chapter_0_Section_0_Artic...  [annotator:curation layer:Policydesigncharacte...   \n",
       "EU_32018R1999_Title_0_Chapter_7_Section_3_Artic...  [annotator:curation layer:Policydesigncharacte...   \n",
       "EU_32006L0066_Title_0_Chapter_0_Section_0_Artic...  [annotator:curation layer:Policydesigncharacte...   \n",
       "EU_32004L0008_Title_0_Chapter_0_Section_0_Artic...  [annotator:curation layer:Policydesigncharacte...   \n",
       "EU_32004L0008_Title_0_Chapter_0_Section_0_Artic...  [annotator:curation layer:Technologyandapplica...   \n",
       "EU_32019L0944_Title_0_Chapter_2_Section_0_Artic...  [annotator:curation layer:Policydesigncharacte...   \n",
       "EU_32006L0032_Title_0_Chapter_4_Section_0_Artic...  [annotator:curation layer:Policydesigncharacte...   \n",
       "EU_32013R0525_Title_0_Chapter_7_Section_0_Artic...  [annotator:curation layer:Policydesigncharacte...   \n",
       "EU_32018R1999_Title_0_Chapter_7_Section_3_Artic...  [annotator:curation layer:Policydesigncharacte...   \n",
       "EU_32006L0032_Title_0_Chapter_4_Section_0_Artic...  [annotator:curation layer:Policydesigncharacte...   \n",
       "EU_32012L0027_Title_0_Chapter_5_Section_0_Artic...  [annotator:curation layer:Policydesigncharacte...   \n",
       "EU_32019R0631_Whereas                                                                              []   \n",
       "EU_32006L0066_Title_0_Chapter_0_Section_0_Artic...  [annotator:curation layer:Policydesigncharacte...   \n",
       "EU_32009R0079_Title_0_Chapter_0_Section_0_Artic...  [annotator:curation layer:Policydesigncharacte...   \n",
       "\n",
       "                                                                                               Onerva  \\\n",
       "EU_32009L0028_Title_0_Chapter_0_Section_0_Artic...                                                 []   \n",
       "EU_32009L0028_Title_0_Chapter_0_Section_0_Artic...                                                 []   \n",
       "EU_32009R0397_Title_0_Chapter_0_Section_0_Artic...                                                      \n",
       "EU_32018L2001_Title_0_Chapter_0_Section_0_Artic...  [annotator:Onerva layer:Policydesigncharacteri...   \n",
       "EU_32009L0028_Title_0_Chapter_0_Section_0_Artic...                                                 []   \n",
       "EU_32018R1999_Title_0_Chapter_7_Section_3_Artic...                                                      \n",
       "EU_32004L0008_Title_0_Chapter_0_Section_0_Artic...                                                      \n",
       "EU_32009L0028_Title_0_Chapter_0_Section_0_Artic...                                                 []   \n",
       "EU_32018L0844_Title_0_Chapter_0_Section_0_Artic...  [annotator:Onerva layer:Policydesigncharacteri...   \n",
       "EU_32008R1099_Title_0_Chapter_0_Section_0_Artic...  [annotator:Onerva layer:Policydesigncharacteri...   \n",
       "EU_32012L0027_Title_0_Chapter_5_Section_0_Artic...  [annotator:Onerva layer:Policydesigncharacteri...   \n",
       "EU_32019R0631_Title_0_Chapter_0_Section_0_Artic...  [annotator:Onerva layer:Policydesigncharacteri...   \n",
       "EU_32014R0421_Title_0_Chapter_0_Section_0_Artic...  [annotator:Onerva layer:Policydesigncharacteri...   \n",
       "EU_32018R1999_Title_0_Chapter_7_Section_3_Artic...                                                      \n",
       "EU_32006L0066_Title_0_Chapter_0_Section_0_Artic...  [annotator:Onerva layer:Policydesigncharacteri...   \n",
       "EU_32019L0944_Title_0_Chapter_7_Section_5_Artic...  [annotator:Onerva layer:Policydesigncharacteri...   \n",
       "EU_32013R0525_Title_0_Chapter_7_Section_0_Artic...                                                      \n",
       "EU_32012L0027_Title_0_Chapter_4_Section_0_Artic...  [annotator:Onerva layer:Technologyandapplicati...   \n",
       "EU_32009R0079_Title_0_Chapter_0_Section_0_Artic...  [annotator:Onerva layer:Policydesigncharacteri...   \n",
       "EU_32004L0008_Title_0_Chapter_0_Section_0_Artic...                                                      \n",
       "EU_32018L2001_Title_0_Chapter_0_Section_0_Artic...  [annotator:Onerva layer:Policydesigncharacteri...   \n",
       "EU_32006L0032_Title_0_Chapter_4_Section_0_Artic...  [annotator:Onerva layer:Policydesigncharacteri...   \n",
       "EU_32018L0844_Title_0_Chapter_0_Section_0_Artic...  [annotator:Onerva layer:Policydesigncharacteri...   \n",
       "EU_32018R1999_Title_0_Chapter_7_Section_3_Artic...                                                      \n",
       "EU_32006L0066_Title_0_Chapter_0_Section_0_Artic...  [annotator:Onerva layer:Policydesigncharacteri...   \n",
       "EU_32004L0008_Title_0_Chapter_0_Section_0_Artic...                                                      \n",
       "EU_32004L0008_Title_0_Chapter_0_Section_0_Artic...                                                      \n",
       "EU_32019L0944_Title_0_Chapter_2_Section_0_Artic...                                                 []   \n",
       "EU_32006L0032_Title_0_Chapter_4_Section_0_Artic...  [annotator:Onerva layer:Policydesigncharacteri...   \n",
       "EU_32013R0525_Title_0_Chapter_7_Section_0_Artic...                                                      \n",
       "EU_32018R1999_Title_0_Chapter_7_Section_3_Artic...                                                      \n",
       "EU_32006L0032_Title_0_Chapter_4_Section_0_Artic...  [annotator:Onerva layer:Policydesigncharacteri...   \n",
       "EU_32012L0027_Title_0_Chapter_5_Section_0_Artic...  [annotator:Onerva layer:Policydesigncharacteri...   \n",
       "EU_32019R0631_Whereas                               [annotator:Onerva layer:Policydesigncharacteri...   \n",
       "EU_32006L0066_Title_0_Chapter_0_Section_0_Artic...  [annotator:Onerva layer:Policydesigncharacteri...   \n",
       "EU_32009R0079_Title_0_Chapter_0_Section_0_Artic...  [annotator:Onerva layer:Policydesigncharacteri...   \n",
       "\n",
       "                                                                                                Fride  \\\n",
       "EU_32009L0028_Title_0_Chapter_0_Section_0_Artic...                                                      \n",
       "EU_32009L0028_Title_0_Chapter_0_Section_0_Artic...                                                      \n",
       "EU_32009R0397_Title_0_Chapter_0_Section_0_Artic...  [annotator:Fride layer:Policydesigncharacteris...   \n",
       "EU_32018L2001_Title_0_Chapter_0_Section_0_Artic...  [annotator:Fride layer:Policydesigncharacteris...   \n",
       "EU_32009L0028_Title_0_Chapter_0_Section_0_Artic...                                                      \n",
       "EU_32018R1999_Title_0_Chapter_7_Section_3_Artic...  [annotator:Fride layer:Policydesigncharacteris...   \n",
       "EU_32004L0008_Title_0_Chapter_0_Section_0_Artic...  [annotator:Fride layer:Policydesigncharacteris...   \n",
       "EU_32009L0028_Title_0_Chapter_0_Section_0_Artic...                                                      \n",
       "EU_32018L0844_Title_0_Chapter_0_Section_0_Artic...                                                      \n",
       "EU_32008R1099_Title_0_Chapter_0_Section_0_Artic...  [annotator:Fride layer:Policydesigncharacteris...   \n",
       "EU_32012L0027_Title_0_Chapter_5_Section_0_Artic...  [annotator:Fride layer:Policydesigncharacteris...   \n",
       "EU_32019R0631_Title_0_Chapter_0_Section_0_Artic...                                                      \n",
       "EU_32014R0421_Title_0_Chapter_0_Section_0_Artic...                                                      \n",
       "EU_32018R1999_Title_0_Chapter_7_Section_3_Artic...  [annotator:Fride layer:Policydesigncharacteris...   \n",
       "EU_32006L0066_Title_0_Chapter_0_Section_0_Artic...  [annotator:Fride layer:Policydesigncharacteris...   \n",
       "EU_32019L0944_Title_0_Chapter_7_Section_5_Artic...                                                      \n",
       "EU_32013R0525_Title_0_Chapter_7_Section_0_Artic...                                                      \n",
       "EU_32012L0027_Title_0_Chapter_4_Section_0_Artic...  [annotator:Fride layer:Technologyandapplicatio...   \n",
       "EU_32009R0079_Title_0_Chapter_0_Section_0_Artic...                                                      \n",
       "EU_32004L0008_Title_0_Chapter_0_Section_0_Artic...  [annotator:Fride layer:Technologyandapplicatio...   \n",
       "EU_32018L2001_Title_0_Chapter_0_Section_0_Artic...  [annotator:Fride layer:Policydesigncharacteris...   \n",
       "EU_32006L0032_Title_0_Chapter_4_Section_0_Artic...  [annotator:Fride layer:Policydesigncharacteris...   \n",
       "EU_32018L0844_Title_0_Chapter_0_Section_0_Artic...                                                      \n",
       "EU_32018R1999_Title_0_Chapter_7_Section_3_Artic...  [annotator:Fride layer:Policydesigncharacteris...   \n",
       "EU_32006L0066_Title_0_Chapter_0_Section_0_Artic...  [annotator:Fride layer:Policydesigncharacteris...   \n",
       "EU_32004L0008_Title_0_Chapter_0_Section_0_Artic...  [annotator:Fride layer:Policydesigncharacteris...   \n",
       "EU_32004L0008_Title_0_Chapter_0_Section_0_Artic...  [annotator:Fride layer:Technologyandapplicatio...   \n",
       "EU_32019L0944_Title_0_Chapter_2_Section_0_Artic...                                                      \n",
       "EU_32006L0032_Title_0_Chapter_4_Section_0_Artic...  [annotator:Fride layer:Policydesigncharacteris...   \n",
       "EU_32013R0525_Title_0_Chapter_7_Section_0_Artic...                                                      \n",
       "EU_32018R1999_Title_0_Chapter_7_Section_3_Artic...  [annotator:Fride layer:Policydesigncharacteris...   \n",
       "EU_32006L0032_Title_0_Chapter_4_Section_0_Artic...  [annotator:Fride layer:Policydesigncharacteris...   \n",
       "EU_32012L0027_Title_0_Chapter_5_Section_0_Artic...  [annotator:Fride layer:Policydesigncharacteris...   \n",
       "EU_32019R0631_Whereas                                                                                   \n",
       "EU_32006L0066_Title_0_Chapter_0_Section_0_Artic...  [annotator:Fride layer:Policydesigncharacteris...   \n",
       "EU_32009R0079_Title_0_Chapter_0_Section_0_Artic...                                                      \n",
       "\n",
       "                                                   Lynn Sebastian  \\\n",
       "EU_32009L0028_Title_0_Chapter_0_Section_0_Artic...             []   \n",
       "EU_32009L0028_Title_0_Chapter_0_Section_0_Artic...                  \n",
       "EU_32009R0397_Title_0_Chapter_0_Section_0_Artic...                  \n",
       "EU_32018L2001_Title_0_Chapter_0_Section_0_Artic...                  \n",
       "EU_32009L0028_Title_0_Chapter_0_Section_0_Artic...             []   \n",
       "EU_32018R1999_Title_0_Chapter_7_Section_3_Artic...                  \n",
       "EU_32004L0008_Title_0_Chapter_0_Section_0_Artic...                  \n",
       "EU_32009L0028_Title_0_Chapter_0_Section_0_Artic...             []   \n",
       "EU_32018L0844_Title_0_Chapter_0_Section_0_Artic...                  \n",
       "EU_32008R1099_Title_0_Chapter_0_Section_0_Artic...                  \n",
       "EU_32012L0027_Title_0_Chapter_5_Section_0_Artic...                  \n",
       "EU_32019R0631_Title_0_Chapter_0_Section_0_Artic...                  \n",
       "EU_32014R0421_Title_0_Chapter_0_Section_0_Artic...                  \n",
       "EU_32018R1999_Title_0_Chapter_7_Section_3_Artic...                  \n",
       "EU_32006L0066_Title_0_Chapter_0_Section_0_Artic...   []             \n",
       "EU_32019L0944_Title_0_Chapter_7_Section_5_Artic...                  \n",
       "EU_32013R0525_Title_0_Chapter_7_Section_0_Artic...                  \n",
       "EU_32012L0027_Title_0_Chapter_4_Section_0_Artic...                  \n",
       "EU_32009R0079_Title_0_Chapter_0_Section_0_Artic...                  \n",
       "EU_32004L0008_Title_0_Chapter_0_Section_0_Artic...                  \n",
       "EU_32018L2001_Title_0_Chapter_0_Section_0_Artic...                  \n",
       "EU_32006L0032_Title_0_Chapter_4_Section_0_Artic...                  \n",
       "EU_32018L0844_Title_0_Chapter_0_Section_0_Artic...                  \n",
       "EU_32018R1999_Title_0_Chapter_7_Section_3_Artic...                  \n",
       "EU_32006L0066_Title_0_Chapter_0_Section_0_Artic...   []             \n",
       "EU_32004L0008_Title_0_Chapter_0_Section_0_Artic...                  \n",
       "EU_32004L0008_Title_0_Chapter_0_Section_0_Artic...                  \n",
       "EU_32019L0944_Title_0_Chapter_2_Section_0_Artic...                  \n",
       "EU_32006L0032_Title_0_Chapter_4_Section_0_Artic...                  \n",
       "EU_32013R0525_Title_0_Chapter_7_Section_0_Artic...                  \n",
       "EU_32018R1999_Title_0_Chapter_7_Section_3_Artic...                  \n",
       "EU_32006L0032_Title_0_Chapter_4_Section_0_Artic...                  \n",
       "EU_32012L0027_Title_0_Chapter_5_Section_0_Artic...                  \n",
       "EU_32019R0631_Whereas                                               \n",
       "EU_32006L0066_Title_0_Chapter_0_Section_0_Artic...   []             \n",
       "EU_32009R0079_Title_0_Chapter_0_Section_0_Artic...                  \n",
       "\n",
       "                                                                                               Alisha  \\\n",
       "EU_32009L0028_Title_0_Chapter_0_Section_0_Artic...  [annotator:Alisha layer:Technologyandapplicati...   \n",
       "EU_32009L0028_Title_0_Chapter_0_Section_0_Artic...  [annotator:Alisha layer:Instrumenttypes type:I...   \n",
       "EU_32009R0397_Title_0_Chapter_0_Section_0_Artic...                                                      \n",
       "EU_32018L2001_Title_0_Chapter_0_Section_0_Artic...                                                      \n",
       "EU_32009L0028_Title_0_Chapter_0_Section_0_Artic...  [annotator:Alisha layer:Policydesigncharacteri...   \n",
       "EU_32018R1999_Title_0_Chapter_7_Section_3_Artic...  [annotator:Alisha layer:Policydesigncharacteri...   \n",
       "EU_32004L0008_Title_0_Chapter_0_Section_0_Artic...                                                      \n",
       "EU_32009L0028_Title_0_Chapter_0_Section_0_Artic...  [annotator:Alisha layer:Policydesigncharacteri...   \n",
       "EU_32018L0844_Title_0_Chapter_0_Section_0_Artic...                                                      \n",
       "EU_32008R1099_Title_0_Chapter_0_Section_0_Artic...  [annotator:Alisha layer:Policydesigncharacteri...   \n",
       "EU_32012L0027_Title_0_Chapter_5_Section_0_Artic...                                                      \n",
       "EU_32019R0631_Title_0_Chapter_0_Section_0_Artic...                                                      \n",
       "EU_32014R0421_Title_0_Chapter_0_Section_0_Artic...                                                      \n",
       "EU_32018R1999_Title_0_Chapter_7_Section_3_Artic...  [annotator:Alisha layer:Policydesigncharacteri...   \n",
       "EU_32006L0066_Title_0_Chapter_0_Section_0_Artic...                                                      \n",
       "EU_32019L0944_Title_0_Chapter_7_Section_5_Artic...  [annotator:Alisha layer:Policydesigncharacteri...   \n",
       "EU_32013R0525_Title_0_Chapter_7_Section_0_Artic...  [annotator:Alisha layer:Policydesigncharacteri...   \n",
       "EU_32012L0027_Title_0_Chapter_4_Section_0_Artic...                                                      \n",
       "EU_32009R0079_Title_0_Chapter_0_Section_0_Artic...                                                      \n",
       "EU_32004L0008_Title_0_Chapter_0_Section_0_Artic...                                                      \n",
       "EU_32018L2001_Title_0_Chapter_0_Section_0_Artic...                                                      \n",
       "EU_32006L0032_Title_0_Chapter_4_Section_0_Artic...                                                      \n",
       "EU_32018L0844_Title_0_Chapter_0_Section_0_Artic...                                                      \n",
       "EU_32018R1999_Title_0_Chapter_7_Section_3_Artic...  [annotator:Alisha layer:Policydesigncharacteri...   \n",
       "EU_32006L0066_Title_0_Chapter_0_Section_0_Artic...                                                      \n",
       "EU_32004L0008_Title_0_Chapter_0_Section_0_Artic...                                                      \n",
       "EU_32004L0008_Title_0_Chapter_0_Section_0_Artic...                                                      \n",
       "EU_32019L0944_Title_0_Chapter_2_Section_0_Artic...  [annotator:Alisha layer:Policydesigncharacteri...   \n",
       "EU_32006L0032_Title_0_Chapter_4_Section_0_Artic...                                                      \n",
       "EU_32013R0525_Title_0_Chapter_7_Section_0_Artic...  [annotator:Alisha layer:Instrumenttypes type:I...   \n",
       "EU_32018R1999_Title_0_Chapter_7_Section_3_Artic...  [annotator:Alisha layer:Policydesigncharacteri...   \n",
       "EU_32006L0032_Title_0_Chapter_4_Section_0_Artic...                                                      \n",
       "EU_32012L0027_Title_0_Chapter_5_Section_0_Artic...                                                      \n",
       "EU_32019R0631_Whereas                                                                                   \n",
       "EU_32006L0066_Title_0_Chapter_0_Section_0_Artic...                                                      \n",
       "EU_32009R0079_Title_0_Chapter_0_Section_0_Artic...                                                      \n",
       "\n",
       "                                                                                               Fabian  \\\n",
       "EU_32009L0028_Title_0_Chapter_0_Section_0_Artic...  [annotator:Fabian layer:Technologyandapplicati...   \n",
       "EU_32009L0028_Title_0_Chapter_0_Section_0_Artic...  [annotator:Fabian layer:Policydesigncharacteri...   \n",
       "EU_32009R0397_Title_0_Chapter_0_Section_0_Artic...  [annotator:Fabian layer:Policydesigncharacteri...   \n",
       "EU_32018L2001_Title_0_Chapter_0_Section_0_Artic...                                                      \n",
       "EU_32009L0028_Title_0_Chapter_0_Section_0_Artic...                                                 []   \n",
       "EU_32018R1999_Title_0_Chapter_7_Section_3_Artic...                                                      \n",
       "EU_32004L0008_Title_0_Chapter_0_Section_0_Artic...  [annotator:Fabian layer:Policydesigncharacteri...   \n",
       "EU_32009L0028_Title_0_Chapter_0_Section_0_Artic...  [annotator:Fabian layer:Policydesigncharacteri...   \n",
       "EU_32018L0844_Title_0_Chapter_0_Section_0_Artic...  [annotator:Fabian layer:Policydesigncharacteri...   \n",
       "EU_32008R1099_Title_0_Chapter_0_Section_0_Artic...                                                      \n",
       "EU_32012L0027_Title_0_Chapter_5_Section_0_Artic...                                                      \n",
       "EU_32019R0631_Title_0_Chapter_0_Section_0_Artic...  [annotator:Fabian layer:Policydesigncharacteri...   \n",
       "EU_32014R0421_Title_0_Chapter_0_Section_0_Artic...  [annotator:Fabian layer:Policydesigncharacteri...   \n",
       "EU_32018R1999_Title_0_Chapter_7_Section_3_Artic...                                                      \n",
       "EU_32006L0066_Title_0_Chapter_0_Section_0_Artic...                                                      \n",
       "EU_32019L0944_Title_0_Chapter_7_Section_5_Artic...  [annotator:Fabian layer:Policydesigncharacteri...   \n",
       "EU_32013R0525_Title_0_Chapter_7_Section_0_Artic...  [annotator:Fabian layer:Policydesigncharacteri...   \n",
       "EU_32012L0027_Title_0_Chapter_4_Section_0_Artic...                                                      \n",
       "EU_32009R0079_Title_0_Chapter_0_Section_0_Artic...  [annotator:Fabian layer:Policydesigncharacteri...   \n",
       "EU_32004L0008_Title_0_Chapter_0_Section_0_Artic...  [annotator:Fabian layer:Technologyandapplicati...   \n",
       "EU_32018L2001_Title_0_Chapter_0_Section_0_Artic...                                                      \n",
       "EU_32006L0032_Title_0_Chapter_4_Section_0_Artic...                                                      \n",
       "EU_32018L0844_Title_0_Chapter_0_Section_0_Artic...  [annotator:Fabian layer:Policydesigncharacteri...   \n",
       "EU_32018R1999_Title_0_Chapter_7_Section_3_Artic...                                                      \n",
       "EU_32006L0066_Title_0_Chapter_0_Section_0_Artic...                                                      \n",
       "EU_32004L0008_Title_0_Chapter_0_Section_0_Artic...  [annotator:Fabian layer:Policydesigncharacteri...   \n",
       "EU_32004L0008_Title_0_Chapter_0_Section_0_Artic...  [annotator:Fabian layer:Technologyandapplicati...   \n",
       "EU_32019L0944_Title_0_Chapter_2_Section_0_Artic...  [annotator:Fabian layer:Policydesigncharacteri...   \n",
       "EU_32006L0032_Title_0_Chapter_4_Section_0_Artic...                                                      \n",
       "EU_32013R0525_Title_0_Chapter_7_Section_0_Artic...  [annotator:Fabian layer:Policydesigncharacteri...   \n",
       "EU_32018R1999_Title_0_Chapter_7_Section_3_Artic...                                                      \n",
       "EU_32006L0032_Title_0_Chapter_4_Section_0_Artic...                                                      \n",
       "EU_32012L0027_Title_0_Chapter_5_Section_0_Artic...                                                      \n",
       "EU_32019R0631_Whereas                                                                              []   \n",
       "EU_32006L0066_Title_0_Chapter_0_Section_0_Artic...                                                      \n",
       "EU_32009R0079_Title_0_Chapter_0_Section_0_Artic...  [annotator:Fabian layer:Policydesigncharacteri...   \n",
       "\n",
       "                                                   f1_exact_score  \\\n",
       "EU_32009L0028_Title_0_Chapter_0_Section_0_Artic...  Less than two   \n",
       "EU_32009L0028_Title_0_Chapter_0_Section_0_Artic...  Less than two   \n",
       "EU_32009R0397_Title_0_Chapter_0_Section_0_Artic...  Less than two   \n",
       "EU_32018L2001_Title_0_Chapter_0_Section_0_Artic...  Less than two   \n",
       "EU_32009L0028_Title_0_Chapter_0_Section_0_Artic...  Less than two   \n",
       "EU_32018R1999_Title_0_Chapter_7_Section_3_Artic...  Less than two   \n",
       "EU_32004L0008_Title_0_Chapter_0_Section_0_Artic...  Less than two   \n",
       "EU_32009L0028_Title_0_Chapter_0_Section_0_Artic...  Less than two   \n",
       "EU_32018L0844_Title_0_Chapter_0_Section_0_Artic...  Less than two   \n",
       "EU_32008R1099_Title_0_Chapter_0_Section_0_Artic...  Less than two   \n",
       "EU_32012L0027_Title_0_Chapter_5_Section_0_Artic...  Less than two   \n",
       "EU_32019R0631_Title_0_Chapter_0_Section_0_Artic...  Less than two   \n",
       "EU_32014R0421_Title_0_Chapter_0_Section_0_Artic...  Less than two   \n",
       "EU_32018R1999_Title_0_Chapter_7_Section_3_Artic...  Less than two   \n",
       "EU_32006L0066_Title_0_Chapter_0_Section_0_Artic...  Less than two   \n",
       "EU_32019L0944_Title_0_Chapter_7_Section_5_Artic...  Less than two   \n",
       "EU_32013R0525_Title_0_Chapter_7_Section_0_Artic...  Less than two   \n",
       "EU_32012L0027_Title_0_Chapter_4_Section_0_Artic...  Less than two   \n",
       "EU_32009R0079_Title_0_Chapter_0_Section_0_Artic...  Less than two   \n",
       "EU_32004L0008_Title_0_Chapter_0_Section_0_Artic...  Less than two   \n",
       "EU_32018L2001_Title_0_Chapter_0_Section_0_Artic...  Less than two   \n",
       "EU_32006L0032_Title_0_Chapter_4_Section_0_Artic...  Less than two   \n",
       "EU_32018L0844_Title_0_Chapter_0_Section_0_Artic...  Less than two   \n",
       "EU_32018R1999_Title_0_Chapter_7_Section_3_Artic...  Less than two   \n",
       "EU_32006L0066_Title_0_Chapter_0_Section_0_Artic...  Less than two   \n",
       "EU_32004L0008_Title_0_Chapter_0_Section_0_Artic...  Less than two   \n",
       "EU_32004L0008_Title_0_Chapter_0_Section_0_Artic...  Less than two   \n",
       "EU_32019L0944_Title_0_Chapter_2_Section_0_Artic...  Less than two   \n",
       "EU_32006L0032_Title_0_Chapter_4_Section_0_Artic...  Less than two   \n",
       "EU_32013R0525_Title_0_Chapter_7_Section_0_Artic...  Less than two   \n",
       "EU_32018R1999_Title_0_Chapter_7_Section_3_Artic...  Less than two   \n",
       "EU_32006L0032_Title_0_Chapter_4_Section_0_Artic...  Less than two   \n",
       "EU_32012L0027_Title_0_Chapter_5_Section_0_Artic...  Less than two   \n",
       "EU_32019R0631_Whereas                               Less than two   \n",
       "EU_32006L0066_Title_0_Chapter_0_Section_0_Artic...  Less than two   \n",
       "EU_32009R0079_Title_0_Chapter_0_Section_0_Artic...  Less than two   \n",
       "\n",
       "                                                   f1_tokenwise_score  \\\n",
       "EU_32009L0028_Title_0_Chapter_0_Section_0_Artic...      Less than two   \n",
       "EU_32009L0028_Title_0_Chapter_0_Section_0_Artic...      Less than two   \n",
       "EU_32009R0397_Title_0_Chapter_0_Section_0_Artic...      Less than two   \n",
       "EU_32018L2001_Title_0_Chapter_0_Section_0_Artic...      Less than two   \n",
       "EU_32009L0028_Title_0_Chapter_0_Section_0_Artic...      Less than two   \n",
       "EU_32018R1999_Title_0_Chapter_7_Section_3_Artic...      Less than two   \n",
       "EU_32004L0008_Title_0_Chapter_0_Section_0_Artic...      Less than two   \n",
       "EU_32009L0028_Title_0_Chapter_0_Section_0_Artic...      Less than two   \n",
       "EU_32018L0844_Title_0_Chapter_0_Section_0_Artic...      Less than two   \n",
       "EU_32008R1099_Title_0_Chapter_0_Section_0_Artic...      Less than two   \n",
       "EU_32012L0027_Title_0_Chapter_5_Section_0_Artic...      Less than two   \n",
       "EU_32019R0631_Title_0_Chapter_0_Section_0_Artic...      Less than two   \n",
       "EU_32014R0421_Title_0_Chapter_0_Section_0_Artic...      Less than two   \n",
       "EU_32018R1999_Title_0_Chapter_7_Section_3_Artic...      Less than two   \n",
       "EU_32006L0066_Title_0_Chapter_0_Section_0_Artic...      Less than two   \n",
       "EU_32019L0944_Title_0_Chapter_7_Section_5_Artic...      Less than two   \n",
       "EU_32013R0525_Title_0_Chapter_7_Section_0_Artic...      Less than two   \n",
       "EU_32012L0027_Title_0_Chapter_4_Section_0_Artic...      Less than two   \n",
       "EU_32009R0079_Title_0_Chapter_0_Section_0_Artic...      Less than two   \n",
       "EU_32004L0008_Title_0_Chapter_0_Section_0_Artic...      Less than two   \n",
       "EU_32018L2001_Title_0_Chapter_0_Section_0_Artic...      Less than two   \n",
       "EU_32006L0032_Title_0_Chapter_4_Section_0_Artic...      Less than two   \n",
       "EU_32018L0844_Title_0_Chapter_0_Section_0_Artic...      Less than two   \n",
       "EU_32018R1999_Title_0_Chapter_7_Section_3_Artic...      Less than two   \n",
       "EU_32006L0066_Title_0_Chapter_0_Section_0_Artic...      Less than two   \n",
       "EU_32004L0008_Title_0_Chapter_0_Section_0_Artic...      Less than two   \n",
       "EU_32004L0008_Title_0_Chapter_0_Section_0_Artic...      Less than two   \n",
       "EU_32019L0944_Title_0_Chapter_2_Section_0_Artic...      Less than two   \n",
       "EU_32006L0032_Title_0_Chapter_4_Section_0_Artic...      Less than two   \n",
       "EU_32013R0525_Title_0_Chapter_7_Section_0_Artic...      Less than two   \n",
       "EU_32018R1999_Title_0_Chapter_7_Section_3_Artic...      Less than two   \n",
       "EU_32006L0032_Title_0_Chapter_4_Section_0_Artic...      Less than two   \n",
       "EU_32012L0027_Title_0_Chapter_5_Section_0_Artic...      Less than two   \n",
       "EU_32019R0631_Whereas                                   Less than two   \n",
       "EU_32006L0066_Title_0_Chapter_0_Section_0_Artic...      Less than two   \n",
       "EU_32009R0079_Title_0_Chapter_0_Section_0_Artic...      Less than two   \n",
       "\n",
       "                                                   f1_partial_score  \\\n",
       "EU_32009L0028_Title_0_Chapter_0_Section_0_Artic...    Less than two   \n",
       "EU_32009L0028_Title_0_Chapter_0_Section_0_Artic...    Less than two   \n",
       "EU_32009R0397_Title_0_Chapter_0_Section_0_Artic...    Less than two   \n",
       "EU_32018L2001_Title_0_Chapter_0_Section_0_Artic...    Less than two   \n",
       "EU_32009L0028_Title_0_Chapter_0_Section_0_Artic...    Less than two   \n",
       "EU_32018R1999_Title_0_Chapter_7_Section_3_Artic...    Less than two   \n",
       "EU_32004L0008_Title_0_Chapter_0_Section_0_Artic...    Less than two   \n",
       "EU_32009L0028_Title_0_Chapter_0_Section_0_Artic...    Less than two   \n",
       "EU_32018L0844_Title_0_Chapter_0_Section_0_Artic...    Less than two   \n",
       "EU_32008R1099_Title_0_Chapter_0_Section_0_Artic...    Less than two   \n",
       "EU_32012L0027_Title_0_Chapter_5_Section_0_Artic...    Less than two   \n",
       "EU_32019R0631_Title_0_Chapter_0_Section_0_Artic...    Less than two   \n",
       "EU_32014R0421_Title_0_Chapter_0_Section_0_Artic...    Less than two   \n",
       "EU_32018R1999_Title_0_Chapter_7_Section_3_Artic...    Less than two   \n",
       "EU_32006L0066_Title_0_Chapter_0_Section_0_Artic...    Less than two   \n",
       "EU_32019L0944_Title_0_Chapter_7_Section_5_Artic...    Less than two   \n",
       "EU_32013R0525_Title_0_Chapter_7_Section_0_Artic...    Less than two   \n",
       "EU_32012L0027_Title_0_Chapter_4_Section_0_Artic...    Less than two   \n",
       "EU_32009R0079_Title_0_Chapter_0_Section_0_Artic...    Less than two   \n",
       "EU_32004L0008_Title_0_Chapter_0_Section_0_Artic...    Less than two   \n",
       "EU_32018L2001_Title_0_Chapter_0_Section_0_Artic...    Less than two   \n",
       "EU_32006L0032_Title_0_Chapter_4_Section_0_Artic...    Less than two   \n",
       "EU_32018L0844_Title_0_Chapter_0_Section_0_Artic...    Less than two   \n",
       "EU_32018R1999_Title_0_Chapter_7_Section_3_Artic...    Less than two   \n",
       "EU_32006L0066_Title_0_Chapter_0_Section_0_Artic...    Less than two   \n",
       "EU_32004L0008_Title_0_Chapter_0_Section_0_Artic...    Less than two   \n",
       "EU_32004L0008_Title_0_Chapter_0_Section_0_Artic...    Less than two   \n",
       "EU_32019L0944_Title_0_Chapter_2_Section_0_Artic...    Less than two   \n",
       "EU_32006L0032_Title_0_Chapter_4_Section_0_Artic...    Less than two   \n",
       "EU_32013R0525_Title_0_Chapter_7_Section_0_Artic...    Less than two   \n",
       "EU_32018R1999_Title_0_Chapter_7_Section_3_Artic...    Less than two   \n",
       "EU_32006L0032_Title_0_Chapter_4_Section_0_Artic...    Less than two   \n",
       "EU_32012L0027_Title_0_Chapter_5_Section_0_Artic...    Less than two   \n",
       "EU_32019R0631_Whereas                                 Less than two   \n",
       "EU_32006L0066_Title_0_Chapter_0_Section_0_Artic...    Less than two   \n",
       "EU_32009R0079_Title_0_Chapter_0_Section_0_Artic...    Less than two   \n",
       "\n",
       "                                                   f1_heuristic_score  \n",
       "EU_32009L0028_Title_0_Chapter_0_Section_0_Artic...      Less than two  \n",
       "EU_32009L0028_Title_0_Chapter_0_Section_0_Artic...      Less than two  \n",
       "EU_32009R0397_Title_0_Chapter_0_Section_0_Artic...      Less than two  \n",
       "EU_32018L2001_Title_0_Chapter_0_Section_0_Artic...      Less than two  \n",
       "EU_32009L0028_Title_0_Chapter_0_Section_0_Artic...      Less than two  \n",
       "EU_32018R1999_Title_0_Chapter_7_Section_3_Artic...      Less than two  \n",
       "EU_32004L0008_Title_0_Chapter_0_Section_0_Artic...      Less than two  \n",
       "EU_32009L0028_Title_0_Chapter_0_Section_0_Artic...      Less than two  \n",
       "EU_32018L0844_Title_0_Chapter_0_Section_0_Artic...      Less than two  \n",
       "EU_32008R1099_Title_0_Chapter_0_Section_0_Artic...      Less than two  \n",
       "EU_32012L0027_Title_0_Chapter_5_Section_0_Artic...      Less than two  \n",
       "EU_32019R0631_Title_0_Chapter_0_Section_0_Artic...      Less than two  \n",
       "EU_32014R0421_Title_0_Chapter_0_Section_0_Artic...      Less than two  \n",
       "EU_32018R1999_Title_0_Chapter_7_Section_3_Artic...      Less than two  \n",
       "EU_32006L0066_Title_0_Chapter_0_Section_0_Artic...      Less than two  \n",
       "EU_32019L0944_Title_0_Chapter_7_Section_5_Artic...      Less than two  \n",
       "EU_32013R0525_Title_0_Chapter_7_Section_0_Artic...      Less than two  \n",
       "EU_32012L0027_Title_0_Chapter_4_Section_0_Artic...      Less than two  \n",
       "EU_32009R0079_Title_0_Chapter_0_Section_0_Artic...      Less than two  \n",
       "EU_32004L0008_Title_0_Chapter_0_Section_0_Artic...      Less than two  \n",
       "EU_32018L2001_Title_0_Chapter_0_Section_0_Artic...      Less than two  \n",
       "EU_32006L0032_Title_0_Chapter_4_Section_0_Artic...      Less than two  \n",
       "EU_32018L0844_Title_0_Chapter_0_Section_0_Artic...      Less than two  \n",
       "EU_32018R1999_Title_0_Chapter_7_Section_3_Artic...      Less than two  \n",
       "EU_32006L0066_Title_0_Chapter_0_Section_0_Artic...      Less than two  \n",
       "EU_32004L0008_Title_0_Chapter_0_Section_0_Artic...      Less than two  \n",
       "EU_32004L0008_Title_0_Chapter_0_Section_0_Artic...      Less than two  \n",
       "EU_32019L0944_Title_0_Chapter_2_Section_0_Artic...      Less than two  \n",
       "EU_32006L0032_Title_0_Chapter_4_Section_0_Artic...      Less than two  \n",
       "EU_32013R0525_Title_0_Chapter_7_Section_0_Artic...      Less than two  \n",
       "EU_32018R1999_Title_0_Chapter_7_Section_3_Artic...      Less than two  \n",
       "EU_32006L0032_Title_0_Chapter_4_Section_0_Artic...      Less than two  \n",
       "EU_32012L0027_Title_0_Chapter_5_Section_0_Artic...      Less than two  \n",
       "EU_32019R0631_Whereas                                   Less than two  \n",
       "EU_32006L0066_Title_0_Chapter_0_Section_0_Artic...      Less than two  \n",
       "EU_32009R0079_Title_0_Chapter_0_Section_0_Artic...      Less than two  "
      ]
     },
     "execution_count": 7,
     "metadata": {},
     "output_type": "execute_result"
    }
   ],
   "source": [
    "test_evaluator.df[test_evaluator.df['f1_heuristic_score']== 'Less than two']"
   ]
  },
  {
   "cell_type": "code",
   "execution_count": 64,
   "metadata": {},
   "outputs": [],
   "source": [
    "repo = repository.from_repository_name('EU_32009R0079_Title_0_Chapter_0_Section_0_Article_14')"
   ]
  },
  {
   "cell_type": "code",
   "execution_count": 69,
   "metadata": {},
   "outputs": [],
   "source": [
    "taglist = test_evaluator.get_span_list(repo, columns = 'annotators')"
   ]
  },
  {
   "cell_type": "code",
   "execution_count": 70,
   "metadata": {},
   "outputs": [
    {
     "data": {
      "text/plain": [
       "[annotator:Onerva layer:Policydesigncharacteristics type:Reference tag:Ref_PolicyAmended start:26 stop:46 text:directive 2007/46/ec,\n",
       " annotator:Onerva layer:Policydesigncharacteristics type:Reference tag:Ref_PolicyAmended start:73 stop:93 text:directive 2007/46/ec,\n",
       " annotator:Fabian layer:Policydesigncharacteristics type:Reference tag:Ref_PolicyAmended start:26 stop:46 text:directive 2007/46/ec,\n",
       " annotator:Fabian layer:Policydesigncharacteristics type:Reference tag:Ref_PolicyAmended start:73 stop:93 text:directive 2007/46/ec]"
      ]
     },
     "execution_count": 70,
     "metadata": {},
     "output_type": "execute_result"
    }
   ],
   "source": [
    "taglist"
   ]
  },
  {
   "cell_type": "code",
   "execution_count": 71,
   "metadata": {},
   "outputs": [
    {
     "data": {
      "text/plain": [
       "1.0"
      ]
     },
     "execution_count": 71,
     "metadata": {},
     "output_type": "execute_result"
    }
   ],
   "source": [
    "test_evaluator.get_score_spanlist(taglist, scoring_metric = 'f1_heuristic')"
   ]
  },
  {
   "cell_type": "code",
   "execution_count": null,
   "metadata": {},
   "outputs": [],
   "source": []
  },
  {
   "cell_type": "markdown",
   "metadata": {},
   "source": [
    "## test mean and so on"
   ]
  },
  {
   "cell_type": "code",
   "execution_count": null,
   "metadata": {},
   "outputs": [],
   "source": []
  },
  {
   "cell_type": "code",
   "execution_count": 5,
   "metadata": {},
   "outputs": [
    {
     "data": {
      "text/plain": [
       "0.5257439495621415"
      ]
     },
     "execution_count": 5,
     "metadata": {},
     "output_type": "execute_result"
    }
   ],
   "source": [
    "test_evaluator.df['f1_heuristic_score'].mean()"
   ]
  },
  {
   "cell_type": "code",
   "execution_count": 8,
   "metadata": {},
   "outputs": [
    {
     "data": {
      "text/plain": [
       "['Onerva', 'Fride', 'Lynn', 'Sebastian', 'Alisha', 'Fabian']"
      ]
     },
     "execution_count": 8,
     "metadata": {},
     "output_type": "execute_result"
    }
   ],
   "source": [
    "list(test_evaluator.annotators)"
   ]
  },
  {
   "cell_type": "code",
   "execution_count": 6,
   "metadata": {},
   "outputs": [
    {
     "data": {
      "text/plain": [
       "{'f1_exact_score': 0.36249329712132256,\n",
       " 'f1_tokenwise_score': 0.34105328317949757,\n",
       " 'f1_partial_score': 0.4583232024589149,\n",
       " 'f1_heuristic_score': 0.4710149746445954}"
      ]
     },
     "execution_count": 6,
     "metadata": {},
     "output_type": "execute_result"
    }
   ],
   "source": [
    "test_evaluator.get_total_score_df()"
   ]
  },
  {
   "cell_type": "markdown",
   "metadata": {},
   "source": [
    "## manually weight by tokens"
   ]
  },
  {
   "cell_type": "code",
   "execution_count": 14,
   "metadata": {},
   "outputs": [
    {
     "data": {
      "text/plain": [
       "0.43498474865730186"
      ]
     },
     "execution_count": 14,
     "metadata": {},
     "output_type": "execute_result"
    }
   ],
   "source": [
    "(test_evaluator.df.Tokens.map(len) * test_evaluator.df['f1_heuristic_score']).sum()/test_evaluator.df.Tokens.map(len).sum()"
   ]
  },
  {
   "cell_type": "code",
   "execution_count": 23,
   "metadata": {},
   "outputs": [
    {
     "data": {
      "text/plain": [
       "{'f1_exact_score': 0.44000200168713405,\n",
       " 'f1_tokenwise_score': 0.41740705057915567,\n",
       " 'f1_partial_score': 0.5523320574063757,\n",
       " 'f1_heuristic_score': 0.5707395395681694}"
      ]
     },
     "execution_count": 23,
     "metadata": {},
     "output_type": "execute_result"
    }
   ],
   "source": [
    "test_evaluator.get_total_score_df(annotator = 'Fride')\n",
    "\n"
   ]
  },
  {
   "cell_type": "code",
   "execution_count": 35,
   "metadata": {},
   "outputs": [
    {
     "data": {
      "text/plain": [
       "89667"
      ]
     },
     "execution_count": 35,
     "metadata": {},
     "output_type": "execute_result"
    }
   ],
   "source": [
    "len(list(chain.from_iterable(test_evaluator.df[test_evaluator.df.apply(lambda x: 'Fride' in x['Finished_Annotators'],axis=1)]['Tokens'])))"
   ]
  },
  {
   "cell_type": "code",
   "execution_count": 12,
   "metadata": {},
   "outputs": [
    {
     "data": {
      "text/plain": [
       "{'f1_exact_score': 0.3866019558426462,\n",
       " 'f1_tokenwise_score': 0.3606760490629486,\n",
       " 'f1_partial_score': 0.4724904115077784,\n",
       " 'f1_heuristic_score': 0.48350542408235087}"
      ]
     },
     "execution_count": 12,
     "metadata": {},
     "output_type": "execute_result"
    }
   ],
   "source": [
    "test_evaluator.get_total_score_df(annotator = 'Onerva')"
   ]
  },
  {
   "cell_type": "code",
   "execution_count": 36,
   "metadata": {},
   "outputs": [
    {
     "data": {
      "text/plain": [
       "92783"
      ]
     },
     "execution_count": 36,
     "metadata": {},
     "output_type": "execute_result"
    }
   ],
   "source": [
    "len(list(chain.from_iterable(test_evaluator.df[test_evaluator.df.apply(lambda x: 'Onerva' in x['Finished_Annotators'],axis=1)]['Tokens'])))"
   ]
  },
  {
   "cell_type": "code",
   "execution_count": 13,
   "metadata": {},
   "outputs": [
    {
     "data": {
      "text/plain": [
       "{'f1_exact_score': 0.3162741708561042,\n",
       " 'f1_tokenwise_score': 0.29996345415692593,\n",
       " 'f1_partial_score': 0.41452255021106865,\n",
       " 'f1_heuristic_score': 0.4287776789001382}"
      ]
     },
     "execution_count": 13,
     "metadata": {},
     "output_type": "execute_result"
    }
   ],
   "source": [
    "test_evaluator.get_total_score_df(annotator = 'Alisha')"
   ]
  },
  {
   "cell_type": "code",
   "execution_count": 37,
   "metadata": {},
   "outputs": [
    {
     "data": {
      "text/plain": [
       "90043"
      ]
     },
     "execution_count": 37,
     "metadata": {},
     "output_type": "execute_result"
    }
   ],
   "source": [
    "len(list(chain.from_iterable(test_evaluator.df[test_evaluator.df.apply(lambda x: 'Alisha' in x['Finished_Annotators'],axis=1)]['Tokens'])))"
   ]
  },
  {
   "cell_type": "code",
   "execution_count": 14,
   "metadata": {},
   "outputs": [
    {
     "data": {
      "text/plain": [
       "{'f1_exact_score': 0.2790951995802669,\n",
       " 'f1_tokenwise_score': 0.2530926032730131,\n",
       " 'f1_partial_score': 0.3542716766171339,\n",
       " 'f1_heuristic_score': 0.3610743221823385}"
      ]
     },
     "execution_count": 14,
     "metadata": {},
     "output_type": "execute_result"
    }
   ],
   "source": [
    "test_evaluator.get_total_score_df(annotator = 'Fabian')"
   ]
  },
  {
   "cell_type": "code",
   "execution_count": 38,
   "metadata": {},
   "outputs": [
    {
     "data": {
      "text/plain": [
       "84112"
      ]
     },
     "execution_count": 38,
     "metadata": {},
     "output_type": "execute_result"
    }
   ],
   "source": [
    "len(list(chain.from_iterable(test_evaluator.df[test_evaluator.df.apply(lambda x: 'Fabian' in x['Finished_Annotators'],axis=1)]['Tokens'])))"
   ]
  },
  {
   "cell_type": "code",
   "execution_count": 34,
   "metadata": {},
   "outputs": [
    {
     "data": {
      "text/plain": [
       "0.46125"
      ]
     },
     "execution_count": 34,
     "metadata": {},
     "output_type": "execute_result"
    }
   ],
   "source": [
    "(0.571 + 0.484 + 0.429 + 0.361)/4 "
   ]
  },
  {
   "cell_type": "markdown",
   "metadata": {},
   "source": [
    "### test if weighted mean of all annotator score yields total score"
   ]
  },
  {
   "cell_type": "code",
   "execution_count": 13,
   "metadata": {},
   "outputs": [
    {
     "data": {
      "text/plain": [
       "0.4713746827949463"
      ]
     },
     "execution_count": 13,
     "metadata": {},
     "output_type": "execute_result"
    }
   ],
   "source": [
    "annotators = ['Onerva', 'Alisha', 'Fabian', 'Fride']\n",
    "tot_score = 0\n",
    "tokens = 0\n",
    "for ann in annotators:\n",
    "    n_tokens = len(list(chain.from_iterable(test_evaluator.df[test_evaluator.df.apply(lambda x: ann in x['Finished_Annotators'],axis=1)]['Tokens'])))\n",
    "    score = test_evaluator.get_score_annotator(ann)['f1_heuristic_score']\n",
    "    \n",
    "    tot_score += score * n_tokens\n",
    "    tokens += n_tokens\n",
    "    \n",
    "tot_score / tokens\n",
    "    "
   ]
  },
  {
   "cell_type": "code",
   "execution_count": null,
   "metadata": {},
   "outputs": [],
   "source": []
  },
  {
   "cell_type": "code",
   "execution_count": null,
   "metadata": {},
   "outputs": [],
   "source": []
  },
  {
   "cell_type": "code",
   "execution_count": 19,
   "metadata": {},
   "outputs": [
    {
     "name": "stdout",
     "output_type": "stream",
     "text": [
      "EU_32009L0028_Title_0_Chapter_0_Section_0_Article_12\n",
      "metric f1_exact  span_score: 0.5\n",
      "metric f1_exact  df_score: nan\n",
      "-----------------------\n",
      "EU_32009L0028_Title_0_Chapter_0_Section_0_Article_12\n",
      "metric f1_tokenwise  span_score: 0.3333333333333333\n",
      "metric f1_tokenwise  df_score: nan\n",
      "-----------------------\n",
      "EU_32009L0028_Title_0_Chapter_0_Section_0_Article_12\n",
      "metric f1_partial  span_score: 0.5\n",
      "metric f1_partial  df_score: nan\n",
      "-----------------------\n",
      "EU_32009L0028_Title_0_Chapter_0_Section_0_Article_12\n",
      "metric f1_heuristic  span_score: 0.5\n",
      "metric f1_heuristic  df_score: nan\n",
      "-----------------------\n",
      "EU_32009L0028_Title_0_Chapter_0_Section_0_Article_20\n",
      "metric f1_exact  span_score: 0.0\n",
      "metric f1_exact  df_score: nan\n",
      "-----------------------\n",
      "EU_32009L0028_Title_0_Chapter_0_Section_0_Article_20\n",
      "metric f1_tokenwise  span_score: 0.30769230769230765\n",
      "metric f1_tokenwise  df_score: nan\n",
      "-----------------------\n",
      "EU_32009L0028_Title_0_Chapter_0_Section_0_Article_20\n",
      "metric f1_partial  span_score: 0.5\n",
      "metric f1_partial  df_score: nan\n",
      "-----------------------\n",
      "EU_32009L0028_Title_0_Chapter_0_Section_0_Article_20\n",
      "metric f1_heuristic  span_score: 0.5\n",
      "metric f1_heuristic  df_score: nan\n",
      "-----------------------\n",
      "EU_32009R0397_Title_0_Chapter_0_Section_0_Article_02\n",
      "metric f1_exact  span_score: 0.0\n",
      "metric f1_exact  df_score: nan\n",
      "-----------------------\n",
      "EU_32009R0397_Title_0_Chapter_0_Section_0_Article_02\n",
      "metric f1_tokenwise  span_score: 0.36111111111111116\n",
      "metric f1_tokenwise  df_score: nan\n",
      "-----------------------\n",
      "EU_32009R0397_Title_0_Chapter_0_Section_0_Article_02\n",
      "metric f1_partial  span_score: 0.6666666666666666\n",
      "metric f1_partial  df_score: nan\n",
      "-----------------------\n",
      "EU_32009R0397_Title_0_Chapter_0_Section_0_Article_02\n",
      "metric f1_heuristic  span_score: 0.6666666666666666\n",
      "metric f1_heuristic  df_score: nan\n",
      "-----------------------\n"
     ]
    },
    {
     "ename": "ZeroDivisionError",
     "evalue": "division by zero",
     "output_type": "error",
     "traceback": [
      "\u001b[0;31m---------------------------------------------------------------------------\u001b[0m",
      "\u001b[0;31mZeroDivisionError\u001b[0m                         Traceback (most recent call last)",
      "\u001b[0;32m<ipython-input-19-49d5b4d08831>\u001b[0m in \u001b[0;36m<module>\u001b[0;34m\u001b[0m\n\u001b[1;32m      8\u001b[0m \u001b[0;34m\u001b[0m\u001b[0m\n\u001b[1;32m      9\u001b[0m     \u001b[0;32mfor\u001b[0m \u001b[0mscoring_metric\u001b[0m \u001b[0;32min\u001b[0m \u001b[0mscoring_metrics\u001b[0m\u001b[0;34m:\u001b[0m\u001b[0;34m\u001b[0m\u001b[0;34m\u001b[0m\u001b[0m\n\u001b[0;32m---> 10\u001b[0;31m         \u001b[0mget_span_score\u001b[0m \u001b[0;34m=\u001b[0m \u001b[0mtest_evaluator\u001b[0m\u001b[0;34m.\u001b[0m\u001b[0mget_score_spanlist\u001b[0m\u001b[0;34m(\u001b[0m\u001b[0mspan_list\u001b[0m\u001b[0;34m,\u001b[0m \u001b[0mscoring_metric\u001b[0m\u001b[0;34m)\u001b[0m\u001b[0;34m\u001b[0m\u001b[0;34m\u001b[0m\u001b[0m\n\u001b[0m\u001b[1;32m     11\u001b[0m         \u001b[0mscore_df\u001b[0m \u001b[0;34m=\u001b[0m \u001b[0mrow\u001b[0m\u001b[0;34m[\u001b[0m\u001b[0mscoring_metric\u001b[0m \u001b[0;34m+\u001b[0m \u001b[0;34m'_score'\u001b[0m\u001b[0;34m]\u001b[0m\u001b[0;34m\u001b[0m\u001b[0;34m\u001b[0m\u001b[0m\n\u001b[1;32m     12\u001b[0m         \u001b[0;32mif\u001b[0m \u001b[0mnp\u001b[0m\u001b[0;34m.\u001b[0m\u001b[0mround\u001b[0m\u001b[0;34m(\u001b[0m\u001b[0mget_span_score\u001b[0m\u001b[0;34m,\u001b[0m \u001b[0;36m3\u001b[0m\u001b[0;34m)\u001b[0m \u001b[0;34m!=\u001b[0m \u001b[0mnp\u001b[0m\u001b[0;34m.\u001b[0m\u001b[0mround\u001b[0m\u001b[0;34m(\u001b[0m\u001b[0mscore_df\u001b[0m\u001b[0;34m,\u001b[0m \u001b[0;36m3\u001b[0m\u001b[0;34m)\u001b[0m\u001b[0;34m:\u001b[0m\u001b[0;34m\u001b[0m\u001b[0;34m\u001b[0m\u001b[0m\n",
      "\u001b[0;32m~/NLP_spark/src/d03_inter_annotator_agreement/inter_annotator_agremment.py\u001b[0m in \u001b[0;36mget_score_spanlist\u001b[0;34m(self, span_list, scoring_metric, weight_by_tokens, **optional_tuple_properties)\u001b[0m\n\u001b[1;32m    189\u001b[0m             \u001b[0mtotal_tokens\u001b[0m \u001b[0;34m+=\u001b[0m \u001b[0mn_tokens\u001b[0m\u001b[0;34m\u001b[0m\u001b[0;34m\u001b[0m\u001b[0m\n\u001b[1;32m    190\u001b[0m \u001b[0;34m\u001b[0m\u001b[0m\n\u001b[0;32m--> 191\u001b[0;31m         \u001b[0;32mreturn\u001b[0m \u001b[0mtotal_score\u001b[0m \u001b[0;34m/\u001b[0m \u001b[0mtotal_tokens\u001b[0m\u001b[0;34m\u001b[0m\u001b[0;34m\u001b[0m\u001b[0m\n\u001b[0m\u001b[1;32m    192\u001b[0m \u001b[0;34m\u001b[0m\u001b[0m\n\u001b[1;32m    193\u001b[0m \u001b[0;34m\u001b[0m\u001b[0m\n",
      "\u001b[0;31mZeroDivisionError\u001b[0m: division by zero"
     ]
    }
   ],
   "source": [
    "#test all articles\n",
    "scoring_metrics = ['f1_exact', 'f1_tokenwise', 'f1_partial', 'f1_heuristic']\n",
    "\n",
    "for index, row in test_evaluator.df.iterrows():\n",
    "\n",
    "    repo = repository.from_repository_name(index)\n",
    "    span_list = test_evaluator.get_span_list(repo, columns = 'annotators')\n",
    "\n",
    "    for scoring_metric in scoring_metrics:\n",
    "        get_span_score = test_evaluator.get_score_spanlist(span_list, scoring_metric)\n",
    "        score_df = row[scoring_metric + '_score']\n",
    "        if np.round(get_span_score, 3) != np.round(score_df, 3):\n",
    "            print(index)\n",
    "            print('metric', scoring_metric, ' span_score:', get_span_score)\n",
    "            print('metric', scoring_metric,' df_score:' , score_df)\n",
    "            print('-----------------------')"
   ]
  },
  {
   "cell_type": "code",
   "execution_count": null,
   "metadata": {},
   "outputs": [],
   "source": [
    "#test all articles\n",
    "scoring_metrics = ['f1_exact', 'f1_tokenwise', 'f1_partial', 'f1_heuristic']\n",
    "\n",
    "for index, row in test_evaluator.df.iterrows():\n",
    "\n",
    "    repo = repository.from_repository_name(index)\n",
    "    span_list = test_evaluator.get_span_list(repo, columns = 'annotators')\n",
    "\n",
    "    for scoring_metric in scoring_metrics:\n",
    "        get_span_score = test_evaluator.get_score_spanlist(span_list, scoring_metric)\n",
    "        score_df = row[scoring_metric + '_score']\n",
    "        if np.round(get_span_score, 3) != np.round(score_df, 3):\n",
    "            print(index)\n",
    "            print('metric', scoring_metric, ' span_score:', get_span_score)\n",
    "            print('metric', scoring_metric,' df_score:' , score_df)\n",
    "            print('-----------------------')\n"
   ]
  },
  {
   "cell_type": "code",
   "execution_count": null,
   "metadata": {},
   "outputs": [],
   "source": [
    "rep = repository.from_repository_name('EU_32014R0256_Whereas')\n",
    "test_evaluator.get_span_list(rep, columns= 'annotators')"
   ]
  },
  {
   "cell_type": "code",
   "execution_count": null,
   "metadata": {},
   "outputs": [],
   "source": []
  },
  {
   "cell_type": "code",
   "execution_count": null,
   "metadata": {},
   "outputs": [],
   "source": []
  },
  {
   "cell_type": "code",
   "execution_count": null,
   "metadata": {},
   "outputs": [],
   "source": []
  },
  {
   "cell_type": "code",
   "execution_count": null,
   "metadata": {},
   "outputs": [],
   "source": [
    "treshhold = np.median([(span_.start + span_.stop)/ 2 for span_ in span_list])\n",
    "spans_overlapping_treshhold = [span_ for span_ in span_list if span_.start < treshhold and span_.stop > treshhold]\n",
    "\n",
    "\n",
    "i = 1\n",
    "while len(spans_overlapping_treshhold) != 0:\n",
    "    treshhold = treshhold + (i * (-1) ** (i-1))\n",
    "    spans_overlapping_treshhold = [span_ for span_ in span_list if span_.start <= treshhold and span_.stop >= treshhold]\n",
    "    i +=1\n",
    "\n",
    "\n",
    "span_list_1 = [span_ for span_ in span_list if span_.stop < treshhold]\n",
    "span_list_2 = [span_ for span_ in span_list if span_.start > treshhold]\n",
    "\n",
    "if len(span_list_1) + len(span_list_2) != len(span_list):\n",
    "    raise ValueError('The splittet spanlist have not the same length as the initial spanlist')\n"
   ]
  },
  {
   "cell_type": "code",
   "execution_count": null,
   "metadata": {},
   "outputs": [],
   "source": [
    "lenght_list = "
   ]
  },
  {
   "cell_type": "code",
   "execution_count": null,
   "metadata": {},
   "outputs": [],
   "source": [
    "\n",
    "test_evaluator.get_score_spanlist(span_list, 'pygamma')"
   ]
  },
  {
   "cell_type": "code",
   "execution_count": null,
   "metadata": {},
   "outputs": [],
   "source": [
    "(test_evaluator.get_score_spanlist(span_list_1, 'pygamma') * len(span_list_1) + test_evaluator.get_score_spanlist(span_list_2, 'pygamma') * len(span_list_2))/len(span_list)"
   ]
  },
  {
   "cell_type": "code",
   "execution_count": null,
   "metadata": {},
   "outputs": [],
   "source": [
    "test_evaluator.get_score_spanlist(span_list_2, 'pygamma')"
   ]
  },
  {
   "cell_type": "code",
   "execution_count": null,
   "metadata": {},
   "outputs": [],
   "source": [
    "#how to get means core\n",
    "score_cols = [col for col in test_evaluator.df.columns if 'score' in col]\n",
    "for col in score_cols:\n",
    "    print(col, ' : ', test_evaluator.df[col].mean(skipna = True))"
   ]
  },
  {
   "cell_type": "code",
   "execution_count": null,
   "metadata": {},
   "outputs": [],
   "source": [
    "#test weighting score by tokens\n",
    "test_evaluator.get_total_score_df()"
   ]
  },
  {
   "cell_type": "code",
   "execution_count": null,
   "metadata": {},
   "outputs": [],
   "source": [
    "test_dir = repository.from_repository_name('EU_32018L2001')\n",
    "span_list = test_evaluator.get_span_list(test_dir, columns='annotators')\n",
    "test_evaluator.get_score_spanlist(span_list, 'f1_heuristic')\n",
    "\n"
   ]
  },
  {
   "cell_type": "code",
   "execution_count": null,
   "metadata": {},
   "outputs": [],
   "source": [
    "#test all articles\n",
    "for index, row in df.iterrows():\n",
    "    repo = repository.from_repository_name(row.index)"
   ]
  },
  {
   "cell_type": "code",
   "execution_count": null,
   "metadata": {},
   "outputs": [],
   "source": []
  },
  {
   "cell_type": "code",
   "execution_count": null,
   "metadata": {},
   "outputs": [],
   "source": []
  },
  {
   "cell_type": "code",
   "execution_count": null,
   "metadata": {},
   "outputs": [],
   "source": []
  },
  {
   "cell_type": "code",
   "execution_count": null,
   "metadata": {},
   "outputs": [],
   "source": []
  },
  {
   "cell_type": "code",
   "execution_count": null,
   "metadata": {},
   "outputs": [],
   "source": []
  },
  {
   "cell_type": "code",
   "execution_count": null,
   "metadata": {},
   "outputs": [],
   "source": []
  },
  {
   "cell_type": "code",
   "execution_count": null,
   "metadata": {},
   "outputs": [],
   "source": []
  },
  {
   "cell_type": "code",
   "execution_count": null,
   "metadata": {},
   "outputs": [],
   "source": []
  },
  {
   "cell_type": "code",
   "execution_count": null,
   "metadata": {},
   "outputs": [],
   "source": [
    "#should be the same as above\n",
    "score_cols = [col for col in test_evaluator.df.columns if 'score' in col]\n",
    "for score_col in score_cols:\n",
    "    sum_ = 0\n",
    "    total_tokens = 0\n",
    "    count = 0\n",
    "    for i, row in test_evaluator.df.iterrows():\n",
    "        sum_ = np.sum(sum_, len(row['Tokens']) * row[score_col])\n",
    "        if row[score_col] != np.nan:\n",
    "            total_tokens += len(row['Tokens'])\n",
    "            count +=1\n",
    "    print(score_col, sum_/total_tokens)\n",
    "    print(count)\n"
   ]
  },
  {
   "cell_type": "markdown",
   "metadata": {},
   "source": [
    "## Testing get_score_spanlist"
   ]
  },
  {
   "cell_type": "code",
   "execution_count": null,
   "metadata": {},
   "outputs": [],
   "source": [
    "#itnitialize test evaluator again, this time with debug \n",
    "test_evaluator_debug = Inter_Annotator_Agreement(stat_df, DEBUG = True)\n",
    "scoring_metrics = ['f1_exact', 'f1_tokenwise', 'f1_partial', 'f1_heuristic']\n",
    "\n",
    "test_evaluator_debug.append_total_score_per_article_no_parallel(scoring_metrics, append_to_df = True, weight_by_tokens = True)"
   ]
  },
  {
   "cell_type": "code",
   "execution_count": null,
   "metadata": {},
   "outputs": [],
   "source": [
    "test_evaluator_debug.df"
   ]
  },
  {
   "cell_type": "code",
   "execution_count": null,
   "metadata": {},
   "outputs": [],
   "source": [
    "test_dir = repository()\n"
   ]
  },
  {
   "cell_type": "code",
   "execution_count": null,
   "metadata": {},
   "outputs": [],
   "source": [
    "#get all tags of fabian and curation\n",
    "span_list_Fabian = test_evaluator_debug.get_span_list(test_dir, ['Curation', 'Fabian'])"
   ]
  },
  {
   "cell_type": "code",
   "execution_count": null,
   "metadata": {},
   "outputs": [],
   "source": [
    "#get all tags of Fride and curation\n",
    "span_list_fride = test_evaluator_debug.get_span_list(test_dir, ['Curation', 'Fride'])"
   ]
  },
  {
   "cell_type": "code",
   "execution_count": null,
   "metadata": {},
   "outputs": [],
   "source": [
    "#inter annotator agreement to curation\n",
    "test_evaluator_debug.get_score_spanlist(span_list_fride, 'pygamma', 'f1_partial', weight_by_tokens = True)"
   ]
  },
  {
   "cell_type": "code",
   "execution_count": null,
   "metadata": {},
   "outputs": [],
   "source": [
    "#should be the same as above\n",
    "Fride_df = test_evaluator_debug.df[test_evaluator.df.apply(lambda x : len(x['Fride']) >=2 and len(x['Curation']) >=2,axis=1)]\n",
    "scoring_metric = 'f1_partial'\n",
    "score = 0\n",
    "total_tokens = 0\n",
    "\n",
    "for i, row in Fride_df.iterrows():\n",
    "    span_list = list(chain.from_iterable(row[['Fride', 'Curation']]))\n",
    "    score_article = _get_score_article(span_list, 'pygamma', scoring_metric)\n",
    "    score += score_article * len(row['Tokens'])\n",
    "    total_tokens += len(row['Tokens'])\n",
    "print(score/total_tokens)\n"
   ]
  },
  {
   "cell_type": "code",
   "execution_count": null,
   "metadata": {},
   "outputs": [],
   "source": [
    "#inter annotator agreement to curation\n",
    "test_evaluator_debug.get_score_spanlist(span_list_Fabian, 'pygamma', 'f1_partial', weight_by_tokens = True)"
   ]
  },
  {
   "cell_type": "code",
   "execution_count": null,
   "metadata": {},
   "outputs": [],
   "source": [
    "Fabian_df = test_evaluator_debug.df[test_evaluator.df.apply(lambda x : len(x['Fabian']) >=2 and len(x['Curation']) >=2,axis=1)]\n",
    "scoring_metric = 'f1_partial'\n",
    "score = 0\n",
    "total_tokens = 0\n",
    "\n",
    "for i, row in Fabian_df.iterrows():\n",
    "    span_list = list(chain.from_iterable(row[['Fabian', 'Curation']]))\n",
    "    score_article = _get_score_article(span_list, 'pygamma', scoring_metric)\n",
    "    score += score_article * len(row['Tokens'])\n",
    "    total_tokens += len(row['Tokens'])\n",
    "print(score/total_tokens)"
   ]
  },
  {
   "cell_type": "code",
   "execution_count": null,
   "metadata": {},
   "outputs": [],
   "source": [
    "#should be the same as above\n",
    "score_cols = [col for col in test_evaluator_debug.df.columns if 'score' in col]\n",
    "for score_col in score_cols:\n",
    "    sum_ = 0\n",
    "    total_tokens = 0\n",
    "    count = 0\n",
    "    for i, row in test_evaluator_debug.df.iterrows():\n",
    "        sum_ += len(row['Tokens']) * row[score_col]\n",
    "        total_tokens += len(row['Tokens'])\n",
    "        count +=1\n",
    "    print(score_col, sum_/total_tokens)\n",
    "\n"
   ]
  },
  {
   "cell_type": "code",
   "execution_count": null,
   "metadata": {},
   "outputs": [],
   "source": [
    "test_evaluator_debug.get_total_score_df()"
   ]
  },
  {
   "cell_type": "code",
   "execution_count": null,
   "metadata": {},
   "outputs": [],
   "source": [
    "scoring_metrics = ['f1_exact', 'f1_tokenwise', 'f1_partial', 'f1_heuristic']\n",
    "for scoring_metric in scoring_metrics:\n",
    "    print(test_evaluator.df[scoring_metric + '_score'].isna().sum())\n"
   ]
  },
  {
   "cell_type": "code",
   "execution_count": null,
   "metadata": {},
   "outputs": [],
   "source": [
    "test_dir = repository()\n",
    "span_list = test_evaluator_debug.get_span_list(test_dir, columns = 'annotators')\n",
    "test_evaluator_debug.get_score_spanlist(span_list, 'f1_heuristic')"
   ]
  },
  {
   "cell_type": "code",
   "execution_count": null,
   "metadata": {},
   "outputs": [],
   "source": [
    "test_dir= repository.from_repository_name('EU_32018R1999_Title_0_Chapter_7_Section_3_Article_56')\n",
    "span_list = "
   ]
  },
  {
   "cell_type": "code",
   "execution_count": null,
   "metadata": {},
   "outputs": [],
   "source": [
    "#test all articles\n",
    "scoring_metrics = ['f1_exact', 'f1_tokenwise', 'f1_partial', 'f1_heuristic']\n",
    "\n",
    "for index, row in test_evaluator_debug.df.iterrows():\n",
    "    repo = repository.from_repository_name(index)\n",
    "    span_list = test_evaluator_debug.get_span_list(repo, columns = 'annotators')\n",
    "\n",
    "    for scoring_metric in scoring_metrics:\n",
    "        get_span_score = test_evaluator_debug.get_score_spanlist(span_list, scoring_metric)\n",
    "        score_df = row[scoring_metric + '_score']\n",
    "        if np.round(get_span_score, 3) != np.round(score_df, 3):\n",
    "            print(index)\n",
    "            print('span_score:', get_span_score)\n",
    "            print('df_score:' , score_df)\n"
   ]
  },
  {
   "cell_type": "markdown",
   "metadata": {},
   "source": [
    "## Test get_score_anotator"
   ]
  },
  {
   "cell_type": "code",
   "execution_count": null,
   "metadata": {},
   "outputs": [],
   "source": [
    "test_evaluator_debug.get_score_annotator('Fride')"
   ]
  },
  {
   "cell_type": "code",
   "execution_count": null,
   "metadata": {},
   "outputs": [],
   "source": [
    "annotator_df = test_evaluator_debug.df[test_evaluator.df.apply(lambda x : len(x['Fride']) >=2,axis=1)]"
   ]
  },
  {
   "cell_type": "code",
   "execution_count": null,
   "metadata": {},
   "outputs": [],
   "source": [
    "#should be the same as this one\n",
    "sum = 0\n",
    "for i, row in annotator_df.iterrows():\n",
    "    sum += len(row['Tokens']) * row['pygamma_matching_f1_partial_score']\n",
    "sum/len(list(chain.from_iterable(annotator_df['Tokens'])))"
   ]
  },
  {
   "cell_type": "code",
   "execution_count": null,
   "metadata": {},
   "outputs": [],
   "source": [
    "sum = 0\n",
    "for i, row in annotator_df.iterrows():\n",
    "    sum += len(row['Tokens']) * row['pygamma_matching_f1_tokenwise_score']\n",
    "sum/len(list(chain.from_iterable(annotator_df['Tokens'])))"
   ]
  },
  {
   "cell_type": "markdown",
   "metadata": {},
   "source": [
    "## Test heuristic_f1"
   ]
  },
  {
   "cell_type": "code",
   "execution_count": null,
   "metadata": {},
   "outputs": [],
   "source": [
    "test_dir = test_evaluator_debug.df['Curation'][2][1].rep\n",
    "span_list = test_evaluator_debug.get_span_list(test_dir, ['Fabian', 'Alisha'])\n",
    "from src.d03_inter_annotator_agreement.scoring_functions import f1_heuristic"
   ]
  },
  {
   "cell_type": "code",
   "execution_count": null,
   "metadata": {},
   "outputs": [],
   "source": [
    "f1_heuristic(span_list, ( 'Alisha', 'Fabian'))"
   ]
  },
  {
   "cell_type": "code",
   "execution_count": null,
   "metadata": {},
   "outputs": [],
   "source": [
    "test_dir = repository.from_repository_name('EU_32006L0032_Title_0_Chapter_1_Section_0_Article_03')\n",
    "span_list = test_evaluator_debug.get_span_list(test_dir, ['Onerva', 'Fride'])\n",
    "\n"
   ]
  },
  {
   "cell_type": "code",
   "execution_count": null,
   "metadata": {},
   "outputs": [],
   "source": [
    "f1_heuristic(span_list, ('Fride', 'Onerva'))"
   ]
  },
  {
   "cell_type": "code",
   "execution_count": null,
   "metadata": {},
   "outputs": [],
   "source": [
    "test_dir = repository.from_repository_name('EU_32019R0631_Title_0_Chapter_0_Section_0_Article_16')"
   ]
  },
  {
   "cell_type": "code",
   "execution_count": null,
   "metadata": {},
   "outputs": [],
   "source": [
    "test_evaluator_debug.get_score_spanlist(span_list, 'f1_heuristic')"
   ]
  },
  {
   "cell_type": "code",
   "execution_count": null,
   "metadata": {},
   "outputs": [],
   "source": [
    "import json\n",
    "\n",
    "from definitions import ROOT_DIR\n",
    "\n",
    "\n",
    "data_path = os.path.join(ROOT_DIR,'data')\n",
    "\n",
    "project_log = 'annotator_data/exportedproject540378092697116778.json'\n",
    "\n",
    "\n",
    "\n",
    "article_state = {'articles': []}\n",
    "with open(os.path.join(data_path, project_log)) as json_file:\n",
    "    article_state_data = json.load(json_file)\n",
    "    for article in article_state_data['source_documents']:\n",
    "\n",
    "        policy_name = article['name']\n",
    "        policy_state = article['state']\n",
    "        finished_coders = [doc_article['user'] for doc_article in article_state_data['annotation_documents'] if doc_article['name'] == policy_name and doc_article['state'] == 'FINISHED']\n",
    "\n",
    "        this_state = {'name': article['name'],\n",
    "                       'finished_coders': finished_coders}\n",
    "        article_state['articles'].append(this_state)\n",
    "                 \n",
    "\n",
    "    \n",
    "    \n"
   ]
  },
  {
   "cell_type": "code",
   "execution_count": null,
   "metadata": {},
   "outputs": [],
   "source": []
  },
  {
   "cell_type": "code",
   "execution_count": null,
   "metadata": {},
   "outputs": [],
   "source": [
    "import json\n",
    "\n",
    "from definitions import ROOT_DIR\n",
    "\n",
    "\n",
    "data_path = os.path.join(ROOT_DIR,'data')\n",
    "\n",
    "project_log = 'annotator_data/exportedproject540378092697116778.json'\n",
    "\n",
    "\n",
    "\n",
    "article_state = {}\n",
    "with open(os.path.join(data_path, project_log)) as json_file:\n",
    "    article_state_data = json.load(json_file)\n",
    "    for article in article_state_data['source_documents']:\n",
    "\n",
    "        policy_name = article['name']\n",
    "        policy_state = article['state']\n",
    "        finished_coders = [doc_article['user'] for doc_article in article_state_data['annotation_documents'] if doc_article['name'] == policy_name and doc_article['state'] == 'FINISHED']\n",
    "\n",
    "        this_state = {'state': article['state'],\n",
    "                       'finished_coders': finished_coders}\n",
    "        article_state[policy_name] = this_state"
   ]
  },
  {
   "cell_type": "code",
   "execution_count": null,
   "metadata": {},
   "outputs": [],
   "source": [
    "article_state['EU_32012L0027_Title_0_Chapter_2_Section_0_Article_05.txt']\n",
    " \n"
   ]
  },
  {
   "cell_type": "code",
   "execution_count": null,
   "metadata": {},
   "outputs": [],
   "source": [
    "[article['user'] for article in data['annotation_documents'] if article['name'] == 'EU_32006L0066_Title_0_Chapter_0_Section_0_Article_01.txt' and article['state'] == 'FINISHED']\n"
   ]
  },
  {
   "cell_type": "code",
   "execution_count": null,
   "metadata": {},
   "outputs": [],
   "source": [
    "for article in data['annotation_documents']:\n",
    "    print(article)"
   ]
  },
  {
   "cell_type": "code",
   "execution_count": null,
   "metadata": {},
   "outputs": [],
   "source": []
  }
 ],
 "metadata": {
  "kernelspec": {
   "display_name": "Python 3.7.10 ('nlp_spark')",
   "language": "python",
   "name": "python3"
  },
  "language_info": {
   "codemirror_mode": {
    "name": "ipython",
    "version": 3
   },
   "file_extension": ".py",
   "mimetype": "text/x-python",
   "name": "python",
   "nbconvert_exporter": "python",
   "pygments_lexer": "ipython3",
   "version": "3.7.10"
  },
  "vscode": {
   "interpreter": {
    "hash": "f1357e5d6940800ae93a3fd23162ea93a77a6c89f02c68504dcfa719d1ffeee2"
   }
  }
 },
 "nbformat": 4,
 "nbformat_minor": 4
}
