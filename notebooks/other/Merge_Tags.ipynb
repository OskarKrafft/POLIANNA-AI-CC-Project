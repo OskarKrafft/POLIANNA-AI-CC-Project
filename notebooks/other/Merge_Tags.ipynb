{
 "cells": [
  {
   "cell_type": "code",
   "execution_count": 1,
   "metadata": {},
   "outputs": [],
   "source": [
    "import sys\n",
    "import pandas as pd\n",
    "import collections \n",
    "import os\n",
    "import numpy as np\n",
    "from itertools import chain\n",
    "from itertools import combinations\n",
    "sys.path.append('/home/jkuettel/NLP_spark/src')\n",
    "sys.path.append('/home/jkuettel/NLP_spark')\n",
    "from src.experiment_utils.helper_classes import token, span, repository\n",
    "from src.d02_corpus_statistics.corpus import Corpus\n",
    "from src.d03_inter_annotator_agreement.inter_annotator_agremment import Inter_Annotator_Agreement, _get_score_article, row_to_span_list \n",
    "\n",
    "\n",
    "from definitions import ROOT_DIR\n"
   ]
  },
  {
   "cell_type": "code",
   "execution_count": 2,
   "metadata": {},
   "outputs": [
    {
     "data": {
      "text/html": [
       "<div>\n",
       "<style scoped>\n",
       "    .dataframe tbody tr th:only-of-type {\n",
       "        vertical-align: middle;\n",
       "    }\n",
       "\n",
       "    .dataframe tbody tr th {\n",
       "        vertical-align: top;\n",
       "    }\n",
       "\n",
       "    .dataframe thead th {\n",
       "        text-align: right;\n",
       "    }\n",
       "</style>\n",
       "<table border=\"1\" class=\"dataframe\">\n",
       "  <thead>\n",
       "    <tr style=\"text-align: right;\">\n",
       "      <th></th>\n",
       "      <th>Policy</th>\n",
       "      <th>Text</th>\n",
       "      <th>Tokens</th>\n",
       "      <th>Article_State</th>\n",
       "      <th>Finished_Annotators</th>\n",
       "      <th>Curation</th>\n",
       "      <th>Onerva</th>\n",
       "      <th>Fride</th>\n",
       "      <th>Lynn</th>\n",
       "      <th>Sebastian</th>\n",
       "      <th>Alisha</th>\n",
       "      <th>Fabian</th>\n",
       "    </tr>\n",
       "  </thead>\n",
       "  <tbody>\n",
       "    <tr>\n",
       "      <th>EU_32006L0032_Title_0_Chapter_1_Section_0_Article_03</th>\n",
       "      <td></td>\n",
       "      <td>article 3\\r\\ndefinitions\\r\\nfor the purposes o...</td>\n",
       "      <td>[start:0 stop:7 text:article tag_count:0, star...</td>\n",
       "      <td>CURATION_FINISHED</td>\n",
       "      <td>[Fride, Onerva]</td>\n",
       "      <td>[annotator:curation layer:Instrumenttypes type...</td>\n",
       "      <td>[annotator:Onerva layer:Instrumenttypes type:I...</td>\n",
       "      <td>[annotator:Fride layer:Instrumenttypes type:In...</td>\n",
       "      <td></td>\n",
       "      <td></td>\n",
       "      <td></td>\n",
       "      <td></td>\n",
       "    </tr>\n",
       "    <tr>\n",
       "      <th>EU_32006L0066_Title_0_Chapter_0_Section_0_Article_25</th>\n",
       "      <td></td>\n",
       "      <td>article 25\\r\\npenalties\\r\\nmember states shall...</td>\n",
       "      <td>[start:0 stop:7 text:article tag_count:0, star...</td>\n",
       "      <td>CURATION_FINISHED</td>\n",
       "      <td>[Fride, Onerva]</td>\n",
       "      <td>[annotator:curation layer:Instrumenttypes type...</td>\n",
       "      <td>[annotator:Onerva layer:Instrumenttypes type:I...</td>\n",
       "      <td>[annotator:Fride layer:Instrumenttypes type:In...</td>\n",
       "      <td>[]</td>\n",
       "      <td></td>\n",
       "      <td></td>\n",
       "      <td></td>\n",
       "    </tr>\n",
       "    <tr>\n",
       "      <th>EU_32009L0028_Title_0_Chapter_0_Section_0_Article_07</th>\n",
       "      <td></td>\n",
       "      <td>article 7\\r\\njoint projects between member sta...</td>\n",
       "      <td>[start:0 stop:7 text:article tag_count:0, star...</td>\n",
       "      <td>CURATION_FINISHED</td>\n",
       "      <td>[Alisha, Fabian]</td>\n",
       "      <td>[annotator:curation layer:Policydesigncharacte...</td>\n",
       "      <td>[]</td>\n",
       "      <td></td>\n",
       "      <td></td>\n",
       "      <td>[]</td>\n",
       "      <td>[annotator:Alisha layer:Policydesigncharacteri...</td>\n",
       "      <td>[annotator:Fabian layer:Policydesigncharacteri...</td>\n",
       "    </tr>\n",
       "    <tr>\n",
       "      <th>EU_32019L0944_Title_0_Chapter_6_Section_3_Article_47</th>\n",
       "      <td></td>\n",
       "      <td>article 47\\r\\nindependence of the transmission...</td>\n",
       "      <td>[start:0 stop:7 text:article tag_count:0, star...</td>\n",
       "      <td>CURATION_FINISHED</td>\n",
       "      <td>[Alisha, Onerva]</td>\n",
       "      <td>[annotator:curation layer:Instrumenttypes type...</td>\n",
       "      <td>[annotator:Onerva layer:Instrumenttypes type:I...</td>\n",
       "      <td></td>\n",
       "      <td></td>\n",
       "      <td></td>\n",
       "      <td>[annotator:Alisha layer:Instrumenttypes type:I...</td>\n",
       "      <td></td>\n",
       "    </tr>\n",
       "    <tr>\n",
       "      <th>EU_32019R0631_Title_0_Chapter_0_Section_0_Article_14</th>\n",
       "      <td></td>\n",
       "      <td>article 14\\r\\nadjustment of m0 and tm0 values\\...</td>\n",
       "      <td>[start:0 stop:7 text:article tag_count:0, star...</td>\n",
       "      <td>CURATION_FINISHED</td>\n",
       "      <td>[Onerva, Fabian]</td>\n",
       "      <td>[annotator:curation layer:Instrumenttypes type...</td>\n",
       "      <td>[annotator:Onerva layer:Instrumenttypes type:I...</td>\n",
       "      <td></td>\n",
       "      <td></td>\n",
       "      <td></td>\n",
       "      <td></td>\n",
       "      <td>[annotator:Fabian layer:Policydesigncharacteri...</td>\n",
       "    </tr>\n",
       "  </tbody>\n",
       "</table>\n",
       "</div>"
      ],
      "text/plain": [
       "                                                   Policy  \\\n",
       "EU_32006L0032_Title_0_Chapter_1_Section_0_Artic...          \n",
       "EU_32006L0066_Title_0_Chapter_0_Section_0_Artic...          \n",
       "EU_32009L0028_Title_0_Chapter_0_Section_0_Artic...          \n",
       "EU_32019L0944_Title_0_Chapter_6_Section_3_Artic...          \n",
       "EU_32019R0631_Title_0_Chapter_0_Section_0_Artic...          \n",
       "\n",
       "                                                                                                 Text  \\\n",
       "EU_32006L0032_Title_0_Chapter_1_Section_0_Artic...  article 3\\r\\ndefinitions\\r\\nfor the purposes o...   \n",
       "EU_32006L0066_Title_0_Chapter_0_Section_0_Artic...  article 25\\r\\npenalties\\r\\nmember states shall...   \n",
       "EU_32009L0028_Title_0_Chapter_0_Section_0_Artic...  article 7\\r\\njoint projects between member sta...   \n",
       "EU_32019L0944_Title_0_Chapter_6_Section_3_Artic...  article 47\\r\\nindependence of the transmission...   \n",
       "EU_32019R0631_Title_0_Chapter_0_Section_0_Artic...  article 14\\r\\nadjustment of m0 and tm0 values\\...   \n",
       "\n",
       "                                                                                               Tokens  \\\n",
       "EU_32006L0032_Title_0_Chapter_1_Section_0_Artic...  [start:0 stop:7 text:article tag_count:0, star...   \n",
       "EU_32006L0066_Title_0_Chapter_0_Section_0_Artic...  [start:0 stop:7 text:article tag_count:0, star...   \n",
       "EU_32009L0028_Title_0_Chapter_0_Section_0_Artic...  [start:0 stop:7 text:article tag_count:0, star...   \n",
       "EU_32019L0944_Title_0_Chapter_6_Section_3_Artic...  [start:0 stop:7 text:article tag_count:0, star...   \n",
       "EU_32019R0631_Title_0_Chapter_0_Section_0_Artic...  [start:0 stop:7 text:article tag_count:0, star...   \n",
       "\n",
       "                                                        Article_State  \\\n",
       "EU_32006L0032_Title_0_Chapter_1_Section_0_Artic...  CURATION_FINISHED   \n",
       "EU_32006L0066_Title_0_Chapter_0_Section_0_Artic...  CURATION_FINISHED   \n",
       "EU_32009L0028_Title_0_Chapter_0_Section_0_Artic...  CURATION_FINISHED   \n",
       "EU_32019L0944_Title_0_Chapter_6_Section_3_Artic...  CURATION_FINISHED   \n",
       "EU_32019R0631_Title_0_Chapter_0_Section_0_Artic...  CURATION_FINISHED   \n",
       "\n",
       "                                                   Finished_Annotators  \\\n",
       "EU_32006L0032_Title_0_Chapter_1_Section_0_Artic...     [Fride, Onerva]   \n",
       "EU_32006L0066_Title_0_Chapter_0_Section_0_Artic...     [Fride, Onerva]   \n",
       "EU_32009L0028_Title_0_Chapter_0_Section_0_Artic...    [Alisha, Fabian]   \n",
       "EU_32019L0944_Title_0_Chapter_6_Section_3_Artic...    [Alisha, Onerva]   \n",
       "EU_32019R0631_Title_0_Chapter_0_Section_0_Artic...    [Onerva, Fabian]   \n",
       "\n",
       "                                                                                             Curation  \\\n",
       "EU_32006L0032_Title_0_Chapter_1_Section_0_Artic...  [annotator:curation layer:Instrumenttypes type...   \n",
       "EU_32006L0066_Title_0_Chapter_0_Section_0_Artic...  [annotator:curation layer:Instrumenttypes type...   \n",
       "EU_32009L0028_Title_0_Chapter_0_Section_0_Artic...  [annotator:curation layer:Policydesigncharacte...   \n",
       "EU_32019L0944_Title_0_Chapter_6_Section_3_Artic...  [annotator:curation layer:Instrumenttypes type...   \n",
       "EU_32019R0631_Title_0_Chapter_0_Section_0_Artic...  [annotator:curation layer:Instrumenttypes type...   \n",
       "\n",
       "                                                                                               Onerva  \\\n",
       "EU_32006L0032_Title_0_Chapter_1_Section_0_Artic...  [annotator:Onerva layer:Instrumenttypes type:I...   \n",
       "EU_32006L0066_Title_0_Chapter_0_Section_0_Artic...  [annotator:Onerva layer:Instrumenttypes type:I...   \n",
       "EU_32009L0028_Title_0_Chapter_0_Section_0_Artic...                                                 []   \n",
       "EU_32019L0944_Title_0_Chapter_6_Section_3_Artic...  [annotator:Onerva layer:Instrumenttypes type:I...   \n",
       "EU_32019R0631_Title_0_Chapter_0_Section_0_Artic...  [annotator:Onerva layer:Instrumenttypes type:I...   \n",
       "\n",
       "                                                                                                Fride  \\\n",
       "EU_32006L0032_Title_0_Chapter_1_Section_0_Artic...  [annotator:Fride layer:Instrumenttypes type:In...   \n",
       "EU_32006L0066_Title_0_Chapter_0_Section_0_Artic...  [annotator:Fride layer:Instrumenttypes type:In...   \n",
       "EU_32009L0028_Title_0_Chapter_0_Section_0_Artic...                                                      \n",
       "EU_32019L0944_Title_0_Chapter_6_Section_3_Artic...                                                      \n",
       "EU_32019R0631_Title_0_Chapter_0_Section_0_Artic...                                                      \n",
       "\n",
       "                                                   Lynn Sebastian  \\\n",
       "EU_32006L0032_Title_0_Chapter_1_Section_0_Artic...                  \n",
       "EU_32006L0066_Title_0_Chapter_0_Section_0_Artic...   []             \n",
       "EU_32009L0028_Title_0_Chapter_0_Section_0_Artic...             []   \n",
       "EU_32019L0944_Title_0_Chapter_6_Section_3_Artic...                  \n",
       "EU_32019R0631_Title_0_Chapter_0_Section_0_Artic...                  \n",
       "\n",
       "                                                                                               Alisha  \\\n",
       "EU_32006L0032_Title_0_Chapter_1_Section_0_Artic...                                                      \n",
       "EU_32006L0066_Title_0_Chapter_0_Section_0_Artic...                                                      \n",
       "EU_32009L0028_Title_0_Chapter_0_Section_0_Artic...  [annotator:Alisha layer:Policydesigncharacteri...   \n",
       "EU_32019L0944_Title_0_Chapter_6_Section_3_Artic...  [annotator:Alisha layer:Instrumenttypes type:I...   \n",
       "EU_32019R0631_Title_0_Chapter_0_Section_0_Artic...                                                      \n",
       "\n",
       "                                                                                               Fabian  \n",
       "EU_32006L0032_Title_0_Chapter_1_Section_0_Artic...                                                     \n",
       "EU_32006L0066_Title_0_Chapter_0_Section_0_Artic...                                                     \n",
       "EU_32009L0028_Title_0_Chapter_0_Section_0_Artic...  [annotator:Fabian layer:Policydesigncharacteri...  \n",
       "EU_32019L0944_Title_0_Chapter_6_Section_3_Artic...                                                     \n",
       "EU_32019R0631_Title_0_Chapter_0_Section_0_Artic...  [annotator:Fabian layer:Policydesigncharacteri...  "
      ]
     },
     "execution_count": 2,
     "metadata": {},
     "output_type": "execute_result"
    }
   ],
   "source": [
    "    \n",
    "dataframe_dir = os.path.join(ROOT_DIR,'data/02_processed_to_dataframe', 'preprocessed_dataframe.pkl')\n",
    "stat_df = pd.read_pickle(dataframe_dir)\n",
    "stat_df.head()"
   ]
  },
  {
   "cell_type": "code",
   "execution_count": 19,
   "metadata": {},
   "outputs": [
    {
     "data": {
      "text/plain": [
       "policy:EU_32009L0028 title:Title_0 chapter:Chapter_0 section:Section_0 article:Article_24"
      ]
     },
     "execution_count": 19,
     "metadata": {},
     "output_type": "execute_result"
    }
   ],
   "source": [
    "rep = repository.from_repository_name('EU_32009L0028_Title_0_Chapter_0_Section_0_Article_24')\n",
    "rep1 = repository(policy='EU_32009L0028', article = 'Article_24' )\n",
    "test_corpus = Corpus(stat_df)\n"
   ]
  },
  {
   "cell_type": "code",
   "execution_count": 31,
   "metadata": {},
   "outputs": [
    {
     "data": {
      "text/plain": [
       "[annotator:Alisha layer:Instrumenttypes type:InstrumentType_2 tag:Edu_Outreach start:12 stop:33 text:transparency platform,\n",
       " annotator:Alisha layer:Policydesigncharacteristics type:Resource tag:Resource_Other start:12 stop:33 text:transparency platform]"
      ]
     },
     "execution_count": 31,
     "metadata": {},
     "output_type": "execute_result"
    }
   ],
   "source": [
    "\n",
    "[tag for tag in test_corpus.get_span_list(rep, columns = 'Alisha') if tag.stop < 34]"
   ]
  },
  {
   "cell_type": "code",
   "execution_count": 32,
   "metadata": {},
   "outputs": [
    {
     "data": {
      "text/plain": [
       "[annotator:curation layer:Instrumenttypes type:InstrumentType tag:Edu_Outreach start:12 stop:33 text:transparency platform,\n",
       " annotator:curation layer:Policydesigncharacteristics type:Resource tag:Resource_Other start:12 stop:33 text:transparency platform,\n",
       " annotator:Alisha layer:Instrumenttypes type:InstrumentType_2 tag:Edu_Outreach start:12 stop:33 text:transparency platform,\n",
       " annotator:Alisha layer:Policydesigncharacteristics type:Resource tag:Resource_Other start:12 stop:33 text:transparency platform]"
      ]
     },
     "execution_count": 32,
     "metadata": {},
     "output_type": "execute_result"
    }
   ],
   "source": [
    "[tag for tag in test_corpus.get_span_list(rep, columns = ['Curation', 'Alisha']) if tag.stop < 34]"
   ]
  },
  {
   "cell_type": "code",
   "execution_count": 24,
   "metadata": {},
   "outputs": [
    {
     "data": {
      "text/plain": [
       "annotator:curation layer:Instrumenttypes type:InstrumentType tag:Edu_Outreach start:12 stop:33 text:transparency platform"
      ]
     },
     "execution_count": 24,
     "metadata": {},
     "output_type": "execute_result"
    }
   ],
   "source": [
    "test_corpus.get_span_list(rep, item = 'tag', value = 'Edu_Outreach' )[0]"
   ]
  },
  {
   "cell_type": "code",
   "execution_count": 25,
   "metadata": {},
   "outputs": [
    {
     "data": {
      "text/plain": [
       "annotator:Alisha layer:Instrumenttypes type:InstrumentType_2 tag:Edu_Outreach start:12 stop:33 text:transparency platform"
      ]
     },
     "execution_count": 25,
     "metadata": {},
     "output_type": "execute_result"
    }
   ],
   "source": [
    "test_corpus.get_span_list(rep, item = 'tag', value = 'Edu_Outreach' )[4]"
   ]
  },
  {
   "cell_type": "code",
   "execution_count": 9,
   "metadata": {},
   "outputs": [
    {
     "data": {
      "text/plain": [
       "'Trump lost the 2020 presidential election to Biden but refused to concede. He falsely claimed that there was widespread electoral fraud and attempted to overturn the results, pressuring government officials, mounting scores of unsuccessful legal challenges, and obstructing the presidential transition. On January 6, 2021, Trump urged his supporters to march to the Capitol, which hundreds then attacked, resulting in multiple deaths and interrupting the electoral vote count. On January 13, the House of Representatives impeached Trump a second time, for incitement of insurrection, making him the only federal officeholder in American history to be impeached twice. The Senate acquitted Trump again on February 13, after he had already left office. Scholars and historians rank Trump as one of the worst presidents in American history.'"
      ]
     },
     "execution_count": 9,
     "metadata": {},
     "output_type": "execute_result"
    }
   ],
   "source": [
    "import spacy\n",
    "test_str = 'Trump lost the 2020 presidential election to Biden but refused to concede. He falsely claimed that there was widespread electoral fraud and attempted to overturn the results, pressuring government officials, mounting scores of unsuccessful legal challenges, and obstructing the presidential transition. On January 6, 2021, Trump urged his supporters to march to the Capitol, which hundreds then attacked, resulting in multiple deaths and interrupting the electoral vote count. On January 13, the House of Representatives impeached Trump a second time, for incitement of insurrection, making him the only federal officeholder in American history to be impeached twice. The Senate acquitted Trump again on February 13, after he had already left office. Scholars and historians rank Trump as one of the worst presidents in American history.'\n",
    "nlp = spacy.load('en_core_web_sm')\n",
    "doc = nlp(test_str)\n",
    "test_str"
   ]
  },
  {
   "cell_type": "code",
   "execution_count": 8,
   "metadata": {},
   "outputs": [
    {
     "data": {
      "text/plain": [
       "[Trump lost the 2020 presidential election to Biden but refused to concede.,\n",
       " He falsely claimed that there was widespread electoral fraud and attempted to overturn the results, pressuring government officials, mounting scores of unsuccessful legal challenges, and obstructing the presidential transition.,\n",
       " On January 6, 2021, Trump urged his supporters to march to the Capitol, which hundreds then attacked, resulting in multiple deaths and interrupting the electoral vote count.,\n",
       " On January 13, the House of Representatives impeached Trump a second time, for incitement of insurrection, making him the only federal officeholder in American history to be impeached twice.,\n",
       " The Senate acquitted Trump again on February 13, after he had already left office.,\n",
       " Scholars and historians rank Trump as one of the worst presidents in American history.]"
      ]
     },
     "execution_count": 8,
     "metadata": {},
     "output_type": "execute_result"
    }
   ],
   "source": [
    "list(doc.sents)\n"
   ]
  },
  {
   "cell_type": "code",
   "execution_count": null,
   "metadata": {},
   "outputs": [],
   "source": []
  }
 ],
 "metadata": {
  "interpreter": {
   "hash": "f1357e5d6940800ae93a3fd23162ea93a77a6c89f02c68504dcfa719d1ffeee2"
  },
  "kernelspec": {
   "display_name": "Python 3.7.10 64-bit ('nlp_spark': conda)",
   "language": "python",
   "name": "python3"
  },
  "language_info": {
   "codemirror_mode": {
    "name": "ipython",
    "version": 3
   },
   "file_extension": ".py",
   "mimetype": "text/x-python",
   "name": "python",
   "nbconvert_exporter": "python",
   "pygments_lexer": "ipython3",
   "version": "3.7.10"
  },
  "orig_nbformat": 4
 },
 "nbformat": 4,
 "nbformat_minor": 2
}
