{
 "cells": [
  {
   "cell_type": "markdown",
   "metadata": {},
   "source": [
    "# Notebook to calculate Inter Annotator Agreement"
   ]
  },
  {
   "cell_type": "markdown",
   "metadata": {},
   "source": [
    "### Import the libraries"
   ]
  },
  {
   "cell_type": "code",
   "execution_count": 1,
   "metadata": {},
   "outputs": [],
   "source": [
    "import sys\n",
    "import pandas as pd\n",
    "import collections \n",
    "import os\n",
    "import numpy as np\n",
    "from itertools import chain\n",
    "from itertools import combinations\n",
    "sys.path.insert(0, '..')\n",
    "from src.experiment_utils.helper_classes import token, span, repository\n",
    "from src.d02_corpus_statistics.corpus import Corpus\n",
    "from src.d03_inter_annotator_agreement.inter_annotator_agremment import Inter_Annotator_Agreement, _get_score_article\n",
    "from definitions import df_annotation_marker\n",
    "from src.d03_inter_annotator_agreement.inter_annotator_agremment import row_to_span_list, keep_valid_anotations\n",
    "from src.d03_inter_annotator_agreement.scoring_functions import create_scoring_matrix\n",
    "\n",
    "from definitions import ROOT_DIR\n"
   ]
  },
  {
   "cell_type": "markdown",
   "metadata": {},
   "source": [
    "## Small Tutorial"
   ]
  },
  {
   "cell_type": "markdown",
   "metadata": {},
   "source": [
    "Load the dataframe stat_df"
   ]
  },
  {
   "cell_type": "code",
   "execution_count": 2,
   "metadata": {},
   "outputs": [
    {
     "data": {
      "text/html": [
       "<div>\n",
       "<style scoped>\n",
       "    .dataframe tbody tr th:only-of-type {\n",
       "        vertical-align: middle;\n",
       "    }\n",
       "\n",
       "    .dataframe tbody tr th {\n",
       "        vertical-align: top;\n",
       "    }\n",
       "\n",
       "    .dataframe thead th {\n",
       "        text-align: right;\n",
       "    }\n",
       "</style>\n",
       "<table border=\"1\" class=\"dataframe\">\n",
       "  <thead>\n",
       "    <tr style=\"text-align: right;\">\n",
       "      <th></th>\n",
       "      <th>Policy</th>\n",
       "      <th>Text</th>\n",
       "      <th>Tokens</th>\n",
       "      <th>Article_State</th>\n",
       "      <th>Finished_Annotators</th>\n",
       "      <th>Curation</th>\n",
       "      <th>Alisha</th>\n",
       "      <th>Fride</th>\n",
       "      <th>Onerva</th>\n",
       "      <th>Fabian</th>\n",
       "      <th>Lynn</th>\n",
       "      <th>Sebastian</th>\n",
       "      <th>Joel</th>\n",
       "    </tr>\n",
       "  </thead>\n",
       "  <tbody>\n",
       "    <tr>\n",
       "      <th>EU_32018R1999_Title_0_Chapter_7_Section_3_Article_43</th>\n",
       "      <td></td>\n",
       "      <td>article 43\\r\\nexercise of the delegation\\r\\n1....</td>\n",
       "      <td>[start:0 stop:7 text:article tag_count:0, star...</td>\n",
       "      <td>CURATION_FINISHED</td>\n",
       "      <td>[Alisha, Fride]</td>\n",
       "      <td>[span id:CUR0 annotator:Curation layer:Instrum...</td>\n",
       "      <td>[span id:A1 annotator:Alisha layer:Instrumentt...</td>\n",
       "      <td>[span id:B1 annotator:Fride layer:Policydesign...</td>\n",
       "      <td></td>\n",
       "      <td></td>\n",
       "      <td></td>\n",
       "      <td></td>\n",
       "      <td></td>\n",
       "    </tr>\n",
       "    <tr>\n",
       "      <th>EU_32019R0631_Title_0_Chapter_0_Section_0_Article_12</th>\n",
       "      <td></td>\n",
       "      <td>article 12\\r\\nreal-world co2 emissions and fue...</td>\n",
       "      <td>[start:0 stop:7 text:article tag_count:0, star...</td>\n",
       "      <td>CURATION_FINISHED</td>\n",
       "      <td>[Onerva, Fabian]</td>\n",
       "      <td>[span id:CUR36 annotator:Curation layer:Instru...</td>\n",
       "      <td></td>\n",
       "      <td></td>\n",
       "      <td>[span id:C1 annotator:Onerva layer:Instrumentt...</td>\n",
       "      <td>[span id:D1 annotator:Fabian layer:Policydesig...</td>\n",
       "      <td></td>\n",
       "      <td></td>\n",
       "      <td></td>\n",
       "    </tr>\n",
       "    <tr>\n",
       "      <th>EU_32018L2001_Title_0_Chapter_0_Section_0_Article_11</th>\n",
       "      <td></td>\n",
       "      <td>article 11\\r\\njoint projects between member st...</td>\n",
       "      <td>[start:0 stop:7 text:article tag_count:0, star...</td>\n",
       "      <td>CURATION_FINISHED</td>\n",
       "      <td>[Fride, Onerva]</td>\n",
       "      <td>[span id:CUR116 annotator:Curation layer:Instr...</td>\n",
       "      <td></td>\n",
       "      <td>[span id:B28 annotator:Fride layer:Instrumentt...</td>\n",
       "      <td>[span id:C58 annotator:Onerva layer:Instrument...</td>\n",
       "      <td></td>\n",
       "      <td></td>\n",
       "      <td></td>\n",
       "      <td></td>\n",
       "    </tr>\n",
       "    <tr>\n",
       "      <th>EU_32018R1999_Title_0_Chapter_7_Section_3_Article_56</th>\n",
       "      <td></td>\n",
       "      <td>article 56\\r\\namendments to directive (eu) 201...</td>\n",
       "      <td>[start:0 stop:7 text:article tag_count:0, star...</td>\n",
       "      <td>CURATION_FINISHED</td>\n",
       "      <td>[Alisha, Fride]</td>\n",
       "      <td>[span id:CUR202 annotator:Curation layer:Polic...</td>\n",
       "      <td>[span id:A38 annotator:Alisha layer:Policydesi...</td>\n",
       "      <td>[span id:B129 annotator:Fride layer:Policydesi...</td>\n",
       "      <td></td>\n",
       "      <td></td>\n",
       "      <td></td>\n",
       "      <td></td>\n",
       "      <td></td>\n",
       "    </tr>\n",
       "    <tr>\n",
       "      <th>EU_32018L2001_Title_0_Chapter_0_Section_0_Article_03</th>\n",
       "      <td></td>\n",
       "      <td>article 3\\r\\nbinding overall union target for ...</td>\n",
       "      <td>[start:0 stop:7 text:article tag_count:0, star...</td>\n",
       "      <td>CURATION_FINISHED</td>\n",
       "      <td>[Fride, Onerva, Fabian]</td>\n",
       "      <td>[span id:CUR211 annotator:Curation layer:Instr...</td>\n",
       "      <td></td>\n",
       "      <td>[span id:B138 annotator:Fride layer:Instrument...</td>\n",
       "      <td>[span id:C165 annotator:Onerva layer:Instrumen...</td>\n",
       "      <td>[span id:D27 annotator:Fabian layer:Instrument...</td>\n",
       "      <td></td>\n",
       "      <td></td>\n",
       "      <td></td>\n",
       "    </tr>\n",
       "  </tbody>\n",
       "</table>\n",
       "</div>"
      ],
      "text/plain": [
       "                                                   Policy  \\\n",
       "EU_32018R1999_Title_0_Chapter_7_Section_3_Artic...          \n",
       "EU_32019R0631_Title_0_Chapter_0_Section_0_Artic...          \n",
       "EU_32018L2001_Title_0_Chapter_0_Section_0_Artic...          \n",
       "EU_32018R1999_Title_0_Chapter_7_Section_3_Artic...          \n",
       "EU_32018L2001_Title_0_Chapter_0_Section_0_Artic...          \n",
       "\n",
       "                                                                                                 Text  \\\n",
       "EU_32018R1999_Title_0_Chapter_7_Section_3_Artic...  article 43\\r\\nexercise of the delegation\\r\\n1....   \n",
       "EU_32019R0631_Title_0_Chapter_0_Section_0_Artic...  article 12\\r\\nreal-world co2 emissions and fue...   \n",
       "EU_32018L2001_Title_0_Chapter_0_Section_0_Artic...  article 11\\r\\njoint projects between member st...   \n",
       "EU_32018R1999_Title_0_Chapter_7_Section_3_Artic...  article 56\\r\\namendments to directive (eu) 201...   \n",
       "EU_32018L2001_Title_0_Chapter_0_Section_0_Artic...  article 3\\r\\nbinding overall union target for ...   \n",
       "\n",
       "                                                                                               Tokens  \\\n",
       "EU_32018R1999_Title_0_Chapter_7_Section_3_Artic...  [start:0 stop:7 text:article tag_count:0, star...   \n",
       "EU_32019R0631_Title_0_Chapter_0_Section_0_Artic...  [start:0 stop:7 text:article tag_count:0, star...   \n",
       "EU_32018L2001_Title_0_Chapter_0_Section_0_Artic...  [start:0 stop:7 text:article tag_count:0, star...   \n",
       "EU_32018R1999_Title_0_Chapter_7_Section_3_Artic...  [start:0 stop:7 text:article tag_count:0, star...   \n",
       "EU_32018L2001_Title_0_Chapter_0_Section_0_Artic...  [start:0 stop:7 text:article tag_count:0, star...   \n",
       "\n",
       "                                                        Article_State  \\\n",
       "EU_32018R1999_Title_0_Chapter_7_Section_3_Artic...  CURATION_FINISHED   \n",
       "EU_32019R0631_Title_0_Chapter_0_Section_0_Artic...  CURATION_FINISHED   \n",
       "EU_32018L2001_Title_0_Chapter_0_Section_0_Artic...  CURATION_FINISHED   \n",
       "EU_32018R1999_Title_0_Chapter_7_Section_3_Artic...  CURATION_FINISHED   \n",
       "EU_32018L2001_Title_0_Chapter_0_Section_0_Artic...  CURATION_FINISHED   \n",
       "\n",
       "                                                        Finished_Annotators  \\\n",
       "EU_32018R1999_Title_0_Chapter_7_Section_3_Artic...          [Alisha, Fride]   \n",
       "EU_32019R0631_Title_0_Chapter_0_Section_0_Artic...         [Onerva, Fabian]   \n",
       "EU_32018L2001_Title_0_Chapter_0_Section_0_Artic...          [Fride, Onerva]   \n",
       "EU_32018R1999_Title_0_Chapter_7_Section_3_Artic...          [Alisha, Fride]   \n",
       "EU_32018L2001_Title_0_Chapter_0_Section_0_Artic...  [Fride, Onerva, Fabian]   \n",
       "\n",
       "                                                                                             Curation  \\\n",
       "EU_32018R1999_Title_0_Chapter_7_Section_3_Artic...  [span id:CUR0 annotator:Curation layer:Instrum...   \n",
       "EU_32019R0631_Title_0_Chapter_0_Section_0_Artic...  [span id:CUR36 annotator:Curation layer:Instru...   \n",
       "EU_32018L2001_Title_0_Chapter_0_Section_0_Artic...  [span id:CUR116 annotator:Curation layer:Instr...   \n",
       "EU_32018R1999_Title_0_Chapter_7_Section_3_Artic...  [span id:CUR202 annotator:Curation layer:Polic...   \n",
       "EU_32018L2001_Title_0_Chapter_0_Section_0_Artic...  [span id:CUR211 annotator:Curation layer:Instr...   \n",
       "\n",
       "                                                                                               Alisha  \\\n",
       "EU_32018R1999_Title_0_Chapter_7_Section_3_Artic...  [span id:A1 annotator:Alisha layer:Instrumentt...   \n",
       "EU_32019R0631_Title_0_Chapter_0_Section_0_Artic...                                                      \n",
       "EU_32018L2001_Title_0_Chapter_0_Section_0_Artic...                                                      \n",
       "EU_32018R1999_Title_0_Chapter_7_Section_3_Artic...  [span id:A38 annotator:Alisha layer:Policydesi...   \n",
       "EU_32018L2001_Title_0_Chapter_0_Section_0_Artic...                                                      \n",
       "\n",
       "                                                                                                Fride  \\\n",
       "EU_32018R1999_Title_0_Chapter_7_Section_3_Artic...  [span id:B1 annotator:Fride layer:Policydesign...   \n",
       "EU_32019R0631_Title_0_Chapter_0_Section_0_Artic...                                                      \n",
       "EU_32018L2001_Title_0_Chapter_0_Section_0_Artic...  [span id:B28 annotator:Fride layer:Instrumentt...   \n",
       "EU_32018R1999_Title_0_Chapter_7_Section_3_Artic...  [span id:B129 annotator:Fride layer:Policydesi...   \n",
       "EU_32018L2001_Title_0_Chapter_0_Section_0_Artic...  [span id:B138 annotator:Fride layer:Instrument...   \n",
       "\n",
       "                                                                                               Onerva  \\\n",
       "EU_32018R1999_Title_0_Chapter_7_Section_3_Artic...                                                      \n",
       "EU_32019R0631_Title_0_Chapter_0_Section_0_Artic...  [span id:C1 annotator:Onerva layer:Instrumentt...   \n",
       "EU_32018L2001_Title_0_Chapter_0_Section_0_Artic...  [span id:C58 annotator:Onerva layer:Instrument...   \n",
       "EU_32018R1999_Title_0_Chapter_7_Section_3_Artic...                                                      \n",
       "EU_32018L2001_Title_0_Chapter_0_Section_0_Artic...  [span id:C165 annotator:Onerva layer:Instrumen...   \n",
       "\n",
       "                                                                                               Fabian  \\\n",
       "EU_32018R1999_Title_0_Chapter_7_Section_3_Artic...                                                      \n",
       "EU_32019R0631_Title_0_Chapter_0_Section_0_Artic...  [span id:D1 annotator:Fabian layer:Policydesig...   \n",
       "EU_32018L2001_Title_0_Chapter_0_Section_0_Artic...                                                      \n",
       "EU_32018R1999_Title_0_Chapter_7_Section_3_Artic...                                                      \n",
       "EU_32018L2001_Title_0_Chapter_0_Section_0_Artic...  [span id:D27 annotator:Fabian layer:Instrument...   \n",
       "\n",
       "                                                   Lynn Sebastian Joel  \n",
       "EU_32018R1999_Title_0_Chapter_7_Section_3_Artic...                      \n",
       "EU_32019R0631_Title_0_Chapter_0_Section_0_Artic...                      \n",
       "EU_32018L2001_Title_0_Chapter_0_Section_0_Artic...                      \n",
       "EU_32018R1999_Title_0_Chapter_7_Section_3_Artic...                      \n",
       "EU_32018L2001_Title_0_Chapter_0_Section_0_Artic...                      "
      ]
     },
     "execution_count": 2,
     "metadata": {},
     "output_type": "execute_result"
    }
   ],
   "source": [
    "    \n",
    "dataframe_dir = os.path.join(ROOT_DIR,'data/02_processed_to_dataframe', 'preprocessed_dataframe.pkl')\n",
    "stat_df = pd.read_pickle(dataframe_dir)\n",
    "stat_df.head()"
   ]
  },
  {
   "cell_type": "code",
   "execution_count": 3,
   "metadata": {},
   "outputs": [
    {
     "name": "stdout",
     "output_type": "stream",
     "text": [
      "* \u001b[32mfix_load_data\u001b[m\n",
      "  master\u001b[m\n",
      "  plots\u001b[m\n"
     ]
    }
   ],
   "source": [
    "!git branch"
   ]
  },
  {
   "cell_type": "markdown",
   "metadata": {},
   "source": [
    "First create a object of class Inter annotator agreement. The constructor takes a stat_df as input, has a optional argument DEBUG where only the first 10 articles are taken to test different functions"
   ]
  },
  {
   "cell_type": "code",
   "execution_count": 4,
   "metadata": {},
   "outputs": [],
   "source": [
    "test_evaluator = Inter_Annotator_Agreement(stat_df, front_and_whereas = False)\n",
    "test_evaluator_debug = Inter_Annotator_Agreement(stat_df, DEBUG = True)\n"
   ]
  },
  {
   "cell_type": "code",
   "execution_count": 5,
   "metadata": {},
   "outputs": [
    {
     "data": {
      "text/plain": [
       "(412, 13)"
      ]
     },
     "execution_count": 5,
     "metadata": {},
     "output_type": "execute_result"
    }
   ],
   "source": [
    "test_evaluator.df.shape"
   ]
  },
  {
   "cell_type": "markdown",
   "metadata": {},
   "source": [
    "Inter_Annotator_Agreement is a child class of the Corpus class, so all methods of the Corpus class are available"
   ]
  },
  {
   "cell_type": "code",
   "execution_count": 6,
   "metadata": {},
   "outputs": [
    {
     "data": {
      "text/plain": [
       "[span id:C3882 annotator:Onerva layer:Technologyandapplicationspecificity type:TechnologySpecificity tag:Tech_LowCarbon start:18 stop:25 text:nuclear,\n",
       " span id:C3883 annotator:Onerva layer:Technologyandapplicationspecificity type:TechnologySpecificity tag:Tech_LowCarbon start:95 stop:109 text:nuclear energy,\n",
       " span id:C3884 annotator:Onerva layer:Technologyandapplicationspecificity type:TechnologySpecificity tag:Tech_LowCarbon start:151 stop:158 text:nuclear,\n",
       " span id:C5161 annotator:Onerva layer:Technologyandapplicationspecificity type:TechnologySpecificity tag:Tech_LowCarbon start:125 stop:141 text:renewable energy,\n",
       " span id:C5162 annotator:Onerva layer:Technologyandapplicationspecificity type:TechnologySpecificity tag:Tech_LowCarbon start:393 stop:409 text:renewable energy,\n",
       " span id:C5163 annotator:Onerva layer:Technologyandapplicationspecificity type:TechnologySpecificity tag:Tech_LowCarbon start:499 stop:515 text:renewable energy,\n",
       " span id:C5164 annotator:Onerva layer:Technologyandapplicationspecificity type:TechnologySpecificity tag:Tech_LowCarbon start:1276 stop:1292 text:renewable energy,\n",
       " span id:C6626 annotator:Onerva layer:Technologyandapplicationspecificity type:TechnologySpecificity tag:Tech_LowCarbon start:614 stop:621 text:nuclear,\n",
       " span id:C7842 annotator:Onerva layer:Technologyandapplicationspecificity type:TechnologySpecificity tag:Tech_LowCarbon start:189 stop:225 text:energy products and their aggregates,\n",
       " span id:B11292 annotator:Fride layer:Technologyandapplicationspecificity type:TechnologySpecificity tag:Tech_LowCarbon start:866 stop:888 text:electricity generation,\n",
       " span id:C9626 annotator:Onerva layer:Technologyandapplicationspecificity type:TechnologySpecificity tag:Tech_LowCarbon start:701 stop:716 text:energy products]"
      ]
     },
     "execution_count": 6,
     "metadata": {},
     "output_type": "execute_result"
    }
   ],
   "source": [
    "test_dir = repository(policy = 'EU_32008R1099')\n",
    "test_evaluator.get_span_list(conditional_rep = test_dir, columns = 'annotators', item = 'tag', value =  'Tech_LowCarbon')"
   ]
  },
  {
   "cell_type": "markdown",
   "metadata": {},
   "source": [
    "To calculate the inter annonator agreement, there are two options\n"
   ]
  },
  {
   "cell_type": "markdown",
   "metadata": {},
   "source": [
    "## Append the score to dataframe"
   ]
  },
  {
   "cell_type": "markdown",
   "metadata": {},
   "source": [
    "This method appends the inter-annotator agreement for each article which at least two valid annoations based on a set of inter-annotator agreement measures. The scores are calculated in parallel, this is the recommended method for computationally intensive scores.\n",
    "\n",
    "First, we only consider the articles where the curation is finished and at least two annotators are present:"
   ]
  },
  {
   "cell_type": "code",
   "execution_count": 7,
   "metadata": {},
   "outputs": [],
   "source": [
    "test_evaluator.keep_only_finished_articles()"
   ]
  },
  {
   "cell_type": "code",
   "execution_count": 8,
   "metadata": {},
   "outputs": [],
   "source": [
    "scoring_metrics = ['f1_exact', 'f1_tokenwise', 'f1_partial', 'f1_heuristic']"
   ]
  },
  {
   "cell_type": "code",
   "execution_count": 9,
   "metadata": {},
   "outputs": [
    {
     "name": "stderr",
     "output_type": "stream",
     "text": [
      "100%|██████████| 412/412 [00:06<00:00, 60.75it/s]\n",
      "100%|██████████| 412/412 [00:06<00:00, 64.96it/s]\n",
      "100%|██████████| 412/412 [00:06<00:00, 67.28it/s]\n",
      "100%|██████████| 412/412 [00:00<00:00, 620.82it/s]\n"
     ]
    }
   ],
   "source": [
    "test_evaluator.append_total_score_per_article(scoring_metrics)"
   ]
  },
  {
   "cell_type": "markdown",
   "metadata": {},
   "source": [
    "Now append pygamma with custom scoring matrix based on our tagset"
   ]
  },
  {
   "cell_type": "code",
   "execution_count": null,
   "metadata": {},
   "outputs": [],
   "source": [
    "# create custom scoring matrix\n",
    "#by setting soft layer dissimilarity equal true, missmatches in the same tagset are penalized less\n",
    "category_list, cat_dissimilarity_matrix = create_scoring_matrix(os.path.join(ROOT_DIR,'src/experiment_utils/tag_set.json'),  soft_tagset_dissimilarity = True, soft_layer_dissimilarity = False)"
   ]
  },
  {
   "cell_type": "code",
   "execution_count": null,
   "metadata": {},
   "outputs": [],
   "source": [
    "test_evaluator.append_total_score_per_article(scoring_metrics = ['pygamma'], category_list = category_list, cat_dissimilarity_matrix = cat_dissimilarity_matrix)"
   ]
  },
  {
   "cell_type": "markdown",
   "metadata": {},
   "source": [
    "There is also a normal implementation which uses parallel"
   ]
  },
  {
   "cell_type": "code",
   "execution_count": null,
   "metadata": {},
   "outputs": [],
   "source": [
    "#test_evaluator.append_total_score_per_article_parallel(scoring_metrics)"
   ]
  },
  {
   "cell_type": "markdown",
   "metadata": {},
   "source": [
    "Checking out the dataframe now:"
   ]
  },
  {
   "cell_type": "code",
   "execution_count": 14,
   "metadata": {},
   "outputs": [
    {
     "data": {
      "text/html": [
       "<div>\n",
       "<style scoped>\n",
       "    .dataframe tbody tr th:only-of-type {\n",
       "        vertical-align: middle;\n",
       "    }\n",
       "\n",
       "    .dataframe tbody tr th {\n",
       "        vertical-align: top;\n",
       "    }\n",
       "\n",
       "    .dataframe thead th {\n",
       "        text-align: right;\n",
       "    }\n",
       "</style>\n",
       "<table border=\"1\" class=\"dataframe\">\n",
       "  <thead>\n",
       "    <tr style=\"text-align: right;\">\n",
       "      <th></th>\n",
       "      <th>Policy</th>\n",
       "      <th>Text</th>\n",
       "      <th>Tokens</th>\n",
       "      <th>Article_State</th>\n",
       "      <th>Finished_Annotators</th>\n",
       "      <th>Curation</th>\n",
       "      <th>Alisha</th>\n",
       "      <th>Fride</th>\n",
       "      <th>Onerva</th>\n",
       "      <th>Fabian</th>\n",
       "      <th>Lynn</th>\n",
       "      <th>Sebastian</th>\n",
       "      <th>Joel</th>\n",
       "      <th>f1_exact_score</th>\n",
       "      <th>f1_tokenwise_score</th>\n",
       "      <th>f1_partial_score</th>\n",
       "      <th>f1_heuristic_score</th>\n",
       "      <th>pygamma_score</th>\n",
       "    </tr>\n",
       "  </thead>\n",
       "  <tbody>\n",
       "    <tr>\n",
       "      <th>EU_32018R1999_Title_0_Chapter_7_Section_3_Article_43</th>\n",
       "      <td></td>\n",
       "      <td>article 43\\r\\nexercise of the delegation\\r\\n1....</td>\n",
       "      <td>[start:0 stop:7 text:article tag_count:0, star...</td>\n",
       "      <td>CURATION_FINISHED</td>\n",
       "      <td>[Alisha, Fride]</td>\n",
       "      <td>[span id:CUR0 annotator:Curation layer:Instrum...</td>\n",
       "      <td>[span id:A1 annotator:Alisha layer:Instrumentt...</td>\n",
       "      <td>[span id:B1 annotator:Fride layer:Policydesign...</td>\n",
       "      <td></td>\n",
       "      <td></td>\n",
       "      <td></td>\n",
       "      <td></td>\n",
       "      <td></td>\n",
       "      <td>0.218750</td>\n",
       "      <td>0.226574</td>\n",
       "      <td>0.281250</td>\n",
       "      <td>0.281250</td>\n",
       "      <td>0.450869</td>\n",
       "    </tr>\n",
       "    <tr>\n",
       "      <th>EU_32019R0631_Title_0_Chapter_0_Section_0_Article_12</th>\n",
       "      <td></td>\n",
       "      <td>article 12\\r\\nreal-world co2 emissions and fue...</td>\n",
       "      <td>[start:0 stop:7 text:article tag_count:0, star...</td>\n",
       "      <td>CURATION_FINISHED</td>\n",
       "      <td>[Onerva, Fabian]</td>\n",
       "      <td>[span id:CUR36 annotator:Curation layer:Instru...</td>\n",
       "      <td></td>\n",
       "      <td></td>\n",
       "      <td>[span id:C1 annotator:Onerva layer:Instrumentt...</td>\n",
       "      <td>[span id:D1 annotator:Fabian layer:Policydesig...</td>\n",
       "      <td></td>\n",
       "      <td></td>\n",
       "      <td></td>\n",
       "      <td>0.289157</td>\n",
       "      <td>0.263793</td>\n",
       "      <td>0.409639</td>\n",
       "      <td>0.421603</td>\n",
       "      <td>0.340610</td>\n",
       "    </tr>\n",
       "    <tr>\n",
       "      <th>EU_32018L2001_Title_0_Chapter_0_Section_0_Article_11</th>\n",
       "      <td></td>\n",
       "      <td>article 11\\r\\njoint projects between member st...</td>\n",
       "      <td>[start:0 stop:7 text:article tag_count:0, star...</td>\n",
       "      <td>CURATION_FINISHED</td>\n",
       "      <td>[Fride, Onerva]</td>\n",
       "      <td>[span id:CUR116 annotator:Curation layer:Instr...</td>\n",
       "      <td></td>\n",
       "      <td>[span id:B28 annotator:Fride layer:Instrumentt...</td>\n",
       "      <td>[span id:C58 annotator:Onerva layer:Instrument...</td>\n",
       "      <td></td>\n",
       "      <td></td>\n",
       "      <td></td>\n",
       "      <td></td>\n",
       "      <td>0.567308</td>\n",
       "      <td>0.512946</td>\n",
       "      <td>0.653846</td>\n",
       "      <td>0.653846</td>\n",
       "      <td>0.577621</td>\n",
       "    </tr>\n",
       "    <tr>\n",
       "      <th>EU_32018R1999_Title_0_Chapter_7_Section_3_Article_56</th>\n",
       "      <td></td>\n",
       "      <td>article 56\\r\\namendments to directive (eu) 201...</td>\n",
       "      <td>[start:0 stop:7 text:article tag_count:0, star...</td>\n",
       "      <td>CURATION_FINISHED</td>\n",
       "      <td>[Alisha, Fride]</td>\n",
       "      <td>[span id:CUR202 annotator:Curation layer:Polic...</td>\n",
       "      <td>[span id:A38 annotator:Alisha layer:Policydesi...</td>\n",
       "      <td>[span id:B129 annotator:Fride layer:Policydesi...</td>\n",
       "      <td></td>\n",
       "      <td></td>\n",
       "      <td></td>\n",
       "      <td></td>\n",
       "      <td></td>\n",
       "      <td>0.736842</td>\n",
       "      <td>0.583333</td>\n",
       "      <td>0.736842</td>\n",
       "      <td>0.736842</td>\n",
       "      <td>0.559325</td>\n",
       "    </tr>\n",
       "    <tr>\n",
       "      <th>EU_32018L2001_Title_0_Chapter_0_Section_0_Article_03</th>\n",
       "      <td></td>\n",
       "      <td>article 3\\r\\nbinding overall union target for ...</td>\n",
       "      <td>[start:0 stop:7 text:article tag_count:0, star...</td>\n",
       "      <td>CURATION_FINISHED</td>\n",
       "      <td>[Fride, Onerva, Fabian]</td>\n",
       "      <td>[span id:CUR211 annotator:Curation layer:Instr...</td>\n",
       "      <td></td>\n",
       "      <td>[span id:B138 annotator:Fride layer:Instrument...</td>\n",
       "      <td>[span id:C165 annotator:Onerva layer:Instrumen...</td>\n",
       "      <td>[span id:D27 annotator:Fabian layer:Instrument...</td>\n",
       "      <td></td>\n",
       "      <td></td>\n",
       "      <td></td>\n",
       "      <td>0.420198</td>\n",
       "      <td>0.410204</td>\n",
       "      <td>0.532749</td>\n",
       "      <td>0.544437</td>\n",
       "      <td>0.455536</td>\n",
       "    </tr>\n",
       "  </tbody>\n",
       "</table>\n",
       "</div>"
      ],
      "text/plain": [
       "                                                   Policy  \\\n",
       "EU_32018R1999_Title_0_Chapter_7_Section_3_Artic...          \n",
       "EU_32019R0631_Title_0_Chapter_0_Section_0_Artic...          \n",
       "EU_32018L2001_Title_0_Chapter_0_Section_0_Artic...          \n",
       "EU_32018R1999_Title_0_Chapter_7_Section_3_Artic...          \n",
       "EU_32018L2001_Title_0_Chapter_0_Section_0_Artic...          \n",
       "\n",
       "                                                                                                 Text  \\\n",
       "EU_32018R1999_Title_0_Chapter_7_Section_3_Artic...  article 43\\r\\nexercise of the delegation\\r\\n1....   \n",
       "EU_32019R0631_Title_0_Chapter_0_Section_0_Artic...  article 12\\r\\nreal-world co2 emissions and fue...   \n",
       "EU_32018L2001_Title_0_Chapter_0_Section_0_Artic...  article 11\\r\\njoint projects between member st...   \n",
       "EU_32018R1999_Title_0_Chapter_7_Section_3_Artic...  article 56\\r\\namendments to directive (eu) 201...   \n",
       "EU_32018L2001_Title_0_Chapter_0_Section_0_Artic...  article 3\\r\\nbinding overall union target for ...   \n",
       "\n",
       "                                                                                               Tokens  \\\n",
       "EU_32018R1999_Title_0_Chapter_7_Section_3_Artic...  [start:0 stop:7 text:article tag_count:0, star...   \n",
       "EU_32019R0631_Title_0_Chapter_0_Section_0_Artic...  [start:0 stop:7 text:article tag_count:0, star...   \n",
       "EU_32018L2001_Title_0_Chapter_0_Section_0_Artic...  [start:0 stop:7 text:article tag_count:0, star...   \n",
       "EU_32018R1999_Title_0_Chapter_7_Section_3_Artic...  [start:0 stop:7 text:article tag_count:0, star...   \n",
       "EU_32018L2001_Title_0_Chapter_0_Section_0_Artic...  [start:0 stop:7 text:article tag_count:0, star...   \n",
       "\n",
       "                                                        Article_State  \\\n",
       "EU_32018R1999_Title_0_Chapter_7_Section_3_Artic...  CURATION_FINISHED   \n",
       "EU_32019R0631_Title_0_Chapter_0_Section_0_Artic...  CURATION_FINISHED   \n",
       "EU_32018L2001_Title_0_Chapter_0_Section_0_Artic...  CURATION_FINISHED   \n",
       "EU_32018R1999_Title_0_Chapter_7_Section_3_Artic...  CURATION_FINISHED   \n",
       "EU_32018L2001_Title_0_Chapter_0_Section_0_Artic...  CURATION_FINISHED   \n",
       "\n",
       "                                                        Finished_Annotators  \\\n",
       "EU_32018R1999_Title_0_Chapter_7_Section_3_Artic...          [Alisha, Fride]   \n",
       "EU_32019R0631_Title_0_Chapter_0_Section_0_Artic...         [Onerva, Fabian]   \n",
       "EU_32018L2001_Title_0_Chapter_0_Section_0_Artic...          [Fride, Onerva]   \n",
       "EU_32018R1999_Title_0_Chapter_7_Section_3_Artic...          [Alisha, Fride]   \n",
       "EU_32018L2001_Title_0_Chapter_0_Section_0_Artic...  [Fride, Onerva, Fabian]   \n",
       "\n",
       "                                                                                             Curation  \\\n",
       "EU_32018R1999_Title_0_Chapter_7_Section_3_Artic...  [span id:CUR0 annotator:Curation layer:Instrum...   \n",
       "EU_32019R0631_Title_0_Chapter_0_Section_0_Artic...  [span id:CUR36 annotator:Curation layer:Instru...   \n",
       "EU_32018L2001_Title_0_Chapter_0_Section_0_Artic...  [span id:CUR116 annotator:Curation layer:Instr...   \n",
       "EU_32018R1999_Title_0_Chapter_7_Section_3_Artic...  [span id:CUR202 annotator:Curation layer:Polic...   \n",
       "EU_32018L2001_Title_0_Chapter_0_Section_0_Artic...  [span id:CUR211 annotator:Curation layer:Instr...   \n",
       "\n",
       "                                                                                               Alisha  \\\n",
       "EU_32018R1999_Title_0_Chapter_7_Section_3_Artic...  [span id:A1 annotator:Alisha layer:Instrumentt...   \n",
       "EU_32019R0631_Title_0_Chapter_0_Section_0_Artic...                                                      \n",
       "EU_32018L2001_Title_0_Chapter_0_Section_0_Artic...                                                      \n",
       "EU_32018R1999_Title_0_Chapter_7_Section_3_Artic...  [span id:A38 annotator:Alisha layer:Policydesi...   \n",
       "EU_32018L2001_Title_0_Chapter_0_Section_0_Artic...                                                      \n",
       "\n",
       "                                                                                                Fride  \\\n",
       "EU_32018R1999_Title_0_Chapter_7_Section_3_Artic...  [span id:B1 annotator:Fride layer:Policydesign...   \n",
       "EU_32019R0631_Title_0_Chapter_0_Section_0_Artic...                                                      \n",
       "EU_32018L2001_Title_0_Chapter_0_Section_0_Artic...  [span id:B28 annotator:Fride layer:Instrumentt...   \n",
       "EU_32018R1999_Title_0_Chapter_7_Section_3_Artic...  [span id:B129 annotator:Fride layer:Policydesi...   \n",
       "EU_32018L2001_Title_0_Chapter_0_Section_0_Artic...  [span id:B138 annotator:Fride layer:Instrument...   \n",
       "\n",
       "                                                                                               Onerva  \\\n",
       "EU_32018R1999_Title_0_Chapter_7_Section_3_Artic...                                                      \n",
       "EU_32019R0631_Title_0_Chapter_0_Section_0_Artic...  [span id:C1 annotator:Onerva layer:Instrumentt...   \n",
       "EU_32018L2001_Title_0_Chapter_0_Section_0_Artic...  [span id:C58 annotator:Onerva layer:Instrument...   \n",
       "EU_32018R1999_Title_0_Chapter_7_Section_3_Artic...                                                      \n",
       "EU_32018L2001_Title_0_Chapter_0_Section_0_Artic...  [span id:C165 annotator:Onerva layer:Instrumen...   \n",
       "\n",
       "                                                                                               Fabian  \\\n",
       "EU_32018R1999_Title_0_Chapter_7_Section_3_Artic...                                                      \n",
       "EU_32019R0631_Title_0_Chapter_0_Section_0_Artic...  [span id:D1 annotator:Fabian layer:Policydesig...   \n",
       "EU_32018L2001_Title_0_Chapter_0_Section_0_Artic...                                                      \n",
       "EU_32018R1999_Title_0_Chapter_7_Section_3_Artic...                                                      \n",
       "EU_32018L2001_Title_0_Chapter_0_Section_0_Artic...  [span id:D27 annotator:Fabian layer:Instrument...   \n",
       "\n",
       "                                                   Lynn Sebastian Joel  \\\n",
       "EU_32018R1999_Title_0_Chapter_7_Section_3_Artic...                       \n",
       "EU_32019R0631_Title_0_Chapter_0_Section_0_Artic...                       \n",
       "EU_32018L2001_Title_0_Chapter_0_Section_0_Artic...                       \n",
       "EU_32018R1999_Title_0_Chapter_7_Section_3_Artic...                       \n",
       "EU_32018L2001_Title_0_Chapter_0_Section_0_Artic...                       \n",
       "\n",
       "                                                    f1_exact_score  \\\n",
       "EU_32018R1999_Title_0_Chapter_7_Section_3_Artic...        0.218750   \n",
       "EU_32019R0631_Title_0_Chapter_0_Section_0_Artic...        0.289157   \n",
       "EU_32018L2001_Title_0_Chapter_0_Section_0_Artic...        0.567308   \n",
       "EU_32018R1999_Title_0_Chapter_7_Section_3_Artic...        0.736842   \n",
       "EU_32018L2001_Title_0_Chapter_0_Section_0_Artic...        0.420198   \n",
       "\n",
       "                                                    f1_tokenwise_score  \\\n",
       "EU_32018R1999_Title_0_Chapter_7_Section_3_Artic...            0.226574   \n",
       "EU_32019R0631_Title_0_Chapter_0_Section_0_Artic...            0.263793   \n",
       "EU_32018L2001_Title_0_Chapter_0_Section_0_Artic...            0.512946   \n",
       "EU_32018R1999_Title_0_Chapter_7_Section_3_Artic...            0.583333   \n",
       "EU_32018L2001_Title_0_Chapter_0_Section_0_Artic...            0.410204   \n",
       "\n",
       "                                                    f1_partial_score  \\\n",
       "EU_32018R1999_Title_0_Chapter_7_Section_3_Artic...          0.281250   \n",
       "EU_32019R0631_Title_0_Chapter_0_Section_0_Artic...          0.409639   \n",
       "EU_32018L2001_Title_0_Chapter_0_Section_0_Artic...          0.653846   \n",
       "EU_32018R1999_Title_0_Chapter_7_Section_3_Artic...          0.736842   \n",
       "EU_32018L2001_Title_0_Chapter_0_Section_0_Artic...          0.532749   \n",
       "\n",
       "                                                    f1_heuristic_score  \\\n",
       "EU_32018R1999_Title_0_Chapter_7_Section_3_Artic...            0.281250   \n",
       "EU_32019R0631_Title_0_Chapter_0_Section_0_Artic...            0.421603   \n",
       "EU_32018L2001_Title_0_Chapter_0_Section_0_Artic...            0.653846   \n",
       "EU_32018R1999_Title_0_Chapter_7_Section_3_Artic...            0.736842   \n",
       "EU_32018L2001_Title_0_Chapter_0_Section_0_Artic...            0.544437   \n",
       "\n",
       "                                                    pygamma_score  \n",
       "EU_32018R1999_Title_0_Chapter_7_Section_3_Artic...       0.450869  \n",
       "EU_32019R0631_Title_0_Chapter_0_Section_0_Artic...       0.340610  \n",
       "EU_32018L2001_Title_0_Chapter_0_Section_0_Artic...       0.577621  \n",
       "EU_32018R1999_Title_0_Chapter_7_Section_3_Artic...       0.559325  \n",
       "EU_32018L2001_Title_0_Chapter_0_Section_0_Artic...       0.455536  "
      ]
     },
     "execution_count": 14,
     "metadata": {},
     "output_type": "execute_result"
    }
   ],
   "source": [
    "test_evaluator.df.head()"
   ]
  },
  {
   "cell_type": "markdown",
   "metadata": {},
   "source": [
    "### Get total score"
   ]
  },
  {
   "cell_type": "markdown",
   "metadata": {},
   "source": [
    "test_evaluator.get_total_score_df(weight_by = 'Spans')To retrieve the total score of the corpus, use get_total_score_df() on a dataframes where the scores for individual articles have been calculated."
   ]
  },
  {
   "cell_type": "code",
   "execution_count": 11,
   "metadata": {},
   "outputs": [
    {
     "data": {
      "text/plain": [
       "{'f1_heuristic_score': 0.5273362748620107,\n",
       " 'pygamma_score': 0.4579686061518452,\n",
       " 'f1_partial_score': 0.5159440267362017,\n",
       " 'f1_exact_score': 0.40028724799007476,\n",
       " 'f1_tokenwise_score': 0.397687590370067}"
      ]
     },
     "execution_count": 11,
     "metadata": {},
     "output_type": "execute_result"
    }
   ],
   "source": [
    "test_evaluator.get_total_score_df(weight_by = 'no_weighting')"
   ]
  },
  {
   "cell_type": "code",
   "execution_count": 12,
   "metadata": {},
   "outputs": [
    {
     "data": {
      "text/plain": [
       "{'f1_heuristic_score': 0.48679580434940306,\n",
       " 'pygamma_score': 0.4383714759385591,\n",
       " 'f1_partial_score': 0.4739162741735001,\n",
       " 'f1_exact_score': 0.37492081552891304,\n",
       " 'f1_tokenwise_score': 0.35240598751298724}"
      ]
     },
     "execution_count": 12,
     "metadata": {},
     "output_type": "execute_result"
    }
   ],
   "source": [
    "test_evaluator.get_total_score_df(weight_by = 'Tokens')"
   ]
  },
  {
   "cell_type": "code",
   "execution_count": 13,
   "metadata": {},
   "outputs": [
    {
     "data": {
      "text/plain": [
       "{'f1_heuristic_score': 0.5028562323485702,\n",
       " 'pygamma_score': 0.4479737387388157,\n",
       " 'f1_partial_score': 0.4885814966811494,\n",
       " 'f1_exact_score': 0.3874058515882508,\n",
       " 'f1_tokenwise_score': 0.36379438736998276}"
      ]
     },
     "execution_count": 13,
     "metadata": {},
     "output_type": "execute_result"
    }
   ],
   "source": [
    "test_evaluator.get_total_score_df(weight_by = 'Spans')"
   ]
  },
  {
   "cell_type": "markdown",
   "metadata": {},
   "source": [
    "if only specific scores are required:"
   ]
  },
  {
   "cell_type": "code",
   "execution_count": 14,
   "metadata": {},
   "outputs": [
    {
     "data": {
      "text/plain": [
       "{'f1_exact_score': 0.40028724799007476}"
      ]
     },
     "execution_count": 14,
     "metadata": {},
     "output_type": "execute_result"
    }
   ],
   "source": [
    "test_evaluator.get_total_score_df('f1_exact_score', weight_by = 'no_weighting')"
   ]
  },
  {
   "cell_type": "markdown",
   "metadata": {},
   "source": [
    "or"
   ]
  },
  {
   "cell_type": "code",
   "execution_count": 15,
   "metadata": {},
   "outputs": [
    {
     "data": {
      "text/plain": [
       "{'f1_exact_score': 0.3874058515882508,\n",
       " 'f1_tokenwise_score': 0.36379438736998276}"
      ]
     },
     "execution_count": 15,
     "metadata": {},
     "output_type": "execute_result"
    }
   ],
   "source": [
    "test_evaluator.get_total_score_df(['f1_exact_score', 'f1_tokenwise_score'], weight_by = 'Spans')"
   ]
  },
  {
   "cell_type": "markdown",
   "metadata": {},
   "source": [
    "### Get total score per annotator"
   ]
  },
  {
   "cell_type": "code",
   "execution_count": 16,
   "metadata": {},
   "outputs": [
    {
     "name": "stdout",
     "output_type": "stream",
     "text": [
      "annotator:  Onerva\n",
      "{'f1_heuristic_score': 0.5467190944483692, 'pygamma_score': 0.48940887269928224, 'f1_partial_score': 0.5339943394957395, 'f1_exact_score': 0.4381654829355101, 'f1_tokenwise_score': 0.4090364908255155}\n",
      "----------------\n",
      "annotator:  Alisha\n",
      "{'f1_heuristic_score': 0.44385587315930597, 'pygamma_score': 0.4030316809667925, 'f1_partial_score': 0.42750169278836747, 'f1_exact_score': 0.32323742866301736, 'f1_tokenwise_score': 0.30806281985414746}\n",
      "----------------\n",
      "annotator:  Fabian\n",
      "{'f1_heuristic_score': 0.3962207997917874, 'pygamma_score': 0.3624746984712561, 'f1_partial_score': 0.38820915429061104, 'f1_exact_score': 0.3071820274746298, 'f1_tokenwise_score': 0.2747252372274946}\n",
      "----------------\n",
      "annotator:  Fride\n",
      "{'f1_heuristic_score': 0.576894166530852, 'pygamma_score': 0.49495286490461726, 'f1_partial_score': 0.5584121507299492, 'f1_exact_score': 0.4427467808588547, 'f1_tokenwise_score': 0.4214078450791374}\n",
      "----------------\n"
     ]
    }
   ],
   "source": [
    "annotators = ['Onerva', 'Alisha', 'Fabian', 'Fride']\n",
    "for ann in annotators:\n",
    "    print('annotator: ', ann)\n",
    "    print(test_evaluator.get_total_score_df(annotator = ann, weight_by = 'Spans'))\n",
    "    print('----------------')"
   ]
  },
  {
   "cell_type": "code",
   "execution_count": 17,
   "metadata": {},
   "outputs": [
    {
     "data": {
      "text/plain": [
       "{'f1_exact_score': 0.44287267910542477,\n",
       " 'f1_tokenwise_score': 0.42132905468298554}"
      ]
     },
     "execution_count": 17,
     "metadata": {},
     "output_type": "execute_result"
    }
   ],
   "source": [
    "test_evaluator.get_score_annotator('Fride', ['f1_exact_score', 'f1_tokenwise_score'])"
   ]
  },
  {
   "cell_type": "markdown",
   "metadata": {},
   "source": [
    "### Rank articles by score"
   ]
  },
  {
   "cell_type": "code",
   "execution_count": 10,
   "metadata": {},
   "outputs": [
    {
     "ename": "KeyError",
     "evalue": "'f1_heuristic_score'",
     "output_type": "error",
     "traceback": [
      "\u001b[0;31m---------------------------------------------------------------------------\u001b[0m",
      "\u001b[0;31mKeyError\u001b[0m                                  Traceback (most recent call last)",
      "\u001b[0;32m<ipython-input-10-e8d85eb417da>\u001b[0m in \u001b[0;36m<module>\u001b[0;34m\u001b[0m\n\u001b[0;32m----> 1\u001b[0;31m \u001b[0mtest_evaluator\u001b[0m\u001b[0;34m.\u001b[0m\u001b[0mdf\u001b[0m\u001b[0;34m.\u001b[0m\u001b[0msort_values\u001b[0m\u001b[0;34m(\u001b[0m\u001b[0mby\u001b[0m\u001b[0;34m=\u001b[0m\u001b[0;34m[\u001b[0m\u001b[0;34m'f1_heuristic_score'\u001b[0m\u001b[0;34m]\u001b[0m\u001b[0;34m)\u001b[0m\u001b[0;34m\u001b[0m\u001b[0;34m\u001b[0m\u001b[0m\n\u001b[0m",
      "\u001b[0;32m~/miniconda3/envs/nlp_spark/lib/python3.7/site-packages/pandas/core/frame.py\u001b[0m in \u001b[0;36msort_values\u001b[0;34m(self, by, axis, ascending, inplace, kind, na_position, ignore_index, key)\u001b[0m\n\u001b[1;32m   5453\u001b[0m \u001b[0;34m\u001b[0m\u001b[0m\n\u001b[1;32m   5454\u001b[0m             \u001b[0mby\u001b[0m \u001b[0;34m=\u001b[0m \u001b[0mby\u001b[0m\u001b[0;34m[\u001b[0m\u001b[0;36m0\u001b[0m\u001b[0;34m]\u001b[0m\u001b[0;34m\u001b[0m\u001b[0;34m\u001b[0m\u001b[0m\n\u001b[0;32m-> 5455\u001b[0;31m             \u001b[0mk\u001b[0m \u001b[0;34m=\u001b[0m \u001b[0mself\u001b[0m\u001b[0;34m.\u001b[0m\u001b[0m_get_label_or_level_values\u001b[0m\u001b[0;34m(\u001b[0m\u001b[0mby\u001b[0m\u001b[0;34m,\u001b[0m \u001b[0maxis\u001b[0m\u001b[0;34m=\u001b[0m\u001b[0maxis\u001b[0m\u001b[0;34m)\u001b[0m\u001b[0;34m\u001b[0m\u001b[0;34m\u001b[0m\u001b[0m\n\u001b[0m\u001b[1;32m   5456\u001b[0m \u001b[0;34m\u001b[0m\u001b[0m\n\u001b[1;32m   5457\u001b[0m             \u001b[0;31m# need to rewrap column in Series to apply key function\u001b[0m\u001b[0;34m\u001b[0m\u001b[0;34m\u001b[0m\u001b[0;34m\u001b[0m\u001b[0m\n",
      "\u001b[0;32m~/miniconda3/envs/nlp_spark/lib/python3.7/site-packages/pandas/core/generic.py\u001b[0m in \u001b[0;36m_get_label_or_level_values\u001b[0;34m(self, key, axis)\u001b[0m\n\u001b[1;32m   1682\u001b[0m             \u001b[0mvalues\u001b[0m \u001b[0;34m=\u001b[0m \u001b[0mself\u001b[0m\u001b[0;34m.\u001b[0m\u001b[0maxes\u001b[0m\u001b[0;34m[\u001b[0m\u001b[0maxis\u001b[0m\u001b[0;34m]\u001b[0m\u001b[0;34m.\u001b[0m\u001b[0mget_level_values\u001b[0m\u001b[0;34m(\u001b[0m\u001b[0mkey\u001b[0m\u001b[0;34m)\u001b[0m\u001b[0;34m.\u001b[0m\u001b[0m_values\u001b[0m\u001b[0;34m\u001b[0m\u001b[0;34m\u001b[0m\u001b[0m\n\u001b[1;32m   1683\u001b[0m         \u001b[0;32melse\u001b[0m\u001b[0;34m:\u001b[0m\u001b[0;34m\u001b[0m\u001b[0;34m\u001b[0m\u001b[0m\n\u001b[0;32m-> 1684\u001b[0;31m             \u001b[0;32mraise\u001b[0m \u001b[0mKeyError\u001b[0m\u001b[0;34m(\u001b[0m\u001b[0mkey\u001b[0m\u001b[0;34m)\u001b[0m\u001b[0;34m\u001b[0m\u001b[0;34m\u001b[0m\u001b[0m\n\u001b[0m\u001b[1;32m   1685\u001b[0m \u001b[0;34m\u001b[0m\u001b[0m\n\u001b[1;32m   1686\u001b[0m         \u001b[0;31m# Check for duplicates\u001b[0m\u001b[0;34m\u001b[0m\u001b[0;34m\u001b[0m\u001b[0;34m\u001b[0m\u001b[0m\n",
      "\u001b[0;31mKeyError\u001b[0m: 'f1_heuristic_score'"
     ]
    }
   ],
   "source": [
    "test_evaluator.df.sort_values(by=['f1_heuristic_score'])"
   ]
  },
  {
   "cell_type": "markdown",
   "metadata": {},
   "source": [
    "## Get total score based on a spanlist"
   ]
  },
  {
   "cell_type": "markdown",
   "metadata": {},
   "source": [
    "The inter annotator agreement score can be also calculated from a spanlist. For all the spans present, it calculates the inter agreement scores for alle the articls with at least two valid annoations. Can be used to caluclate simmilarity to curation."
   ]
  },
  {
   "cell_type": "code",
   "execution_count": 18,
   "metadata": {},
   "outputs": [],
   "source": [
    "test_dir = repository.from_repository_name('EU_32008R1099_Title_0_Chapter_0_Section_0_Article_12')\n",
    "span_list = test_evaluator.get_span_list(test_dir, ['Onerva', 'Fride'])"
   ]
  },
  {
   "cell_type": "code",
   "execution_count": 19,
   "metadata": {},
   "outputs": [
    {
     "data": {
      "text/plain": [
       "[span id:C268 annotator:Onerva layer:Policydesigncharacteristics type:Time tag:Time_InEffect start:52 stop:156 text:enter into force on the 20th day following its publication in the official journal of the european union,\n",
       " span id:C269 annotator:Onerva layer:Policydesigncharacteristics type:Actor tag:Addressee_default start:239 stop:252 text:member states,\n",
       " span id:B243 annotator:Fride layer:Policydesigncharacteristics type:Time tag:Time_InEffect start:76 stop:134 text:20th day following its publication in the official journal,\n",
       " span id:B244 annotator:Fride layer:Policydesigncharacteristics type:Actor tag:Addressee_default start:239 stop:252 text:member states]"
      ]
     },
     "execution_count": 19,
     "metadata": {},
     "output_type": "execute_result"
    }
   ],
   "source": [
    "span_list\n"
   ]
  },
  {
   "cell_type": "code",
   "execution_count": 20,
   "metadata": {},
   "outputs": [
    {
     "data": {
      "text/plain": [
       "0.9476514351793441"
      ]
     },
     "execution_count": 20,
     "metadata": {},
     "output_type": "execute_result"
    }
   ],
   "source": [
    "test_evaluator.get_score_spanlist(span_list, 'pygamma')"
   ]
  },
  {
   "cell_type": "markdown",
   "metadata": {},
   "source": [
    "Or use this function to get scores in specific categories:"
   ]
  },
  {
   "cell_type": "code",
   "execution_count": 21,
   "metadata": {},
   "outputs": [
    {
     "data": {
      "text/plain": [
       "[span id:A5803 annotator:Alisha layer:Policydesigncharacteristics type:Actor tag:Addressee_monitored start:48 stop:61 text:member states,\n",
       " span id:A5804 annotator:Alisha layer:Policydesigncharacteristics type:Actor tag:Authority_monitoring start:84 stop:94 text:commission,\n",
       " span id:A5805 annotator:Alisha layer:Policydesigncharacteristics type:Actor tag:Authority_monitoring start:96 stop:104 text:eurostat,\n",
       " span id:A5806 annotator:Alisha layer:Policydesigncharacteristics type:Compliance tag:Form_monitoring start:110 stop:129 text:national statistics,\n",
       " span id:A5807 annotator:Alisha layer:Policydesigncharacteristics type:Compliance tag:Form_monitoring start:366 stop:385 text:national statistics,\n",
       " span id:A5808 annotator:Alisha layer:Policydesigncharacteristics type:Actor tag:Addressee_monitored start:528 stop:540 text:member state,\n",
       " span id:A5809 annotator:Alisha layer:Policydesigncharacteristics type:Reversibility tag:Reversibility_policy start:553 stop:578 text:exemptions or derogations,\n",
       " span id:A5810 annotator:Alisha layer:Policydesigncharacteristics type:Actor tag:Authority_monitoring start:601 stop:611 text:commission,\n",
       " span id:A5811 annotator:Alisha layer:Policydesigncharacteristics type:Compliance tag:Form_monitoring start:709 stop:728 text:national statistics,\n",
       " span id:A5812 annotator:Alisha layer:Policydesigncharacteristics type:Reversibility tag:Reversibility_policy start:771 stop:802 text:excessive burden on respondents,\n",
       " span id:A5813 annotator:Alisha layer:Policydesigncharacteristics type:Actor tag:Authority_monitoring start:814 stop:824 text:commission,\n",
       " span id:A5814 annotator:Alisha layer:Policydesigncharacteristics type:Actor tag:Authority_monitoring start:826 stop:834 text:eurostat,\n",
       " span id:A5815 annotator:Alisha layer:Policydesigncharacteristics type:Time tag:Time_Monitoring start:854 stop:860 text:yearly,\n",
       " span id:A5816 annotator:Alisha layer:Policydesigncharacteristics type:Compliance tag:Form_monitoring start:861 stop:878 text:energy statistics,\n",
       " span id:A5817 annotator:Alisha layer:Policydesigncharacteristics type:Time tag:Time_Monitoring start:882 stop:892 text:31 january,\n",
       " span id:B8093 annotator:Fride layer:Policydesigncharacteristics type:Actor tag:Addressee_default start:48 stop:61 text:member states,\n",
       " span id:B8094 annotator:Fride layer:Policydesigncharacteristics type:Actor tag:Addressee_resource start:84 stop:105 text:commission (eurostat),\n",
       " span id:B8095 annotator:Fride layer:Policydesigncharacteristics type:Resource tag:Resource_Other start:110 stop:129 text:national statistics,\n",
       " span id:B8096 annotator:Fride layer:Policydesigncharacteristics type:Time tag:Time_Resources start:228 stop:239 text:time limits,\n",
       " span id:B8097 annotator:Fride layer:Policydesigncharacteristics type:Resource tag:Resource_Other start:366 stop:385 text:national statistics,\n",
       " span id:B8098 annotator:Fride layer:Policydesigncharacteristics type:Actor tag:Addressee_default start:528 stop:540 text:member state,\n",
       " span id:B8099 annotator:Fride layer:Policydesigncharacteristics type:Actor tag:Authority_default start:601 stop:611 text:commission,\n",
       " span id:B8100 annotator:Fride layer:Policydesigncharacteristics type:Resource tag:Resource_Other start:709 stop:728 text:national statistics,\n",
       " span id:B8101 annotator:Fride layer:Policydesigncharacteristics type:Actor tag:Addressee_default start:814 stop:835 text:commission (eurostat),\n",
       " span id:B8102 annotator:Fride layer:Policydesigncharacteristics type:Resource tag:Resource_Other start:861 stop:878 text:energy statistics,\n",
       " span id:B8103 annotator:Fride layer:Policydesigncharacteristics type:Time tag:Time_Compliance start:882 stop:941 text:31 january of the second year following the reported period]"
      ]
     },
     "execution_count": 21,
     "metadata": {},
     "output_type": "execute_result"
    }
   ],
   "source": [
    "test_dir = repository.from_repository_name('EU_32008R1099_Title_0_Chapter_0_Section_0_Article_05')\n",
    "span_list = test_evaluator.get_span_list(test_dir, columns = ['Alisha', 'Fride'], item = 'layer', value = 'Policydesigncharacteristics')\n",
    "span_list"
   ]
  },
  {
   "cell_type": "code",
   "execution_count": 22,
   "metadata": {},
   "outputs": [
    {
     "data": {
      "text/plain": [
       "0.0"
      ]
     },
     "execution_count": 22,
     "metadata": {},
     "output_type": "execute_result"
    }
   ],
   "source": [
    "test_evaluator.get_score_spanlist(span_list, 'f1_heuristic')"
   ]
  },
  {
   "cell_type": "markdown",
   "metadata": {},
   "source": [
    "## Check closeness to curation"
   ]
  },
  {
   "cell_type": "markdown",
   "metadata": {},
   "source": [
    "To check the agreement with the curation of all annotators, we simply create a spanlist for each annotator containing all his spans and the ones from the curation\n",
    "Since this is based on a big list instead of a dataframe, the computation is very slow"
   ]
  },
  {
   "cell_type": "markdown",
   "metadata": {},
   "source": [
    "**Normally, all the scores can be calculated at the same time. However, there is a bug at the moment and they have to be calculated individually.**"
   ]
  },
  {
   "cell_type": "code",
   "execution_count": null,
   "metadata": {},
   "outputs": [],
   "source": []
  },
  {
   "cell_type": "markdown",
   "metadata": {},
   "source": [
    "### F1 exact"
   ]
  },
  {
   "cell_type": "code",
   "execution_count": 12,
   "metadata": {},
   "outputs": [
    {
     "name": "stderr",
     "output_type": "stream",
     "text": [
      "100%|██████████| 412/412 [00:03<00:00, 117.91it/s]\n",
      "100%|██████████| 412/412 [00:02<00:00, 148.44it/s]\n",
      "100%|██████████| 412/412 [00:02<00:00, 160.66it/s]\n",
      "100%|██████████| 412/412 [00:03<00:00, 119.88it/s]\n"
     ]
    },
    {
     "data": {
      "text/plain": [
       "{'Onerva': {'f1_exact': 0.6732862244002309},\n",
       " 'Alisha': {'f1_exact': 0.574676845271569},\n",
       " 'Fabian': {'f1_exact': 0.43231750058721435},\n",
       " 'Fride': {'f1_exact': 0.6829956559202468}}"
      ]
     },
     "execution_count": 12,
     "metadata": {},
     "output_type": "execute_result"
    }
   ],
   "source": [
    "#no weighting\n",
    "test_evaluator = Inter_Annotator_Agreement(stat_df)\n",
    "test_evaluator.keep_only_finished_articles()\n",
    "scoring_metrics = ['f1_exact']\n",
    "test_evaluator.append_score_to_curation(scoring_metrics)\n",
    "test_evaluator.get_to_curation_score(weight_by = 'no_weighting')"
   ]
  },
  {
   "cell_type": "code",
   "execution_count": 13,
   "metadata": {},
   "outputs": [
    {
     "data": {
      "text/plain": [
       "{'Onerva': {'f1_exact': 0.6487655252174788},\n",
       " 'Alisha': {'f1_exact': 0.5462982718156604},\n",
       " 'Fabian': {'f1_exact': 0.3859744866634834},\n",
       " 'Fride': {'f1_exact': 0.6829841040462425}}"
      ]
     },
     "execution_count": 13,
     "metadata": {},
     "output_type": "execute_result"
    }
   ],
   "source": [
    "#weight by spans\n",
    "test_evaluator.get_to_curation_score(weight_by = 'Spans')"
   ]
  },
  {
   "cell_type": "code",
   "execution_count": 14,
   "metadata": {},
   "outputs": [
    {
     "data": {
      "text/plain": [
       "{'Onerva': {'f1_exact': 0.6497229248404979},\n",
       " 'Alisha': {'f1_exact': 0.5475251978127618},\n",
       " 'Fabian': {'f1_exact': 0.3884944280696229},\n",
       " 'Fride': {'f1_exact': 0.6807736554301652}}"
      ]
     },
     "execution_count": 14,
     "metadata": {},
     "output_type": "execute_result"
    }
   ],
   "source": [
    "#weight by Tokens\n",
    "test_evaluator.get_to_curation_score(weight_by = 'Tokens')"
   ]
  },
  {
   "cell_type": "markdown",
   "metadata": {},
   "source": [
    "### F1 partial"
   ]
  },
  {
   "cell_type": "code",
   "execution_count": 15,
   "metadata": {},
   "outputs": [
    {
     "name": "stderr",
     "output_type": "stream",
     "text": [
      "100%|██████████| 412/412 [00:03<00:00, 121.87it/s]\n",
      "100%|██████████| 412/412 [00:02<00:00, 142.85it/s]\n",
      "100%|██████████| 412/412 [00:02<00:00, 159.89it/s]\n",
      "100%|██████████| 412/412 [00:03<00:00, 120.13it/s]\n"
     ]
    },
    {
     "data": {
      "text/plain": [
       "{'Onerva': {'f1_partial': 0.7160416942508684},\n",
       " 'Alisha': {'f1_partial': 0.6370336784394007},\n",
       " 'Fabian': {'f1_partial': 0.49015694287418154},\n",
       " 'Fride': {'f1_partial': 0.7364141686616807}}"
      ]
     },
     "execution_count": 15,
     "metadata": {},
     "output_type": "execute_result"
    }
   ],
   "source": [
    "#no weighting\n",
    "test_evaluator = Inter_Annotator_Agreement(stat_df)\n",
    "test_evaluator.keep_only_finished_articles()\n",
    "scoring_metrics = ['f1_partial']\n",
    "test_evaluator.append_score_to_curation(scoring_metrics)\n",
    "test_evaluator.get_to_curation_score(weight_by = 'no_weighting')"
   ]
  },
  {
   "cell_type": "code",
   "execution_count": 16,
   "metadata": {},
   "outputs": [
    {
     "data": {
      "text/plain": [
       "{'Onerva': {'f1_partial': 0.6919092874742293},\n",
       " 'Alisha': {'f1_partial': 0.6046511627906977},\n",
       " 'Fabian': {'f1_partial': 0.4219933146872233},\n",
       " 'Fride': {'f1_partial': 0.7295881502890171}}"
      ]
     },
     "execution_count": 16,
     "metadata": {},
     "output_type": "execute_result"
    }
   ],
   "source": [
    "#weight by spans\n",
    "test_evaluator.get_to_curation_score(weight_by = 'Spans')"
   ]
  },
  {
   "cell_type": "code",
   "execution_count": 17,
   "metadata": {},
   "outputs": [
    {
     "data": {
      "text/plain": [
       "{'Onerva': {'f1_partial': 0.6926120329988612},\n",
       " 'Alisha': {'f1_partial': 0.6053944023319054},\n",
       " 'Fabian': {'f1_partial': 0.42722291795144346},\n",
       " 'Fride': {'f1_partial': 0.7273136810436603}}"
      ]
     },
     "execution_count": 17,
     "metadata": {},
     "output_type": "execute_result"
    }
   ],
   "source": [
    "test_evaluator.get_to_curation_score(weight_by = 'Tokens')"
   ]
  },
  {
   "cell_type": "markdown",
   "metadata": {},
   "source": [
    "### F1 Heuristic"
   ]
  },
  {
   "cell_type": "code",
   "execution_count": 18,
   "metadata": {},
   "outputs": [
    {
     "name": "stderr",
     "output_type": "stream",
     "text": [
      "100%|██████████| 412/412 [00:00<00:00, 873.98it/s] \n",
      "100%|██████████| 412/412 [00:00<00:00, 1285.35it/s]\n",
      "100%|██████████| 412/412 [00:00<00:00, 1559.07it/s]\n",
      "100%|██████████| 412/412 [00:00<00:00, 966.04it/s] \n"
     ]
    },
    {
     "data": {
      "text/plain": [
       "{'Onerva': {'f1_heuristic': 0.7418035160958896},\n",
       " 'Alisha': {'f1_heuristic': 0.6622106992758143},\n",
       " 'Fabian': {'f1_heuristic': 0.5092491205438597},\n",
       " 'Fride': {'f1_heuristic': 0.7520213456882968}}"
      ]
     },
     "execution_count": 18,
     "metadata": {},
     "output_type": "execute_result"
    }
   ],
   "source": [
    "#no weighting\n",
    "test_evaluator = Inter_Annotator_Agreement(stat_df)\n",
    "test_evaluator.keep_only_finished_articles()\n",
    "scoring_metrics = ['f1_heuristic']\n",
    "test_evaluator.append_score_to_curation(scoring_metrics)\n",
    "test_evaluator.get_to_curation_score(weight_by = 'no_weighting')"
   ]
  },
  {
   "cell_type": "code",
   "execution_count": 19,
   "metadata": {},
   "outputs": [
    {
     "data": {
      "text/plain": [
       "{'Onerva': {'f1_heuristic': 0.7151208327340163},\n",
       " 'Alisha': {'f1_heuristic': 0.6314991627071533},\n",
       " 'Fabian': {'f1_heuristic': 0.4412883241131821},\n",
       " 'Fride': {'f1_heuristic': 0.7434392410812806}}"
      ]
     },
     "execution_count": 19,
     "metadata": {},
     "output_type": "execute_result"
    }
   ],
   "source": [
    "#weight by spans\n",
    "test_evaluator.get_to_curation_score(weight_by = 'Spans')"
   ]
  },
  {
   "cell_type": "code",
   "execution_count": 20,
   "metadata": {},
   "outputs": [
    {
     "data": {
      "text/plain": [
       "{'Onerva': {'f1_heuristic': 0.7155316902447743},\n",
       " 'Alisha': {'f1_heuristic': 0.630782505115647},\n",
       " 'Fabian': {'f1_heuristic': 0.44587542344065123},\n",
       " 'Fride': {'f1_heuristic': 0.7406803749512647}}"
      ]
     },
     "execution_count": 20,
     "metadata": {},
     "output_type": "execute_result"
    }
   ],
   "source": [
    "#weight by Tokens\n",
    "test_evaluator.get_to_curation_score(weight_by = 'Tokens')"
   ]
  },
  {
   "cell_type": "markdown",
   "metadata": {},
   "source": [
    "### Pygamma"
   ]
  },
  {
   "cell_type": "code",
   "execution_count": null,
   "metadata": {},
   "outputs": [
    {
     "name": "stderr",
     "output_type": "stream",
     "text": [
      "100%|██████████| 412/412 [01:15<00:00,  5.44it/s]\n",
      "100%|██████████| 412/412 [00:58<00:00,  7.05it/s]\n",
      "100%|██████████| 412/412 [00:44<00:00,  9.33it/s]\n",
      "  7%|▋         | 27/412 [00:03<00:35, 10.92it/s]"
     ]
    }
   ],
   "source": [
    "#no weighting\n",
    "test_evaluator = Inter_Annotator_Agreement(stat_df)\n",
    "test_evaluator.keep_only_finished_articles()\n",
    "scoring_metrics = ['pygamma']\n",
    "test_evaluator.append_score_to_curation(scoring_metrics, category_list = category_list, cat_dissimilarity_matrix = cat_dissimilarity_matrix)\n",
    "test_evaluator.get_to_curation_score(weight_by = 'no_weighting')"
   ]
  },
  {
   "cell_type": "code",
   "execution_count": null,
   "metadata": {},
   "outputs": [],
   "source": [
    "#weight by spans\n",
    "test_evaluator.get_to_curation_score(weight_by = 'Spans')"
   ]
  },
  {
   "cell_type": "code",
   "execution_count": null,
   "metadata": {},
   "outputs": [],
   "source": [
    "#weight by Tokens\n",
    "test_evaluator.get_to_curation_score(weight_by = 'Tokens')"
   ]
  },
  {
   "cell_type": "code",
   "execution_count": null,
   "metadata": {},
   "outputs": [],
   "source": []
  },
  {
   "cell_type": "markdown",
   "metadata": {},
   "source": [
    "## Get total score "
   ]
  },
  {
   "cell_type": "markdown",
   "metadata": {},
   "source": [
    "### F1 exact"
   ]
  },
  {
   "cell_type": "code",
   "execution_count": 24,
   "metadata": {},
   "outputs": [
    {
     "name": "stderr",
     "output_type": "stream",
     "text": [
      "100%|██████████| 412/412 [00:03<00:00, 113.63it/s]\n",
      "100%|██████████| 412/412 [00:02<00:00, 145.61it/s]\n",
      "100%|██████████| 412/412 [00:02<00:00, 159.49it/s]\n",
      "100%|██████████| 412/412 [00:03<00:00, 116.52it/s]\n"
     ]
    },
    {
     "data": {
      "text/plain": [
       "{'f1_exact': 0.5988896876960187}"
      ]
     },
     "execution_count": 24,
     "metadata": {},
     "output_type": "execute_result"
    }
   ],
   "source": [
    "#no weighting\n",
    "test_evaluator = Inter_Annotator_Agreement(stat_df)\n",
    "test_evaluator.keep_only_finished_articles()\n",
    "scoring_metrics = ['f1_exact']\n",
    "test_evaluator.append_score_to_curation(scoring_metrics)\n",
    "test_evaluator.get_to_curation_score_total(weight_by = 'no_weighting')"
   ]
  },
  {
   "cell_type": "code",
   "execution_count": 25,
   "metadata": {},
   "outputs": [
    {
     "data": {
      "text/plain": [
       "{'f1_exact': 0.5742673921447767}"
      ]
     },
     "execution_count": 25,
     "metadata": {},
     "output_type": "execute_result"
    }
   ],
   "source": [
    "test_evaluator.get_to_curation_score_total(weight_by = 'Spans')"
   ]
  },
  {
   "cell_type": "code",
   "execution_count": 26,
   "metadata": {},
   "outputs": [
    {
     "data": {
      "text/plain": [
       "{'f1_exact': 0.5720544815512948}"
      ]
     },
     "execution_count": 26,
     "metadata": {},
     "output_type": "execute_result"
    }
   ],
   "source": [
    "test_evaluator.get_to_curation_score_total(weight_by = 'Tokens')"
   ]
  },
  {
   "cell_type": "markdown",
   "metadata": {},
   "source": [
    "### F1 partial"
   ]
  },
  {
   "cell_type": "code",
   "execution_count": 27,
   "metadata": {},
   "outputs": [
    {
     "name": "stderr",
     "output_type": "stream",
     "text": [
      "100%|██████████| 412/412 [00:03<00:00, 116.37it/s]\n",
      "100%|██████████| 412/412 [00:02<00:00, 146.85it/s]\n",
      "100%|██████████| 412/412 [00:02<00:00, 160.66it/s]\n",
      "100%|██████████| 412/412 [00:03<00:00, 119.04it/s]\n"
     ]
    },
    {
     "data": {
      "text/plain": [
       "{'f1_partial': 0.65271203543617}"
      ]
     },
     "execution_count": 27,
     "metadata": {},
     "output_type": "execute_result"
    }
   ],
   "source": [
    "#no weighting\n",
    "test_evaluator = Inter_Annotator_Agreement(stat_df)\n",
    "test_evaluator.keep_only_finished_articles()\n",
    "scoring_metrics = ['f1_partial']\n",
    "test_evaluator.append_score_to_curation(scoring_metrics)\n",
    "test_evaluator.get_to_curation_score_total(weight_by = 'no_weighting')"
   ]
  },
  {
   "cell_type": "code",
   "execution_count": 28,
   "metadata": {},
   "outputs": [
    {
     "data": {
      "text/plain": [
       "{'f1_partial': 0.6211169455066855}"
      ]
     },
     "execution_count": 28,
     "metadata": {},
     "output_type": "execute_result"
    }
   ],
   "source": [
    "test_evaluator.get_to_curation_score_total(weight_by = 'Spans')"
   ]
  },
  {
   "cell_type": "code",
   "execution_count": 29,
   "metadata": {},
   "outputs": [
    {
     "data": {
      "text/plain": [
       "{'f1_partial': 0.6185247079726235}"
      ]
     },
     "execution_count": 29,
     "metadata": {},
     "output_type": "execute_result"
    }
   ],
   "source": [
    "test_evaluator.get_to_curation_score_total(weight_by = 'Tokens')"
   ]
  },
  {
   "cell_type": "markdown",
   "metadata": {},
   "source": [
    "### F1 heuristic"
   ]
  },
  {
   "cell_type": "code",
   "execution_count": 30,
   "metadata": {},
   "outputs": [
    {
     "name": "stderr",
     "output_type": "stream",
     "text": [
      "100%|██████████| 412/412 [00:00<00:00, 844.33it/s]\n",
      "100%|██████████| 412/412 [00:00<00:00, 1262.79it/s]\n",
      "100%|██████████| 412/412 [00:00<00:00, 1519.48it/s]\n",
      "100%|██████████| 412/412 [00:00<00:00, 901.46it/s]\n"
     ]
    },
    {
     "data": {
      "text/plain": [
       "{'f1_heuristic': 0.6738591198644103}"
      ]
     },
     "execution_count": 30,
     "metadata": {},
     "output_type": "execute_result"
    }
   ],
   "source": [
    "#no weighting\n",
    "test_evaluator = Inter_Annotator_Agreement(stat_df)\n",
    "test_evaluator.keep_only_finished_articles()\n",
    "scoring_metrics = ['f1_heuristic']\n",
    "test_evaluator.append_score_to_curation(scoring_metrics)\n",
    "test_evaluator.get_to_curation_score_total(weight_by = 'no_weighting')"
   ]
  },
  {
   "cell_type": "code",
   "execution_count": 31,
   "metadata": {},
   "outputs": [
    {
     "data": {
      "text/plain": [
       "{'f1_heuristic': 0.6417420284651623}"
      ]
     },
     "execution_count": 31,
     "metadata": {},
     "output_type": "execute_result"
    }
   ],
   "source": [
    "test_evaluator.get_to_curation_score_total(weight_by = 'Spans')"
   ]
  },
  {
   "cell_type": "code",
   "execution_count": 32,
   "metadata": {},
   "outputs": [
    {
     "data": {
      "text/plain": [
       "{'f1_heuristic': 0.6385253916986301}"
      ]
     },
     "execution_count": 32,
     "metadata": {},
     "output_type": "execute_result"
    }
   ],
   "source": [
    "test_evaluator.get_to_curation_score_total(weight_by = 'Tokens')"
   ]
  },
  {
   "cell_type": "markdown",
   "metadata": {},
   "source": [
    "### Pygamma"
   ]
  },
  {
   "cell_type": "code",
   "execution_count": null,
   "metadata": {},
   "outputs": [],
   "source": [
    "#no weighting\n",
    "test_evaluator = Inter_Annotator_Agreement(stat_df)\n",
    "test_evaluator.keep_only_finished_articles()\n",
    "scoring_metrics = ['pygamma']\n",
    "test_evaluator.append_score_to_curation(scoring_metrics, category_list = category_list, cat_dissimilarity_matrix = cat_dissimilarity_matrix)\n",
    "test_evaluator.get_to_curation_score_total(weight_by = 'no_weighting')"
   ]
  },
  {
   "cell_type": "code",
   "execution_count": null,
   "metadata": {},
   "outputs": [],
   "source": [
    "test_evaluator.get_to_curation_score_total(weight_by = 'Spans')"
   ]
  },
  {
   "cell_type": "code",
   "execution_count": null,
   "metadata": {},
   "outputs": [],
   "source": [
    "test_evaluator.get_to_curation_score_total(weight_by = 'Tokens')"
   ]
  },
  {
   "cell_type": "code",
   "execution_count": null,
   "metadata": {},
   "outputs": [],
   "source": []
  },
  {
   "cell_type": "code",
   "execution_count": null,
   "metadata": {},
   "outputs": [],
   "source": []
  },
  {
   "cell_type": "code",
   "execution_count": null,
   "metadata": {},
   "outputs": [],
   "source": []
  },
  {
   "cell_type": "code",
   "execution_count": null,
   "metadata": {},
   "outputs": [],
   "source": []
  },
  {
   "cell_type": "markdown",
   "metadata": {},
   "source": [
    "### Get Total score"
   ]
  },
  {
   "cell_type": "code",
   "execution_count": 19,
   "metadata": {},
   "outputs": [
    {
     "data": {
      "text/plain": [
       "{'f1_partial': 0.5988330546269173,\n",
       " 'f1_tokenwise': 0.5511742301973737,\n",
       " 'pygamma': 0.652038841983237,\n",
       " 'f1_heuristic': 0.6738591198644103,\n",
       " 'f1_exact': 0.5870110472498731}"
      ]
     },
     "execution_count": 19,
     "metadata": {},
     "output_type": "execute_result"
    }
   ],
   "source": [
    "test_evaluator.get_to_curation_score_total(weight_by = 'no_weighting')"
   ]
  },
  {
   "cell_type": "code",
   "execution_count": 20,
   "metadata": {},
   "outputs": [
    {
     "data": {
      "text/plain": [
       "{'f1_partial': 0.5988330546269173,\n",
       " 'f1_tokenwise': 0.5511742301973737,\n",
       " 'pygamma': 0.652038841983237,\n",
       " 'f1_heuristic': 0.6738591198644103,\n",
       " 'f1_exact': 0.5870110472498731}"
      ]
     },
     "execution_count": 20,
     "metadata": {},
     "output_type": "execute_result"
    }
   ],
   "source": [
    "test_evaluator.get_to_curation_score_total(weight_by = 'no_weighting')"
   ]
  },
  {
   "cell_type": "code",
   "execution_count": 21,
   "metadata": {},
   "outputs": [
    {
     "data": {
      "text/plain": [
       "{'f1_partial': 0.5720086969600027,\n",
       " 'f1_tokenwise': 0.5115311549762288,\n",
       " 'pygamma': 0.6177879879042762,\n",
       " 'f1_heuristic': 0.6385253916986301,\n",
       " 'f1_exact': 0.5686882403542074}"
      ]
     },
     "execution_count": 21,
     "metadata": {},
     "output_type": "execute_result"
    }
   ],
   "source": [
    "test_evaluator.get_to_curation_score_total(weight_by = 'Tokens')"
   ]
  },
  {
   "cell_type": "code",
   "execution_count": 22,
   "metadata": {},
   "outputs": [
    {
     "data": {
      "text/plain": [
       "{'f1_partial': 0.5742097335208172,\n",
       " 'f1_tokenwise': 0.5135427297793449,\n",
       " 'pygamma': 0.6203035248148135,\n",
       " 'f1_heuristic': 0.6417420284651623,\n",
       " 'f1_exact': 0.5708419751663366}"
      ]
     },
     "execution_count": 22,
     "metadata": {},
     "output_type": "execute_result"
    }
   ],
   "source": [
    "test_evaluator.get_to_curation_score_total(weight_by = 'Spans')"
   ]
  },
  {
   "cell_type": "markdown",
   "metadata": {},
   "source": [
    "# Check scores in different categories"
   ]
  },
  {
   "cell_type": "code",
   "execution_count": 79,
   "metadata": {},
   "outputs": [
    {
     "ename": "AttributeError",
     "evalue": "'numpy.float64' object has no attribute 'rep'",
     "output_type": "error",
     "traceback": [
      "\u001b[0;31m---------------------------------------------------------------------------\u001b[0m",
      "\u001b[0;31mAttributeError\u001b[0m                            Traceback (most recent call last)",
      "\u001b[0;32m<ipython-input-79-001fb644e5bb>\u001b[0m in \u001b[0;36m<module>\u001b[0;34m\u001b[0m\n\u001b[1;32m      3\u001b[0m \u001b[0;34m\u001b[0m\u001b[0m\n\u001b[1;32m      4\u001b[0m \u001b[0;32mfor\u001b[0m \u001b[0ml\u001b[0m \u001b[0;32min\u001b[0m \u001b[0mlayers\u001b[0m\u001b[0;34m:\u001b[0m\u001b[0;34m\u001b[0m\u001b[0;34m\u001b[0m\u001b[0m\n\u001b[0;32m----> 5\u001b[0;31m     \u001b[0mspan_list_layer\u001b[0m \u001b[0;34m=\u001b[0m \u001b[0mtest_evaluator\u001b[0m\u001b[0;34m.\u001b[0m\u001b[0mget_span_list\u001b[0m\u001b[0;34m(\u001b[0m\u001b[0mrepo\u001b[0m\u001b[0;34m,\u001b[0m \u001b[0mcolumns\u001b[0m \u001b[0;34m=\u001b[0m \u001b[0;34m'annotators'\u001b[0m\u001b[0;34m,\u001b[0m \u001b[0mitem\u001b[0m \u001b[0;34m=\u001b[0m \u001b[0;34m'layer'\u001b[0m\u001b[0;34m,\u001b[0m \u001b[0mvalue\u001b[0m \u001b[0;34m=\u001b[0m \u001b[0ml\u001b[0m\u001b[0;34m)\u001b[0m\u001b[0;34m\u001b[0m\u001b[0;34m\u001b[0m\u001b[0m\n\u001b[0m\u001b[1;32m      6\u001b[0m     \u001b[0mscore\u001b[0m \u001b[0;34m=\u001b[0m \u001b[0mtest_evaluator\u001b[0m\u001b[0;34m.\u001b[0m\u001b[0mget_score_spanlist\u001b[0m\u001b[0;34m(\u001b[0m\u001b[0mspan_list_layer\u001b[0m\u001b[0;34m,\u001b[0m \u001b[0;34m'f1_heuristic'\u001b[0m\u001b[0;34m)\u001b[0m\u001b[0;34m\u001b[0m\u001b[0;34m\u001b[0m\u001b[0m\n\u001b[1;32m      7\u001b[0m     \u001b[0mprint\u001b[0m\u001b[0;34m(\u001b[0m\u001b[0;34m'layer: '\u001b[0m\u001b[0;34m,\u001b[0m \u001b[0ml\u001b[0m\u001b[0;34m,\u001b[0m \u001b[0;34m', score: '\u001b[0m\u001b[0;34m,\u001b[0m \u001b[0mscore\u001b[0m\u001b[0;34m)\u001b[0m\u001b[0;34m\u001b[0m\u001b[0;34m\u001b[0m\u001b[0m\n",
      "\u001b[0;32m~/NLP_spark/src/d02_corpus_statistics/corpus.py\u001b[0m in \u001b[0;36mget_span_list\u001b[0;34m(self, conditional_rep, columns, item, value)\u001b[0m\n\u001b[1;32m     92\u001b[0m \u001b[0;34m\u001b[0m\u001b[0m\n\u001b[1;32m     93\u001b[0m \u001b[0;34m\u001b[0m\u001b[0m\n\u001b[0;32m---> 94\u001b[0;31m         \u001b[0miterator\u001b[0m \u001b[0;34m=\u001b[0m \u001b[0mself\u001b[0m\u001b[0;34m.\u001b[0m\u001b[0m_get_iterator_conditional_rep\u001b[0m\u001b[0;34m(\u001b[0m\u001b[0mconditional_rep\u001b[0m\u001b[0;34m,\u001b[0m \u001b[0mcolumns\u001b[0m\u001b[0;34m)\u001b[0m\u001b[0;34m\u001b[0m\u001b[0;34m\u001b[0m\u001b[0m\n\u001b[0m\u001b[1;32m     95\u001b[0m \u001b[0;34m\u001b[0m\u001b[0m\n\u001b[1;32m     96\u001b[0m         \u001b[0;32mif\u001b[0m \u001b[0mitem\u001b[0m \u001b[0;34m==\u001b[0m \u001b[0;32mNone\u001b[0m \u001b[0;32mand\u001b[0m \u001b[0mvalue\u001b[0m \u001b[0;34m==\u001b[0m \u001b[0;32mNone\u001b[0m\u001b[0;34m:\u001b[0m\u001b[0;34m\u001b[0m\u001b[0;34m\u001b[0m\u001b[0m\n",
      "\u001b[0;32m~/NLP_spark/src/d02_corpus_statistics/corpus.py\u001b[0m in \u001b[0;36m_get_iterator_conditional_rep\u001b[0;34m(self, conditional_rep, columns)\u001b[0m\n\u001b[1;32m     64\u001b[0m             \u001b[0miterator\u001b[0m \u001b[0;34m=\u001b[0m \u001b[0mchain\u001b[0m\u001b[0;34m.\u001b[0m\u001b[0mfrom_iterable\u001b[0m\u001b[0;34m(\u001b[0m\u001b[0mself\u001b[0m\u001b[0;34m.\u001b[0m\u001b[0mdf\u001b[0m\u001b[0;34m[\u001b[0m\u001b[0mcolumns\u001b[0m\u001b[0;34m]\u001b[0m\u001b[0;34m.\u001b[0m\u001b[0mstack\u001b[0m\u001b[0;34m(\u001b[0m\u001b[0;34m)\u001b[0m\u001b[0;34m)\u001b[0m\u001b[0;34m\u001b[0m\u001b[0;34m\u001b[0m\u001b[0m\n\u001b[1;32m     65\u001b[0m \u001b[0;34m\u001b[0m\u001b[0m\n\u001b[0;32m---> 66\u001b[0;31m         \u001b[0;32mreturn\u001b[0m \u001b[0;34m[\u001b[0m\u001b[0mx\u001b[0m \u001b[0;32mfor\u001b[0m \u001b[0mx\u001b[0m \u001b[0;32min\u001b[0m \u001b[0miterator\u001b[0m \u001b[0;32mif\u001b[0m \u001b[0mtype\u001b[0m\u001b[0;34m(\u001b[0m\u001b[0mx\u001b[0m\u001b[0;34m)\u001b[0m\u001b[0;34m!=\u001b[0m \u001b[0mstr\u001b[0m \u001b[0;32mand\u001b[0m \u001b[0mx\u001b[0m\u001b[0;34m.\u001b[0m\u001b[0mrep\u001b[0m\u001b[0;34m.\u001b[0m\u001b[0mmatch\u001b[0m\u001b[0;34m(\u001b[0m\u001b[0mconditional_rep\u001b[0m\u001b[0;34m)\u001b[0m \u001b[0;34m==\u001b[0m \u001b[0;32mTrue\u001b[0m\u001b[0;34m]\u001b[0m\u001b[0;34m\u001b[0m\u001b[0;34m\u001b[0m\u001b[0m\n\u001b[0m\u001b[1;32m     67\u001b[0m \u001b[0;34m\u001b[0m\u001b[0m\n\u001b[1;32m     68\u001b[0m \u001b[0;34m\u001b[0m\u001b[0m\n",
      "\u001b[0;32m~/NLP_spark/src/d02_corpus_statistics/corpus.py\u001b[0m in \u001b[0;36m<listcomp>\u001b[0;34m(.0)\u001b[0m\n\u001b[1;32m     64\u001b[0m             \u001b[0miterator\u001b[0m \u001b[0;34m=\u001b[0m \u001b[0mchain\u001b[0m\u001b[0;34m.\u001b[0m\u001b[0mfrom_iterable\u001b[0m\u001b[0;34m(\u001b[0m\u001b[0mself\u001b[0m\u001b[0;34m.\u001b[0m\u001b[0mdf\u001b[0m\u001b[0;34m[\u001b[0m\u001b[0mcolumns\u001b[0m\u001b[0;34m]\u001b[0m\u001b[0;34m.\u001b[0m\u001b[0mstack\u001b[0m\u001b[0;34m(\u001b[0m\u001b[0;34m)\u001b[0m\u001b[0;34m)\u001b[0m\u001b[0;34m\u001b[0m\u001b[0;34m\u001b[0m\u001b[0m\n\u001b[1;32m     65\u001b[0m \u001b[0;34m\u001b[0m\u001b[0m\n\u001b[0;32m---> 66\u001b[0;31m         \u001b[0;32mreturn\u001b[0m \u001b[0;34m[\u001b[0m\u001b[0mx\u001b[0m \u001b[0;32mfor\u001b[0m \u001b[0mx\u001b[0m \u001b[0;32min\u001b[0m \u001b[0miterator\u001b[0m \u001b[0;32mif\u001b[0m \u001b[0mtype\u001b[0m\u001b[0;34m(\u001b[0m\u001b[0mx\u001b[0m\u001b[0;34m)\u001b[0m\u001b[0;34m!=\u001b[0m \u001b[0mstr\u001b[0m \u001b[0;32mand\u001b[0m \u001b[0mx\u001b[0m\u001b[0;34m.\u001b[0m\u001b[0mrep\u001b[0m\u001b[0;34m.\u001b[0m\u001b[0mmatch\u001b[0m\u001b[0;34m(\u001b[0m\u001b[0mconditional_rep\u001b[0m\u001b[0;34m)\u001b[0m \u001b[0;34m==\u001b[0m \u001b[0;32mTrue\u001b[0m\u001b[0;34m]\u001b[0m\u001b[0;34m\u001b[0m\u001b[0;34m\u001b[0m\u001b[0m\n\u001b[0m\u001b[1;32m     67\u001b[0m \u001b[0;34m\u001b[0m\u001b[0m\n\u001b[1;32m     68\u001b[0m \u001b[0;34m\u001b[0m\u001b[0m\n",
      "\u001b[0;31mAttributeError\u001b[0m: 'numpy.float64' object has no attribute 'rep'"
     ]
    }
   ],
   "source": [
    "layers = ['Technologyandapplicationspecificity', 'Policydesigncharacteristics', 'Instrumenttypes' ]\n",
    "repo = repository()\n",
    "\n",
    "for l in layers:\n",
    "    span_list_layer = test_evaluator.get_span_list(repo, columns = 'annotators', item = 'layer', value = l)\n",
    "    score = test_evaluator.get_score_spanlist(span_list_layer, 'f1_heuristic')\n",
    "    print('layer: ', l, ', score: ', score)\n",
    "    "
   ]
  },
  {
   "cell_type": "code",
   "execution_count": null,
   "metadata": {},
   "outputs": [],
   "source": [
    "all_tags = "
   ]
  },
  {
   "cell_type": "code",
   "execution_count": null,
   "metadata": {},
   "outputs": [],
   "source": []
  },
  {
   "cell_type": "code",
   "execution_count": null,
   "metadata": {},
   "outputs": [],
   "source": []
  },
  {
   "cell_type": "code",
   "execution_count": 11,
   "metadata": {},
   "outputs": [
    {
     "name": "stderr",
     "output_type": "stream",
     "text": [
      "100%|██████████| 412/412 [00:03<00:00, 120.29it/s]\n",
      "100%|██████████| 412/412 [00:02<00:00, 143.50it/s]\n",
      "100%|██████████| 412/412 [00:02<00:00, 163.12it/s]\n",
      "100%|██████████| 412/412 [00:03<00:00, 123.25it/s]\n"
     ]
    },
    {
     "data": {
      "text/plain": [
       "{'Fride': {'f1_exact': 0.6829956559202468},\n",
       " 'Alisha': {'f1_exact': 0.574676845271569},\n",
       " 'Fabian': {'f1_exact': 0.43231750058721435},\n",
       " 'Onerva': {'f1_exact': 0.6732862244002309}}"
      ]
     },
     "execution_count": 11,
     "metadata": {},
     "output_type": "execute_result"
    }
   ],
   "source": [
    "#compare influence of soft dissimilarity\n",
    "#without matrix\n",
    "test_evaluator = Inter_Annotator_Agreement(stat_df)\n",
    "test_evaluator.keep_only_finished_articles()\n",
    "scoring_metrics = ['f1_exact']\n",
    "test_evaluator.append_score_to_curation(scoring_metrics)\n",
    "test_evaluator.get_to_curation_score(weight_by = 'no_weighting')"
   ]
  },
  {
   "cell_type": "code",
   "execution_count": 12,
   "metadata": {},
   "outputs": [
    {
     "name": "stderr",
     "output_type": "stream",
     "text": [
      "100%|██████████| 412/412 [00:03<00:00, 116.31it/s]\n",
      "100%|██████████| 412/412 [00:02<00:00, 144.48it/s]\n",
      "100%|██████████| 412/412 [00:02<00:00, 158.51it/s]\n",
      "100%|██████████| 412/412 [00:03<00:00, 118.40it/s]\n"
     ]
    },
    {
     "data": {
      "text/plain": [
       "{'Fride': {'f1_tokenwise': 0.6406458629220034},\n",
       " 'Alisha': {'f1_tokenwise': 0.5344264074636121},\n",
       " 'Fabian': {'f1_tokenwise': 0.37760504426835484},\n",
       " 'Onerva': {'f1_tokenwise': 0.6176183342356287}}"
      ]
     },
     "execution_count": 12,
     "metadata": {},
     "output_type": "execute_result"
    }
   ],
   "source": [
    "#compare influence of soft dissimilarity\n",
    "#without matrix\n",
    "test_evaluator = Inter_Annotator_Agreement(stat_df)\n",
    "test_evaluator.keep_only_finished_articles()\n",
    "scoring_metrics = ['f1_tokenwise']\n",
    "test_evaluator.append_score_to_curation(scoring_metrics)\n",
    "test_evaluator.get_to_curation_score(weight_by = 'no_weighting')"
   ]
  },
  {
   "cell_type": "code",
   "execution_count": 13,
   "metadata": {},
   "outputs": [
    {
     "name": "stderr",
     "output_type": "stream",
     "text": [
      "100%|██████████| 412/412 [00:00<00:00, 1004.34it/s]\n",
      "100%|██████████| 412/412 [00:00<00:00, 1300.17it/s]\n",
      "100%|██████████| 412/412 [00:00<00:00, 1604.44it/s]\n",
      "100%|██████████| 412/412 [00:00<00:00, 917.15it/s] \n"
     ]
    },
    {
     "data": {
      "text/plain": [
       "{'Fride': {'f1_heuristic': 0.7520213456882968},\n",
       " 'Alisha': {'f1_heuristic': 0.6622106992758143},\n",
       " 'Fabian': {'f1_heuristic': 0.5092491205438597},\n",
       " 'Onerva': {'f1_heuristic': 0.7418035160958896}}"
      ]
     },
     "execution_count": 13,
     "metadata": {},
     "output_type": "execute_result"
    }
   ],
   "source": [
    "#compare influence of soft dissimilarity\n",
    "#without matrix\n",
    "test_evaluator = Inter_Annotator_Agreement(stat_df)\n",
    "test_evaluator.keep_only_finished_articles()\n",
    "scoring_metrics = ['f1_heuristic']\n",
    "test_evaluator.append_score_to_curation(scoring_metrics)\n",
    "test_evaluator.get_to_curation_score(weight_by = 'no_weighting')"
   ]
  },
  {
   "cell_type": "code",
   "execution_count": null,
   "metadata": {},
   "outputs": [],
   "source": []
  }
 ],
 "metadata": {
  "interpreter": {
   "hash": "f1357e5d6940800ae93a3fd23162ea93a77a6c89f02c68504dcfa719d1ffeee2"
  },
  "kernelspec": {
   "display_name": "Python [conda env:miniconda3-nlp_spark]",
   "language": "python",
   "name": "conda-env-miniconda3-nlp_spark-py"
  },
  "language_info": {
   "codemirror_mode": {
    "name": "ipython",
    "version": 3
   },
   "file_extension": ".py",
   "mimetype": "text/x-python",
   "name": "python",
   "nbconvert_exporter": "python",
   "pygments_lexer": "ipython3",
   "version": "3.7.10"
  }
 },
 "nbformat": 4,
 "nbformat_minor": 4
}
