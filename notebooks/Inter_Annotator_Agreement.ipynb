{
 "cells": [
  {
   "cell_type": "markdown",
   "metadata": {},
   "source": [
    "# Notebook to calculate Inter Annotator Agreement"
   ]
  },
  {
   "cell_type": "markdown",
   "metadata": {},
   "source": [
    "### Import the libraries"
   ]
  },
  {
   "cell_type": "code",
   "execution_count": 1,
   "metadata": {},
   "outputs": [],
   "source": [
    "import sys\n",
    "import pandas as pd\n",
    "import collections \n",
    "import os\n",
    "import numpy as np\n",
    "from itertools import chain\n",
    "from itertools import combinations\n",
    "sys.path.insert(0, '..')\n",
    "from src.experiment_utils.helper_classes import token, span, repository\n",
    "from src.d02_corpus_statistics.corpus import Corpus\n",
    "from src.d03_inter_annotator_agreement.inter_annotator_agremment import Inter_Annotator_Agreement, _get_score_article\n",
    "from definitions import df_annotation_marker\n",
    "from src.d03_inter_annotator_agreement.inter_annotator_agremment import row_to_span_list, keep_valid_anotations\n",
    "\n",
    "\n",
    "from definitions import ROOT_DIR\n"
   ]
  },
  {
   "cell_type": "markdown",
   "metadata": {},
   "source": [
    "## Small Tutorial"
   ]
  },
  {
   "cell_type": "markdown",
   "metadata": {},
   "source": [
    "Load the dataframe stat_df"
   ]
  },
  {
   "cell_type": "code",
   "execution_count": 2,
   "metadata": {},
   "outputs": [
    {
     "data": {
      "text/html": [
       "<div>\n",
       "<style scoped>\n",
       "    .dataframe tbody tr th:only-of-type {\n",
       "        vertical-align: middle;\n",
       "    }\n",
       "\n",
       "    .dataframe tbody tr th {\n",
       "        vertical-align: top;\n",
       "    }\n",
       "\n",
       "    .dataframe thead th {\n",
       "        text-align: right;\n",
       "    }\n",
       "</style>\n",
       "<table border=\"1\" class=\"dataframe\">\n",
       "  <thead>\n",
       "    <tr style=\"text-align: right;\">\n",
       "      <th></th>\n",
       "      <th>Policy</th>\n",
       "      <th>Text</th>\n",
       "      <th>Tokens</th>\n",
       "      <th>Article_State</th>\n",
       "      <th>Finished_Annotators</th>\n",
       "      <th>Curation</th>\n",
       "      <th>Alisha</th>\n",
       "      <th>Fride</th>\n",
       "      <th>Onerva</th>\n",
       "      <th>Fabian</th>\n",
       "      <th>Lynn</th>\n",
       "      <th>Sebastian</th>\n",
       "      <th>Joel</th>\n",
       "    </tr>\n",
       "  </thead>\n",
       "  <tbody>\n",
       "    <tr>\n",
       "      <th>EU_32018R1999_Title_0_Chapter_7_Section_3_Article_43</th>\n",
       "      <td></td>\n",
       "      <td>article 43\\r\\nexercise of the delegation\\r\\n1....</td>\n",
       "      <td>[start:0 stop:7 text:article tag_count:0, star...</td>\n",
       "      <td>CURATION_FINISHED</td>\n",
       "      <td>[Alisha, Fride]</td>\n",
       "      <td>[span id:CUR0 annotator:Curation layer:Instrum...</td>\n",
       "      <td>[span id:A1 annotator:Alisha layer:Instrumentt...</td>\n",
       "      <td>[span id:B1 annotator:Fride layer:Policydesign...</td>\n",
       "      <td></td>\n",
       "      <td></td>\n",
       "      <td></td>\n",
       "      <td></td>\n",
       "      <td></td>\n",
       "    </tr>\n",
       "    <tr>\n",
       "      <th>EU_32019R0631_Title_0_Chapter_0_Section_0_Article_12</th>\n",
       "      <td></td>\n",
       "      <td>article 12\\r\\nreal-world co2 emissions and fue...</td>\n",
       "      <td>[start:0 stop:7 text:article tag_count:0, star...</td>\n",
       "      <td>CURATION_FINISHED</td>\n",
       "      <td>[Onerva, Fabian]</td>\n",
       "      <td>[span id:CUR36 annotator:Curation layer:Instru...</td>\n",
       "      <td></td>\n",
       "      <td></td>\n",
       "      <td>[span id:C1 annotator:Onerva layer:Instrumentt...</td>\n",
       "      <td>[span id:D1 annotator:Fabian layer:Policydesig...</td>\n",
       "      <td></td>\n",
       "      <td></td>\n",
       "      <td></td>\n",
       "    </tr>\n",
       "    <tr>\n",
       "      <th>EU_32018L2001_Title_0_Chapter_0_Section_0_Article_11</th>\n",
       "      <td></td>\n",
       "      <td>article 11\\r\\njoint projects between member st...</td>\n",
       "      <td>[start:0 stop:7 text:article tag_count:0, star...</td>\n",
       "      <td>CURATION_FINISHED</td>\n",
       "      <td>[Fride, Onerva]</td>\n",
       "      <td>[span id:CUR116 annotator:Curation layer:Instr...</td>\n",
       "      <td></td>\n",
       "      <td>[span id:B28 annotator:Fride layer:Instrumentt...</td>\n",
       "      <td>[span id:C58 annotator:Onerva layer:Instrument...</td>\n",
       "      <td></td>\n",
       "      <td></td>\n",
       "      <td></td>\n",
       "      <td></td>\n",
       "    </tr>\n",
       "    <tr>\n",
       "      <th>EU_32018R1999_Title_0_Chapter_7_Section_3_Article_56</th>\n",
       "      <td></td>\n",
       "      <td>article 56\\r\\namendments to directive (eu) 201...</td>\n",
       "      <td>[start:0 stop:7 text:article tag_count:0, star...</td>\n",
       "      <td>CURATION_FINISHED</td>\n",
       "      <td>[Alisha, Fride]</td>\n",
       "      <td>[span id:CUR202 annotator:Curation layer:Polic...</td>\n",
       "      <td>[span id:A38 annotator:Alisha layer:Policydesi...</td>\n",
       "      <td>[span id:B129 annotator:Fride layer:Policydesi...</td>\n",
       "      <td></td>\n",
       "      <td></td>\n",
       "      <td></td>\n",
       "      <td></td>\n",
       "      <td></td>\n",
       "    </tr>\n",
       "    <tr>\n",
       "      <th>EU_32018L2001_Title_0_Chapter_0_Section_0_Article_03</th>\n",
       "      <td></td>\n",
       "      <td>article 3\\r\\nbinding overall union target for ...</td>\n",
       "      <td>[start:0 stop:7 text:article tag_count:0, star...</td>\n",
       "      <td>CURATION_FINISHED</td>\n",
       "      <td>[Fride, Onerva, Fabian]</td>\n",
       "      <td>[span id:CUR211 annotator:Curation layer:Instr...</td>\n",
       "      <td></td>\n",
       "      <td>[span id:B138 annotator:Fride layer:Instrument...</td>\n",
       "      <td>[span id:C165 annotator:Onerva layer:Instrumen...</td>\n",
       "      <td>[span id:D27 annotator:Fabian layer:Instrument...</td>\n",
       "      <td></td>\n",
       "      <td></td>\n",
       "      <td></td>\n",
       "    </tr>\n",
       "  </tbody>\n",
       "</table>\n",
       "</div>"
      ],
      "text/plain": [
       "                                                   Policy  \\\n",
       "EU_32018R1999_Title_0_Chapter_7_Section_3_Artic...          \n",
       "EU_32019R0631_Title_0_Chapter_0_Section_0_Artic...          \n",
       "EU_32018L2001_Title_0_Chapter_0_Section_0_Artic...          \n",
       "EU_32018R1999_Title_0_Chapter_7_Section_3_Artic...          \n",
       "EU_32018L2001_Title_0_Chapter_0_Section_0_Artic...          \n",
       "\n",
       "                                                                                                 Text  \\\n",
       "EU_32018R1999_Title_0_Chapter_7_Section_3_Artic...  article 43\\r\\nexercise of the delegation\\r\\n1....   \n",
       "EU_32019R0631_Title_0_Chapter_0_Section_0_Artic...  article 12\\r\\nreal-world co2 emissions and fue...   \n",
       "EU_32018L2001_Title_0_Chapter_0_Section_0_Artic...  article 11\\r\\njoint projects between member st...   \n",
       "EU_32018R1999_Title_0_Chapter_7_Section_3_Artic...  article 56\\r\\namendments to directive (eu) 201...   \n",
       "EU_32018L2001_Title_0_Chapter_0_Section_0_Artic...  article 3\\r\\nbinding overall union target for ...   \n",
       "\n",
       "                                                                                               Tokens  \\\n",
       "EU_32018R1999_Title_0_Chapter_7_Section_3_Artic...  [start:0 stop:7 text:article tag_count:0, star...   \n",
       "EU_32019R0631_Title_0_Chapter_0_Section_0_Artic...  [start:0 stop:7 text:article tag_count:0, star...   \n",
       "EU_32018L2001_Title_0_Chapter_0_Section_0_Artic...  [start:0 stop:7 text:article tag_count:0, star...   \n",
       "EU_32018R1999_Title_0_Chapter_7_Section_3_Artic...  [start:0 stop:7 text:article tag_count:0, star...   \n",
       "EU_32018L2001_Title_0_Chapter_0_Section_0_Artic...  [start:0 stop:7 text:article tag_count:0, star...   \n",
       "\n",
       "                                                        Article_State  \\\n",
       "EU_32018R1999_Title_0_Chapter_7_Section_3_Artic...  CURATION_FINISHED   \n",
       "EU_32019R0631_Title_0_Chapter_0_Section_0_Artic...  CURATION_FINISHED   \n",
       "EU_32018L2001_Title_0_Chapter_0_Section_0_Artic...  CURATION_FINISHED   \n",
       "EU_32018R1999_Title_0_Chapter_7_Section_3_Artic...  CURATION_FINISHED   \n",
       "EU_32018L2001_Title_0_Chapter_0_Section_0_Artic...  CURATION_FINISHED   \n",
       "\n",
       "                                                        Finished_Annotators  \\\n",
       "EU_32018R1999_Title_0_Chapter_7_Section_3_Artic...          [Alisha, Fride]   \n",
       "EU_32019R0631_Title_0_Chapter_0_Section_0_Artic...         [Onerva, Fabian]   \n",
       "EU_32018L2001_Title_0_Chapter_0_Section_0_Artic...          [Fride, Onerva]   \n",
       "EU_32018R1999_Title_0_Chapter_7_Section_3_Artic...          [Alisha, Fride]   \n",
       "EU_32018L2001_Title_0_Chapter_0_Section_0_Artic...  [Fride, Onerva, Fabian]   \n",
       "\n",
       "                                                                                             Curation  \\\n",
       "EU_32018R1999_Title_0_Chapter_7_Section_3_Artic...  [span id:CUR0 annotator:Curation layer:Instrum...   \n",
       "EU_32019R0631_Title_0_Chapter_0_Section_0_Artic...  [span id:CUR36 annotator:Curation layer:Instru...   \n",
       "EU_32018L2001_Title_0_Chapter_0_Section_0_Artic...  [span id:CUR116 annotator:Curation layer:Instr...   \n",
       "EU_32018R1999_Title_0_Chapter_7_Section_3_Artic...  [span id:CUR202 annotator:Curation layer:Polic...   \n",
       "EU_32018L2001_Title_0_Chapter_0_Section_0_Artic...  [span id:CUR211 annotator:Curation layer:Instr...   \n",
       "\n",
       "                                                                                               Alisha  \\\n",
       "EU_32018R1999_Title_0_Chapter_7_Section_3_Artic...  [span id:A1 annotator:Alisha layer:Instrumentt...   \n",
       "EU_32019R0631_Title_0_Chapter_0_Section_0_Artic...                                                      \n",
       "EU_32018L2001_Title_0_Chapter_0_Section_0_Artic...                                                      \n",
       "EU_32018R1999_Title_0_Chapter_7_Section_3_Artic...  [span id:A38 annotator:Alisha layer:Policydesi...   \n",
       "EU_32018L2001_Title_0_Chapter_0_Section_0_Artic...                                                      \n",
       "\n",
       "                                                                                                Fride  \\\n",
       "EU_32018R1999_Title_0_Chapter_7_Section_3_Artic...  [span id:B1 annotator:Fride layer:Policydesign...   \n",
       "EU_32019R0631_Title_0_Chapter_0_Section_0_Artic...                                                      \n",
       "EU_32018L2001_Title_0_Chapter_0_Section_0_Artic...  [span id:B28 annotator:Fride layer:Instrumentt...   \n",
       "EU_32018R1999_Title_0_Chapter_7_Section_3_Artic...  [span id:B129 annotator:Fride layer:Policydesi...   \n",
       "EU_32018L2001_Title_0_Chapter_0_Section_0_Artic...  [span id:B138 annotator:Fride layer:Instrument...   \n",
       "\n",
       "                                                                                               Onerva  \\\n",
       "EU_32018R1999_Title_0_Chapter_7_Section_3_Artic...                                                      \n",
       "EU_32019R0631_Title_0_Chapter_0_Section_0_Artic...  [span id:C1 annotator:Onerva layer:Instrumentt...   \n",
       "EU_32018L2001_Title_0_Chapter_0_Section_0_Artic...  [span id:C58 annotator:Onerva layer:Instrument...   \n",
       "EU_32018R1999_Title_0_Chapter_7_Section_3_Artic...                                                      \n",
       "EU_32018L2001_Title_0_Chapter_0_Section_0_Artic...  [span id:C165 annotator:Onerva layer:Instrumen...   \n",
       "\n",
       "                                                                                               Fabian  \\\n",
       "EU_32018R1999_Title_0_Chapter_7_Section_3_Artic...                                                      \n",
       "EU_32019R0631_Title_0_Chapter_0_Section_0_Artic...  [span id:D1 annotator:Fabian layer:Policydesig...   \n",
       "EU_32018L2001_Title_0_Chapter_0_Section_0_Artic...                                                      \n",
       "EU_32018R1999_Title_0_Chapter_7_Section_3_Artic...                                                      \n",
       "EU_32018L2001_Title_0_Chapter_0_Section_0_Artic...  [span id:D27 annotator:Fabian layer:Instrument...   \n",
       "\n",
       "                                                   Lynn Sebastian Joel  \n",
       "EU_32018R1999_Title_0_Chapter_7_Section_3_Artic...                      \n",
       "EU_32019R0631_Title_0_Chapter_0_Section_0_Artic...                      \n",
       "EU_32018L2001_Title_0_Chapter_0_Section_0_Artic...                      \n",
       "EU_32018R1999_Title_0_Chapter_7_Section_3_Artic...                      \n",
       "EU_32018L2001_Title_0_Chapter_0_Section_0_Artic...                      "
      ]
     },
     "execution_count": 2,
     "metadata": {},
     "output_type": "execute_result"
    }
   ],
   "source": [
    "    \n",
    "dataframe_dir = os.path.join(ROOT_DIR,'data/02_processed_to_dataframe', 'preprocessed_dataframe.pkl')\n",
    "stat_df = pd.read_pickle(dataframe_dir)\n",
    "stat_df.head()"
   ]
  },
  {
   "cell_type": "markdown",
   "metadata": {},
   "source": [
    "First create a object of class Inter annotator agreement. The constructor takes a stat_df as input, has a optional argument DEBUG where only the first 10 articles are taken to test different functions"
   ]
  },
  {
   "cell_type": "code",
   "execution_count": 3,
   "metadata": {},
   "outputs": [],
   "source": [
    "test_evaluator = Inter_Annotator_Agreement(stat_df, front_and_whereas = False)\n",
    "test_evaluator_debug = Inter_Annotator_Agreement(stat_df, DEBUG = True)\n"
   ]
  },
  {
   "cell_type": "code",
   "execution_count": 4,
   "metadata": {},
   "outputs": [
    {
     "data": {
      "text/plain": [
       "(412, 13)"
      ]
     },
     "execution_count": 4,
     "metadata": {},
     "output_type": "execute_result"
    }
   ],
   "source": [
    "test_evaluator.df.shape"
   ]
  },
  {
   "cell_type": "code",
   "execution_count": 5,
   "metadata": {},
   "outputs": [
    {
     "data": {
      "text/plain": [
       "[span id:CUR20771 annotator:Curation layer:Instrumenttypes type:InstrumentType tag:FrameworkPolicy start:49 stop:93 text:integrated national energy and climate plans,\n",
       " span id:CUR20772 annotator:Curation layer:Instrumenttypes type:InstrumentType tag:FrameworkPolicy start:151 stop:195 text:integrated national energy and climate plans,\n",
       " span id:CUR20773 annotator:Curation layer:Instrumenttypes type:InstrumentType tag:FrameworkPolicy start:270 stop:275 text:plans,\n",
       " span id:CUR20774 annotator:Curation layer:Instrumenttypes type:InstrumentType tag:FrameworkPolicy start:1743 stop:1787 text:integrated national energy and climate plans,\n",
       " span id:CUR20775 annotator:Curation layer:Instrumenttypes type:InstrumentType tag:FrameworkPolicy start:2250 stop:2294 text:integrated national energy and climate plans,\n",
       " span id:CUR20776 annotator:Curation layer:Instrumenttypes type:InstrumentType tag:FrameworkPolicy start:3538 stop:3582 text:integrated national energy and climate plans,\n",
       " span id:CUR20777 annotator:Curation layer:Instrumenttypes type:InstrumentType tag:FrameworkPolicy start:3704 stop:3748 text:integrated national energy and climate plans,\n",
       " span id:CUR20778 annotator:Curation layer:Instrumenttypes type:InstrumentType tag:Unspecified start:3986 stop:3994 text:measures,\n",
       " span id:CUR20779 annotator:Curation layer:Instrumenttypes type:InstrumentType tag:Unspecified start:4151 stop:4159 text:measures,\n",
       " span id:CUR20780 annotator:Curation layer:Instrumenttypes type:InstrumentType tag:FrameworkPolicy start:4288 stop:4332 text:integrated national energy and climate plans,\n",
       " span id:CUR20781 annotator:Curation layer:Policydesigncharacteristics type:Compliance tag:Form_monitoring start:127 stop:137 text:assessment,\n",
       " span id:CUR20782 annotator:Curation layer:Policydesigncharacteristics type:Compliance tag:Form_monitoring start:225 stop:235 text:assessment,\n",
       " span id:CUR20783 annotator:Curation layer:Policydesigncharacteristics type:Actor tag:Authority_monitoring start:342 stop:352 text:commission,\n",
       " span id:CUR20784 annotator:Curation layer:Policydesigncharacteristics type:Objective tag:Objective_QualIntention start:372 stop:382 text:objectives,\n",
       " span id:CUR20785 annotator:Curation layer:Policydesigncharacteristics type:Objective tag:Objective_QualIntention start:384 stop:391 text:targets,\n",
       " span id:CUR20786 annotator:Curation layer:Policydesigncharacteristics type:Objective tag:Objective_QualIntention start:396 stop:409 text:contributions,\n",
       " span id:CUR20787 annotator:Curation layer:Policydesigncharacteristics type:Actor tag:Addressee_monitored start:417 stop:430 text:member states,\n",
       " span id:CUR20788 annotator:Curation layer:Policydesigncharacteristics type:Objective tag:Objective_QualIntention start:486 stop:509 text:energy union objectives,\n",
       " span id:CUR20789 annotator:Curation layer:Policydesigncharacteristics type:Reference tag:Ref_Strategy_Agreement start:486 stop:498 text:energy union,\n",
       " span id:CUR20790 annotator:Curation layer:Policydesigncharacteristics type:Objective tag:Objective_QualIntention start:568 stop:616 text:union's binding 2030 target for renewable energy,\n",
       " span id:CUR20791 annotator:Curation layer:Policydesigncharacteristics type:Objective tag:Objective_QualIntention start:625 stop:666 text:union's 2030 target for energy efficiency,\n",
       " span id:CUR20792 annotator:Curation layer:Policydesigncharacteristics type:Objective tag:Objective_QualIntention start:694 stop:729 text:union's target for renewable energy,\n",
       " span id:CUR20793 annotator:Curation layer:Policydesigncharacteristics type:Objective tag:Objective_QualIntention start:763 stop:786 text:energy union objectives,\n",
       " span id:CUR20794 annotator:Curation layer:Policydesigncharacteristics type:Compliance tag:Form_sanctioning start:789 stop:827 text:issue recommendations to member states,\n",
       " span id:CUR20795 annotator:Curation layer:Policydesigncharacteristics type:Actor tag:Addressee_default start:814 stop:827 text:member states,\n",
       " span id:CUR20796 annotator:Curation layer:Policydesigncharacteristics type:Objective tag:Objective_QualIntention start:834 stop:847 text:contributions,\n",
       " span id:CUR20797 annotator:Curation layer:Policydesigncharacteristics type:Objective tag:Objective_QualIntention start:909 stop:957 text:ensure a sufficient level of collective ambition,\n",
       " span id:CUR20798 annotator:Curation layer:Policydesigncharacteristics type:Objective tag:Objective_QualIntention start:989 stop:1008 text:union's 2030 target,\n",
       " span id:CUR20799 annotator:Curation layer:Policydesigncharacteristics type:Actor tag:Addressee_default start:1045 stop:1058 text:member states,\n",
       " span id:CUR20800 annotator:Curation layer:Policydesigncharacteristics type:Actor tag:Authority_monitoring start:1103 stop:1113 text:commission,\n",
       " span id:CUR20801 annotator:Curation layer:Policydesigncharacteristics type:Compliance tag:Form_monitoring start:1129 stop:1139 text:assessment,\n",
       " span id:CUR20802 annotator:Curation layer:Policydesigncharacteristics type:Actor tag:Addressee_monitored start:1398 stop:1410 text:member state,\n",
       " span id:CUR20803 annotator:Curation layer:Policydesigncharacteristics type:Objective tag:Objective_QualIntention start:1496 stop:1515 text:union's 2030 target,\n",
       " span id:CUR20804 annotator:Curation layer:Policydesigncharacteristics type:Objective tag:Objective_QualIntention start:1535 stop:1557 text:national contributions,\n",
       " span id:CUR20805 annotator:Curation layer:Policydesigncharacteristics type:Actor tag:Authority_monitoring start:1603 stop:1613 text:commission,\n",
       " span id:CUR20806 annotator:Curation layer:Policydesigncharacteristics type:Compliance tag:Form_monitoring start:1636 stop:1671 text:evaluate the relevant circumstances,\n",
       " span id:CUR20807 annotator:Curation layer:Policydesigncharacteristics type:Actor tag:Addressee_monitored start:1720 stop:1733 text:member states,\n",
       " span id:CUR20808 annotator:Curation layer:Policydesigncharacteristics type:Compliance tag:Form_monitoring start:2010 stop:2122 text:assessing whether a gap between the union's 2030 target and the collective contributions of member states occurs,\n",
       " span id:CUR20809 annotator:Curation layer:Policydesigncharacteristics type:Objective tag:Objective_QualIntention start:2046 stop:2065 text:union's 2030 target,\n",
       " span id:CUR20810 annotator:Curation layer:Policydesigncharacteristics type:Actor tag:Authority_monitoring start:2128 stop:2138 text:commission,\n",
       " span id:CUR20811 annotator:Curation layer:Policydesigncharacteristics type:Compliance tag:Form_monitoring start:2153 stop:2163 text:assessment,\n",
       " span id:CUR20812 annotator:Curation layer:Policydesigncharacteristics type:Objective tag:Objective_QualIntention start:2174 stop:2195 text:national contribution,\n",
       " span id:CUR20813 annotator:Curation layer:Policydesigncharacteristics type:Actor tag:Addressee_monitored start:2203 stop:2216 text:member states,\n",
       " span id:CUR20814 annotator:Curation layer:Policydesigncharacteristics type:Actor tag:Authority_monitoring start:2385 stop:2395 text:commission,\n",
       " span id:CUR20815 annotator:Curation layer:Policydesigncharacteristics type:Objective tag:Objective_QualIntention start:2424 stop:2471 text:member state's national binding target for 2020,\n",
       " span id:CUR20816 annotator:Curation layer:Policydesigncharacteristics type:Actor tag:Addressee_default start:2424 stop:2438 text:member state's,\n",
       " span id:CUR20817 annotator:Curation layer:Policydesigncharacteristics type:Reference tag:Ref_OtherPolicy start:2497 stop:2521 text:directive (eu) 2018/2001,\n",
       " span id:CUR20818 annotator:Curation layer:Policydesigncharacteristics type:Compliance tag:Form_monitoring start:2850 stop:2898 text:assessment of the renewable energy contributions,\n",
       " span id:CUR20819 annotator:Curation layer:Policydesigncharacteristics type:Actor tag:Authority_monitoring start:2946 stop:2956 text:commission,\n",
       " span id:CUR20820 annotator:Curation layer:Policydesigncharacteristics type:Objective tag:Objective_QualIntention_noCCM start:3025 stop:3043 text:security of supply,\n",
       " span id:CUR20821 annotator:Curation layer:Policydesigncharacteristics type:Actor tag:Addressee_monitored start:3105 stop:3118 text:member states,\n",
       " span id:CUR20822 annotator:Curation layer:Policydesigncharacteristics type:Compliance tag:Form_monitoring start:3219 stop:3268 text:assessment of the energy efficiency contributions,\n",
       " span id:CUR20823 annotator:Curation layer:Policydesigncharacteristics type:Actor tag:Authority_monitoring start:3274 stop:3284 text:commission,\n",
       " span id:CUR20824 annotator:Curation layer:Policydesigncharacteristics type:Actor tag:Addressee_monitored start:3390 stop:3403 text:member states,\n",
       " span id:CUR20825 annotator:Curation layer:Policydesigncharacteristics type:Compliance tag:Form_monitoring start:3520 stop:3530 text:assessment,\n",
       " span id:CUR20826 annotator:Curation layer:Policydesigncharacteristics type:Actor tag:Authority_monitoring start:3629 stop:3639 text:commission,\n",
       " span id:CUR20827 annotator:Curation layer:Policydesigncharacteristics type:Objective tag:Objective_QualIntention start:3659 stop:3669 text:objectives,\n",
       " span id:CUR20828 annotator:Curation layer:Policydesigncharacteristics type:Objective tag:Objective_QualIntention start:3671 stop:3678 text:targets,\n",
       " span id:CUR20829 annotator:Curation layer:Policydesigncharacteristics type:Objective tag:Objective_QualIntention start:3683 stop:3696 text:contributions,\n",
       " span id:CUR20830 annotator:Curation layer:Policydesigncharacteristics type:Objective tag:Objective_QualIntention start:3821 stop:3844 text:energy union objectives,\n",
       " span id:CUR20831 annotator:Curation layer:Policydesigncharacteristics type:Reference tag:Ref_Strategy_Agreement start:3821 stop:3833 text:energy union,\n",
       " span id:CUR20832 annotator:Curation layer:Policydesigncharacteristics type:Objective tag:Objective_QualIntention start:3904 stop:3924 text:union's 2030 targets,\n",
       " span id:CUR20833 annotator:Curation layer:Policydesigncharacteristics type:Objective tag:Objective_QualIntention start:4089 stop:4099 text:objectives,\n",
       " span id:CUR20834 annotator:Curation layer:Policydesigncharacteristics type:Objective tag:Objective_QualIntention start:4104 stop:4111 text:targets,\n",
       " span id:CUR20835 annotator:Curation layer:Policydesigncharacteristics type:Objective tag:Objective_QualIntention start:4215 stop:4228 text:contributions,\n",
       " span id:CUR20836 annotator:Curation layer:Policydesigncharacteristics type:Objective tag:Objective_QualIntention start:4236 stop:4255 text:union's 2030 target,\n",
       " span id:CUR20837 annotator:Curation layer:Policydesigncharacteristics type:Actor tag:Addressee_default start:4259 stop:4272 text:member states,\n",
       " span id:CUR20838 annotator:Curation layer:Technologyandapplicationspecificity type:EnergySpecificity tag:Energy_LowCarbon start:600 stop:616 text:renewable energy,\n",
       " span id:CUR20839 annotator:Curation layer:Technologyandapplicationspecificity type:TechnologySpecificity tag:Tech_LowCarbon start:649 stop:666 text:energy efficiency,\n",
       " span id:CUR20840 annotator:Curation layer:Technologyandapplicationspecificity type:EnergySpecificity tag:Energy_LowCarbon start:713 stop:729 text:renewable energy,\n",
       " span id:CUR20841 annotator:Curation layer:Technologyandapplicationspecificity type:EnergySpecificity tag:Energy_LowCarbon start:1081 stop:1097 text:renewable energy,\n",
       " span id:CUR20842 annotator:Curation layer:Technologyandapplicationspecificity type:ApplicationSpecificity tag:App_LowCarbon start:1350 stop:1377 text:renewable energy deployment,\n",
       " span id:CUR20843 annotator:Curation layer:Technologyandapplicationspecificity type:EnergySpecificity tag:Energy_LowCarbon start:1350 stop:1366 text:renewable energy,\n",
       " span id:CUR20844 annotator:Curation layer:Technologyandapplicationspecificity type:TechnologySpecificity tag:Tech_LowCarbon start:1580 stop:1597 text:energy efficiency,\n",
       " span id:CUR20845 annotator:Curation layer:Technologyandapplicationspecificity type:ApplicationSpecificity tag:App_Other start:1854 stop:1872 text:energy consumption,\n",
       " span id:CUR20846 annotator:Curation layer:Technologyandapplicationspecificity type:EnergySpecificity tag:Energy_LowCarbon start:2363 stop:2379 text:renewable energy,\n",
       " span id:CUR20847 annotator:Curation layer:Technologyandapplicationspecificity type:EnergySpecificity tag:Energy_LowCarbon start:2559 stop:2575 text:renewable energy,\n",
       " span id:CUR20848 annotator:Curation layer:Technologyandapplicationspecificity type:end tag: start:2676 stop:2693 text:energy efficiency,\n",
       " span id:CUR20849 annotator:Curation layer:Technologyandapplicationspecificity type:ApplicationSpecificity tag:App_Other start:2774 stop:2792 text:energy consumption,\n",
       " span id:CUR20850 annotator:Curation layer:Technologyandapplicationspecificity type:EnergySpecificity tag:Energy_LowCarbon start:2868 stop:2884 text:renewable energy,\n",
       " span id:CUR20851 annotator:Curation layer:Technologyandapplicationspecificity type:ApplicationSpecificity tag:App_Other start:3048 stop:3062 text:grid stability,\n",
       " span id:CUR20852 annotator:Curation layer:Technologyandapplicationspecificity type:TechnologySpecificity tag:Tech_LowCarbon start:3237 stop:3254 text:energy efficiency,\n",
       " span id:CUR20853 annotator:Curation layer:Technologyandapplicationspecificity type:ApplicationSpecificity tag:App_Other start:3339 stop:3386 text:electricity system operation and grid stability,\n",
       " span id:CUR20854 annotator:Curation layer:Technologyandapplicationspecificity type:EnergySpecificity tag:Energy_LowCarbon start:3929 stop:3945 text:renewable energy,\n",
       " span id:CUR20855 annotator:Curation layer:Technologyandapplicationspecificity type:TechnologySpecificity tag:Tech_LowCarbon start:3950 stop:3967 text:energy efficiency,\n",
       " span id:CUR20856 annotator:Curation layer:Technologyandapplicationspecificity type:EnergySpecificity tag:Energy_LowCarbon start:4128 stop:4144 text:renewable energy]"
      ]
     },
     "execution_count": 5,
     "metadata": {},
     "output_type": "execute_result"
    }
   ],
   "source": [
    "test_dir = repository(policy= 'EU_32018R1999', title= 'Title_0', chapter = 'Chapter_5', section = 'Section_3', article = 'Article_31')\n",
    "\n",
    "test_evaluator.get_span_list(conditional_rep = test_dir, columns = 'Curation')"
   ]
  },
  {
   "cell_type": "markdown",
   "metadata": {},
   "source": [
    "Inter_Annotator_Agreement is a child class of the Corpus class, so all methods of the Corpus class are available"
   ]
  },
  {
   "cell_type": "code",
   "execution_count": 6,
   "metadata": {},
   "outputs": [
    {
     "data": {
      "text/plain": [
       "[span id:C3882 annotator:Onerva layer:Technologyandapplicationspecificity type:TechnologySpecificity tag:Tech_LowCarbon start:18 stop:25 text:nuclear,\n",
       " span id:C3883 annotator:Onerva layer:Technologyandapplicationspecificity type:TechnologySpecificity tag:Tech_LowCarbon start:95 stop:109 text:nuclear energy,\n",
       " span id:C3884 annotator:Onerva layer:Technologyandapplicationspecificity type:TechnologySpecificity tag:Tech_LowCarbon start:151 stop:158 text:nuclear,\n",
       " span id:C5161 annotator:Onerva layer:Technologyandapplicationspecificity type:TechnologySpecificity tag:Tech_LowCarbon start:125 stop:141 text:renewable energy,\n",
       " span id:C5162 annotator:Onerva layer:Technologyandapplicationspecificity type:TechnologySpecificity tag:Tech_LowCarbon start:393 stop:409 text:renewable energy,\n",
       " span id:C5163 annotator:Onerva layer:Technologyandapplicationspecificity type:TechnologySpecificity tag:Tech_LowCarbon start:499 stop:515 text:renewable energy,\n",
       " span id:C5164 annotator:Onerva layer:Technologyandapplicationspecificity type:TechnologySpecificity tag:Tech_LowCarbon start:1276 stop:1292 text:renewable energy,\n",
       " span id:C6626 annotator:Onerva layer:Technologyandapplicationspecificity type:TechnologySpecificity tag:Tech_LowCarbon start:614 stop:621 text:nuclear,\n",
       " span id:C7842 annotator:Onerva layer:Technologyandapplicationspecificity type:TechnologySpecificity tag:Tech_LowCarbon start:189 stop:225 text:energy products and their aggregates,\n",
       " span id:B11292 annotator:Fride layer:Technologyandapplicationspecificity type:TechnologySpecificity tag:Tech_LowCarbon start:866 stop:888 text:electricity generation,\n",
       " span id:C9626 annotator:Onerva layer:Technologyandapplicationspecificity type:TechnologySpecificity tag:Tech_LowCarbon start:701 stop:716 text:energy products]"
      ]
     },
     "execution_count": 6,
     "metadata": {},
     "output_type": "execute_result"
    }
   ],
   "source": [
    "test_dir = repository(policy = 'EU_32008R1099')\n",
    "test_evaluator.get_span_list(conditional_rep = test_dir, columns = 'annotators', item = 'tag', value =  'Tech_LowCarbon')"
   ]
  },
  {
   "cell_type": "markdown",
   "metadata": {},
   "source": [
    "To calculate the inter annonator agreement, there are two options\n"
   ]
  },
  {
   "cell_type": "markdown",
   "metadata": {},
   "source": [
    "## Append the score to dataframe"
   ]
  },
  {
   "cell_type": "markdown",
   "metadata": {},
   "source": [
    "This method appends the inter-annotator agreement for each article which at least two valid annoations based on a set of inter-annotator agreement measures. The scores are calculated in parallel, this is the recommended method for computationally intensive scores.\n",
    "\n",
    "First, we only consider the articles where the curation is finished and at least two annotators are present:"
   ]
  },
  {
   "cell_type": "code",
   "execution_count": 7,
   "metadata": {},
   "outputs": [],
   "source": [
    "test_evaluator.keep_only_finished_articles()"
   ]
  },
  {
   "cell_type": "code",
   "execution_count": 7,
   "metadata": {},
   "outputs": [],
   "source": [
    "#scoring_metrics = ['f1_exact', 'f1_tokenwise', 'f1_partial', 'f1_heuristic']"
   ]
  },
  {
   "cell_type": "code",
   "execution_count": 12,
   "metadata": {},
   "outputs": [],
   "source": [
    "scoring_metrics = ['f1_exact', 'f1_tokenwise', 'f1_partial', 'f1_heuristic', 'pygamma']"
   ]
  },
  {
   "cell_type": "code",
   "execution_count": 13,
   "metadata": {},
   "outputs": [
    {
     "name": "stderr",
     "output_type": "stream",
     "text": [
      "100%|██████████| 412/412 [00:05<00:00, 73.33it/s] \n",
      "100%|██████████| 412/412 [00:05<00:00, 76.92it/s] \n",
      "100%|██████████| 412/412 [00:05<00:00, 79.53it/s] \n",
      "100%|██████████| 412/412 [00:00<00:00, 728.93it/s]\n",
      "100%|██████████| 412/412 [07:16<00:00,  1.06s/it]  \n"
     ]
    }
   ],
   "source": [
    "test_evaluator.append_total_score_per_article(scoring_metrics)"
   ]
  },
  {
   "cell_type": "markdown",
   "metadata": {},
   "source": [
    "There is also a normal implementation which uses parallel"
   ]
  },
  {
   "cell_type": "code",
   "execution_count": 18,
   "metadata": {},
   "outputs": [],
   "source": [
    "#test_evaluator.append_total_score_per_article_parallel(scoring_metrics)"
   ]
  },
  {
   "cell_type": "markdown",
   "metadata": {},
   "source": [
    "Checking out the dataframe now:"
   ]
  },
  {
   "cell_type": "code",
   "execution_count": 19,
   "metadata": {},
   "outputs": [
    {
     "data": {
      "text/html": [
       "<div>\n",
       "<style scoped>\n",
       "    .dataframe tbody tr th:only-of-type {\n",
       "        vertical-align: middle;\n",
       "    }\n",
       "\n",
       "    .dataframe tbody tr th {\n",
       "        vertical-align: top;\n",
       "    }\n",
       "\n",
       "    .dataframe thead th {\n",
       "        text-align: right;\n",
       "    }\n",
       "</style>\n",
       "<table border=\"1\" class=\"dataframe\">\n",
       "  <thead>\n",
       "    <tr style=\"text-align: right;\">\n",
       "      <th></th>\n",
       "      <th>Policy</th>\n",
       "      <th>Text</th>\n",
       "      <th>Tokens</th>\n",
       "      <th>Article_State</th>\n",
       "      <th>Finished_Annotators</th>\n",
       "      <th>Curation</th>\n",
       "      <th>Alisha</th>\n",
       "      <th>Fride</th>\n",
       "      <th>Onerva</th>\n",
       "      <th>Fabian</th>\n",
       "      <th>Lynn</th>\n",
       "      <th>Sebastian</th>\n",
       "      <th>Joel</th>\n",
       "      <th>f1_exact_score</th>\n",
       "      <th>f1_tokenwise_score</th>\n",
       "      <th>f1_partial_score</th>\n",
       "      <th>f1_heuristic_score</th>\n",
       "      <th>pygamma_score</th>\n",
       "    </tr>\n",
       "  </thead>\n",
       "  <tbody>\n",
       "    <tr>\n",
       "      <th>EU_32018R1999_Title_0_Chapter_7_Section_3_Article_43</th>\n",
       "      <td></td>\n",
       "      <td>article 43\\r\\nexercise of the delegation\\r\\n1....</td>\n",
       "      <td>[start:0 stop:7 text:article tag_count:0, star...</td>\n",
       "      <td>CURATION_FINISHED</td>\n",
       "      <td>[Alisha, Fride]</td>\n",
       "      <td>[span id:CUR0 annotator:Curation layer:Instrum...</td>\n",
       "      <td>[span id:A1 annotator:Alisha layer:Instrumentt...</td>\n",
       "      <td>[span id:B1 annotator:Fride layer:Policydesign...</td>\n",
       "      <td></td>\n",
       "      <td></td>\n",
       "      <td></td>\n",
       "      <td></td>\n",
       "      <td></td>\n",
       "      <td>0.218750</td>\n",
       "      <td>0.226574</td>\n",
       "      <td>0.281250</td>\n",
       "      <td>0.281250</td>\n",
       "      <td>0.233182</td>\n",
       "    </tr>\n",
       "    <tr>\n",
       "      <th>EU_32019R0631_Title_0_Chapter_0_Section_0_Article_12</th>\n",
       "      <td></td>\n",
       "      <td>article 12\\r\\nreal-world co2 emissions and fue...</td>\n",
       "      <td>[start:0 stop:7 text:article tag_count:0, star...</td>\n",
       "      <td>CURATION_FINISHED</td>\n",
       "      <td>[Onerva, Fabian]</td>\n",
       "      <td>[span id:CUR36 annotator:Curation layer:Instru...</td>\n",
       "      <td></td>\n",
       "      <td></td>\n",
       "      <td>[span id:C1 annotator:Onerva layer:Instrumentt...</td>\n",
       "      <td>[span id:D1 annotator:Fabian layer:Policydesig...</td>\n",
       "      <td></td>\n",
       "      <td></td>\n",
       "      <td></td>\n",
       "      <td>0.289157</td>\n",
       "      <td>0.263793</td>\n",
       "      <td>0.409639</td>\n",
       "      <td>0.421603</td>\n",
       "      <td>0.301722</td>\n",
       "    </tr>\n",
       "    <tr>\n",
       "      <th>EU_32018L2001_Title_0_Chapter_0_Section_0_Article_11</th>\n",
       "      <td></td>\n",
       "      <td>article 11\\r\\njoint projects between member st...</td>\n",
       "      <td>[start:0 stop:7 text:article tag_count:0, star...</td>\n",
       "      <td>CURATION_FINISHED</td>\n",
       "      <td>[Fride, Onerva]</td>\n",
       "      <td>[span id:CUR116 annotator:Curation layer:Instr...</td>\n",
       "      <td></td>\n",
       "      <td>[span id:B28 annotator:Fride layer:Instrumentt...</td>\n",
       "      <td>[span id:C58 annotator:Onerva layer:Instrument...</td>\n",
       "      <td></td>\n",
       "      <td></td>\n",
       "      <td></td>\n",
       "      <td></td>\n",
       "      <td>0.567308</td>\n",
       "      <td>0.512946</td>\n",
       "      <td>0.653846</td>\n",
       "      <td>0.653846</td>\n",
       "      <td>0.540192</td>\n",
       "    </tr>\n",
       "    <tr>\n",
       "      <th>EU_32018R1999_Title_0_Chapter_7_Section_3_Article_56</th>\n",
       "      <td></td>\n",
       "      <td>article 56\\r\\namendments to directive (eu) 201...</td>\n",
       "      <td>[start:0 stop:7 text:article tag_count:0, star...</td>\n",
       "      <td>CURATION_FINISHED</td>\n",
       "      <td>[Alisha, Fride]</td>\n",
       "      <td>[span id:CUR202 annotator:Curation layer:Polic...</td>\n",
       "      <td>[span id:A38 annotator:Alisha layer:Policydesi...</td>\n",
       "      <td>[span id:B129 annotator:Fride layer:Policydesi...</td>\n",
       "      <td></td>\n",
       "      <td></td>\n",
       "      <td></td>\n",
       "      <td></td>\n",
       "      <td></td>\n",
       "      <td>0.736842</td>\n",
       "      <td>0.583333</td>\n",
       "      <td>0.736842</td>\n",
       "      <td>0.736842</td>\n",
       "      <td>0.577485</td>\n",
       "    </tr>\n",
       "    <tr>\n",
       "      <th>EU_32018L2001_Title_0_Chapter_0_Section_0_Article_03</th>\n",
       "      <td></td>\n",
       "      <td>article 3\\r\\nbinding overall union target for ...</td>\n",
       "      <td>[start:0 stop:7 text:article tag_count:0, star...</td>\n",
       "      <td>CURATION_FINISHED</td>\n",
       "      <td>[Fride, Onerva, Fabian]</td>\n",
       "      <td>[span id:CUR211 annotator:Curation layer:Instr...</td>\n",
       "      <td></td>\n",
       "      <td>[span id:B138 annotator:Fride layer:Instrument...</td>\n",
       "      <td>[span id:C165 annotator:Onerva layer:Instrumen...</td>\n",
       "      <td>[span id:D27 annotator:Fabian layer:Instrument...</td>\n",
       "      <td></td>\n",
       "      <td></td>\n",
       "      <td></td>\n",
       "      <td>0.420198</td>\n",
       "      <td>0.410204</td>\n",
       "      <td>0.532749</td>\n",
       "      <td>0.544437</td>\n",
       "      <td>0.408946</td>\n",
       "    </tr>\n",
       "  </tbody>\n",
       "</table>\n",
       "</div>"
      ],
      "text/plain": [
       "                                                   Policy  \\\n",
       "EU_32018R1999_Title_0_Chapter_7_Section_3_Artic...          \n",
       "EU_32019R0631_Title_0_Chapter_0_Section_0_Artic...          \n",
       "EU_32018L2001_Title_0_Chapter_0_Section_0_Artic...          \n",
       "EU_32018R1999_Title_0_Chapter_7_Section_3_Artic...          \n",
       "EU_32018L2001_Title_0_Chapter_0_Section_0_Artic...          \n",
       "\n",
       "                                                                                                 Text  \\\n",
       "EU_32018R1999_Title_0_Chapter_7_Section_3_Artic...  article 43\\r\\nexercise of the delegation\\r\\n1....   \n",
       "EU_32019R0631_Title_0_Chapter_0_Section_0_Artic...  article 12\\r\\nreal-world co2 emissions and fue...   \n",
       "EU_32018L2001_Title_0_Chapter_0_Section_0_Artic...  article 11\\r\\njoint projects between member st...   \n",
       "EU_32018R1999_Title_0_Chapter_7_Section_3_Artic...  article 56\\r\\namendments to directive (eu) 201...   \n",
       "EU_32018L2001_Title_0_Chapter_0_Section_0_Artic...  article 3\\r\\nbinding overall union target for ...   \n",
       "\n",
       "                                                                                               Tokens  \\\n",
       "EU_32018R1999_Title_0_Chapter_7_Section_3_Artic...  [start:0 stop:7 text:article tag_count:0, star...   \n",
       "EU_32019R0631_Title_0_Chapter_0_Section_0_Artic...  [start:0 stop:7 text:article tag_count:0, star...   \n",
       "EU_32018L2001_Title_0_Chapter_0_Section_0_Artic...  [start:0 stop:7 text:article tag_count:0, star...   \n",
       "EU_32018R1999_Title_0_Chapter_7_Section_3_Artic...  [start:0 stop:7 text:article tag_count:0, star...   \n",
       "EU_32018L2001_Title_0_Chapter_0_Section_0_Artic...  [start:0 stop:7 text:article tag_count:0, star...   \n",
       "\n",
       "                                                        Article_State  \\\n",
       "EU_32018R1999_Title_0_Chapter_7_Section_3_Artic...  CURATION_FINISHED   \n",
       "EU_32019R0631_Title_0_Chapter_0_Section_0_Artic...  CURATION_FINISHED   \n",
       "EU_32018L2001_Title_0_Chapter_0_Section_0_Artic...  CURATION_FINISHED   \n",
       "EU_32018R1999_Title_0_Chapter_7_Section_3_Artic...  CURATION_FINISHED   \n",
       "EU_32018L2001_Title_0_Chapter_0_Section_0_Artic...  CURATION_FINISHED   \n",
       "\n",
       "                                                        Finished_Annotators  \\\n",
       "EU_32018R1999_Title_0_Chapter_7_Section_3_Artic...          [Alisha, Fride]   \n",
       "EU_32019R0631_Title_0_Chapter_0_Section_0_Artic...         [Onerva, Fabian]   \n",
       "EU_32018L2001_Title_0_Chapter_0_Section_0_Artic...          [Fride, Onerva]   \n",
       "EU_32018R1999_Title_0_Chapter_7_Section_3_Artic...          [Alisha, Fride]   \n",
       "EU_32018L2001_Title_0_Chapter_0_Section_0_Artic...  [Fride, Onerva, Fabian]   \n",
       "\n",
       "                                                                                             Curation  \\\n",
       "EU_32018R1999_Title_0_Chapter_7_Section_3_Artic...  [span id:CUR0 annotator:Curation layer:Instrum...   \n",
       "EU_32019R0631_Title_0_Chapter_0_Section_0_Artic...  [span id:CUR36 annotator:Curation layer:Instru...   \n",
       "EU_32018L2001_Title_0_Chapter_0_Section_0_Artic...  [span id:CUR116 annotator:Curation layer:Instr...   \n",
       "EU_32018R1999_Title_0_Chapter_7_Section_3_Artic...  [span id:CUR202 annotator:Curation layer:Polic...   \n",
       "EU_32018L2001_Title_0_Chapter_0_Section_0_Artic...  [span id:CUR211 annotator:Curation layer:Instr...   \n",
       "\n",
       "                                                                                               Alisha  \\\n",
       "EU_32018R1999_Title_0_Chapter_7_Section_3_Artic...  [span id:A1 annotator:Alisha layer:Instrumentt...   \n",
       "EU_32019R0631_Title_0_Chapter_0_Section_0_Artic...                                                      \n",
       "EU_32018L2001_Title_0_Chapter_0_Section_0_Artic...                                                      \n",
       "EU_32018R1999_Title_0_Chapter_7_Section_3_Artic...  [span id:A38 annotator:Alisha layer:Policydesi...   \n",
       "EU_32018L2001_Title_0_Chapter_0_Section_0_Artic...                                                      \n",
       "\n",
       "                                                                                                Fride  \\\n",
       "EU_32018R1999_Title_0_Chapter_7_Section_3_Artic...  [span id:B1 annotator:Fride layer:Policydesign...   \n",
       "EU_32019R0631_Title_0_Chapter_0_Section_0_Artic...                                                      \n",
       "EU_32018L2001_Title_0_Chapter_0_Section_0_Artic...  [span id:B28 annotator:Fride layer:Instrumentt...   \n",
       "EU_32018R1999_Title_0_Chapter_7_Section_3_Artic...  [span id:B129 annotator:Fride layer:Policydesi...   \n",
       "EU_32018L2001_Title_0_Chapter_0_Section_0_Artic...  [span id:B138 annotator:Fride layer:Instrument...   \n",
       "\n",
       "                                                                                               Onerva  \\\n",
       "EU_32018R1999_Title_0_Chapter_7_Section_3_Artic...                                                      \n",
       "EU_32019R0631_Title_0_Chapter_0_Section_0_Artic...  [span id:C1 annotator:Onerva layer:Instrumentt...   \n",
       "EU_32018L2001_Title_0_Chapter_0_Section_0_Artic...  [span id:C58 annotator:Onerva layer:Instrument...   \n",
       "EU_32018R1999_Title_0_Chapter_7_Section_3_Artic...                                                      \n",
       "EU_32018L2001_Title_0_Chapter_0_Section_0_Artic...  [span id:C165 annotator:Onerva layer:Instrumen...   \n",
       "\n",
       "                                                                                               Fabian  \\\n",
       "EU_32018R1999_Title_0_Chapter_7_Section_3_Artic...                                                      \n",
       "EU_32019R0631_Title_0_Chapter_0_Section_0_Artic...  [span id:D1 annotator:Fabian layer:Policydesig...   \n",
       "EU_32018L2001_Title_0_Chapter_0_Section_0_Artic...                                                      \n",
       "EU_32018R1999_Title_0_Chapter_7_Section_3_Artic...                                                      \n",
       "EU_32018L2001_Title_0_Chapter_0_Section_0_Artic...  [span id:D27 annotator:Fabian layer:Instrument...   \n",
       "\n",
       "                                                   Lynn Sebastian Joel  \\\n",
       "EU_32018R1999_Title_0_Chapter_7_Section_3_Artic...                       \n",
       "EU_32019R0631_Title_0_Chapter_0_Section_0_Artic...                       \n",
       "EU_32018L2001_Title_0_Chapter_0_Section_0_Artic...                       \n",
       "EU_32018R1999_Title_0_Chapter_7_Section_3_Artic...                       \n",
       "EU_32018L2001_Title_0_Chapter_0_Section_0_Artic...                       \n",
       "\n",
       "                                                    f1_exact_score  \\\n",
       "EU_32018R1999_Title_0_Chapter_7_Section_3_Artic...        0.218750   \n",
       "EU_32019R0631_Title_0_Chapter_0_Section_0_Artic...        0.289157   \n",
       "EU_32018L2001_Title_0_Chapter_0_Section_0_Artic...        0.567308   \n",
       "EU_32018R1999_Title_0_Chapter_7_Section_3_Artic...        0.736842   \n",
       "EU_32018L2001_Title_0_Chapter_0_Section_0_Artic...        0.420198   \n",
       "\n",
       "                                                    f1_tokenwise_score  \\\n",
       "EU_32018R1999_Title_0_Chapter_7_Section_3_Artic...            0.226574   \n",
       "EU_32019R0631_Title_0_Chapter_0_Section_0_Artic...            0.263793   \n",
       "EU_32018L2001_Title_0_Chapter_0_Section_0_Artic...            0.512946   \n",
       "EU_32018R1999_Title_0_Chapter_7_Section_3_Artic...            0.583333   \n",
       "EU_32018L2001_Title_0_Chapter_0_Section_0_Artic...            0.410204   \n",
       "\n",
       "                                                    f1_partial_score  \\\n",
       "EU_32018R1999_Title_0_Chapter_7_Section_3_Artic...          0.281250   \n",
       "EU_32019R0631_Title_0_Chapter_0_Section_0_Artic...          0.409639   \n",
       "EU_32018L2001_Title_0_Chapter_0_Section_0_Artic...          0.653846   \n",
       "EU_32018R1999_Title_0_Chapter_7_Section_3_Artic...          0.736842   \n",
       "EU_32018L2001_Title_0_Chapter_0_Section_0_Artic...          0.532749   \n",
       "\n",
       "                                                    f1_heuristic_score  \\\n",
       "EU_32018R1999_Title_0_Chapter_7_Section_3_Artic...            0.281250   \n",
       "EU_32019R0631_Title_0_Chapter_0_Section_0_Artic...            0.421603   \n",
       "EU_32018L2001_Title_0_Chapter_0_Section_0_Artic...            0.653846   \n",
       "EU_32018R1999_Title_0_Chapter_7_Section_3_Artic...            0.736842   \n",
       "EU_32018L2001_Title_0_Chapter_0_Section_0_Artic...            0.544437   \n",
       "\n",
       "                                                    pygamma_score  \n",
       "EU_32018R1999_Title_0_Chapter_7_Section_3_Artic...       0.233182  \n",
       "EU_32019R0631_Title_0_Chapter_0_Section_0_Artic...       0.301722  \n",
       "EU_32018L2001_Title_0_Chapter_0_Section_0_Artic...       0.540192  \n",
       "EU_32018R1999_Title_0_Chapter_7_Section_3_Artic...       0.577485  \n",
       "EU_32018L2001_Title_0_Chapter_0_Section_0_Artic...       0.408946  "
      ]
     },
     "execution_count": 19,
     "metadata": {},
     "output_type": "execute_result"
    }
   ],
   "source": [
    "test_evaluator.df.head()"
   ]
  },
  {
   "cell_type": "markdown",
   "metadata": {},
   "source": [
    "### Get total score"
   ]
  },
  {
   "cell_type": "markdown",
   "metadata": {},
   "source": [
    "test_evaluator.get_total_score_df(weight_by = 'Spans')To retrieve the total score of the corpus, use get_total_score_df() on a dataframes where the scores for individual articles have been calculated."
   ]
  },
  {
   "cell_type": "code",
   "execution_count": 24,
   "metadata": {},
   "outputs": [
    {
     "data": {
      "text/plain": [
       "{'f1_partial_score': 0.5159440267362017,\n",
       " 'f1_exact_score': 0.40028724799007476,\n",
       " 'f1_tokenwise_score': 0.397687590370067,\n",
       " 'f1_heuristic_score': 0.5273362748620107,\n",
       " 'pygamma_score': 0.38959430074850043}"
      ]
     },
     "execution_count": 24,
     "metadata": {},
     "output_type": "execute_result"
    }
   ],
   "source": [
    "test_evaluator.get_total_score_df(weight_by = 'no_weighting')"
   ]
  },
  {
   "cell_type": "code",
   "execution_count": 25,
   "metadata": {},
   "outputs": [
    {
     "data": {
      "text/plain": [
       "{'f1_partial_score': 0.4739162741735001,\n",
       " 'f1_exact_score': 0.37492081552891304,\n",
       " 'f1_tokenwise_score': 0.35240598751298724,\n",
       " 'f1_heuristic_score': 0.48679580434940306,\n",
       " 'pygamma_score': 0.36993661738021266}"
      ]
     },
     "execution_count": 25,
     "metadata": {},
     "output_type": "execute_result"
    }
   ],
   "source": [
    "test_evaluator.get_total_score_df(weight_by = 'Tokens')"
   ]
  },
  {
   "cell_type": "code",
   "execution_count": 26,
   "metadata": {},
   "outputs": [
    {
     "data": {
      "text/plain": [
       "{'f1_partial_score': 0.5118514006608382,\n",
       " 'f1_exact_score': 0.396540566261322,\n",
       " 'f1_tokenwise_score': 0.39389908818200375,\n",
       " 'f1_heuristic_score': 0.5231773763902876,\n",
       " 'pygamma_score': 0.3861610541767918}"
      ]
     },
     "execution_count": 26,
     "metadata": {},
     "output_type": "execute_result"
    }
   ],
   "source": [
    "test_evaluator.get_total_score_df(weight_by = 'Spans')"
   ]
  },
  {
   "cell_type": "markdown",
   "metadata": {},
   "source": [
    "if only specific scores are required:"
   ]
  },
  {
   "cell_type": "code",
   "execution_count": 27,
   "metadata": {},
   "outputs": [
    {
     "data": {
      "text/plain": [
       "{'f1_exact_score': 0.40028724799007476}"
      ]
     },
     "execution_count": 27,
     "metadata": {},
     "output_type": "execute_result"
    }
   ],
   "source": [
    "test_evaluator.get_total_score_df('f1_exact_score', weight_by = 'no_weighting')"
   ]
  },
  {
   "cell_type": "markdown",
   "metadata": {},
   "source": [
    "or"
   ]
  },
  {
   "cell_type": "code",
   "execution_count": 28,
   "metadata": {},
   "outputs": [
    {
     "data": {
      "text/plain": [
       "{'f1_exact_score': 0.396540566261322,\n",
       " 'f1_tokenwise_score': 0.39389908818200375}"
      ]
     },
     "execution_count": 28,
     "metadata": {},
     "output_type": "execute_result"
    }
   ],
   "source": [
    "test_evaluator.get_total_score_df(['f1_exact_score', 'f1_tokenwise_score'], weight_by = 'Spans')"
   ]
  },
  {
   "cell_type": "markdown",
   "metadata": {},
   "source": [
    "### Get total score per annotator"
   ]
  },
  {
   "cell_type": "code",
   "execution_count": 29,
   "metadata": {},
   "outputs": [
    {
     "name": "stdout",
     "output_type": "stream",
     "text": [
      "annotator:  Onerva\n",
      "{'f1_partial_score': 0.5693735506555899, 'f1_exact_score': 0.4604167249459294, 'f1_tokenwise_score': 0.4483705898668166, 'f1_heuristic_score': 0.5808486134906311, 'pygamma_score': 0.4294816044629412}\n",
      "----------------\n",
      "annotator:  Alisha\n",
      "{'f1_partial_score': 0.43527281436504917, 'f1_exact_score': 0.324342120537717, 'f1_tokenwise_score': 0.3273944654758959, 'f1_heuristic_score': 0.44750513886503773, 'pygamma_score': 0.3316785949531494}\n",
      "----------------\n",
      "annotator:  Fabian\n",
      "{'f1_partial_score': 0.4375710961760199, 'f1_exact_score': 0.31952570461600444, 'f1_tokenwise_score': 0.32287404870740005, 'f1_heuristic_score': 0.4448209763312832, 'pygamma_score': 0.32367981616464075}\n",
      "----------------\n",
      "annotator:  Fride\n",
      "{'f1_partial_score': 0.5903577162943722, 'f1_exact_score': 0.4676671864454628, 'f1_tokenwise_score': 0.46240028078855117, 'f1_heuristic_score': 0.6044050747873817, 'pygamma_score': 0.44631539210044263}\n",
      "----------------\n"
     ]
    }
   ],
   "source": [
    "annotators = ['Onerva', 'Alisha', 'Fabian', 'Fride']\n",
    "for ann in annotators:\n",
    "    print('annotator: ', ann)\n",
    "    print(test_evaluator.get_total_score_df(annotator = ann, weight_by = 'Spans'))\n",
    "    print('----------------')"
   ]
  },
  {
   "cell_type": "code",
   "execution_count": 30,
   "metadata": {},
   "outputs": [
    {
     "data": {
      "text/plain": [
       "{'f1_exact_score': 0.44287267910542477,\n",
       " 'f1_tokenwise_score': 0.42132905468298554}"
      ]
     },
     "execution_count": 30,
     "metadata": {},
     "output_type": "execute_result"
    }
   ],
   "source": [
    "test_evaluator.get_score_annotator('Fride', ['f1_exact_score', 'f1_tokenwise_score'])"
   ]
  },
  {
   "cell_type": "markdown",
   "metadata": {},
   "source": [
    "### Rank articles by score"
   ]
  },
  {
   "cell_type": "code",
   "execution_count": 31,
   "metadata": {},
   "outputs": [
    {
     "data": {
      "text/html": [
       "<div>\n",
       "<style scoped>\n",
       "    .dataframe tbody tr th:only-of-type {\n",
       "        vertical-align: middle;\n",
       "    }\n",
       "\n",
       "    .dataframe tbody tr th {\n",
       "        vertical-align: top;\n",
       "    }\n",
       "\n",
       "    .dataframe thead th {\n",
       "        text-align: right;\n",
       "    }\n",
       "</style>\n",
       "<table border=\"1\" class=\"dataframe\">\n",
       "  <thead>\n",
       "    <tr style=\"text-align: right;\">\n",
       "      <th></th>\n",
       "      <th>Policy</th>\n",
       "      <th>Text</th>\n",
       "      <th>Tokens</th>\n",
       "      <th>Article_State</th>\n",
       "      <th>Finished_Annotators</th>\n",
       "      <th>Curation</th>\n",
       "      <th>Alisha</th>\n",
       "      <th>Fride</th>\n",
       "      <th>Onerva</th>\n",
       "      <th>Fabian</th>\n",
       "      <th>Lynn</th>\n",
       "      <th>Sebastian</th>\n",
       "      <th>Joel</th>\n",
       "      <th>f1_exact_score</th>\n",
       "      <th>f1_tokenwise_score</th>\n",
       "      <th>f1_partial_score</th>\n",
       "      <th>f1_heuristic_score</th>\n",
       "      <th>pygamma_score</th>\n",
       "    </tr>\n",
       "  </thead>\n",
       "  <tbody>\n",
       "    <tr>\n",
       "      <th>EU_32012L0027_Title_0_Chapter_4_Section_0_Article_21</th>\n",
       "      <td></td>\n",
       "      <td>article 21\\r\\nconversion factors\\r\\nfor the pu...</td>\n",
       "      <td>[start:0 stop:7 text:article tag_count:0, star...</td>\n",
       "      <td>CURATION_FINISHED</td>\n",
       "      <td>[Fride, Onerva]</td>\n",
       "      <td>[span id:CUR7809 annotator:Curation layer:Tech...</td>\n",
       "      <td></td>\n",
       "      <td>[span id:B4371 annotator:Fride layer:Technolog...</td>\n",
       "      <td>[span id:C4487 annotator:Onerva layer:Technolo...</td>\n",
       "      <td></td>\n",
       "      <td></td>\n",
       "      <td></td>\n",
       "      <td></td>\n",
       "      <td>0.0</td>\n",
       "      <td>0.000000</td>\n",
       "      <td>0.0</td>\n",
       "      <td>0.0</td>\n",
       "      <td>-0.187198</td>\n",
       "    </tr>\n",
       "    <tr>\n",
       "      <th>EU_32019R0631_Title_0_Chapter_0_Section_0_Article_18</th>\n",
       "      <td></td>\n",
       "      <td>article 18\\r\\nrepeal\\r\\nregulations (ec) no 44...</td>\n",
       "      <td>[start:0 stop:7 text:article tag_count:0, star...</td>\n",
       "      <td>CURATION_FINISHED</td>\n",
       "      <td>[Onerva, Fabian]</td>\n",
       "      <td>[span id:CUR13524 annotator:Curation layer:Pol...</td>\n",
       "      <td></td>\n",
       "      <td></td>\n",
       "      <td>[span id:C6758 annotator:Onerva layer:Policyde...</td>\n",
       "      <td>[span id:D3340 annotator:Fabian layer:Policyde...</td>\n",
       "      <td></td>\n",
       "      <td></td>\n",
       "      <td></td>\n",
       "      <td>0.0</td>\n",
       "      <td>0.000000</td>\n",
       "      <td>0.0</td>\n",
       "      <td>0.0</td>\n",
       "      <td>-0.140600</td>\n",
       "    </tr>\n",
       "    <tr>\n",
       "      <th>EU_32008R1099_Title_0_Chapter_0_Section_0_Article_08</th>\n",
       "      <td></td>\n",
       "      <td>article 8\\r\\nannual nuclear statistics\\r\\nthe ...</td>\n",
       "      <td>[start:0 stop:7 text:article tag_count:0, star...</td>\n",
       "      <td>CURATION_FINISHED</td>\n",
       "      <td>[Alisha, Fride]</td>\n",
       "      <td>[span id:CUR6743 annotator:Curation layer:Inst...</td>\n",
       "      <td>[span id:A2293 annotator:Alisha layer:Instrume...</td>\n",
       "      <td>[span id:B3594 annotator:Fride layer:Policydes...</td>\n",
       "      <td>[span id:C3873 annotator:Onerva layer:Policyde...</td>\n",
       "      <td></td>\n",
       "      <td></td>\n",
       "      <td></td>\n",
       "      <td></td>\n",
       "      <td>0.0</td>\n",
       "      <td>0.000000</td>\n",
       "      <td>0.0</td>\n",
       "      <td>0.0</td>\n",
       "      <td>-0.095282</td>\n",
       "    </tr>\n",
       "    <tr>\n",
       "      <th>EU_32008R1099_Title_0_Chapter_0_Section_0_Article_05</th>\n",
       "      <td></td>\n",
       "      <td>article 5\\r\\ntransmission and dissemination\\r\\...</td>\n",
       "      <td>[start:0 stop:7 text:article tag_count:0, star...</td>\n",
       "      <td>CURATION_FINISHED</td>\n",
       "      <td>[Alisha, Fride]</td>\n",
       "      <td>[span id:CUR15065 annotator:Curation layer:Ins...</td>\n",
       "      <td>[span id:A5801 annotator:Alisha layer:Instrume...</td>\n",
       "      <td>[span id:B8089 annotator:Fride layer:Instrumen...</td>\n",
       "      <td>[span id:C7141 annotator:Onerva layer:Policyde...</td>\n",
       "      <td></td>\n",
       "      <td>[]</td>\n",
       "      <td></td>\n",
       "      <td></td>\n",
       "      <td>0.0</td>\n",
       "      <td>0.000000</td>\n",
       "      <td>0.0</td>\n",
       "      <td>0.0</td>\n",
       "      <td>-0.037073</td>\n",
       "    </tr>\n",
       "    <tr>\n",
       "      <th>EU_32006L0066_Title_0_Chapter_0_Section_0_Article_29</th>\n",
       "      <td></td>\n",
       "      <td>article 29\\r\\nentry into force\\r\\nthis directi...</td>\n",
       "      <td>[start:0 stop:7 text:article tag_count:0, star...</td>\n",
       "      <td>CURATION_FINISHED</td>\n",
       "      <td>[Fride, Onerva]</td>\n",
       "      <td>[span id:CUR10714 annotator:Curation layer:Pol...</td>\n",
       "      <td></td>\n",
       "      <td>[span id:B6443 annotator:Fride layer:Policydes...</td>\n",
       "      <td>[span id:C5728 annotator:Onerva layer:Policyde...</td>\n",
       "      <td></td>\n",
       "      <td>[]</td>\n",
       "      <td></td>\n",
       "      <td></td>\n",
       "      <td>0.0</td>\n",
       "      <td>0.000000</td>\n",
       "      <td>0.0</td>\n",
       "      <td>0.0</td>\n",
       "      <td>-0.763486</td>\n",
       "    </tr>\n",
       "    <tr>\n",
       "      <th>...</th>\n",
       "      <td>...</td>\n",
       "      <td>...</td>\n",
       "      <td>...</td>\n",
       "      <td>...</td>\n",
       "      <td>...</td>\n",
       "      <td>...</td>\n",
       "      <td>...</td>\n",
       "      <td>...</td>\n",
       "      <td>...</td>\n",
       "      <td>...</td>\n",
       "      <td>...</td>\n",
       "      <td>...</td>\n",
       "      <td>...</td>\n",
       "      <td>...</td>\n",
       "      <td>...</td>\n",
       "      <td>...</td>\n",
       "      <td>...</td>\n",
       "      <td>...</td>\n",
       "    </tr>\n",
       "    <tr>\n",
       "      <th>EU_32009R0079_Title_0_Chapter_0_Section_0_Article_14</th>\n",
       "      <td></td>\n",
       "      <td>article 14\\r\\namendments to directive 2007/46/...</td>\n",
       "      <td>[start:0 stop:7 text:article tag_count:0, star...</td>\n",
       "      <td>CURATION_FINISHED</td>\n",
       "      <td>[Fabian, Onerva]</td>\n",
       "      <td>[span id:CUR12469 annotator:Curation layer:Pol...</td>\n",
       "      <td></td>\n",
       "      <td></td>\n",
       "      <td>[span id:C6392 annotator:Onerva layer:Policyde...</td>\n",
       "      <td>[span id:D2925 annotator:Fabian layer:Policyde...</td>\n",
       "      <td></td>\n",
       "      <td></td>\n",
       "      <td></td>\n",
       "      <td>1.0</td>\n",
       "      <td>1.000000</td>\n",
       "      <td>1.0</td>\n",
       "      <td>1.0</td>\n",
       "      <td>1.000000</td>\n",
       "    </tr>\n",
       "    <tr>\n",
       "      <th>EU_32019L0944_Title_0_Chapter_7_Section_5_Article_73</th>\n",
       "      <td></td>\n",
       "      <td>article 73\\r\\nentry into force\\r\\nthis directi...</td>\n",
       "      <td>[start:0 stop:7 text:article tag_count:0, star...</td>\n",
       "      <td>CURATION_FINISHED</td>\n",
       "      <td>[Alisha, Fabian]</td>\n",
       "      <td>[span id:CUR12501 annotator:Curation layer:Pol...</td>\n",
       "      <td>[span id:A4492 annotator:Alisha layer:Policyde...</td>\n",
       "      <td></td>\n",
       "      <td>[]</td>\n",
       "      <td>[span id:D2942 annotator:Fabian layer:Policyde...</td>\n",
       "      <td></td>\n",
       "      <td></td>\n",
       "      <td></td>\n",
       "      <td>0.0</td>\n",
       "      <td>0.846465</td>\n",
       "      <td>1.0</td>\n",
       "      <td>1.0</td>\n",
       "      <td>0.956143</td>\n",
       "    </tr>\n",
       "    <tr>\n",
       "      <th>EU_32018R1999_Title_0_Chapter_7_Section_3_Article_54</th>\n",
       "      <td></td>\n",
       "      <td>article 54\\r\\namendments to directive 2012/27/...</td>\n",
       "      <td>[start:0 stop:7 text:article tag_count:0, star...</td>\n",
       "      <td>CURATION_FINISHED</td>\n",
       "      <td>[Alisha, Fride]</td>\n",
       "      <td>[span id:CUR9806 annotator:Curation layer:Poli...</td>\n",
       "      <td>[span id:A3223 annotator:Alisha layer:Policyde...</td>\n",
       "      <td>[span id:B5863 annotator:Fride layer:Policydes...</td>\n",
       "      <td></td>\n",
       "      <td></td>\n",
       "      <td></td>\n",
       "      <td></td>\n",
       "      <td></td>\n",
       "      <td>1.0</td>\n",
       "      <td>1.000000</td>\n",
       "      <td>1.0</td>\n",
       "      <td>1.0</td>\n",
       "      <td>1.000000</td>\n",
       "    </tr>\n",
       "    <tr>\n",
       "      <th>EU_32008R1099_Title_0_Chapter_0_Section_0_Article_12</th>\n",
       "      <td></td>\n",
       "      <td>article 12\\r\\nentry into force\\r\\nthis regulat...</td>\n",
       "      <td>[start:0 stop:7 text:article tag_count:0, star...</td>\n",
       "      <td>CURATION_FINISHED</td>\n",
       "      <td>[Alisha, Fride]</td>\n",
       "      <td>[span id:CUR384 annotator:Curation layer:Polic...</td>\n",
       "      <td>[span id:A100 annotator:Alisha layer:Policydes...</td>\n",
       "      <td>[span id:B243 annotator:Fride layer:Policydesi...</td>\n",
       "      <td>[span id:C268 annotator:Onerva layer:Policydes...</td>\n",
       "      <td></td>\n",
       "      <td></td>\n",
       "      <td></td>\n",
       "      <td></td>\n",
       "      <td>0.5</td>\n",
       "      <td>0.857143</td>\n",
       "      <td>1.0</td>\n",
       "      <td>1.0</td>\n",
       "      <td>0.960483</td>\n",
       "    </tr>\n",
       "    <tr>\n",
       "      <th>EU_32012L0027_Title_0_Chapter_5_Section_0_Article_29</th>\n",
       "      <td></td>\n",
       "      <td>article 29\\r\\nentry into force\\r\\nthis directi...</td>\n",
       "      <td>[start:0 stop:7 text:article tag_count:0, star...</td>\n",
       "      <td>CURATION_FINISHED</td>\n",
       "      <td>[Fride, Onerva]</td>\n",
       "      <td>[span id:CUR11176 annotator:Curation layer:Pol...</td>\n",
       "      <td></td>\n",
       "      <td>[span id:B6516 annotator:Fride layer:Policydes...</td>\n",
       "      <td>[span id:C5928 annotator:Onerva layer:Policyde...</td>\n",
       "      <td></td>\n",
       "      <td></td>\n",
       "      <td></td>\n",
       "      <td></td>\n",
       "      <td>0.0</td>\n",
       "      <td>0.814815</td>\n",
       "      <td>1.0</td>\n",
       "      <td>1.0</td>\n",
       "      <td>-0.826315</td>\n",
       "    </tr>\n",
       "  </tbody>\n",
       "</table>\n",
       "<p>412 rows × 18 columns</p>\n",
       "</div>"
      ],
      "text/plain": [
       "                                                   Policy  \\\n",
       "EU_32012L0027_Title_0_Chapter_4_Section_0_Artic...          \n",
       "EU_32019R0631_Title_0_Chapter_0_Section_0_Artic...          \n",
       "EU_32008R1099_Title_0_Chapter_0_Section_0_Artic...          \n",
       "EU_32008R1099_Title_0_Chapter_0_Section_0_Artic...          \n",
       "EU_32006L0066_Title_0_Chapter_0_Section_0_Artic...          \n",
       "...                                                   ...   \n",
       "EU_32009R0079_Title_0_Chapter_0_Section_0_Artic...          \n",
       "EU_32019L0944_Title_0_Chapter_7_Section_5_Artic...          \n",
       "EU_32018R1999_Title_0_Chapter_7_Section_3_Artic...          \n",
       "EU_32008R1099_Title_0_Chapter_0_Section_0_Artic...          \n",
       "EU_32012L0027_Title_0_Chapter_5_Section_0_Artic...          \n",
       "\n",
       "                                                                                                 Text  \\\n",
       "EU_32012L0027_Title_0_Chapter_4_Section_0_Artic...  article 21\\r\\nconversion factors\\r\\nfor the pu...   \n",
       "EU_32019R0631_Title_0_Chapter_0_Section_0_Artic...  article 18\\r\\nrepeal\\r\\nregulations (ec) no 44...   \n",
       "EU_32008R1099_Title_0_Chapter_0_Section_0_Artic...  article 8\\r\\nannual nuclear statistics\\r\\nthe ...   \n",
       "EU_32008R1099_Title_0_Chapter_0_Section_0_Artic...  article 5\\r\\ntransmission and dissemination\\r\\...   \n",
       "EU_32006L0066_Title_0_Chapter_0_Section_0_Artic...  article 29\\r\\nentry into force\\r\\nthis directi...   \n",
       "...                                                                                               ...   \n",
       "EU_32009R0079_Title_0_Chapter_0_Section_0_Artic...  article 14\\r\\namendments to directive 2007/46/...   \n",
       "EU_32019L0944_Title_0_Chapter_7_Section_5_Artic...  article 73\\r\\nentry into force\\r\\nthis directi...   \n",
       "EU_32018R1999_Title_0_Chapter_7_Section_3_Artic...  article 54\\r\\namendments to directive 2012/27/...   \n",
       "EU_32008R1099_Title_0_Chapter_0_Section_0_Artic...  article 12\\r\\nentry into force\\r\\nthis regulat...   \n",
       "EU_32012L0027_Title_0_Chapter_5_Section_0_Artic...  article 29\\r\\nentry into force\\r\\nthis directi...   \n",
       "\n",
       "                                                                                               Tokens  \\\n",
       "EU_32012L0027_Title_0_Chapter_4_Section_0_Artic...  [start:0 stop:7 text:article tag_count:0, star...   \n",
       "EU_32019R0631_Title_0_Chapter_0_Section_0_Artic...  [start:0 stop:7 text:article tag_count:0, star...   \n",
       "EU_32008R1099_Title_0_Chapter_0_Section_0_Artic...  [start:0 stop:7 text:article tag_count:0, star...   \n",
       "EU_32008R1099_Title_0_Chapter_0_Section_0_Artic...  [start:0 stop:7 text:article tag_count:0, star...   \n",
       "EU_32006L0066_Title_0_Chapter_0_Section_0_Artic...  [start:0 stop:7 text:article tag_count:0, star...   \n",
       "...                                                                                               ...   \n",
       "EU_32009R0079_Title_0_Chapter_0_Section_0_Artic...  [start:0 stop:7 text:article tag_count:0, star...   \n",
       "EU_32019L0944_Title_0_Chapter_7_Section_5_Artic...  [start:0 stop:7 text:article tag_count:0, star...   \n",
       "EU_32018R1999_Title_0_Chapter_7_Section_3_Artic...  [start:0 stop:7 text:article tag_count:0, star...   \n",
       "EU_32008R1099_Title_0_Chapter_0_Section_0_Artic...  [start:0 stop:7 text:article tag_count:0, star...   \n",
       "EU_32012L0027_Title_0_Chapter_5_Section_0_Artic...  [start:0 stop:7 text:article tag_count:0, star...   \n",
       "\n",
       "                                                        Article_State  \\\n",
       "EU_32012L0027_Title_0_Chapter_4_Section_0_Artic...  CURATION_FINISHED   \n",
       "EU_32019R0631_Title_0_Chapter_0_Section_0_Artic...  CURATION_FINISHED   \n",
       "EU_32008R1099_Title_0_Chapter_0_Section_0_Artic...  CURATION_FINISHED   \n",
       "EU_32008R1099_Title_0_Chapter_0_Section_0_Artic...  CURATION_FINISHED   \n",
       "EU_32006L0066_Title_0_Chapter_0_Section_0_Artic...  CURATION_FINISHED   \n",
       "...                                                               ...   \n",
       "EU_32009R0079_Title_0_Chapter_0_Section_0_Artic...  CURATION_FINISHED   \n",
       "EU_32019L0944_Title_0_Chapter_7_Section_5_Artic...  CURATION_FINISHED   \n",
       "EU_32018R1999_Title_0_Chapter_7_Section_3_Artic...  CURATION_FINISHED   \n",
       "EU_32008R1099_Title_0_Chapter_0_Section_0_Artic...  CURATION_FINISHED   \n",
       "EU_32012L0027_Title_0_Chapter_5_Section_0_Artic...  CURATION_FINISHED   \n",
       "\n",
       "                                                   Finished_Annotators  \\\n",
       "EU_32012L0027_Title_0_Chapter_4_Section_0_Artic...     [Fride, Onerva]   \n",
       "EU_32019R0631_Title_0_Chapter_0_Section_0_Artic...    [Onerva, Fabian]   \n",
       "EU_32008R1099_Title_0_Chapter_0_Section_0_Artic...     [Alisha, Fride]   \n",
       "EU_32008R1099_Title_0_Chapter_0_Section_0_Artic...     [Alisha, Fride]   \n",
       "EU_32006L0066_Title_0_Chapter_0_Section_0_Artic...     [Fride, Onerva]   \n",
       "...                                                                ...   \n",
       "EU_32009R0079_Title_0_Chapter_0_Section_0_Artic...    [Fabian, Onerva]   \n",
       "EU_32019L0944_Title_0_Chapter_7_Section_5_Artic...    [Alisha, Fabian]   \n",
       "EU_32018R1999_Title_0_Chapter_7_Section_3_Artic...     [Alisha, Fride]   \n",
       "EU_32008R1099_Title_0_Chapter_0_Section_0_Artic...     [Alisha, Fride]   \n",
       "EU_32012L0027_Title_0_Chapter_5_Section_0_Artic...     [Fride, Onerva]   \n",
       "\n",
       "                                                                                             Curation  \\\n",
       "EU_32012L0027_Title_0_Chapter_4_Section_0_Artic...  [span id:CUR7809 annotator:Curation layer:Tech...   \n",
       "EU_32019R0631_Title_0_Chapter_0_Section_0_Artic...  [span id:CUR13524 annotator:Curation layer:Pol...   \n",
       "EU_32008R1099_Title_0_Chapter_0_Section_0_Artic...  [span id:CUR6743 annotator:Curation layer:Inst...   \n",
       "EU_32008R1099_Title_0_Chapter_0_Section_0_Artic...  [span id:CUR15065 annotator:Curation layer:Ins...   \n",
       "EU_32006L0066_Title_0_Chapter_0_Section_0_Artic...  [span id:CUR10714 annotator:Curation layer:Pol...   \n",
       "...                                                                                               ...   \n",
       "EU_32009R0079_Title_0_Chapter_0_Section_0_Artic...  [span id:CUR12469 annotator:Curation layer:Pol...   \n",
       "EU_32019L0944_Title_0_Chapter_7_Section_5_Artic...  [span id:CUR12501 annotator:Curation layer:Pol...   \n",
       "EU_32018R1999_Title_0_Chapter_7_Section_3_Artic...  [span id:CUR9806 annotator:Curation layer:Poli...   \n",
       "EU_32008R1099_Title_0_Chapter_0_Section_0_Artic...  [span id:CUR384 annotator:Curation layer:Polic...   \n",
       "EU_32012L0027_Title_0_Chapter_5_Section_0_Artic...  [span id:CUR11176 annotator:Curation layer:Pol...   \n",
       "\n",
       "                                                                                               Alisha  \\\n",
       "EU_32012L0027_Title_0_Chapter_4_Section_0_Artic...                                                      \n",
       "EU_32019R0631_Title_0_Chapter_0_Section_0_Artic...                                                      \n",
       "EU_32008R1099_Title_0_Chapter_0_Section_0_Artic...  [span id:A2293 annotator:Alisha layer:Instrume...   \n",
       "EU_32008R1099_Title_0_Chapter_0_Section_0_Artic...  [span id:A5801 annotator:Alisha layer:Instrume...   \n",
       "EU_32006L0066_Title_0_Chapter_0_Section_0_Artic...                                                      \n",
       "...                                                                                               ...   \n",
       "EU_32009R0079_Title_0_Chapter_0_Section_0_Artic...                                                      \n",
       "EU_32019L0944_Title_0_Chapter_7_Section_5_Artic...  [span id:A4492 annotator:Alisha layer:Policyde...   \n",
       "EU_32018R1999_Title_0_Chapter_7_Section_3_Artic...  [span id:A3223 annotator:Alisha layer:Policyde...   \n",
       "EU_32008R1099_Title_0_Chapter_0_Section_0_Artic...  [span id:A100 annotator:Alisha layer:Policydes...   \n",
       "EU_32012L0027_Title_0_Chapter_5_Section_0_Artic...                                                      \n",
       "\n",
       "                                                                                                Fride  \\\n",
       "EU_32012L0027_Title_0_Chapter_4_Section_0_Artic...  [span id:B4371 annotator:Fride layer:Technolog...   \n",
       "EU_32019R0631_Title_0_Chapter_0_Section_0_Artic...                                                      \n",
       "EU_32008R1099_Title_0_Chapter_0_Section_0_Artic...  [span id:B3594 annotator:Fride layer:Policydes...   \n",
       "EU_32008R1099_Title_0_Chapter_0_Section_0_Artic...  [span id:B8089 annotator:Fride layer:Instrumen...   \n",
       "EU_32006L0066_Title_0_Chapter_0_Section_0_Artic...  [span id:B6443 annotator:Fride layer:Policydes...   \n",
       "...                                                                                               ...   \n",
       "EU_32009R0079_Title_0_Chapter_0_Section_0_Artic...                                                      \n",
       "EU_32019L0944_Title_0_Chapter_7_Section_5_Artic...                                                      \n",
       "EU_32018R1999_Title_0_Chapter_7_Section_3_Artic...  [span id:B5863 annotator:Fride layer:Policydes...   \n",
       "EU_32008R1099_Title_0_Chapter_0_Section_0_Artic...  [span id:B243 annotator:Fride layer:Policydesi...   \n",
       "EU_32012L0027_Title_0_Chapter_5_Section_0_Artic...  [span id:B6516 annotator:Fride layer:Policydes...   \n",
       "\n",
       "                                                                                               Onerva  \\\n",
       "EU_32012L0027_Title_0_Chapter_4_Section_0_Artic...  [span id:C4487 annotator:Onerva layer:Technolo...   \n",
       "EU_32019R0631_Title_0_Chapter_0_Section_0_Artic...  [span id:C6758 annotator:Onerva layer:Policyde...   \n",
       "EU_32008R1099_Title_0_Chapter_0_Section_0_Artic...  [span id:C3873 annotator:Onerva layer:Policyde...   \n",
       "EU_32008R1099_Title_0_Chapter_0_Section_0_Artic...  [span id:C7141 annotator:Onerva layer:Policyde...   \n",
       "EU_32006L0066_Title_0_Chapter_0_Section_0_Artic...  [span id:C5728 annotator:Onerva layer:Policyde...   \n",
       "...                                                                                               ...   \n",
       "EU_32009R0079_Title_0_Chapter_0_Section_0_Artic...  [span id:C6392 annotator:Onerva layer:Policyde...   \n",
       "EU_32019L0944_Title_0_Chapter_7_Section_5_Artic...                                                 []   \n",
       "EU_32018R1999_Title_0_Chapter_7_Section_3_Artic...                                                      \n",
       "EU_32008R1099_Title_0_Chapter_0_Section_0_Artic...  [span id:C268 annotator:Onerva layer:Policydes...   \n",
       "EU_32012L0027_Title_0_Chapter_5_Section_0_Artic...  [span id:C5928 annotator:Onerva layer:Policyde...   \n",
       "\n",
       "                                                                                               Fabian  \\\n",
       "EU_32012L0027_Title_0_Chapter_4_Section_0_Artic...                                                      \n",
       "EU_32019R0631_Title_0_Chapter_0_Section_0_Artic...  [span id:D3340 annotator:Fabian layer:Policyde...   \n",
       "EU_32008R1099_Title_0_Chapter_0_Section_0_Artic...                                                      \n",
       "EU_32008R1099_Title_0_Chapter_0_Section_0_Artic...                                                      \n",
       "EU_32006L0066_Title_0_Chapter_0_Section_0_Artic...                                                      \n",
       "...                                                                                               ...   \n",
       "EU_32009R0079_Title_0_Chapter_0_Section_0_Artic...  [span id:D2925 annotator:Fabian layer:Policyde...   \n",
       "EU_32019L0944_Title_0_Chapter_7_Section_5_Artic...  [span id:D2942 annotator:Fabian layer:Policyde...   \n",
       "EU_32018R1999_Title_0_Chapter_7_Section_3_Artic...                                                      \n",
       "EU_32008R1099_Title_0_Chapter_0_Section_0_Artic...                                                      \n",
       "EU_32012L0027_Title_0_Chapter_5_Section_0_Artic...                                                      \n",
       "\n",
       "                                                   Lynn Sebastian Joel  \\\n",
       "EU_32012L0027_Title_0_Chapter_4_Section_0_Artic...                       \n",
       "EU_32019R0631_Title_0_Chapter_0_Section_0_Artic...                       \n",
       "EU_32008R1099_Title_0_Chapter_0_Section_0_Artic...                       \n",
       "EU_32008R1099_Title_0_Chapter_0_Section_0_Artic...   []                  \n",
       "EU_32006L0066_Title_0_Chapter_0_Section_0_Artic...   []                  \n",
       "...                                                 ...       ...  ...   \n",
       "EU_32009R0079_Title_0_Chapter_0_Section_0_Artic...                       \n",
       "EU_32019L0944_Title_0_Chapter_7_Section_5_Artic...                       \n",
       "EU_32018R1999_Title_0_Chapter_7_Section_3_Artic...                       \n",
       "EU_32008R1099_Title_0_Chapter_0_Section_0_Artic...                       \n",
       "EU_32012L0027_Title_0_Chapter_5_Section_0_Artic...                       \n",
       "\n",
       "                                                    f1_exact_score  \\\n",
       "EU_32012L0027_Title_0_Chapter_4_Section_0_Artic...             0.0   \n",
       "EU_32019R0631_Title_0_Chapter_0_Section_0_Artic...             0.0   \n",
       "EU_32008R1099_Title_0_Chapter_0_Section_0_Artic...             0.0   \n",
       "EU_32008R1099_Title_0_Chapter_0_Section_0_Artic...             0.0   \n",
       "EU_32006L0066_Title_0_Chapter_0_Section_0_Artic...             0.0   \n",
       "...                                                            ...   \n",
       "EU_32009R0079_Title_0_Chapter_0_Section_0_Artic...             1.0   \n",
       "EU_32019L0944_Title_0_Chapter_7_Section_5_Artic...             0.0   \n",
       "EU_32018R1999_Title_0_Chapter_7_Section_3_Artic...             1.0   \n",
       "EU_32008R1099_Title_0_Chapter_0_Section_0_Artic...             0.5   \n",
       "EU_32012L0027_Title_0_Chapter_5_Section_0_Artic...             0.0   \n",
       "\n",
       "                                                    f1_tokenwise_score  \\\n",
       "EU_32012L0027_Title_0_Chapter_4_Section_0_Artic...            0.000000   \n",
       "EU_32019R0631_Title_0_Chapter_0_Section_0_Artic...            0.000000   \n",
       "EU_32008R1099_Title_0_Chapter_0_Section_0_Artic...            0.000000   \n",
       "EU_32008R1099_Title_0_Chapter_0_Section_0_Artic...            0.000000   \n",
       "EU_32006L0066_Title_0_Chapter_0_Section_0_Artic...            0.000000   \n",
       "...                                                                ...   \n",
       "EU_32009R0079_Title_0_Chapter_0_Section_0_Artic...            1.000000   \n",
       "EU_32019L0944_Title_0_Chapter_7_Section_5_Artic...            0.846465   \n",
       "EU_32018R1999_Title_0_Chapter_7_Section_3_Artic...            1.000000   \n",
       "EU_32008R1099_Title_0_Chapter_0_Section_0_Artic...            0.857143   \n",
       "EU_32012L0027_Title_0_Chapter_5_Section_0_Artic...            0.814815   \n",
       "\n",
       "                                                    f1_partial_score  \\\n",
       "EU_32012L0027_Title_0_Chapter_4_Section_0_Artic...               0.0   \n",
       "EU_32019R0631_Title_0_Chapter_0_Section_0_Artic...               0.0   \n",
       "EU_32008R1099_Title_0_Chapter_0_Section_0_Artic...               0.0   \n",
       "EU_32008R1099_Title_0_Chapter_0_Section_0_Artic...               0.0   \n",
       "EU_32006L0066_Title_0_Chapter_0_Section_0_Artic...               0.0   \n",
       "...                                                              ...   \n",
       "EU_32009R0079_Title_0_Chapter_0_Section_0_Artic...               1.0   \n",
       "EU_32019L0944_Title_0_Chapter_7_Section_5_Artic...               1.0   \n",
       "EU_32018R1999_Title_0_Chapter_7_Section_3_Artic...               1.0   \n",
       "EU_32008R1099_Title_0_Chapter_0_Section_0_Artic...               1.0   \n",
       "EU_32012L0027_Title_0_Chapter_5_Section_0_Artic...               1.0   \n",
       "\n",
       "                                                    f1_heuristic_score  \\\n",
       "EU_32012L0027_Title_0_Chapter_4_Section_0_Artic...                 0.0   \n",
       "EU_32019R0631_Title_0_Chapter_0_Section_0_Artic...                 0.0   \n",
       "EU_32008R1099_Title_0_Chapter_0_Section_0_Artic...                 0.0   \n",
       "EU_32008R1099_Title_0_Chapter_0_Section_0_Artic...                 0.0   \n",
       "EU_32006L0066_Title_0_Chapter_0_Section_0_Artic...                 0.0   \n",
       "...                                                                ...   \n",
       "EU_32009R0079_Title_0_Chapter_0_Section_0_Artic...                 1.0   \n",
       "EU_32019L0944_Title_0_Chapter_7_Section_5_Artic...                 1.0   \n",
       "EU_32018R1999_Title_0_Chapter_7_Section_3_Artic...                 1.0   \n",
       "EU_32008R1099_Title_0_Chapter_0_Section_0_Artic...                 1.0   \n",
       "EU_32012L0027_Title_0_Chapter_5_Section_0_Artic...                 1.0   \n",
       "\n",
       "                                                    pygamma_score  \n",
       "EU_32012L0027_Title_0_Chapter_4_Section_0_Artic...      -0.187198  \n",
       "EU_32019R0631_Title_0_Chapter_0_Section_0_Artic...      -0.140600  \n",
       "EU_32008R1099_Title_0_Chapter_0_Section_0_Artic...      -0.095282  \n",
       "EU_32008R1099_Title_0_Chapter_0_Section_0_Artic...      -0.037073  \n",
       "EU_32006L0066_Title_0_Chapter_0_Section_0_Artic...      -0.763486  \n",
       "...                                                           ...  \n",
       "EU_32009R0079_Title_0_Chapter_0_Section_0_Artic...       1.000000  \n",
       "EU_32019L0944_Title_0_Chapter_7_Section_5_Artic...       0.956143  \n",
       "EU_32018R1999_Title_0_Chapter_7_Section_3_Artic...       1.000000  \n",
       "EU_32008R1099_Title_0_Chapter_0_Section_0_Artic...       0.960483  \n",
       "EU_32012L0027_Title_0_Chapter_5_Section_0_Artic...      -0.826315  \n",
       "\n",
       "[412 rows x 18 columns]"
      ]
     },
     "execution_count": 31,
     "metadata": {},
     "output_type": "execute_result"
    }
   ],
   "source": [
    "test_evaluator.df.sort_values(by=['f1_heuristic_score'])"
   ]
  },
  {
   "cell_type": "code",
   "execution_count": 22,
   "metadata": {},
   "outputs": [
    {
     "data": {
      "text/plain": [
       "{'a': 0.0, 'c': 0.0, 'v': 0.0}"
      ]
     },
     "execution_count": 22,
     "metadata": {},
     "output_type": "execute_result"
    }
   ],
   "source": [
    "test_arra = np.zeros(3)\n",
    "\n",
    "lis = ['a','c','v']\n",
    "\n",
    "dict(zip(lis, test_arra.T))"
   ]
  },
  {
   "cell_type": "markdown",
   "metadata": {},
   "source": [
    "## Get total score based on a spanlist (still experimental)"
   ]
  },
  {
   "cell_type": "markdown",
   "metadata": {},
   "source": [
    "The inter annotator agreement score can be also calculated from a spanlist. For all the spans present, it calculates the inter agreement scores for alle the articls with at least two valid annoations. Can be used to caluclate simmilarity to curation."
   ]
  },
  {
   "cell_type": "code",
   "execution_count": 38,
   "metadata": {},
   "outputs": [],
   "source": [
    "test_dir = repository.from_repository_name('EU_32008R1099_Title_0_Chapter_0_Section_0_Article_12\t')\n",
    "span_list = test_evaluator.get_span_list(test_dir, ['Onerva', 'Fride'])"
   ]
  },
  {
   "cell_type": "code",
   "execution_count": 39,
   "metadata": {},
   "outputs": [
    {
     "ename": "ZeroDivisionError",
     "evalue": "division by zero",
     "output_type": "error",
     "traceback": [
      "\u001b[0;31m---------------------------------------------------------------------------\u001b[0m",
      "\u001b[0;31mZeroDivisionError\u001b[0m                         Traceback (most recent call last)",
      "\u001b[0;32m<ipython-input-39-79c20462d0a7>\u001b[0m in \u001b[0;36m<module>\u001b[0;34m\u001b[0m\n\u001b[0;32m----> 1\u001b[0;31m \u001b[0mtest_evaluator\u001b[0m\u001b[0;34m.\u001b[0m\u001b[0mget_score_spanlist\u001b[0m\u001b[0;34m(\u001b[0m\u001b[0mspan_list\u001b[0m\u001b[0;34m,\u001b[0m \u001b[0;34m'f1_heuristic'\u001b[0m\u001b[0;34m)\u001b[0m\u001b[0;34m\u001b[0m\u001b[0;34m\u001b[0m\u001b[0m\n\u001b[0m",
      "\u001b[0;32m~/NLP_spark/src/d03_inter_annotator_agreement/inter_annotator_agremment.py\u001b[0m in \u001b[0;36mget_score_spanlist\u001b[0;34m(self, span_list, scoring_metric, weight_by_tokens, **optional_tuple_properties)\u001b[0m\n\u001b[1;32m    353\u001b[0m             \u001b[0mtotal_tokens\u001b[0m \u001b[0;34m+=\u001b[0m \u001b[0mn_tokens\u001b[0m\u001b[0;34m\u001b[0m\u001b[0;34m\u001b[0m\u001b[0m\n\u001b[1;32m    354\u001b[0m \u001b[0;34m\u001b[0m\u001b[0m\n\u001b[0;32m--> 355\u001b[0;31m         \u001b[0;32mreturn\u001b[0m \u001b[0mtotal_score\u001b[0m \u001b[0;34m/\u001b[0m \u001b[0mtotal_tokens\u001b[0m\u001b[0;34m\u001b[0m\u001b[0;34m\u001b[0m\u001b[0m\n\u001b[0m\u001b[1;32m    356\u001b[0m \u001b[0;34m\u001b[0m\u001b[0m\n\u001b[1;32m    357\u001b[0m \u001b[0;34m\u001b[0m\u001b[0m\n",
      "\u001b[0;31mZeroDivisionError\u001b[0m: division by zero"
     ]
    }
   ],
   "source": [
    "test_evaluator.get_score_spanlist(span_list, 'f1_heuristic')"
   ]
  },
  {
   "cell_type": "markdown",
   "metadata": {},
   "source": [
    "## Check closeness to curation"
   ]
  },
  {
   "cell_type": "markdown",
   "metadata": {},
   "source": [
    "To check the agreement with the curation of all annotators, we simply create a spanlist for each annotator containing all his spans and the ones from the curation\n",
    "Since this is based on a big list instead of a dataframe, the computation is very slow"
   ]
  },
  {
   "cell_type": "code",
   "execution_count": 32,
   "metadata": {},
   "outputs": [
    {
     "name": "stderr",
     "output_type": "stream",
     "text": [
      "100%|██████████| 412/412 [01:03<00:00,  6.52it/s]\n",
      "100%|██████████| 412/412 [00:51<00:00,  7.94it/s]\n",
      "100%|██████████| 412/412 [01:20<00:00,  5.11it/s]\n",
      "100%|██████████| 412/412 [01:26<00:00,  4.75it/s]\n"
     ]
    }
   ],
   "source": [
    "test_evaluator.append_score_to_curation(scoring_metrics)"
   ]
  },
  {
   "cell_type": "code",
   "execution_count": 33,
   "metadata": {},
   "outputs": [
    {
     "data": {
      "text/plain": [
       "{'Onerva': {'f1_exact': 0.6732862244002309,\n",
       "  'pygamma': 0.6176183342356287,\n",
       "  'f1_heuristic': 0.7160416942508684,\n",
       "  'f1_partial': 0.7418035160958896,\n",
       "  'f1_tokenwise': 0.6014000379564838},\n",
       " 'Alisha': {'f1_exact': 0.574676845271569,\n",
       "  'pygamma': 0.5344264074636121,\n",
       "  'f1_heuristic': 0.6370336784394007,\n",
       "  'f1_partial': 0.6622106992758143,\n",
       "  'f1_tokenwise': 0.5360664298052316},\n",
       " 'Fabian': {'f1_exact': 0.43231750058721435,\n",
       "  'pygamma': 0.37760504426835484,\n",
       "  'f1_heuristic': 0.49015694287418154,\n",
       "  'f1_partial': 0.5092491205438597,\n",
       "  'f1_tokenwise': 0.3779958044165836},\n",
       " 'Fride': {'f1_exact': 0.6829956559202468,\n",
       "  'pygamma': 0.6406458629220034,\n",
       "  'f1_heuristic': 0.7364141686616807,\n",
       "  'f1_partial': 0.7520213456882968,\n",
       "  'f1_tokenwise': 0.6266985333457066}}"
      ]
     },
     "execution_count": 33,
     "metadata": {},
     "output_type": "execute_result"
    }
   ],
   "source": [
    "test_evaluator.get_to_curation_score(weight_by = 'no_weighting', )"
   ]
  },
  {
   "cell_type": "code",
   "execution_count": 34,
   "metadata": {},
   "outputs": [
    {
     "data": {
      "text/plain": [
       "{'Onerva': {'f1_exact': 0.6497229248404979,\n",
       "  'pygamma': 0.588104303406712,\n",
       "  'f1_heuristic': 0.6926120329988612,\n",
       "  'f1_partial': 0.7155316902447743,\n",
       "  'f1_tokenwise': 0.5975570197174063},\n",
       " 'Alisha': {'f1_exact': 0.5475251978127618,\n",
       "  'pygamma': 0.49672538277097095,\n",
       "  'f1_heuristic': 0.6053944023319054,\n",
       "  'f1_partial': 0.630782505115647,\n",
       "  'f1_tokenwise': 0.5095565539915253},\n",
       " 'Fabian': {'f1_exact': 0.3884944280696229,\n",
       "  'pygamma': 0.3137100596814219,\n",
       "  'f1_heuristic': 0.42722291795144346,\n",
       "  'f1_partial': 0.44587542344065123,\n",
       "  'f1_tokenwise': 0.3263799326874162},\n",
       " 'Fride': {'f1_exact': 0.6807736554301652,\n",
       "  'pygamma': 0.6241358009693133,\n",
       "  'f1_heuristic': 0.7273136810436603,\n",
       "  'f1_partial': 0.7406803749512647,\n",
       "  'f1_tokenwise': 0.6321752810813952}}"
      ]
     },
     "execution_count": 34,
     "metadata": {},
     "output_type": "execute_result"
    }
   ],
   "source": [
    "test_evaluator.get_to_curation_score(weight_by = 'Tokens')"
   ]
  },
  {
   "cell_type": "code",
   "execution_count": 35,
   "metadata": {},
   "outputs": [
    {
     "data": {
      "text/plain": [
       "{'Onerva': {'f1_exact': 0.6725320105435123,\n",
       "  'pygamma': 0.616282138788514,\n",
       "  'f1_heuristic': 0.7149424253455199,\n",
       "  'f1_partial': 0.7408955016725286,\n",
       "  'f1_tokenwise': 0.6005501175118138},\n",
       " 'Alisha': {'f1_exact': 0.5732495899438429,\n",
       "  'pygamma': 0.532932134305108,\n",
       "  'f1_heuristic': 0.6354518646724133,\n",
       "  'f1_partial': 0.6607365971041153,\n",
       "  'f1_tokenwise': 0.5347094303868178},\n",
       " 'Fabian': {'f1_exact': 0.4305815173648279,\n",
       "  'pygamma': 0.3755668217281531,\n",
       "  'f1_heuristic': 0.4879567160836725,\n",
       "  'f1_partial': 0.507198708814773,\n",
       "  'f1_tokenwise': 0.37599200596247634},\n",
       " 'Fride': {'f1_exact': 0.6826652721617722,\n",
       "  'pygamma': 0.639930113606432,\n",
       "  'f1_heuristic': 0.7359816439483653,\n",
       "  'f1_partial': 0.7518958208359453,\n",
       "  'f1_tokenwise': 0.6261249227938296}}"
      ]
     },
     "execution_count": 35,
     "metadata": {},
     "output_type": "execute_result"
    }
   ],
   "source": [
    "test_evaluator.get_to_curation_score(weight_by = 'Spans')"
   ]
  },
  {
   "cell_type": "code",
   "execution_count": null,
   "metadata": {},
   "outputs": [],
   "source": []
  },
  {
   "cell_type": "code",
   "execution_count": null,
   "metadata": {},
   "outputs": [],
   "source": []
  },
  {
   "cell_type": "markdown",
   "metadata": {},
   "source": [
    "# Check scores in different categories"
   ]
  },
  {
   "cell_type": "code",
   "execution_count": 40,
   "metadata": {},
   "outputs": [
    {
     "ename": "AttributeError",
     "evalue": "'numpy.float64' object has no attribute 'rep'",
     "output_type": "error",
     "traceback": [
      "\u001b[0;31m---------------------------------------------------------------------------\u001b[0m",
      "\u001b[0;31mAttributeError\u001b[0m                            Traceback (most recent call last)",
      "\u001b[0;32m<ipython-input-40-001fb644e5bb>\u001b[0m in \u001b[0;36m<module>\u001b[0;34m\u001b[0m\n\u001b[1;32m      3\u001b[0m \u001b[0;34m\u001b[0m\u001b[0m\n\u001b[1;32m      4\u001b[0m \u001b[0;32mfor\u001b[0m \u001b[0ml\u001b[0m \u001b[0;32min\u001b[0m \u001b[0mlayers\u001b[0m\u001b[0;34m:\u001b[0m\u001b[0;34m\u001b[0m\u001b[0;34m\u001b[0m\u001b[0m\n\u001b[0;32m----> 5\u001b[0;31m     \u001b[0mspan_list_layer\u001b[0m \u001b[0;34m=\u001b[0m \u001b[0mtest_evaluator\u001b[0m\u001b[0;34m.\u001b[0m\u001b[0mget_span_list\u001b[0m\u001b[0;34m(\u001b[0m\u001b[0mrepo\u001b[0m\u001b[0;34m,\u001b[0m \u001b[0mcolumns\u001b[0m \u001b[0;34m=\u001b[0m \u001b[0;34m'annotators'\u001b[0m\u001b[0;34m,\u001b[0m \u001b[0mitem\u001b[0m \u001b[0;34m=\u001b[0m \u001b[0;34m'layer'\u001b[0m\u001b[0;34m,\u001b[0m \u001b[0mvalue\u001b[0m \u001b[0;34m=\u001b[0m \u001b[0ml\u001b[0m\u001b[0;34m)\u001b[0m\u001b[0;34m\u001b[0m\u001b[0;34m\u001b[0m\u001b[0m\n\u001b[0m\u001b[1;32m      6\u001b[0m     \u001b[0mscore\u001b[0m \u001b[0;34m=\u001b[0m \u001b[0mtest_evaluator\u001b[0m\u001b[0;34m.\u001b[0m\u001b[0mget_score_spanlist\u001b[0m\u001b[0;34m(\u001b[0m\u001b[0mspan_list_layer\u001b[0m\u001b[0;34m,\u001b[0m \u001b[0;34m'f1_heuristic'\u001b[0m\u001b[0;34m)\u001b[0m\u001b[0;34m\u001b[0m\u001b[0;34m\u001b[0m\u001b[0m\n\u001b[1;32m      7\u001b[0m     \u001b[0mprint\u001b[0m\u001b[0;34m(\u001b[0m\u001b[0;34m'layer: '\u001b[0m\u001b[0;34m,\u001b[0m \u001b[0ml\u001b[0m\u001b[0;34m,\u001b[0m \u001b[0;34m', score: '\u001b[0m\u001b[0;34m,\u001b[0m \u001b[0mscore\u001b[0m\u001b[0;34m)\u001b[0m\u001b[0;34m\u001b[0m\u001b[0;34m\u001b[0m\u001b[0m\n",
      "\u001b[0;32m~/NLP_spark/src/d02_corpus_statistics/corpus.py\u001b[0m in \u001b[0;36mget_span_list\u001b[0;34m(self, conditional_rep, columns, item, value)\u001b[0m\n\u001b[1;32m     92\u001b[0m \u001b[0;34m\u001b[0m\u001b[0m\n\u001b[1;32m     93\u001b[0m \u001b[0;34m\u001b[0m\u001b[0m\n\u001b[0;32m---> 94\u001b[0;31m         \u001b[0miterator\u001b[0m \u001b[0;34m=\u001b[0m \u001b[0mself\u001b[0m\u001b[0;34m.\u001b[0m\u001b[0m_get_iterator_conditional_rep\u001b[0m\u001b[0;34m(\u001b[0m\u001b[0mconditional_rep\u001b[0m\u001b[0;34m,\u001b[0m \u001b[0mcolumns\u001b[0m\u001b[0;34m)\u001b[0m\u001b[0;34m\u001b[0m\u001b[0;34m\u001b[0m\u001b[0m\n\u001b[0m\u001b[1;32m     95\u001b[0m \u001b[0;34m\u001b[0m\u001b[0m\n\u001b[1;32m     96\u001b[0m         \u001b[0;32mif\u001b[0m \u001b[0mitem\u001b[0m \u001b[0;34m==\u001b[0m \u001b[0;32mNone\u001b[0m \u001b[0;32mand\u001b[0m \u001b[0mvalue\u001b[0m \u001b[0;34m==\u001b[0m \u001b[0;32mNone\u001b[0m\u001b[0;34m:\u001b[0m\u001b[0;34m\u001b[0m\u001b[0;34m\u001b[0m\u001b[0m\n",
      "\u001b[0;32m~/NLP_spark/src/d02_corpus_statistics/corpus.py\u001b[0m in \u001b[0;36m_get_iterator_conditional_rep\u001b[0;34m(self, conditional_rep, columns)\u001b[0m\n\u001b[1;32m     64\u001b[0m             \u001b[0miterator\u001b[0m \u001b[0;34m=\u001b[0m \u001b[0mchain\u001b[0m\u001b[0;34m.\u001b[0m\u001b[0mfrom_iterable\u001b[0m\u001b[0;34m(\u001b[0m\u001b[0mself\u001b[0m\u001b[0;34m.\u001b[0m\u001b[0mdf\u001b[0m\u001b[0;34m[\u001b[0m\u001b[0mcolumns\u001b[0m\u001b[0;34m]\u001b[0m\u001b[0;34m.\u001b[0m\u001b[0mstack\u001b[0m\u001b[0;34m(\u001b[0m\u001b[0;34m)\u001b[0m\u001b[0;34m)\u001b[0m\u001b[0;34m\u001b[0m\u001b[0;34m\u001b[0m\u001b[0m\n\u001b[1;32m     65\u001b[0m \u001b[0;34m\u001b[0m\u001b[0m\n\u001b[0;32m---> 66\u001b[0;31m         \u001b[0;32mreturn\u001b[0m \u001b[0;34m[\u001b[0m\u001b[0mx\u001b[0m \u001b[0;32mfor\u001b[0m \u001b[0mx\u001b[0m \u001b[0;32min\u001b[0m \u001b[0miterator\u001b[0m \u001b[0;32mif\u001b[0m \u001b[0mtype\u001b[0m\u001b[0;34m(\u001b[0m\u001b[0mx\u001b[0m\u001b[0;34m)\u001b[0m\u001b[0;34m!=\u001b[0m \u001b[0mstr\u001b[0m \u001b[0;32mand\u001b[0m \u001b[0mx\u001b[0m\u001b[0;34m.\u001b[0m\u001b[0mrep\u001b[0m\u001b[0;34m.\u001b[0m\u001b[0mmatch\u001b[0m\u001b[0;34m(\u001b[0m\u001b[0mconditional_rep\u001b[0m\u001b[0;34m)\u001b[0m \u001b[0;34m==\u001b[0m \u001b[0;32mTrue\u001b[0m\u001b[0;34m]\u001b[0m\u001b[0;34m\u001b[0m\u001b[0;34m\u001b[0m\u001b[0m\n\u001b[0m\u001b[1;32m     67\u001b[0m \u001b[0;34m\u001b[0m\u001b[0m\n\u001b[1;32m     68\u001b[0m \u001b[0;34m\u001b[0m\u001b[0m\n",
      "\u001b[0;32m~/NLP_spark/src/d02_corpus_statistics/corpus.py\u001b[0m in \u001b[0;36m<listcomp>\u001b[0;34m(.0)\u001b[0m\n\u001b[1;32m     64\u001b[0m             \u001b[0miterator\u001b[0m \u001b[0;34m=\u001b[0m \u001b[0mchain\u001b[0m\u001b[0;34m.\u001b[0m\u001b[0mfrom_iterable\u001b[0m\u001b[0;34m(\u001b[0m\u001b[0mself\u001b[0m\u001b[0;34m.\u001b[0m\u001b[0mdf\u001b[0m\u001b[0;34m[\u001b[0m\u001b[0mcolumns\u001b[0m\u001b[0;34m]\u001b[0m\u001b[0;34m.\u001b[0m\u001b[0mstack\u001b[0m\u001b[0;34m(\u001b[0m\u001b[0;34m)\u001b[0m\u001b[0;34m)\u001b[0m\u001b[0;34m\u001b[0m\u001b[0;34m\u001b[0m\u001b[0m\n\u001b[1;32m     65\u001b[0m \u001b[0;34m\u001b[0m\u001b[0m\n\u001b[0;32m---> 66\u001b[0;31m         \u001b[0;32mreturn\u001b[0m \u001b[0;34m[\u001b[0m\u001b[0mx\u001b[0m \u001b[0;32mfor\u001b[0m \u001b[0mx\u001b[0m \u001b[0;32min\u001b[0m \u001b[0miterator\u001b[0m \u001b[0;32mif\u001b[0m \u001b[0mtype\u001b[0m\u001b[0;34m(\u001b[0m\u001b[0mx\u001b[0m\u001b[0;34m)\u001b[0m\u001b[0;34m!=\u001b[0m \u001b[0mstr\u001b[0m \u001b[0;32mand\u001b[0m \u001b[0mx\u001b[0m\u001b[0;34m.\u001b[0m\u001b[0mrep\u001b[0m\u001b[0;34m.\u001b[0m\u001b[0mmatch\u001b[0m\u001b[0;34m(\u001b[0m\u001b[0mconditional_rep\u001b[0m\u001b[0;34m)\u001b[0m \u001b[0;34m==\u001b[0m \u001b[0;32mTrue\u001b[0m\u001b[0;34m]\u001b[0m\u001b[0;34m\u001b[0m\u001b[0;34m\u001b[0m\u001b[0m\n\u001b[0m\u001b[1;32m     67\u001b[0m \u001b[0;34m\u001b[0m\u001b[0m\n\u001b[1;32m     68\u001b[0m \u001b[0;34m\u001b[0m\u001b[0m\n",
      "\u001b[0;31mAttributeError\u001b[0m: 'numpy.float64' object has no attribute 'rep'"
     ]
    }
   ],
   "source": [
    "layers = ['Technologyandapplicationspecificity', 'Policydesigncharacteristics', 'Instrumenttypes' ]\n",
    "repo = repository()\n",
    "\n",
    "for l in layers:\n",
    "    span_list_layer = test_evaluator.get_span_list(repo, columns = 'annotators', item = 'layer', value = l)\n",
    "    score = test_evaluator.get_score_spanlist(span_list_layer, 'f1_heuristic')\n",
    "    print('layer: ', l, ', score: ', score)\n",
    "    "
   ]
  },
  {
   "cell_type": "code",
   "execution_count": null,
   "metadata": {},
   "outputs": [],
   "source": [
    "all_tags = "
   ]
  }
 ],
 "metadata": {
  "interpreter": {
   "hash": "f1357e5d6940800ae93a3fd23162ea93a77a6c89f02c68504dcfa719d1ffeee2"
  },
  "kernelspec": {
   "display_name": "Python [conda env:miniconda3-nlp_spark]",
   "language": "python",
   "name": "conda-env-miniconda3-nlp_spark-py"
  },
  "language_info": {
   "codemirror_mode": {
    "name": "ipython",
    "version": 3
   },
   "file_extension": ".py",
   "mimetype": "text/x-python",
   "name": "python",
   "nbconvert_exporter": "python",
   "pygments_lexer": "ipython3",
   "version": "3.7.10"
  }
 },
 "nbformat": 4,
 "nbformat_minor": 4
}
