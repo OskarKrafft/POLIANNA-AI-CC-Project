{
 "cells": [
  {
   "cell_type": "markdown",
   "metadata": {},
   "source": [
    "# Notebook to calculate Inter Annotator Agreement"
   ]
  },
  {
   "cell_type": "markdown",
   "metadata": {},
   "source": [
    "### Import the libraries"
   ]
  },
  {
   "cell_type": "code",
   "execution_count": 1,
   "metadata": {},
   "outputs": [],
   "source": [
    "import sys\n",
    "import pandas as pd\n",
    "import collections \n",
    "import os\n",
    "import numpy as np\n",
    "from itertools import chain\n",
    "from itertools import combinations\n",
    "sys.path.insert(0, '..')\n",
    "from src.experiment_utils.helper_classes import token, span, repository\n",
    "from src.d02_corpus_statistics.corpus import Corpus\n",
    "from src.d03_inter_annotator_agreement.inter_annotator_agremment import Inter_Annotator_Agreement, _get_score_article\n",
    "from definitions import df_annotation_marker\n",
    "from src.d03_inter_annotator_agreement.inter_annotator_agremment import row_to_span_list, keep_valid_anotations\n",
    "from src.d03_inter_annotator_agreement.scoring_functions import create_scoring_matrix\n",
    "\n",
    "\n",
    "from definitions import ROOT_DIR\n"
   ]
  },
  {
   "cell_type": "markdown",
   "metadata": {},
   "source": [
    "## Small Tutorial"
   ]
  },
  {
   "cell_type": "markdown",
   "metadata": {},
   "source": [
    "Load the dataframe stat_df"
   ]
  },
  {
   "cell_type": "code",
   "execution_count": 3,
   "metadata": {},
   "outputs": [
    {
     "data": {
      "text/html": [
       "<div>\n",
       "<style scoped>\n",
       "    .dataframe tbody tr th:only-of-type {\n",
       "        vertical-align: middle;\n",
       "    }\n",
       "\n",
       "    .dataframe tbody tr th {\n",
       "        vertical-align: top;\n",
       "    }\n",
       "\n",
       "    .dataframe thead th {\n",
       "        text-align: right;\n",
       "    }\n",
       "</style>\n",
       "<table border=\"1\" class=\"dataframe\">\n",
       "  <thead>\n",
       "    <tr style=\"text-align: right;\">\n",
       "      <th></th>\n",
       "      <th>Policy</th>\n",
       "      <th>Text</th>\n",
       "      <th>Tokens</th>\n",
       "      <th>Article_State</th>\n",
       "      <th>Finished_Annotators</th>\n",
       "      <th>Curation</th>\n",
       "      <th>Alisha</th>\n",
       "      <th>Fride</th>\n",
       "      <th>Onerva</th>\n",
       "      <th>Fabian</th>\n",
       "      <th>Lynn</th>\n",
       "      <th>Sebastian</th>\n",
       "      <th>Joel</th>\n",
       "    </tr>\n",
       "  </thead>\n",
       "  <tbody>\n",
       "    <tr>\n",
       "      <th>EU_32018R1999_Title_0_Chapter_7_Section_3_Article_43</th>\n",
       "      <td></td>\n",
       "      <td>article 43\\r\\nexercise of the delegation\\r\\n1....</td>\n",
       "      <td>[start:0 stop:7 text:article tag_count:0, star...</td>\n",
       "      <td>CURATION_FINISHED</td>\n",
       "      <td>[Alisha, Fride]</td>\n",
       "      <td>[span id:CUR0 annotator:Curation layer:Instrum...</td>\n",
       "      <td>[span id:A1 annotator:Alisha layer:Instrumentt...</td>\n",
       "      <td>[span id:B1 annotator:Fride layer:Policydesign...</td>\n",
       "      <td></td>\n",
       "      <td></td>\n",
       "      <td></td>\n",
       "      <td></td>\n",
       "      <td></td>\n",
       "    </tr>\n",
       "    <tr>\n",
       "      <th>EU_32019R0631_Title_0_Chapter_0_Section_0_Article_12</th>\n",
       "      <td></td>\n",
       "      <td>article 12\\r\\nreal-world co2 emissions and fue...</td>\n",
       "      <td>[start:0 stop:7 text:article tag_count:0, star...</td>\n",
       "      <td>CURATION_FINISHED</td>\n",
       "      <td>[Onerva, Fabian]</td>\n",
       "      <td>[span id:CUR36 annotator:Curation layer:Instru...</td>\n",
       "      <td></td>\n",
       "      <td></td>\n",
       "      <td>[span id:C1 annotator:Onerva layer:Instrumentt...</td>\n",
       "      <td>[span id:D1 annotator:Fabian layer:Policydesig...</td>\n",
       "      <td></td>\n",
       "      <td></td>\n",
       "      <td></td>\n",
       "    </tr>\n",
       "    <tr>\n",
       "      <th>EU_32018L2001_Title_0_Chapter_0_Section_0_Article_11</th>\n",
       "      <td></td>\n",
       "      <td>article 11\\r\\njoint projects between member st...</td>\n",
       "      <td>[start:0 stop:7 text:article tag_count:0, star...</td>\n",
       "      <td>CURATION_FINISHED</td>\n",
       "      <td>[Fride, Onerva]</td>\n",
       "      <td>[span id:CUR116 annotator:Curation layer:Instr...</td>\n",
       "      <td></td>\n",
       "      <td>[span id:B28 annotator:Fride layer:Instrumentt...</td>\n",
       "      <td>[span id:C58 annotator:Onerva layer:Instrument...</td>\n",
       "      <td></td>\n",
       "      <td></td>\n",
       "      <td></td>\n",
       "      <td></td>\n",
       "    </tr>\n",
       "    <tr>\n",
       "      <th>EU_32018R1999_Title_0_Chapter_7_Section_3_Article_56</th>\n",
       "      <td></td>\n",
       "      <td>article 56\\r\\namendments to directive (eu) 201...</td>\n",
       "      <td>[start:0 stop:7 text:article tag_count:0, star...</td>\n",
       "      <td>CURATION_FINISHED</td>\n",
       "      <td>[Alisha, Fride]</td>\n",
       "      <td>[span id:CUR202 annotator:Curation layer:Polic...</td>\n",
       "      <td>[span id:A38 annotator:Alisha layer:Policydesi...</td>\n",
       "      <td>[span id:B129 annotator:Fride layer:Policydesi...</td>\n",
       "      <td></td>\n",
       "      <td></td>\n",
       "      <td></td>\n",
       "      <td></td>\n",
       "      <td></td>\n",
       "    </tr>\n",
       "    <tr>\n",
       "      <th>EU_32018L2001_Title_0_Chapter_0_Section_0_Article_03</th>\n",
       "      <td></td>\n",
       "      <td>article 3\\r\\nbinding overall union target for ...</td>\n",
       "      <td>[start:0 stop:7 text:article tag_count:0, star...</td>\n",
       "      <td>CURATION_FINISHED</td>\n",
       "      <td>[Fride, Onerva, Fabian]</td>\n",
       "      <td>[span id:CUR211 annotator:Curation layer:Instr...</td>\n",
       "      <td></td>\n",
       "      <td>[span id:B138 annotator:Fride layer:Instrument...</td>\n",
       "      <td>[span id:C165 annotator:Onerva layer:Instrumen...</td>\n",
       "      <td>[span id:D27 annotator:Fabian layer:Instrument...</td>\n",
       "      <td></td>\n",
       "      <td></td>\n",
       "      <td></td>\n",
       "    </tr>\n",
       "  </tbody>\n",
       "</table>\n",
       "</div>"
      ],
      "text/plain": [
       "                                                   Policy  \\\n",
       "EU_32018R1999_Title_0_Chapter_7_Section_3_Artic...          \n",
       "EU_32019R0631_Title_0_Chapter_0_Section_0_Artic...          \n",
       "EU_32018L2001_Title_0_Chapter_0_Section_0_Artic...          \n",
       "EU_32018R1999_Title_0_Chapter_7_Section_3_Artic...          \n",
       "EU_32018L2001_Title_0_Chapter_0_Section_0_Artic...          \n",
       "\n",
       "                                                                                                 Text  \\\n",
       "EU_32018R1999_Title_0_Chapter_7_Section_3_Artic...  article 43\\r\\nexercise of the delegation\\r\\n1....   \n",
       "EU_32019R0631_Title_0_Chapter_0_Section_0_Artic...  article 12\\r\\nreal-world co2 emissions and fue...   \n",
       "EU_32018L2001_Title_0_Chapter_0_Section_0_Artic...  article 11\\r\\njoint projects between member st...   \n",
       "EU_32018R1999_Title_0_Chapter_7_Section_3_Artic...  article 56\\r\\namendments to directive (eu) 201...   \n",
       "EU_32018L2001_Title_0_Chapter_0_Section_0_Artic...  article 3\\r\\nbinding overall union target for ...   \n",
       "\n",
       "                                                                                               Tokens  \\\n",
       "EU_32018R1999_Title_0_Chapter_7_Section_3_Artic...  [start:0 stop:7 text:article tag_count:0, star...   \n",
       "EU_32019R0631_Title_0_Chapter_0_Section_0_Artic...  [start:0 stop:7 text:article tag_count:0, star...   \n",
       "EU_32018L2001_Title_0_Chapter_0_Section_0_Artic...  [start:0 stop:7 text:article tag_count:0, star...   \n",
       "EU_32018R1999_Title_0_Chapter_7_Section_3_Artic...  [start:0 stop:7 text:article tag_count:0, star...   \n",
       "EU_32018L2001_Title_0_Chapter_0_Section_0_Artic...  [start:0 stop:7 text:article tag_count:0, star...   \n",
       "\n",
       "                                                        Article_State  \\\n",
       "EU_32018R1999_Title_0_Chapter_7_Section_3_Artic...  CURATION_FINISHED   \n",
       "EU_32019R0631_Title_0_Chapter_0_Section_0_Artic...  CURATION_FINISHED   \n",
       "EU_32018L2001_Title_0_Chapter_0_Section_0_Artic...  CURATION_FINISHED   \n",
       "EU_32018R1999_Title_0_Chapter_7_Section_3_Artic...  CURATION_FINISHED   \n",
       "EU_32018L2001_Title_0_Chapter_0_Section_0_Artic...  CURATION_FINISHED   \n",
       "\n",
       "                                                        Finished_Annotators  \\\n",
       "EU_32018R1999_Title_0_Chapter_7_Section_3_Artic...          [Alisha, Fride]   \n",
       "EU_32019R0631_Title_0_Chapter_0_Section_0_Artic...         [Onerva, Fabian]   \n",
       "EU_32018L2001_Title_0_Chapter_0_Section_0_Artic...          [Fride, Onerva]   \n",
       "EU_32018R1999_Title_0_Chapter_7_Section_3_Artic...          [Alisha, Fride]   \n",
       "EU_32018L2001_Title_0_Chapter_0_Section_0_Artic...  [Fride, Onerva, Fabian]   \n",
       "\n",
       "                                                                                             Curation  \\\n",
       "EU_32018R1999_Title_0_Chapter_7_Section_3_Artic...  [span id:CUR0 annotator:Curation layer:Instrum...   \n",
       "EU_32019R0631_Title_0_Chapter_0_Section_0_Artic...  [span id:CUR36 annotator:Curation layer:Instru...   \n",
       "EU_32018L2001_Title_0_Chapter_0_Section_0_Artic...  [span id:CUR116 annotator:Curation layer:Instr...   \n",
       "EU_32018R1999_Title_0_Chapter_7_Section_3_Artic...  [span id:CUR202 annotator:Curation layer:Polic...   \n",
       "EU_32018L2001_Title_0_Chapter_0_Section_0_Artic...  [span id:CUR211 annotator:Curation layer:Instr...   \n",
       "\n",
       "                                                                                               Alisha  \\\n",
       "EU_32018R1999_Title_0_Chapter_7_Section_3_Artic...  [span id:A1 annotator:Alisha layer:Instrumentt...   \n",
       "EU_32019R0631_Title_0_Chapter_0_Section_0_Artic...                                                      \n",
       "EU_32018L2001_Title_0_Chapter_0_Section_0_Artic...                                                      \n",
       "EU_32018R1999_Title_0_Chapter_7_Section_3_Artic...  [span id:A38 annotator:Alisha layer:Policydesi...   \n",
       "EU_32018L2001_Title_0_Chapter_0_Section_0_Artic...                                                      \n",
       "\n",
       "                                                                                                Fride  \\\n",
       "EU_32018R1999_Title_0_Chapter_7_Section_3_Artic...  [span id:B1 annotator:Fride layer:Policydesign...   \n",
       "EU_32019R0631_Title_0_Chapter_0_Section_0_Artic...                                                      \n",
       "EU_32018L2001_Title_0_Chapter_0_Section_0_Artic...  [span id:B28 annotator:Fride layer:Instrumentt...   \n",
       "EU_32018R1999_Title_0_Chapter_7_Section_3_Artic...  [span id:B129 annotator:Fride layer:Policydesi...   \n",
       "EU_32018L2001_Title_0_Chapter_0_Section_0_Artic...  [span id:B138 annotator:Fride layer:Instrument...   \n",
       "\n",
       "                                                                                               Onerva  \\\n",
       "EU_32018R1999_Title_0_Chapter_7_Section_3_Artic...                                                      \n",
       "EU_32019R0631_Title_0_Chapter_0_Section_0_Artic...  [span id:C1 annotator:Onerva layer:Instrumentt...   \n",
       "EU_32018L2001_Title_0_Chapter_0_Section_0_Artic...  [span id:C58 annotator:Onerva layer:Instrument...   \n",
       "EU_32018R1999_Title_0_Chapter_7_Section_3_Artic...                                                      \n",
       "EU_32018L2001_Title_0_Chapter_0_Section_0_Artic...  [span id:C165 annotator:Onerva layer:Instrumen...   \n",
       "\n",
       "                                                                                               Fabian  \\\n",
       "EU_32018R1999_Title_0_Chapter_7_Section_3_Artic...                                                      \n",
       "EU_32019R0631_Title_0_Chapter_0_Section_0_Artic...  [span id:D1 annotator:Fabian layer:Policydesig...   \n",
       "EU_32018L2001_Title_0_Chapter_0_Section_0_Artic...                                                      \n",
       "EU_32018R1999_Title_0_Chapter_7_Section_3_Artic...                                                      \n",
       "EU_32018L2001_Title_0_Chapter_0_Section_0_Artic...  [span id:D27 annotator:Fabian layer:Instrument...   \n",
       "\n",
       "                                                   Lynn Sebastian Joel  \n",
       "EU_32018R1999_Title_0_Chapter_7_Section_3_Artic...                      \n",
       "EU_32019R0631_Title_0_Chapter_0_Section_0_Artic...                      \n",
       "EU_32018L2001_Title_0_Chapter_0_Section_0_Artic...                      \n",
       "EU_32018R1999_Title_0_Chapter_7_Section_3_Artic...                      \n",
       "EU_32018L2001_Title_0_Chapter_0_Section_0_Artic...                      "
      ]
     },
     "execution_count": 3,
     "metadata": {},
     "output_type": "execute_result"
    }
   ],
   "source": [
    "    \n",
    "dataframe_dir = os.path.join(ROOT_DIR,'data/02_processed_to_dataframe', 'preprocessed_dataframe.pkl')\n",
    "stat_df = pd.read_pickle(dataframe_dir)\n",
    "stat_df.head()"
   ]
  },
  {
   "cell_type": "markdown",
   "metadata": {},
   "source": [
    "First create a object of class Inter annotator agreement. The constructor takes a stat_df as input, has a optional argument DEBUG where only the first 10 articles are taken to test different functions"
   ]
  },
  {
   "cell_type": "code",
   "execution_count": 12,
   "metadata": {},
   "outputs": [],
   "source": [
    "test_evaluator = Inter_Annotator_Agreement(stat_df, front_and_whereas = False)\n",
    "test_evaluator_debug = Inter_Annotator_Agreement(stat_df, DEBUG = True)\n"
   ]
  },
  {
   "cell_type": "code",
   "execution_count": 13,
   "metadata": {},
   "outputs": [
    {
     "data": {
      "text/plain": [
       "(412, 13)"
      ]
     },
     "execution_count": 13,
     "metadata": {},
     "output_type": "execute_result"
    }
   ],
   "source": [
    "test_evaluator.df.shape"
   ]
  },
  {
   "cell_type": "code",
   "execution_count": 14,
   "metadata": {},
   "outputs": [
    {
     "data": {
      "text/plain": [
       "(10, 13)"
      ]
     },
     "execution_count": 14,
     "metadata": {},
     "output_type": "execute_result"
    }
   ],
   "source": [
    "test_evaluator_debug.df.shape"
   ]
  },
  {
   "cell_type": "markdown",
   "metadata": {},
   "source": [
    "Inter_Annotator_Agreement is a child class of the Corpus class, so all methods of the Corpus class are available"
   ]
  },
  {
   "cell_type": "code",
   "execution_count": 15,
   "metadata": {},
   "outputs": [
    {
     "data": {
      "text/plain": [
       "[span id:C3882 annotator:Onerva layer:Technologyandapplicationspecificity type:TechnologySpecificity tag:Tech_LowCarbon start:18 stop:25 text:nuclear,\n",
       " span id:C3883 annotator:Onerva layer:Technologyandapplicationspecificity type:TechnologySpecificity tag:Tech_LowCarbon start:95 stop:109 text:nuclear energy,\n",
       " span id:C3884 annotator:Onerva layer:Technologyandapplicationspecificity type:TechnologySpecificity tag:Tech_LowCarbon start:151 stop:158 text:nuclear,\n",
       " span id:C5161 annotator:Onerva layer:Technologyandapplicationspecificity type:TechnologySpecificity tag:Tech_LowCarbon start:125 stop:141 text:renewable energy,\n",
       " span id:C5162 annotator:Onerva layer:Technologyandapplicationspecificity type:TechnologySpecificity tag:Tech_LowCarbon start:393 stop:409 text:renewable energy,\n",
       " span id:C5163 annotator:Onerva layer:Technologyandapplicationspecificity type:TechnologySpecificity tag:Tech_LowCarbon start:499 stop:515 text:renewable energy,\n",
       " span id:C5164 annotator:Onerva layer:Technologyandapplicationspecificity type:TechnologySpecificity tag:Tech_LowCarbon start:1276 stop:1292 text:renewable energy,\n",
       " span id:C6626 annotator:Onerva layer:Technologyandapplicationspecificity type:TechnologySpecificity tag:Tech_LowCarbon start:614 stop:621 text:nuclear,\n",
       " span id:C7842 annotator:Onerva layer:Technologyandapplicationspecificity type:TechnologySpecificity tag:Tech_LowCarbon start:189 stop:225 text:energy products and their aggregates,\n",
       " span id:B11292 annotator:Fride layer:Technologyandapplicationspecificity type:TechnologySpecificity tag:Tech_LowCarbon start:866 stop:888 text:electricity generation,\n",
       " span id:C9626 annotator:Onerva layer:Technologyandapplicationspecificity type:TechnologySpecificity tag:Tech_LowCarbon start:701 stop:716 text:energy products]"
      ]
     },
     "execution_count": 15,
     "metadata": {},
     "output_type": "execute_result"
    }
   ],
   "source": [
    "test_dir = repository(policy = 'EU_32008R1099')\n",
    "test_evaluator.get_span_list(conditional_rep = test_dir, annotators = 'annotators', item = 'tag', value =  'Tech_LowCarbon')"
   ]
  },
  {
   "cell_type": "markdown",
   "metadata": {},
   "source": [
    "To calculate the inter annonator agreement, there are two options\n"
   ]
  },
  {
   "cell_type": "markdown",
   "metadata": {},
   "source": [
    "## Append the score to dataframe"
   ]
  },
  {
   "cell_type": "markdown",
   "metadata": {},
   "source": [
    "This method appends the inter-annotator agreement for each article based on a set of inter-annotator agreement measures. The scores can calculated in parallel, this is the recommended method for computationally intensive scores.\n",
    "\n",
    "First, we only consider the articles where the curation is finished and at least two annotators are present:"
   ]
  },
  {
   "cell_type": "code",
   "execution_count": 16,
   "metadata": {},
   "outputs": [],
   "source": [
    "test_evaluator.keep_only_finished_articles()"
   ]
  },
  {
   "cell_type": "code",
   "execution_count": 17,
   "metadata": {},
   "outputs": [],
   "source": [
    "scoring_metrics = ['f1_exact', 'f1_tokenwise', 'f1_partial', 'f1_heuristic']"
   ]
  },
  {
   "cell_type": "markdown",
   "metadata": {},
   "source": [
    "**append_total_score_per_article(scoring_metrics, parallel = False, ** optional_tuple_properties)**\n",
    "\n",
    "This function calculates the individual score for each article and for each metric defined in scoring_metrics (Can be a list of metrics or a single metric). For each metric, a new column is appended to the dataframe, therefore the scores can be stored and don't have to be recalculated. To speed up the computation, the scores can be calculated in parallel using the pandarell library. The kwargs \"optional_tuple_properties\" are reserved for pygamma properties such as a dissimilarity matrix. \n",
    "\n"
   ]
  },
  {
   "cell_type": "code",
   "execution_count": 18,
   "metadata": {},
   "outputs": [
    {
     "name": "stderr",
     "output_type": "stream",
     "text": [
      "100%|██████████| 412/412 [00:03<00:00, 103.50it/s]\n",
      "100%|██████████| 412/412 [00:04<00:00, 101.05it/s]\n",
      "100%|██████████| 412/412 [00:03<00:00, 103.81it/s]\n",
      "100%|██████████| 412/412 [00:00<00:00, 1065.00it/s]\n"
     ]
    }
   ],
   "source": [
    "test_evaluator.append_total_score_per_article(scoring_metrics)"
   ]
  },
  {
   "cell_type": "markdown",
   "metadata": {},
   "source": [
    "There is also a normal implementation which uses parallel"
   ]
  },
  {
   "cell_type": "code",
   "execution_count": 19,
   "metadata": {},
   "outputs": [
    {
     "name": "stdout",
     "output_type": "stream",
     "text": [
      "INFO: Pandarallel will run on 64 workers.\n",
      "INFO: Pandarallel will use Memory file system to transfer data between the main process and workers.\n"
     ]
    }
   ],
   "source": [
    "test_evaluator.append_total_score_per_article(scoring_metrics, parallel = True)"
   ]
  },
  {
   "cell_type": "markdown",
   "metadata": {},
   "source": [
    "### Appending Pygamma"
   ]
  },
  {
   "cell_type": "markdown",
   "metadata": {},
   "source": [
    "Pygamma is a special case. To calculate the  Pygamma-IAA score, we have the option to feed in a dissimilarity matrix and a list of all the possible tags. The dissimilarity matrix can be calculated via the create_scoring_matrix function. Each missmatch between tags of the same tagset or layer are penalized less. For more details, check the explanation in the source code. This matrix can be fed into the function as kwargs. When specyfing no dissimilarity matrix, all the missmatches are penalized equaly"
   ]
  },
  {
   "cell_type": "code",
   "execution_count": 20,
   "metadata": {},
   "outputs": [],
   "source": [
    "# create custom scoring matrix\n",
    "#by setting soft tagset dissimilarity equal true, missmatches in the same tagset are penalized less\n",
    "# if soft layer dissimilarity would be set true, missmatches in the same layer woudl be penalized less\n",
    "category_list, cat_dissimilarity_matrix = create_scoring_matrix(os.path.join(ROOT_DIR,'src/experiment_utils/tag_set.json'),  soft_tagset_dissimilarity = True, soft_layer_dissimilarity = False)"
   ]
  },
  {
   "cell_type": "code",
   "execution_count": 21,
   "metadata": {},
   "outputs": [
    {
     "name": "stderr",
     "output_type": "stream",
     "text": [
      "100%|██████████| 412/412 [05:30<00:00,  1.25it/s]  \n"
     ]
    }
   ],
   "source": [
    "test_evaluator.append_total_score_per_article(scoring_metrics = 'pygamma', category_list = category_list, cat_dissimilarity_matrix = cat_dissimilarity_matrix)"
   ]
  },
  {
   "cell_type": "markdown",
   "metadata": {},
   "source": [
    "Checking out the dataframe now:"
   ]
  },
  {
   "cell_type": "code",
   "execution_count": 11,
   "metadata": {},
   "outputs": [
    {
     "data": {
      "text/html": [
       "<div>\n",
       "<style scoped>\n",
       "    .dataframe tbody tr th:only-of-type {\n",
       "        vertical-align: middle;\n",
       "    }\n",
       "\n",
       "    .dataframe tbody tr th {\n",
       "        vertical-align: top;\n",
       "    }\n",
       "\n",
       "    .dataframe thead th {\n",
       "        text-align: right;\n",
       "    }\n",
       "</style>\n",
       "<table border=\"1\" class=\"dataframe\">\n",
       "  <thead>\n",
       "    <tr style=\"text-align: right;\">\n",
       "      <th></th>\n",
       "      <th>Policy</th>\n",
       "      <th>Text</th>\n",
       "      <th>Tokens</th>\n",
       "      <th>Article_State</th>\n",
       "      <th>Finished_Annotators</th>\n",
       "      <th>Curation</th>\n",
       "      <th>Alisha</th>\n",
       "      <th>Fride</th>\n",
       "      <th>Onerva</th>\n",
       "      <th>Fabian</th>\n",
       "      <th>Lynn</th>\n",
       "      <th>Sebastian</th>\n",
       "      <th>Joel</th>\n",
       "      <th>f1_exact_score</th>\n",
       "      <th>f1_tokenwise_score</th>\n",
       "      <th>f1_partial_score</th>\n",
       "      <th>f1_heuristic_score</th>\n",
       "      <th>pygamma_score</th>\n",
       "    </tr>\n",
       "  </thead>\n",
       "  <tbody>\n",
       "    <tr>\n",
       "      <th>EU_32018R1999_Title_0_Chapter_7_Section_3_Article_43</th>\n",
       "      <td></td>\n",
       "      <td>article 43\\r\\nexercise of the delegation\\r\\n1....</td>\n",
       "      <td>[start:0 stop:7 text:article tag_count:0, star...</td>\n",
       "      <td>CURATION_FINISHED</td>\n",
       "      <td>[Alisha, Fride]</td>\n",
       "      <td>[span id:CUR0 annotator:Curation layer:Instrum...</td>\n",
       "      <td>[span id:A1 annotator:Alisha layer:Instrumentt...</td>\n",
       "      <td>[span id:B1 annotator:Fride layer:Policydesign...</td>\n",
       "      <td></td>\n",
       "      <td></td>\n",
       "      <td></td>\n",
       "      <td></td>\n",
       "      <td></td>\n",
       "      <td>0.218750</td>\n",
       "      <td>0.226574</td>\n",
       "      <td>0.281250</td>\n",
       "      <td>0.281250</td>\n",
       "      <td>0.451832</td>\n",
       "    </tr>\n",
       "    <tr>\n",
       "      <th>EU_32019R0631_Title_0_Chapter_0_Section_0_Article_12</th>\n",
       "      <td></td>\n",
       "      <td>article 12\\r\\nreal-world co2 emissions and fue...</td>\n",
       "      <td>[start:0 stop:7 text:article tag_count:0, star...</td>\n",
       "      <td>CURATION_FINISHED</td>\n",
       "      <td>[Onerva, Fabian]</td>\n",
       "      <td>[span id:CUR36 annotator:Curation layer:Instru...</td>\n",
       "      <td></td>\n",
       "      <td></td>\n",
       "      <td>[span id:C1 annotator:Onerva layer:Instrumentt...</td>\n",
       "      <td>[span id:D1 annotator:Fabian layer:Policydesig...</td>\n",
       "      <td></td>\n",
       "      <td></td>\n",
       "      <td></td>\n",
       "      <td>0.289157</td>\n",
       "      <td>0.263793</td>\n",
       "      <td>0.409639</td>\n",
       "      <td>0.421603</td>\n",
       "      <td>0.357654</td>\n",
       "    </tr>\n",
       "    <tr>\n",
       "      <th>EU_32018L2001_Title_0_Chapter_0_Section_0_Article_11</th>\n",
       "      <td></td>\n",
       "      <td>article 11\\r\\njoint projects between member st...</td>\n",
       "      <td>[start:0 stop:7 text:article tag_count:0, star...</td>\n",
       "      <td>CURATION_FINISHED</td>\n",
       "      <td>[Fride, Onerva]</td>\n",
       "      <td>[span id:CUR116 annotator:Curation layer:Instr...</td>\n",
       "      <td></td>\n",
       "      <td>[span id:B28 annotator:Fride layer:Instrumentt...</td>\n",
       "      <td>[span id:C58 annotator:Onerva layer:Instrument...</td>\n",
       "      <td></td>\n",
       "      <td></td>\n",
       "      <td></td>\n",
       "      <td></td>\n",
       "      <td>0.567308</td>\n",
       "      <td>0.512946</td>\n",
       "      <td>0.653846</td>\n",
       "      <td>0.653846</td>\n",
       "      <td>0.584463</td>\n",
       "    </tr>\n",
       "    <tr>\n",
       "      <th>EU_32018R1999_Title_0_Chapter_7_Section_3_Article_56</th>\n",
       "      <td></td>\n",
       "      <td>article 56\\r\\namendments to directive (eu) 201...</td>\n",
       "      <td>[start:0 stop:7 text:article tag_count:0, star...</td>\n",
       "      <td>CURATION_FINISHED</td>\n",
       "      <td>[Alisha, Fride]</td>\n",
       "      <td>[span id:CUR202 annotator:Curation layer:Polic...</td>\n",
       "      <td>[span id:A38 annotator:Alisha layer:Policydesi...</td>\n",
       "      <td>[span id:B129 annotator:Fride layer:Policydesi...</td>\n",
       "      <td></td>\n",
       "      <td></td>\n",
       "      <td></td>\n",
       "      <td></td>\n",
       "      <td></td>\n",
       "      <td>0.736842</td>\n",
       "      <td>0.583333</td>\n",
       "      <td>0.736842</td>\n",
       "      <td>0.736842</td>\n",
       "      <td>0.573874</td>\n",
       "    </tr>\n",
       "    <tr>\n",
       "      <th>EU_32018L2001_Title_0_Chapter_0_Section_0_Article_03</th>\n",
       "      <td></td>\n",
       "      <td>article 3\\r\\nbinding overall union target for ...</td>\n",
       "      <td>[start:0 stop:7 text:article tag_count:0, star...</td>\n",
       "      <td>CURATION_FINISHED</td>\n",
       "      <td>[Fride, Onerva, Fabian]</td>\n",
       "      <td>[span id:CUR211 annotator:Curation layer:Instr...</td>\n",
       "      <td></td>\n",
       "      <td>[span id:B138 annotator:Fride layer:Instrument...</td>\n",
       "      <td>[span id:C165 annotator:Onerva layer:Instrumen...</td>\n",
       "      <td>[span id:D27 annotator:Fabian layer:Instrument...</td>\n",
       "      <td></td>\n",
       "      <td></td>\n",
       "      <td></td>\n",
       "      <td>0.420198</td>\n",
       "      <td>0.410204</td>\n",
       "      <td>0.532749</td>\n",
       "      <td>0.544437</td>\n",
       "      <td>0.463723</td>\n",
       "    </tr>\n",
       "  </tbody>\n",
       "</table>\n",
       "</div>"
      ],
      "text/plain": [
       "                                                   Policy  \\\n",
       "EU_32018R1999_Title_0_Chapter_7_Section_3_Artic...          \n",
       "EU_32019R0631_Title_0_Chapter_0_Section_0_Artic...          \n",
       "EU_32018L2001_Title_0_Chapter_0_Section_0_Artic...          \n",
       "EU_32018R1999_Title_0_Chapter_7_Section_3_Artic...          \n",
       "EU_32018L2001_Title_0_Chapter_0_Section_0_Artic...          \n",
       "\n",
       "                                                                                                 Text  \\\n",
       "EU_32018R1999_Title_0_Chapter_7_Section_3_Artic...  article 43\\r\\nexercise of the delegation\\r\\n1....   \n",
       "EU_32019R0631_Title_0_Chapter_0_Section_0_Artic...  article 12\\r\\nreal-world co2 emissions and fue...   \n",
       "EU_32018L2001_Title_0_Chapter_0_Section_0_Artic...  article 11\\r\\njoint projects between member st...   \n",
       "EU_32018R1999_Title_0_Chapter_7_Section_3_Artic...  article 56\\r\\namendments to directive (eu) 201...   \n",
       "EU_32018L2001_Title_0_Chapter_0_Section_0_Artic...  article 3\\r\\nbinding overall union target for ...   \n",
       "\n",
       "                                                                                               Tokens  \\\n",
       "EU_32018R1999_Title_0_Chapter_7_Section_3_Artic...  [start:0 stop:7 text:article tag_count:0, star...   \n",
       "EU_32019R0631_Title_0_Chapter_0_Section_0_Artic...  [start:0 stop:7 text:article tag_count:0, star...   \n",
       "EU_32018L2001_Title_0_Chapter_0_Section_0_Artic...  [start:0 stop:7 text:article tag_count:0, star...   \n",
       "EU_32018R1999_Title_0_Chapter_7_Section_3_Artic...  [start:0 stop:7 text:article tag_count:0, star...   \n",
       "EU_32018L2001_Title_0_Chapter_0_Section_0_Artic...  [start:0 stop:7 text:article tag_count:0, star...   \n",
       "\n",
       "                                                        Article_State  \\\n",
       "EU_32018R1999_Title_0_Chapter_7_Section_3_Artic...  CURATION_FINISHED   \n",
       "EU_32019R0631_Title_0_Chapter_0_Section_0_Artic...  CURATION_FINISHED   \n",
       "EU_32018L2001_Title_0_Chapter_0_Section_0_Artic...  CURATION_FINISHED   \n",
       "EU_32018R1999_Title_0_Chapter_7_Section_3_Artic...  CURATION_FINISHED   \n",
       "EU_32018L2001_Title_0_Chapter_0_Section_0_Artic...  CURATION_FINISHED   \n",
       "\n",
       "                                                        Finished_Annotators  \\\n",
       "EU_32018R1999_Title_0_Chapter_7_Section_3_Artic...          [Alisha, Fride]   \n",
       "EU_32019R0631_Title_0_Chapter_0_Section_0_Artic...         [Onerva, Fabian]   \n",
       "EU_32018L2001_Title_0_Chapter_0_Section_0_Artic...          [Fride, Onerva]   \n",
       "EU_32018R1999_Title_0_Chapter_7_Section_3_Artic...          [Alisha, Fride]   \n",
       "EU_32018L2001_Title_0_Chapter_0_Section_0_Artic...  [Fride, Onerva, Fabian]   \n",
       "\n",
       "                                                                                             Curation  \\\n",
       "EU_32018R1999_Title_0_Chapter_7_Section_3_Artic...  [span id:CUR0 annotator:Curation layer:Instrum...   \n",
       "EU_32019R0631_Title_0_Chapter_0_Section_0_Artic...  [span id:CUR36 annotator:Curation layer:Instru...   \n",
       "EU_32018L2001_Title_0_Chapter_0_Section_0_Artic...  [span id:CUR116 annotator:Curation layer:Instr...   \n",
       "EU_32018R1999_Title_0_Chapter_7_Section_3_Artic...  [span id:CUR202 annotator:Curation layer:Polic...   \n",
       "EU_32018L2001_Title_0_Chapter_0_Section_0_Artic...  [span id:CUR211 annotator:Curation layer:Instr...   \n",
       "\n",
       "                                                                                               Alisha  \\\n",
       "EU_32018R1999_Title_0_Chapter_7_Section_3_Artic...  [span id:A1 annotator:Alisha layer:Instrumentt...   \n",
       "EU_32019R0631_Title_0_Chapter_0_Section_0_Artic...                                                      \n",
       "EU_32018L2001_Title_0_Chapter_0_Section_0_Artic...                                                      \n",
       "EU_32018R1999_Title_0_Chapter_7_Section_3_Artic...  [span id:A38 annotator:Alisha layer:Policydesi...   \n",
       "EU_32018L2001_Title_0_Chapter_0_Section_0_Artic...                                                      \n",
       "\n",
       "                                                                                                Fride  \\\n",
       "EU_32018R1999_Title_0_Chapter_7_Section_3_Artic...  [span id:B1 annotator:Fride layer:Policydesign...   \n",
       "EU_32019R0631_Title_0_Chapter_0_Section_0_Artic...                                                      \n",
       "EU_32018L2001_Title_0_Chapter_0_Section_0_Artic...  [span id:B28 annotator:Fride layer:Instrumentt...   \n",
       "EU_32018R1999_Title_0_Chapter_7_Section_3_Artic...  [span id:B129 annotator:Fride layer:Policydesi...   \n",
       "EU_32018L2001_Title_0_Chapter_0_Section_0_Artic...  [span id:B138 annotator:Fride layer:Instrument...   \n",
       "\n",
       "                                                                                               Onerva  \\\n",
       "EU_32018R1999_Title_0_Chapter_7_Section_3_Artic...                                                      \n",
       "EU_32019R0631_Title_0_Chapter_0_Section_0_Artic...  [span id:C1 annotator:Onerva layer:Instrumentt...   \n",
       "EU_32018L2001_Title_0_Chapter_0_Section_0_Artic...  [span id:C58 annotator:Onerva layer:Instrument...   \n",
       "EU_32018R1999_Title_0_Chapter_7_Section_3_Artic...                                                      \n",
       "EU_32018L2001_Title_0_Chapter_0_Section_0_Artic...  [span id:C165 annotator:Onerva layer:Instrumen...   \n",
       "\n",
       "                                                                                               Fabian  \\\n",
       "EU_32018R1999_Title_0_Chapter_7_Section_3_Artic...                                                      \n",
       "EU_32019R0631_Title_0_Chapter_0_Section_0_Artic...  [span id:D1 annotator:Fabian layer:Policydesig...   \n",
       "EU_32018L2001_Title_0_Chapter_0_Section_0_Artic...                                                      \n",
       "EU_32018R1999_Title_0_Chapter_7_Section_3_Artic...                                                      \n",
       "EU_32018L2001_Title_0_Chapter_0_Section_0_Artic...  [span id:D27 annotator:Fabian layer:Instrument...   \n",
       "\n",
       "                                                   Lynn Sebastian Joel  \\\n",
       "EU_32018R1999_Title_0_Chapter_7_Section_3_Artic...                       \n",
       "EU_32019R0631_Title_0_Chapter_0_Section_0_Artic...                       \n",
       "EU_32018L2001_Title_0_Chapter_0_Section_0_Artic...                       \n",
       "EU_32018R1999_Title_0_Chapter_7_Section_3_Artic...                       \n",
       "EU_32018L2001_Title_0_Chapter_0_Section_0_Artic...                       \n",
       "\n",
       "                                                    f1_exact_score  \\\n",
       "EU_32018R1999_Title_0_Chapter_7_Section_3_Artic...        0.218750   \n",
       "EU_32019R0631_Title_0_Chapter_0_Section_0_Artic...        0.289157   \n",
       "EU_32018L2001_Title_0_Chapter_0_Section_0_Artic...        0.567308   \n",
       "EU_32018R1999_Title_0_Chapter_7_Section_3_Artic...        0.736842   \n",
       "EU_32018L2001_Title_0_Chapter_0_Section_0_Artic...        0.420198   \n",
       "\n",
       "                                                    f1_tokenwise_score  \\\n",
       "EU_32018R1999_Title_0_Chapter_7_Section_3_Artic...            0.226574   \n",
       "EU_32019R0631_Title_0_Chapter_0_Section_0_Artic...            0.263793   \n",
       "EU_32018L2001_Title_0_Chapter_0_Section_0_Artic...            0.512946   \n",
       "EU_32018R1999_Title_0_Chapter_7_Section_3_Artic...            0.583333   \n",
       "EU_32018L2001_Title_0_Chapter_0_Section_0_Artic...            0.410204   \n",
       "\n",
       "                                                    f1_partial_score  \\\n",
       "EU_32018R1999_Title_0_Chapter_7_Section_3_Artic...          0.281250   \n",
       "EU_32019R0631_Title_0_Chapter_0_Section_0_Artic...          0.409639   \n",
       "EU_32018L2001_Title_0_Chapter_0_Section_0_Artic...          0.653846   \n",
       "EU_32018R1999_Title_0_Chapter_7_Section_3_Artic...          0.736842   \n",
       "EU_32018L2001_Title_0_Chapter_0_Section_0_Artic...          0.532749   \n",
       "\n",
       "                                                    f1_heuristic_score  \\\n",
       "EU_32018R1999_Title_0_Chapter_7_Section_3_Artic...            0.281250   \n",
       "EU_32019R0631_Title_0_Chapter_0_Section_0_Artic...            0.421603   \n",
       "EU_32018L2001_Title_0_Chapter_0_Section_0_Artic...            0.653846   \n",
       "EU_32018R1999_Title_0_Chapter_7_Section_3_Artic...            0.736842   \n",
       "EU_32018L2001_Title_0_Chapter_0_Section_0_Artic...            0.544437   \n",
       "\n",
       "                                                    pygamma_score  \n",
       "EU_32018R1999_Title_0_Chapter_7_Section_3_Artic...       0.451832  \n",
       "EU_32019R0631_Title_0_Chapter_0_Section_0_Artic...       0.357654  \n",
       "EU_32018L2001_Title_0_Chapter_0_Section_0_Artic...       0.584463  \n",
       "EU_32018R1999_Title_0_Chapter_7_Section_3_Artic...       0.573874  \n",
       "EU_32018L2001_Title_0_Chapter_0_Section_0_Artic...       0.463723  "
      ]
     },
     "execution_count": 11,
     "metadata": {},
     "output_type": "execute_result"
    }
   ],
   "source": [
    "test_evaluator.df.head()"
   ]
  },
  {
   "cell_type": "markdown",
   "metadata": {},
   "source": [
    "### Get total score"
   ]
  },
  {
   "cell_type": "markdown",
   "metadata": {},
   "source": [
    "**test_evaluator.get_total_score_df(scoring_metrics = 'all', annotator = 'all', weight_by = 'Tokens')**\n",
    "\n",
    "Calculates the total scores specified in scoring metrics of the dataframe, either for a specific annotator or for all the annotators. The scores can be weighted by {'no_weighting, 'Tokens', 'Spans'}. Note that this works only for scoring metrics that are already calculated. The default argument 'all' retrieves the score for all the scores that have bee apended to the dataframe in the previous step.\n"
   ]
  },
  {
   "cell_type": "code",
   "execution_count": 12,
   "metadata": {},
   "outputs": [
    {
     "data": {
      "text/plain": [
       "{'f1_exact_score': 0.40028724799007476,\n",
       " 'f1_tokenwise_score': 0.397687590370067,\n",
       " 'f1_partial_score': 0.5159440267362017,\n",
       " 'f1_heuristic_score': 0.5273362748620107,\n",
       " 'pygamma_score': 0.4535421022357389}"
      ]
     },
     "execution_count": 12,
     "metadata": {},
     "output_type": "execute_result"
    }
   ],
   "source": [
    "#Get the total score of the corpus calculated as a mean of all the individual article scores\n",
    "test_evaluator.get_total_score_df(weight_by = 'no_weighting')"
   ]
  },
  {
   "cell_type": "code",
   "execution_count": 13,
   "metadata": {},
   "outputs": [
    {
     "data": {
      "text/plain": [
       "{'f1_exact_score': 0.37492081552891304,\n",
       " 'f1_tokenwise_score': 0.35240598751298724,\n",
       " 'f1_partial_score': 0.4739162741735001,\n",
       " 'f1_heuristic_score': 0.48679580434940306,\n",
       " 'pygamma_score': 0.43390749330297906}"
      ]
     },
     "execution_count": 13,
     "metadata": {},
     "output_type": "execute_result"
    }
   ],
   "source": [
    "#Get the total score of the corpus calculated as a mean of all the individual article scores weighted by the total number of tokens per article\n",
    "test_evaluator.get_total_score_df(weight_by = 'Tokens')"
   ]
  },
  {
   "cell_type": "code",
   "execution_count": 14,
   "metadata": {},
   "outputs": [
    {
     "data": {
      "text/plain": [
       "{'f1_exact_score': 0.3874058515882508,\n",
       " 'f1_tokenwise_score': 0.36379438736998276,\n",
       " 'f1_partial_score': 0.4885814966811494,\n",
       " 'f1_heuristic_score': 0.5028562323485702,\n",
       " 'pygamma_score': 0.44427801517119536}"
      ]
     },
     "execution_count": 14,
     "metadata": {},
     "output_type": "execute_result"
    }
   ],
   "source": [
    "#Get the total score of the corpus calculated as a mean of all the individual article scores weighted by the total number of spans per article\n",
    "test_evaluator.get_total_score_df(weight_by = 'Spans')"
   ]
  },
  {
   "cell_type": "markdown",
   "metadata": {},
   "source": [
    "if only specific scores are required:"
   ]
  },
  {
   "cell_type": "code",
   "execution_count": 15,
   "metadata": {},
   "outputs": [
    {
     "data": {
      "text/plain": [
       "{'f1_exact_score': 0.40028724799007476}"
      ]
     },
     "execution_count": 15,
     "metadata": {},
     "output_type": "execute_result"
    }
   ],
   "source": [
    "test_evaluator.get_total_score_df(scoring_metrics = 'f1_exact', weight_by = 'no_weighting')"
   ]
  },
  {
   "cell_type": "markdown",
   "metadata": {},
   "source": [
    "or"
   ]
  },
  {
   "cell_type": "code",
   "execution_count": 16,
   "metadata": {},
   "outputs": [
    {
     "data": {
      "text/plain": [
       "{'f1_exact_score': 0.3874058515882508,\n",
       " 'f1_tokenwise_score': 0.36379438736998276}"
      ]
     },
     "execution_count": 16,
     "metadata": {},
     "output_type": "execute_result"
    }
   ],
   "source": [
    "test_evaluator.get_total_score_df(scoring_metrics =['f1_exact', 'f1_tokenwise'], weight_by = 'Spans')"
   ]
  },
  {
   "cell_type": "markdown",
   "metadata": {},
   "source": [
    "### Get total score per annotator"
   ]
  },
  {
   "cell_type": "markdown",
   "metadata": {},
   "source": [
    "The same function can be used to retrieve the score of individual annotators. That is the weighted average of scores for all the articles the annotator has participated. "
   ]
  },
  {
   "cell_type": "code",
   "execution_count": 17,
   "metadata": {},
   "outputs": [
    {
     "data": {
      "text/plain": [
       "{'f1_exact_score': 0.46897294886445867,\n",
       " 'f1_tokenwise_score': 0.4639696458990632,\n",
       " 'f1_partial_score': 0.5917248835439597,\n",
       " 'f1_heuristic_score': 0.6056887697375231,\n",
       " 'pygamma_score': 0.49924958792303503}"
      ]
     },
     "execution_count": 17,
     "metadata": {},
     "output_type": "execute_result"
    }
   ],
   "source": [
    "test_evaluator.get_total_score_df(scoring_metrics = 'all', annotator = 'Fride', weight_by = 'no_weighting')"
   ]
  },
  {
   "cell_type": "markdown",
   "metadata": {},
   "source": [
    "For all the annotators"
   ]
  },
  {
   "cell_type": "code",
   "execution_count": 18,
   "metadata": {},
   "outputs": [
    {
     "name": "stdout",
     "output_type": "stream",
     "text": [
      "annotator:  Onerva\n",
      "{'f1_exact_score': 0.4381654829355101, 'f1_tokenwise_score': 0.4090364908255155, 'f1_partial_score': 0.5339943394957395, 'f1_heuristic_score': 0.5467190944483692, 'pygamma_score': 0.48740478117874464}\n",
      "----------------\n",
      "annotator:  Alisha\n",
      "{'f1_exact_score': 0.32323742866301736, 'f1_tokenwise_score': 0.30806281985414746, 'f1_partial_score': 0.42750169278836747, 'f1_heuristic_score': 0.44385587315930597, 'pygamma_score': 0.39740775822068164}\n",
      "----------------\n",
      "annotator:  Fabian\n",
      "{'f1_exact_score': 0.3071820274746298, 'f1_tokenwise_score': 0.2747252372274946, 'f1_partial_score': 0.38820915429061104, 'f1_heuristic_score': 0.3962207997917874, 'pygamma_score': 0.3561665189876795}\n",
      "----------------\n",
      "annotator:  Fride\n",
      "{'f1_exact_score': 0.4427467808588547, 'f1_tokenwise_score': 0.4214078450791374, 'f1_partial_score': 0.5584121507299492, 'f1_heuristic_score': 0.576894166530852, 'pygamma_score': 0.4930925344199355}\n",
      "----------------\n"
     ]
    }
   ],
   "source": [
    "annotators = ['Onerva', 'Alisha', 'Fabian', 'Fride']\n",
    "for ann in annotators:\n",
    "    print('annotator: ', ann)\n",
    "    print(test_evaluator.get_total_score_df(annotator = ann, weight_by = 'Spans'))\n",
    "    print('----------------')"
   ]
  },
  {
   "cell_type": "markdown",
   "metadata": {},
   "source": [
    "Or for specific scores"
   ]
  },
  {
   "cell_type": "code",
   "execution_count": 20,
   "metadata": {},
   "outputs": [
    {
     "data": {
      "text/plain": [
       "{'f1_exact_score': 0.4427467808588547,\n",
       " 'f1_tokenwise_score': 0.4214078450791374}"
      ]
     },
     "execution_count": 20,
     "metadata": {},
     "output_type": "execute_result"
    }
   ],
   "source": [
    "test_evaluator.get_total_score_df(annotator ='Fride', scoring_metrics = ['f1_exact', 'f1_tokenwise'], weight_by = 'Spans')\n"
   ]
  },
  {
   "cell_type": "markdown",
   "metadata": {},
   "source": [
    "### Rank articles by score"
   ]
  },
  {
   "cell_type": "code",
   "execution_count": 39,
   "metadata": {},
   "outputs": [
    {
     "data": {
      "text/html": [
       "<div>\n",
       "<style scoped>\n",
       "    .dataframe tbody tr th:only-of-type {\n",
       "        vertical-align: middle;\n",
       "    }\n",
       "\n",
       "    .dataframe tbody tr th {\n",
       "        vertical-align: top;\n",
       "    }\n",
       "\n",
       "    .dataframe thead th {\n",
       "        text-align: right;\n",
       "    }\n",
       "</style>\n",
       "<table border=\"1\" class=\"dataframe\">\n",
       "  <thead>\n",
       "    <tr style=\"text-align: right;\">\n",
       "      <th></th>\n",
       "      <th>Policy</th>\n",
       "      <th>Text</th>\n",
       "      <th>Tokens</th>\n",
       "      <th>Article_State</th>\n",
       "      <th>Finished_Annotators</th>\n",
       "      <th>Curation</th>\n",
       "      <th>Alisha</th>\n",
       "      <th>Fride</th>\n",
       "      <th>Onerva</th>\n",
       "      <th>Fabian</th>\n",
       "      <th>Lynn</th>\n",
       "      <th>Sebastian</th>\n",
       "      <th>Joel</th>\n",
       "      <th>f1_exact_score</th>\n",
       "      <th>f1_tokenwise_score</th>\n",
       "      <th>f1_partial_score</th>\n",
       "      <th>f1_heuristic_score</th>\n",
       "      <th>pygamma_score</th>\n",
       "    </tr>\n",
       "  </thead>\n",
       "  <tbody>\n",
       "    <tr>\n",
       "      <th>EU_32012L0027_Title_0_Chapter_4_Section_0_Article_21</th>\n",
       "      <td></td>\n",
       "      <td>article 21\\r\\nconversion factors\\r\\nfor the pu...</td>\n",
       "      <td>[start:0 stop:7 text:article tag_count:0, star...</td>\n",
       "      <td>CURATION_FINISHED</td>\n",
       "      <td>[Fride, Onerva]</td>\n",
       "      <td>[span id:CUR7809 annotator:Curation layer:Tech...</td>\n",
       "      <td></td>\n",
       "      <td>[span id:B4371 annotator:Fride layer:Technolog...</td>\n",
       "      <td>[span id:C4487 annotator:Onerva layer:Technolo...</td>\n",
       "      <td></td>\n",
       "      <td></td>\n",
       "      <td></td>\n",
       "      <td></td>\n",
       "      <td>0.0</td>\n",
       "      <td>0.000000</td>\n",
       "      <td>0.0</td>\n",
       "      <td>0.0</td>\n",
       "      <td>-0.187198</td>\n",
       "    </tr>\n",
       "    <tr>\n",
       "      <th>EU_32019R0631_Title_0_Chapter_0_Section_0_Article_18</th>\n",
       "      <td></td>\n",
       "      <td>article 18\\r\\nrepeal\\r\\nregulations (ec) no 44...</td>\n",
       "      <td>[start:0 stop:7 text:article tag_count:0, star...</td>\n",
       "      <td>CURATION_FINISHED</td>\n",
       "      <td>[Onerva, Fabian]</td>\n",
       "      <td>[span id:CUR13524 annotator:Curation layer:Pol...</td>\n",
       "      <td></td>\n",
       "      <td></td>\n",
       "      <td>[span id:C6758 annotator:Onerva layer:Policyde...</td>\n",
       "      <td>[span id:D3340 annotator:Fabian layer:Policyde...</td>\n",
       "      <td></td>\n",
       "      <td></td>\n",
       "      <td></td>\n",
       "      <td>0.0</td>\n",
       "      <td>0.000000</td>\n",
       "      <td>0.0</td>\n",
       "      <td>0.0</td>\n",
       "      <td>-0.140600</td>\n",
       "    </tr>\n",
       "    <tr>\n",
       "      <th>EU_32008R1099_Title_0_Chapter_0_Section_0_Article_08</th>\n",
       "      <td></td>\n",
       "      <td>article 8\\r\\nannual nuclear statistics\\r\\nthe ...</td>\n",
       "      <td>[start:0 stop:7 text:article tag_count:0, star...</td>\n",
       "      <td>CURATION_FINISHED</td>\n",
       "      <td>[Alisha, Fride]</td>\n",
       "      <td>[span id:CUR6743 annotator:Curation layer:Inst...</td>\n",
       "      <td>[span id:A2293 annotator:Alisha layer:Instrume...</td>\n",
       "      <td>[span id:B3594 annotator:Fride layer:Policydes...</td>\n",
       "      <td>[span id:C3873 annotator:Onerva layer:Policyde...</td>\n",
       "      <td></td>\n",
       "      <td></td>\n",
       "      <td></td>\n",
       "      <td></td>\n",
       "      <td>0.0</td>\n",
       "      <td>0.000000</td>\n",
       "      <td>0.0</td>\n",
       "      <td>0.0</td>\n",
       "      <td>-0.095282</td>\n",
       "    </tr>\n",
       "    <tr>\n",
       "      <th>EU_32008R1099_Title_0_Chapter_0_Section_0_Article_05</th>\n",
       "      <td></td>\n",
       "      <td>article 5\\r\\ntransmission and dissemination\\r\\...</td>\n",
       "      <td>[start:0 stop:7 text:article tag_count:0, star...</td>\n",
       "      <td>CURATION_FINISHED</td>\n",
       "      <td>[Alisha, Fride]</td>\n",
       "      <td>[span id:CUR15065 annotator:Curation layer:Ins...</td>\n",
       "      <td>[span id:A5801 annotator:Alisha layer:Instrume...</td>\n",
       "      <td>[span id:B8089 annotator:Fride layer:Instrumen...</td>\n",
       "      <td>[span id:C7141 annotator:Onerva layer:Policyde...</td>\n",
       "      <td></td>\n",
       "      <td>[]</td>\n",
       "      <td></td>\n",
       "      <td></td>\n",
       "      <td>0.0</td>\n",
       "      <td>0.000000</td>\n",
       "      <td>0.0</td>\n",
       "      <td>0.0</td>\n",
       "      <td>-0.037073</td>\n",
       "    </tr>\n",
       "    <tr>\n",
       "      <th>EU_32006L0066_Title_0_Chapter_0_Section_0_Article_29</th>\n",
       "      <td></td>\n",
       "      <td>article 29\\r\\nentry into force\\r\\nthis directi...</td>\n",
       "      <td>[start:0 stop:7 text:article tag_count:0, star...</td>\n",
       "      <td>CURATION_FINISHED</td>\n",
       "      <td>[Fride, Onerva]</td>\n",
       "      <td>[span id:CUR10714 annotator:Curation layer:Pol...</td>\n",
       "      <td></td>\n",
       "      <td>[span id:B6443 annotator:Fride layer:Policydes...</td>\n",
       "      <td>[span id:C5728 annotator:Onerva layer:Policyde...</td>\n",
       "      <td></td>\n",
       "      <td>[]</td>\n",
       "      <td></td>\n",
       "      <td></td>\n",
       "      <td>0.0</td>\n",
       "      <td>0.000000</td>\n",
       "      <td>0.0</td>\n",
       "      <td>0.0</td>\n",
       "      <td>-0.763486</td>\n",
       "    </tr>\n",
       "    <tr>\n",
       "      <th>...</th>\n",
       "      <td>...</td>\n",
       "      <td>...</td>\n",
       "      <td>...</td>\n",
       "      <td>...</td>\n",
       "      <td>...</td>\n",
       "      <td>...</td>\n",
       "      <td>...</td>\n",
       "      <td>...</td>\n",
       "      <td>...</td>\n",
       "      <td>...</td>\n",
       "      <td>...</td>\n",
       "      <td>...</td>\n",
       "      <td>...</td>\n",
       "      <td>...</td>\n",
       "      <td>...</td>\n",
       "      <td>...</td>\n",
       "      <td>...</td>\n",
       "      <td>...</td>\n",
       "    </tr>\n",
       "    <tr>\n",
       "      <th>EU_32009R0079_Title_0_Chapter_0_Section_0_Article_14</th>\n",
       "      <td></td>\n",
       "      <td>article 14\\r\\namendments to directive 2007/46/...</td>\n",
       "      <td>[start:0 stop:7 text:article tag_count:0, star...</td>\n",
       "      <td>CURATION_FINISHED</td>\n",
       "      <td>[Fabian, Onerva]</td>\n",
       "      <td>[span id:CUR12469 annotator:Curation layer:Pol...</td>\n",
       "      <td></td>\n",
       "      <td></td>\n",
       "      <td>[span id:C6392 annotator:Onerva layer:Policyde...</td>\n",
       "      <td>[span id:D2925 annotator:Fabian layer:Policyde...</td>\n",
       "      <td></td>\n",
       "      <td></td>\n",
       "      <td></td>\n",
       "      <td>1.0</td>\n",
       "      <td>1.000000</td>\n",
       "      <td>1.0</td>\n",
       "      <td>1.0</td>\n",
       "      <td>1.000000</td>\n",
       "    </tr>\n",
       "    <tr>\n",
       "      <th>EU_32019L0944_Title_0_Chapter_7_Section_5_Article_73</th>\n",
       "      <td></td>\n",
       "      <td>article 73\\r\\nentry into force\\r\\nthis directi...</td>\n",
       "      <td>[start:0 stop:7 text:article tag_count:0, star...</td>\n",
       "      <td>CURATION_FINISHED</td>\n",
       "      <td>[Alisha, Fabian]</td>\n",
       "      <td>[span id:CUR12501 annotator:Curation layer:Pol...</td>\n",
       "      <td>[span id:A4492 annotator:Alisha layer:Policyde...</td>\n",
       "      <td></td>\n",
       "      <td>[]</td>\n",
       "      <td>[span id:D2942 annotator:Fabian layer:Policyde...</td>\n",
       "      <td></td>\n",
       "      <td></td>\n",
       "      <td></td>\n",
       "      <td>0.0</td>\n",
       "      <td>0.846465</td>\n",
       "      <td>1.0</td>\n",
       "      <td>1.0</td>\n",
       "      <td>0.956143</td>\n",
       "    </tr>\n",
       "    <tr>\n",
       "      <th>EU_32018R1999_Title_0_Chapter_7_Section_3_Article_54</th>\n",
       "      <td></td>\n",
       "      <td>article 54\\r\\namendments to directive 2012/27/...</td>\n",
       "      <td>[start:0 stop:7 text:article tag_count:0, star...</td>\n",
       "      <td>CURATION_FINISHED</td>\n",
       "      <td>[Alisha, Fride]</td>\n",
       "      <td>[span id:CUR9806 annotator:Curation layer:Poli...</td>\n",
       "      <td>[span id:A3223 annotator:Alisha layer:Policyde...</td>\n",
       "      <td>[span id:B5863 annotator:Fride layer:Policydes...</td>\n",
       "      <td></td>\n",
       "      <td></td>\n",
       "      <td></td>\n",
       "      <td></td>\n",
       "      <td></td>\n",
       "      <td>1.0</td>\n",
       "      <td>1.000000</td>\n",
       "      <td>1.0</td>\n",
       "      <td>1.0</td>\n",
       "      <td>1.000000</td>\n",
       "    </tr>\n",
       "    <tr>\n",
       "      <th>EU_32008R1099_Title_0_Chapter_0_Section_0_Article_12</th>\n",
       "      <td></td>\n",
       "      <td>article 12\\r\\nentry into force\\r\\nthis regulat...</td>\n",
       "      <td>[start:0 stop:7 text:article tag_count:0, star...</td>\n",
       "      <td>CURATION_FINISHED</td>\n",
       "      <td>[Alisha, Fride]</td>\n",
       "      <td>[span id:CUR384 annotator:Curation layer:Polic...</td>\n",
       "      <td>[span id:A100 annotator:Alisha layer:Policydes...</td>\n",
       "      <td>[span id:B243 annotator:Fride layer:Policydesi...</td>\n",
       "      <td>[span id:C268 annotator:Onerva layer:Policydes...</td>\n",
       "      <td></td>\n",
       "      <td></td>\n",
       "      <td></td>\n",
       "      <td></td>\n",
       "      <td>0.5</td>\n",
       "      <td>0.857143</td>\n",
       "      <td>1.0</td>\n",
       "      <td>1.0</td>\n",
       "      <td>0.960483</td>\n",
       "    </tr>\n",
       "    <tr>\n",
       "      <th>EU_32012L0027_Title_0_Chapter_5_Section_0_Article_29</th>\n",
       "      <td></td>\n",
       "      <td>article 29\\r\\nentry into force\\r\\nthis directi...</td>\n",
       "      <td>[start:0 stop:7 text:article tag_count:0, star...</td>\n",
       "      <td>CURATION_FINISHED</td>\n",
       "      <td>[Fride, Onerva]</td>\n",
       "      <td>[span id:CUR11176 annotator:Curation layer:Pol...</td>\n",
       "      <td></td>\n",
       "      <td>[span id:B6516 annotator:Fride layer:Policydes...</td>\n",
       "      <td>[span id:C5928 annotator:Onerva layer:Policyde...</td>\n",
       "      <td></td>\n",
       "      <td></td>\n",
       "      <td></td>\n",
       "      <td></td>\n",
       "      <td>0.0</td>\n",
       "      <td>0.814815</td>\n",
       "      <td>1.0</td>\n",
       "      <td>1.0</td>\n",
       "      <td>-0.826315</td>\n",
       "    </tr>\n",
       "  </tbody>\n",
       "</table>\n",
       "<p>412 rows × 18 columns</p>\n",
       "</div>"
      ],
      "text/plain": [
       "                                                   Policy  \\\n",
       "EU_32012L0027_Title_0_Chapter_4_Section_0_Artic...          \n",
       "EU_32019R0631_Title_0_Chapter_0_Section_0_Artic...          \n",
       "EU_32008R1099_Title_0_Chapter_0_Section_0_Artic...          \n",
       "EU_32008R1099_Title_0_Chapter_0_Section_0_Artic...          \n",
       "EU_32006L0066_Title_0_Chapter_0_Section_0_Artic...          \n",
       "...                                                   ...   \n",
       "EU_32009R0079_Title_0_Chapter_0_Section_0_Artic...          \n",
       "EU_32019L0944_Title_0_Chapter_7_Section_5_Artic...          \n",
       "EU_32018R1999_Title_0_Chapter_7_Section_3_Artic...          \n",
       "EU_32008R1099_Title_0_Chapter_0_Section_0_Artic...          \n",
       "EU_32012L0027_Title_0_Chapter_5_Section_0_Artic...          \n",
       "\n",
       "                                                                                                 Text  \\\n",
       "EU_32012L0027_Title_0_Chapter_4_Section_0_Artic...  article 21\\r\\nconversion factors\\r\\nfor the pu...   \n",
       "EU_32019R0631_Title_0_Chapter_0_Section_0_Artic...  article 18\\r\\nrepeal\\r\\nregulations (ec) no 44...   \n",
       "EU_32008R1099_Title_0_Chapter_0_Section_0_Artic...  article 8\\r\\nannual nuclear statistics\\r\\nthe ...   \n",
       "EU_32008R1099_Title_0_Chapter_0_Section_0_Artic...  article 5\\r\\ntransmission and dissemination\\r\\...   \n",
       "EU_32006L0066_Title_0_Chapter_0_Section_0_Artic...  article 29\\r\\nentry into force\\r\\nthis directi...   \n",
       "...                                                                                               ...   \n",
       "EU_32009R0079_Title_0_Chapter_0_Section_0_Artic...  article 14\\r\\namendments to directive 2007/46/...   \n",
       "EU_32019L0944_Title_0_Chapter_7_Section_5_Artic...  article 73\\r\\nentry into force\\r\\nthis directi...   \n",
       "EU_32018R1999_Title_0_Chapter_7_Section_3_Artic...  article 54\\r\\namendments to directive 2012/27/...   \n",
       "EU_32008R1099_Title_0_Chapter_0_Section_0_Artic...  article 12\\r\\nentry into force\\r\\nthis regulat...   \n",
       "EU_32012L0027_Title_0_Chapter_5_Section_0_Artic...  article 29\\r\\nentry into force\\r\\nthis directi...   \n",
       "\n",
       "                                                                                               Tokens  \\\n",
       "EU_32012L0027_Title_0_Chapter_4_Section_0_Artic...  [start:0 stop:7 text:article tag_count:0, star...   \n",
       "EU_32019R0631_Title_0_Chapter_0_Section_0_Artic...  [start:0 stop:7 text:article tag_count:0, star...   \n",
       "EU_32008R1099_Title_0_Chapter_0_Section_0_Artic...  [start:0 stop:7 text:article tag_count:0, star...   \n",
       "EU_32008R1099_Title_0_Chapter_0_Section_0_Artic...  [start:0 stop:7 text:article tag_count:0, star...   \n",
       "EU_32006L0066_Title_0_Chapter_0_Section_0_Artic...  [start:0 stop:7 text:article tag_count:0, star...   \n",
       "...                                                                                               ...   \n",
       "EU_32009R0079_Title_0_Chapter_0_Section_0_Artic...  [start:0 stop:7 text:article tag_count:0, star...   \n",
       "EU_32019L0944_Title_0_Chapter_7_Section_5_Artic...  [start:0 stop:7 text:article tag_count:0, star...   \n",
       "EU_32018R1999_Title_0_Chapter_7_Section_3_Artic...  [start:0 stop:7 text:article tag_count:0, star...   \n",
       "EU_32008R1099_Title_0_Chapter_0_Section_0_Artic...  [start:0 stop:7 text:article tag_count:0, star...   \n",
       "EU_32012L0027_Title_0_Chapter_5_Section_0_Artic...  [start:0 stop:7 text:article tag_count:0, star...   \n",
       "\n",
       "                                                        Article_State  \\\n",
       "EU_32012L0027_Title_0_Chapter_4_Section_0_Artic...  CURATION_FINISHED   \n",
       "EU_32019R0631_Title_0_Chapter_0_Section_0_Artic...  CURATION_FINISHED   \n",
       "EU_32008R1099_Title_0_Chapter_0_Section_0_Artic...  CURATION_FINISHED   \n",
       "EU_32008R1099_Title_0_Chapter_0_Section_0_Artic...  CURATION_FINISHED   \n",
       "EU_32006L0066_Title_0_Chapter_0_Section_0_Artic...  CURATION_FINISHED   \n",
       "...                                                               ...   \n",
       "EU_32009R0079_Title_0_Chapter_0_Section_0_Artic...  CURATION_FINISHED   \n",
       "EU_32019L0944_Title_0_Chapter_7_Section_5_Artic...  CURATION_FINISHED   \n",
       "EU_32018R1999_Title_0_Chapter_7_Section_3_Artic...  CURATION_FINISHED   \n",
       "EU_32008R1099_Title_0_Chapter_0_Section_0_Artic...  CURATION_FINISHED   \n",
       "EU_32012L0027_Title_0_Chapter_5_Section_0_Artic...  CURATION_FINISHED   \n",
       "\n",
       "                                                   Finished_Annotators  \\\n",
       "EU_32012L0027_Title_0_Chapter_4_Section_0_Artic...     [Fride, Onerva]   \n",
       "EU_32019R0631_Title_0_Chapter_0_Section_0_Artic...    [Onerva, Fabian]   \n",
       "EU_32008R1099_Title_0_Chapter_0_Section_0_Artic...     [Alisha, Fride]   \n",
       "EU_32008R1099_Title_0_Chapter_0_Section_0_Artic...     [Alisha, Fride]   \n",
       "EU_32006L0066_Title_0_Chapter_0_Section_0_Artic...     [Fride, Onerva]   \n",
       "...                                                                ...   \n",
       "EU_32009R0079_Title_0_Chapter_0_Section_0_Artic...    [Fabian, Onerva]   \n",
       "EU_32019L0944_Title_0_Chapter_7_Section_5_Artic...    [Alisha, Fabian]   \n",
       "EU_32018R1999_Title_0_Chapter_7_Section_3_Artic...     [Alisha, Fride]   \n",
       "EU_32008R1099_Title_0_Chapter_0_Section_0_Artic...     [Alisha, Fride]   \n",
       "EU_32012L0027_Title_0_Chapter_5_Section_0_Artic...     [Fride, Onerva]   \n",
       "\n",
       "                                                                                             Curation  \\\n",
       "EU_32012L0027_Title_0_Chapter_4_Section_0_Artic...  [span id:CUR7809 annotator:Curation layer:Tech...   \n",
       "EU_32019R0631_Title_0_Chapter_0_Section_0_Artic...  [span id:CUR13524 annotator:Curation layer:Pol...   \n",
       "EU_32008R1099_Title_0_Chapter_0_Section_0_Artic...  [span id:CUR6743 annotator:Curation layer:Inst...   \n",
       "EU_32008R1099_Title_0_Chapter_0_Section_0_Artic...  [span id:CUR15065 annotator:Curation layer:Ins...   \n",
       "EU_32006L0066_Title_0_Chapter_0_Section_0_Artic...  [span id:CUR10714 annotator:Curation layer:Pol...   \n",
       "...                                                                                               ...   \n",
       "EU_32009R0079_Title_0_Chapter_0_Section_0_Artic...  [span id:CUR12469 annotator:Curation layer:Pol...   \n",
       "EU_32019L0944_Title_0_Chapter_7_Section_5_Artic...  [span id:CUR12501 annotator:Curation layer:Pol...   \n",
       "EU_32018R1999_Title_0_Chapter_7_Section_3_Artic...  [span id:CUR9806 annotator:Curation layer:Poli...   \n",
       "EU_32008R1099_Title_0_Chapter_0_Section_0_Artic...  [span id:CUR384 annotator:Curation layer:Polic...   \n",
       "EU_32012L0027_Title_0_Chapter_5_Section_0_Artic...  [span id:CUR11176 annotator:Curation layer:Pol...   \n",
       "\n",
       "                                                                                               Alisha  \\\n",
       "EU_32012L0027_Title_0_Chapter_4_Section_0_Artic...                                                      \n",
       "EU_32019R0631_Title_0_Chapter_0_Section_0_Artic...                                                      \n",
       "EU_32008R1099_Title_0_Chapter_0_Section_0_Artic...  [span id:A2293 annotator:Alisha layer:Instrume...   \n",
       "EU_32008R1099_Title_0_Chapter_0_Section_0_Artic...  [span id:A5801 annotator:Alisha layer:Instrume...   \n",
       "EU_32006L0066_Title_0_Chapter_0_Section_0_Artic...                                                      \n",
       "...                                                                                               ...   \n",
       "EU_32009R0079_Title_0_Chapter_0_Section_0_Artic...                                                      \n",
       "EU_32019L0944_Title_0_Chapter_7_Section_5_Artic...  [span id:A4492 annotator:Alisha layer:Policyde...   \n",
       "EU_32018R1999_Title_0_Chapter_7_Section_3_Artic...  [span id:A3223 annotator:Alisha layer:Policyde...   \n",
       "EU_32008R1099_Title_0_Chapter_0_Section_0_Artic...  [span id:A100 annotator:Alisha layer:Policydes...   \n",
       "EU_32012L0027_Title_0_Chapter_5_Section_0_Artic...                                                      \n",
       "\n",
       "                                                                                                Fride  \\\n",
       "EU_32012L0027_Title_0_Chapter_4_Section_0_Artic...  [span id:B4371 annotator:Fride layer:Technolog...   \n",
       "EU_32019R0631_Title_0_Chapter_0_Section_0_Artic...                                                      \n",
       "EU_32008R1099_Title_0_Chapter_0_Section_0_Artic...  [span id:B3594 annotator:Fride layer:Policydes...   \n",
       "EU_32008R1099_Title_0_Chapter_0_Section_0_Artic...  [span id:B8089 annotator:Fride layer:Instrumen...   \n",
       "EU_32006L0066_Title_0_Chapter_0_Section_0_Artic...  [span id:B6443 annotator:Fride layer:Policydes...   \n",
       "...                                                                                               ...   \n",
       "EU_32009R0079_Title_0_Chapter_0_Section_0_Artic...                                                      \n",
       "EU_32019L0944_Title_0_Chapter_7_Section_5_Artic...                                                      \n",
       "EU_32018R1999_Title_0_Chapter_7_Section_3_Artic...  [span id:B5863 annotator:Fride layer:Policydes...   \n",
       "EU_32008R1099_Title_0_Chapter_0_Section_0_Artic...  [span id:B243 annotator:Fride layer:Policydesi...   \n",
       "EU_32012L0027_Title_0_Chapter_5_Section_0_Artic...  [span id:B6516 annotator:Fride layer:Policydes...   \n",
       "\n",
       "                                                                                               Onerva  \\\n",
       "EU_32012L0027_Title_0_Chapter_4_Section_0_Artic...  [span id:C4487 annotator:Onerva layer:Technolo...   \n",
       "EU_32019R0631_Title_0_Chapter_0_Section_0_Artic...  [span id:C6758 annotator:Onerva layer:Policyde...   \n",
       "EU_32008R1099_Title_0_Chapter_0_Section_0_Artic...  [span id:C3873 annotator:Onerva layer:Policyde...   \n",
       "EU_32008R1099_Title_0_Chapter_0_Section_0_Artic...  [span id:C7141 annotator:Onerva layer:Policyde...   \n",
       "EU_32006L0066_Title_0_Chapter_0_Section_0_Artic...  [span id:C5728 annotator:Onerva layer:Policyde...   \n",
       "...                                                                                               ...   \n",
       "EU_32009R0079_Title_0_Chapter_0_Section_0_Artic...  [span id:C6392 annotator:Onerva layer:Policyde...   \n",
       "EU_32019L0944_Title_0_Chapter_7_Section_5_Artic...                                                 []   \n",
       "EU_32018R1999_Title_0_Chapter_7_Section_3_Artic...                                                      \n",
       "EU_32008R1099_Title_0_Chapter_0_Section_0_Artic...  [span id:C268 annotator:Onerva layer:Policydes...   \n",
       "EU_32012L0027_Title_0_Chapter_5_Section_0_Artic...  [span id:C5928 annotator:Onerva layer:Policyde...   \n",
       "\n",
       "                                                                                               Fabian  \\\n",
       "EU_32012L0027_Title_0_Chapter_4_Section_0_Artic...                                                      \n",
       "EU_32019R0631_Title_0_Chapter_0_Section_0_Artic...  [span id:D3340 annotator:Fabian layer:Policyde...   \n",
       "EU_32008R1099_Title_0_Chapter_0_Section_0_Artic...                                                      \n",
       "EU_32008R1099_Title_0_Chapter_0_Section_0_Artic...                                                      \n",
       "EU_32006L0066_Title_0_Chapter_0_Section_0_Artic...                                                      \n",
       "...                                                                                               ...   \n",
       "EU_32009R0079_Title_0_Chapter_0_Section_0_Artic...  [span id:D2925 annotator:Fabian layer:Policyde...   \n",
       "EU_32019L0944_Title_0_Chapter_7_Section_5_Artic...  [span id:D2942 annotator:Fabian layer:Policyde...   \n",
       "EU_32018R1999_Title_0_Chapter_7_Section_3_Artic...                                                      \n",
       "EU_32008R1099_Title_0_Chapter_0_Section_0_Artic...                                                      \n",
       "EU_32012L0027_Title_0_Chapter_5_Section_0_Artic...                                                      \n",
       "\n",
       "                                                   Lynn Sebastian Joel  \\\n",
       "EU_32012L0027_Title_0_Chapter_4_Section_0_Artic...                       \n",
       "EU_32019R0631_Title_0_Chapter_0_Section_0_Artic...                       \n",
       "EU_32008R1099_Title_0_Chapter_0_Section_0_Artic...                       \n",
       "EU_32008R1099_Title_0_Chapter_0_Section_0_Artic...   []                  \n",
       "EU_32006L0066_Title_0_Chapter_0_Section_0_Artic...   []                  \n",
       "...                                                 ...       ...  ...   \n",
       "EU_32009R0079_Title_0_Chapter_0_Section_0_Artic...                       \n",
       "EU_32019L0944_Title_0_Chapter_7_Section_5_Artic...                       \n",
       "EU_32018R1999_Title_0_Chapter_7_Section_3_Artic...                       \n",
       "EU_32008R1099_Title_0_Chapter_0_Section_0_Artic...                       \n",
       "EU_32012L0027_Title_0_Chapter_5_Section_0_Artic...                       \n",
       "\n",
       "                                                    f1_exact_score  \\\n",
       "EU_32012L0027_Title_0_Chapter_4_Section_0_Artic...             0.0   \n",
       "EU_32019R0631_Title_0_Chapter_0_Section_0_Artic...             0.0   \n",
       "EU_32008R1099_Title_0_Chapter_0_Section_0_Artic...             0.0   \n",
       "EU_32008R1099_Title_0_Chapter_0_Section_0_Artic...             0.0   \n",
       "EU_32006L0066_Title_0_Chapter_0_Section_0_Artic...             0.0   \n",
       "...                                                            ...   \n",
       "EU_32009R0079_Title_0_Chapter_0_Section_0_Artic...             1.0   \n",
       "EU_32019L0944_Title_0_Chapter_7_Section_5_Artic...             0.0   \n",
       "EU_32018R1999_Title_0_Chapter_7_Section_3_Artic...             1.0   \n",
       "EU_32008R1099_Title_0_Chapter_0_Section_0_Artic...             0.5   \n",
       "EU_32012L0027_Title_0_Chapter_5_Section_0_Artic...             0.0   \n",
       "\n",
       "                                                    f1_tokenwise_score  \\\n",
       "EU_32012L0027_Title_0_Chapter_4_Section_0_Artic...            0.000000   \n",
       "EU_32019R0631_Title_0_Chapter_0_Section_0_Artic...            0.000000   \n",
       "EU_32008R1099_Title_0_Chapter_0_Section_0_Artic...            0.000000   \n",
       "EU_32008R1099_Title_0_Chapter_0_Section_0_Artic...            0.000000   \n",
       "EU_32006L0066_Title_0_Chapter_0_Section_0_Artic...            0.000000   \n",
       "...                                                                ...   \n",
       "EU_32009R0079_Title_0_Chapter_0_Section_0_Artic...            1.000000   \n",
       "EU_32019L0944_Title_0_Chapter_7_Section_5_Artic...            0.846465   \n",
       "EU_32018R1999_Title_0_Chapter_7_Section_3_Artic...            1.000000   \n",
       "EU_32008R1099_Title_0_Chapter_0_Section_0_Artic...            0.857143   \n",
       "EU_32012L0027_Title_0_Chapter_5_Section_0_Artic...            0.814815   \n",
       "\n",
       "                                                    f1_partial_score  \\\n",
       "EU_32012L0027_Title_0_Chapter_4_Section_0_Artic...               0.0   \n",
       "EU_32019R0631_Title_0_Chapter_0_Section_0_Artic...               0.0   \n",
       "EU_32008R1099_Title_0_Chapter_0_Section_0_Artic...               0.0   \n",
       "EU_32008R1099_Title_0_Chapter_0_Section_0_Artic...               0.0   \n",
       "EU_32006L0066_Title_0_Chapter_0_Section_0_Artic...               0.0   \n",
       "...                                                              ...   \n",
       "EU_32009R0079_Title_0_Chapter_0_Section_0_Artic...               1.0   \n",
       "EU_32019L0944_Title_0_Chapter_7_Section_5_Artic...               1.0   \n",
       "EU_32018R1999_Title_0_Chapter_7_Section_3_Artic...               1.0   \n",
       "EU_32008R1099_Title_0_Chapter_0_Section_0_Artic...               1.0   \n",
       "EU_32012L0027_Title_0_Chapter_5_Section_0_Artic...               1.0   \n",
       "\n",
       "                                                    f1_heuristic_score  \\\n",
       "EU_32012L0027_Title_0_Chapter_4_Section_0_Artic...                 0.0   \n",
       "EU_32019R0631_Title_0_Chapter_0_Section_0_Artic...                 0.0   \n",
       "EU_32008R1099_Title_0_Chapter_0_Section_0_Artic...                 0.0   \n",
       "EU_32008R1099_Title_0_Chapter_0_Section_0_Artic...                 0.0   \n",
       "EU_32006L0066_Title_0_Chapter_0_Section_0_Artic...                 0.0   \n",
       "...                                                                ...   \n",
       "EU_32009R0079_Title_0_Chapter_0_Section_0_Artic...                 1.0   \n",
       "EU_32019L0944_Title_0_Chapter_7_Section_5_Artic...                 1.0   \n",
       "EU_32018R1999_Title_0_Chapter_7_Section_3_Artic...                 1.0   \n",
       "EU_32008R1099_Title_0_Chapter_0_Section_0_Artic...                 1.0   \n",
       "EU_32012L0027_Title_0_Chapter_5_Section_0_Artic...                 1.0   \n",
       "\n",
       "                                                    pygamma_score  \n",
       "EU_32012L0027_Title_0_Chapter_4_Section_0_Artic...      -0.187198  \n",
       "EU_32019R0631_Title_0_Chapter_0_Section_0_Artic...      -0.140600  \n",
       "EU_32008R1099_Title_0_Chapter_0_Section_0_Artic...      -0.095282  \n",
       "EU_32008R1099_Title_0_Chapter_0_Section_0_Artic...      -0.037073  \n",
       "EU_32006L0066_Title_0_Chapter_0_Section_0_Artic...      -0.763486  \n",
       "...                                                           ...  \n",
       "EU_32009R0079_Title_0_Chapter_0_Section_0_Artic...       1.000000  \n",
       "EU_32019L0944_Title_0_Chapter_7_Section_5_Artic...       0.956143  \n",
       "EU_32018R1999_Title_0_Chapter_7_Section_3_Artic...       1.000000  \n",
       "EU_32008R1099_Title_0_Chapter_0_Section_0_Artic...       0.960483  \n",
       "EU_32012L0027_Title_0_Chapter_5_Section_0_Artic...      -0.826315  \n",
       "\n",
       "[412 rows x 18 columns]"
      ]
     },
     "execution_count": 39,
     "metadata": {},
     "output_type": "execute_result"
    }
   ],
   "source": [
    "test_evaluator.df.sort_values(by=['f1_heuristic_score'])"
   ]
  },
  {
   "cell_type": "markdown",
   "metadata": {},
   "source": [
    "## Get total score based on a spanlist"
   ]
  },
  {
   "cell_type": "markdown",
   "metadata": {},
   "source": [
    "The inter annotator agreement score can be also calculated from a spanlist. For all the spans present, it calculates the inter agreement scores for alle the articls with at least two valid annoations. Can be used to caluclate simmilarity to curation."
   ]
  },
  {
   "cell_type": "markdown",
   "metadata": {},
   "source": [
    "**get_score_spanlist(conditional_rep, annotators , scoring_metric, item = None, value = None, weight_by = 'Spans', ** optional_tuple_properties)**\n",
    "\n",
    "The function is designed similar to the get_span_list function. A set of spans is selected by providing a conditional repository and a optional item and value. For all the spans present, it calculates the inter agreement scores for all the articles where two finsihed annotators are found. Returns the resulting spalist and the score. Can be used to caluclate simmilarity to curation or scores in different categories.\n",
    "\n"
   ]
  },
  {
   "cell_type": "code",
   "execution_count": 14,
   "metadata": {},
   "outputs": [],
   "source": [
    "test_dir = repository.from_repository_name('EU_32008R1099_Title_0_Chapter_0_Section_0_Article_12')\n",
    "span_list = test_evaluator.get_span_list(test_dir, ['Alisha', 'Fride'])"
   ]
  },
  {
   "cell_type": "code",
   "execution_count": 15,
   "metadata": {},
   "outputs": [
    {
     "data": {
      "text/plain": [
       "[span id:A100 annotator:Alisha layer:Policydesigncharacteristics type:Time tag:Time_InEffect start:76 stop:110 text:20th day following its publication,\n",
       " span id:A101 annotator:Alisha layer:Policydesigncharacteristics type:Actor tag:Addressee_default start:239 stop:252 text:member states,\n",
       " span id:B243 annotator:Fride layer:Policydesigncharacteristics type:Time tag:Time_InEffect start:76 stop:134 text:20th day following its publication in the official journal,\n",
       " span id:B244 annotator:Fride layer:Policydesigncharacteristics type:Actor tag:Addressee_default start:239 stop:252 text:member states]"
      ]
     },
     "execution_count": 15,
     "metadata": {},
     "output_type": "execute_result"
    }
   ],
   "source": [
    "span_list"
   ]
  },
  {
   "cell_type": "markdown",
   "metadata": {},
   "source": [
    "So this would be the equivalent spanlist. Retrieving the IAA score of such a spanlist"
   ]
  },
  {
   "cell_type": "code",
   "execution_count": 17,
   "metadata": {},
   "outputs": [
    {
     "name": "stdout",
     "output_type": "stream",
     "text": [
      "[span id:A100 annotator:Alisha layer:Policydesigncharacteristics type:Time tag:Time_InEffect start:76 stop:110 text:20th day following its publication, span id:A101 annotator:Alisha layer:Policydesigncharacteristics type:Actor tag:Addressee_default start:239 stop:252 text:member states, span id:B243 annotator:Fride layer:Policydesigncharacteristics type:Time tag:Time_InEffect start:76 stop:134 text:20th day following its publication in the official journal, span id:B244 annotator:Fride layer:Policydesigncharacteristics type:Actor tag:Addressee_default start:239 stop:252 text:member states]\n",
      "\n",
      "score: 1.0\n"
     ]
    }
   ],
   "source": [
    "span_list_score, score = test_evaluator.get_score_spanlist(conditional_rep = test_dir, annotators = ['Alisha', 'Fride'] , scoring_metric = 'f1_heuristic', weight_by = 'Spans')\n",
    "print(span_list_score)\n",
    "print(f\"\\nscore: {score}\")"
   ]
  },
  {
   "cell_type": "markdown",
   "metadata": {},
   "source": [
    "Or use this function to get scores in specific categories:"
   ]
  },
  {
   "cell_type": "code",
   "execution_count": 18,
   "metadata": {},
   "outputs": [
    {
     "data": {
      "text/plain": [
       "[span id:A5803 annotator:Alisha layer:Policydesigncharacteristics type:Actor tag:Addressee_monitored start:48 stop:61 text:member states,\n",
       " span id:A5804 annotator:Alisha layer:Policydesigncharacteristics type:Actor tag:Authority_monitoring start:84 stop:94 text:commission,\n",
       " span id:A5805 annotator:Alisha layer:Policydesigncharacteristics type:Actor tag:Authority_monitoring start:96 stop:104 text:eurostat,\n",
       " span id:A5806 annotator:Alisha layer:Policydesigncharacteristics type:Compliance tag:Form_monitoring start:110 stop:129 text:national statistics,\n",
       " span id:A5807 annotator:Alisha layer:Policydesigncharacteristics type:Compliance tag:Form_monitoring start:366 stop:385 text:national statistics,\n",
       " span id:A5808 annotator:Alisha layer:Policydesigncharacteristics type:Actor tag:Addressee_monitored start:528 stop:540 text:member state,\n",
       " span id:A5809 annotator:Alisha layer:Policydesigncharacteristics type:Reversibility tag:Reversibility_policy start:553 stop:578 text:exemptions or derogations,\n",
       " span id:A5810 annotator:Alisha layer:Policydesigncharacteristics type:Actor tag:Authority_monitoring start:601 stop:611 text:commission,\n",
       " span id:A5811 annotator:Alisha layer:Policydesigncharacteristics type:Compliance tag:Form_monitoring start:709 stop:728 text:national statistics,\n",
       " span id:A5812 annotator:Alisha layer:Policydesigncharacteristics type:Reversibility tag:Reversibility_policy start:771 stop:802 text:excessive burden on respondents,\n",
       " span id:A5813 annotator:Alisha layer:Policydesigncharacteristics type:Actor tag:Authority_monitoring start:814 stop:824 text:commission,\n",
       " span id:A5814 annotator:Alisha layer:Policydesigncharacteristics type:Actor tag:Authority_monitoring start:826 stop:834 text:eurostat,\n",
       " span id:A5815 annotator:Alisha layer:Policydesigncharacteristics type:Time tag:Time_Monitoring start:854 stop:860 text:yearly,\n",
       " span id:A5816 annotator:Alisha layer:Policydesigncharacteristics type:Compliance tag:Form_monitoring start:861 stop:878 text:energy statistics,\n",
       " span id:A5817 annotator:Alisha layer:Policydesigncharacteristics type:Time tag:Time_Monitoring start:882 stop:892 text:31 january,\n",
       " span id:B8093 annotator:Fride layer:Policydesigncharacteristics type:Actor tag:Addressee_default start:48 stop:61 text:member states,\n",
       " span id:B8094 annotator:Fride layer:Policydesigncharacteristics type:Actor tag:Addressee_resource start:84 stop:105 text:commission (eurostat),\n",
       " span id:B8095 annotator:Fride layer:Policydesigncharacteristics type:Resource tag:Resource_Other start:110 stop:129 text:national statistics,\n",
       " span id:B8096 annotator:Fride layer:Policydesigncharacteristics type:Time tag:Time_Resources start:228 stop:239 text:time limits,\n",
       " span id:B8097 annotator:Fride layer:Policydesigncharacteristics type:Resource tag:Resource_Other start:366 stop:385 text:national statistics,\n",
       " span id:B8098 annotator:Fride layer:Policydesigncharacteristics type:Actor tag:Addressee_default start:528 stop:540 text:member state,\n",
       " span id:B8099 annotator:Fride layer:Policydesigncharacteristics type:Actor tag:Authority_default start:601 stop:611 text:commission,\n",
       " span id:B8100 annotator:Fride layer:Policydesigncharacteristics type:Resource tag:Resource_Other start:709 stop:728 text:national statistics,\n",
       " span id:B8101 annotator:Fride layer:Policydesigncharacteristics type:Actor tag:Addressee_default start:814 stop:835 text:commission (eurostat),\n",
       " span id:B8102 annotator:Fride layer:Policydesigncharacteristics type:Resource tag:Resource_Other start:861 stop:878 text:energy statistics,\n",
       " span id:B8103 annotator:Fride layer:Policydesigncharacteristics type:Time tag:Time_Compliance start:882 stop:941 text:31 january of the second year following the reported period]"
      ]
     },
     "execution_count": 18,
     "metadata": {},
     "output_type": "execute_result"
    }
   ],
   "source": [
    "test_dir = repository.from_repository_name('EU_32008R1099_Title_0_Chapter_0_Section_0_Article_05')\n",
    "span_list = test_evaluator.get_span_list(test_dir, annotators = ['Alisha', 'Fride'], item = 'layer', value = 'Policydesigncharacteristics')\n",
    "span_list"
   ]
  },
  {
   "cell_type": "markdown",
   "metadata": {},
   "source": [
    "Calculating the IAA of such a spanlist"
   ]
  },
  {
   "cell_type": "code",
   "execution_count": 19,
   "metadata": {},
   "outputs": [
    {
     "name": "stdout",
     "output_type": "stream",
     "text": [
      "[span id:A5801 annotator:Alisha layer:Instrumenttypes type:InstrumentType tag:RegulatoryInstr start:425 stop:445 text:regulatory procedure, span id:A5802 annotator:Alisha layer:Instrumenttypes type:InstrumentType tag:RegulatoryInstr start:635 stop:655 text:regulatory procedure, span id:A5803 annotator:Alisha layer:Policydesigncharacteristics type:Actor tag:Addressee_monitored start:48 stop:61 text:member states, span id:A5804 annotator:Alisha layer:Policydesigncharacteristics type:Actor tag:Authority_monitoring start:84 stop:94 text:commission, span id:A5805 annotator:Alisha layer:Policydesigncharacteristics type:Actor tag:Authority_monitoring start:96 stop:104 text:eurostat, span id:A5806 annotator:Alisha layer:Policydesigncharacteristics type:Compliance tag:Form_monitoring start:110 stop:129 text:national statistics, span id:A5807 annotator:Alisha layer:Policydesigncharacteristics type:Compliance tag:Form_monitoring start:366 stop:385 text:national statistics, span id:A5808 annotator:Alisha layer:Policydesigncharacteristics type:Actor tag:Addressee_monitored start:528 stop:540 text:member state, span id:A5809 annotator:Alisha layer:Policydesigncharacteristics type:Reversibility tag:Reversibility_policy start:553 stop:578 text:exemptions or derogations, span id:A5810 annotator:Alisha layer:Policydesigncharacteristics type:Actor tag:Authority_monitoring start:601 stop:611 text:commission, span id:A5811 annotator:Alisha layer:Policydesigncharacteristics type:Compliance tag:Form_monitoring start:709 stop:728 text:national statistics, span id:A5812 annotator:Alisha layer:Policydesigncharacteristics type:Reversibility tag:Reversibility_policy start:771 stop:802 text:excessive burden on respondents, span id:A5813 annotator:Alisha layer:Policydesigncharacteristics type:Actor tag:Authority_monitoring start:814 stop:824 text:commission, span id:A5814 annotator:Alisha layer:Policydesigncharacteristics type:Actor tag:Authority_monitoring start:826 stop:834 text:eurostat, span id:A5815 annotator:Alisha layer:Policydesigncharacteristics type:Time tag:Time_Monitoring start:854 stop:860 text:yearly, span id:A5816 annotator:Alisha layer:Policydesigncharacteristics type:Compliance tag:Form_monitoring start:861 stop:878 text:energy statistics, span id:A5817 annotator:Alisha layer:Policydesigncharacteristics type:Time tag:Time_Monitoring start:882 stop:892 text:31 january, span id:A5818 annotator:Alisha layer:Technologyandapplicationspecificity type:EnergySpecificity tag:Energy_Other start:861 stop:867 text:energy, span id:B8089 annotator:Fride layer:Instrumenttypes type:InstrumentType tag:RegulatoryInstr start:241 stop:252 text:derogations, span id:B8090 annotator:Fride layer:Instrumenttypes type:InstrumentType tag:RegulatoryInstr start:257 stop:267 text:exemptions, span id:B8091 annotator:Fride layer:Instrumenttypes type:InstrumentType tag:RegulatoryInstr start:553 stop:563 text:exemptions, span id:B8092 annotator:Fride layer:Instrumenttypes type:InstrumentType tag:RegulatoryInstr start:567 stop:578 text:derogations, span id:B8093 annotator:Fride layer:Policydesigncharacteristics type:Actor tag:Addressee_default start:48 stop:61 text:member states, span id:B8094 annotator:Fride layer:Policydesigncharacteristics type:Actor tag:Addressee_resource start:84 stop:105 text:commission (eurostat), span id:B8095 annotator:Fride layer:Policydesigncharacteristics type:Resource tag:Resource_Other start:110 stop:129 text:national statistics, span id:B8096 annotator:Fride layer:Policydesigncharacteristics type:Time tag:Time_Resources start:228 stop:239 text:time limits, span id:B8097 annotator:Fride layer:Policydesigncharacteristics type:Resource tag:Resource_Other start:366 stop:385 text:national statistics, span id:B8098 annotator:Fride layer:Policydesigncharacteristics type:Actor tag:Addressee_default start:528 stop:540 text:member state, span id:B8099 annotator:Fride layer:Policydesigncharacteristics type:Actor tag:Authority_default start:601 stop:611 text:commission, span id:B8100 annotator:Fride layer:Policydesigncharacteristics type:Resource tag:Resource_Other start:709 stop:728 text:national statistics, span id:B8101 annotator:Fride layer:Policydesigncharacteristics type:Actor tag:Addressee_default start:814 stop:835 text:commission (eurostat), span id:B8102 annotator:Fride layer:Policydesigncharacteristics type:Resource tag:Resource_Other start:861 stop:878 text:energy statistics, span id:B8103 annotator:Fride layer:Policydesigncharacteristics type:Time tag:Time_Compliance start:882 stop:941 text:31 january of the second year following the reported period]\n",
      "\n",
      "score: 0.0\n"
     ]
    }
   ],
   "source": [
    "span_list_score, score = test_evaluator.get_score_spanlist(test_dir, annotators = ['Alisha', 'Fride'], scoring_metric = 'f1_heuristic', weight_by = 'Spans')\n",
    "print(span_list_score)\n",
    "print(f\"\\nscore: {score}\")"
   ]
  },
  {
   "cell_type": "markdown",
   "metadata": {},
   "source": [
    "## Check closeness to curation"
   ]
  },
  {
   "cell_type": "markdown",
   "metadata": {},
   "source": [
    "In the same spirit as calculating the IAA scores, we can check the closeness to the curation.\n",
    "\n",
    "**append_score_to_curation(self, scoring_metrics, parallel = False, ** optional_tuple_properties)**\n",
    "\n",
    "This methid works very similar to get_total_score_df, but calculated the closeness to the curation for all the scoring_metrics defined in scoring_metrics. Again, the scores can be calculted in parallel. Appends al the scores for all annotators that contributed in tuples, where each element corresponds to a scoring metric. Again, the optional tuple properties are reserved for the pygamma score"
   ]
  },
  {
   "cell_type": "code",
   "execution_count": 5,
   "metadata": {
    "tags": []
   },
   "outputs": [],
   "source": [
    "scoring_metrics = ['f1_exact', 'f1_tokenwise', 'f1_partial', 'f1_heuristic']"
   ]
  },
  {
   "cell_type": "code",
   "execution_count": 6,
   "metadata": {},
   "outputs": [
    {
     "name": "stderr",
     "output_type": "stream",
     "text": [
      "100%|██████████| 412/412 [00:07<00:00, 52.66it/s] \n",
      "100%|██████████| 412/412 [00:05<00:00, 74.05it/s] \n",
      "100%|██████████| 412/412 [00:07<00:00, 56.64it/s] \n",
      "100%|██████████| 412/412 [00:06<00:00, 68.29it/s] \n"
     ]
    }
   ],
   "source": [
    "test_evaluator.append_score_to_curation(scoring_metrics, parallel = False)"
   ]
  },
  {
   "cell_type": "markdown",
   "metadata": {},
   "source": [
    "As before, we can specify a dissimilarity matrix for pygamma"
   ]
  },
  {
   "cell_type": "code",
   "execution_count": 7,
   "metadata": {},
   "outputs": [
    {
     "name": "stderr",
     "output_type": "stream",
     "text": [
      "100%|██████████| 412/412 [00:53<00:00,  7.64it/s]\n",
      "100%|██████████| 412/412 [00:30<00:00, 13.62it/s]\n",
      "100%|██████████| 412/412 [00:52<00:00,  7.87it/s]\n",
      "100%|██████████| 412/412 [00:39<00:00, 10.34it/s]\n"
     ]
    }
   ],
   "source": [
    "category_list, cat_dissimilarity_matrix = create_scoring_matrix(os.path.join(ROOT_DIR,'src/experiment_utils/tag_set.json'),  soft_tagset_dissimilarity = True, soft_layer_dissimilarity = False)\n",
    "test_evaluator.append_score_to_curation(scoring_metrics = 'pygamma', category_list = category_list, cat_dissimilarity_matrix = cat_dissimilarity_matrix)"
   ]
  },
  {
   "cell_type": "markdown",
   "metadata": {},
   "source": [
    "Checking out the dataframe:"
   ]
  },
  {
   "cell_type": "code",
   "execution_count": 9,
   "metadata": {},
   "outputs": [
    {
     "data": {
      "text/html": [
       "<div>\n",
       "<style scoped>\n",
       "    .dataframe tbody tr th:only-of-type {\n",
       "        vertical-align: middle;\n",
       "    }\n",
       "\n",
       "    .dataframe tbody tr th {\n",
       "        vertical-align: top;\n",
       "    }\n",
       "\n",
       "    .dataframe thead th {\n",
       "        text-align: right;\n",
       "    }\n",
       "</style>\n",
       "<table border=\"1\" class=\"dataframe\">\n",
       "  <thead>\n",
       "    <tr style=\"text-align: right;\">\n",
       "      <th></th>\n",
       "      <th>Policy</th>\n",
       "      <th>Text</th>\n",
       "      <th>Tokens</th>\n",
       "      <th>Article_State</th>\n",
       "      <th>Finished_Annotators</th>\n",
       "      <th>Curation</th>\n",
       "      <th>Alisha</th>\n",
       "      <th>Fride</th>\n",
       "      <th>Onerva</th>\n",
       "      <th>Fabian</th>\n",
       "      <th>Lynn</th>\n",
       "      <th>Sebastian</th>\n",
       "      <th>Joel</th>\n",
       "      <th>Onerva_to_curation</th>\n",
       "      <th>Fabian_to_curation</th>\n",
       "      <th>Fride_to_curation</th>\n",
       "      <th>Alisha_to_curation</th>\n",
       "    </tr>\n",
       "  </thead>\n",
       "  <tbody>\n",
       "    <tr>\n",
       "      <th>EU_32018R1999_Title_0_Chapter_7_Section_3_Article_43</th>\n",
       "      <td></td>\n",
       "      <td>article 43\\r\\nexercise of the delegation\\r\\n1....</td>\n",
       "      <td>[start:0 stop:7 text:article tag_count:0, star...</td>\n",
       "      <td>CURATION_FINISHED</td>\n",
       "      <td>[Alisha, Fride]</td>\n",
       "      <td>[span id:CUR0 annotator:Curation layer:Instrum...</td>\n",
       "      <td>[span id:A1 annotator:Alisha layer:Instrumentt...</td>\n",
       "      <td>[span id:B1 annotator:Fride layer:Policydesign...</td>\n",
       "      <td></td>\n",
       "      <td></td>\n",
       "      <td></td>\n",
       "      <td></td>\n",
       "      <td></td>\n",
       "      <td></td>\n",
       "      <td></td>\n",
       "      <td>[0.2222222222222222, 0.25396825396825395, 0.25...</td>\n",
       "      <td>[0.547945205479452, 0.6575342465753425, 0.6575...</td>\n",
       "    </tr>\n",
       "    <tr>\n",
       "      <th>EU_32019R0631_Title_0_Chapter_0_Section_0_Article_12</th>\n",
       "      <td></td>\n",
       "      <td>article 12\\r\\nreal-world co2 emissions and fue...</td>\n",
       "      <td>[start:0 stop:7 text:article tag_count:0, star...</td>\n",
       "      <td>CURATION_FINISHED</td>\n",
       "      <td>[Onerva, Fabian]</td>\n",
       "      <td>[span id:CUR36 annotator:Curation layer:Instru...</td>\n",
       "      <td></td>\n",
       "      <td></td>\n",
       "      <td>[span id:C1 annotator:Onerva layer:Instrumentt...</td>\n",
       "      <td>[span id:D1 annotator:Fabian layer:Policydesig...</td>\n",
       "      <td></td>\n",
       "      <td></td>\n",
       "      <td></td>\n",
       "      <td>[0.6861313868613139, 0.744307577454274, 0.7153...</td>\n",
       "      <td>[0.2830188679245283, 0.35757575757575755, 0.32...</td>\n",
       "      <td></td>\n",
       "      <td></td>\n",
       "    </tr>\n",
       "    <tr>\n",
       "      <th>EU_32018L2001_Title_0_Chapter_0_Section_0_Article_11</th>\n",
       "      <td></td>\n",
       "      <td>article 11\\r\\njoint projects between member st...</td>\n",
       "      <td>[start:0 stop:7 text:article tag_count:0, star...</td>\n",
       "      <td>CURATION_FINISHED</td>\n",
       "      <td>[Fride, Onerva]</td>\n",
       "      <td>[span id:CUR116 annotator:Curation layer:Instr...</td>\n",
       "      <td></td>\n",
       "      <td>[span id:B28 annotator:Fride layer:Instrumentt...</td>\n",
       "      <td>[span id:C58 annotator:Onerva layer:Instrument...</td>\n",
       "      <td></td>\n",
       "      <td></td>\n",
       "      <td></td>\n",
       "      <td></td>\n",
       "      <td>[0.6113989637305699, 0.7253886010362695, 0.725...</td>\n",
       "      <td></td>\n",
       "      <td>[0.6737967914438502, 0.6737967914438502, 0.673...</td>\n",
       "      <td></td>\n",
       "    </tr>\n",
       "    <tr>\n",
       "      <th>EU_32018R1999_Title_0_Chapter_7_Section_3_Article_56</th>\n",
       "      <td></td>\n",
       "      <td>article 56\\r\\namendments to directive (eu) 201...</td>\n",
       "      <td>[start:0 stop:7 text:article tag_count:0, star...</td>\n",
       "      <td>CURATION_FINISHED</td>\n",
       "      <td>[Alisha, Fride]</td>\n",
       "      <td>[span id:CUR202 annotator:Curation layer:Polic...</td>\n",
       "      <td>[span id:A38 annotator:Alisha layer:Policydesi...</td>\n",
       "      <td>[span id:B129 annotator:Fride layer:Policydesi...</td>\n",
       "      <td></td>\n",
       "      <td></td>\n",
       "      <td></td>\n",
       "      <td></td>\n",
       "      <td></td>\n",
       "      <td></td>\n",
       "      <td></td>\n",
       "      <td>[0.8888888888888888, 1.0, 1.0, 0.9523809523809...</td>\n",
       "      <td>[0.631578947368421, 0.7368421052631577, 0.7368...</td>\n",
       "    </tr>\n",
       "    <tr>\n",
       "      <th>EU_32018L2001_Title_0_Chapter_0_Section_0_Article_03</th>\n",
       "      <td></td>\n",
       "      <td>article 3\\r\\nbinding overall union target for ...</td>\n",
       "      <td>[start:0 stop:7 text:article tag_count:0, star...</td>\n",
       "      <td>CURATION_FINISHED</td>\n",
       "      <td>[Fride, Onerva, Fabian]</td>\n",
       "      <td>[span id:CUR211 annotator:Curation layer:Instr...</td>\n",
       "      <td></td>\n",
       "      <td>[span id:B138 annotator:Fride layer:Instrument...</td>\n",
       "      <td>[span id:C165 annotator:Onerva layer:Instrumen...</td>\n",
       "      <td>[span id:D27 annotator:Fabian layer:Instrument...</td>\n",
       "      <td></td>\n",
       "      <td></td>\n",
       "      <td></td>\n",
       "      <td>[0.6057142857142856, 0.7770263647946682, 0.754...</td>\n",
       "      <td>[0.3448275862068966, 0.4137931034482759, 0.413...</td>\n",
       "      <td>[0.7553191489361701, 0.7765957446808509, 0.776...</td>\n",
       "      <td></td>\n",
       "    </tr>\n",
       "  </tbody>\n",
       "</table>\n",
       "</div>"
      ],
      "text/plain": [
       "                                                   Policy  \\\n",
       "EU_32018R1999_Title_0_Chapter_7_Section_3_Artic...          \n",
       "EU_32019R0631_Title_0_Chapter_0_Section_0_Artic...          \n",
       "EU_32018L2001_Title_0_Chapter_0_Section_0_Artic...          \n",
       "EU_32018R1999_Title_0_Chapter_7_Section_3_Artic...          \n",
       "EU_32018L2001_Title_0_Chapter_0_Section_0_Artic...          \n",
       "\n",
       "                                                                                                 Text  \\\n",
       "EU_32018R1999_Title_0_Chapter_7_Section_3_Artic...  article 43\\r\\nexercise of the delegation\\r\\n1....   \n",
       "EU_32019R0631_Title_0_Chapter_0_Section_0_Artic...  article 12\\r\\nreal-world co2 emissions and fue...   \n",
       "EU_32018L2001_Title_0_Chapter_0_Section_0_Artic...  article 11\\r\\njoint projects between member st...   \n",
       "EU_32018R1999_Title_0_Chapter_7_Section_3_Artic...  article 56\\r\\namendments to directive (eu) 201...   \n",
       "EU_32018L2001_Title_0_Chapter_0_Section_0_Artic...  article 3\\r\\nbinding overall union target for ...   \n",
       "\n",
       "                                                                                               Tokens  \\\n",
       "EU_32018R1999_Title_0_Chapter_7_Section_3_Artic...  [start:0 stop:7 text:article tag_count:0, star...   \n",
       "EU_32019R0631_Title_0_Chapter_0_Section_0_Artic...  [start:0 stop:7 text:article tag_count:0, star...   \n",
       "EU_32018L2001_Title_0_Chapter_0_Section_0_Artic...  [start:0 stop:7 text:article tag_count:0, star...   \n",
       "EU_32018R1999_Title_0_Chapter_7_Section_3_Artic...  [start:0 stop:7 text:article tag_count:0, star...   \n",
       "EU_32018L2001_Title_0_Chapter_0_Section_0_Artic...  [start:0 stop:7 text:article tag_count:0, star...   \n",
       "\n",
       "                                                        Article_State  \\\n",
       "EU_32018R1999_Title_0_Chapter_7_Section_3_Artic...  CURATION_FINISHED   \n",
       "EU_32019R0631_Title_0_Chapter_0_Section_0_Artic...  CURATION_FINISHED   \n",
       "EU_32018L2001_Title_0_Chapter_0_Section_0_Artic...  CURATION_FINISHED   \n",
       "EU_32018R1999_Title_0_Chapter_7_Section_3_Artic...  CURATION_FINISHED   \n",
       "EU_32018L2001_Title_0_Chapter_0_Section_0_Artic...  CURATION_FINISHED   \n",
       "\n",
       "                                                        Finished_Annotators  \\\n",
       "EU_32018R1999_Title_0_Chapter_7_Section_3_Artic...          [Alisha, Fride]   \n",
       "EU_32019R0631_Title_0_Chapter_0_Section_0_Artic...         [Onerva, Fabian]   \n",
       "EU_32018L2001_Title_0_Chapter_0_Section_0_Artic...          [Fride, Onerva]   \n",
       "EU_32018R1999_Title_0_Chapter_7_Section_3_Artic...          [Alisha, Fride]   \n",
       "EU_32018L2001_Title_0_Chapter_0_Section_0_Artic...  [Fride, Onerva, Fabian]   \n",
       "\n",
       "                                                                                             Curation  \\\n",
       "EU_32018R1999_Title_0_Chapter_7_Section_3_Artic...  [span id:CUR0 annotator:Curation layer:Instrum...   \n",
       "EU_32019R0631_Title_0_Chapter_0_Section_0_Artic...  [span id:CUR36 annotator:Curation layer:Instru...   \n",
       "EU_32018L2001_Title_0_Chapter_0_Section_0_Artic...  [span id:CUR116 annotator:Curation layer:Instr...   \n",
       "EU_32018R1999_Title_0_Chapter_7_Section_3_Artic...  [span id:CUR202 annotator:Curation layer:Polic...   \n",
       "EU_32018L2001_Title_0_Chapter_0_Section_0_Artic...  [span id:CUR211 annotator:Curation layer:Instr...   \n",
       "\n",
       "                                                                                               Alisha  \\\n",
       "EU_32018R1999_Title_0_Chapter_7_Section_3_Artic...  [span id:A1 annotator:Alisha layer:Instrumentt...   \n",
       "EU_32019R0631_Title_0_Chapter_0_Section_0_Artic...                                                      \n",
       "EU_32018L2001_Title_0_Chapter_0_Section_0_Artic...                                                      \n",
       "EU_32018R1999_Title_0_Chapter_7_Section_3_Artic...  [span id:A38 annotator:Alisha layer:Policydesi...   \n",
       "EU_32018L2001_Title_0_Chapter_0_Section_0_Artic...                                                      \n",
       "\n",
       "                                                                                                Fride  \\\n",
       "EU_32018R1999_Title_0_Chapter_7_Section_3_Artic...  [span id:B1 annotator:Fride layer:Policydesign...   \n",
       "EU_32019R0631_Title_0_Chapter_0_Section_0_Artic...                                                      \n",
       "EU_32018L2001_Title_0_Chapter_0_Section_0_Artic...  [span id:B28 annotator:Fride layer:Instrumentt...   \n",
       "EU_32018R1999_Title_0_Chapter_7_Section_3_Artic...  [span id:B129 annotator:Fride layer:Policydesi...   \n",
       "EU_32018L2001_Title_0_Chapter_0_Section_0_Artic...  [span id:B138 annotator:Fride layer:Instrument...   \n",
       "\n",
       "                                                                                               Onerva  \\\n",
       "EU_32018R1999_Title_0_Chapter_7_Section_3_Artic...                                                      \n",
       "EU_32019R0631_Title_0_Chapter_0_Section_0_Artic...  [span id:C1 annotator:Onerva layer:Instrumentt...   \n",
       "EU_32018L2001_Title_0_Chapter_0_Section_0_Artic...  [span id:C58 annotator:Onerva layer:Instrument...   \n",
       "EU_32018R1999_Title_0_Chapter_7_Section_3_Artic...                                                      \n",
       "EU_32018L2001_Title_0_Chapter_0_Section_0_Artic...  [span id:C165 annotator:Onerva layer:Instrumen...   \n",
       "\n",
       "                                                                                               Fabian  \\\n",
       "EU_32018R1999_Title_0_Chapter_7_Section_3_Artic...                                                      \n",
       "EU_32019R0631_Title_0_Chapter_0_Section_0_Artic...  [span id:D1 annotator:Fabian layer:Policydesig...   \n",
       "EU_32018L2001_Title_0_Chapter_0_Section_0_Artic...                                                      \n",
       "EU_32018R1999_Title_0_Chapter_7_Section_3_Artic...                                                      \n",
       "EU_32018L2001_Title_0_Chapter_0_Section_0_Artic...  [span id:D27 annotator:Fabian layer:Instrument...   \n",
       "\n",
       "                                                   Lynn Sebastian Joel  \\\n",
       "EU_32018R1999_Title_0_Chapter_7_Section_3_Artic...                       \n",
       "EU_32019R0631_Title_0_Chapter_0_Section_0_Artic...                       \n",
       "EU_32018L2001_Title_0_Chapter_0_Section_0_Artic...                       \n",
       "EU_32018R1999_Title_0_Chapter_7_Section_3_Artic...                       \n",
       "EU_32018L2001_Title_0_Chapter_0_Section_0_Artic...                       \n",
       "\n",
       "                                                                                   Onerva_to_curation  \\\n",
       "EU_32018R1999_Title_0_Chapter_7_Section_3_Artic...                                                      \n",
       "EU_32019R0631_Title_0_Chapter_0_Section_0_Artic...  [0.6861313868613139, 0.744307577454274, 0.7153...   \n",
       "EU_32018L2001_Title_0_Chapter_0_Section_0_Artic...  [0.6113989637305699, 0.7253886010362695, 0.725...   \n",
       "EU_32018R1999_Title_0_Chapter_7_Section_3_Artic...                                                      \n",
       "EU_32018L2001_Title_0_Chapter_0_Section_0_Artic...  [0.6057142857142856, 0.7770263647946682, 0.754...   \n",
       "\n",
       "                                                                                   Fabian_to_curation  \\\n",
       "EU_32018R1999_Title_0_Chapter_7_Section_3_Artic...                                                      \n",
       "EU_32019R0631_Title_0_Chapter_0_Section_0_Artic...  [0.2830188679245283, 0.35757575757575755, 0.32...   \n",
       "EU_32018L2001_Title_0_Chapter_0_Section_0_Artic...                                                      \n",
       "EU_32018R1999_Title_0_Chapter_7_Section_3_Artic...                                                      \n",
       "EU_32018L2001_Title_0_Chapter_0_Section_0_Artic...  [0.3448275862068966, 0.4137931034482759, 0.413...   \n",
       "\n",
       "                                                                                    Fride_to_curation  \\\n",
       "EU_32018R1999_Title_0_Chapter_7_Section_3_Artic...  [0.2222222222222222, 0.25396825396825395, 0.25...   \n",
       "EU_32019R0631_Title_0_Chapter_0_Section_0_Artic...                                                      \n",
       "EU_32018L2001_Title_0_Chapter_0_Section_0_Artic...  [0.6737967914438502, 0.6737967914438502, 0.673...   \n",
       "EU_32018R1999_Title_0_Chapter_7_Section_3_Artic...  [0.8888888888888888, 1.0, 1.0, 0.9523809523809...   \n",
       "EU_32018L2001_Title_0_Chapter_0_Section_0_Artic...  [0.7553191489361701, 0.7765957446808509, 0.776...   \n",
       "\n",
       "                                                                                   Alisha_to_curation  \n",
       "EU_32018R1999_Title_0_Chapter_7_Section_3_Artic...  [0.547945205479452, 0.6575342465753425, 0.6575...  \n",
       "EU_32019R0631_Title_0_Chapter_0_Section_0_Artic...                                                     \n",
       "EU_32018L2001_Title_0_Chapter_0_Section_0_Artic...                                                     \n",
       "EU_32018R1999_Title_0_Chapter_7_Section_3_Artic...  [0.631578947368421, 0.7368421052631577, 0.7368...  \n",
       "EU_32018L2001_Title_0_Chapter_0_Section_0_Artic...                                                     "
      ]
     },
     "execution_count": 9,
     "metadata": {},
     "output_type": "execute_result"
    }
   ],
   "source": [
    "test_evaluator.df.head()"
   ]
  },
  {
   "cell_type": "markdown",
   "metadata": {},
   "source": [
    "### Get individual score"
   ]
  },
  {
   "cell_type": "markdown",
   "metadata": {},
   "source": [
    "To retrieve the scores, im simmilar fashion to get_total_score_df, we use\n",
    "\n",
    "**get_to_curation_score(self, weight_by = 'Tokens')**\n",
    "\n",
    "This retrieves the closeness to the curation for all the annotators that participated, weighted by one of the following methods: {'no_weighting, 'Tokens', 'Spans'}\n"
   ]
  },
  {
   "cell_type": "code",
   "execution_count": 10,
   "metadata": {},
   "outputs": [
    {
     "data": {
      "text/plain": [
       "{'Onerva': {'f1_exact': 0.6732862244002309,\n",
       "  'f1_heuristic': 0.7418035160958896,\n",
       "  'f1_partial': 0.7160416942508684,\n",
       "  'f1_tokenwise': 0.6176183342356287,\n",
       "  'pygamma': 0.6398429881987473},\n",
       " 'Fabian': {'f1_exact': 0.43231750058721435,\n",
       "  'f1_heuristic': 0.5092491205438597,\n",
       "  'f1_partial': 0.49015694287418154,\n",
       "  'f1_tokenwise': 0.37760504426835484,\n",
       "  'pygamma': 0.4235659967281621},\n",
       " 'Fride': {'f1_exact': 0.6829956559202468,\n",
       "  'f1_heuristic': 0.7520213456882968,\n",
       "  'f1_partial': 0.7364141686616807,\n",
       "  'f1_tokenwise': 0.6406458629220034,\n",
       "  'pygamma': 0.6611399878435612},\n",
       " 'Alisha': {'f1_exact': 0.574676845271569,\n",
       "  'f1_heuristic': 0.6622106992758143,\n",
       "  'f1_partial': 0.6370336784394007,\n",
       "  'f1_tokenwise': 0.5344264074636121,\n",
       "  'pygamma': 0.5916188874355258}}"
      ]
     },
     "execution_count": 10,
     "metadata": {},
     "output_type": "execute_result"
    }
   ],
   "source": [
    "test_evaluator.get_to_curation_score(weight_by = 'no_weighting')"
   ]
  },
  {
   "cell_type": "code",
   "execution_count": 14,
   "metadata": {},
   "outputs": [
    {
     "data": {
      "text/plain": [
       "{'Onerva': {'f1_exact': 0.6497229248404979,\n",
       "  'f1_heuristic': 0.7155316902447743,\n",
       "  'f1_partial': 0.6926120329988612,\n",
       "  'f1_tokenwise': 0.588104303406712,\n",
       "  'pygamma': 0.6386855251789504},\n",
       " 'Fabian': {'f1_exact': 0.3884944280696229,\n",
       "  'f1_heuristic': 0.44587542344065123,\n",
       "  'f1_partial': 0.42722291795144346,\n",
       "  'f1_tokenwise': 0.3137100596814219,\n",
       "  'pygamma': 0.37423331038570085},\n",
       " 'Fride': {'f1_exact': 0.6807736554301652,\n",
       "  'f1_heuristic': 0.7406803749512647,\n",
       "  'f1_partial': 0.7273136810436603,\n",
       "  'f1_tokenwise': 0.6241358009693133,\n",
       "  'pygamma': 0.667637130288239},\n",
       " 'Alisha': {'f1_exact': 0.5475251978127618,\n",
       "  'f1_heuristic': 0.630782505115647,\n",
       "  'f1_partial': 0.6053944023319054,\n",
       "  'f1_tokenwise': 0.49672538277097095,\n",
       "  'pygamma': 0.5665791863213766}}"
      ]
     },
     "execution_count": 14,
     "metadata": {},
     "output_type": "execute_result"
    }
   ],
   "source": [
    "test_evaluator.get_to_curation_score(weight_by = 'Tokens')"
   ]
  },
  {
   "cell_type": "code",
   "execution_count": 15,
   "metadata": {},
   "outputs": [
    {
     "data": {
      "text/plain": [
       "{'Onerva': {'f1_exact': 0.6487655252174788,\n",
       "  'f1_heuristic': 0.7151208327340163,\n",
       "  'f1_partial': 0.6919092874742293,\n",
       "  'f1_tokenwise': 0.5876631656187074,\n",
       "  'pygamma': 0.6384780755513397},\n",
       " 'Fabian': {'f1_exact': 0.3859744866634834,\n",
       "  'f1_heuristic': 0.4412883241131821,\n",
       "  'f1_partial': 0.4219933146872233,\n",
       "  'f1_tokenwise': 0.30882989118106857,\n",
       "  'pygamma': 0.37047653197090646},\n",
       " 'Fride': {'f1_exact': 0.6829841040462425,\n",
       "  'f1_heuristic': 0.7434392410812806,\n",
       "  'f1_partial': 0.7295881502890171,\n",
       "  'f1_tokenwise': 0.6268153336863214,\n",
       "  'pygamma': 0.670798321876068},\n",
       " 'Alisha': {'f1_exact': 0.5462982718156604,\n",
       "  'f1_heuristic': 0.6314991627071533,\n",
       "  'f1_partial': 0.6046511627906977,\n",
       "  'f1_tokenwise': 0.4947175134484899,\n",
       "  'pygamma': 0.5649313770725863}}"
      ]
     },
     "execution_count": 15,
     "metadata": {},
     "output_type": "execute_result"
    }
   ],
   "source": [
    "test_evaluator.get_to_curation_score(weight_by = 'Spans')"
   ]
  },
  {
   "cell_type": "markdown",
   "metadata": {},
   "source": [
    "### Get Total score"
   ]
  },
  {
   "cell_type": "markdown",
   "metadata": {},
   "source": [
    "To retireve the total scloseness to the curation score, we use\n",
    "\n",
    "**get_to_curation_score_total(self, weight_by = 'Tokens')**\n",
    "\n",
    "For each article, we take an average of the annotator-curation scores (For all the finsihed annotators). To get the total average, all the individual article averages are weighted by one of the following methods: {'no_weighting, 'Tokens', 'Spans'}\n"
   ]
  },
  {
   "cell_type": "code",
   "execution_count": 16,
   "metadata": {},
   "outputs": [
    {
     "data": {
      "text/plain": [
       "{'f1_exact': 0.5988896876960187,\n",
       " 'f1_heuristic': 0.6738591198644103,\n",
       " 'f1_partial': 0.65271203543617,\n",
       " 'f1_tokenwise': 0.5511128608780697,\n",
       " 'pygamma': 0.5867342441185952}"
      ]
     },
     "execution_count": 16,
     "metadata": {},
     "output_type": "execute_result"
    }
   ],
   "source": [
    "test_evaluator.get_to_curation_score_total(weight_by = 'no_weighting')"
   ]
  },
  {
   "cell_type": "code",
   "execution_count": 17,
   "metadata": {},
   "outputs": [
    {
     "data": {
      "text/plain": [
       "{'f1_exact': 0.5720544815512948,\n",
       " 'f1_heuristic': 0.6385253916986301,\n",
       " 'f1_partial': 0.6185247079726235,\n",
       " 'f1_tokenwise': 0.5114731630019173,\n",
       " 'pygamma': 0.5674438643944388}"
      ]
     },
     "execution_count": 17,
     "metadata": {},
     "output_type": "execute_result"
    }
   ],
   "source": [
    "test_evaluator.get_to_curation_score_total(weight_by = 'Tokens')"
   ]
  },
  {
   "cell_type": "code",
   "execution_count": 18,
   "metadata": {},
   "outputs": [
    {
     "data": {
      "text/plain": [
       "{'f1_exact': 0.5742673921447767,\n",
       " 'f1_heuristic': 0.6417420284651623,\n",
       " 'f1_partial': 0.6211169455066855,\n",
       " 'f1_tokenwise': 0.5134787912374995,\n",
       " 'pygamma': 0.5694765988845216}"
      ]
     },
     "execution_count": 18,
     "metadata": {},
     "output_type": "execute_result"
    }
   ],
   "source": [
    "test_evaluator.get_to_curation_score_total(weight_by = 'Spans')"
   ]
  },
  {
   "cell_type": "markdown",
   "metadata": {},
   "source": [
    "# Compare Inter Annotator Agreeement with and without dissimilarity matrices"
   ]
  },
  {
   "cell_type": "markdown",
   "metadata": {},
   "source": [
    "In this section, we elaborate the difference of dissimilarity matrices. First we calculate the pygama score without specifying any matrix, so all the missmatches are penalized equaly == 1"
   ]
  },
  {
   "cell_type": "code",
   "execution_count": 21,
   "metadata": {},
   "outputs": [
    {
     "name": "stderr",
     "output_type": "stream",
     "text": [
      "100%|██████████| 412/412 [05:52<00:00,  1.17it/s]  \n"
     ]
    },
    {
     "data": {
      "text/plain": [
       "{'pygamma_score': 0.38221583739383}"
      ]
     },
     "execution_count": 21,
     "metadata": {},
     "output_type": "execute_result"
    }
   ],
   "source": [
    "#without matrix\n",
    "test_evaluator = Inter_Annotator_Agreement(stat_df)\n",
    "test_evaluator.keep_only_finished_articles()\n",
    "scoring_metrics = ['pygamma']\n",
    "test_evaluator.append_total_score_per_article(scoring_metrics = 'pygamma')\n",
    "test_evaluator.get_total_score_df(weight_by='Spans')\n"
   ]
  },
  {
   "cell_type": "markdown",
   "metadata": {},
   "source": [
    "Now we create a dissimilarity matrix that penalizes missmatches in the same tagset less == 0.5"
   ]
  },
  {
   "cell_type": "code",
   "execution_count": 22,
   "metadata": {},
   "outputs": [
    {
     "name": "stderr",
     "output_type": "stream",
     "text": [
      "100%|██████████| 412/412 [05:20<00:00,  1.28it/s]  \n"
     ]
    },
    {
     "data": {
      "text/plain": [
       "{'pygamma_score': 0.44427801517119536}"
      ]
     },
     "execution_count": 22,
     "metadata": {},
     "output_type": "execute_result"
    }
   ],
   "source": [
    "#create a matrix that penalizes missmatches inside tagset less\n",
    "category_list, cat_dissimilarity_matrix = create_scoring_matrix(os.path.join(ROOT_DIR,'src/experiment_utils/tag_set.json'),  soft_tagset_dissimilarity = True, soft_layer_dissimilarity = False)\n",
    "\n",
    "test_evaluator_tagset = Inter_Annotator_Agreement(stat_df)\n",
    "test_evaluator_tagset.keep_only_finished_articles()\n",
    "scoring_metrics = ['pygamma']\n",
    "test_evaluator_tagset.append_total_score_per_article(scoring_metrics = 'pygamma', category_list = category_list, cat_dissimilarity_matrix = cat_dissimilarity_matrix)\n",
    "\n",
    "test_evaluator_tagset.get_total_score_df(weight_by='Spans')\n"
   ]
  },
  {
   "cell_type": "markdown",
   "metadata": {},
   "source": [
    "Now we create a dissimilarity matrix that penalizes missmatches in the same layer less == 0.5"
   ]
  },
  {
   "cell_type": "code",
   "execution_count": 23,
   "metadata": {},
   "outputs": [
    {
     "name": "stderr",
     "output_type": "stream",
     "text": [
      "100%|██████████| 412/412 [05:02<00:00,  1.36it/s]  \n"
     ]
    },
    {
     "data": {
      "text/plain": [
       "{'pygamma_score': 0.4479737387388157}"
      ]
     },
     "execution_count": 23,
     "metadata": {},
     "output_type": "execute_result"
    }
   ],
   "source": [
    "#create a matrix that penalizes missmatches inside layer less\n",
    "category_list, cat_dissimilarity_matrix = create_scoring_matrix(os.path.join(ROOT_DIR,'src/experiment_utils/tag_set.json'),  soft_tagset_dissimilarity = False, soft_layer_dissimilarity = True)\n",
    "\n",
    "test_evaluator_layer = Inter_Annotator_Agreement(stat_df)\n",
    "test_evaluator_layer.keep_only_finished_articles()\n",
    "scoring_metrics = ['pygamma']\n",
    "test_evaluator_layer.append_total_score_per_article(scoring_metrics = 'pygamma', category_list = category_list, cat_dissimilarity_matrix = cat_dissimilarity_matrix)\n",
    "\n",
    "test_evaluator_layer.get_total_score_df(weight_by='Spans')"
   ]
  },
  {
   "cell_type": "markdown",
   "metadata": {},
   "source": [
    "# Check scores in different categories"
   ]
  },
  {
   "cell_type": "code",
   "execution_count": 23,
   "metadata": {},
   "outputs": [
    {
     "name": "stdout",
     "output_type": "stream",
     "text": [
      "layer: Technologyandapplicationspecificity, len of spanlist: 9799, score: 0.4908132839825293\n",
      "layer: Policydesigncharacteristics, len of spanlist: 18660, score: 0.5151334014516284\n",
      "layer: Instrumenttypes, len of spanlist: 5548, score: 0.4792674619854277\n"
     ]
    }
   ],
   "source": [
    "layers = ['Technologyandapplicationspecificity', 'Policydesigncharacteristics', 'Instrumenttypes' ]\n",
    "repo = repository()\n",
    "\n",
    "for l in layers:\n",
    "    span_list, score = test_evaluator.get_score_spanlist(conditional_rep = repo, annotators = 'annotators' , item = 'layer', value = l,scoring_metric = 'f1_heuristic', weight_by = 'Spans')\n",
    "    print(f\"layer: {l}, len of spanlist: {len(span_list)}, score: {score}\")\n",
    "    "
   ]
  },
  {
   "cell_type": "markdown",
   "metadata": {},
   "source": [
    "# Small Test"
   ]
  },
  {
   "cell_type": "markdown",
   "metadata": {},
   "source": [
    "To thest if get_score_spanlist indeed yields the same result as get_total_score_df, we calculate the individual scores for all the categories, weight them by the \n",
    "number of spans per categorie, this should then yield the total score weighted by spans. Note that we got the scores with two separate mehtods, they are indentical however.\n",
    "The very small difference is a difference of normalization, since we calculated indiviual scores for all categories."
   ]
  },
  {
   "cell_type": "code",
   "execution_count": 44,
   "metadata": {},
   "outputs": [
    {
     "name": "stdout",
     "output_type": "stream",
     "text": [
      "layer: Technologyandapplicationspecificity, len of spanlist: 9799, score: 0.4908132839825293\n",
      "layer: Policydesigncharacteristics, len of spanlist: 18660, score: 0.5151334014516284\n",
      "layer: Instrumenttypes, len of spanlist: 5548, score: 0.4792674619854277\n"
     ]
    },
    {
     "data": {
      "text/plain": [
       "0.5022743705686283"
      ]
     },
     "execution_count": 44,
     "metadata": {},
     "output_type": "execute_result"
    }
   ],
   "source": [
    "layers = ['Technologyandapplicationspecificity', 'Policydesigncharacteristics', 'Instrumenttypes' ]\n",
    "repo = repository()\n",
    "score_tot = 0\n",
    "spans = 0\n",
    "for l in layers:\n",
    "    span_list, score = test_evaluator.get_score_spanlist(conditional_rep = repo, annotators = 'annotators' , item = 'layer', value = l,scoring_metric = 'f1_heuristic', weight_by = 'Spans')\n",
    "    print(f\"layer: {l}, len of spanlist: {len(span_list)}, score: {score}\")\n",
    "    score_tot += len(span_list)*score\n",
    "    spans += len(span_list)\n",
    "score_tot/spans"
   ]
  },
  {
   "cell_type": "code",
   "execution_count": 45,
   "metadata": {},
   "outputs": [
    {
     "data": {
      "text/plain": [
       "{'f1_heuristic_score': 0.5028562323485702}"
      ]
     },
     "execution_count": 45,
     "metadata": {},
     "output_type": "execute_result"
    }
   ],
   "source": [
    "test_evaluator.append_total_score_per_article(scoring_metrics = 'f1_heuristic')\n",
    "test_evaluator.get_total_score_df(weight_by = 'Spans')"
   ]
  },
  {
   "cell_type": "code",
   "execution_count": null,
   "metadata": {},
   "outputs": [],
   "source": []
  }
 ],
 "metadata": {
  "interpreter": {
   "hash": "f1357e5d6940800ae93a3fd23162ea93a77a6c89f02c68504dcfa719d1ffeee2"
  },
  "kernelspec": {
   "display_name": "Python [conda env:miniconda3-nlp_spark]",
   "language": "python",
   "name": "conda-env-miniconda3-nlp_spark-py"
  },
  "language_info": {
   "codemirror_mode": {
    "name": "ipython",
    "version": 3
   },
   "file_extension": ".py",
   "mimetype": "text/x-python",
   "name": "python",
   "nbconvert_exporter": "python",
   "pygments_lexer": "ipython3",
   "version": "3.7.10"
  }
 },
 "nbformat": 4,
 "nbformat_minor": 4
}
